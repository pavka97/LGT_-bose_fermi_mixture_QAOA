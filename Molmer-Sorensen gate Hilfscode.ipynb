{
 "cells": [
  {
   "cell_type": "code",
   "execution_count": 3,
   "id": "fe88843b",
   "metadata": {},
   "outputs": [],
   "source": [
    "import scipy         \n",
    "from scipy.linalg import expm\n",
    "import scipy.sparse as sparse\n",
    "import numpy as np # general math functions\n",
    "import matplotlib.pyplot as plt # plotting library\n",
    "from quspin.operators import hamiltonian, commutator, exp_op # Hamiltonians and operators\n",
    "from quspin.basis import tensor_basis, spin_basis_1d # bases"
   ]
  },
  {
   "cell_type": "code",
   "execution_count": 4,
   "id": "415a42cf",
   "metadata": {},
   "outputs": [],
   "source": [
    "L = 5 #system size\n",
    "M = 0.1 #fermion mass\n",
    "N=4 #number of layers\n",
    "l=1 #spin length"
   ]
  },
  {
   "cell_type": "code",
   "execution_count": 15,
   "id": "99d1580f",
   "metadata": {},
   "outputs": [
    {
     "name": "stdout",
     "output_type": "stream",
     "text": [
      "reference states: \n",
      "array index   /   Fock state   /   integer repr. \n",
      "     0.         |2 2>           8  \n",
      "     1.         |2 1>           7  \n",
      "     2.         |2 0>           6  \n",
      "     3.         |1 2>           5  \n",
      "     4.         |1 1>           4  \n",
      "     5.         |1 0>           3  \n",
      "     6.         |0 2>           2  \n",
      "     7.         |0 1>           1  \n",
      "     8.         |0 0>           0  \n"
     ]
    }
   ],
   "source": [
    "basis=spin_basis_1d(L=L,S = str(l))\n",
    "basis_2qudits = spin_basis_1d(L=2,S = str(l))\n",
    "print(basis_2qudits)"
   ]
  },
  {
   "cell_type": "code",
   "execution_count": 28,
   "id": "f000e418",
   "metadata": {},
   "outputs": [
    {
     "name": "stdout",
     "output_type": "stream",
     "text": [
      "|2 1>\n"
     ]
    }
   ],
   "source": [
    "print(basis_2qudits.int_to_state(basis.Ns-1-1))"
   ]
  },
  {
   "cell_type": "code",
   "execution_count": 34,
   "id": "5cf65f8d",
   "metadata": {},
   "outputs": [
    {
     "name": "stdout",
     "output_type": "stream",
     "text": [
      "|2 2>\n",
      "[0.96592583-0.25881905j 0.        +0.j         0.        +0.j\n",
      " 0.        +0.j         0.        +0.j         0.        +0.j\n",
      " 0.        +0.j         0.        +0.j         0.        +0.j        ]\n",
      "|2 1>\n",
      "[0.        +0.j         0.96592583-0.25881905j 0.        +0.j\n",
      " 0.        +0.j         0.        +0.j         0.        +0.j\n",
      " 0.        +0.j         0.        +0.j         0.        +0.j        ]\n",
      "|2 0>\n",
      "[0.        +0.j         0.        +0.j         0.96592583-0.25881905j\n",
      " 0.        +0.j         0.        +0.j         0.        +0.j\n",
      " 0.        +0.j         0.        +0.j         0.        +0.j        ]\n",
      "|1 2>\n",
      "[0.        +0.j         0.        +0.j         0.        +0.j\n",
      " 0.96592583-0.25881905j 0.        +0.j         0.        +0.j\n",
      " 0.        +0.j         0.        +0.j         0.        +0.j        ]\n",
      "|1 1>\n",
      "[0.        +0.j         0.        +0.j         0.        +0.j\n",
      " 0.        +0.j         0.96592583-0.25881905j 0.        +0.j\n",
      " 0.        +0.j         0.        +0.j         0.        +0.j        ]\n",
      "|1 0>\n",
      "[0.        +0.j         0.        +0.j         0.        +0.j\n",
      " 0.        +0.j         0.        +0.j         0.96592583-0.25881905j\n",
      " 0.        +0.j         0.        +0.j         0.        +0.j        ]\n",
      "|0 2>\n",
      "[0.+0.j 0.+0.j 0.+0.j 0.+0.j 0.+0.j 0.+0.j 1.+0.j 0.+0.j 0.+0.j]\n",
      "|0 1>\n",
      "[0.+0.j 0.+0.j 0.+0.j 0.+0.j 0.+0.j 0.+0.j 0.+0.j 1.+0.j 0.+0.j]\n",
      "|0 0>\n",
      "[0.+0.j 0.+0.j 0.+0.j 0.+0.j 0.+0.j 0.+0.j 0.+0.j 0.+0.j 1.+0.j]\n",
      "0.9659258262890683\n"
     ]
    }
   ],
   "source": [
    "def id_id(i,j,theta):\n",
    "\n",
    "    identity = np.zeros((2*l+1,2*l+1),dtype = complex)\n",
    "    identity[2*l-i][2*l-i] = 1.\n",
    "    identity[2*l-j][2*l-j] = 1.\n",
    "    identity = sparse.csc_matrix(identity)\n",
    "    \n",
    "    identity_2 = sparse.identity(2*l+1)\n",
    "    id_id = scipy.sparse.kron(identity,identity_2)\n",
    "    rot_matrix = expm(-1j*theta*id_id/4)\n",
    "    \n",
    "    return rot_matrix\n",
    "\n",
    "psi = np.zeros(basis_2qudits.Ns)\n",
    "\n",
    "for i in range(basis_2qudits.Ns):\n",
    "    psi[i] = 1.\n",
    "    print(basis_2qudits.int_to_state(basis.Ns-1-i))\n",
    "    print(id_id(1,2,np.pi/3)@psi)\n",
    "    psi[i] = 0.\n",
    "print(np.cos(np.pi/12))"
   ]
  },
  {
   "cell_type": "code",
   "execution_count": 37,
   "id": "741fc3a9",
   "metadata": {},
   "outputs": [
    {
     "name": "stdout",
     "output_type": "stream",
     "text": [
      "[[1.+0.j 0.+0.j 0.+0.j]\n",
      " [0.+0.j 1.+0.j 0.+0.j]\n",
      " [0.+0.j 0.+0.j 0.+0.j]]\n"
     ]
    }
   ],
   "source": [
    "phi = 0\n",
    "i = 1\n",
    "j = 2\n",
    "sigma = np.zeros((2*l+1,2*l+1),dtype = complex)\n",
    "sigma[2*l-i][2*l-j] = 1.*(np.cos(phi)+1j*np.sin(phi))\n",
    "sigma[2*l-j][2*l-i] = 1.*(np.cos(phi)-1j*np.sin(phi))\n",
    "print(sigma@sigma)"
   ]
  },
  {
   "cell_type": "code",
   "execution_count": 38,
   "id": "d1917e39",
   "metadata": {},
   "outputs": [
    {
     "name": "stdout",
     "output_type": "stream",
     "text": [
      "  (0, 0)\t(1+0j)\n",
      "  (1, 0)\t(1+0j)\n",
      "  (0, 1)\t(1+0j)\n",
      "  (1, 1)\t(1+0j)\n"
     ]
    }
   ],
   "source": [
    "identity = np.zeros((2*l+1,2*l+1),dtype = complex)\n",
    "identity[2*l-i][2*l-i] = 1.\n",
    "identity[2*l-j][2*l-j] = 1.\n",
    "identity = sparse.csc_matrix(identity)\n",
    "\n",
    "sigma = np.zeros((2*l+1,2*l+1),dtype = complex)\n",
    "sigma[2*l-i][2*l-j] = 1.\n",
    "sigma[2*l-j][2*l-i] = 1.\n",
    "sigma = sparse.csc_matrix(sigma)\n",
    "\n",
    "print(sigma+identity)"
   ]
  },
  {
   "cell_type": "code",
   "execution_count": 82,
   "id": "2fb3b29b",
   "metadata": {},
   "outputs": [
    {
     "name": "stdout",
     "output_type": "stream",
     "text": [
      "['|', '1', ' ', '2', '>']\n",
      "['|', '2', ' ', '1', '>']\n",
      "21\n",
      "1\n"
     ]
    }
   ],
   "source": [
    "m,n = 0,1\n",
    "sigma_sigma = sparse.csr_matrix(basis_2qudits.Ns)\n",
    "for i in range(basis_2qudits.Ns):\n",
    "    if (basis_2qudits.int_to_state(basis_2qudits.Ns-i-1)[2*m+1] == \"1\") & ((basis_2qudits.int_to_state(basis_2qudits.Ns-i-1)[2*n+1] == \"2\")):\n",
    "        string = list(basis_2qudits.int_to_state(basis_2qudits.Ns-i-1))\n",
    "        print(string)\n",
    "        string[2*m+1],string[2*n+1] = \"2\",\"1\"\n",
    "        print(string)\n",
    "        string = \"\".join(string)\n",
    "        string = string.replace(\" \", \"\")\n",
    "        string = string.replace(\"|\",\"\")\n",
    "        string = string.replace(\">\", \"\")\n",
    "        print(string)\n",
    "        #sigma_sigma[basis_2qudits.Ns-1-basis_2qudits.state_to_int(string),i]  = -1j*np.sin(np.pi/3/2)\n",
    "        print(basis_2qudits.Ns-1-basis_2qudits.state_to_int(string))"
   ]
  },
  {
   "cell_type": "code",
   "execution_count": 77,
   "id": "a1e07c89",
   "metadata": {},
   "outputs": [
    {
     "name": "stdout",
     "output_type": "stream",
     "text": [
      "|1 2 0 2 1 0 0 2 0 1 2 0 1 2 0>\n",
      "1 2 0 2 1 0 0 2 0 1 2 0 1 2 0>\n"
     ]
    }
   ],
   "source": [
    "string = \"|1 2 0 2 1 0 0 2 0 1 2 0 1 2 0>\"\n",
    "print(string)\n",
    "string = string.replace(\"|\", \"\")\n",
    "string = string.replace\n",
    "print(string)"
   ]
  },
  {
   "cell_type": "code",
   "execution_count": null,
   "id": "bf5a04b4",
   "metadata": {},
   "outputs": [],
   "source": []
  }
 ],
 "metadata": {
  "kernelspec": {
   "display_name": "Python 3",
   "language": "python",
   "name": "python3"
  },
  "language_info": {
   "codemirror_mode": {
    "name": "ipython",
    "version": 3
   },
   "file_extension": ".py",
   "mimetype": "text/x-python",
   "name": "python",
   "nbconvert_exporter": "python",
   "pygments_lexer": "ipython3",
   "version": "3.8.8"
  }
 },
 "nbformat": 4,
 "nbformat_minor": 5
}
