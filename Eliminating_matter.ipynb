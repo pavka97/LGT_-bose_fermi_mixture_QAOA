{
 "cells": [
  {
   "cell_type": "code",
   "execution_count": 218,
   "id": "86d8cc9e",
   "metadata": {},
   "outputs": [],
   "source": [
    "from __future__ import print_function, division\n",
    "import sys,os\n",
    "# line 4 and line 5 below are for development purposes and can be removed\n",
    "qspin_path = os.path.join(os.getcwd(),\"../../\")\n",
    "sys.path.insert(0,qspin_path)\n",
    "from scipy.linalg import expm\n",
    "from quspin.operators import hamiltonian, commutator, exp_op # Hamiltonians and operators\n",
    "from quspin.basis import tensor_basis, spin_basis_1d # bases\n",
    "from quspin.tools.measurements import obs_vs_time # calculating dynamics\n",
    "from quspin.tools.Floquet import Floquet_t_vec # period-spaced time vector\n",
    "import numpy as np # general math functions\n",
    "import matplotlib.pyplot as plt # plotting library"
   ]
  },
  {
   "cell_type": "code",
   "execution_count": 219,
   "id": "a3b5bfc8",
   "metadata": {},
   "outputs": [],
   "source": [
    "L = 3\n",
    "M = 0.1\n",
    "l=1\n",
    "no_checks = dict(check_pcon=False,check_symm=False,check_herm=False)\n"
   ]
  },
  {
   "cell_type": "code",
   "execution_count": 220,
   "id": "81fe58e3",
   "metadata": {},
   "outputs": [
    {
     "name": "stdout",
     "output_type": "stream",
     "text": [
      "reference states: \n",
      "array index   /   Fock state   /   integer repr. \n",
      "      0.         |2 2 2>           26  \n",
      "      1.         |2 2 1>           25  \n",
      "      2.         |2 2 0>           24  \n",
      "      3.         |2 1 2>           23  \n",
      "      4.         |2 1 1>           22  \n",
      "      5.         |2 1 0>           21  \n",
      "      6.         |2 0 2>           20  \n",
      "      7.         |2 0 1>           19  \n",
      "      8.         |2 0 0>           18  \n",
      "      9.         |1 2 2>           17  \n",
      "     10.         |1 2 1>           16  \n",
      "     11.         |1 2 0>           15  \n",
      "     12.         |1 1 2>           14  \n",
      "     13.         |1 1 1>           13  \n",
      "     14.         |1 1 0>           12  \n",
      "     15.         |1 0 2>           11  \n",
      "     16.         |1 0 1>           10  \n",
      "     17.         |1 0 0>            9  \n",
      "     18.         |0 2 2>            8  \n",
      "     19.         |0 2 1>            7  \n",
      "     20.         |0 2 0>            6  \n",
      "     21.         |0 1 2>            5  \n",
      "     22.         |0 1 1>            4  \n",
      "     23.         |0 1 0>            3  \n",
      "     24.         |0 0 2>            2  \n",
      "     25.         |0 0 1>            1  \n",
      "     26.         |0 0 0>            0  \n"
     ]
    }
   ],
   "source": [
    "basis=spin_basis_1d(L=L,S = str(l))\n",
    "print(basis)"
   ]
  },
  {
   "cell_type": "code",
   "execution_count": 221,
   "id": "5be4cc60",
   "metadata": {},
   "outputs": [],
   "source": [
    "basis_vectors = []\n",
    "for index in range(basis.Ns):\n",
    "    state = np.zeros(basis.Ns)\n",
    "    state[basis.Ns-index-1] = 1.\n",
    "    state = state.tolist()\n",
    "    basis_vectors.append(state)"
   ]
  },
  {
   "cell_type": "code",
   "execution_count": 222,
   "id": "0e69bd4d",
   "metadata": {},
   "outputs": [],
   "source": [
    "#Gauss_law_0\n",
    "\n",
    "gauss_law_z_0 = []\n",
    "gauss_law_z_0.append([1.,0])\n",
    "\n",
    "gauss_law_0_map = [\n",
    "    \n",
    "    [\"z\",gauss_law_z_0]\n",
    "\n",
    "    \n",
    "]\n",
    "\n",
    "Gauss_law_0  = hamiltonian(gauss_law_0_map,dynamic_list=[],basis=basis,**no_checks)"
   ]
  },
  {
   "cell_type": "code",
   "execution_count": 223,
   "id": "bd88271a",
   "metadata": {},
   "outputs": [],
   "source": [
    "Proj_10 = 0\n",
    "for state in basis_vectors:\n",
    "    state = np.array(state)\n",
    "    if (Gauss_law_0.expt_value(state)>=1.-1e-8) & (Gauss_law_0.expt_value(state)<=1.+1e-8):\n",
    "        Proj_10 += np.outer(state,state)"
   ]
  },
  {
   "cell_type": "code",
   "execution_count": 224,
   "id": "0eabeb79",
   "metadata": {},
   "outputs": [],
   "source": [
    "#Gauss_law_1\n",
    "gauss_law_zm_1 = []\n",
    "gauss_law_zm_1.append([-1.,0])\n",
    "\n",
    "gauss_law_z_1 = []\n",
    "gauss_law_z_1.append([1.,1])\n",
    "\n",
    "gauss_law_id_1 = [[1.,1]]\n",
    "\n",
    "gauss_law_1_map = [\n",
    "    \n",
    "    [\"z\",gauss_law_z_1],\n",
    "    [\"z\",gauss_law_zm_1],\n",
    "    [\"I\",gauss_law_id_1]\n",
    "    \n",
    "]\n",
    "\n",
    "Gauss_law_1  = hamiltonian(gauss_law_1_map,dynamic_list=[],basis=basis,**no_checks)"
   ]
  },
  {
   "cell_type": "code",
   "execution_count": 225,
   "id": "7f1450a7",
   "metadata": {},
   "outputs": [],
   "source": [
    "Proj_01 = 0\n",
    "Proj_11 = 0\n",
    "for state in basis_vectors:\n",
    "    state = np.array(state)\n",
    "    if (Gauss_law_1.expt_value(state)>=0.-1e-8) & (Gauss_law_1.expt_value(state)<=0.+1e-8):\n",
    "        Proj_01 += np.outer(state,state)\n",
    "    if (Gauss_law_1.expt_value(state)>=1.-1e-8) & (Gauss_law_1.expt_value(state)<=1.+1e-8):\n",
    "        Proj_11 += np.outer(state,state)"
   ]
  },
  {
   "cell_type": "code",
   "execution_count": 226,
   "id": "96137785",
   "metadata": {},
   "outputs": [],
   "source": [
    "#Gauss_law_2\n",
    "gauss_law_zm_2 = []\n",
    "gauss_law_zm_2.append([-1.,1])\n",
    "\n",
    "gauss_law_z_2 = []\n",
    "gauss_law_z_2.append([1.,2])\n",
    "\n",
    "\n",
    "gauss_law_2_map = [\n",
    "    \n",
    "    [\"z\",gauss_law_z_2],\n",
    "    [\"z\",gauss_law_zm_2],\n",
    "    \n",
    "]\n",
    "\n",
    "Gauss_law_2  = hamiltonian(gauss_law_2_map,dynamic_list=[],basis=basis,**no_checks)"
   ]
  },
  {
   "cell_type": "code",
   "execution_count": 227,
   "id": "a739bf71",
   "metadata": {},
   "outputs": [],
   "source": [
    "Proj_02 = 0\n",
    "Proj_12 = 0\n",
    "for state in basis_vectors:\n",
    "    state = np.array(state)\n",
    "    if (Gauss_law_2.expt_value(state)>=0.-1e-8) & (Gauss_law_2.expt_value(state)<=0.+1e-8):\n",
    "        Proj_02 += np.outer(state,state)\n",
    "    if (Gauss_law_2.expt_value(state)>=1.-1e-8) & (Gauss_law_2.expt_value(state)<=1.+1e-8):\n",
    "        Proj_12 += np.outer(state,state)"
   ]
  },
  {
   "cell_type": "code",
   "execution_count": 228,
   "id": "97e87244",
   "metadata": {},
   "outputs": [],
   "source": [
    "#Gauss_law_3\n",
    "\n",
    "gauss_law_z_3 = []\n",
    "gauss_law_z_3.append([-1.,2])\n",
    "\n",
    "gauss_law_id_3 = [[1.,2]]\n",
    "\n",
    "gauss_law_3_map = [\n",
    "    \n",
    "    [\"z\",gauss_law_z_3],\n",
    "    [\"I\",gauss_law_id_3]\n",
    "\n",
    "    \n",
    "]\n",
    "\n",
    "Gauss_law_3  = hamiltonian(gauss_law_3_map,dynamic_list=[],basis=basis,**no_checks)"
   ]
  },
  {
   "cell_type": "code",
   "execution_count": 229,
   "id": "abae5eb3",
   "metadata": {},
   "outputs": [],
   "source": [
    "Proj_03 = 0\n",
    "for state in basis_vectors:\n",
    "    state = np.array(state)\n",
    "    if (Gauss_law_3.expt_value(state)>=0.-1e-8) & (Gauss_law_3.expt_value(state)<=0.+1e-8):\n",
    "        Proj_03 += np.outer(state,state)\n"
   ]
  },
  {
   "cell_type": "code",
   "execution_count": 236,
   "id": "27e0bf1e",
   "metadata": {},
   "outputs": [],
   "source": [
    "quadratic_term_0 = [[2./np.sqrt(2),0,1]]\n",
    "linear_term_0 = [[1./np.sqrt(2),0]]\n",
    "\n",
    "linear_term_1 = [[-1./np.sqrt(2),1]]\n",
    "\n",
    "\n",
    "linear_term_2 = [[1./np.sqrt(2),2]]\n",
    "\n",
    "kin_energy = [[0.5,i,i] for i in range(L)]\n",
    "mass_term = []\n",
    "mass_term.append([2*M,0])\n",
    "mass_term.append([-2*M,1])\n",
    "mass_term.append([2*M,2])\n",
    "\n",
    "kin_mass_map = [\n",
    "            [\"zz\", kin_energy], \n",
    "            [\"z\", mass_term], \n",
    "]\n",
    "\n",
    "interaction_map_p0 = [\n",
    "    \n",
    "    [\"+z\", quadratic_term_0],\n",
    "    [\"+\", linear_term_0]\n",
    "]\n",
    "\n",
    "interaction_map_m0 = [\n",
    "    \n",
    "    [\"-z\", quadratic_term_0],\n",
    "    [\"-\", linear_term_0]\n",
    "]\n",
    "\n",
    "interaction_map_p1 = [\n",
    "    \n",
    "    [\"+\", linear_term_1]\n",
    "]\n",
    "\n",
    "interaction_map_m1 = [\n",
    "    \n",
    "    [\"-\", linear_term_1]\n",
    "]\n",
    "\n",
    "\n",
    "interaction_map_p2 = [\n",
    "    \n",
    "    [\"+\", linear_term_2]\n",
    "]\n",
    "\n",
    "interaction_map_m2 = [\n",
    "    \n",
    "    [\"-\", linear_term_2]\n",
    "]\n",
    "\n",
    "\n",
    "\n",
    "H_int_p0 = hamiltonian(interaction_map_p0,dynamic_list=[],basis=basis,**no_checks)\n",
    "H_int_m0 = hamiltonian(interaction_map_m0,dynamic_list=[],basis=basis,**no_checks)\n",
    "\n",
    "H_int_p1 = hamiltonian(interaction_map_p1,dynamic_list=[],basis=basis,**no_checks)\n",
    "H_int_m1 = hamiltonian(interaction_map_m1,dynamic_list=[],basis=basis,**no_checks)\n",
    "\n",
    "H_int_p2 = hamiltonian(interaction_map_p2,dynamic_list=[],basis=basis,**no_checks)\n",
    "H_int_m2 = hamiltonian(interaction_map_m2,dynamic_list=[],basis=basis,**no_checks)\n",
    "\n",
    "H_kin_mass = hamiltonian(kin_mass_map,dynamic_list=[],basis=basis,**no_checks)\n",
    "\n",
    "h_int_p0 = H_int_p0.toarray()\n",
    "h_int_m0 = H_int_m0.toarray()\n",
    "\n",
    "h_int_p1 = H_int_p1.toarray()\n",
    "h_int_m1 = H_int_m1.toarray()\n",
    "\n",
    "h_int_p2 = H_int_p2.toarray()\n",
    "h_int_m2 = H_int_m2.toarray()\n",
    "\n",
    "h_kin_mass = H_kin_mass.toarray()\n",
    "\n",
    "h_int_0 = Proj_10 @ h_int_p0 @ Proj_01 + Proj_01 @ h_int_m0 @ Proj_10\n",
    "h_int_1 = Proj_11 @ h_int_p1 @ Proj_02 + Proj_02 @ h_int_m1 @ Proj_11\n",
    "h_int_2 = Proj_12 @ h_int_p2 @ Proj_03 + Proj_03 @ h_int_m2 @ Proj_12\n",
    "\n",
    "h_int = h_int_0+h_int_1+h_int_2\n",
    "\n",
    "full_ham_matrix = h_kin_mass + h_int\n",
    "\n",
    "Ham_full = H_kin_mass + H_int_p0 + H_int_m0 + H_int_p1 + H_int_m1 + H_int_p2 + H_int_m2"
   ]
  },
  {
   "cell_type": "code",
   "execution_count": 237,
   "id": "6f2319a0",
   "metadata": {},
   "outputs": [],
   "source": [
    "def check_hermitian(a, rtol=1e-10, atol=1e-10):\n",
    "    return np.allclose(a, a.conj().T, rtol=rtol, atol=atol)"
   ]
  },
  {
   "cell_type": "code",
   "execution_count": 238,
   "id": "93c6cca5",
   "metadata": {},
   "outputs": [
    {
     "name": "stdout",
     "output_type": "stream",
     "text": [
      "True\n"
     ]
    }
   ],
   "source": [
    "print(check_hermitian(full_ham_matrix))"
   ]
  },
  {
   "cell_type": "code",
   "execution_count": 239,
   "id": "634de515",
   "metadata": {},
   "outputs": [],
   "source": [
    "eigenval,eigenvec = np.linalg.eigh(full_ham_matrix)"
   ]
  },
  {
   "cell_type": "code",
   "execution_count": 240,
   "id": "ddbe1c63",
   "metadata": {},
   "outputs": [
    {
     "name": "stdout",
     "output_type": "stream",
     "text": [
      "[-0.57797338 -0.16118742 -0.00948101  0.          0.3         0.3\n",
      "  0.6         0.6         0.6         0.69051899  0.7         0.9\n",
      "  1.          1.          1.          1.          1.          1.3\n",
      "  1.3         1.3         1.4         1.7         1.7         1.86118742\n",
      "  2.10948101  2.57797338  2.80948101]\n"
     ]
    }
   ],
   "source": [
    "print(eigenval)"
   ]
  },
  {
   "cell_type": "code",
   "execution_count": 235,
   "id": "eda7f9e4",
   "metadata": {},
   "outputs": [
    {
     "name": "stdout",
     "output_type": "stream",
     "text": [
      "[ 0.        +0.j  0.        +0.j  0.        +0.j  0.        +0.j\n",
      "  0.        +0.j  0.        +0.j  0.        +0.j  0.        +0.j\n",
      " -0.27819651+0.j  0.        +0.j  0.        +0.j  0.        +0.j\n",
      "  0.        +0.j  0.        +0.j -0.72180349+0.j  0.        +0.j\n",
      "  0.        +0.j -0.63372425+0.j  0.        +0.j  0.        +0.j\n",
      "  0.        +0.j  0.        +0.j  0.        +0.j  0.        +0.j\n",
      "  0.        +0.j  0.        +0.j  0.        +0.j]\n"
     ]
    }
   ],
   "source": [
    "print(eigenvec[:,0])"
   ]
  },
  {
   "cell_type": "code",
   "execution_count": 217,
   "id": "82daecc2",
   "metadata": {},
   "outputs": [],
   "source": [
    "heisenberg = [[1.,i,i+1] for i in range(L-1)]\n",
    "\n",
    "heisenberg_xy_map = [\n",
    "    \n",
    "    [\"+-\", heisenberg],\n",
    "    [\"-+\", heisenberg]\n",
    "]\n",
    "\n",
    "\n",
    "heisenberg_z_map = [\n",
    "    \n",
    "    [\"zz\", heisenberg]\n",
    "]\n",
    "\n",
    "Ham_xy = hamiltonian(heisenberg_xy_map,dynamic_list=[],basis=basis,**no_checks)\n",
    "Ham_z = hamiltonian(heisenberg_z_map,dynamic_list=[],basis=basis,**no_checks)\n",
    "\n",
    "\n"
   ]
  },
  {
   "cell_type": "code",
   "execution_count": 284,
   "id": "dbe32e1d",
   "metadata": {},
   "outputs": [],
   "source": [
    "mixing_term = [[0.5,i] for i in range(L)]\n",
    "\n",
    "mixing_map = [\n",
    "    \n",
    "    [\"+\",mixing_term],\n",
    "    [\"-\",mixing_term],\n",
    "]\n",
    "\n",
    "Ham_mix = hamiltonian(mixing_map,dynamic_list=[],basis=basis,**no_checks)"
   ]
  },
  {
   "cell_type": "code",
   "execution_count": 285,
   "id": "779e4fd7",
   "metadata": {},
   "outputs": [],
   "source": [
    "resource = [[1.,i,i+1] for i in range(L-2)]\n",
    "\n",
    "#resource_x0 = [[0.5,0]]\n",
    "\n",
    "#resource_x = [[-1.,1]]\n",
    "\n",
    "resource_z = [[1.,2]]\n",
    "\n",
    "\n",
    "resource_map_1 = [\n",
    "    \n",
    "    [\"+-\", resource],\n",
    "    [\"-+\", resource],\n",
    "]\n",
    "resource_map_2 = [\n",
    "    [\"+z\", resource],\n",
    "    [\"-z\", resource],\n",
    "    [\"z\", resource_z],\n",
    "    \n",
    "]\n",
    "\n",
    "\n",
    "\n",
    "Ham_res_1 = hamiltonian(resource_map_1,dynamic_list=[],basis=basis,**no_checks)\n",
    "Ham_res_2 = hamiltonian(resource_map_2,dynamic_list=[],basis=basis,**no_checks)\n"
   ]
  },
  {
   "cell_type": "code",
   "execution_count": 123,
   "id": "04004619",
   "metadata": {},
   "outputs": [
    {
     "name": "stdout",
     "output_type": "stream",
     "text": [
      "True\n"
     ]
    }
   ],
   "source": [
    "print(check_hermitian(Ham_res.toarray()))"
   ]
  },
  {
   "cell_type": "code",
   "execution_count": 124,
   "id": "ca60ba1f",
   "metadata": {},
   "outputs": [],
   "source": [
    "eigenval_mix, eigenvec_mix = Ham_mix.eigh()"
   ]
  },
  {
   "cell_type": "code",
   "execution_count": 125,
   "id": "1ef4f1e9",
   "metadata": {},
   "outputs": [],
   "source": [
    "#psi_0 = np.zeros(basis.Ns)\n",
    "#i_0 = basis.index(\"111\")\n",
    "#psi_0[i_0] = 1.\n",
    "psi_0 = eigenvec_mix[:,0]"
   ]
  },
  {
   "cell_type": "code",
   "execution_count": 286,
   "id": "21faaadf",
   "metadata": {},
   "outputs": [],
   "source": [
    "def cost_function(theta,psi,a):\n",
    "\n",
    "    psi_1 = Ham_mix.evolve(psi,0.0,theta[0])\n",
    "    psi_2 = Ham_res_1.evolve(psi_1,0.0,theta[1])\n",
    "    psi_3 = Ham_res_2.evolve(psi_2,0.0,theta[2])\n",
    "    psi_4 = Ham_mix.evolve(psi_3,0.0,theta[3])\n",
    "    psi_5 = Ham_res_1.evolve(psi_4,0.0,theta[4])\n",
    "    psi_6 = Ham_res_2.evolve(psi_5,0.0,theta[5])\n",
    "    psi_7 = Ham_mix.evolve(psi_6,0.0,theta[6])\n",
    "    psi_8 = Ham_res_1.evolve(psi_7,0.0,theta[7])\n",
    "    psi_9 = Ham_res_2.evolve(psi_8,0.0,theta[8])\n",
    "    psi_10 = Ham_mix.evolve(psi_9,0.0,theta[9])\n",
    "    psi_11 = Ham_res_1.evolve(psi_10,0.0,theta[10])\n",
    "    psi_12 = Ham_res_2.evolve(psi_11,0.0,theta[11])\n",
    "\n",
    "    expt_value = 0\n",
    "    matvec = full_ham_matrix@psi_12\n",
    "    for i in range(basis.Ns):\n",
    "        expt_value += np.conj(psi_12[i])*matvec[i]\n",
    "    return np.real(expt_value)"
   ]
  },
  {
   "cell_type": "code",
   "execution_count": 127,
   "id": "2c39b1d1",
   "metadata": {},
   "outputs": [
    {
     "name": "stdout",
     "output_type": "stream",
     "text": [
      "1.1035533905932724\n"
     ]
    }
   ],
   "source": [
    "print(cost_function(np.array([0.,0.,0.,0.,0.,0.,0.,0.]),psi_0,1))"
   ]
  },
  {
   "cell_type": "code",
   "execution_count": 298,
   "id": "b296fbce",
   "metadata": {},
   "outputs": [
    {
     "name": "stdout",
     "output_type": "stream",
     "text": [
      "2022-01-28 12:26:18.880898\n",
      "2022-01-28 12:31:17.034590\n"
     ]
    }
   ],
   "source": [
    "from scipy.optimize import dual_annealing\n",
    "import datetime\n",
    "duan_ranges = [(-10.,10.),(-10.,10.),(-10.,10.),(-10.,10.),(-10.,10.),(-10.,10.),(-10.,10.),(-10.,10.),(-10.,10.),(-10.,10.),(-10.,10.),(-10.,10.)]\n",
    "resduan = 0\n",
    "resopt = 0\n",
    "print(datetime.datetime.now())\n",
    "resduan = dual_annealing(cost_function, duan_ranges, args = (psi_0,1))\n",
    "print(datetime.datetime.now())"
   ]
  },
  {
   "cell_type": "code",
   "execution_count": 294,
   "id": "857ce163",
   "metadata": {},
   "outputs": [
    {
     "name": "stdout",
     "output_type": "stream",
     "text": [
      "-0.48798494050152325\n",
      "[ 2.66879635 -4.57928137  7.56820957  2.53207235 -3.58750107 -8.79564765\n",
      " -3.22194073 -1.35827223 -2.3741112   8.38402436  7.44606089 -7.11482358]\n"
     ]
    }
   ],
   "source": [
    "print(resduan.fun)\n",
    "print(resduan.x)"
   ]
  },
  {
   "cell_type": "code",
   "execution_count": 299,
   "id": "74c6b56f",
   "metadata": {},
   "outputs": [
    {
     "name": "stdout",
     "output_type": "stream",
     "text": [
      "-0.55011331227517\n",
      "[-4.03878836  5.55989785  1.8595793  -4.86248275  4.78149869 -4.97471836\n",
      " -3.46452114 -5.98009609  7.19264618 -2.90166265 -9.05421587  7.69811738]\n"
     ]
    }
   ],
   "source": [
    "print(resduan.fun)\n",
    "print(resduan.x)"
   ]
  },
  {
   "cell_type": "code",
   "execution_count": 277,
   "id": "041c650c",
   "metadata": {},
   "outputs": [
    {
     "name": "stdout",
     "output_type": "stream",
     "text": [
      "-0.40417062801482595\n",
      "[-0.70515572 -4.70140736 -4.39090833 -4.35340319 -1.77807244 -4.30006263\n",
      "  8.88176517 -1.67227626  2.2965766   7.44228615  2.19660983  4.52810346]\n"
     ]
    }
   ],
   "source": [
    "print(resduan.fun)\n",
    "print(resduan.x)"
   ]
  },
  {
   "cell_type": "code",
   "execution_count": 288,
   "id": "e551b9f5",
   "metadata": {},
   "outputs": [
    {
     "name": "stdout",
     "output_type": "stream",
     "text": [
      "-0.4489320776949921\n",
      "[-0.22209983  3.14402451  4.53690963 -1.85557102 -9.17544668 -7.93384725\n",
      " -3.62534467  6.88300907 -3.5392736   2.45358514  9.54778442 -1.64397137]\n"
     ]
    }
   ],
   "source": [
    "print(resduan.fun)\n",
    "print(resduan.x)"
   ]
  },
  {
   "cell_type": "code",
   "execution_count": 301,
   "id": "4185e2c6",
   "metadata": {},
   "outputs": [
    {
     "name": "stdout",
     "output_type": "stream",
     "text": [
      "-0.55011331227517\n"
     ]
    }
   ],
   "source": [
    "\n",
    "psi = psi_0\n",
    "psi_1 = Ham_mix.evolve(psi,0.0,resduan.x[0])\n",
    "psi_2 = Ham_res_1.evolve(psi_1,0.0,resduan.x[1])\n",
    "psi_3 = Ham_res_2.evolve(psi_2,0.0,resduan.x[2])\n",
    "psi_4 = Ham_mix.evolve(psi_3,0.0,resduan.x[3])\n",
    "psi_5 = Ham_res_1.evolve(psi_4,0.0,resduan.x[4])\n",
    "psi_6 = Ham_res_2.evolve(psi_5,0.0,resduan.x[5])\n",
    "psi_7 = Ham_mix.evolve(psi_6,0.0,resduan.x[6])\n",
    "psi_8 = Ham_res_1.evolve(psi_7,0.0,resduan.x[7])\n",
    "psi_9 = Ham_res_2.evolve(psi_8,0.0,resduan.x[8])\n",
    "psi_10 = Ham_mix.evolve(psi_9,0.0,resduan.x[9])\n",
    "psi_11 = Ham_res_1.evolve(psi_10,0.0,resduan.x[10])\n",
    "psi_12 = Ham_res_2.evolve(psi_11,0.0,resduan.x[11])\n",
    "\n",
    "expt_value = 0\n",
    "matvec = full_ham_matrix@psi_12\n",
    "for i in range(basis.Ns):\n",
    "    expt_value += np.conj(psi_12[i])*matvec[i]\n",
    "print(np.real(expt_value))"
   ]
  },
  {
   "cell_type": "code",
   "execution_count": 302,
   "id": "b812437a",
   "metadata": {},
   "outputs": [
    {
     "name": "stdout",
     "output_type": "stream",
     "text": [
      "[-5.63243119e-05+8.09304554e-05j -2.64911789e-03-2.60548801e-03j\n",
      "  5.67914450e-02-4.09422287e-02j -5.25061577e-06-2.30968812e-05j\n",
      "  8.91248659e-04-4.85870321e-05j -1.92322669e-03+1.67074816e-02j\n",
      "  1.71217434e-04-3.42233564e-04j  1.16270866e-02+8.53022662e-03j\n",
      " -1.95297808e-01+1.88908513e-01j  2.27977224e-05+1.37020009e-05j\n",
      " -6.53468664e-04+7.59972940e-04j -1.20434287e-02-1.45465957e-02j\n",
      "  3.79530779e-04-9.18874314e-04j  3.17264331e-02+1.99248721e-02j\n",
      " -4.70658610e-01+5.26093269e-01j  4.18128388e-04-7.99275053e-04j\n",
      "  2.70390767e-02+2.06001912e-02j -4.68340276e-01+4.36892518e-01j\n",
      "  4.52503392e-05-3.54257868e-05j  1.02901402e-03+1.90548756e-03j\n",
      " -3.86536434e-02+1.30708946e-02j -1.77740173e-05+1.20485798e-04j\n",
      " -4.36291529e-03-1.42421142e-03j  4.02848392e-02-7.65182389e-02j\n",
      " -6.83149967e-06-1.68274097e-05j  6.68390289e-04-1.47083738e-04j\n",
      "  6.12732351e-04+1.28805269e-02j]\n"
     ]
    }
   ],
   "source": [
    "print(psi_12)"
   ]
  },
  {
   "cell_type": "code",
   "execution_count": 305,
   "id": "d19c8124",
   "metadata": {},
   "outputs": [
    {
     "name": "stdout",
     "output_type": "stream",
     "text": [
      "0.990042474045607\n"
     ]
    }
   ],
   "source": [
    "scall = 0\n",
    "for i in range(basis.Ns):\n",
    "    scall +=np.conj(psi_12[i])*eigenvec[:,0][i]\n",
    "print(np.abs(scall))"
   ]
  },
  {
   "cell_type": "code",
   "execution_count": null,
   "id": "e2942dc3",
   "metadata": {},
   "outputs": [],
   "source": []
  }
 ],
 "metadata": {
  "kernelspec": {
   "display_name": "Python 3",
   "language": "python",
   "name": "python3"
  },
  "language_info": {
   "codemirror_mode": {
    "name": "ipython",
    "version": 3
   },
   "file_extension": ".py",
   "mimetype": "text/x-python",
   "name": "python",
   "nbconvert_exporter": "python",
   "pygments_lexer": "ipython3",
   "version": "3.8.8"
  }
 },
 "nbformat": 4,
 "nbformat_minor": 5
}
