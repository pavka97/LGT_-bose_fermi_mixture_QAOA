{
 "cells": [
  {
   "cell_type": "code",
   "execution_count": 103,
   "id": "68f64083",
   "metadata": {},
   "outputs": [],
   "source": [
    "from __future__ import print_function, division\n",
    "import sys,os\n",
    "# line 4 and line 5 below are for development purposes and can be removed\n",
    "qspin_path = os.path.join(os.getcwd(),\"../../\")\n",
    "sys.path.insert(0,qspin_path)\n",
    "from scipy.linalg import expm\n",
    "from quspin.operators import hamiltonian, commutator, exp_op # Hamiltonians and operators\n",
    "from quspin.basis import tensor_basis,spinless_fermion_basis_1d,boson_basis_1d, spin_basis_1d # bases\n",
    "from quspin.tools.measurements import obs_vs_time # calculating dynamics\n",
    "from quspin.tools.Floquet import Floquet_t_vec # period-spaced time vector\n",
    "import numpy as np # general math functions\n",
    "import matplotlib.pyplot as plt # plotting library"
   ]
  },
  {
   "cell_type": "code",
   "execution_count": 104,
   "id": "d8122c8c",
   "metadata": {},
   "outputs": [],
   "source": [
    "L = 3\n",
    "M = 0.1\n",
    "l=1\n",
    "no_checks = dict(check_pcon=False,check_symm=False,check_herm=False)"
   ]
  },
  {
   "cell_type": "code",
   "execution_count": 136,
   "id": "3209ed81",
   "metadata": {},
   "outputs": [
    {
     "name": "stdout",
     "output_type": "stream",
     "text": [
      "reference states: \n",
      "array index   /   Fock state   /   integer repr. \n",
      "\t  0.         |2 2 2>           26         |1 1 1 1>           15  \n",
      "\t  1.         |2 2 2>           26         |1 1 1 0>           14  \n",
      "\t  2.         |2 2 2>           26         |1 1 0 1>           13  \n",
      "\t  3.         |2 2 2>           26         |1 1 0 0>           12  \n",
      "\t  4.         |2 2 2>           26         |1 0 1 1>           11  \n",
      "\t  5.         |2 2 2>           26         |1 0 1 0>           10  \n",
      "\t  6.         |2 2 2>           26         |1 0 0 1>            9  \n",
      "\t  7.         |2 2 2>           26         |1 0 0 0>            8  \n",
      "\t  8.         |2 2 2>           26         |0 1 1 1>            7  \n",
      "\t  9.         |2 2 2>           26         |0 1 1 0>            6  \n",
      "\t 10.         |2 2 2>           26         |0 1 0 1>            5  \n",
      "\t 11.         |2 2 2>           26         |0 1 0 0>            4  \n",
      "\t 12.         |2 2 2>           26         |0 0 1 1>            3  \n",
      "\t 13.         |2 2 2>           26         |0 0 1 0>            2  \n",
      "\t 14.         |2 2 2>           26         |0 0 0 1>            1  \n",
      "\t 15.         |2 2 2>           26         |0 0 0 0>            0  \n",
      "\t 16.         |2 2 1>           25         |1 1 1 1>           15  \n",
      "\t 17.         |2 2 1>           25         |1 1 1 0>           14  \n",
      "\t 18.         |2 2 1>           25         |1 1 0 1>           13  \n",
      "\t 19.         |2 2 1>           25         |1 1 0 0>           12  \n",
      "\t 20.         |2 2 1>           25         |1 0 1 1>           11  \n",
      "\t 21.         |2 2 1>           25         |1 0 1 0>           10  \n",
      "\t 22.         |2 2 1>           25         |1 0 0 1>            9  \n",
      "\t 23.         |2 2 1>           25         |1 0 0 0>            8  \n",
      "\t 24.         |2 2 1>           25         |0 1 1 1>            7  \n",
      "                                :\n",
      "\t407.         |0 0 1>            1         |1 0 0 0>            8  \n",
      "\t408.         |0 0 1>            1         |0 1 1 1>            7  \n",
      "\t409.         |0 0 1>            1         |0 1 1 0>            6  \n",
      "\t410.         |0 0 1>            1         |0 1 0 1>            5  \n",
      "\t411.         |0 0 1>            1         |0 1 0 0>            4  \n",
      "\t412.         |0 0 1>            1         |0 0 1 1>            3  \n",
      "\t413.         |0 0 1>            1         |0 0 1 0>            2  \n",
      "\t414.         |0 0 1>            1         |0 0 0 1>            1  \n",
      "\t415.         |0 0 1>            1         |0 0 0 0>            0  \n",
      "\t416.         |0 0 0>            0         |1 1 1 1>           15  \n",
      "\t417.         |0 0 0>            0         |1 1 1 0>           14  \n",
      "\t418.         |0 0 0>            0         |1 1 0 1>           13  \n",
      "\t419.         |0 0 0>            0         |1 1 0 0>           12  \n",
      "\t420.         |0 0 0>            0         |1 0 1 1>           11  \n",
      "\t421.         |0 0 0>            0         |1 0 1 0>           10  \n",
      "\t422.         |0 0 0>            0         |1 0 0 1>            9  \n",
      "\t423.         |0 0 0>            0         |1 0 0 0>            8  \n",
      "\t424.         |0 0 0>            0         |0 1 1 1>            7  \n",
      "\t425.         |0 0 0>            0         |0 1 1 0>            6  \n",
      "\t426.         |0 0 0>            0         |0 1 0 1>            5  \n",
      "\t427.         |0 0 0>            0         |0 1 0 0>            4  \n",
      "\t428.         |0 0 0>            0         |0 0 1 1>            3  \n",
      "\t429.         |0 0 0>            0         |0 0 1 0>            2  \n",
      "\t430.         |0 0 0>            0         |0 0 0 1>            1  \n",
      "\t431.         |0 0 0>            0         |0 0 0 0>            0  \n"
     ]
    }
   ],
   "source": [
    "basis_spin =spin_basis_1d(L=L,S = str(l))\n",
    "basis_fermions = spin_basis_1d(L=L+1,S=\"1/2\")\n",
    "basis=tensor_basis(basis_spin,basis_fermions)\n",
    "print(basis)"
   ]
  },
  {
   "cell_type": "code",
   "execution_count": 144,
   "id": "230d2f13",
   "metadata": {},
   "outputs": [],
   "source": [
    "basis_vectors = []\n",
    "for index in range(basis.Ns):\n",
    "    state = np.zeros(basis.Ns)\n",
    "    state[basis.Ns-index-1] = 1.\n",
    "    state = state.tolist()\n",
    "    basis_vectors.append(state)"
   ]
  },
  {
   "cell_type": "code",
   "execution_count": 145,
   "id": "37658e46",
   "metadata": {},
   "outputs": [],
   "source": [
    "gauss_law_z_0 = []\n",
    "gauss_law_z_0.append([1.,0])\n",
    "\n",
    "gauss_law_idz_0 = [[-0.5,0]]\n",
    "\n",
    "gauss_law_f_0 = [[-0.5,0]]\n",
    "\n",
    "gauss_law_0_map = [\n",
    "    \n",
    "    [\"z|\",gauss_law_z_0],\n",
    "    [\"|z\",gauss_law_f_0],\n",
    "    [\"|I\",gauss_law_idz_0],\n",
    "\n",
    "\n",
    "    \n",
    "]\n",
    "\n",
    "Gauss_law_0  = hamiltonian(gauss_law_0_map,dynamic_list=[],basis=basis,**no_checks)\n",
    "Gauss_0_q = Gauss_law_0**2"
   ]
  },
  {
   "cell_type": "code",
   "execution_count": 146,
   "id": "d37badf6",
   "metadata": {},
   "outputs": [],
   "source": [
    "#Gauss_law_1\n",
    "gauss_law_zm_1 = []\n",
    "gauss_law_zm_1.append([-1.,0])\n",
    "\n",
    "gauss_law_z_1 = []\n",
    "gauss_law_z_1.append([1.,1])\n",
    "\n",
    "gauss_law_id_1 = [[1.,1]]\n",
    "gauss_law_f_1 = [[-0.5,1]]\n",
    "\n",
    "gauss_law_idz_1 = [[-0.5,1]]\n",
    "\n",
    "gauss_law_1_map = [\n",
    "    \n",
    "    [\"z|\",gauss_law_z_1],\n",
    "    [\"z|\",gauss_law_zm_1],\n",
    "    [\"I|\",gauss_law_id_1],\n",
    "    [\"|z\",gauss_law_f_1],\n",
    "    [\"|I\",gauss_law_idz_1],\n",
    "\n",
    "]\n",
    "\n",
    "Gauss_law_1  = hamiltonian(gauss_law_1_map,dynamic_list=[],basis=basis,**no_checks)\n",
    "Gauss_1_q = Gauss_law_1**2"
   ]
  },
  {
   "cell_type": "code",
   "execution_count": 147,
   "id": "b3d1fda0",
   "metadata": {},
   "outputs": [],
   "source": [
    "#Gauss_law_2\n",
    "gauss_law_zm_2 = []\n",
    "gauss_law_zm_2.append([-1.,1])\n",
    "\n",
    "gauss_law_z_2 = []\n",
    "gauss_law_z_2.append([1.,2])\n",
    "\n",
    "gauss_law_idz_2 = [[-0.5,2]]\n",
    "\n",
    "\n",
    "gauss_law_f_2 = [[-0.5,2]]\n",
    "gauss_law_2_map = [\n",
    "    \n",
    "    [\"z|\",gauss_law_z_2],\n",
    "    [\"z|\",gauss_law_zm_2],\n",
    "    [\"|z\",gauss_law_f_2],\n",
    "    [\"|I\",gauss_law_idz_2],\n",
    "\n",
    "\n",
    "]\n",
    "\n",
    "Gauss_law_2  = hamiltonian(gauss_law_2_map,dynamic_list=[],basis=basis,**no_checks)\n",
    "Gauss_2_q = Gauss_law_2**2"
   ]
  },
  {
   "cell_type": "code",
   "execution_count": 148,
   "id": "3abdd307",
   "metadata": {},
   "outputs": [],
   "source": [
    "#Gauss_law_3\n",
    "\n",
    "gauss_law_z_3 = []\n",
    "gauss_law_z_3.append([-1.,2])\n",
    "\n",
    "gauss_law_id_3 = [[1.,2]]\n",
    "gauss_law_f_3 = [[-0.5,3]]\n",
    "\n",
    "gauss_law_idz_3 = [[-0.5,3]]\n",
    "\n",
    "\n",
    "gauss_law_3_map = [\n",
    "    \n",
    "    [\"z|\",gauss_law_z_3],\n",
    "    [\"I|\",gauss_law_id_3],\n",
    "    [\"|z\",gauss_law_f_3],\n",
    "    [\"|I\",gauss_law_idz_3],\n",
    "\n",
    "\n",
    "\n",
    "    \n",
    "]\n",
    "\n",
    "Gauss_law_3  = hamiltonian(gauss_law_3_map,dynamic_list=[],basis=basis,**no_checks)\n",
    "Gauss_3_q = Gauss_law_3**2"
   ]
  },
  {
   "cell_type": "code",
   "execution_count": 149,
   "id": "4cd15e83",
   "metadata": {},
   "outputs": [],
   "source": [
    "G = Gauss_0_q+Gauss_1_q+Gauss_2_q+Gauss_3_q"
   ]
  },
  {
   "cell_type": "code",
   "execution_count": 150,
   "id": "e4dd582b",
   "metadata": {},
   "outputs": [
    {
     "name": "stdout",
     "output_type": "stream",
     "text": [
      "3\n",
      "53\n",
      "70\n",
      "201\n",
      "218\n",
      "268\n"
     ]
    }
   ],
   "source": [
    "for i in range(basis.Ns):\n",
    "    if (G.expt_value(basis_vectors[basis.Ns-i-1])<=0.+1e-8) & (G.expt_value(basis_vectors[basis.Ns-i-1])>=0.-1e-8):\n",
    "        print(i)"
   ]
  },
  {
   "cell_type": "code",
   "execution_count": 127,
   "id": "0646e8d2",
   "metadata": {},
   "outputs": [],
   "source": [
    "kin_energy = [[0.5,i,i] for i in range(L)]\n",
    "mass_term = [[0.5*M*(-1)**i,i] for i in range(L+1)]\n",
    "interaction_term = [[-1j/(2*np.sqrt(2)),i,i,i+1] for i in range(L)]\n",
    "\n",
    "hamiltonian_map = [\n",
    "    \n",
    "    [\"zz|\",kin_energy],\n",
    "    [\"|z\",mass_term],\n",
    "    [\"|I\",mass_term],\n",
    "\n",
    "    [\"+|+-\",interaction_term],\n",
    "    [\"-|-+\",interaction_term]\n",
    "]\n",
    "\n",
    "\n",
    "\n",
    "Ham_LGT = hamiltonian(hamiltonian_map,dynamic_list = [],basis=basis,**no_checks)\n",
    "Hamiltonian_LGT = Ham_LGT + 1000*G"
   ]
  },
  {
   "cell_type": "code",
   "execution_count": 128,
   "id": "feff7b93",
   "metadata": {},
   "outputs": [],
   "source": [
    "ham_matrix = Hamiltonian_LGT.toarray()"
   ]
  },
  {
   "cell_type": "code",
   "execution_count": 129,
   "id": "c197d249",
   "metadata": {},
   "outputs": [],
   "source": [
    "def check_hermitian(a, rtol=1e-10, atol=1e-10):\n",
    "    return np.allclose(a, a.conj().T, rtol=rtol, atol=atol)"
   ]
  },
  {
   "cell_type": "code",
   "execution_count": 130,
   "id": "7e287176",
   "metadata": {},
   "outputs": [
    {
     "name": "stdout",
     "output_type": "stream",
     "text": [
      "True\n"
     ]
    }
   ],
   "source": [
    "print(check_hermitian(ham_matrix))"
   ]
  },
  {
   "cell_type": "code",
   "execution_count": 131,
   "id": "6510608d",
   "metadata": {},
   "outputs": [],
   "source": [
    "eigenval,eigenvec = np.linalg.eigh(ham_matrix)"
   ]
  },
  {
   "cell_type": "code",
   "execution_count": 132,
   "id": "ace7c2c5",
   "metadata": {},
   "outputs": [
    {
     "name": "stdout",
     "output_type": "stream",
     "text": [
      "-0.8455138463653484\n",
      "0\n",
      "-0.5656905202659082\n",
      "1\n",
      "0.09336559193286807\n",
      "2\n",
      "0.22748942052892093\n",
      "3\n",
      "0.33663195365040993\n",
      "4\n",
      "0.5000000000009547\n",
      "5\n",
      "0.7769249994146044\n",
      "6\n",
      "0.8672216647797004\n",
      "7\n",
      "0.9658903438802167\n",
      "8\n",
      "1.0000000000003215\n",
      "9\n",
      "1.2975418340556117\n",
      "10\n",
      "1.36183690183109\n",
      "11\n",
      "1.8407440641877286\n",
      "12\n",
      "2.043557592363562\n",
      "13\n"
     ]
    }
   ],
   "source": [
    "for i in range(len(eigenval)):\n",
    "    if eigenval[i]<=100:\n",
    "        print(eigenval[i])\n",
    "        print(i)"
   ]
  },
  {
   "cell_type": "code",
   "execution_count": null,
   "id": "f3363f90",
   "metadata": {},
   "outputs": [],
   "source": []
  },
  {
   "cell_type": "code",
   "execution_count": null,
   "id": "8a7b79ff",
   "metadata": {},
   "outputs": [],
   "source": []
  }
 ],
 "metadata": {
  "kernelspec": {
   "display_name": "Python 3",
   "language": "python",
   "name": "python3"
  },
  "language_info": {
   "codemirror_mode": {
    "name": "ipython",
    "version": 3
   },
   "file_extension": ".py",
   "mimetype": "text/x-python",
   "name": "python",
   "nbconvert_exporter": "python",
   "pygments_lexer": "ipython3",
   "version": "3.8.8"
  }
 },
 "nbformat": 4,
 "nbformat_minor": 5
}
