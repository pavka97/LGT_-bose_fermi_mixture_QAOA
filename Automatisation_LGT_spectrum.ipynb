{
 "cells": [
  {
   "cell_type": "code",
   "execution_count": 1,
   "id": "bc0675ea",
   "metadata": {},
   "outputs": [],
   "source": [
    "from scipy.linalg import expm\n",
    "from quspin.operators import hamiltonian, commutator, exp_op # Hamiltonians and operators\n",
    "from quspin.basis import tensor_basis,spinless_fermion_basis_1d,boson_basis_1d, spin_basis_1d # bases\n",
    "import numpy as np # general math functions\n",
    "import matplotlib.pyplot as plt # plotting library"
   ]
  },
  {
   "cell_type": "code",
   "execution_count": 11,
   "id": "6cfd208c",
   "metadata": {},
   "outputs": [],
   "source": [
    "L = 5\n",
    "M = 0.6\n",
    "l=1\n",
    "no_checks = dict(check_pcon=False,check_symm=False,check_herm=False)"
   ]
  },
  {
   "cell_type": "code",
   "execution_count": 12,
   "id": "5c1192fc",
   "metadata": {},
   "outputs": [
    {
     "name": "stdout",
     "output_type": "stream",
     "text": [
      "reference states: \n",
      "array index   /   Fock state   /   integer repr. \n",
      "\t    0.         |2 2 2 2 2>           242         |1 1 1 1 0 0>           60  \n",
      "\t    1.         |2 2 2 2 2>           242         |1 1 1 0 1 0>           58  \n",
      "\t    2.         |2 2 2 2 2>           242         |1 1 1 0 0 1>           57  \n",
      "\t    3.         |2 2 2 2 2>           242         |1 1 1 0 0 0>           56  \n",
      "\t    4.         |2 2 2 2 2>           242         |1 1 0 1 1 0>           54  \n",
      "\t    5.         |2 2 2 2 2>           242         |1 1 0 1 0 1>           53  \n",
      "\t    6.         |2 2 2 2 2>           242         |1 1 0 1 0 0>           52  \n",
      "\t    7.         |2 2 2 2 2>           242         |1 1 0 0 1 1>           51  \n",
      "\t    8.         |2 2 2 2 2>           242         |1 1 0 0 1 0>           50  \n",
      "\t    9.         |2 2 2 2 2>           242         |1 1 0 0 0 1>           49  \n",
      "\t   10.         |2 2 2 2 2>           242         |1 1 0 0 0 0>           48  \n",
      "\t   11.         |2 2 2 2 2>           242         |1 0 1 1 1 0>           46  \n",
      "\t   12.         |2 2 2 2 2>           242         |1 0 1 1 0 1>           45  \n",
      "\t   13.         |2 2 2 2 2>           242         |1 0 1 1 0 0>           44  \n",
      "\t   14.         |2 2 2 2 2>           242         |1 0 1 0 1 1>           43  \n",
      "\t   15.         |2 2 2 2 2>           242         |1 0 1 0 1 0>           42  \n",
      "\t   16.         |2 2 2 2 2>           242         |1 0 1 0 0 1>           41  \n",
      "\t   17.         |2 2 2 2 2>           242         |1 0 1 0 0 0>           40  \n",
      "\t   18.         |2 2 2 2 2>           242         |1 0 0 1 1 1>           39  \n",
      "\t   19.         |2 2 2 2 2>           242         |1 0 0 1 1 0>           38  \n",
      "\t   20.         |2 2 2 2 2>           242         |1 0 0 1 0 1>           37  \n",
      "\t   21.         |2 2 2 2 2>           242         |1 0 0 1 0 0>           36  \n",
      "\t   22.         |2 2 2 2 2>           242         |1 0 0 0 1 1>           35  \n",
      "\t   23.         |2 2 2 2 2>           242         |1 0 0 0 1 0>           34  \n",
      "\t   24.         |2 2 2 2 2>           242         |1 0 0 0 0 1>           33  \n",
      "                                      :\n",
      "\t13826.         |0 0 0 0 0>             0         |0 1 1 0 0 0>           24  \n",
      "\t13827.         |0 0 0 0 0>             0         |0 1 0 1 1 1>           23  \n",
      "\t13828.         |0 0 0 0 0>             0         |0 1 0 1 1 0>           22  \n",
      "\t13829.         |0 0 0 0 0>             0         |0 1 0 1 0 1>           21  \n",
      "\t13830.         |0 0 0 0 0>             0         |0 1 0 1 0 0>           20  \n",
      "\t13831.         |0 0 0 0 0>             0         |0 1 0 0 1 1>           19  \n",
      "\t13832.         |0 0 0 0 0>             0         |0 1 0 0 1 0>           18  \n",
      "\t13833.         |0 0 0 0 0>             0         |0 1 0 0 0 1>           17  \n",
      "\t13834.         |0 0 0 0 0>             0         |0 1 0 0 0 0>           16  \n",
      "\t13835.         |0 0 0 0 0>             0         |0 0 1 1 1 1>           15  \n",
      "\t13836.         |0 0 0 0 0>             0         |0 0 1 1 1 0>           14  \n",
      "\t13837.         |0 0 0 0 0>             0         |0 0 1 1 0 1>           13  \n",
      "\t13838.         |0 0 0 0 0>             0         |0 0 1 1 0 0>           12  \n",
      "\t13839.         |0 0 0 0 0>             0         |0 0 1 0 1 1>           11  \n",
      "\t13840.         |0 0 0 0 0>             0         |0 0 1 0 1 0>           10  \n",
      "\t13841.         |0 0 0 0 0>             0         |0 0 1 0 0 1>            9  \n",
      "\t13842.         |0 0 0 0 0>             0         |0 0 1 0 0 0>            8  \n",
      "\t13843.         |0 0 0 0 0>             0         |0 0 0 1 1 1>            7  \n",
      "\t13844.         |0 0 0 0 0>             0         |0 0 0 1 1 0>            6  \n",
      "\t13845.         |0 0 0 0 0>             0         |0 0 0 1 0 1>            5  \n",
      "\t13846.         |0 0 0 0 0>             0         |0 0 0 1 0 0>            4  \n",
      "\t13847.         |0 0 0 0 0>             0         |0 0 0 0 1 1>            3  \n",
      "\t13848.         |0 0 0 0 0>             0         |0 0 0 0 1 0>            2  \n",
      "\t13849.         |0 0 0 0 0>             0         |0 0 0 0 0 1>            1  \n",
      "\t13850.         |0 0 0 0 0>             0         |0 0 0 0 0 0>            0  \n"
     ]
    }
   ],
   "source": [
    "basis_spin =spin_basis_1d(L=L,S = str(l))\n",
    "basis_fermions = spinless_fermion_basis_1d(L=L+1,Nf = [0,1,2,3,4])\n",
    "basis=tensor_basis(basis_spin,basis_fermions)\n",
    "print(basis)"
   ]
  },
  {
   "cell_type": "code",
   "execution_count": 13,
   "id": "61e6441f",
   "metadata": {},
   "outputs": [],
   "source": [
    "basis_vectors = []\n",
    "for index in range(basis.Ns):\n",
    "    state = np.zeros(basis.Ns)\n",
    "    state[basis.Ns-index-1] = 1.\n",
    "    state = state.tolist()\n",
    "    basis_vectors.append(state)"
   ]
  },
  {
   "cell_type": "code",
   "execution_count": 14,
   "id": "2d8809fb",
   "metadata": {},
   "outputs": [
    {
     "name": "stdout",
     "output_type": "stream",
     "text": [
      "6\n",
      "179\n",
      "237\n",
      "1552\n",
      "1725\n",
      "1783\n",
      "2242\n",
      "2300\n",
      "2473\n",
      "6184\n",
      "6357\n",
      "6415\n",
      "6874\n",
      "6932\n",
      "7105\n",
      "8421\n",
      "8479\n",
      "8652\n",
      "9169\n"
     ]
    }
   ],
   "source": [
    "#initialisation of the Gauss laws\n",
    "\n",
    "liste = []\n",
    "liste_m = []\n",
    "gauss_law_map = []\n",
    "Gauss_law = []\n",
    "\n",
    "for i in range(L+1):\n",
    "    liste.append([[1.,i]])\n",
    "    liste_m.append([[-1.,i]])\n",
    "    if i == 0:\n",
    "        gauss_law_map.append([\n",
    "            [\"z|\",liste[0]],\n",
    "            [\"|n\",liste_m[0]],\n",
    "        ])\n",
    "    \n",
    "    elif (i == L) & (i%2 == 0):\n",
    "        gauss_law_map.append([\n",
    "            [\"z|\",liste_m[i-1]],\n",
    "            [\"|n\",liste_m[i]]\n",
    "        ])\n",
    "    \n",
    "    elif (i == L) & (i%2 == 1):\n",
    "        gauss_law_map.append([\n",
    "            [\"z|\",liste_m[i-1]],\n",
    "            [\"I|\",liste[i-1]],\n",
    "            [\"|n\",liste_m[i]],\n",
    "        ])        \n",
    "        \n",
    "    elif i%2 == 0:\n",
    "        gauss_law_map.append([\n",
    "            [\"z|\",liste[i]],\n",
    "            [\"z|\",liste_m[i-1]],\n",
    "            [\"|n\",liste_m[i]],\n",
    "        ])\n",
    "    elif i%2 == 1:\n",
    "        gauss_law_map.append([\n",
    "            [\"z|\",liste[i]],\n",
    "            [\"z|\",liste_m[i-1]],  \n",
    "            [\"I|\",liste[i]],\n",
    "            [\"|n\",liste_m[i]],\n",
    "        ])\n",
    "    Gauss_law.append(hamiltonian(gauss_law_map[i],dynamic_list=[],basis=basis,**no_checks))\n",
    "G = 0\n",
    "for i in range(L+1):\n",
    "    G += Gauss_law[i]**2\n",
    "for i in range(basis.Ns):\n",
    "    if (G.expt_value(basis_vectors[basis.Ns-i-1])<=0.+1e-8) & (G.expt_value(basis_vectors[basis.Ns-i-1])>=0.-1e-8):\n",
    "        print(i)"
   ]
  },
  {
   "cell_type": "code",
   "execution_count": 15,
   "id": "18e38680",
   "metadata": {},
   "outputs": [],
   "source": [
    "kin_energy = [[0.5,i,i] for i in range(L)]\n",
    "mass_term = [[M*(-1)**i,i] for i in range(L+1)]\n",
    "interaction_term = [[-1j/(2*np.sqrt(2)),i,i,i+1] for i in range(L)]\n",
    "\n",
    "hamiltonian_map = [\n",
    "    \n",
    "    [\"zz|\",kin_energy],\n",
    "    [\"|n\",mass_term],\n",
    "    [\"|I\",mass_term],\n",
    "\n",
    "    [\"+|+-\",interaction_term],\n",
    "    [\"-|-+\",interaction_term]\n",
    "]\n",
    "\n",
    "\n",
    "\n",
    "Ham_LGT = hamiltonian(hamiltonian_map,dynamic_list = [],basis=basis,**no_checks)\n",
    "Hamiltonian_LGT = Ham_LGT + 1000*G\n",
    "ham_matrix = Hamiltonian_LGT.toarray()"
   ]
  },
  {
   "cell_type": "code",
   "execution_count": 16,
   "id": "49e7b37a",
   "metadata": {},
   "outputs": [],
   "source": [
    "def check_hermitian(a, rtol=1e-10, atol=1e-10):\n",
    "    return np.allclose(a, a.conj().T, rtol=rtol, atol=atol)"
   ]
  },
  {
   "cell_type": "code",
   "execution_count": 17,
   "id": "2b05a3a2",
   "metadata": {},
   "outputs": [
    {
     "name": "stdout",
     "output_type": "stream",
     "text": [
      "True\n"
     ]
    }
   ],
   "source": [
    "print(check_hermitian(ham_matrix))"
   ]
  },
  {
   "cell_type": "code",
   "execution_count": 18,
   "id": "cc23726b",
   "metadata": {},
   "outputs": [],
   "source": [
    "eigenval,eigenvec = np.linalg.eigh(ham_matrix)"
   ]
  },
  {
   "cell_type": "code",
   "execution_count": 19,
   "id": "5a51f66d",
   "metadata": {},
   "outputs": [
    {
     "name": "stdout",
     "output_type": "stream",
     "text": [
      "[-2.42109438 -0.50953275 -0.43195924 -0.30195291 -0.16060728 -0.10869319\n",
      "  0.58433579  0.58693727  0.7261395   1.45489394  1.59198359  1.76802289\n",
      "  1.85978551  1.9358955   1.98573557  2.16777235  2.75447228  2.82307748\n",
      "  4.0947881 ]\n"
     ]
    }
   ],
   "source": [
    "print(eigenval[eigenval<=1e2])"
   ]
  },
  {
   "cell_type": "code",
   "execution_count": null,
   "id": "289b5eae",
   "metadata": {},
   "outputs": [],
   "source": []
  }
 ],
 "metadata": {
  "kernelspec": {
   "display_name": "Python 3",
   "language": "python",
   "name": "python3"
  },
  "language_info": {
   "codemirror_mode": {
    "name": "ipython",
    "version": 3
   },
   "file_extension": ".py",
   "mimetype": "text/x-python",
   "name": "python",
   "nbconvert_exporter": "python",
   "pygments_lexer": "ipython3",
   "version": "3.8.8"
  }
 },
 "nbformat": 4,
 "nbformat_minor": 5
}
