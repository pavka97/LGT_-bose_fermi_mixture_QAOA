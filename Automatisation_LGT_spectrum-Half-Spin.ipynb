{
 "cells": [
  {
   "cell_type": "code",
   "execution_count": 85,
   "id": "bc0675ea",
   "metadata": {},
   "outputs": [],
   "source": [
    "from scipy.linalg import expm\n",
    "from quspin.operators import hamiltonian, commutator, exp_op # Hamiltonians and operators\n",
    "from quspin.basis import tensor_basis,spinless_fermion_basis_1d,boson_basis_1d, spin_basis_1d # bases\n",
    "import numpy as np # general math functions\n",
    "import matplotlib.pyplot as plt # plotting library"
   ]
  },
  {
   "cell_type": "code",
   "execution_count": 99,
   "id": "6cfd208c",
   "metadata": {},
   "outputs": [],
   "source": [
    "L = 3\n",
    "M = 0.1\n",
    "l=1/2\n",
    "m_epsilon = 1/2\n",
    "no_checks = dict(check_pcon=False,check_symm=False,check_herm=False)"
   ]
  },
  {
   "cell_type": "code",
   "execution_count": 100,
   "id": "5c1192fc",
   "metadata": {},
   "outputs": [
    {
     "name": "stdout",
     "output_type": "stream",
     "text": [
      "reference states: \n",
      "array index   /   Fock state   /   integer repr. \n",
      "\t  0.         |1 1 1>           7         |1 1 1 1>           15  \n",
      "\t  1.         |1 1 1>           7         |1 1 1 0>           14  \n",
      "\t  2.         |1 1 1>           7         |1 1 0 1>           13  \n",
      "\t  3.         |1 1 1>           7         |1 1 0 0>           12  \n",
      "\t  4.         |1 1 1>           7         |1 0 1 1>           11  \n",
      "\t  5.         |1 1 1>           7         |1 0 1 0>           10  \n",
      "\t  6.         |1 1 1>           7         |1 0 0 1>            9  \n",
      "\t  7.         |1 1 1>           7         |1 0 0 0>            8  \n",
      "\t  8.         |1 1 1>           7         |0 1 1 1>            7  \n",
      "\t  9.         |1 1 1>           7         |0 1 1 0>            6  \n",
      "\t 10.         |1 1 1>           7         |0 1 0 1>            5  \n",
      "\t 11.         |1 1 1>           7         |0 1 0 0>            4  \n",
      "\t 12.         |1 1 1>           7         |0 0 1 1>            3  \n",
      "\t 13.         |1 1 1>           7         |0 0 1 0>            2  \n",
      "\t 14.         |1 1 1>           7         |0 0 0 1>            1  \n",
      "\t 15.         |1 1 1>           7         |0 0 0 0>            0  \n",
      "\t 16.         |1 1 0>           6         |1 1 1 1>           15  \n",
      "\t 17.         |1 1 0>           6         |1 1 1 0>           14  \n",
      "\t 18.         |1 1 0>           6         |1 1 0 1>           13  \n",
      "\t 19.         |1 1 0>           6         |1 1 0 0>           12  \n",
      "\t 20.         |1 1 0>           6         |1 0 1 1>           11  \n",
      "\t 21.         |1 1 0>           6         |1 0 1 0>           10  \n",
      "\t 22.         |1 1 0>           6         |1 0 0 1>            9  \n",
      "\t 23.         |1 1 0>           6         |1 0 0 0>            8  \n",
      "\t 24.         |1 1 0>           6         |0 1 1 1>            7  \n",
      "                                :\n",
      "\t103.         |0 0 1>           1         |1 0 0 0>            8  \n",
      "\t104.         |0 0 1>           1         |0 1 1 1>            7  \n",
      "\t105.         |0 0 1>           1         |0 1 1 0>            6  \n",
      "\t106.         |0 0 1>           1         |0 1 0 1>            5  \n",
      "\t107.         |0 0 1>           1         |0 1 0 0>            4  \n",
      "\t108.         |0 0 1>           1         |0 0 1 1>            3  \n",
      "\t109.         |0 0 1>           1         |0 0 1 0>            2  \n",
      "\t110.         |0 0 1>           1         |0 0 0 1>            1  \n",
      "\t111.         |0 0 1>           1         |0 0 0 0>            0  \n",
      "\t112.         |0 0 0>           0         |1 1 1 1>           15  \n",
      "\t113.         |0 0 0>           0         |1 1 1 0>           14  \n",
      "\t114.         |0 0 0>           0         |1 1 0 1>           13  \n",
      "\t115.         |0 0 0>           0         |1 1 0 0>           12  \n",
      "\t116.         |0 0 0>           0         |1 0 1 1>           11  \n",
      "\t117.         |0 0 0>           0         |1 0 1 0>           10  \n",
      "\t118.         |0 0 0>           0         |1 0 0 1>            9  \n",
      "\t119.         |0 0 0>           0         |1 0 0 0>            8  \n",
      "\t120.         |0 0 0>           0         |0 1 1 1>            7  \n",
      "\t121.         |0 0 0>           0         |0 1 1 0>            6  \n",
      "\t122.         |0 0 0>           0         |0 1 0 1>            5  \n",
      "\t123.         |0 0 0>           0         |0 1 0 0>            4  \n",
      "\t124.         |0 0 0>           0         |0 0 1 1>            3  \n",
      "\t125.         |0 0 0>           0         |0 0 1 0>            2  \n",
      "\t126.         |0 0 0>           0         |0 0 0 1>            1  \n",
      "\t127.         |0 0 0>           0         |0 0 0 0>            0  \n"
     ]
    }
   ],
   "source": [
    "basis_spin =spin_basis_1d(L=L,S = \"1/2\",pauli = 0)\n",
    "basis_fermions = spinless_fermion_basis_1d(L=L+1,Nf = [0,1,2,3,4])\n",
    "basis=tensor_basis(basis_spin,basis_fermions)\n",
    "print(basis)"
   ]
  },
  {
   "cell_type": "code",
   "execution_count": 101,
   "id": "2d8809fb",
   "metadata": {},
   "outputs": [],
   "source": [
    "#initialisation of the Gauss laws\n",
    "\n",
    "liste = []\n",
    "liste_epsilon = [[m_epsilon,0]]\n",
    "liste_epsilon_m = [[-m_epsilon,L-1]]\n",
    "\n",
    "liste_m = []\n",
    "gauss_law_map = []\n",
    "Gauss_law = []\n",
    "\n",
    "for i in range(L+1):\n",
    "    liste.append([[1.,i]])\n",
    "    liste_m.append([[-1.,i]])\n",
    "    if i == 0:\n",
    "        gauss_law_map.append([\n",
    "            [\"z|\",liste[0]],\n",
    "            [\"|n\",liste_m[0]],\n",
    "            [\"I|\",liste_epsilon_m],\n",
    "        ])\n",
    "    \n",
    "    elif (i == L) & (i%2 == 0):\n",
    "        gauss_law_map.append([\n",
    "            [\"z|\",liste_m[i-1]],\n",
    "            [\"|n\",liste_m[i]],\n",
    "            [\"I|\",liste_epsilon],\n",
    "\n",
    "        ])\n",
    "    \n",
    "    elif (i == L) & (i%2 == 1):\n",
    "        gauss_law_map.append([\n",
    "            [\"z|\",liste_m[i-1]],\n",
    "            [\"I|\",liste[i-1]],\n",
    "            [\"|n\",liste_m[i]],\n",
    "            [\"I|\",liste_epsilon],\n",
    "\n",
    "        ])        \n",
    "        \n",
    "    elif i%2 == 0:\n",
    "        gauss_law_map.append([\n",
    "            [\"z|\",liste[i]],\n",
    "            [\"z|\",liste_m[i-1]],\n",
    "            [\"|n\",liste_m[i]],\n",
    "        ])\n",
    "    elif i%2 == 1:\n",
    "        gauss_law_map.append([\n",
    "            [\"z|\",liste[i]],\n",
    "            [\"z|\",liste_m[i-1]],  \n",
    "            [\"I|\",liste[i]],\n",
    "            [\"|n\",liste_m[i]],\n",
    "        ])\n",
    "    Gauss_law.append(hamiltonian(gauss_law_map[i],dynamic_list=[],basis=basis,**no_checks))\n",
    "G = 0\n",
    "for i in range(L+1):\n",
    "    G += Gauss_law[i]**2"
   ]
  },
  {
   "cell_type": "code",
   "execution_count": 102,
   "id": "18e38680",
   "metadata": {},
   "outputs": [],
   "source": [
    "kin_energy = [[0.5,i,i] for i in range(L)]\n",
    "mass_term = [[M*(-1)**i,i] for i in range(L+1)]\n",
    "interaction_term = [[-1j/(2*np.sqrt(l*(l+1))),i,i,i+1] for i in range(L)]\n",
    "\n",
    "hamiltonian_map = [\n",
    "    \n",
    "    [\"zz|\",kin_energy],\n",
    "    [\"|n\",mass_term],\n",
    "    [\"|I\",mass_term],\n",
    "\n",
    "    [\"+|+-\",interaction_term],\n",
    "    [\"-|-+\",interaction_term]\n",
    "]\n",
    "\n",
    "\n",
    "\n",
    "Ham_LGT = hamiltonian(hamiltonian_map,dynamic_list = [],basis=basis,**no_checks)\n",
    "Hamiltonian_LGT = Ham_LGT + 1e2*G\n",
    "ham_matrix = Hamiltonian_LGT.toarray()\n",
    "ham_LGT_matrix = Ham_LGT.toarray()"
   ]
  },
  {
   "cell_type": "code",
   "execution_count": 103,
   "id": "49e7b37a",
   "metadata": {},
   "outputs": [],
   "source": [
    "def check_hermitian(a, rtol=1e-10, atol=1e-10):\n",
    "    return np.allclose(a, a.conj().T, rtol=rtol, atol=atol)"
   ]
  },
  {
   "cell_type": "code",
   "execution_count": 104,
   "id": "2b05a3a2",
   "metadata": {},
   "outputs": [
    {
     "name": "stdout",
     "output_type": "stream",
     "text": [
      "True\n"
     ]
    }
   ],
   "source": [
    "print(check_hermitian(ham_matrix))"
   ]
  },
  {
   "cell_type": "code",
   "execution_count": 105,
   "id": "12fdd57b",
   "metadata": {},
   "outputs": [
    {
     "name": "stdout",
     "output_type": "stream",
     "text": [
      "True\n"
     ]
    }
   ],
   "source": [
    "print(check_hermitian(ham_LGT_matrix))"
   ]
  },
  {
   "cell_type": "code",
   "execution_count": 106,
   "id": "cc23726b",
   "metadata": {},
   "outputs": [],
   "source": [
    "eigenval,eigenvec = np.linalg.eigh(ham_LGT_matrix)"
   ]
  },
  {
   "cell_type": "code",
   "execution_count": 107,
   "id": "5a51f66d",
   "metadata": {},
   "outputs": [
    {
     "name": "stdout",
     "output_type": "stream",
     "text": [
      "[-0.89858083 -0.85163135 -0.56450944 -0.56450944 -0.54759751 -0.54759751\n",
      " -0.44759751 -0.44759751 -0.44759751 -0.44759751 -0.34759751 -0.34759751\n",
      " -0.31094653 -0.31094653 -0.31094653 -0.21094653 -0.21094653 -0.21094653\n",
      " -0.21094653 -0.21094653 -0.21094653 -0.21094653 -0.21094653 -0.21094653\n",
      " -0.21094653 -0.11094653 -0.11094653 -0.11094653 -0.0263627   0.00443016\n",
      "  0.00443016  0.02058679  0.175       0.275       0.275       0.275\n",
      "  0.275       0.275       0.275       0.275       0.275       0.275\n",
      "  0.275       0.275       0.275       0.275       0.275       0.375\n",
      "  0.375       0.375       0.375       0.375       0.375       0.375\n",
      "  0.375       0.375       0.375       0.375       0.375       0.375\n",
      "  0.375       0.375       0.375       0.375       0.375       0.375\n",
      "  0.375       0.375       0.375       0.375       0.375       0.375\n",
      "  0.375       0.375       0.375       0.375       0.375       0.375\n",
      "  0.375       0.375       0.375       0.475       0.475       0.475\n",
      "  0.475       0.475       0.475       0.475       0.475       0.475\n",
      "  0.475       0.475       0.475       0.475       0.475       0.575\n",
      "  0.72941321  0.74556984  0.74556984  0.7763627   0.86094653  0.86094653\n",
      "  0.86094653  0.96094653  0.96094653  0.96094653  0.96094653  0.96094653\n",
      "  0.96094653  0.96094653  0.96094653  0.96094653  0.96094653  1.06094653\n",
      "  1.06094653  1.06094653  1.09759751  1.09759751  1.19759751  1.19759751\n",
      "  1.19759751  1.19759751  1.29759751  1.29759751  1.31450944  1.31450944\n",
      "  1.60163135  1.64858083]\n"
     ]
    }
   ],
   "source": [
    "print(eigenval)"
   ]
  },
  {
   "cell_type": "code",
   "execution_count": 108,
   "id": "cdad5290",
   "metadata": {},
   "outputs": [],
   "source": [
    "eigenvalues,eigenvectors = np.linalg.eigh(ham_matrix)"
   ]
  },
  {
   "cell_type": "code",
   "execution_count": 109,
   "id": "ed8011e9",
   "metadata": {},
   "outputs": [
    {
     "name": "stdout",
     "output_type": "stream",
     "text": [
      "[-0.31094653  0.86094653]\n"
     ]
    }
   ],
   "source": [
    "print(eigenvalues[eigenvalues<=1e1])"
   ]
  },
  {
   "cell_type": "code",
   "execution_count": 97,
   "id": "b7233a49",
   "metadata": {},
   "outputs": [
    {
     "name": "stdout",
     "output_type": "stream",
     "text": [
      "35\n",
      "0.5522908581132391\n",
      "151\n",
      "0.26517468367576486\n",
      "499\n",
      "0.2651746836757699\n",
      "615\n",
      "0.3895102774670618\n",
      "847\n",
      "0.634524488153915\n"
     ]
    }
   ],
   "source": [
    "for i in range(basis.Ns):\n",
    "    if np.abs(eigenvectors[:,3][i])>=1e-3:\n",
    "        print(i)\n",
    "        print(np.abs(eigenvectors[:,3][i]))"
   ]
  },
  {
   "cell_type": "code",
   "execution_count": 98,
   "id": "7e2413fe",
   "metadata": {},
   "outputs": [
    {
     "name": "stdout",
     "output_type": "stream",
     "text": [
      "[-3.01390082e-19+0.00000000e+00j -3.48782704e-21-3.06078181e-20j\n",
      "  8.29220115e-17-7.14120283e-18j ...  2.79683078e-36-9.76434143e-39j\n",
      " -5.95747756e-27+2.25512699e-21j  0.00000000e+00+0.00000000e+00j]\n"
     ]
    }
   ],
   "source": [
    "print(eigenvectors[:,0])"
   ]
  },
  {
   "cell_type": "code",
   "execution_count": null,
   "id": "d4bfdcf6",
   "metadata": {},
   "outputs": [],
   "source": []
  },
  {
   "cell_type": "code",
   "execution_count": null,
   "id": "64d5b344",
   "metadata": {},
   "outputs": [],
   "source": []
  }
 ],
 "metadata": {
  "kernelspec": {
   "display_name": "Python 3",
   "language": "python",
   "name": "python3"
  },
  "language_info": {
   "codemirror_mode": {
    "name": "ipython",
    "version": 3
   },
   "file_extension": ".py",
   "mimetype": "text/x-python",
   "name": "python",
   "nbconvert_exporter": "python",
   "pygments_lexer": "ipython3",
   "version": "3.8.8"
  }
 },
 "nbformat": 4,
 "nbformat_minor": 5
}
