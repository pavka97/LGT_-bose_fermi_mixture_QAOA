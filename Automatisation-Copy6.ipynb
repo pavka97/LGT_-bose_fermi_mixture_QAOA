{
 "cells": [
  {
   "cell_type": "code",
   "execution_count": 24,
   "id": "55c84acf",
   "metadata": {},
   "outputs": [],
   "source": [
    "import scipy\n",
    "from scipy.linalg import expm\n",
    "import scipy.sparse as sparse\n",
    "from quspin.operators import hamiltonian, commutator, exp_op # Hamiltonians and operators\n",
    "from quspin.basis import tensor_basis, spin_basis_1d # bases\n",
    "import numpy as np # general math functions\n",
    "import matplotlib.pyplot as plt # plotting library"
   ]
  },
  {
   "cell_type": "code",
   "execution_count": 25,
   "id": "45093bff",
   "metadata": {},
   "outputs": [],
   "source": [
    "L = 5 #system size\n",
    "M = 0.1 #fermion mass\n",
    "N=1 #number of layers\n",
    "l=1 #spin length\n",
    "no_checks = dict(check_pcon=False,check_symm=False,check_herm=False)"
   ]
  },
  {
   "cell_type": "code",
   "execution_count": 26,
   "id": "61937c84",
   "metadata": {
    "scrolled": false
   },
   "outputs": [
    {
     "name": "stdout",
     "output_type": "stream",
     "text": [
      "reference states: \n",
      "array index   /   Fock state   /   integer repr. \n",
      "       0.         |2 2 2 2 2>           242  \n",
      "       1.         |2 2 2 2 1>           241  \n",
      "       2.         |2 2 2 2 0>           240  \n",
      "       3.         |2 2 2 1 2>           239  \n",
      "       4.         |2 2 2 1 1>           238  \n",
      "       5.         |2 2 2 1 0>           237  \n",
      "       6.         |2 2 2 0 2>           236  \n",
      "       7.         |2 2 2 0 1>           235  \n",
      "       8.         |2 2 2 0 0>           234  \n",
      "       9.         |2 2 1 2 2>           233  \n",
      "      10.         |2 2 1 2 1>           232  \n",
      "      11.         |2 2 1 2 0>           231  \n",
      "      12.         |2 2 1 1 2>           230  \n",
      "      13.         |2 2 1 1 1>           229  \n",
      "      14.         |2 2 1 1 0>           228  \n",
      "      15.         |2 2 1 0 2>           227  \n",
      "      16.         |2 2 1 0 1>           226  \n",
      "      17.         |2 2 1 0 0>           225  \n",
      "      18.         |2 2 0 2 2>           224  \n",
      "      19.         |2 2 0 2 1>           223  \n",
      "      20.         |2 2 0 2 0>           222  \n",
      "      21.         |2 2 0 1 2>           221  \n",
      "      22.         |2 2 0 1 1>           220  \n",
      "      23.         |2 2 0 1 0>           219  \n",
      "      24.         |2 2 0 0 2>           218  \n",
      "                     :\n",
      "     218.         |0 0 2 2 0>            24  \n",
      "     219.         |0 0 2 1 2>            23  \n",
      "     220.         |0 0 2 1 1>            22  \n",
      "     221.         |0 0 2 1 0>            21  \n",
      "     222.         |0 0 2 0 2>            20  \n",
      "     223.         |0 0 2 0 1>            19  \n",
      "     224.         |0 0 2 0 0>            18  \n",
      "     225.         |0 0 1 2 2>            17  \n",
      "     226.         |0 0 1 2 1>            16  \n",
      "     227.         |0 0 1 2 0>            15  \n",
      "     228.         |0 0 1 1 2>            14  \n",
      "     229.         |0 0 1 1 1>            13  \n",
      "     230.         |0 0 1 1 0>            12  \n",
      "     231.         |0 0 1 0 2>            11  \n",
      "     232.         |0 0 1 0 1>            10  \n",
      "     233.         |0 0 1 0 0>             9  \n",
      "     234.         |0 0 0 2 2>             8  \n",
      "     235.         |0 0 0 2 1>             7  \n",
      "     236.         |0 0 0 2 0>             6  \n",
      "     237.         |0 0 0 1 2>             5  \n",
      "     238.         |0 0 0 1 1>             4  \n",
      "     239.         |0 0 0 1 0>             3  \n",
      "     240.         |0 0 0 0 2>             2  \n",
      "     241.         |0 0 0 0 1>             1  \n",
      "     242.         |0 0 0 0 0>             0  \n"
     ]
    }
   ],
   "source": [
    "#construct basis\n",
    "basis=spin_basis_1d(L=L,S = str(l))\n",
    "print(basis)"
   ]
  },
  {
   "cell_type": "code",
   "execution_count": 27,
   "id": "f20d1ef8",
   "metadata": {},
   "outputs": [],
   "source": [
    "#initialisation of the Gauss laws\n",
    "\n",
    "liste = []\n",
    "liste_m = []\n",
    "gauss_law_map = []\n",
    "Gauss_law = []\n",
    "\n",
    "for i in range(L+1):\n",
    "    liste.append([[1.,i]])\n",
    "    liste_m.append([[-1.,i]])\n",
    "    if i == 0:\n",
    "        gauss_law_map.append([\n",
    "            [\"z\",liste[0]]\n",
    "        ])\n",
    "    \n",
    "    elif (i == L) & (i%2 == 0):\n",
    "        gauss_law_map.append([\n",
    "            [\"z\",liste_m[i-1]]\n",
    "        ])\n",
    "    \n",
    "    elif (i == L) & (i%2 == 1):\n",
    "        gauss_law_map.append([\n",
    "            [\"z\",liste_m[i-1]],\n",
    "            [\"I\",liste[i-1]]\n",
    "        ])        \n",
    "        \n",
    "    elif i%2 == 0:\n",
    "        gauss_law_map.append([\n",
    "            [\"z\",liste[i]],\n",
    "            [\"z\",liste_m[i-1]],\n",
    "        ])\n",
    "    elif i%2 == 1:\n",
    "        gauss_law_map.append([\n",
    "            [\"z\",liste[i]],\n",
    "            [\"z\",liste_m[i-1]],  \n",
    "            [\"I\",liste[i]]\n",
    "        ])\n",
    "    Gauss_law.append(hamiltonian(gauss_law_map[i],dynamic_list=[],basis=basis,**no_checks))\n"
   ]
  },
  {
   "cell_type": "code",
   "execution_count": 28,
   "id": "7a368c26",
   "metadata": {},
   "outputs": [],
   "source": [
    "#basis vectors as arrays\n",
    "basis_vectors = []\n",
    "for index in range(basis.Ns):\n",
    "    state = np.zeros(basis.Ns)\n",
    "    state[basis.Ns-index-1] = 1.\n",
    "    state = state.tolist()\n",
    "    basis_vectors.append(state)"
   ]
  },
  {
   "cell_type": "code",
   "execution_count": 29,
   "id": "b4aa3728",
   "metadata": {},
   "outputs": [],
   "source": [
    "#projectors on g=1 for every site\n",
    "Proj = [np.zeros((basis.Ns,basis.Ns)) for i in range(L+1)]\n",
    "for i in range(L+1):\n",
    "    for state in basis_vectors:\n",
    "        state = np.array(state)\n",
    "        if (Gauss_law[i].expt_value(state)>=1.-1e-8) & (Gauss_law[i].expt_value(state)<=1.+1e-8):\n",
    "            Proj[i] += np.outer(state,state)"
   ]
  },
  {
   "cell_type": "code",
   "execution_count": 30,
   "id": "28e68017",
   "metadata": {},
   "outputs": [
    {
     "name": "stdout",
     "output_type": "stream",
     "text": [
      "[[2.7+0.j 0. +0.j 0. +0.j ... 0. +0.j 0. +0.j 0. +0.j]\n",
      " [0. +0.j 2. +0.j 0. +0.j ... 0. +0.j 0. +0.j 0. +0.j]\n",
      " [0. +0.j 0. +0.j 2.3+0.j ... 0. +0.j 0. +0.j 0. +0.j]\n",
      " ...\n",
      " [0. +0.j 0. +0.j 0. +0.j ... 2.7+0.j 0. +0.j 0. +0.j]\n",
      " [0. +0.j 0. +0.j 0. +0.j ... 0. +0.j 2. +0.j 0. +0.j]\n",
      " [0. +0.j 0. +0.j 0. +0.j ... 0. +0.j 0. +0.j 2.3+0.j]]\n"
     ]
    }
   ],
   "source": [
    "#initialisation of the unitarily transformed Hamiltonian\n",
    "\n",
    "linear_term = []\n",
    "quadratic_term = []\n",
    "interaction_p = []\n",
    "interaction_m = []\n",
    "\n",
    "\n",
    "for i in range(L-1):\n",
    "    linear_term.append([[0.5/np.sqrt(2),i]])\n",
    "    quadratic_term.append([[(-1)**i/np.sqrt(2),i,i+1]])\n",
    "    interaction_p.append([\n",
    "        [\"+z\", quadratic_term[i]],\n",
    "        [\"+\", linear_term[i]]\n",
    "    ])\n",
    "    interaction_m.append([\n",
    "        [\"-z\", quadratic_term[i]],\n",
    "        [\"-\", linear_term[i]]\n",
    "    ])\n",
    "\n",
    "linear_term.append([[0.5/np.sqrt(2),L-1]])\n",
    "interaction_p.append([\n",
    "    [\"+\", linear_term[L-1]]\n",
    "])\n",
    "interaction_m.append([\n",
    "    [\"-\", linear_term[L-1]]\n",
    "])\n",
    "\n",
    "kin_energy = [[0.5,i,i] for i in range(L)]\n",
    "mass_term = [[2*(-1)**i*M,i] for i in range(L)]\n",
    "\n",
    "kin_mass_map = [\n",
    "            [\"zz\", kin_energy], \n",
    "            [\"z\", mass_term], \n",
    "]\n",
    "\n",
    "H_int_p = []\n",
    "H_int_m = []\n",
    "interaction = [np.zeros((basis.Ns,basis.Ns)) for i in range(L)]\n",
    "h_int = np.zeros((basis.Ns,basis.Ns))\n",
    "for i in range(L):\n",
    "    H_int_p.append(hamiltonian(interaction_p[i],dynamic_list=[],basis=basis,**no_checks))\n",
    "    H_int_m.append(hamiltonian(interaction_m[i],dynamic_list=[],basis=basis,**no_checks))\n",
    "    interaction[i] = (Proj[i]@H_int_p[i].toarray()@Proj[i+1]+Proj[i+1]@H_int_m[i].toarray()@Proj[i])\n",
    "\n",
    "H_kin_mass = hamiltonian(kin_mass_map,dynamic_list=[],basis=basis,**no_checks)\n",
    "h_kin_mass = H_kin_mass.toarray()\n",
    "\n",
    "h_int = np.zeros((basis.Ns,basis.Ns),dtype = complex)\n",
    "\n",
    "for i in range(L):\n",
    "    h_int += interaction[i]\n",
    "\n",
    "\n",
    "full_ham_matrix = h_kin_mass + h_int #Spin-1 Hamiltonian without the local contstaints\n",
    "\n",
    "\n",
    "G=0\n",
    "for i in range(L+1):\n",
    "    G += 1e1*(Gauss_law[i]**2-Gauss_law[i])**2\n",
    "constraint_full_matrix = G.toarray()\n",
    "\n",
    "constrained_full_ham_matrix= full_ham_matrix + constraint_full_matrix #Spin-1 Hamiltonian with the local contstaints as a penalty term\n",
    "print(full_ham_matrix)"
   ]
  },
  {
   "cell_type": "code",
   "execution_count": 31,
   "id": "3e7a9445",
   "metadata": {
    "scrolled": true
   },
   "outputs": [
    {
     "name": "stdout",
     "output_type": "stream",
     "text": [
      "[-1.0416023  -0.34551385 -0.34551385 -0.22065556 -0.13898669 -0.13898669\n",
      " -0.0142565   0.15174042  0.16101331  0.16101331  0.33967222  0.33967222\n",
      "  0.33967222  0.33967222  0.33967222  0.35848584  0.53430948  0.53430948\n",
      "  0.53479822  0.55681029  0.56101331  0.56101331  0.6         0.6\n",
      "  0.6         0.63967222  0.63967222  0.69336559  0.69336559  0.72748942\n",
      "  0.72748942  0.73967222  0.73967222  0.9         0.9         0.9\n",
      "  0.9         0.9         0.9         0.9         0.9         0.93430948\n",
      "  0.93430948  0.99336559  0.99336559  1.          1.          1.\n",
      "  1.          1.          1.          1.03967222  1.03967222  1.03967222\n",
      "  1.03967222  1.09336559  1.09336559  1.10404012  1.11592807  1.2\n",
      "  1.2         1.2         1.2         1.2         1.2284373   1.276925\n",
      "  1.276925    1.3         1.3         1.3         1.3         1.3\n",
      "  1.3         1.3         1.3         1.3         1.3         1.3\n",
      "  1.3         1.3         1.3         1.3         1.3         1.3\n",
      "  1.39336559  1.39336559  1.43663195  1.43663195  1.43898669  1.43898669\n",
      "  1.43967222  1.43967222  1.48612285  1.5         1.56032778  1.56032778\n",
      "  1.56032778  1.56032778  1.56032778  1.56589034  1.56589034  1.6\n",
      "  1.6         1.6         1.6         1.6         1.6         1.6\n",
      "  1.6         1.6         1.6         1.6         1.6         1.6\n",
      "  1.6         1.6         1.6         1.6         1.6         1.62798467\n",
      "  1.7         1.7         1.7         1.7         1.7         1.7\n",
      "  1.7         1.7         1.7         1.7         1.73898669  1.73898669\n",
      "  1.75182104  1.76913858  1.79336559  1.79336559  1.79754183  1.79754183\n",
      "  1.83663195  1.83663195  1.86032778  1.86032778  1.86589034  1.86589034\n",
      "  1.9         1.9         1.9         1.9         1.9         1.95519133\n",
      "  1.96032778  1.96032778  1.96589034  1.96589034  1.96722166  1.96722166\n",
      "  2.          2.          2.          2.          2.          2.\n",
      "  2.          2.          2.          2.          2.          2.\n",
      "  2.          2.          2.          2.          2.          2.01107024\n",
      "  2.02798467  2.02798467  2.09579725  2.1         2.13898669  2.13898669\n",
      "  2.22065556  2.26032778  2.26032778  2.26032778  2.26032778  2.26589034\n",
      "  2.26589034  2.3         2.3         2.3         2.3         2.3\n",
      "  2.3         2.3         2.34850063  2.36722166  2.36722166  2.4\n",
      "  2.4         2.4         2.4         2.4         2.4         2.4\n",
      "  2.4         2.42798467  2.44074406  2.44074406  2.4618369   2.4618369\n",
      "  2.54355759  2.54355759  2.66032778  2.66032778  2.66589034  2.66589034\n",
      "  2.67201533  2.7         2.7         2.7         2.7         2.7\n",
      "  2.71262995  2.74074406  2.74074406  2.8         2.8         2.84074406\n",
      "  2.84074406  2.85799378  2.8618369   2.8618369   3.07201533  3.07201533\n",
      "  3.1         3.1         3.14074406  3.14074406  3.47201533  3.5\n",
      "  3.54074406  3.54074406  3.6173529 ]\n"
     ]
    }
   ],
   "source": [
    "#eigenvalues and eigenvectors of the Spin-1 Hamiltonian without the local contstaints\n",
    "eigenval, eigenvec = np.linalg.eigh(full_ham_matrix)\n",
    "print(eigenval[eigenval<=1e1])"
   ]
  },
  {
   "cell_type": "code",
   "execution_count": 32,
   "id": "048542d6",
   "metadata": {},
   "outputs": [],
   "source": [
    "#eigenvalues and eigenvectors of the Spin-1 Hamiltonian with the local contstaints\n",
    "eigenvalues, eigenvectors = np.linalg.eigh(constrained_full_ham_matrix)"
   ]
  },
  {
   "cell_type": "code",
   "execution_count": 33,
   "id": "78f509b0",
   "metadata": {},
   "outputs": [
    {
     "name": "stdout",
     "output_type": "stream",
     "text": [
      "[-1.0416023  -0.0142565   0.15174042  0.35848584  0.53479822  0.55681029\n",
      "  1.10404012  1.11592807  1.2284373   1.48612285  1.75182104  1.76913858\n",
      "  1.95519133  2.01107024  2.09579725  2.34850063  2.71262995  2.85799378\n",
      "  3.6173529 ]\n"
     ]
    }
   ],
   "source": [
    "#Gauge invariant part of the spectrum\n",
    "print(eigenvalues[eigenvalues<=1e1])\n"
   ]
  },
  {
   "cell_type": "code",
   "execution_count": 34,
   "id": "b9a080c3",
   "metadata": {},
   "outputs": [],
   "source": [
    "#initial state\n",
    "string = \"\"\n",
    "for i in range(L):\n",
    "    string +=\"1\"\n",
    "psi_0 = np.zeros(basis.Ns)\n",
    "i_0 = basis.index(string)\n",
    "psi_0[i_0] = 1."
   ]
  },
  {
   "cell_type": "code",
   "execution_count": 35,
   "id": "15933bc7",
   "metadata": {},
   "outputs": [
    {
     "name": "stdout",
     "output_type": "stream",
     "text": [
      "0.0\n"
     ]
    }
   ],
   "source": [
    "#cost function of the initial state\n",
    "expt_value = 0\n",
    "matvec_h = full_ham_matrix@psi_0\n",
    "matvec_c = constraint_full_matrix@psi_0\n",
    "for i in range(basis.Ns):\n",
    "    expt_value += np.conj(psi_0[i])*(matvec_h[i]+matvec_c[i])\n",
    "print(np.real(expt_value))"
   ]
  },
  {
   "cell_type": "code",
   "execution_count": 36,
   "id": "18c10437",
   "metadata": {},
   "outputs": [
    {
     "name": "stdout",
     "output_type": "stream",
     "text": [
      "0j\n"
     ]
    }
   ],
   "source": [
    "expt_value = 0\n",
    "matvec = full_ham_matrix@psi_0\n",
    "for i in range(basis.Ns):\n",
    "    expt_value += np.conj(psi_0[i])*matvec[i]\n",
    "print(expt_value)"
   ]
  },
  {
   "cell_type": "code",
   "execution_count": 37,
   "id": "55c01074",
   "metadata": {},
   "outputs": [],
   "source": [
    "def rot_sigma(k,i,j,phi,theta):\n",
    "    if k>=L:\n",
    "        print(\"Warning! Rotations apply to k<=L-1!\")\n",
    "    sigma = np.zeros((3,3),dtype = complex)\n",
    "    sigma[2-i][2-j] = 0.5*(np.cos(phi)+1j*np.sin(phi))\n",
    "    sigma[2-j][2-i] = 0.5*(np.cos(phi)-1j*np.sin(phi))\n",
    "    sigma = sparse.csc_matrix(sigma)\n",
    "    rot_matrix = expm(-1j*theta*sigma/2)\n",
    "    if k==0:\n",
    "        tensprod = rot_matrix\n",
    "        for i in range(L-1):\n",
    "            tensprod = scipy.sparse.kron(tensprod,sparse.identity(3))\n",
    "    else:\n",
    "        tensprod = sparse.identity(3)\n",
    "        for i in range(1,k):\n",
    "            tensprod = scipy.sparse.kron(tensprod,sparse.identity(3))\n",
    "        tensprod = scipy.sparse.kron(tensprod,rot_matrix)\n",
    "        for i in range(k+1,L):\n",
    "            tensprod = scipy.sparse.kron(tensprod,sparse.identity(3))\n",
    "    return tensprod\n",
    "\n",
    "def rot_ms(k,i,j,phi,theta):\n",
    "    sigma = np.zeros((3,3),dtype = complex)\n",
    "    sigma[2-i][2-j] = 0.5*(np.cos(phi)+1j*np.sin(phi))\n",
    "    sigma[2-j][2-i] = 0.5*(np.cos(phi)-1j*np.sin(phi))\n",
    "    sigma = sparse.csc_matrix(sigma)\n",
    "    power_matrix = scipy.sparse.kron(sigma,sparse.identity(3))+scipy.sparse.kron(sparse.identity(3),sigma)\n",
    "    rot_matrix = scipy.sparse.linalg.expm(-1j*power_matrix*theta/4)\n",
    "    if k == 0:\n",
    "        tensprod = rot_matrix\n",
    "        for i in range(L-2):\n",
    "            tensprod = scipy.sparse.kron(tensprod,sparse.identity(3))\n",
    "    else:\n",
    "        tensprod = sparse.identity(3)\n",
    "        for i in range(1,k):\n",
    "            tensprod = scipy.sparse.kron(tensprod,sparse.identity(3))\n",
    "        tensprod = scipy.sparse.kron(tensprod,rot_matrix)\n",
    "        for i in range(k+2,L):\n",
    "            tensprod = scipy.sparse.kron(tensprod,sparse.identity(3))\n",
    "    return tensprod\n",
    "\n",
    "def rot_ms_e(i,j,phi,theta):\n",
    "    ms_e = sparse.identity(basis.Ns,dtype = complex)\n",
    "    for k in range(1,int(L/2)):\n",
    "        ms_e = rot_ms(2*k,i,j,phi,theta)@ms_e\n",
    "    return(ms_e)\n",
    "\n",
    "def rot_ms_o(i,j,phi,theta):\n",
    "    ms_o = sparse.identity(basis.Ns,dtype = complex)\n",
    "    for k in range(int(L/2)-1):\n",
    "        ms_o = rot_ms(2*k+1,i,j,phi,theta)@ms_o\n",
    "    return(ms_o)\n",
    "\n",
    "def rot_sigma_e(i,j,phi,theta):\n",
    "    sigma_e = sparse.identity(basis.Ns,dtype = complex)\n",
    "    for k in range(1,int(L/2)):\n",
    "        sigma_e = rot_sigma(2*k,i,j,phi,theta)@sigma_e\n",
    "    return(sigma_e)\n",
    "\n",
    "def rot_sigma_o(i,j,phi,theta):\n",
    "    sigma_o = sparse.identity(basis.Ns,dtype = complex)\n",
    "    for k in range(int(L/2)):\n",
    "        sigma_o = rot_sigma(2*k,i,j,phi,theta)@sigma_o\n",
    "    return(sigma_o)"
   ]
  },
  {
   "cell_type": "code",
   "execution_count": 38,
   "id": "4cfe205c",
   "metadata": {},
   "outputs": [],
   "source": [
    "opt_params = []\n",
    "function_values = []\n",
    "def callback_function(x,fun,context):\n",
    "    opt_params.append(x)\n",
    "    function_values.append(fun)\n"
   ]
  },
  {
   "cell_type": "code",
   "execution_count": 39,
   "id": "5b1e1eb0",
   "metadata": {},
   "outputs": [],
   "source": [
    "full_ham_matrix = sparse.csr_matrix(full_ham_matrix)"
   ]
  },
  {
   "cell_type": "code",
   "execution_count": 40,
   "id": "c4c9af24",
   "metadata": {},
   "outputs": [],
   "source": [
    "#cost function definition\n",
    "def cost_function_sigma(theta,psi,N):\n",
    "    if len(theta)!=18*N:\n",
    "        print(\"Warning: The number of variational parameters does not match the number of layers!\")\n",
    "    psi_var = psi\n",
    "    for i in range(N):\n",
    "        psi_var = rot_ms(0,0,2,0,theta[18*i+5])@rot_ms(0,1,2,0,theta[18*i+4])@rot_ms(0,0,1,0,theta[18*i+3])@rot_sigma(0,0,2,0,theta[18*i+2])@rot_sigma(0,1,2,0,theta[18*i+1])@rot_sigma(0,0,1,0,theta[18*i+0])@psi_var\n",
    "        psi_var = rot_ms_o(0,2,0,theta[18*i+17])@rot_ms_o(1,2,0,theta[18*i+16])@rot_ms_o(0,1,0,theta[18*i+15])@rot_ms_e(0,2,0,theta[18*i+14])@rot_ms_e(1,2,0,theta[18*i+13])@rot_ms_e(0,1,0,theta[18*i+12])@rot_sigma_o(0,2,0,theta[18*i+11])@rot_sigma_o(1,2,0,theta[18*i+10])@rot_sigma_o(0,1,0,theta[18*i+9])@rot_sigma_e(0,2,0,theta[18*i+8])@rot_sigma_e(1,2,0,theta[12*i+7])@rot_sigma_e(0,1,0,theta[18*i+6])@psi_var\n",
    "        psi_var = rot_ms(L-2,0,2,0,theta[18*i+5])@rot_ms(L-2,1,2,0,theta[18*i+4])@rot_ms(L-2,0,1,0,theta[18*i+3])@rot_sigma(L-1,0,2,0,theta[18*i+2])@rot_sigma(L-1,1,2,0,theta[18*i+1])@rot_sigma(L-1,0,1,0,theta[18*i+0])@psi_var\n",
    "    expt_value = 0\n",
    "    matvec = full_ham_matrix@psi_var\n",
    "    for i in range(basis.Ns):\n",
    "        expt_value += np.conj(psi_var[i])*matvec[i]\n",
    "    cost = expt_value\n",
    "    return np.real(cost)"
   ]
  },
  {
   "cell_type": "code",
   "execution_count": 41,
   "id": "9f2e45ec",
   "metadata": {},
   "outputs": [
    {
     "name": "stdout",
     "output_type": "stream",
     "text": [
      "2022-03-07 11:06:53.069930\n",
      "2022-03-07 12:13:41.573282\n"
     ]
    }
   ],
   "source": [
    "#optimisation algorithm\n",
    "from scipy.optimize import dual_annealing\n",
    "import datetime\n",
    "duan_ranges = []\n",
    "for i in range(18*N):\n",
    "    duan_ranges.append((-np.pi,np.pi))\n",
    "resduan = 0\n",
    "print(datetime.datetime.now())\n",
    "resduan = dual_annealing(cost_function_sigma, duan_ranges, args = (psi_0,N))\n",
    "print(datetime.datetime.now())"
   ]
  },
  {
   "cell_type": "code",
   "execution_count": 42,
   "id": "1591ca5c",
   "metadata": {},
   "outputs": [
    {
     "name": "stdout",
     "output_type": "stream",
     "text": [
      "-0.8583492241835142\n",
      "[-2.51762665  1.22917972 -2.53262179  2.42119712 -3.02578181 -3.14159265\n",
      "  2.44121994 -2.7937789  -1.46787908  1.5367619   0.52338019  2.59272154\n",
      " -2.07245073  2.80396656  3.14159265 -2.81591884  3.14159265  3.14159265]\n"
     ]
    }
   ],
   "source": [
    "#results\n",
    "print(resduan.fun)\n",
    "print(resduan.x)\n"
   ]
  },
  {
   "cell_type": "code",
   "execution_count": 43,
   "id": "e423f15e",
   "metadata": {},
   "outputs": [
    {
     "name": "stdout",
     "output_type": "stream",
     "text": [
      "0.8634782236187499\n",
      "-0.8583492241835142\n"
     ]
    }
   ],
   "source": [
    "#fidelity of the result\n",
    "theta = resduan.x\n",
    "\n",
    "psi_var = psi_0\n",
    "for i in range(N):\n",
    "    psi_var = rot_ms(0,0,2,0,theta[18*i+5])@rot_ms(0,1,2,0,theta[18*i+4])@rot_ms(0,0,1,0,theta[18*i+3])@rot_sigma(0,0,2,0,theta[18*i+2])@rot_sigma(0,1,2,0,theta[18*i+1])@rot_sigma(0,0,1,0,theta[18*i+0])@psi_var\n",
    "    psi_var = rot_ms_o(0,2,0,theta[18*i+17])@rot_ms_o(1,2,0,theta[18*i+16])@rot_ms_o(0,1,0,theta[18*i+15])@rot_ms_e(0,2,0,theta[18*i+14])@rot_ms_e(1,2,0,theta[18*i+13])@rot_ms_e(0,1,0,theta[18*i+12])@rot_sigma_o(0,2,0,theta[18*i+11])@rot_sigma_o(1,2,0,theta[18*i+10])@rot_sigma_o(0,1,0,theta[18*i+9])@rot_sigma_e(0,2,0,theta[18*i+8])@rot_sigma_e(1,2,0,theta[12*i+7])@rot_sigma_e(0,1,0,theta[18*i+6])@psi_var\n",
    "    psi_var = rot_ms(L-2,0,2,0,theta[18*i+5])@rot_ms(L-2,1,2,0,theta[18*i+4])@rot_ms(L-2,0,1,0,theta[18*i+3])@rot_sigma(L-1,0,2,0,theta[18*i+2])@rot_sigma(L-1,1,2,0,theta[18*i+1])@rot_sigma(L-1,0,1,0,theta[18*i+0])@psi_var\n",
    "print(np.abs(np.dot(np.conj(psi_var),eigenvectors[:,0]))**2)\n",
    "expt_value = 0\n",
    "matvec = full_ham_matrix@psi_var\n",
    "for i in range(basis.Ns):\n",
    "    expt_value += np.conj(psi_var[i])*matvec[i]\n",
    "print(np.real(expt_value))"
   ]
  },
  {
   "cell_type": "code",
   "execution_count": null,
   "id": "d2f15bb6",
   "metadata": {},
   "outputs": [],
   "source": []
  }
 ],
 "metadata": {
  "kernelspec": {
   "display_name": "Python 3",
   "language": "python",
   "name": "python3"
  },
  "language_info": {
   "codemirror_mode": {
    "name": "ipython",
    "version": 3
   },
   "file_extension": ".py",
   "mimetype": "text/x-python",
   "name": "python",
   "nbconvert_exporter": "python",
   "pygments_lexer": "ipython3",
   "version": "3.8.8"
  }
 },
 "nbformat": 4,
 "nbformat_minor": 5
}
