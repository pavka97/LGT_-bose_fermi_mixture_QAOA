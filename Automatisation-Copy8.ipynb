{
 "cells": [
  {
   "cell_type": "code",
   "execution_count": 5,
   "id": "55c84acf",
   "metadata": {},
   "outputs": [],
   "source": [
    "import scipy\n",
    "from scipy.linalg import expm\n",
    "import scipy.sparse as sparse\n",
    "from quspin.operators import hamiltonian, commutator, exp_op # Hamiltonians and operators\n",
    "from quspin.basis import tensor_basis, spin_basis_1d # bases\n",
    "import numpy as np # general math functions\n",
    "import matplotlib.pyplot as plt # plotting library"
   ]
  },
  {
   "cell_type": "code",
   "execution_count": 6,
   "id": "45093bff",
   "metadata": {},
   "outputs": [],
   "source": [
    "L = 7 #system size\n",
    "M = 0.1 #fermion mass\n",
    "N=5 #number of layers\n",
    "l=1 #spin length\n",
    "no_checks = dict(check_pcon=False,check_symm=False,check_herm=False)"
   ]
  },
  {
   "cell_type": "code",
   "execution_count": 7,
   "id": "61937c84",
   "metadata": {
    "scrolled": false
   },
   "outputs": [
    {
     "name": "stdout",
     "output_type": "stream",
     "text": [
      "reference states: \n",
      "array index   /   Fock state   /   integer repr. \n",
      "        0.         |2 2 2 2 2 2 2>           2186  \n",
      "        1.         |2 2 2 2 2 2 1>           2185  \n",
      "        2.         |2 2 2 2 2 2 0>           2184  \n",
      "        3.         |2 2 2 2 2 1 2>           2183  \n",
      "        4.         |2 2 2 2 2 1 1>           2182  \n",
      "        5.         |2 2 2 2 2 1 0>           2181  \n",
      "        6.         |2 2 2 2 2 0 2>           2180  \n",
      "        7.         |2 2 2 2 2 0 1>           2179  \n",
      "        8.         |2 2 2 2 2 0 0>           2178  \n",
      "        9.         |2 2 2 2 1 2 2>           2177  \n",
      "       10.         |2 2 2 2 1 2 1>           2176  \n",
      "       11.         |2 2 2 2 1 2 0>           2175  \n",
      "       12.         |2 2 2 2 1 1 2>           2174  \n",
      "       13.         |2 2 2 2 1 1 1>           2173  \n",
      "       14.         |2 2 2 2 1 1 0>           2172  \n",
      "       15.         |2 2 2 2 1 0 2>           2171  \n",
      "       16.         |2 2 2 2 1 0 1>           2170  \n",
      "       17.         |2 2 2 2 1 0 0>           2169  \n",
      "       18.         |2 2 2 2 0 2 2>           2168  \n",
      "       19.         |2 2 2 2 0 2 1>           2167  \n",
      "       20.         |2 2 2 2 0 2 0>           2166  \n",
      "       21.         |2 2 2 2 0 1 2>           2165  \n",
      "       22.         |2 2 2 2 0 1 1>           2164  \n",
      "       23.         |2 2 2 2 0 1 0>           2163  \n",
      "       24.         |2 2 2 2 0 0 2>           2162  \n",
      "                        :\n",
      "     2162.         |0 0 0 0 2 2 0>             24  \n",
      "     2163.         |0 0 0 0 2 1 2>             23  \n",
      "     2164.         |0 0 0 0 2 1 1>             22  \n",
      "     2165.         |0 0 0 0 2 1 0>             21  \n",
      "     2166.         |0 0 0 0 2 0 2>             20  \n",
      "     2167.         |0 0 0 0 2 0 1>             19  \n",
      "     2168.         |0 0 0 0 2 0 0>             18  \n",
      "     2169.         |0 0 0 0 1 2 2>             17  \n",
      "     2170.         |0 0 0 0 1 2 1>             16  \n",
      "     2171.         |0 0 0 0 1 2 0>             15  \n",
      "     2172.         |0 0 0 0 1 1 2>             14  \n",
      "     2173.         |0 0 0 0 1 1 1>             13  \n",
      "     2174.         |0 0 0 0 1 1 0>             12  \n",
      "     2175.         |0 0 0 0 1 0 2>             11  \n",
      "     2176.         |0 0 0 0 1 0 1>             10  \n",
      "     2177.         |0 0 0 0 1 0 0>              9  \n",
      "     2178.         |0 0 0 0 0 2 2>              8  \n",
      "     2179.         |0 0 0 0 0 2 1>              7  \n",
      "     2180.         |0 0 0 0 0 2 0>              6  \n",
      "     2181.         |0 0 0 0 0 1 2>              5  \n",
      "     2182.         |0 0 0 0 0 1 1>              4  \n",
      "     2183.         |0 0 0 0 0 1 0>              3  \n",
      "     2184.         |0 0 0 0 0 0 2>              2  \n",
      "     2185.         |0 0 0 0 0 0 1>              1  \n",
      "     2186.         |0 0 0 0 0 0 0>              0  \n"
     ]
    }
   ],
   "source": [
    "#construct basis\n",
    "basis=spin_basis_1d(L=L,S = str(l))\n",
    "print(basis)"
   ]
  },
  {
   "cell_type": "code",
   "execution_count": 46,
   "id": "f20d1ef8",
   "metadata": {},
   "outputs": [],
   "source": [
    "#initialisation of the Gauss laws\n",
    "\n",
    "liste = []\n",
    "liste_m = []\n",
    "gauss_law_map = []\n",
    "Gauss_law = []\n",
    "gauss_law_matrix = []\n",
    "for i in range(L+1):\n",
    "    liste.append([[1.,i]])\n",
    "    liste_m.append([[-1.,i]])\n",
    "    if i == 0:\n",
    "        gauss_law_map.append([\n",
    "            [\"z\",liste[0]],\n",
    "        ])\n",
    "    \n",
    "    elif (i == L) & (i%2 == 0):\n",
    "        gauss_law_map.append([\n",
    "            [\"z\",liste_m[i-1]],\n",
    "        ])\n",
    "    \n",
    "    elif (i == L) & (i%2 == 1):\n",
    "        gauss_law_map.append([\n",
    "            [\"z\",liste_m[i-1]],\n",
    "            [\"I\",liste[i-1]],\n",
    "        ])        \n",
    "        \n",
    "    elif i%2 == 0:\n",
    "        gauss_law_map.append([\n",
    "            [\"z\",liste[i]],\n",
    "            [\"z\",liste_m[i-1]],\n",
    "        ])\n",
    "    elif i%2 == 1:\n",
    "        gauss_law_map.append([\n",
    "            [\"z\",liste[i]],\n",
    "            [\"z\",liste_m[i-1]],  \n",
    "            [\"I\",liste[i]]\n",
    "        ])\n",
    "    Gauss_law.append(hamiltonian(gauss_law_map[i],dynamic_list=[],basis=basis,**no_checks))\n",
    "for i in range(L+1):\n",
    "    gauss_law_matrix.append(sparse.dok_matrix(Gauss_law[i].toarray()))"
   ]
  },
  {
   "cell_type": "code",
   "execution_count": 116,
   "id": "bcf17799",
   "metadata": {
    "scrolled": true
   },
   "outputs": [
    {
     "name": "stdout",
     "output_type": "stream",
     "text": [
      "[ 0.00634921  0.         -0.17777778 -0.          1.42222222 -0.\n",
      " -3.25079365 -0.          1.        ]\n"
     ]
    }
   ],
   "source": [
    "l=4\n",
    "A = np.zeros((2*l+1,2*l+1))\n",
    "for i in range(2*l+1):\n",
    "    for j in range(2*l+1):\n",
    "        A[i][j] = (-l+i)**(2*l-j)\n",
    "b = np.zeros(2*l+1)\n",
    "for i in range(2*l+1):\n",
    "    b[i] = (-1)**(-l+i)\n",
    "x = scipy.linalg.solve(A,b)\n",
    "print(x)"
   ]
  },
  {
   "cell_type": "code",
   "execution_count": null,
   "id": "f89e24fe",
   "metadata": {},
   "outputs": [],
   "source": [
    "m_epsilon = 0\n",
    "\n",
    "const_term.append([[((-1)**i*x[0])/(2*np.sqrt(l*(l+1))),i]])\n",
    "linear_term.append([[((-1)**i*x[1])/(2*np.sqrt(l*(l+1))),i,i+1]])\n",
    "quadratic_term.append([[((-1)**i*x[2])/(2*np.sqrt(l*(l+1))),i,i+1,i+1]])\n",
    "cubic_term.append([[((-1)**i*x[3])/(2*np.sqrt(l*(l+1))),i,i+1,i+1,i+1]])\n",
    "quartic_term.append([[((-1)**i*x[4])/(2*np.sqrt(l*(l+1))),i,i+1,i+1,i+1,i+1]])\n",
    "quintic_term.append([[((-1)**i*x[5])/(2*np.sqrt(l*(l+1))),i,i+1,i+1,i+1,i+1,i+1]])\n",
    "sextic_term.append([[((-1)**i*x[6])/(2*np.sqrt(l*(l+1))),i,i+1,i+1,i+1,i+1,i+1,i+1]])\n",
    "septic_term.append([[((-1)**i*x[7])/(2*np.sqrt(l*(l+1))),i,i+1,i+1,i+1,i+1,i+1,i+1,i+1]])\n",
    "octic_term.append([[((-1)**i*x[8])/(2*np.sqrt(l*(l+1))),i,i+1,i+1,i+1,i+1,i+1,i+1,i+1,i+1]])\n",
    "nonic_term.append([[((-1)**i*x[9])/(2*np.sqrt(l*(l+1))),i,i+1,i+1,i+1,i+1,i+1,i+1,i+1,i+1,i+1]])\n",
    "\n",
    "interaction_p.append([\n",
    "    [\"+\", const_term[i]],\n",
    "    [\"+z\", linear_term[i]],\n",
    "    [\"+zz\", quadratic_term[i]],\n",
    "    [\"+zzz\", qubic_term[i]],\n",
    "    [\"+zzzz\", quartic_term[i]],\n",
    "    [\"+zzzzz\", quintic_term[i]],\n",
    "    [\"+zzzzzz\", sextic_term[i]],\n",
    "    [\"+zzzzzzz\", septic_term[i]],\n",
    "    [\"+zzzzzzzz\", octic_term[i]],\n",
    "    [\"+zzzzzzzzz\", nonic_term[i]],\n",
    "]\n",
    "    \n",
    "interaction_m.append([\n",
    "    [\"-\", const_term[i]],\n",
    "    [\"-z\", linear_term[i]],\n",
    "    [\"-zz\", quadratic_term[i]],\n",
    "    [\"-zzz\", qubic_term[i]],\n",
    "    [\"-zzzz\", quartic_term[i]],\n",
    "    [\"-zzzzz\", quintic_term[i]],\n",
    "    [\"-zzzzzz\", sextic_term[i]],\n",
    "    [\"-zzzzzzz\", septic_term[i]],\n",
    "    [\"-zzzzzzzz\", octic_term[i]],\n",
    "    [\"-zzzzzzzzz\", nonic_term[i]],\n",
    "])\n",
    "\n",
    "linear_term.append([[(0.5*(-1)**m_epsilon)/np.sqrt(l*(l-1)),L-1]])\n",
    "\n",
    "interaction_p.append([\n",
    "    [\"+\", const_term[L-1]]\n",
    "])\n",
    "interaction_m.append([\n",
    "    [\"-\", const_term[L-1]]\n",
    "])\n",
    "    "
   ]
  },
  {
   "cell_type": "code",
   "execution_count": 47,
   "id": "7a368c26",
   "metadata": {},
   "outputs": [],
   "source": [
    "#basis vectors as arrays\n",
    "#basis_vectors = []\n",
    "#for index in range(basis.Ns):\n",
    "#    state = np.zeros(basis.Ns)\n",
    "#    state[basis.Ns-index-1] = 1.\n",
    "#    state = state.tolist()\n",
    "#    basis_vectors.append(state)"
   ]
  },
  {
   "cell_type": "code",
   "execution_count": 48,
   "id": "b4aa3728",
   "metadata": {},
   "outputs": [],
   "source": [
    "#projectors on g=1 for every site\n",
    "#Proj = [np.zeros((basis.Ns,basis.Ns)) for i in range(L+1)]\n",
    "#for i in range(L+1):\n",
    "#    for state in basis_vectors:\n",
    "#        state = np.array(state)\n",
    "#        if (Gauss_law[i].expt_value(state)>=1.-1e-8) & (Gauss_law[i].expt_value(state)<=1.+1e-8):\n",
    "#            Proj[i] += np.outer(state,state)"
   ]
  },
  {
   "cell_type": "code",
   "execution_count": 49,
   "id": "bc467cb9",
   "metadata": {},
   "outputs": [],
   "source": [
    "#projectors on g=1 for every site\n",
    "Proj = [np.zeros((basis.Ns,basis.Ns)) for i in range(L+1)]\n",
    "for i in range(L+1):\n",
    "    for j in range(basis.Ns):\n",
    "        if (np.real(gauss_law_matrix[i][j,j])>=1.-1e-8) & (np.real(gauss_law_matrix[i][j,j])<=1.+1e-8):\n",
    "            Proj[i][j][j] = 1.\n",
    "for i in range(L+1):\n",
    "    Proj[i] = sparse.csc_matrix(Proj[i])"
   ]
  },
  {
   "cell_type": "code",
   "execution_count": 50,
   "id": "28e68017",
   "metadata": {},
   "outputs": [
    {
     "name": "stdout",
     "output_type": "stream",
     "text": [
      "[[3.7+0.j 0. +0.j 0. +0.j ... 0. +0.j 0. +0.j 0. +0.j]\n",
      " [0. +0.j 3. +0.j 0. +0.j ... 0. +0.j 0. +0.j 0. +0.j]\n",
      " [0. +0.j 0. +0.j 3.3+0.j ... 0. +0.j 0. +0.j 0. +0.j]\n",
      " ...\n",
      " [0. +0.j 0. +0.j 0. +0.j ... 3.7+0.j 0. +0.j 0. +0.j]\n",
      " [0. +0.j 0. +0.j 0. +0.j ... 0. +0.j 3. +0.j 0. +0.j]\n",
      " [0. +0.j 0. +0.j 0. +0.j ... 0. +0.j 0. +0.j 3.3+0.j]]\n"
     ]
    }
   ],
   "source": [
    "#initialisation of the unitarily transformed Hamiltonian\n",
    "linear_term = []\n",
    "quadratic_term = []\n",
    "interaction_p = []\n",
    "interaction_m = []\n",
    "\n",
    "\n",
    "for i in range(L-1):\n",
    "    linear_term.append([[0.5/np.sqrt(2),i]])\n",
    "    quadratic_term.append([[(-1)**i/np.sqrt(2),i,i+1]])\n",
    "    interaction_p.append([\n",
    "        [\"+z\", quadratic_term[i]],\n",
    "        [\"+\", linear_term[i]]\n",
    "    ])\n",
    "    interaction_m.append([\n",
    "        [\"-z\", quadratic_term[i]],\n",
    "        [\"-\", linear_term[i]]\n",
    "    ])\n",
    "\n",
    "linear_term.append([[0.5/np.sqrt(2),L-1]])\n",
    "interaction_p.append([\n",
    "    [\"+\", linear_term[L-1]]\n",
    "])\n",
    "interaction_m.append([\n",
    "    [\"-\", linear_term[L-1]]\n",
    "])\n",
    "\n",
    "kin_energy = [[0.5,i,i] for i in range(L)]\n",
    "mass_term = [[2*(-1)**i*M,i] for i in range(L)]\n",
    "\n",
    "kin_mass_map = [\n",
    "            [\"zz\", kin_energy], \n",
    "            [\"z\", mass_term], \n",
    "]\n",
    "\n",
    "H_int_p = []\n",
    "H_int_m = []\n",
    "interaction = [np.zeros((basis.Ns,basis.Ns)) for i in range(L)]\n",
    "h_int = np.zeros((basis.Ns,basis.Ns))\n",
    "for i in range(L):\n",
    "    H_int_p.append(hamiltonian(interaction_p[i],dynamic_list=[],basis=basis,**no_checks))\n",
    "    H_int_m.append(hamiltonian(interaction_m[i],dynamic_list=[],basis=basis,**no_checks))\n",
    "    interaction[i] = (Proj[i]@H_int_p[i].toarray()@Proj[i+1]+Proj[i+1]@H_int_m[i].toarray()@Proj[i])\n",
    "\n",
    "H_kin_mass = hamiltonian(kin_mass_map,dynamic_list=[],basis=basis,**no_checks)\n",
    "h_kin_mass = H_kin_mass.toarray()\n",
    "\n",
    "h_int = np.zeros((basis.Ns,basis.Ns),dtype = complex)\n",
    "\n",
    "for i in range(L):\n",
    "    h_int += interaction[i]\n",
    "\n",
    "\n",
    "full_ham_matrix = h_kin_mass + h_int #Spin-1 Hamiltonian without the local contstaints\n",
    "\n",
    "\n",
    "G=0\n",
    "for i in range(L+1):\n",
    "    G += 1e1*(Gauss_law[i]**2-Gauss_law[i])**2\n",
    "constraint_full_matrix = G.toarray()\n",
    "constrained_full_ham_matrix= full_ham_matrix + constraint_full_matrix #Spin-1 Hamiltonian with the local contstaints as a penalty term\n",
    "print(full_ham_matrix)"
   ]
  },
  {
   "cell_type": "code",
   "execution_count": 51,
   "id": "3e7a9445",
   "metadata": {
    "scrolled": true
   },
   "outputs": [
    {
     "name": "stdout",
     "output_type": "stream",
     "text": [
      "[-1.43920377 -0.7416023  -0.7416023  ...  4.94074406  4.98148813\n",
      "  5.00597562]\n",
      "[ 4.32858290e-04+0.j -1.30104261e-18+0.j -1.04083409e-17+0.j ...\n",
      "  0.00000000e+00+0.j  0.00000000e+00+0.j  0.00000000e+00+0.j]\n"
     ]
    }
   ],
   "source": [
    "#eigenvalues and eigenvectors of the Spin-1 Hamiltonian without the local contstaints\n",
    "eigenval, eigenvec = np.linalg.eigh(full_ham_matrix)\n",
    "print(eigenval[eigenval<=1e1])\n",
    "print(eigenvec[:,0])"
   ]
  },
  {
   "cell_type": "code",
   "execution_count": 52,
   "id": "048542d6",
   "metadata": {},
   "outputs": [],
   "source": [
    "#eigenvalues and eigenvectors of the Spin-1 Hamiltonian with the local contstaints\n",
    "eigenvalues, eigenvectors = np.linalg.eigh(constrained_full_ham_matrix)"
   ]
  },
  {
   "cell_type": "code",
   "execution_count": 53,
   "id": "78f509b0",
   "metadata": {},
   "outputs": [
    {
     "name": "stdout",
     "output_type": "stream",
     "text": [
      "[-1.43920377 -0.43399733 -0.32159336 -0.17352744 -0.01104944  0.11349689\n",
      "  0.14034139  0.15247667  0.67748689  0.72641373  0.73214018  0.7695912\n",
      "  0.80468997  0.92321674  1.05204262  1.17506969  1.217119    1.31698347\n",
      "  1.32648685  1.34053626  1.41563032  1.47394623  1.58633731  1.61010737\n",
      "  1.61415903  1.66141139  1.68756195  1.71022226  1.85835916  1.89678188\n",
      "  1.91964161  1.95847959  1.9759044   2.13011749  2.23625361  2.31561227\n",
      "  2.33983904  2.39182111  2.41251103  2.51778129  2.54328124  2.57753365\n",
      "  2.65798553  2.71923725  2.76763911  2.78904084  2.88869648  3.04503279\n",
      "  3.05338323  3.22444353  3.22516849  3.28308319  3.32624269  3.34696698\n",
      "  3.452475    3.50648218  3.68652011  4.0173512   4.15974251  4.22251984\n",
      "  5.00597562]\n",
      "[-4.32858290e-04+0.j  4.42354486e-17+0.j -6.93889390e-17+0.j ...\n",
      "  0.00000000e+00+0.j  0.00000000e+00+0.j  0.00000000e+00+0.j]\n"
     ]
    }
   ],
   "source": [
    "#Gauge invariant part of the spectrum\n",
    "print(eigenvalues[eigenvalues<=1e1])\n",
    "print(eigenvectors[:,0])"
   ]
  },
  {
   "cell_type": "code",
   "execution_count": 54,
   "id": "b9a080c3",
   "metadata": {},
   "outputs": [],
   "source": [
    "#initial state\n",
    "string = \"\"\n",
    "for i in range(L):\n",
    "    string +=\"1\"\n",
    "psi_0 = np.zeros(basis.Ns)\n",
    "i_0 = basis.index(string)\n",
    "psi_0[i_0] = 1."
   ]
  },
  {
   "cell_type": "code",
   "execution_count": 55,
   "id": "15933bc7",
   "metadata": {},
   "outputs": [
    {
     "name": "stdout",
     "output_type": "stream",
     "text": [
      "0.0\n"
     ]
    }
   ],
   "source": [
    "#cost function of the initial state\n",
    "expt_value = 0\n",
    "matvec_h = full_ham_matrix@psi_0\n",
    "matvec_c = constraint_full_matrix@psi_0\n",
    "for i in range(basis.Ns):\n",
    "    expt_value += np.conj(psi_0[i])*(matvec_h[i]+matvec_c[i])\n",
    "print(np.real(expt_value))"
   ]
  },
  {
   "cell_type": "code",
   "execution_count": 56,
   "id": "18c10437",
   "metadata": {},
   "outputs": [
    {
     "name": "stdout",
     "output_type": "stream",
     "text": [
      "0j\n"
     ]
    }
   ],
   "source": [
    "expt_value = 0\n",
    "matvec = full_ham_matrix@psi_0\n",
    "for i in range(basis.Ns):\n",
    "    expt_value += np.conj(psi_0[i])*matvec[i]\n",
    "print(expt_value)"
   ]
  },
  {
   "cell_type": "code",
   "execution_count": 57,
   "id": "55c01074",
   "metadata": {},
   "outputs": [],
   "source": [
    "def rot_sigma(k,i,j,phi,theta):\n",
    "    if k>=L:\n",
    "        print(\"Warning! Rotations apply to k<=L-1!\")\n",
    "    sigma = np.zeros((3,3),dtype = complex)\n",
    "    sigma[2-i][2-j] = 0.5*(np.cos(phi)+1j*np.sin(phi))\n",
    "    sigma[2-j][2-i] = 0.5*(np.cos(phi)-1j*np.sin(phi))\n",
    "    sigma = sparse.csc_matrix(sigma)\n",
    "    rot_matrix = expm(-1j*theta*sigma/2)\n",
    "    if k==0:\n",
    "        tensprod = rot_matrix\n",
    "        for i in range(L-1):\n",
    "            tensprod = scipy.sparse.kron(tensprod,sparse.identity(3))\n",
    "    else:\n",
    "        tensprod = sparse.identity(3)\n",
    "        for i in range(1,k):\n",
    "            tensprod = scipy.sparse.kron(tensprod,sparse.identity(3))\n",
    "        tensprod = scipy.sparse.kron(tensprod,rot_matrix)\n",
    "        for i in range(k+1,L):\n",
    "            tensprod = scipy.sparse.kron(tensprod,sparse.identity(3))\n",
    "    return tensprod\n",
    "\n",
    "def rot_ms(k,i,j,phi,theta):\n",
    "    sigma = np.zeros((3,3),dtype = complex)\n",
    "    sigma[2-i][2-j] = 0.5*(np.cos(phi)+1j*np.sin(phi))\n",
    "    sigma[2-j][2-i] = 0.5*(np.cos(phi)-1j*np.sin(phi))\n",
    "    sigma = sparse.csc_matrix(sigma)\n",
    "    power_matrix = scipy.sparse.kron(sigma,sparse.identity(3))+scipy.sparse.kron(sparse.identity(3),sigma)\n",
    "    rot_matrix = scipy.sparse.linalg.expm(-1j*power_matrix@power_matrix*theta/4)\n",
    "    if k == 0:\n",
    "        tensprod = rot_matrix\n",
    "        for i in range(L-2):\n",
    "            tensprod = scipy.sparse.kron(tensprod,sparse.identity(3))\n",
    "    else:\n",
    "        tensprod = sparse.identity(3)\n",
    "        for i in range(1,k):\n",
    "            tensprod = scipy.sparse.kron(tensprod,sparse.identity(3))\n",
    "        tensprod = scipy.sparse.kron(tensprod,rot_matrix)\n",
    "        for i in range(k+2,L):\n",
    "            tensprod = scipy.sparse.kron(tensprod,sparse.identity(3))\n",
    "    return tensprod\n",
    "\n",
    "def rot_ms_e(i,j,phi,theta):\n",
    "    ms_e = sparse.identity(basis.Ns,dtype = complex)\n",
    "    for k in range(1,int(L/2)):\n",
    "        ms_e = rot_ms(2*k,i,j,phi,theta)@ms_e\n",
    "    return(ms_e)\n",
    "\n",
    "def rot_ms_o(i,j,phi,theta):\n",
    "    ms_o = sparse.identity(basis.Ns,dtype = complex)\n",
    "    for k in range(int(L/2)-1):\n",
    "        ms_o = rot_ms(2*k+1,i,j,phi,theta)@ms_o\n",
    "    return(ms_o)\n",
    "\n",
    "def rot_sigma_e(i,j,phi,theta):\n",
    "    sigma_e = sparse.identity(basis.Ns,dtype = complex)\n",
    "    for k in range(1,int(L/2)):\n",
    "        sigma_e = rot_sigma(2*k,i,j,phi,theta)@sigma_e\n",
    "    return(sigma_e)\n",
    "\n",
    "def rot_sigma_o(i,j,phi,theta):\n",
    "    sigma_o = sparse.identity(basis.Ns,dtype = complex)\n",
    "    for k in range(int(L/2)):\n",
    "        sigma_o = rot_sigma(2*k,i,j,phi,theta)@sigma_o\n",
    "    return(sigma_o)"
   ]
  },
  {
   "cell_type": "code",
   "execution_count": 58,
   "id": "4cfe205c",
   "metadata": {},
   "outputs": [],
   "source": [
    "opt_params = []\n",
    "function_values = []\n",
    "def callback_function(x,fun,context):\n",
    "    opt_params.append(x)\n",
    "    function_values.append(fun)\n"
   ]
  },
  {
   "cell_type": "code",
   "execution_count": 59,
   "id": "5b1e1eb0",
   "metadata": {},
   "outputs": [],
   "source": [
    "full_ham_matrix = sparse.csc_matrix(full_ham_matrix)"
   ]
  },
  {
   "cell_type": "code",
   "execution_count": 90,
   "id": "56ca5018",
   "metadata": {},
   "outputs": [
    {
     "name": "stdout",
     "output_type": "stream",
     "text": [
      "Memory used for the wave-function: 35096 bytes.\n",
      "Memory used for the sparse matrix exponential: 48 bytes.\n",
      "Time for calculating a matrix-vector multiplication: 0:00:00.005920 sec.\n",
      "Time for calculating the cost function: 0:00:00.269181 sec.\n"
     ]
    }
   ],
   "source": [
    "import struct\n",
    "from sys import getsizeof\n",
    "psi = rot_ms(0,0,2,0,np.pi)@psi_0\n",
    "print(\"Memory used for the wave-function:\",getsizeof(psi),\"bytes.\")\n",
    "print(\"Memory used for the sparse matrix exponential:\",getsizeof(rot_ms(0,0,2,0,np.pi)),\"bytes.\")\n",
    "import datetime\n",
    "t1 = datetime.datetime.now()\n",
    "rot_ms(0,0,2,0,np.pi)@psi_0\n",
    "t2 = datetime.datetime.now()\n",
    "theta = 2*np.pi*np.ones(3*N+3)\n",
    "t3 = datetime.datetime.now()\n",
    "cost_function_sigma(theta,psi_0,N)\n",
    "t4 = datetime.datetime.now()\n",
    "print(\"Time for calculating a matrix-vector multiplication:\",t2-t1,\"sec.\")\n",
    "print(\"Time for calculating the cost function:\",t4-t3,\"sec.\")\n"
   ]
  },
  {
   "cell_type": "code",
   "execution_count": 89,
   "id": "c4c9af24",
   "metadata": {},
   "outputs": [],
   "source": [
    "#cost function definition\n",
    "def cost_function_sigma(theta,psi,N):\n",
    "    if len(theta)!=3*N+3:\n",
    "        print(\"Warning: The number of variational parameters does not match the number of layers!\")\n",
    "    psi_var = psi\n",
    "    psi_var = rot_ms(0,0,2,0,theta[2])@rot_sigma(0,0,2,0,theta[1])@rot_sigma(0,0,1,0,theta[0])@psi_var\n",
    "    psi_var = rot_ms(L-2,0,2,0,theta[2])@rot_sigma(L-1,0,2,0,theta[1])@rot_sigma(L-1,0,1,0,theta[0])@psi_var\n",
    "    for i in range(N):\n",
    "        psi_var = rot_ms_e(0,2,0,theta[3*i+5])@rot_sigma_o(0,2,0,theta[3*i+4])@rot_sigma_o(0,1,0,theta[3*i+4])@rot_sigma_e(0,2,0,theta[3*i+3])@rot_sigma_e(0,1,0,theta[3*i+3])@psi_var\n",
    "\n",
    "    expt_value = 0\n",
    "    matvec = full_ham_matrix@psi_var\n",
    "    for i in range(basis.Ns):\n",
    "        expt_value += np.conj(psi_var[i])*matvec[i]\n",
    "    cost = expt_value\n",
    "    return np.real(cost)"
   ]
  },
  {
   "cell_type": "code",
   "execution_count": 141,
   "id": "de711f44",
   "metadata": {},
   "outputs": [
    {
     "name": "stdout",
     "output_type": "stream",
     "text": [
      "2022-03-16 17:17:13.737653\n",
      "2022-03-16 17:17:13.999907\n"
     ]
    }
   ],
   "source": [
    "import datetime\n",
    "theta = 2*np.pi*np.ones(3*N+3)\n",
    "print(datetime.datetime.now())\n",
    "cost_function_sigma(theta,psi_0,N)\n",
    "print(datetime.datetime.now())"
   ]
  },
  {
   "cell_type": "code",
   "execution_count": 28,
   "id": "9f2e45ec",
   "metadata": {},
   "outputs": [
    {
     "name": "stdout",
     "output_type": "stream",
     "text": [
      "2022-03-14 14:46:34.624046\n",
      "2022-03-14 15:27:59.829609\n"
     ]
    }
   ],
   "source": [
    "#optimisation algorithm\n",
    "from scipy.optimize import dual_annealing\n",
    "import datetime\n",
    "duan_ranges = []\n",
    "for i in range(3*N+3):\n",
    "    duan_ranges.append((-2*np.pi,2*np.pi))\n",
    "resduan = 0\n",
    "print(datetime.datetime.now())\n",
    "resduan = dual_annealing(cost_function_sigma, duan_ranges, args = (psi_0,N))\n",
    "print(datetime.datetime.now())"
   ]
  },
  {
   "cell_type": "code",
   "execution_count": 29,
   "id": "1591ca5c",
   "metadata": {},
   "outputs": [
    {
     "name": "stdout",
     "output_type": "stream",
     "text": [
      "-1.0413111120487513\n",
      "[ 1.92002285e+00  6.28245705e+00 -6.96928433e-04 -2.28631776e+00\n",
      " -2.96702058e-02  1.95739480e-03  3.52576023e+00  2.84701839e-02\n",
      "  3.24178492e-04]\n"
     ]
    }
   ],
   "source": [
    "#results\n",
    "print(resduan.fun)\n",
    "print(resduan.x)\n"
   ]
  },
  {
   "cell_type": "code",
   "execution_count": 30,
   "id": "e423f15e",
   "metadata": {
    "scrolled": true
   },
   "outputs": [
    {
     "name": "stdout",
     "output_type": "stream",
     "text": [
      "0.36405297268283837\n",
      "0.7149296524641962\n",
      "-1.0413111120487513\n"
     ]
    }
   ],
   "source": [
    "#fidelity of the result\n",
    "theta = resduan.x\n",
    "\n",
    "psi_var = psi_0\n",
    "psi_var = rot_ms(0,0,2,0,theta[2])@rot_sigma(0,0,2,0,theta[1])@rot_sigma(0,0,1,0,theta[0])@psi_var\n",
    "psi_var = rot_ms(L-2,0,2,0,theta[2])@rot_sigma(L-1,0,2,0,theta[1])@rot_sigma(L-1,0,1,0,theta[0])@psi_var\n",
    "for i in range(N):\n",
    "    psi_var = rot_ms_e(0,2,0,theta[3*i+5])@rot_sigma_o(0,2,0,theta[3*i+4])@rot_sigma_o(0,1,0,theta[3*i+4])@rot_sigma_e(0,2,0,theta[3*i+3])@rot_sigma_e(0,1,0,theta[3*i+3])@psi_var\n",
    "print(np.abs(np.dot(np.conj(psi_0),eigenvec[:,0]))**2)\n",
    "print(np.abs(np.dot(np.conj(psi_var),eigenvec[:,0]))**2)\n",
    "expt_value = 0\n",
    "matvec = full_ham_matrix@psi_var\n",
    "for i in range(basis.Ns):\n",
    "    expt_value += np.conj(psi_var[i])*matvec[i]\n",
    "print(np.real(expt_value))"
   ]
  },
  {
   "cell_type": "code",
   "execution_count": 45,
   "id": "d0c771f2",
   "metadata": {},
   "outputs": [
    {
     "name": "stdout",
     "output_type": "stream",
     "text": [
      "2022-03-14 17:16:14.029766\n",
      "2022-03-14 17:16:14.044983\n",
      "2022-03-14 17:16:14.057261\n",
      "2022-03-14 17:16:14.062659\n",
      "2022-03-14 17:16:14.069020\n",
      "2022-03-14 17:16:14.069508\n",
      "2022-03-14 17:16:14.069875\n"
     ]
    }
   ],
   "source": [
    "import datetime\n",
    "\n",
    "print(datetime.datetime.now())\n",
    "rot_ms(0,0,2,0,theta[1]).dot(rot_ms(0,0,2,0,theta[1]))\n",
    "print(datetime.datetime.now())\n",
    "rot_ms(0,0,2,0,theta[1])@rot_ms(0,0,2,0,theta[1])\n",
    "print(datetime.datetime.now())\n",
    "a = rot_ms(0,0,2,0,theta[2])\n",
    "print(datetime.datetime.now())\n",
    "b = rot_ms(0,0,2,0,theta[1])\n",
    "print(datetime.datetime.now())\n",
    "a@b\n",
    "print(datetime.datetime.now())\n",
    "a.dot(b)\n",
    "print(datetime.datetime.now())\n",
    "\n"
   ]
  },
  {
   "cell_type": "code",
   "execution_count": 33,
   "id": "5e6b0e9c",
   "metadata": {},
   "outputs": [
    {
     "name": "stdout",
     "output_type": "stream",
     "text": [
      "2022-03-16 16:27:34.989473\n",
      "2022-03-16 16:27:35.008955\n"
     ]
    }
   ],
   "source": [
    "import datetime\n",
    "\n",
    "print(datetime.datetime.now())\n",
    "rot_sigma(0,0,2,0,np.pi)\n",
    "print(datetime.datetime.now())"
   ]
  },
  {
   "cell_type": "code",
   "execution_count": null,
   "id": "f3b1618b",
   "metadata": {},
   "outputs": [],
   "source": []
  }
 ],
 "metadata": {
  "kernelspec": {
   "display_name": "Python 3",
   "language": "python",
   "name": "python3"
  },
  "language_info": {
   "codemirror_mode": {
    "name": "ipython",
    "version": 3
   },
   "file_extension": ".py",
   "mimetype": "text/x-python",
   "name": "python",
   "nbconvert_exporter": "python",
   "pygments_lexer": "ipython3",
   "version": "3.8.8"
  }
 },
 "nbformat": 4,
 "nbformat_minor": 5
}
