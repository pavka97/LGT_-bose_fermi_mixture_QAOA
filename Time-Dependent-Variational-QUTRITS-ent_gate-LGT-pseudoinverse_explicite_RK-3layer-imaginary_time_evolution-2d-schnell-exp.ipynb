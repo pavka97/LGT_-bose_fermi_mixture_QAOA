{
 "cells": [
  {
   "cell_type": "code",
   "execution_count": 111,
   "id": "118a2fd9",
   "metadata": {},
   "outputs": [],
   "source": [
    "import scipy         \n",
    "import datetime\n",
    "from scipy.linalg import expm,det\n",
    "import scipy.sparse as sparse\n",
    "from quspin.operators import hamiltonian, commutator, exp_op # Hamiltonians and operators\n",
    "from quspin.basis import tensor_basis, spin_basis_1d # bases\n",
    "import numpy as np # general math functions\n",
    "import matplotlib.pyplot as plt # plotting library\n",
    "from numba import jit\n",
    "from scipy.integrate import solve_ivp,odeint\n",
    "from functools import reduce\n",
    "import datetime\n"
   ]
  },
  {
   "cell_type": "code",
   "execution_count": 112,
   "id": "6d25eced",
   "metadata": {},
   "outputs": [],
   "source": [
    "L = 4 #system size\n",
    "M = 0.1 #fermion mass\n",
    "N=3 #number of layers\n",
    "l=1 #spin length\n",
    "m_epsilon = 0\n",
    "no_checks = dict(check_pcon=False,check_symm=False,check_herm=False)"
   ]
  },
  {
   "cell_type": "code",
   "execution_count": 113,
   "id": "52e299a4",
   "metadata": {
    "scrolled": true
   },
   "outputs": [
    {
     "name": "stdout",
     "output_type": "stream",
     "text": [
      "reference states: \n",
      "array index   /   Fock state   /   integer repr. \n",
      "      0.         |2 2 2 2>           80  \n",
      "      1.         |2 2 2 1>           79  \n",
      "      2.         |2 2 2 0>           78  \n",
      "      3.         |2 2 1 2>           77  \n",
      "      4.         |2 2 1 1>           76  \n",
      "      5.         |2 2 1 0>           75  \n",
      "      6.         |2 2 0 2>           74  \n",
      "      7.         |2 2 0 1>           73  \n",
      "      8.         |2 2 0 0>           72  \n",
      "      9.         |2 1 2 2>           71  \n",
      "     10.         |2 1 2 1>           70  \n",
      "     11.         |2 1 2 0>           69  \n",
      "     12.         |2 1 1 2>           68  \n",
      "     13.         |2 1 1 1>           67  \n",
      "     14.         |2 1 1 0>           66  \n",
      "     15.         |2 1 0 2>           65  \n",
      "     16.         |2 1 0 1>           64  \n",
      "     17.         |2 1 0 0>           63  \n",
      "     18.         |2 0 2 2>           62  \n",
      "     19.         |2 0 2 1>           61  \n",
      "     20.         |2 0 2 0>           60  \n",
      "     21.         |2 0 1 2>           59  \n",
      "     22.         |2 0 1 1>           58  \n",
      "     23.         |2 0 1 0>           57  \n",
      "     24.         |2 0 0 2>           56  \n",
      "                   :\n",
      "     56.         |0 2 2 0>           24  \n",
      "     57.         |0 2 1 2>           23  \n",
      "     58.         |0 2 1 1>           22  \n",
      "     59.         |0 2 1 0>           21  \n",
      "     60.         |0 2 0 2>           20  \n",
      "     61.         |0 2 0 1>           19  \n",
      "     62.         |0 2 0 0>           18  \n",
      "     63.         |0 1 2 2>           17  \n",
      "     64.         |0 1 2 1>           16  \n",
      "     65.         |0 1 2 0>           15  \n",
      "     66.         |0 1 1 2>           14  \n",
      "     67.         |0 1 1 1>           13  \n",
      "     68.         |0 1 1 0>           12  \n",
      "     69.         |0 1 0 2>           11  \n",
      "     70.         |0 1 0 1>           10  \n",
      "     71.         |0 1 0 0>            9  \n",
      "     72.         |0 0 2 2>            8  \n",
      "     73.         |0 0 2 1>            7  \n",
      "     74.         |0 0 2 0>            6  \n",
      "     75.         |0 0 1 2>            5  \n",
      "     76.         |0 0 1 1>            4  \n",
      "     77.         |0 0 1 0>            3  \n",
      "     78.         |0 0 0 2>            2  \n",
      "     79.         |0 0 0 1>            1  \n",
      "     80.         |0 0 0 0>            0  \n"
     ]
    }
   ],
   "source": [
    "#construct basis\n",
    "basis=spin_basis_1d(L=L,S = str(l))\n",
    "print(basis)"
   ]
  },
  {
   "cell_type": "code",
   "execution_count": 114,
   "id": "cb3a1840",
   "metadata": {},
   "outputs": [],
   "source": [
    "#initialisation of the Gauss laws\n",
    "LL = 3 #number of sites-1\n",
    "liste = []\n",
    "liste_m = []\n",
    "gauss_law_map = []\n",
    "Gauss_law = []\n",
    "gauss_law_matrix = []\n",
    "\n",
    "\n",
    "for i in range(L+1):\n",
    "    liste.append([[1.,i]])\n",
    "    liste_m.append([[-1.,i]])\n",
    "    \n",
    "    \n",
    "gauss_law_map.append([\n",
    "    [\"z\",liste[0]],\n",
    "    [\"z\",liste[3]],\n",
    "])\n",
    "\n",
    "gauss_law_map.append([\n",
    "    [\"z\",liste[1]],\n",
    "    [\"z\",liste_m[0]],\n",
    "    [\"I\",liste[1]],\n",
    "])\n",
    "\n",
    "gauss_law_map.append([\n",
    "    [\"z\",liste_m[2]],\n",
    "    [\"z\",liste_m[1]],\n",
    "])\n",
    "\n",
    "gauss_law_map.append([\n",
    "    [\"z\",liste_m[3]],\n",
    "    [\"z\",liste[2]],\n",
    "    [\"I\",liste[3]],\n",
    "])\n",
    "\n",
    "for i in range(LL+1):\n",
    "    Gauss_law.append(hamiltonian(gauss_law_map[i],dynamic_list=[],basis=basis,**no_checks))\n",
    "for i in range(LL+1):\n",
    "    gauss_law_matrix.append(Gauss_law[i].tocsc())"
   ]
  },
  {
   "cell_type": "code",
   "execution_count": 115,
   "id": "7dc062d6",
   "metadata": {},
   "outputs": [
    {
     "name": "stdout",
     "output_type": "stream",
     "text": [
      "[ 0.          0.66666667  0.66666667 -0.16666667 -0.16666667  0.\n",
      "  0.          0.          0.          0.          0.          0.\n",
      "  0.        ]\n",
      "[0. 0. 0. 1. 0.]\n"
     ]
    }
   ],
   "source": [
    "B = np.zeros((4*l+1,4*l+1))\n",
    "for i in range(4*l+1):\n",
    "    for j in range(4*l+1):\n",
    "        B[i][j] = (-2*l+i)**j\n",
    "b = np.zeros(4*l+1)\n",
    "b[2*l+1] = 1.\n",
    "solution = scipy.linalg.solve(B,b)\n",
    "y = np.zeros(4*3+1)\n",
    "for i in range(4*l+1):\n",
    "    y[i] = solution[i]\n",
    "print(y)\n",
    "print(b)"
   ]
  },
  {
   "cell_type": "code",
   "execution_count": 116,
   "id": "c159c9a8",
   "metadata": {},
   "outputs": [
    {
     "name": "stdout",
     "output_type": "stream",
     "text": [
      "[ 0.    1.5   0.25 -1.    0.25  0.    0.    0.    0.    0.    0.    0.\n",
      "  0.  ]\n",
      "[0. 0. 1. 0. 0.]\n"
     ]
    }
   ],
   "source": [
    "C = np.zeros((4*l+1,4*l+1))\n",
    "for i in range(4*l+1):\n",
    "    for j in range(4*l+1):\n",
    "        C[i][j] = (-2*l+i+1)**j\n",
    "c = np.zeros(4*l+1)\n",
    "c[2*l] = 1.\n",
    "solution = scipy.linalg.solve(C,c)\n",
    "z = np.zeros(4*3+1)\n",
    "for i in range(4*l+1):\n",
    "    z[i] = solution[i]\n",
    "print(z)\n",
    "print(c)"
   ]
  },
  {
   "cell_type": "code",
   "execution_count": 117,
   "id": "d8e7ee73",
   "metadata": {},
   "outputs": [],
   "source": [
    "#projectors on g=1 for every site\n",
    "Proj = [sparse.csc_matrix((basis.Ns,basis.Ns)) for i in range(LL+1)]\n",
    "for i in range(int(LL/2)+1):\n",
    "    for j in range(4*l+1):\n",
    "        Proj[2*i] += y[j]*gauss_law_matrix[2*i]**j\n",
    "for i in range(int(LL/2)+1):\n",
    "    for j in range(4*l+1):\n",
    "        Proj[2*i+1] += z[j]*gauss_law_matrix[2*i+1]**j"
   ]
  },
  {
   "cell_type": "code",
   "execution_count": 118,
   "id": "d1828bba",
   "metadata": {},
   "outputs": [
    {
     "name": "stdout",
     "output_type": "stream",
     "text": [
      "[ 1.  0. -2.  0.  0.  0.  0.]\n"
     ]
    }
   ],
   "source": [
    "A = np.zeros((2*l+1,2*l+1))\n",
    "for i in range(2*l+1):\n",
    "    for j in range(2*l+1):\n",
    "        A[i][j] = (-l+i)**j\n",
    "a = np.zeros(2*l+1)\n",
    "for i in range(2*l+1):\n",
    "    a[i] = (-1)**(-l+i)\n",
    "solution = scipy.linalg.solve(A,a)\n",
    "x = np.zeros(2*3+1)\n",
    "for i in range(2*l+1):\n",
    "    x[i] = solution[i]\n",
    "print(x)"
   ]
  },
  {
   "cell_type": "code",
   "execution_count": 119,
   "id": "49973849",
   "metadata": {},
   "outputs": [
    {
     "name": "stdout",
     "output_type": "stream",
     "text": [
      "[ 1.    0.   -1.25 -0.    0.25  0.    0.    0.    0.    0.    0.    0.\n",
      "  0.  ]\n",
      "[0. 0. 1. 0. 0.]\n"
     ]
    }
   ],
   "source": [
    "D = np.zeros((4*l+1,4*l+1))\n",
    "for i in range(4*l+1):\n",
    "    for j in range(4*l+1):\n",
    "        D[i][j] = (-2*l+i)**j\n",
    "d = np.zeros(4*l+1)\n",
    "d[2*l] = 1.\n",
    "solution = scipy.linalg.solve(D,d)\n",
    "dd = np.zeros(4*3+1)\n",
    "for i in range(4*l+1):\n",
    "    dd[i] = solution[i]\n",
    "print(dd)\n",
    "print(d)"
   ]
  },
  {
   "cell_type": "code",
   "execution_count": 120,
   "id": "c1c45a32",
   "metadata": {},
   "outputs": [
    {
     "name": "stdout",
     "output_type": "stream",
     "text": [
      "[ 1.         -0.83333333 -0.83333333  0.83333333 -0.16666667  0.\n",
      "  0.          0.          0.          0.          0.          0.\n",
      "  0.        ]\n",
      "[0. 1. 0. 0. 0.]\n"
     ]
    }
   ],
   "source": [
    "E = np.zeros((4*l+1,4*l+1))\n",
    "for i in range(4*l+1):\n",
    "    for j in range(4*l+1):\n",
    "        E[i][j] = (-2*l+i+1)**j\n",
    "e = np.zeros(4*l+1)\n",
    "e[2*l-1] = 1.\n",
    "solution = scipy.linalg.solve(E,e)\n",
    "ee = np.zeros(4*3+1)\n",
    "for i in range(4*l+1):\n",
    "    ee[i] = solution[i]\n",
    "print(ee)\n",
    "print(e)"
   ]
  },
  {
   "cell_type": "code",
   "execution_count": 121,
   "id": "7d5e798f",
   "metadata": {},
   "outputs": [],
   "source": [
    "#projectors on g=0 for every site\n",
    "Proj_0 = [sparse.csc_matrix((basis.Ns,basis.Ns)) for i in range(LL+1)]\n",
    "for i in range(int(LL/2)+1):\n",
    "    for j in range(4*l+1):\n",
    "        Proj_0[2*i] += dd[j]*gauss_law_matrix[2*i]**j\n",
    "for i in range(int(LL/2)+1):\n",
    "    for j in range(4*l+1):\n",
    "        Proj_0[2*i+1] += ee[j]*gauss_law_matrix[2*i+1]**j"
   ]
  },
  {
   "cell_type": "code",
   "execution_count": 122,
   "id": "1404c174",
   "metadata": {},
   "outputs": [],
   "source": [
    "const_term = []\n",
    "linear_term = []\n",
    "quadratic_term = []\n",
    "cubic_term = []\n",
    "quartic_term = []\n",
    "quintic_term = []\n",
    "sextic_term = []\n",
    "\n",
    "interaction_p = []\n",
    "interaction_m = []\n",
    "\n",
    "phase = []\n",
    "phase_ham = []\n",
    "\n",
    "link_p = []\n",
    "link_p_ham = []\n",
    "\n",
    "link_m = []\n",
    "link_m_ham = []\n",
    "\n",
    "for i in range(L):\n",
    "    const_term.append([[x[0],i]])\n",
    "    linear_term.append([[x[1],i]])\n",
    "    quadratic_term.append([[x[2],i,i]])\n",
    "    cubic_term.append([[x[3],i,i,i]])\n",
    "    quartic_term.append([[x[4],i,i,i,i]])\n",
    "    quintic_term.append([[x[5],i,i,i,i,i]])\n",
    "    sextic_term.append([[x[6],i,i,i,i,i,i]])\n",
    "\n",
    "\n",
    "    phase.append([\n",
    "        [\"I\", const_term[i]],\n",
    "        [\"z\", linear_term[i]],\n",
    "        [\"zz\", quadratic_term[i]],\n",
    "        [\"zzz\", cubic_term[i]],\n",
    "        [\"zzzz\", quartic_term[i]],\n",
    "        [\"zzzzz\", quintic_term[i]],\n",
    "        [\"zzzzzz\", sextic_term[i]],\n",
    "\n",
    "    ])\n",
    "    \n",
    "    link_p.append([\n",
    "    [\"+\",[[1./np.sqrt(l*(l+1)),i]]]  \n",
    "    ])      \n",
    "    \n",
    "    link_m.append([\n",
    "    [\"-\",[[1./np.sqrt(l*(l+1)),i]]]           \n",
    "        \n",
    "    ])\n",
    "    \n",
    "    phase_ham.append(hamiltonian(phase[i],dynamic_list=[],basis=basis,**no_checks))\n",
    "    link_p_ham.append(hamiltonian(link_p[i],dynamic_list=[],basis=basis,**no_checks))\n",
    "    link_m_ham.append(hamiltonian(link_m[i],dynamic_list=[],basis=basis,**no_checks))\n",
    "\n",
    "\n",
    "    \n",
    "\n",
    "\n",
    "kin_energy = [[0.5,i,i] for i in range(L)]\n",
    "\n",
    "mass_term = []\n",
    "mass_term.append([2*(-1)**0*M,0])\n",
    "mass_term.append([2*(-1)**1*M,1])\n",
    "mass_term.append([2*(-1)**1*M,2])\n",
    "mass_term.append([2*(-1)**0*M,3])\n",
    "\n",
    "\n",
    "kin_mass_map = [\n",
    "            [\"zz\", kin_energy], \n",
    "            [\"z\", mass_term], \n",
    "]\n",
    "\n",
    "interaction = [sparse.csc_matrix((basis.Ns,basis.Ns)) for i in range(L)]\n",
    "\n",
    "interaction[0] = -0.5*(Proj[0]@phase_ham[0].tocsc()@link_p_ham[0].tocsc()@Proj[1]+Proj[1]@link_m_ham[0].tocsc()@phase_ham[0].tocsc()@Proj[0])\n",
    "interaction[1] = 0.5*(Proj[1]@phase_ham[1].tocsc()@link_p_ham[1].tocsc()@Proj[2]+Proj[2]@link_m_ham[1].tocsc()@phase_ham[1].tocsc()@Proj[1])\n",
    "interaction[2] = 0.5*(Proj[3]@phase_ham[1].tocsc()@phase_ham[2].tocsc()@link_p_ham[2].tocsc()@Proj[2]+Proj[2]@link_m_ham[2].tocsc()@phase_ham[2].tocsc()@phase_ham[1].tocsc()@Proj[3])\n",
    "interaction[3] = -0.5*(Proj[0]@phase_ham[0].tocsc()@phase_ham[3].tocsc()@link_p_ham[3].tocsc()@Proj[3]+Proj[3]@link_m_ham[3].tocsc()@phase_ham[3].tocsc()@phase_ham[0].tocsc()@Proj[0])\n",
    "\n",
    "plaquette = [sparse.csc_matrix((basis.Ns,basis.Ns)) for i in range(2)]\n",
    "\n",
    "plaquette[0] = 0.5*(Proj_0[3]@phase_ham[0].tocsc()@phase_ham[1].tocsc()@phase_ham[2].tocsc()@phase_ham[3].tocsc()@link_p_ham[0].tocsc()@link_p_ham[1].tocsc()@link_m_ham[2].tocsc()@link_m_ham[3].tocsc()@Proj_0[3]+Proj_0[3]@link_p_ham[2].tocsc()@link_p_ham[3].tocsc()@link_m_ham[0].tocsc()@link_m_ham[1].tocsc()@phase_ham[0].tocsc()@phase_ham[1].tocsc()@phase_ham[2].tocsc()@phase_ham[3].tocsc()@Proj_0[3])\n",
    "\n",
    "plaquette[1] = -0.5*(Proj[3]@phase_ham[0].tocsc()@phase_ham[1].tocsc()@phase_ham[2].tocsc()@phase_ham[3].tocsc()@link_p_ham[0].tocsc()@link_p_ham[1].tocsc()@link_m_ham[2].tocsc()@link_m_ham[3].tocsc()@Proj[3]+Proj[3]@link_p_ham[2].tocsc()@link_p_ham[3].tocsc()@link_m_ham[0].tocsc()@link_m_ham[1].tocsc()@phase_ham[0].tocsc()@phase_ham[1].tocsc()@phase_ham[2].tocsc()@phase_ham[3].tocsc()@Proj[3])\n",
    "\n",
    "h_plaq = 0\n",
    "\n",
    "for i in range(2):\n",
    "    h_plaq += plaquette[i]\n",
    "\n",
    "H_kin_mass = hamiltonian(kin_mass_map,dynamic_list=[],basis=basis,**no_checks)\n",
    "h_kin_mass = H_kin_mass.tocsc()\n",
    "\n",
    "h_int = 0\n",
    "\n",
    "for i in range(L):\n",
    "    h_int += interaction[i]\n",
    "\n",
    "\n",
    "full_ham_matrix = h_kin_mass + h_plaq + h_int #Spin-1 Hamiltonian without the local contstaints\n",
    "\n",
    "for i in range(LL+1):\n",
    "    full_ham_matrix = (Proj_0[i]+Proj[i])@full_ham_matrix@(Proj_0[i]+Proj[i])\n",
    "\n",
    "G=0\n",
    "for i in range(LL+1):\n",
    "    G += 10*(Gauss_law[i]**2-Gauss_law[i])**2\n",
    "constraint_full_matrix = G.tocsc()\n",
    "constrained_full_ham_matrix= full_ham_matrix + constraint_full_matrix #Spin-1 Hamiltonian with the local contstaints as a penalty term\n"
   ]
  },
  {
   "cell_type": "code",
   "execution_count": 123,
   "id": "3bb5711d",
   "metadata": {},
   "outputs": [
    {
     "name": "stdout",
     "output_type": "stream",
     "text": [
      "[-9.29176933e-01 -3.13068105e-01 -1.04639577e-16]\n"
     ]
    }
   ],
   "source": [
    "#eigenvalues and eigenvectors of the Spin-1 Hamiltonian without the local contstaints\n",
    "eigenval, eigenvec = scipy.sparse.linalg.eigsh(full_ham_matrix,k = 3,which = \"SA\")\n",
    "string = \"\"\n",
    "print(eigenval[eigenval<=1e1])\n",
    "for i in range(basis.Ns):\n",
    "    if np.abs(eigenvec[:,0][i])>=1e-5:\n",
    "        string+=str(eigenvec[:,0][i])+basis.int_to_state(basis.Ns-i-1)+\"\\n\""
   ]
  },
  {
   "cell_type": "code",
   "execution_count": 124,
   "id": "efb91cda",
   "metadata": {},
   "outputs": [],
   "source": [
    "eigenvalues, eigenvectors = scipy.sparse.linalg.eigsh(constrained_full_ham_matrix,k = 3,which = \"SA\")\n"
   ]
  },
  {
   "cell_type": "code",
   "execution_count": 125,
   "id": "61b2b6f5",
   "metadata": {},
   "outputs": [
    {
     "name": "stdout",
     "output_type": "stream",
     "text": [
      "[-0.92917693 -0.31306811  0.49289322]\n",
      "(0.04174087875417374+0.054981461684664265j)|2 2 0 1>\n",
      "(-0.09432246087674495-0.12424239554805537j)|2 2 0 0>\n",
      "(0.17077377916283965+0.22494476101207045j)|2 1 1 1>\n",
      "(-0.045607928907875024-0.0600751749989681j)|2 1 0 1>\n",
      "(-0.04174087875417445-0.054981461684664217j)|2 1 0 0>\n",
      "(0.17077377916284758+0.2249447610120243j)|1 1 1 2>\n",
      "(-0.46909259573929163-0.6178929948049925j)|1 1 1 1>\n",
      "(0.1707737791628385+0.22494476101206998j)|1 1 0 1>\n",
      "(-0.04174087875416825-0.054981461684695435j)|1 0 2 2>\n",
      "(-0.045607928907888055-0.060075174998907035j)|1 0 1 2>\n",
      "(0.1707737791628495+0.2249447610120257j)|1 0 1 1>\n",
      "(-0.09432246087674259-0.12424239554806701j)|0 0 2 2>\n",
      "(0.04174087875416687+0.05498146168469514j)|0 0 1 2>\n",
      "\n"
     ]
    }
   ],
   "source": [
    "#Gauge invariant part of the spectrum\n",
    "string = \"\"\n",
    "print(eigenvalues[eigenvalues<=1e1])\n",
    "for i in range(basis.Ns):\n",
    "    if np.abs(eigenvectors[:,0][i])>=1e-4:\n",
    "        string+=str(eigenvectors[:,0][i])+basis.int_to_state(basis.Ns-i-1)+\"\\n\"\n",
    "        #for j in range(basis.Ns):\n",
    "            #if (np.abs(np.abs(eigenvectors[:,0][i])-np.abs(eigenvectors[:,0][j]))<=1e-5) & (i<j):\n",
    "                #print(basis.int_to_state(basis.Ns-i-1),basis.int_to_state(basis.Ns-j-1))\n",
    "print(string)\n"
   ]
  },
  {
   "cell_type": "code",
   "execution_count": 126,
   "id": "4ec85e9c",
   "metadata": {},
   "outputs": [
    {
     "data": {
      "text/plain": [
       "[<matplotlib.lines.Line2D at 0x7ff2ceecb070>]"
      ]
     },
     "execution_count": 126,
     "metadata": {},
     "output_type": "execute_result"
    },
    {
     "data": {
      "image/png": "[encoded data removed]",
      "text/plain": [
       "<Figure size 432x288 with 1 Axes>"
      ]
     },
     "metadata": {
      "needs_background": "light"
     },
     "output_type": "display_data"
    }
   ],
   "source": [
    "yy = []\n",
    "xx = []\n",
    "for i in range(basis.Ns):\n",
    "    if np.abs(eigenvectors[:,0][i])**2>=1e-4:\n",
    "        yy.append(np.abs(eigenvectors[:,0][i])**2) \n",
    "        xx.append(i)\n",
    "plt.plot(xx,yy, \"o\")"
   ]
  },
  {
   "cell_type": "code",
   "execution_count": 127,
   "id": "52d59fe6",
   "metadata": {},
   "outputs": [],
   "source": [
    "def rot_sigma(k,i,j,phi,theta):\n",
    "    if k>=L:\n",
    "        print(\"Warning! Rotations apply to k<=L-1!\")\n",
    "    sigma = np.zeros((2*l+1,2*l+1),dtype = complex)\n",
    "    sigma[2*l-i][2*l-j] = 0.5*(np.cos(phi)+1j*np.sin(phi))\n",
    "    sigma[2*l-j][2*l-i] = 0.5*(np.cos(phi)-1j*np.sin(phi))\n",
    "    sigma = sparse.csc_matrix(sigma)\n",
    "    rot_matrix = expm(-1j*theta*sigma)\n",
    "    if k==0:\n",
    "        tensprod = rot_matrix\n",
    "        for i in range(L-1):\n",
    "            tensprod = scipy.sparse.kron(tensprod,sparse.identity(2*l+1))\n",
    "    else:\n",
    "        tensprod = sparse.identity(2*l+1)\n",
    "        for i in range(1,k):\n",
    "            tensprod = scipy.sparse.kron(tensprod,sparse.identity(2*l+1))\n",
    "        tensprod = scipy.sparse.kron(tensprod,rot_matrix)\n",
    "        for i in range(k+1,L):\n",
    "            tensprod = scipy.sparse.kron(tensprod,sparse.identity(2*l+1))\n",
    "    return tensprod\n",
    "\n",
    "\n",
    "def rot_sigma_e(i,j,phi,theta):\n",
    "    sigma_e = sparse.identity(basis.Ns,dtype = complex)\n",
    "    sigma_e = rot_sigma(0,i,j,phi,theta)@rot_sigma(3,i,j,phi,theta)\n",
    "    return(sigma_e)\n",
    "\n",
    "def rot_sigma_o(i,j,phi,theta):\n",
    "    sigma_o = sparse.identity(basis.Ns,dtype = complex)\n",
    "    sigma_o = rot_sigma(1,i,j,phi,theta)@rot_sigma(2,i,j,phi,theta)\n",
    "    return(sigma_o)\n",
    "\n",
    "\n",
    "\n",
    "def sigma(k,i,j,phi):\n",
    "    sigma = np.zeros((2*l+1,2*l+1),dtype = complex)\n",
    "    sigma[2*l-i][2*l-j] = 0.5*(np.cos(phi)+1j*np.sin(phi))\n",
    "    sigma[2*l-j][2*l-i] = 0.5*(np.cos(phi)-1j*np.sin(phi))\n",
    "    sigma = sparse.csc_matrix(sigma)\n",
    "    if k==0:\n",
    "        tensprod = sigma\n",
    "        for i in range(L-1):\n",
    "            tensprod = scipy.sparse.kron(tensprod,sparse.identity(2*l+1))\n",
    "    else:\n",
    "        tensprod = sparse.identity(2*l+1)\n",
    "        for i in range(1,k):\n",
    "            tensprod = scipy.sparse.kron(tensprod,sparse.identity(2*l+1))\n",
    "        tensprod = scipy.sparse.kron(tensprod,sigma)\n",
    "        for i in range(k+1,L):\n",
    "            tensprod = scipy.sparse.kron(tensprod,sparse.identity(2*l+1))\n",
    "    return tensprod\n",
    "\n",
    "\n",
    "def sigma_e(i,j,phi):\n",
    "    sigma_e = np.zeros((basis.Ns,basis.Ns),dtype = complex)\n",
    "    sigma_e = sparse.csc_matrix(sigma_e)\n",
    "    sigma_e = sigma(0,i,j,phi) + sigma(3,i,j,phi)\n",
    "    return sigma_e\n",
    "\n",
    "def sigma_o(i,j,phi):\n",
    "    sigma_o = np.zeros((basis.Ns,basis.Ns),dtype = complex)\n",
    "    sigma_o = sparse.csc_matrix(sigma_o)\n",
    "    sigma_o = sigma(1,i,j,phi) + sigma(2,i,j,phi)\n",
    "    return sigma_o\n"
   ]
  },
  {
   "cell_type": "code",
   "execution_count": 128,
   "id": "c38c7a76",
   "metadata": {},
   "outputs": [],
   "source": [
    "\n",
    "def ms_hamiltonian(i,j,phi):\n",
    "    sigma = np.zeros((2*l+1,2*l+1),dtype = complex)\n",
    "    sigma[2*l-i][2*l-j] = 0.5*(np.cos(phi)+1j*np.sin(phi))\n",
    "    sigma[2*l-j][2*l-i] = 0.5*(np.cos(phi)-1j*np.sin(phi))\n",
    "    sigma = sparse.csc_matrix(sigma)\n",
    "    summe = np.zeros((basis.Ns,basis.Ns),dtype = complex)\n",
    "    for k in range(L):\n",
    "        if k == 0:\n",
    "            tensprod = sigma\n",
    "            for m in range(L-1):\n",
    "                tensprod = scipy.sparse.kron(tensprod,sparse.identity(2*l+1))\n",
    "            tensprod = tensprod.toarray()\n",
    "        else:\n",
    "            tensprod = sparse.identity(2*l+1)\n",
    "            for i in range(1,k):\n",
    "                tensprod = scipy.sparse.kron(tensprod,sparse.identity(2*l+1))\n",
    "            tensprod = scipy.sparse.kron(tensprod,sigma)\n",
    "            for i in range(k+1,L):\n",
    "                tensprod = scipy.sparse.kron(tensprod,sparse.identity(2*l+1))\n",
    "            tensprod = tensprod.toarray()\n",
    "        summe +=tensprod\n",
    "    return summe@summe\n",
    "                \n",
    "matrix_part = ms_hamiltonian(1,2,0)\n",
    "ms_ham_eigenval, ms_ham_eigenvec = scipy.linalg.eigh(matrix_part)\n",
    "\n",
    "\n",
    "\n",
    "\n",
    "def ms_gate_global(theta):\n",
    "    exponential = np.zeros((basis.Ns,basis.Ns),dtype = complex)\n",
    "    for i in range(basis.Ns):\n",
    "        exponential[i][i] = np.exp(-1j*ms_ham_eigenval[i]*theta)\n",
    "    exponential = scipy.sparse.csc_matrix(exponential)\n",
    "    return ms_ham_eigenvec@exponential@ms_ham_eigenvec.T.conj()\n",
    "\n",
    "    \n",
    "def ms_hamiltonian_1(i,j,phi):\n",
    "    sigma_p = np.zeros((2*l+1,2*l+1),dtype = complex)\n",
    "    sigma_m = np.zeros((2*l+1,2*l+1),dtype = complex)\n",
    "    sigma_z = np.zeros((2*l+1,2*l+1),dtype = complex)\n",
    "    \n",
    "    sigma_p[2*l-j][2*l-i] = 1.\n",
    "    sigma_m[2*l-i][2*l-j] = 1.\n",
    "    \n",
    "    sigma_z[2*l-i][2*l-i] = 1.\n",
    "    sigma_z[2*l-j][2*l-j] = -1.\n",
    "    \n",
    "    sigma_p = sparse.csc_matrix(sigma_p)\n",
    "    sigma_m = sparse.csc_matrix(sigma_m)\n",
    "    sigma_z = sparse.csc_matrix(sigma_z)\n",
    "\n",
    "    sigma_big_p = [np.zeros((basis.Ns,basis.Ns),dtype = complex) for n in range(L)]\n",
    "    sigma_big_m = [np.zeros((basis.Ns,basis.Ns),dtype = complex) for n in range(L)]\n",
    "    sigma_big_z = [np.zeros((basis.Ns,basis.Ns),dtype = complex) for n in range(L)]\n",
    "\n",
    "    summe = np.zeros((basis.Ns,basis.Ns),dtype = complex)\n",
    "    \n",
    "    for k in range(L):\n",
    "        if k == 0:\n",
    "            tensprod_p = sigma_p\n",
    "            tensprod_m = sigma_m\n",
    "            tensprod_z = sigma_z\n",
    "\n",
    "            for m in range(L-1):\n",
    "                tensprod_p = scipy.sparse.kron(tensprod_p,sparse.identity(2*l+1))\n",
    "                tensprod_m = scipy.sparse.kron(tensprod_m,sparse.identity(2*l+1))\n",
    "                tensprod_z = scipy.sparse.kron(tensprod_z,sparse.identity(2*l+1))\n",
    "            tensprod_p = tensprod_p.toarray()\n",
    "            tensprod_m = tensprod_m.toarray()\n",
    "            tensprod_z = tensprod_z.toarray()\n",
    "        else:\n",
    "            tensprod_p = sparse.identity(2*l+1)\n",
    "            tensprod_m = sparse.identity(2*l+1)\n",
    "            tensprod_z = sparse.identity(2*l+1)\n",
    "            \n",
    "            for i in range(1,k):\n",
    "                tensprod_p = scipy.sparse.kron(tensprod_p,sparse.identity(2*l+1))\n",
    "                tensprod_m = scipy.sparse.kron(tensprod_m,sparse.identity(2*l+1))\n",
    "                tensprod_z = scipy.sparse.kron(tensprod_z,sparse.identity(2*l+1))\n",
    "            tensprod_p = scipy.sparse.kron(tensprod_p,sigma_p)\n",
    "            tensprod_m = scipy.sparse.kron(tensprod_m,sigma_m)\n",
    "            tensprod_z = scipy.sparse.kron(tensprod_z,sigma_z)            \n",
    "            for i in range(k+1,L):\n",
    "                tensprod_p = scipy.sparse.kron(tensprod_p,sparse.identity(2*l+1))\n",
    "                tensprod_m = scipy.sparse.kron(tensprod_m,sparse.identity(2*l+1))\n",
    "                tensprod_z = scipy.sparse.kron(tensprod_z,sparse.identity(2*l+1))\n",
    "            tensprod_p = tensprod_p.toarray()\n",
    "            tensprod_m = tensprod_m.toarray()    \n",
    "            tensprod_z = tensprod_z.toarray() \n",
    "            \n",
    "        sigma_big_p[k] = tensprod_p\n",
    "        sigma_big_m[k] = tensprod_m\n",
    "        sigma_big_z[k] = tensprod_z\n",
    "\n",
    "    for k in range(L):\n",
    "        summe += 1.*sigma_big_z[k]\n",
    "        for kk in range(k+1,L):\n",
    "            summe += 1./np.abs(k-kk)**2*(sigma_big_p[k]@sigma_big_m[kk] + sigma_big_m[k]@sigma_big_p[kk])\n",
    "    return summe\n",
    "                \n",
    "matrix_part_1 = ms_hamiltonian_1(1,2,0)\n",
    "ms_ham_eigenval_1, ms_ham_eigenvec_1 = scipy.linalg.eigh(matrix_part_1)\n",
    "\n",
    "\n",
    "\n",
    "\n",
    "def ms_gate_global_1(theta):\n",
    "    exponential = np.zeros((basis.Ns,basis.Ns),dtype = complex)\n",
    "    for i in range(basis.Ns):\n",
    "        exponential[i][i] = np.exp(-1j*ms_ham_eigenval_1[i]*theta)\n",
    "    exponential = scipy.sparse.csc_matrix(exponential)\n",
    "    return ms_ham_eigenvec_1@exponential@ms_ham_eigenvec_1.T.conj()"
   ]
  },
  {
   "cell_type": "code",
   "execution_count": 129,
   "id": "077b9d0b",
   "metadata": {},
   "outputs": [],
   "source": [
    "#initial state\n",
    "string = \"\"\n",
    "for i in range(L):\n",
    "    string +=\"1\"\n",
    "psi_0 = np.zeros(basis.Ns)\n",
    "i_0 = basis.index(string)\n",
    "psi_0[i_0] = 1."
   ]
  },
  {
   "cell_type": "code",
   "execution_count": 130,
   "id": "b5dac82d",
   "metadata": {},
   "outputs": [],
   "source": [
    "def R(i,theta):\n",
    "    \n",
    "    if i%13 == 0:\n",
    "        return(ms_gate_global(theta))\n",
    "    \n",
    "    if i%13 == 1:\n",
    "        return(rot_sigma(3,0,1,0,theta).toarray())\n",
    "\n",
    "\n",
    "    if i%13 == 2:\n",
    "        return(rot_sigma(3,0,2,0,theta).toarray())\n",
    "\n",
    "    \n",
    "    if i%13 == 3:\n",
    "        return(rot_sigma(3,1,2,np.pi/2,theta).toarray())\n",
    "    \n",
    "    \n",
    "    if i%13 == 4:\n",
    "        return(rot_sigma(2,0,1,0,theta).toarray())\n",
    "\n",
    "\n",
    "    if i%13 == 5:\n",
    "        return(rot_sigma(2,0,2,0,theta).toarray())\n",
    "\n",
    "    \n",
    "    if i%13 == 6:\n",
    "        return(rot_sigma(2,1,2,np.pi/2,theta).toarray())\n",
    "    \n",
    "\n",
    "    if i%13 == 7:\n",
    "        return(rot_sigma(1,0,1,0,theta).toarray())\n",
    "\n",
    "\n",
    "    if i%13 == 8:\n",
    "        return(rot_sigma(1,0,2,0,theta).toarray())\n",
    "\n",
    "    \n",
    "    if i%13 == 9:\n",
    "        return(rot_sigma(1,1,2,np.pi/2,theta).toarray())\n",
    "    \n",
    "    \n",
    "    if i%13 == 10:\n",
    "        return(rot_sigma(0,0,1,0,theta).toarray())\n",
    "\n",
    "\n",
    "    if i%13 == 11:\n",
    "        return(rot_sigma(0,0,2,0,theta).toarray())\n",
    "\n",
    "    \n",
    "    if i%13 == 12:\n",
    "        return(rot_sigma(0,1,2,np.pi/2,theta).toarray())\n",
    "    \n",
    "    \n",
    "def S(i):\n",
    "    \n",
    "    if i%13 == 0:\n",
    "        return(-1j*matrix_part)\n",
    "    \n",
    "\n",
    "    if i%13 == 1:\n",
    "        return(-1j*sigma(3,0,1,0).toarray())\n",
    "\n",
    "    \n",
    "    if i%13 == 2:\n",
    "        return(-1j*sigma(3,0,2,0).toarray())\n",
    "\n",
    "    \n",
    "    if i%13 == 3:\n",
    "        return(-1j*sigma(3,1,2,np.pi/2).toarray())\n",
    "\n",
    "\n",
    "     \n",
    "    if i%13 == 4:\n",
    "        return(-1j*sigma(2,0,1,0).toarray())\n",
    "\n",
    "    \n",
    "    if i%13 == 5:\n",
    "        return(-1j*sigma(2,0,2,0).toarray())\n",
    "\n",
    "    \n",
    "    if i%13 == 6:\n",
    "        return(-1j*sigma(2,1,2,np.pi/2).toarray())\n",
    "\n",
    "\n",
    "    if i%13 == 7:\n",
    "        return(-1j*sigma(1,0,1,0).toarray())\n",
    "\n",
    "    \n",
    "    if i%13 == 8:\n",
    "        return(-1j*sigma(1,0,2,0).toarray())\n",
    "\n",
    "    \n",
    "    if i%13 == 9:\n",
    "        return(-1j*sigma(1,1,2,np.pi/2).toarray())\n",
    "\n",
    "     \n",
    "    if i%13 == 10:\n",
    "        return(-1j*sigma(0,0,1,0).toarray())\n",
    "\n",
    "    \n",
    "    if i%13 == 11:\n",
    "        return(-1j*sigma(0,0,2,0).toarray())\n",
    "\n",
    "    \n",
    "    if i%13 == 12:\n",
    "        return(-1j*sigma(0,1,2,np.pi/2).toarray())"
   ]
  },
  {
   "cell_type": "code",
   "execution_count": 131,
   "id": "29de025a",
   "metadata": {},
   "outputs": [],
   "source": [
    "coeff = 13"
   ]
  },
  {
   "cell_type": "code",
   "execution_count": 132,
   "id": "79ec0f4b",
   "metadata": {},
   "outputs": [],
   "source": [
    "matr = full_ham_matrix.toarray()\n",
    "ones = np.ones(coeff*N)\n",
    "ID = np.identity(coeff*N)\n",
    "psi_0_conj = np.conj(psi_0)\n",
    "A = [np.zeros((basis.Ns,basis.Ns),dtype = complex) for i in range(coeff*N)]\n",
    "B = [np.zeros((basis.Ns,basis.Ns),dtype = complex) for i in range(coeff*N)]\n",
    "dd = [np.zeros((basis.Ns,basis.Ns),dtype = complex) for i in range(coeff*N)]\n"
   ]
  },
  {
   "cell_type": "code",
   "execution_count": 133,
   "id": "25093235",
   "metadata": {},
   "outputs": [],
   "source": [
    "def rhs(t,theta):\n",
    "    #A = [-1j*entanglement_ham.toarray()@exp_ent(theta[0]),-1j*sigma_z.toarray()@exp_sigma_z(theta[1]),-1j*sigma_x.toarray()@exp_sigma_x(theta[2]),-1j*sigma_z.toarray()@exp_sigma_z(theta[3])]\n",
    "    #B = [exp_ent(theta[0]),exp_sigma_z(theta[1]),exp_sigma_x(theta[2]),exp_sigma_z(theta[3])]\n",
    "    ID = np.identity(coeff*N)\n",
    "\n",
    "    print(datetime.datetime.now())\n",
    "    for k in range(coeff*N):\n",
    "        A[k] = S(k)@R(k,theta[k])\n",
    "        B[k] = R(k,theta[k])\n",
    "    print(datetime.datetime.now())\n",
    "\n",
    "    CC = np.einsum(\"i,ljk->iljk\",np.ones(coeff*N),B)\n",
    "    print(datetime.datetime.now())\n",
    "\n",
    "    AA = np.einsum(\"ijk,il->iljk\",A,ID)\n",
    "    print(datetime.datetime.now())\n",
    "\n",
    "    BB = np.einsum(\"ijk,il->iljk\",B,ID)\n",
    "    print(datetime.datetime.now())\n",
    "\n",
    "    DD = CC-BB+AA\n",
    "    print(datetime.datetime.now())\n",
    "\n",
    "    for i in range(coeff*N):\n",
    "        dd[i] = reduce(np.dot,DD[i])\n",
    "    DD = np.array(dd)\n",
    "\n",
    "    X = np.zeros((coeff*N,coeff*N),dtype = complex)\n",
    "    Y = np.zeros(coeff*N,dtype = complex)\n",
    "    print(datetime.datetime.now())\n",
    "\n",
    "    BBB = reduce(np.dot,B)\n",
    "    print(datetime.datetime.now())\n",
    "\n",
    "    DD_d = np.einsum(\"kij->kji\",DD.conj())\n",
    "        \n",
    "    X_0p5_dagger = np.einsum(\"m,imn->in\",psi_0_conj,DD_d)\n",
    "    X_0p5 = np.einsum(\"jnl,l->jn\",DD,psi_0)\n",
    "\n",
    "    X = np.einsum(\"in,jn->ij\",X_0p5_dagger,X_0p5)\n",
    "   \n",
    "    DD_dmatr = np.einsum(\"imn,nl->iml\",DD_d,matr)\n",
    "\n",
    "    Y_0p5_dagger = np.einsum(\"m,iml->il\",psi_0_conj,DD_dmatr)\n",
    "    Y_0p5 = np.einsum(\"lk,k->l\",BBB,psi_0)\n",
    "\n",
    "    Y = np.einsum(\"il,l->i\",Y_0p5_dagger,Y_0p5)\n",
    "    \n",
    "    DD_dBBB  = np.einsum(\"imn,nk->imk\",DD_d,BBB)\n",
    "\n",
    "    XX = np.einsum(\"m,imk,k->i\",psi_0_conj,DD_dBBB,psi_0)\n",
    "    \n",
    "    BBB_dagger = BBB.conj().T\n",
    "    BBB_daggerDD = np.einsum(\"mn,ink->imk\",BBB_dagger,DD)\n",
    "    print(datetime.datetime.now())\n",
    "\n",
    "    YY_1 = np.einsum(\"m,imk,k->i\",psi_0_conj,BBB_daggerDD,psi_0)\n",
    "    BBB_daggermatr = np.einsum(\"mn,nk->mk\",BBB_dagger,matr)\n",
    "    BBB_daggermatrBBB = np.einsum(\"mk,kl->ml\",BBB_daggermatr,BBB)\n",
    "    \n",
    "    YY_2 = np.einsum(\"m,ml,l\",psi_0_conj,BBB_daggermatrBBB,psi_0)\n",
    "    YY = YY_1*YY_2\n",
    "    XX = np.outer(XX,XX)\n",
    "    X_r = 2*np.real(X+XX)\n",
    "    Y_i = 2*np.real(Y+YY)\n",
    "    result = -np.linalg.pinv(X_r,rcond = 1e-6)@Y_i\n",
    "    print(datetime.datetime.now())\n",
    "\n",
    "    print(t)\n",
    "\n",
    "    return result"
   ]
  },
  {
   "cell_type": "code",
   "execution_count": 134,
   "id": "83f98165",
   "metadata": {},
   "outputs": [],
   "source": [
    "stepp = 1000\n",
    "t_final = 10"
   ]
  },
  {
   "cell_type": "code",
   "execution_count": 135,
   "id": "e9d53cb6",
   "metadata": {},
   "outputs": [],
   "source": [
    "time_domain = np.linspace(0, t_final, stepp)\n",
    "Y = []"
   ]
  },
  {
   "cell_type": "code",
   "execution_count": 136,
   "id": "c93cda77",
   "metadata": {},
   "outputs": [],
   "source": [
    "# RK-4 method\n",
    "def rk4(x0,y0,xn,n):\n",
    "    global Y\n",
    "\n",
    "    # Calculating step size\n",
    "    h = (xn-x0)/n\n",
    "\n",
    "    #print('\\n--------SOLUTION--------')\n",
    "    #print('-------------------------')    \n",
    "    #print('x0\\ty0\\tyn')\n",
    "    #print('-------------------------')\n",
    "    for i in range(n):\n",
    "        k1 = h * (rhs(x0, y0))\n",
    "        k2 = h * (rhs((x0+h/2), (y0+k1/2)))\n",
    "        k3 = h * (rhs((x0+h/2), (y0+k2/2)))\n",
    "        k4 = h * (rhs((x0+h), (y0+k3)))\n",
    "        k = (k1+2*k2+2*k3+k4)/6\n",
    "        yn = y0 + k\n",
    "        #print('%.4f\\t%.4f\\t%.4f'% (x0,y0,yn) )\n",
    "        #print('-------------------------')\n",
    "        y0 = yn\n",
    "        x0 = x0+h\n",
    "        Y.append(y0)\n",
    "    \n",
    "    #print('\\nAt x=%.4f, y=%.4f' %(xn,yn))\n",
    "\n",
    "# Inputs\n",
    "#print('Enter initial conditions:')\n",
    "#x0 = float(input('x0 = '))\n",
    "#y0 = float(input('y0 = '))\n",
    "\n",
    "#print('Enter calculation point: ')\n",
    "#xn = float(input('xn = '))\n",
    "\n",
    "#print('Enter number of steps:')\n",
    "#step = int(input('Number of steps = '))\n",
    "\n",
    "# RK4 method call\n"
   ]
  },
  {
   "cell_type": "code",
   "execution_count": 137,
   "id": "7b811e78",
   "metadata": {
    "scrolled": true
   },
   "outputs": [
    {
     "name": "stdout",
     "output_type": "stream",
     "text": [
      "2022-07-21 17:11:57.345551\n",
      "2022-07-21 17:11:57.567284\n",
      "2022-07-21 17:11:58.143589\n",
      "2022-07-21 17:11:59.032287\n",
      "2022-07-21 17:11:59.719658\n",
      "2022-07-21 17:12:00.582380\n",
      "2022-07-21 17:12:00.661474\n",
      "2022-07-21 17:12:00.663605\n",
      "2022-07-21 17:12:00.847178\n",
      "2022-07-21 17:12:00.850350\n",
      "0\n",
      "2022-07-21 17:12:00.869107\n",
      "2022-07-21 17:12:01.084698\n",
      "2022-07-21 17:12:01.986633\n",
      "2022-07-21 17:12:02.877424\n",
      "2022-07-21 17:12:03.613088\n",
      "2022-07-21 17:12:04.581751\n",
      "2022-07-21 17:12:04.651000\n",
      "2022-07-21 17:12:04.652881\n",
      "2022-07-21 17:12:04.839529\n",
      "2022-07-21 17:12:04.843390\n",
      "0.005\n",
      "2022-07-21 17:12:04.863489\n",
      "2022-07-21 17:12:05.129013\n"
     ]
    },
    {
     "ename": "KeyboardInterrupt",
     "evalue": "",
     "output_type": "error",
     "traceback": [
      "\u001b[0;31m---------------------------------------------------------------------------\u001b[0m",
      "\u001b[0;31mKeyboardInterrupt\u001b[0m                         Traceback (most recent call last)",
      "\u001b[0;32m<ipython-input-137-919e8e8ef9fd>\u001b[0m in \u001b[0;36m<module>\u001b[0;34m\u001b[0m\n\u001b[1;32m      2\u001b[0m \u001b[0;31m#for i in range(4*N):\u001b[0m\u001b[0;34m\u001b[0m\u001b[0;34m\u001b[0m\u001b[0;34m\u001b[0m\u001b[0m\n\u001b[1;32m      3\u001b[0m \u001b[0;31m#    start_point[i] += i/4*N\u001b[0m\u001b[0;34m\u001b[0m\u001b[0;34m\u001b[0m\u001b[0;34m\u001b[0m\u001b[0m\n\u001b[0;32m----> 4\u001b[0;31m \u001b[0mrk4\u001b[0m\u001b[0;34m(\u001b[0m\u001b[0;36m0\u001b[0m\u001b[0;34m,\u001b[0m\u001b[0;36m0.001\u001b[0m\u001b[0;34m*\u001b[0m\u001b[0mnp\u001b[0m\u001b[0;34m.\u001b[0m\u001b[0mones\u001b[0m\u001b[0;34m(\u001b[0m\u001b[0mcoeff\u001b[0m\u001b[0;34m*\u001b[0m\u001b[0mN\u001b[0m\u001b[0;34m)\u001b[0m\u001b[0;34m,\u001b[0m\u001b[0mt_final\u001b[0m\u001b[0;34m,\u001b[0m\u001b[0mstepp\u001b[0m\u001b[0;34m)\u001b[0m\u001b[0;34m\u001b[0m\u001b[0;34m\u001b[0m\u001b[0m\n\u001b[0m",
      "\u001b[0;32m<ipython-input-136-ca31fa8d5f67>\u001b[0m in \u001b[0;36mrk4\u001b[0;34m(x0, y0, xn, n)\u001b[0m\n\u001b[1;32m     13\u001b[0m         \u001b[0mk1\u001b[0m \u001b[0;34m=\u001b[0m \u001b[0mh\u001b[0m \u001b[0;34m*\u001b[0m \u001b[0;34m(\u001b[0m\u001b[0mrhs\u001b[0m\u001b[0;34m(\u001b[0m\u001b[0mx0\u001b[0m\u001b[0;34m,\u001b[0m \u001b[0my0\u001b[0m\u001b[0;34m)\u001b[0m\u001b[0;34m)\u001b[0m\u001b[0;34m\u001b[0m\u001b[0;34m\u001b[0m\u001b[0m\n\u001b[1;32m     14\u001b[0m         \u001b[0mk2\u001b[0m \u001b[0;34m=\u001b[0m \u001b[0mh\u001b[0m \u001b[0;34m*\u001b[0m \u001b[0;34m(\u001b[0m\u001b[0mrhs\u001b[0m\u001b[0;34m(\u001b[0m\u001b[0;34m(\u001b[0m\u001b[0mx0\u001b[0m\u001b[0;34m+\u001b[0m\u001b[0mh\u001b[0m\u001b[0;34m/\u001b[0m\u001b[0;36m2\u001b[0m\u001b[0;34m)\u001b[0m\u001b[0;34m,\u001b[0m \u001b[0;34m(\u001b[0m\u001b[0my0\u001b[0m\u001b[0;34m+\u001b[0m\u001b[0mk1\u001b[0m\u001b[0;34m/\u001b[0m\u001b[0;36m2\u001b[0m\u001b[0;34m)\u001b[0m\u001b[0;34m)\u001b[0m\u001b[0;34m)\u001b[0m\u001b[0;34m\u001b[0m\u001b[0;34m\u001b[0m\u001b[0m\n\u001b[0;32m---> 15\u001b[0;31m         \u001b[0mk3\u001b[0m \u001b[0;34m=\u001b[0m \u001b[0mh\u001b[0m \u001b[0;34m*\u001b[0m \u001b[0;34m(\u001b[0m\u001b[0mrhs\u001b[0m\u001b[0;34m(\u001b[0m\u001b[0;34m(\u001b[0m\u001b[0mx0\u001b[0m\u001b[0;34m+\u001b[0m\u001b[0mh\u001b[0m\u001b[0;34m/\u001b[0m\u001b[0;36m2\u001b[0m\u001b[0;34m)\u001b[0m\u001b[0;34m,\u001b[0m \u001b[0;34m(\u001b[0m\u001b[0my0\u001b[0m\u001b[0;34m+\u001b[0m\u001b[0mk2\u001b[0m\u001b[0;34m/\u001b[0m\u001b[0;36m2\u001b[0m\u001b[0;34m)\u001b[0m\u001b[0;34m)\u001b[0m\u001b[0;34m)\u001b[0m\u001b[0;34m\u001b[0m\u001b[0;34m\u001b[0m\u001b[0m\n\u001b[0m\u001b[1;32m     16\u001b[0m         \u001b[0mk4\u001b[0m \u001b[0;34m=\u001b[0m \u001b[0mh\u001b[0m \u001b[0;34m*\u001b[0m \u001b[0;34m(\u001b[0m\u001b[0mrhs\u001b[0m\u001b[0;34m(\u001b[0m\u001b[0;34m(\u001b[0m\u001b[0mx0\u001b[0m\u001b[0;34m+\u001b[0m\u001b[0mh\u001b[0m\u001b[0;34m)\u001b[0m\u001b[0;34m,\u001b[0m \u001b[0;34m(\u001b[0m\u001b[0my0\u001b[0m\u001b[0;34m+\u001b[0m\u001b[0mk3\u001b[0m\u001b[0;34m)\u001b[0m\u001b[0;34m)\u001b[0m\u001b[0;34m)\u001b[0m\u001b[0;34m\u001b[0m\u001b[0;34m\u001b[0m\u001b[0m\n\u001b[1;32m     17\u001b[0m         \u001b[0mk\u001b[0m \u001b[0;34m=\u001b[0m \u001b[0;34m(\u001b[0m\u001b[0mk1\u001b[0m\u001b[0;34m+\u001b[0m\u001b[0;36m2\u001b[0m\u001b[0;34m*\u001b[0m\u001b[0mk2\u001b[0m\u001b[0;34m+\u001b[0m\u001b[0;36m2\u001b[0m\u001b[0;34m*\u001b[0m\u001b[0mk3\u001b[0m\u001b[0;34m+\u001b[0m\u001b[0mk4\u001b[0m\u001b[0;34m)\u001b[0m\u001b[0;34m/\u001b[0m\u001b[0;36m6\u001b[0m\u001b[0;34m\u001b[0m\u001b[0;34m\u001b[0m\u001b[0m\n",
      "\u001b[0;32m<ipython-input-133-84ec8528c5c4>\u001b[0m in \u001b[0;36mrhs\u001b[0;34m(t, theta)\u001b[0m\n\u001b[1;32m     10\u001b[0m     \u001b[0mprint\u001b[0m\u001b[0;34m(\u001b[0m\u001b[0mdatetime\u001b[0m\u001b[0;34m.\u001b[0m\u001b[0mdatetime\u001b[0m\u001b[0;34m.\u001b[0m\u001b[0mnow\u001b[0m\u001b[0;34m(\u001b[0m\u001b[0;34m)\u001b[0m\u001b[0;34m)\u001b[0m\u001b[0;34m\u001b[0m\u001b[0;34m\u001b[0m\u001b[0m\n\u001b[1;32m     11\u001b[0m \u001b[0;34m\u001b[0m\u001b[0m\n\u001b[0;32m---> 12\u001b[0;31m     \u001b[0mCC\u001b[0m \u001b[0;34m=\u001b[0m \u001b[0mnp\u001b[0m\u001b[0;34m.\u001b[0m\u001b[0meinsum\u001b[0m\u001b[0;34m(\u001b[0m\u001b[0;34m\"i,ljk->iljk\"\u001b[0m\u001b[0;34m,\u001b[0m\u001b[0mnp\u001b[0m\u001b[0;34m.\u001b[0m\u001b[0mones\u001b[0m\u001b[0;34m(\u001b[0m\u001b[0mcoeff\u001b[0m\u001b[0;34m*\u001b[0m\u001b[0mN\u001b[0m\u001b[0;34m)\u001b[0m\u001b[0;34m,\u001b[0m\u001b[0mB\u001b[0m\u001b[0;34m)\u001b[0m\u001b[0;34m\u001b[0m\u001b[0;34m\u001b[0m\u001b[0m\n\u001b[0m\u001b[1;32m     13\u001b[0m     \u001b[0mprint\u001b[0m\u001b[0;34m(\u001b[0m\u001b[0mdatetime\u001b[0m\u001b[0;34m.\u001b[0m\u001b[0mdatetime\u001b[0m\u001b[0;34m.\u001b[0m\u001b[0mnow\u001b[0m\u001b[0;34m(\u001b[0m\u001b[0;34m)\u001b[0m\u001b[0;34m)\u001b[0m\u001b[0;34m\u001b[0m\u001b[0;34m\u001b[0m\u001b[0m\n\u001b[1;32m     14\u001b[0m \u001b[0;34m\u001b[0m\u001b[0m\n",
      "\u001b[0;32m<__array_function__ internals>\u001b[0m in \u001b[0;36meinsum\u001b[0;34m(*args, **kwargs)\u001b[0m\n",
      "\u001b[0;32m~/anaconda3/lib/python3.8/site-packages/numpy/core/einsumfunc.py\u001b[0m in \u001b[0;36meinsum\u001b[0;34m(out, optimize, *operands, **kwargs)\u001b[0m\n\u001b[1;32m   1359\u001b[0m         \u001b[0;32mif\u001b[0m \u001b[0mspecified_out\u001b[0m\u001b[0;34m:\u001b[0m\u001b[0;34m\u001b[0m\u001b[0;34m\u001b[0m\u001b[0m\n\u001b[1;32m   1360\u001b[0m             \u001b[0mkwargs\u001b[0m\u001b[0;34m[\u001b[0m\u001b[0;34m'out'\u001b[0m\u001b[0;34m]\u001b[0m \u001b[0;34m=\u001b[0m \u001b[0mout\u001b[0m\u001b[0;34m\u001b[0m\u001b[0;34m\u001b[0m\u001b[0m\n\u001b[0;32m-> 1361\u001b[0;31m         \u001b[0;32mreturn\u001b[0m \u001b[0mc_einsum\u001b[0m\u001b[0;34m(\u001b[0m\u001b[0;34m*\u001b[0m\u001b[0moperands\u001b[0m\u001b[0;34m,\u001b[0m \u001b[0;34m**\u001b[0m\u001b[0mkwargs\u001b[0m\u001b[0;34m)\u001b[0m\u001b[0;34m\u001b[0m\u001b[0;34m\u001b[0m\u001b[0m\n\u001b[0m\u001b[1;32m   1362\u001b[0m \u001b[0;34m\u001b[0m\u001b[0m\n\u001b[1;32m   1363\u001b[0m     \u001b[0;31m# Check the kwargs to avoid a more cryptic error later, without having to\u001b[0m\u001b[0;34m\u001b[0m\u001b[0;34m\u001b[0m\u001b[0;34m\u001b[0m\u001b[0m\n",
      "\u001b[0;31mKeyboardInterrupt\u001b[0m: "
     ]
    }
   ],
   "source": [
    "start_point = 0.001*np.ones(coeff*N)\n",
    "#for i in range(4*N):\n",
    "#    start_point[i] += i/4*N\n",
    "rk4(0,0.001*np.ones(coeff*N),t_final,stepp)\n"
   ]
  },
  {
   "cell_type": "code",
   "execution_count": 278,
   "id": "3989fe4b",
   "metadata": {},
   "outputs": [
    {
     "data": {
      "image/png": "[encoded data removed]",
      "text/plain": [
       "<Figure size 432x288 with 1 Axes>"
      ]
     },
     "metadata": {
      "needs_background": "light"
     },
     "output_type": "display_data"
    }
   ],
   "source": [
    "import matplotlib.pyplot as plt\n",
    "for i in range(coeff*N):\n",
    "    plt.plot(time_domain, [row[i] for row in Y])\n",
    "#plt.legend(loc='best')\n",
    "plt.xlabel('t')\n",
    "plt.grid()\n",
    "#plt.ylim(0,10)\n",
    "plt.show()"
   ]
  },
  {
   "cell_type": "code",
   "execution_count": 279,
   "id": "76045ba0",
   "metadata": {},
   "outputs": [],
   "source": [
    "obs = [[1.,2]]\n",
    "obs_1 = [[-1.,1]]\n",
    "\n",
    "\n",
    "obs_map = [\n",
    "            [\"z\", obs], \n",
    "            [\"z\", obs_1], \n",
    "\n",
    "\n",
    "]\n",
    "\n",
    "observable = hamiltonian(obs_map,dynamic_list=[],basis=basis,**no_checks)\n",
    "observable_matrix = observable.toarray()\n",
    "observable_matrix_p = observable_matrix\n",
    "for i in range(LL+1):\n",
    "    observable_matrix_p = (Proj[i]+Proj_0[i])@observable_matrix_p@(Proj[i]+Proj_0[i])\n",
    "    \n",
    "observable_matrix = observable_matrix_p\n",
    "\n"
   ]
  },
  {
   "cell_type": "code",
   "execution_count": 280,
   "id": "6afdc300",
   "metadata": {},
   "outputs": [],
   "source": [
    "def var_ansatz(theta,psi_0):\n",
    "    psi = psi_0\n",
    "    for i in range(coeff*N):\n",
    "        psi = R(coeff*N-1-i,theta[coeff*N-1-i])@psi\n",
    "\n",
    "    return psi"
   ]
  },
  {
   "cell_type": "code",
   "execution_count": 281,
   "id": "3bdaa56a",
   "metadata": {},
   "outputs": [],
   "source": [
    "def hamiltonian_evolution(theta):\n",
    "    return expm(-1j*full_ham_matrix.toarray()*theta)\n",
    "\n",
    "def hamiltonian_evolution_1(theta):\n",
    "    return expm(-1j*constrained_full_ham_matrix.toarray()*theta)"
   ]
  },
  {
   "cell_type": "code",
   "execution_count": 282,
   "id": "33f5c472",
   "metadata": {},
   "outputs": [],
   "source": [
    "psi = var_ansatz(start_point,psi_0)"
   ]
  },
  {
   "cell_type": "code",
   "execution_count": 283,
   "id": "f026879e",
   "metadata": {},
   "outputs": [],
   "source": [
    "psi_ground = eigenvec[:,0]\n"
   ]
  },
  {
   "cell_type": "code",
   "execution_count": 284,
   "id": "8eb93722",
   "metadata": {},
   "outputs": [],
   "source": [
    "expt_value_u = np.zeros(len(time_domain))\n",
    "energy = np.zeros(len(time_domain))\n",
    "psi = var_ansatz(start_point,psi_0)\n",
    "for tt in range(len(time_domain)):\n",
    "    theta = []\n",
    "    for i in range(coeff*N):\n",
    "        theta.append(Y[tt][i])\n",
    "\n",
    "    psi_var = var_ansatz(theta,psi_0)\n",
    "    \n",
    "    for i in range(LL+1):\n",
    "        psi_var = (Proj[i]+Proj_0[i])@psi_var\n",
    "    norm = np.sqrt(np.real(np.conj(psi_var)@psi_var))\n",
    "\n",
    "    expt_value_u[tt] = np.abs(np.conj(psi_var)@psi_ground/norm)**2\n",
    "    energy[tt] = np.real(np.conj(psi_var)@full_ham_matrix@psi_var/norm**2)\n"
   ]
  },
  {
   "cell_type": "code",
   "execution_count": null,
   "id": "14b5999d",
   "metadata": {},
   "outputs": [],
   "source": []
  },
  {
   "cell_type": "code",
   "execution_count": 289,
   "id": "6662d37c",
   "metadata": {},
   "outputs": [
    {
     "data": {
      "text/plain": [
       "(0.92, 0.96)"
      ]
     },
     "execution_count": 289,
     "metadata": {},
     "output_type": "execute_result"
    },
    {
     "data": {
      "image/png": "[encoded data removed]",
      "text/plain": [
       "<Figure size 432x288 with 1 Axes>"
      ]
     },
     "metadata": {
      "needs_background": "light"
     },
     "output_type": "display_data"
    }
   ],
   "source": [
    "plt.plot(time_domain,expt_value_u, color = \"red\")\n",
    "plt.plot(time_domain,1.*np.ones(len(time_domain)), ls = \"--\", color =\"c\")\n",
    "\n",
    "plt.ylabel(r\"$|\\langle \\psi(\\theta)|\\psi_g\\rangle|^2$\",size = 18)\n",
    "plt.xlabel('Time',size = 15)\n",
    "plt.grid()\n",
    "plt.xlim(0,10)\n",
    "#plt.ylim(0.92,0.96)\n",
    "\n",
    "#plt.savefig(\"Imaginary_time_evolution_fidelity_2d_1plaquette_M=0.1_N=3.pdf\",bbox_inches = \"tight\")"
   ]
  },
  {
   "cell_type": "code",
   "execution_count": 286,
   "id": "1633bb35",
   "metadata": {},
   "outputs": [
    {
     "data": {
      "text/plain": [
       "<matplotlib.legend.Legend at 0x7f1e409abfd0>"
      ]
     },
     "execution_count": 286,
     "metadata": {},
     "output_type": "execute_result"
    },
    {
     "data": {
      "image/png": "[encoded data removed]",
      "text/plain": [
       "<Figure size 432x288 with 1 Axes>"
      ]
     },
     "metadata": {
      "needs_background": "light"
     },
     "output_type": "display_data"
    }
   ],
   "source": [
    "plt.plot(time_domain,energy, color = \"red\",label = \"variational\")\n",
    "plt.plot(time_domain,eigenval[0]*np.ones(len(time_domain)), ls = \"--\", color =\"c\", label = \"ground state\")\n",
    "plt.plot(time_domain,eigenval[1]*np.ones(len(time_domain)), ls = \"--\", color =\"b\", label = \"first excited state\")\n",
    "\n",
    "plt.ylabel(r\"$\\langle \\psi(\\theta)|H|\\psi(\\theta)\\rangle$\",size = 18)\n",
    "plt.xlabel('Time',size = 15)\n",
    "plt.grid()\n",
    "plt.xlim(0,10)\n",
    "plt.legend()\n",
    "#plt.ylim(0.9,0.95)\n",
    "\n",
    "#plt.savefig(\"Imaginary_time_evolution_energy_2d_1plaquette_M=0.1_N=3.pdf\",bbox_inches = \"tight\")"
   ]
  },
  {
   "cell_type": "code",
   "execution_count": 287,
   "id": "08a06f4c",
   "metadata": {},
   "outputs": [
    {
     "name": "stdout",
     "output_type": "stream",
     "text": [
      "0.9421862474845836\n"
     ]
    }
   ],
   "source": [
    "print(expt_value_u[-1])"
   ]
  },
  {
   "cell_type": "code",
   "execution_count": null,
   "id": "9cd75627",
   "metadata": {},
   "outputs": [],
   "source": [
    "a = np.array([1,2,4])\n",
    "ind = [1,3,5]\n",
    "for i in ind:\n",
    "    a = np.insert(a,i,i)\n",
    "    print(a)"
   ]
  },
  {
   "cell_type": "code",
   "execution_count": 33,
   "id": "06ce149a",
   "metadata": {},
   "outputs": [
    {
     "name": "stdout",
     "output_type": "stream",
     "text": [
      "4\n"
     ]
    }
   ],
   "source": [
    "vec = np.array([1,2,3,4,5])\n",
    "print(vec[-1]-vec[0])"
   ]
  },
  {
   "cell_type": "code",
   "execution_count": null,
   "id": "192f212a",
   "metadata": {},
   "outputs": [],
   "source": []
  }
 ],
 "metadata": {
  "kernelspec": {
   "display_name": "Python 3",
   "language": "python",
   "name": "python3"
  },
  "language_info": {
   "codemirror_mode": {
    "name": "ipython",
    "version": 3
   },
   "file_extension": ".py",
   "mimetype": "text/x-python",
   "name": "python",
   "nbconvert_exporter": "python",
   "pygments_lexer": "ipython3",
   "version": "3.8.8"
  }
 },
 "nbformat": 4,
 "nbformat_minor": 5
}
