{
 "cells": [
  {
   "cell_type": "code",
   "execution_count": 123,
   "id": "7a126253",
   "metadata": {},
   "outputs": [],
   "source": [
    "from __future__ import print_function, division\n",
    "import sys,os\n",
    "# line 4 and line 5 below are for development purposes and can be removed\n",
    "qspin_path = os.path.join(os.getcwd(),\"../../\")\n",
    "sys.path.insert(0,qspin_path)\n",
    "from scipy.linalg import expm\n",
    "from quspin.operators import hamiltonian, commutator, exp_op # Hamiltonians and operators\n",
    "from quspin.basis import tensor_basis, spin_basis_1d # bases\n",
    "from quspin.tools.measurements import obs_vs_time # calculating dynamics\n",
    "from quspin.tools.Floquet import Floquet_t_vec # period-spaced time vector\n",
    "import numpy as np # general math functions\n",
    "import matplotlib.pyplot as plt # plotting library"
   ]
  },
  {
   "cell_type": "code",
   "execution_count": 124,
   "id": "83ac2373",
   "metadata": {},
   "outputs": [],
   "source": [
    "L = 3\n",
    "M = 0.1\n",
    "l=1\n",
    "no_checks = dict(check_pcon=False,check_symm=False,check_herm=False)\n"
   ]
  },
  {
   "cell_type": "code",
   "execution_count": 125,
   "id": "ee064897",
   "metadata": {},
   "outputs": [
    {
     "name": "stdout",
     "output_type": "stream",
     "text": [
      "reference states: \n",
      "array index   /   Fock state   /   integer repr. \n",
      "      0.         |2 2 2>           26  \n",
      "      1.         |2 2 1>           25  \n",
      "      2.         |2 2 0>           24  \n",
      "      3.         |2 1 2>           23  \n",
      "      4.         |2 1 1>           22  \n",
      "      5.         |2 1 0>           21  \n",
      "      6.         |2 0 2>           20  \n",
      "      7.         |2 0 1>           19  \n",
      "      8.         |2 0 0>           18  \n",
      "      9.         |1 2 2>           17  \n",
      "     10.         |1 2 1>           16  \n",
      "     11.         |1 2 0>           15  \n",
      "     12.         |1 1 2>           14  \n",
      "     13.         |1 1 1>           13  \n",
      "     14.         |1 1 0>           12  \n",
      "     15.         |1 0 2>           11  \n",
      "     16.         |1 0 1>           10  \n",
      "     17.         |1 0 0>            9  \n",
      "     18.         |0 2 2>            8  \n",
      "     19.         |0 2 1>            7  \n",
      "     20.         |0 2 0>            6  \n",
      "     21.         |0 1 2>            5  \n",
      "     22.         |0 1 1>            4  \n",
      "     23.         |0 1 0>            3  \n",
      "     24.         |0 0 2>            2  \n",
      "     25.         |0 0 1>            1  \n",
      "     26.         |0 0 0>            0  \n"
     ]
    }
   ],
   "source": [
    "basis=spin_basis_1d(L=L,S = str(l))\n",
    "print(basis)"
   ]
  },
  {
   "cell_type": "code",
   "execution_count": 126,
   "id": "a01c0897",
   "metadata": {},
   "outputs": [],
   "source": [
    "basis_vectors = []\n",
    "for index in range(basis.Ns):\n",
    "    state = np.zeros(basis.Ns)\n",
    "    state[basis.Ns-index-1] = 1.\n",
    "    state = state.tolist()\n",
    "    basis_vectors.append(state)"
   ]
  },
  {
   "cell_type": "code",
   "execution_count": 127,
   "id": "e29551c4",
   "metadata": {},
   "outputs": [],
   "source": [
    "sigma_01_0 = np.zeros((basis.Ns,basis.Ns))\n",
    "sigma_12_0 = np.zeros((basis.Ns,basis.Ns))\n",
    "sigma_02_0 = np.zeros((basis.Ns,basis.Ns))\n",
    "sigma_01_1 = np.zeros((basis.Ns,basis.Ns))\n",
    "sigma_12_1 = np.zeros((basis.Ns,basis.Ns))\n",
    "sigma_02_1 = np.zeros((basis.Ns,basis.Ns))\n",
    "sigma_01_2 = np.zeros((basis.Ns,basis.Ns))\n",
    "sigma_12_2 = np.zeros((basis.Ns,basis.Ns))\n",
    "sigma_02_2 = np.zeros((basis.Ns,basis.Ns))\n",
    "\n",
    "for i in range(basis.Ns):\n",
    "    for j in range(basis.Ns):\n",
    "        \n",
    "        string_i = basis.int_to_state(basis.Ns-i-1,bracket_notation=False)\n",
    "        string_j = basis.int_to_state(basis.Ns-j-1,bracket_notation=False)\n",
    "        #0th link\n",
    "        if (int(string_i[0]) == 0) & (int(string_j[0]) == 1) & (int(string_i[1]) == int(string_j[1])) & (int(string_i[2]) == int(string_j[2])):\n",
    "            sigma_01_0[i][j] = 1.\n",
    "        if (int(string_i[0]) == 1) & (int(string_j[0]) == 0) & (int(string_i[1]) == int(string_j[1])) & (int(string_i[2]) == int(string_j[2])):\n",
    "            sigma_01_0[i][j] = 1.\n",
    "            \n",
    "        if (int(string_i[0]) == 0) & (int(string_j[0]) == 2) & (int(string_i[1]) == int(string_j[1])) & (int(string_i[2]) == int(string_j[2])):\n",
    "            sigma_02_0[i][j] = 1.\n",
    "        if (int(string_i[0]) == 2) & (int(string_j[0]) == 0) & (int(string_i[1]) == int(string_j[1])) & (int(string_i[2]) == int(string_j[2])):\n",
    "            sigma_02_0[i][j] = 1.\n",
    "            \n",
    "        if (int(string_i[0]) == 1) & (int(string_j[0]) == 2) & (int(string_i[1]) == int(string_j[1])) & (int(string_i[2]) == int(string_j[2])):\n",
    "            sigma_12_0[i][j] = 1.\n",
    "        if (int(string_i[0]) == 2) & (int(string_j[0]) == 1) & (int(string_i[1]) == int(string_j[1])) & (int(string_i[2]) == int(string_j[2])):\n",
    "            sigma_12_0[i][j] = 1.\n",
    "        #1st link\n",
    "        if (int(string_i[1]) == 0) & (int(string_j[1]) == 1) & (int(string_i[0]) == int(string_j[0])) & (int(string_i[2]) == int(string_j[2])):\n",
    "            sigma_01_1[i][j] = 1.\n",
    "        if (int(string_i[1]) == 1) & (int(string_j[1]) == 0) & (int(string_i[0]) == int(string_j[0])) & (int(string_i[2]) == int(string_j[2])):\n",
    "            sigma_01_1[i][j] = 1.\n",
    "            \n",
    "        if (int(string_i[1]) == 0) & (int(string_j[1]) == 2) & (int(string_i[0]) == int(string_j[0])) & (int(string_i[2]) == int(string_j[2])):\n",
    "            sigma_02_1[i][j] = 1.\n",
    "        if (int(string_i[1]) == 2) & (int(string_j[1]) == 0) & (int(string_i[0]) == int(string_j[0])) & (int(string_i[2]) == int(string_j[2])):\n",
    "            sigma_02_1[i][j] = 1.\n",
    "            \n",
    "        if (int(string_i[1]) == 1) & (int(string_j[1]) == 2) & (int(string_i[0]) == int(string_j[0])) & (int(string_i[2]) == int(string_j[2])):\n",
    "            sigma_12_1[i][j] = 1.\n",
    "        if (int(string_i[1]) == 2) & (int(string_j[1]) == 1) & (int(string_i[0]) == int(string_j[0])) & (int(string_i[2]) == int(string_j[2])):\n",
    "            sigma_12_1[i][j] = 1.\n",
    "        #2nd link\n",
    "        if (int(string_i[2]) == 0) & (int(string_j[2]) == 1) & (int(string_i[1]) == int(string_j[1])) & (int(string_i[0]) == int(string_j[0])):\n",
    "            sigma_01_2[i][j] = 1.\n",
    "        if (int(string_i[2]) == 1) & (int(string_j[2]) == 0) & (int(string_i[1]) == int(string_j[1])) & (int(string_i[0]) == int(string_j[0])):\n",
    "            sigma_01_2[i][j] = 1.\n",
    "            \n",
    "        if (int(string_i[2]) == 0) & (int(string_j[2]) == 2) & (int(string_i[1]) == int(string_j[1])) & (int(string_i[0]) == int(string_j[0])):\n",
    "            sigma_02_2[i][j] = 1.\n",
    "        if (int(string_i[2]) == 2) & (int(string_j[2]) == 0) & (int(string_i[1]) == int(string_j[1])) & (int(string_i[0]) == int(string_j[0])):\n",
    "            sigma_02_2[i][j] = 1.\n",
    "            \n",
    "        if (int(string_i[2]) == 1) & (int(string_j[2]) == 2) & (int(string_i[1]) == int(string_j[1])) & (int(string_i[0]) == int(string_j[0])):\n",
    "            sigma_12_2[i][j] = 1.\n",
    "        if (int(string_i[2]) == 2) & (int(string_j[2]) == 1) & (int(string_i[1]) == int(string_j[1])) & (int(string_i[0]) == int(string_j[0])):\n",
    "            sigma_12_2[i][j] = 1.         \n",
    "            \n",
    "sigma_01 = sigma_01_0 + sigma_01_1 + sigma_01_2\n",
    "sigma_12 = sigma_12_0 + sigma_12_1 + sigma_12_2\n",
    "sigma_02 = sigma_02_0 + sigma_02_1 + sigma_02_2\n",
    "def rot(sigma,theta):\n",
    "    return expm(-1j*theta*sigma/2)"
   ]
  },
  {
   "cell_type": "code",
   "execution_count": 128,
   "id": "5cef3ac9",
   "metadata": {},
   "outputs": [],
   "source": [
    "ms_01_0_1 = ((sigma_01_0+sigma_01_1)**2)/2  \n",
    "ms_12_0_1 = ((sigma_12_0+sigma_12_1)**2)/2\n",
    "ms_02_0_1 = ((sigma_02_0+sigma_02_1)**2)/2\n",
    "\n",
    "ms_01_1_2 = ((sigma_01_1+sigma_01_2)**2)/2\n",
    "ms_12_1_2 = ((sigma_12_1+sigma_12_2)**2)/2\n",
    "ms_02_1_2 = ((sigma_02_1+sigma_02_2)**2)/2\n",
    "\n",
    "ms_01 = ms_01_0_1 + ms_01_1_2\n",
    "ms_12 = ms_12_0_1 + ms_12_1_2\n",
    "ms_02 = ms_02_0_1 + ms_02_1_2"
   ]
  },
  {
   "cell_type": "code",
   "execution_count": 129,
   "id": "ab8f1794",
   "metadata": {},
   "outputs": [],
   "source": [
    "#Gauss_law_0\n",
    "\n",
    "gauss_law_z_0 = []\n",
    "gauss_law_z_0.append([1.,0])\n",
    "\n",
    "gauss_law_0_map = [\n",
    "    \n",
    "    [\"z\",gauss_law_z_0]\n",
    "\n",
    "    \n",
    "]\n",
    "\n",
    "Gauss_law_0  = hamiltonian(gauss_law_0_map,dynamic_list=[],basis=basis,**no_checks)\n",
    "\n",
    "constraint_0 = Gauss_law_0**2-Gauss_law_0"
   ]
  },
  {
   "cell_type": "code",
   "execution_count": 130,
   "id": "3329ac14",
   "metadata": {},
   "outputs": [],
   "source": [
    "Proj_10 = 0\n",
    "Proj_00 = 0\n",
    "for state in basis_vectors:\n",
    "    state = np.array(state)\n",
    "    if (Gauss_law_0.expt_value(state)>=1.-1e-8) & (Gauss_law_0.expt_value(state)<=1.+1e-8):\n",
    "        Proj_10 += np.outer(state,state)\n",
    "    if (Gauss_law_0.expt_value(state)>=0.-1e-8) & (Gauss_law_0.expt_value(state)<=0.+1e-8):\n",
    "        Proj_00 += np.outer(state,state)"
   ]
  },
  {
   "cell_type": "code",
   "execution_count": 131,
   "id": "60b218aa",
   "metadata": {},
   "outputs": [],
   "source": [
    "#Gauss_law_1\n",
    "gauss_law_zm_1 = []\n",
    "gauss_law_zm_1.append([-1.,0])\n",
    "\n",
    "gauss_law_z_1 = []\n",
    "gauss_law_z_1.append([1.,1])\n",
    "\n",
    "gauss_law_id_1 = [[1.,1]]\n",
    "\n",
    "gauss_law_1_map = [\n",
    "    \n",
    "    [\"z\",gauss_law_z_1],\n",
    "    [\"z\",gauss_law_zm_1],\n",
    "    [\"I\",gauss_law_id_1]\n",
    "    \n",
    "]\n",
    "\n",
    "Gauss_law_1  = hamiltonian(gauss_law_1_map,dynamic_list=[],basis=basis,**no_checks)\n",
    "constraint_1 = Gauss_law_1**2-Gauss_law_1"
   ]
  },
  {
   "cell_type": "code",
   "execution_count": 132,
   "id": "fdc7ca2d",
   "metadata": {},
   "outputs": [],
   "source": [
    "Proj_01 = 0\n",
    "Proj_11 = 0\n",
    "for state in basis_vectors:\n",
    "    state = np.array(state)\n",
    "    if (Gauss_law_1.expt_value(state)>=0.-1e-8) & (Gauss_law_1.expt_value(state)<=0.+1e-8):\n",
    "        Proj_01 += np.outer(state,state)\n",
    "    if (Gauss_law_1.expt_value(state)>=1.-1e-8) & (Gauss_law_1.expt_value(state)<=1.+1e-8):\n",
    "        Proj_11 += np.outer(state,state)"
   ]
  },
  {
   "cell_type": "code",
   "execution_count": 133,
   "id": "1c0d6ed2",
   "metadata": {},
   "outputs": [],
   "source": [
    "#Gauss_law_2\n",
    "gauss_law_zm_2 = []\n",
    "gauss_law_zm_2.append([-1.,1])\n",
    "\n",
    "gauss_law_z_2 = []\n",
    "gauss_law_z_2.append([1.,2])\n",
    "\n",
    "\n",
    "gauss_law_2_map = [\n",
    "    \n",
    "    [\"z\",gauss_law_z_2],\n",
    "    [\"z\",gauss_law_zm_2],\n",
    "    \n",
    "]\n",
    "\n",
    "Gauss_law_2  = hamiltonian(gauss_law_2_map,dynamic_list=[],basis=basis,**no_checks)\n",
    "constraint_2 = Gauss_law_2**2-Gauss_law_2"
   ]
  },
  {
   "cell_type": "code",
   "execution_count": 134,
   "id": "25120592",
   "metadata": {},
   "outputs": [],
   "source": [
    "Proj_02 = 0\n",
    "Proj_12 = 0\n",
    "for state in basis_vectors:\n",
    "    state = np.array(state)\n",
    "    if (Gauss_law_2.expt_value(state)>=0.-1e-8) & (Gauss_law_2.expt_value(state)<=0.+1e-8):\n",
    "        Proj_02 += np.outer(state,state)\n",
    "    if (Gauss_law_2.expt_value(state)>=1.-1e-8) & (Gauss_law_2.expt_value(state)<=1.+1e-8):\n",
    "        Proj_12 += np.outer(state,state)"
   ]
  },
  {
   "cell_type": "code",
   "execution_count": 135,
   "id": "a4380b1a",
   "metadata": {},
   "outputs": [],
   "source": [
    "#Gauss_law_3\n",
    "\n",
    "gauss_law_z_3 = []\n",
    "gauss_law_z_3.append([-1.,2])\n",
    "\n",
    "gauss_law_id_3 = [[1.,2]]\n",
    "\n",
    "gauss_law_3_map = [\n",
    "    \n",
    "    [\"z\",gauss_law_z_3],\n",
    "    [\"I\",gauss_law_id_3]\n",
    "\n",
    "    \n",
    "]\n",
    "\n",
    "Gauss_law_3  = hamiltonian(gauss_law_3_map,dynamic_list=[],basis=basis,**no_checks)\n",
    "constraint_3 = Gauss_law_3**2-Gauss_law_3"
   ]
  },
  {
   "cell_type": "code",
   "execution_count": 136,
   "id": "68da90bf",
   "metadata": {},
   "outputs": [],
   "source": [
    "Proj_03 = 0\n",
    "Proj_13 = 0\n",
    "\n",
    "for state in basis_vectors:\n",
    "    state = np.array(state)\n",
    "    if (Gauss_law_3.expt_value(state)>=0.-1e-8) & (Gauss_law_3.expt_value(state)<=0.+1e-8):\n",
    "        Proj_03 += np.outer(state,state)\n",
    "    if (Gauss_law_3.expt_value(state)>=1.-1e-8) & (Gauss_law_3.expt_value(state)<=1.+1e-8):\n",
    "        Proj_13 += np.outer(state,state)"
   ]
  },
  {
   "cell_type": "code",
   "execution_count": 137,
   "id": "47fdbc02",
   "metadata": {},
   "outputs": [],
   "source": [
    "linear_term_0 = [[0.5/np.sqrt(2),0]]\n",
    "quadratic_term_0 = [[1./np.sqrt(2),0,1]]\n",
    "\n",
    "linear_term_1 = [[0.5/np.sqrt(2),1]]\n",
    "quadratic_term_1 = [[-1./np.sqrt(2),1,2]]\n",
    "\n",
    "linear_term_2 = [[0.5/np.sqrt(2),2]]\n",
    "\n",
    "kin_energy = [[0.5,i,i] for i in range(L)]\n",
    "mass_term = []\n",
    "mass_term.append([2*M,0])\n",
    "mass_term.append([-2*M,1])\n",
    "mass_term.append([2*M,2])\n",
    "\n",
    "kin_mass_map = [\n",
    "            [\"zz\", kin_energy], \n",
    "            [\"z\", mass_term], \n",
    "]\n",
    "\n",
    "interaction_map_p1 = [\n",
    "    \n",
    "    [\"+z\", quadratic_term_1],\n",
    "    [\"+\", linear_term_1]\n",
    "]\n",
    "\n",
    "interaction_map_m1 = [\n",
    "    \n",
    "    [\"-z\", quadratic_term_1],\n",
    "    [\"-\", linear_term_1]\n",
    "]\n",
    "\n",
    "interaction_map_p0 = [\n",
    "    \n",
    "    [\"+\", linear_term_0],\n",
    "    [\"+z\", quadratic_term_0],\n",
    "\n",
    "]\n",
    "\n",
    "interaction_map_m0 = [\n",
    "    \n",
    "    [\"-\", linear_term_0],\n",
    "    [\"-z\", quadratic_term_0],\n",
    "]\n",
    "\n",
    "interaction_map_p2 = [\n",
    "    \n",
    "    [\"+\", linear_term_2]\n",
    "]\n",
    "\n",
    "interaction_map_m2 = [\n",
    "    \n",
    "    [\"-\", linear_term_2]\n",
    "]\n",
    "\n",
    "\n",
    "H_int_p0 = hamiltonian(interaction_map_p0,dynamic_list=[],basis=basis,**no_checks)\n",
    "H_int_m0 = hamiltonian(interaction_map_m0,dynamic_list=[],basis=basis,**no_checks)\n",
    "\n",
    "H_int_p1 = hamiltonian(interaction_map_p1,dynamic_list=[],basis=basis,**no_checks)\n",
    "H_int_m1 = hamiltonian(interaction_map_m1,dynamic_list=[],basis=basis,**no_checks)\n",
    "\n",
    "H_int_p2 = hamiltonian(interaction_map_p2,dynamic_list=[],basis=basis,**no_checks)\n",
    "H_int_m2 = hamiltonian(interaction_map_m2,dynamic_list=[],basis=basis,**no_checks)\n",
    "\n",
    "\n",
    "H_kin_mass = hamiltonian(kin_mass_map,dynamic_list=[],basis=basis,**no_checks)\n",
    "\n",
    "h_int_p0 = H_int_p0.toarray()\n",
    "h_int_m0 = H_int_m0.toarray()\n",
    "\n",
    "h_int_p1 = H_int_p1.toarray()\n",
    "h_int_m1 = H_int_m1.toarray()\n",
    "\n",
    "\n",
    "h_int_p2 = H_int_p2.toarray()\n",
    "h_int_m2 = H_int_m2.toarray()\n",
    "\n",
    "\n",
    "h_kin_mass = H_kin_mass.toarray()\n",
    "\n",
    "h_int_0 = Proj_10 @ h_int_p0 @ Proj_11 + Proj_11 @ h_int_m0 @ Proj_10\n",
    "h_int_1 = Proj_11 @ h_int_p1 @ Proj_12 + Proj_12 @ h_int_m1 @ Proj_11\n",
    "h_int_2 = Proj_12 @ h_int_p2 @ Proj_13 + Proj_13 @ h_int_m2 @ Proj_12\n",
    "\n",
    "h_int = h_int_0+h_int_1+h_int_2\n",
    "\n",
    "full_ham_matrix = h_kin_mass + h_int\n",
    "constraint_full = 1e3*(constraint_0**2+constraint_1**2+constraint_2**2+constraint_3**2)\n",
    "constraint_full_matrix = constraint_full.toarray()\n",
    "\n",
    "restricted_full_ham_matrix = full_ham_matrix+constraint_full_matrix\n"
   ]
  },
  {
   "cell_type": "code",
   "execution_count": 138,
   "id": "55e3b74f",
   "metadata": {},
   "outputs": [],
   "source": [
    "eigenval,eigenvec = np.linalg.eigh(full_ham_matrix)"
   ]
  },
  {
   "cell_type": "code",
   "execution_count": 139,
   "id": "4941a3e9",
   "metadata": {
    "scrolled": true
   },
   "outputs": [
    {
     "name": "stdout",
     "output_type": "stream",
     "text": [
      "[-0.64551385  0.03967222  0.03967222  0.3         0.42748942  0.6\n",
      "  0.6         0.6         0.7         0.9         0.976925    1.\n",
      "  1.          1.          1.          1.26032778  1.26032778  1.3\n",
      "  1.3         1.3         1.4         1.4         1.49754183  1.7\n",
      "  1.7         2.1         2.24355759]\n"
     ]
    }
   ],
   "source": [
    "print(eigenval)"
   ]
  },
  {
   "cell_type": "code",
   "execution_count": 140,
   "id": "5075c487",
   "metadata": {},
   "outputs": [],
   "source": [
    "eigenval_restricted,eigenvec_restricted = np.linalg.eigh(restricted_full_ham_matrix)"
   ]
  },
  {
   "cell_type": "code",
   "execution_count": 141,
   "id": "32f15a18",
   "metadata": {},
   "outputs": [
    {
     "name": "stdout",
     "output_type": "stream",
     "text": [
      "[-0.64551385  0.42748942  0.7         0.976925    1.49754183  2.24355759]\n"
     ]
    }
   ],
   "source": [
    "print(eigenval_restricted[eigenval_restricted<=1e2])"
   ]
  },
  {
   "cell_type": "code",
   "execution_count": 142,
   "id": "74c355fe",
   "metadata": {},
   "outputs": [],
   "source": [
    "psi_0 = np.zeros(basis.Ns)\n",
    "i_0 = basis.index(\"000\")\n",
    "psi_0[i_0] = 1."
   ]
  },
  {
   "cell_type": "code",
   "execution_count": 143,
   "id": "f72e86c5",
   "metadata": {},
   "outputs": [
    {
     "name": "stdout",
     "output_type": "stream",
     "text": [
      "8001.3\n"
     ]
    }
   ],
   "source": [
    "expt_value = 0\n",
    "matvec_h = full_ham_matrix@psi_0\n",
    "matvec_c = constraint_full_matrix@psi_0\n",
    "for i in range(basis.Ns):\n",
    "    expt_value += np.conj(psi_0[i])*(matvec_h[i]+matvec_c[i])\n",
    "print(np.real(expt_value))"
   ]
  },
  {
   "cell_type": "code",
   "execution_count": 144,
   "id": "f552fb5d",
   "metadata": {},
   "outputs": [
    {
     "name": "stdout",
     "output_type": "stream",
     "text": [
      "(1.3+0j)\n"
     ]
    }
   ],
   "source": [
    "expt_value = 0\n",
    "matvec = full_ham_matrix@psi_0\n",
    "for i in range(basis.Ns):\n",
    "    expt_value += np.conj(psi_0[i])*matvec[i]\n",
    "print(expt_value)"
   ]
  },
  {
   "cell_type": "code",
   "execution_count": 145,
   "id": "2b0c0a19",
   "metadata": {},
   "outputs": [],
   "source": [
    "def cost_function_sigma(theta,psi,a):\n",
    "\n",
    "    psi_1 = rot(sigma_02,theta[2])@rot(sigma_12,theta[1])@rot(sigma_01,theta[0])@psi\n",
    "    \n",
    "    psi_2 = rot(ms_02,theta[5])@rot(ms_12,theta[4])@rot(ms_01,theta[3])@psi_1\n",
    "    \n",
    "    psi_3 = rot(sigma_02,theta[8])@rot(sigma_12,theta[7])@rot(sigma_01,theta[6])@psi_2\n",
    "    \n",
    "    psi_4 = rot(ms_02,theta[11])@rot(ms_12,theta[10])@rot(ms_01,theta[9])@psi_3\n",
    "    \n",
    "    psi_5 = rot(sigma_02,theta[14])@rot(sigma_12,theta[13])@rot(sigma_01,theta[12])@psi_4\n",
    "    \n",
    "    psi_6 = rot(ms_02,theta[17])@rot(ms_12,theta[16])@rot(ms_01,theta[15])@psi_5\n",
    "    \n",
    "    psi_7 = rot(sigma_02,theta[20])@rot(sigma_12,theta[19])@rot(sigma_01,theta[18])@psi_6\n",
    "    \n",
    "    psi_8 = rot(ms_02,theta[23])@rot(ms_12,theta[22])@rot(ms_01,theta[21])@psi_7\n",
    "    \n",
    "    psi_9 = rot(sigma_02,theta[26])@rot(sigma_12,theta[25])@rot(sigma_01,theta[24])@psi_8\n",
    "    \n",
    "\n",
    "\n",
    "    expt_value = 0\n",
    "    matvec = full_ham_matrix@psi_9\n",
    "    for i in range(basis.Ns):\n",
    "        expt_value += np.conj(psi_9[i])*matvec[i]\n",
    "    return np.real(expt_value)"
   ]
  },
  {
   "cell_type": "code",
   "execution_count": 146,
   "id": "cc87b8b6",
   "metadata": {},
   "outputs": [
    {
     "name": "stdout",
     "output_type": "stream",
     "text": [
      "2022-02-16 11:46:06.728181\n",
      "2022-02-16 12:01:06.421920\n"
     ]
    }
   ],
   "source": [
    "from scipy.optimize import dual_annealing\n",
    "import datetime\n",
    "duan_ranges = [(-10.,10.),(-10.,10.),(-10.,10.),(-10.,10.),(-10.,10.),(-10.,10.),(-10.,10.),(-10.,10.),(-10.,10.),(-10.,10.),(-10.,10.),(-10.,10.),(-10.,10.),(-10.,10.),(-10.,10.),(-10.,10.),(-10.,10.),(-10.,10.),(-10.,10.),(-10.,10.),(-10.,10.),(-10.,10.),(-10.,10.),(-10.,10.),(-10.,10.),(-10.,10.),(-10.,10.)]\n",
    "resduan = 0\n",
    "resopt = 0\n",
    "print(datetime.datetime.now())\n",
    "resduan = dual_annealing(cost_function_sigma, duan_ranges, args = (psi_0,1))\n",
    "print(datetime.datetime.now())"
   ]
  },
  {
   "cell_type": "code",
   "execution_count": 147,
   "id": "309a1f4a",
   "metadata": {},
   "outputs": [
    {
     "name": "stdout",
     "output_type": "stream",
     "text": [
      "-0.5914939400832884\n",
      "[-1.48456361  6.95442669  2.2280383  -2.69906652  3.38951284  9.54468822\n",
      " -5.20389126  6.72627137  0.38821034  4.56212042  6.39630267  4.03749505\n",
      " -4.57560968  6.05682194 -7.7623525  -3.31534537 -5.04840219  3.40898486\n",
      " -6.9363534  -8.56678541 -8.95021911 -0.62446287  8.76660172  2.41620271\n",
      " -6.91681003  6.6804874   1.67071512]\n"
     ]
    }
   ],
   "source": [
    "print(resduan.fun)\n",
    "print(resduan.x)"
   ]
  },
  {
   "cell_type": "code",
   "execution_count": 148,
   "id": "03b45d92",
   "metadata": {},
   "outputs": [
    {
     "name": "stdout",
     "output_type": "stream",
     "text": [
      "0.9712225614843492\n",
      "[ 1.66805537e-03-5.39221326e-04j -3.83768958e-03+1.24060268e-03j\n",
      " -1.73980484e-08+3.52236867e-09j  1.47213220e-01-4.76230108e-02j\n",
      " -3.38692979e-01+1.09567689e-01j -1.53549348e-06+3.11210210e-07j\n",
      " -3.43949531e-02+1.11270366e-02j  7.91323572e-02-2.56003066e-02j\n",
      "  3.58753716e-07-7.27150763e-08j -3.83768958e-03+1.24060268e-03j\n",
      "  8.82935999e-03-2.85429181e-03j  4.00276550e-08-8.10408247e-09j\n",
      " -3.38692979e-01+1.09567689e-01j  7.79229839e-01-2.52085666e-01j\n",
      "  3.53270668e-06-7.16016238e-07j  7.91323572e-02-2.56003066e-02j\n",
      " -1.82059558e-01+5.88993927e-02j -8.25383933e-07+1.67299060e-07j\n",
      " -1.73980482e-08+3.52236892e-09j  4.00276551e-08-8.10408247e-09j\n",
      "  1.79113668e-13-1.53141388e-14j -1.53549348e-06+3.11210210e-07j\n",
      "  3.53270668e-06-7.16016238e-07j  1.58036466e-11-1.37950762e-12j\n",
      "  3.58753716e-07-7.27150761e-08j -8.25383933e-07+1.67299060e-07j\n",
      " -3.69255222e-12+3.22052464e-13j]\n",
      "0.9999999999999976\n"
     ]
    }
   ],
   "source": [
    "theta = resduan.x\n",
    "psi = psi_0\n",
    "\n",
    "psi_1 = rot(sigma_02,theta[2])@rot(sigma_12,theta[1])@rot(sigma_01,theta[0])@psi\n",
    "\n",
    "psi_2 = rot(ms_02,theta[5])@rot(ms_12,theta[4])@rot(ms_01,theta[3])@psi_1\n",
    "\n",
    "psi_3 = rot(sigma_02,theta[8])@rot(sigma_12,theta[7])@rot(sigma_01,theta[6])@psi_2\n",
    "\n",
    "psi_4 = rot(ms_02,theta[11])@rot(ms_12,theta[10])@rot(ms_01,theta[9])@psi_3\n",
    "\n",
    "psi_5 = rot(sigma_02,theta[14])@rot(sigma_12,theta[13])@rot(sigma_01,theta[12])@psi_4\n",
    "\n",
    "psi_6 = rot(ms_02,theta[17])@rot(ms_12,theta[16])@rot(ms_01,theta[15])@psi_5\n",
    "\n",
    "psi_7 = rot(sigma_02,theta[20])@rot(sigma_12,theta[19])@rot(sigma_01,theta[18])@psi_6\n",
    "\n",
    "psi_8 = rot(ms_02,theta[23])@rot(ms_12,theta[22])@rot(ms_01,theta[21])@psi_7\n",
    "\n",
    "psi_9 = rot(sigma_02,theta[26])@rot(sigma_12,theta[25])@rot(sigma_01,theta[24])@psi_8\n",
    "\n",
    "print(np.abs(np.dot(np.conj(psi_9),eigenvec[:,0]))**2)\n",
    "print(psi_9)\n",
    "print(np.abs(np.dot(np.conj(psi_9),psi_9)))"
   ]
  },
  {
   "cell_type": "code",
   "execution_count": 149,
   "id": "7dae62b5",
   "metadata": {},
   "outputs": [
    {
     "name": "stdout",
     "output_type": "stream",
     "text": [
      "66.0205137651833\n"
     ]
    }
   ],
   "source": [
    "expt_value = 0\n",
    "matvec_h = full_ham_matrix@psi_9\n",
    "matvec_c = constraint_full_matrix@psi_9\n",
    "for i in range(basis.Ns):\n",
    "    expt_value += np.conj(psi_9[i])*(matvec_h[i]+matvec_c[i])\n",
    "print(np.real(expt_value))"
   ]
  },
  {
   "cell_type": "code",
   "execution_count": null,
   "id": "fff6a67c",
   "metadata": {},
   "outputs": [],
   "source": []
  }
 ],
 "metadata": {
  "kernelspec": {
   "display_name": "Python 3",
   "language": "python",
   "name": "python3"
  },
  "language_info": {
   "codemirror_mode": {
    "name": "ipython",
    "version": 3
   },
   "file_extension": ".py",
   "mimetype": "text/x-python",
   "name": "python",
   "nbconvert_exporter": "python",
   "pygments_lexer": "ipython3",
   "version": "3.8.8"
  }
 },
 "nbformat": 4,
 "nbformat_minor": 5
}
