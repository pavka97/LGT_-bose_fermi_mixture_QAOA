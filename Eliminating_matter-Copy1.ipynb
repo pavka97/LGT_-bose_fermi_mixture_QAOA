{
 "cells": [
  {
   "cell_type": "code",
   "execution_count": 17,
   "id": "86d8cc9e",
   "metadata": {},
   "outputs": [],
   "source": [
    "from __future__ import print_function, division\n",
    "import sys,os\n",
    "# line 4 and line 5 below are for development purposes and can be removed\n",
    "qspin_path = os.path.join(os.getcwd(),\"../../\")\n",
    "sys.path.insert(0,qspin_path)\n",
    "from scipy.linalg import expm\n",
    "from quspin.operators import hamiltonian, commutator, exp_op # Hamiltonians and operators\n",
    "from quspin.basis import tensor_basis, spin_basis_1d # bases\n",
    "from quspin.tools.measurements import obs_vs_time # calculating dynamics\n",
    "from quspin.tools.Floquet import Floquet_t_vec # period-spaced time vector\n",
    "import numpy as np # general math functions\n",
    "import matplotlib.pyplot as plt # plotting library"
   ]
  },
  {
   "cell_type": "code",
   "execution_count": 18,
   "id": "a3b5bfc8",
   "metadata": {},
   "outputs": [],
   "source": [
    "L = 3\n",
    "M = 0.1\n",
    "l=1\n",
    "no_checks = dict(check_pcon=False,check_symm=False,check_herm=False)\n"
   ]
  },
  {
   "cell_type": "code",
   "execution_count": 19,
   "id": "81fe58e3",
   "metadata": {},
   "outputs": [
    {
     "name": "stdout",
     "output_type": "stream",
     "text": [
      "reference states: \n",
      "array index   /   Fock state   /   integer repr. \n",
      "      0.         |2 2 2>           26  \n",
      "      1.         |2 2 1>           25  \n",
      "      2.         |2 2 0>           24  \n",
      "      3.         |2 1 2>           23  \n",
      "      4.         |2 1 1>           22  \n",
      "      5.         |2 1 0>           21  \n",
      "      6.         |2 0 2>           20  \n",
      "      7.         |2 0 1>           19  \n",
      "      8.         |2 0 0>           18  \n",
      "      9.         |1 2 2>           17  \n",
      "     10.         |1 2 1>           16  \n",
      "     11.         |1 2 0>           15  \n",
      "     12.         |1 1 2>           14  \n",
      "     13.         |1 1 1>           13  \n",
      "     14.         |1 1 0>           12  \n",
      "     15.         |1 0 2>           11  \n",
      "     16.         |1 0 1>           10  \n",
      "     17.         |1 0 0>            9  \n",
      "     18.         |0 2 2>            8  \n",
      "     19.         |0 2 1>            7  \n",
      "     20.         |0 2 0>            6  \n",
      "     21.         |0 1 2>            5  \n",
      "     22.         |0 1 1>            4  \n",
      "     23.         |0 1 0>            3  \n",
      "     24.         |0 0 2>            2  \n",
      "     25.         |0 0 1>            1  \n",
      "     26.         |0 0 0>            0  \n"
     ]
    }
   ],
   "source": [
    "basis=spin_basis_1d(L=L,S = str(l))\n",
    "print(basis)"
   ]
  },
  {
   "cell_type": "code",
   "execution_count": 20,
   "id": "5be4cc60",
   "metadata": {},
   "outputs": [],
   "source": [
    "basis_vectors = []\n",
    "for index in range(basis.Ns):\n",
    "    state = np.zeros(basis.Ns)\n",
    "    state[basis.Ns-index-1] = 1.\n",
    "    state = state.tolist()\n",
    "    basis_vectors.append(state)"
   ]
  },
  {
   "cell_type": "code",
   "execution_count": 21,
   "id": "0e69bd4d",
   "metadata": {},
   "outputs": [],
   "source": [
    "#Gauss_law_0\n",
    "\n",
    "gauss_law_z_0 = []\n",
    "gauss_law_z_0.append([1.,0])\n",
    "\n",
    "gauss_law_0_map = [\n",
    "    \n",
    "    [\"z\",gauss_law_z_0]\n",
    "\n",
    "    \n",
    "]\n",
    "\n",
    "Gauss_law_0  = hamiltonian(gauss_law_0_map,dynamic_list=[],basis=basis,**no_checks)\n",
    "\n",
    "constraint_0 = Gauss_law_0**2-Gauss_law_0"
   ]
  },
  {
   "cell_type": "code",
   "execution_count": 22,
   "id": "bd88271a",
   "metadata": {},
   "outputs": [],
   "source": [
    "Proj_10 = 0\n",
    "Proj_00 = 0\n",
    "for state in basis_vectors:\n",
    "    state = np.array(state)\n",
    "    if (Gauss_law_0.expt_value(state)>=1.-1e-8) & (Gauss_law_0.expt_value(state)<=1.+1e-8):\n",
    "        Proj_10 += np.outer(state,state)\n",
    "    if (Gauss_law_0.expt_value(state)>=0.-1e-8) & (Gauss_law_0.expt_value(state)<=0.+1e-8):\n",
    "        Proj_00 += np.outer(state,state)"
   ]
  },
  {
   "cell_type": "code",
   "execution_count": 23,
   "id": "0eabeb79",
   "metadata": {},
   "outputs": [],
   "source": [
    "#Gauss_law_1\n",
    "gauss_law_zm_1 = []\n",
    "gauss_law_zm_1.append([-1.,0])\n",
    "\n",
    "gauss_law_z_1 = []\n",
    "gauss_law_z_1.append([1.,1])\n",
    "\n",
    "gauss_law_id_1 = [[1.,1]]\n",
    "\n",
    "gauss_law_1_map = [\n",
    "    \n",
    "    [\"z\",gauss_law_z_1],\n",
    "    [\"z\",gauss_law_zm_1],\n",
    "    [\"I\",gauss_law_id_1]\n",
    "    \n",
    "]\n",
    "\n",
    "Gauss_law_1  = hamiltonian(gauss_law_1_map,dynamic_list=[],basis=basis,**no_checks)\n",
    "constraint_1 = Gauss_law_1**2-Gauss_law_1"
   ]
  },
  {
   "cell_type": "code",
   "execution_count": 24,
   "id": "7f1450a7",
   "metadata": {},
   "outputs": [],
   "source": [
    "Proj_01 = 0\n",
    "Proj_11 = 0\n",
    "for state in basis_vectors:\n",
    "    state = np.array(state)\n",
    "    if (Gauss_law_1.expt_value(state)>=0.-1e-8) & (Gauss_law_1.expt_value(state)<=0.+1e-8):\n",
    "        Proj_01 += np.outer(state,state)\n",
    "    if (Gauss_law_1.expt_value(state)>=1.-1e-8) & (Gauss_law_1.expt_value(state)<=1.+1e-8):\n",
    "        Proj_11 += np.outer(state,state)"
   ]
  },
  {
   "cell_type": "code",
   "execution_count": 25,
   "id": "96137785",
   "metadata": {},
   "outputs": [],
   "source": [
    "#Gauss_law_2\n",
    "gauss_law_zm_2 = []\n",
    "gauss_law_zm_2.append([-1.,1])\n",
    "\n",
    "gauss_law_z_2 = []\n",
    "gauss_law_z_2.append([1.,2])\n",
    "\n",
    "\n",
    "gauss_law_2_map = [\n",
    "    \n",
    "    [\"z\",gauss_law_z_2],\n",
    "    [\"z\",gauss_law_zm_2],\n",
    "    \n",
    "]\n",
    "\n",
    "Gauss_law_2  = hamiltonian(gauss_law_2_map,dynamic_list=[],basis=basis,**no_checks)\n",
    "constraint_2 = Gauss_law_2**2-Gauss_law_2"
   ]
  },
  {
   "cell_type": "code",
   "execution_count": 26,
   "id": "a739bf71",
   "metadata": {},
   "outputs": [],
   "source": [
    "Proj_02 = 0\n",
    "Proj_12 = 0\n",
    "for state in basis_vectors:\n",
    "    state = np.array(state)\n",
    "    if (Gauss_law_2.expt_value(state)>=0.-1e-8) & (Gauss_law_2.expt_value(state)<=0.+1e-8):\n",
    "        Proj_02 += np.outer(state,state)\n",
    "    if (Gauss_law_2.expt_value(state)>=1.-1e-8) & (Gauss_law_2.expt_value(state)<=1.+1e-8):\n",
    "        Proj_12 += np.outer(state,state)"
   ]
  },
  {
   "cell_type": "code",
   "execution_count": 27,
   "id": "97e87244",
   "metadata": {},
   "outputs": [],
   "source": [
    "#Gauss_law_3\n",
    "\n",
    "gauss_law_z_3 = []\n",
    "gauss_law_z_3.append([-1.,2])\n",
    "\n",
    "gauss_law_id_3 = [[1.,2]]\n",
    "\n",
    "gauss_law_3_map = [\n",
    "    \n",
    "    [\"z\",gauss_law_z_3],\n",
    "    [\"I\",gauss_law_id_3]\n",
    "\n",
    "    \n",
    "]\n",
    "\n",
    "Gauss_law_3  = hamiltonian(gauss_law_3_map,dynamic_list=[],basis=basis,**no_checks)\n",
    "constraint_3 = Gauss_law_3**2-Gauss_law_3"
   ]
  },
  {
   "cell_type": "code",
   "execution_count": 28,
   "id": "abae5eb3",
   "metadata": {},
   "outputs": [],
   "source": [
    "Proj_03 = 0\n",
    "Proj_13 = 0\n",
    "\n",
    "for state in basis_vectors:\n",
    "    state = np.array(state)\n",
    "    if (Gauss_law_3.expt_value(state)>=0.-1e-8) & (Gauss_law_3.expt_value(state)<=0.+1e-8):\n",
    "        Proj_03 += np.outer(state,state)\n",
    "    if (Gauss_law_3.expt_value(state)>=1.-1e-8) & (Gauss_law_3.expt_value(state)<=1.+1e-8):\n",
    "        Proj_13 += np.outer(state,state)"
   ]
  },
  {
   "cell_type": "code",
   "execution_count": 29,
   "id": "27e0bf1e",
   "metadata": {},
   "outputs": [],
   "source": [
    "quadratic_term_1 = [[2./np.sqrt(2),1,2]]\n",
    "linear_term_1 = [[1./np.sqrt(2),1]]\n",
    "\n",
    "linear_term_0 = [[-1./np.sqrt(2),0]]\n",
    "\n",
    "\n",
    "#linear_term_2 = [[1./np.sqrt(2),2]]\n",
    "\n",
    "kin_energy = [[0.5,i,i] for i in range(L)]\n",
    "mass_term = []\n",
    "mass_term.append([2*M,0])\n",
    "mass_term.append([-2*M,1])\n",
    "mass_term.append([2*M,2])\n",
    "\n",
    "kin_mass_map = [\n",
    "            [\"zz\", kin_energy], \n",
    "            [\"z\", mass_term], \n",
    "]\n",
    "\n",
    "interaction_map_p1 = [\n",
    "    \n",
    "    [\"+z\", quadratic_term_1],\n",
    "    [\"+\", linear_term_1]\n",
    "]\n",
    "\n",
    "interaction_map_m1 = [\n",
    "    \n",
    "    [\"-z\", quadratic_term_1],\n",
    "    [\"-\", linear_term_1]\n",
    "]\n",
    "\n",
    "interaction_map_p0 = [\n",
    "    \n",
    "    [\"+\", linear_term_0]\n",
    "]\n",
    "\n",
    "interaction_map_m0 = [\n",
    "    \n",
    "    [\"-\", linear_term_0]\n",
    "]\n",
    "\n",
    "\"\"\"\"\"\"\"\"\"\n",
    "interaction_map_p2 = [\n",
    "    \n",
    "    [\"+\", linear_term_2]\n",
    "]\n",
    "\n",
    "interaction_map_m2 = [\n",
    "    \n",
    "    [\"-\", linear_term_2]\n",
    "]\n",
    "\"\"\"\"\"\"\"\"\"\n",
    "\n",
    "\n",
    "H_int_p0 = hamiltonian(interaction_map_p0,dynamic_list=[],basis=basis,**no_checks)\n",
    "H_int_m0 = hamiltonian(interaction_map_m0,dynamic_list=[],basis=basis,**no_checks)\n",
    "\n",
    "H_int_p1 = hamiltonian(interaction_map_p1,dynamic_list=[],basis=basis,**no_checks)\n",
    "H_int_m1 = hamiltonian(interaction_map_m1,dynamic_list=[],basis=basis,**no_checks)\n",
    "\n",
    "\"\"\"\"\"\"\"\"\"\n",
    "H_int_p2 = hamiltonian(interaction_map_p2,dynamic_list=[],basis=basis,**no_checks)\n",
    "H_int_m2 = hamiltonian(interaction_map_m2,dynamic_list=[],basis=basis,**no_checks)\n",
    "\"\"\"\"\"\"\"\"\"\n",
    "\n",
    "H_kin_mass = hamiltonian(kin_mass_map,dynamic_list=[],basis=basis,**no_checks)\n",
    "\n",
    "h_int_p0 = H_int_p0.toarray()\n",
    "h_int_m0 = H_int_m0.toarray()\n",
    "\n",
    "h_int_p1 = H_int_p1.toarray()\n",
    "h_int_m1 = H_int_m1.toarray()\n",
    "\n",
    "\"\"\"\"\"\"\"\"\"\n",
    "h_int_p2 = H_int_p2.toarray()\n",
    "h_int_m2 = H_int_m2.toarray()\n",
    "\"\"\"\"\"\"\"\"\"\n",
    "\n",
    "h_kin_mass = H_kin_mass.toarray()\n",
    "\n",
    "h_int_0 = Proj_10 @ h_int_p0 @ Proj_01 + Proj_01 @ h_int_m0 @ Proj_10\n",
    "h_int_1 = Proj_11 @ h_int_p1 @ Proj_02 + Proj_02 @ h_int_m1 @ Proj_11\n",
    "\n",
    "\"\"\"\"\"\"\"\"\"\n",
    "h_int_2 = Proj_12 @ h_int_p2 @ Proj_03 + Proj_03 @ h_int_m2 @ Proj_12\n",
    "\"\"\"\"\"\"\"\"\"\n",
    "h_int = h_int_0+h_int_1\n",
    "\n",
    "full_ham_matrix = h_kin_mass + h_int\n",
    "constraint_full = 1e3*(constraint_0**2+constraint_1**2+constraint_2**2+constraint_3**2)\n",
    "constraint_full_matrix = constraint_full.toarray()\n",
    "\n",
    "restricted_full_ham_matrix = full_ham_matrix+constraint_full_matrix"
   ]
  },
  {
   "cell_type": "code",
   "execution_count": 30,
   "id": "6f2319a0",
   "metadata": {},
   "outputs": [],
   "source": [
    "def check_hermitian(a, rtol=1e-10, atol=1e-10):\n",
    "    return np.allclose(a, a.conj().T, rtol=rtol, atol=atol)"
   ]
  },
  {
   "cell_type": "code",
   "execution_count": 31,
   "id": "93c6cca5",
   "metadata": {},
   "outputs": [
    {
     "name": "stdout",
     "output_type": "stream",
     "text": [
      "True\n"
     ]
    }
   ],
   "source": [
    "print(check_hermitian(restricted_full_ham_matrix))"
   ]
  },
  {
   "cell_type": "code",
   "execution_count": 32,
   "id": "634de515",
   "metadata": {},
   "outputs": [],
   "source": [
    "eigenval,eigenvec = np.linalg.eigh(restricted_full_ham_matrix)"
   ]
  },
  {
   "cell_type": "code",
   "execution_count": 33,
   "id": "ddbe1c63",
   "metadata": {
    "scrolled": true
   },
   "outputs": [
    {
     "name": "stdout",
     "output_type": "stream",
     "text": [
      "[0.00000000e+00 6.99750019e-01 6.99750044e-01 7.00000000e-01\n",
      " 1.40000000e+00 1.70000000e+00 4.00099950e+03 4.00100000e+03\n",
      " 4.00100000e+03 4.00100025e+03 4.00139975e+03 4.00140025e+03\n",
      " 8.00030000e+03 8.00030000e+03 8.00030025e+03 8.00100000e+03\n",
      " 8.00100000e+03 8.00130000e+03 8.00170000e+03 8.00170025e+03\n",
      " 8.00210025e+03 1.60006000e+04 4.00013000e+04 4.00013000e+04\n",
      " 4.40006000e+04 4.40006000e+04 8.00009000e+04]\n"
     ]
    }
   ],
   "source": [
    "print(eigenval)"
   ]
  },
  {
   "cell_type": "code",
   "execution_count": 34,
   "id": "eda7f9e4",
   "metadata": {},
   "outputs": [
    {
     "name": "stdout",
     "output_type": "stream",
     "text": [
      "[0.+0.j 0.+0.j 0.+0.j 0.+0.j 0.+0.j 0.+0.j 0.+0.j 0.+0.j 0.+0.j 0.+0.j\n",
      " 0.+0.j 0.+0.j 0.+0.j 1.+0.j 0.+0.j 0.+0.j 0.+0.j 0.+0.j 0.+0.j 0.+0.j\n",
      " 0.+0.j 0.+0.j 0.+0.j 0.+0.j 0.+0.j 0.+0.j 0.+0.j]\n"
     ]
    }
   ],
   "source": [
    "print(eigenvec[:,0])"
   ]
  },
  {
   "cell_type": "code",
   "execution_count": 35,
   "id": "4ffb1782",
   "metadata": {},
   "outputs": [
    {
     "name": "stdout",
     "output_type": "stream",
     "text": [
      "0.0\n"
     ]
    }
   ],
   "source": [
    "expt_value = 0\n",
    "psi_0 = eigenvec[:,0]\n",
    "matvec_h = full_ham_matrix@psi_0\n",
    "matvec_c = constraint_full_matrix@psi_0\n",
    "for i in range(basis.Ns):\n",
    "    expt_value += np.conj(psi_0[i])*(matvec_h[i]+matvec_c[i])\n",
    "print(np.real(expt_value))"
   ]
  },
  {
   "cell_type": "code",
   "execution_count": 57,
   "id": "dbe32e1d",
   "metadata": {},
   "outputs": [],
   "source": [
    "mixing_term = [[0.5,i,i+1] for i in range(L-2)]\n",
    "mixing_z = [[1.,2]]\n",
    "mixing_map = [\n",
    "    [\"++\",mixing_term],\n",
    "    [\"--\",mixing_term],\n",
    "    [\"+-\",mixing_term],\n",
    "    [\"-+\",mixing_term],\n",
    "    [\"+\",mixing_z],\n",
    "    [\"-\",mixing_z],\n",
    "]\n",
    "mixing_map_zz = [\n",
    "    [\"zz\",mixing_term]\n",
    "]\n",
    "Ham_mix = hamiltonian(mixing_map,dynamic_list=[],basis=basis,**no_checks)\n",
    "Ham_mix_zz = hamiltonian(mixing_map_zz,dynamic_list=[],basis=basis,**no_checks)"
   ]
  },
  {
   "cell_type": "code",
   "execution_count": 58,
   "id": "779e4fd7",
   "metadata": {},
   "outputs": [],
   "source": [
    "resource_z = [[1.,i] for i in range(L)]\n",
    "resource_zz = [[1.,i,i] for i in range(L-1)]\n",
    "resource_x = [[0.5,i] for i in range(L-1)]\n",
    "resource_z2 = [[1.,2]]\n",
    "\n",
    "resource_map_zz = [\n",
    "    \n",
    "    [\"zz\", resource_zz],\n",
    "]\n",
    "\n",
    "resource_map_z = [\n",
    "    [\"z\", resource_z],\n",
    "]\n",
    "\n",
    "resource_map_x = [\n",
    "    [\"+\", resource_x],\n",
    "    [\"-\", resource_x],\n",
    "\n",
    "]\n",
    "\n",
    "resource_map_z2 = [\n",
    "    [\"z\", resource_z2],\n",
    "\n",
    "]\n",
    "\n",
    "Ham_res_zz = hamiltonian(resource_map_zz,dynamic_list=[],basis=basis,**no_checks)\n",
    "Ham_res_z = hamiltonian(resource_map_z,dynamic_list=[],basis=basis,**no_checks)\n",
    "Ham_res_x = hamiltonian(resource_map_x,dynamic_list=[],basis=basis,**no_checks)\n",
    "Ham_res_z2 = hamiltonian(resource_map_z2,dynamic_list=[],basis=basis,**no_checks)\n"
   ]
  },
  {
   "cell_type": "code",
   "execution_count": 59,
   "id": "04004619",
   "metadata": {},
   "outputs": [
    {
     "name": "stdout",
     "output_type": "stream",
     "text": [
      "True\n"
     ]
    }
   ],
   "source": [
    "print(check_hermitian(Ham_res_x.toarray()))"
   ]
  },
  {
   "cell_type": "code",
   "execution_count": 60,
   "id": "65c9805c",
   "metadata": {},
   "outputs": [],
   "source": [
    "Ham_res = Ham_res_zz+Ham_res_z+Ham_res_x"
   ]
  },
  {
   "cell_type": "code",
   "execution_count": 61,
   "id": "ca60ba1f",
   "metadata": {},
   "outputs": [],
   "source": [
    "eigenval_mix, eigenvec_mix = Ham_res.eigh()"
   ]
  },
  {
   "cell_type": "code",
   "execution_count": 62,
   "id": "1ef4f1e9",
   "metadata": {},
   "outputs": [],
   "source": [
    "#psi_0 = np.zeros(basis.Ns)\n",
    "#i_0 = basis.index(\"111\")\n",
    "#psi_0[i_0] = 1.\n",
    "psi_0 = eigenvec_mix[:,0]"
   ]
  },
  {
   "cell_type": "code",
   "execution_count": 63,
   "id": "fdfc3b28",
   "metadata": {},
   "outputs": [
    {
     "name": "stdout",
     "output_type": "stream",
     "text": [
      "10685.127545656516\n"
     ]
    }
   ],
   "source": [
    "expt_value = 0\n",
    "matvec_h = full_ham_matrix@psi_0\n",
    "matvec_c = constraint_full_matrix@psi_0\n",
    "for i in range(basis.Ns):\n",
    "    expt_value += np.conj(psi_0[i])*(matvec_h[i]+matvec_c[i])\n",
    "print(np.real(expt_value))"
   ]
  },
  {
   "cell_type": "code",
   "execution_count": 64,
   "id": "41bab9f9",
   "metadata": {},
   "outputs": [
    {
     "name": "stdout",
     "output_type": "stream",
     "text": [
      "(1.3928476694873813+0j)\n"
     ]
    }
   ],
   "source": [
    "expt_value = 0\n",
    "matvec = full_ham_matrix@psi_0\n",
    "for i in range(basis.Ns):\n",
    "    expt_value += np.conj(psi_0[i])*matvec[i]\n",
    "print(expt_value)"
   ]
  },
  {
   "cell_type": "code",
   "execution_count": 67,
   "id": "21faaadf",
   "metadata": {},
   "outputs": [],
   "source": [
    "def cost_function(theta,psi,a):\n",
    "\n",
    "    psi_1 = Ham_mix.evolve(psi,0.0,theta[0])\n",
    "    psi_2 = Ham_mix_zz.evolve(psi_1,0.0,theta[1])\n",
    "    psi_3 = Ham_res_zz.evolve(psi_2,0.0,theta[2])\n",
    "    psi_4 = Ham_res_x.evolve(psi_3,0.0,theta[3])\n",
    "    psi_5 = Ham_res_z.evolve(psi_4,0.0,theta[4])\n",
    "    psi_6 = Ham_res_z2.evolve(psi_5,0.0,theta[4])\n",
    "    psi_7 = Ham_mix.evolve(psi_6,0.0,theta[5])\n",
    "    psi_8 = Ham_mix_zz.evolve(psi_7,0.0,theta[6])\n",
    "    psi_9 = Ham_res_zz.evolve(psi_8,0.0,theta[7])\n",
    "    psi_10 = Ham_res_x.evolve(psi_9,0.0,theta[8])\n",
    "    psi_11 = Ham_res_z.evolve(psi_10,0.0,theta[9])\n",
    "    psi_12 = Ham_res_z2.evolve(psi_11,0.0,theta[9])\n",
    "    psi_13 = Ham_mix.evolve(psi_12,0.0,theta[10])\n",
    "    psi_14 = Ham_mix_zz.evolve(psi_13,0.0,theta[11])\n",
    "    psi_15 = Ham_res_zz.evolve(psi_14,0.0,theta[12])\n",
    "    psi_16 = Ham_res_x.evolve(psi_15,0.0,theta[13])\n",
    "    psi_17 = Ham_res_z.evolve(psi_16,0.0,theta[14])\n",
    "    psi_18 = Ham_res_z2.evolve(psi_17,0.0,theta[14])\n",
    "    psi_19 = Ham_mix.evolve(psi_18,0.0,theta[15])\n",
    "    psi_20 = Ham_mix_zz.evolve(psi_19,0.0,theta[16])\n",
    "    psi_21 = Ham_res_zz.evolve(psi_20,0.0,theta[17])\n",
    "    psi_22 = Ham_res_x.evolve(psi_21,0.0,theta[18])\n",
    "    psi_23 = Ham_res_z.evolve(psi_22,0.0,theta[19])\n",
    "    psi_24 = Ham_res_z2.evolve(psi_23,0.0,theta[19])\n",
    "\n",
    "    expt_value = 0\n",
    "    matvec_h = full_ham_matrix@psi_24\n",
    "    matvec_c = constraint_full_matrix@psi_24\n",
    "    for i in range(basis.Ns):\n",
    "        expt_value += np.conj(psi_24[i])*(matvec_h[i]+matvec_c[i])\n",
    "    return np.real(expt_value)"
   ]
  },
  {
   "cell_type": "code",
   "execution_count": 70,
   "id": "b296fbce",
   "metadata": {},
   "outputs": [
    {
     "name": "stdout",
     "output_type": "stream",
     "text": [
      "2022-02-04 13:37:34.019147\n",
      "2022-02-04 14:01:35.850918\n"
     ]
    }
   ],
   "source": [
    "from scipy.optimize import dual_annealing\n",
    "import datetime\n",
    "duan_ranges = [(-10.,10.),(-10.,10.),(-10.,10.),(-10.,10.),(-10.,10.),(-10.,10.),(-10.,10.),(-10.,10.),(-10.,10.),(-10.,10.),(-10.,10.),(-10.,10.),(-10.,10.),(-10.,10.),(-10.,10.),(-10.,10.),(-10.,10.),(-10.,10.),(-10.,10.),(-10.,10.),(-10.,10.),(-10.,10.),(-10.,10.),(-10.,10.)]\n",
    "resduan = 0\n",
    "resopt = 0\n",
    "print(datetime.datetime.now())\n",
    "resduan = dual_annealing(cost_function, duan_ranges, args = (psi_0,1))\n",
    "print(datetime.datetime.now())"
   ]
  },
  {
   "cell_type": "code",
   "execution_count": 71,
   "id": "857ce163",
   "metadata": {},
   "outputs": [
    {
     "name": "stdout",
     "output_type": "stream",
     "text": [
      "0.6999416916865705\n",
      "[ 4.5991769   8.18314631 -8.94209393  5.39789825  5.1464644  -6.35723451\n",
      " -8.62457997  3.9709244  -1.05463331 -2.94691315 -3.17338788 -0.79175149\n",
      " -7.42777146  0.86254878  3.62895633  9.5318387  -2.53486242  4.02079826\n",
      "  8.10137051  4.27303313 -8.51311768  2.45328562  6.80755597 -5.54800695]\n"
     ]
    }
   ],
   "source": [
    "print(resduan.fun)\n",
    "print(resduan.x)"
   ]
  },
  {
   "cell_type": "code",
   "execution_count": 77,
   "id": "49708f25",
   "metadata": {},
   "outputs": [
    {
     "name": "stdout",
     "output_type": "stream",
     "text": [
      "0.9999041814563973\n",
      "0.9999041814563973\n"
     ]
    }
   ],
   "source": [
    "theta = resduan.x\n",
    "psi = psi_0\n",
    "psi_1 = Ham_mix.evolve(psi,0.0,theta[0])\n",
    "psi_2 = Ham_mix_zz.evolve(psi_1,0.0,theta[1])\n",
    "psi_3 = Ham_res_zz.evolve(psi_2,0.0,theta[2])\n",
    "psi_4 = Ham_res_x.evolve(psi_3,0.0,theta[3])\n",
    "psi_5 = Ham_res_z.evolve(psi_4,0.0,theta[4])\n",
    "psi_6 = Ham_res_z2.evolve(psi_5,0.0,theta[4])\n",
    "psi_7 = Ham_mix.evolve(psi_6,0.0,theta[5])\n",
    "psi_8 = Ham_mix_zz.evolve(psi_7,0.0,theta[6])\n",
    "psi_9 = Ham_res_zz.evolve(psi_8,0.0,theta[7])\n",
    "psi_10 = Ham_res_x.evolve(psi_9,0.0,theta[8])\n",
    "psi_11 = Ham_res_z.evolve(psi_10,0.0,theta[9])\n",
    "psi_12 = Ham_res_z2.evolve(psi_11,0.0,theta[9])\n",
    "psi_13 = Ham_mix.evolve(psi_12,0.0,theta[10])\n",
    "psi_14 = Ham_mix_zz.evolve(psi_13,0.0,theta[11])\n",
    "psi_15 = Ham_res_zz.evolve(psi_14,0.0,theta[12])\n",
    "psi_16 = Ham_res_x.evolve(psi_15,0.0,theta[13])\n",
    "psi_17 = Ham_res_z.evolve(psi_16,0.0,theta[14])\n",
    "psi_18 = Ham_res_z2.evolve(psi_17,0.0,theta[14])\n",
    "psi_19 = Ham_mix.evolve(psi_18,0.0,theta[15])\n",
    "psi_20 = Ham_mix_zz.evolve(psi_19,0.0,theta[16])\n",
    "psi_21 = Ham_res_zz.evolve(psi_20,0.0,theta[17])\n",
    "psi_22 = Ham_res_x.evolve(psi_21,0.0,theta[18])\n",
    "psi_23 = Ham_res_z.evolve(psi_22,0.0,theta[19])\n",
    "psi_24 = Ham_res_z2.evolve(psi_23,0.0,theta[19])\n",
    "scall = 0\n",
    "\n",
    "print(np.abs(np.dot(np.conj(psi_24),eigenvec[:,3])))\n",
    "for i in range(basis.Ns):\n",
    "    scall +=np.conj(psi_24[i])*eigenvec[:,3][i]\n",
    "print(np.abs(scall))\n"
   ]
  },
  {
   "cell_type": "code",
   "execution_count": 299,
   "id": "74c6b56f",
   "metadata": {},
   "outputs": [
    {
     "name": "stdout",
     "output_type": "stream",
     "text": [
      "-0.55011331227517\n",
      "[-4.03878836  5.55989785  1.8595793  -4.86248275  4.78149869 -4.97471836\n",
      " -3.46452114 -5.98009609  7.19264618 -2.90166265 -9.05421587  7.69811738]\n"
     ]
    }
   ],
   "source": [
    "print(resduan.fun)\n",
    "print(resduan.x)"
   ]
  },
  {
   "cell_type": "code",
   "execution_count": 26,
   "id": "041c650c",
   "metadata": {},
   "outputs": [
    {
     "name": "stdout",
     "output_type": "stream",
     "text": [
      "-0.5519403500645929\n",
      "[-5.51745973 -7.35332971 -8.73503791 -6.69417094 -9.43419771 -4.57265972\n",
      " -8.02672357 -6.66334215  3.92019751  5.37077267  8.82461006  1.96698853\n",
      " -0.23597123 -4.77601285 -7.15362785]\n"
     ]
    }
   ],
   "source": [
    "print(resduan.fun)\n",
    "print(resduan.x)"
   ]
  },
  {
   "cell_type": "code",
   "execution_count": 71,
   "id": "e551b9f5",
   "metadata": {},
   "outputs": [
    {
     "name": "stdout",
     "output_type": "stream",
     "text": [
      "0.13079051773119577\n",
      "[ 1.78158287  1.24069723 -8.26738098  5.20148629 -8.82759711  3.13383203\n",
      "  6.98924758 -5.95115289  1.16599966 -5.08488822  9.01939631 -7.28177711\n",
      " -6.29981209 -5.73060885 -6.09134693]\n"
     ]
    }
   ],
   "source": [
    "print(resduan.fun)\n",
    "print(resduan.x)"
   ]
  },
  {
   "cell_type": "code",
   "execution_count": 66,
   "id": "6cb0c1df",
   "metadata": {},
   "outputs": [
    {
     "name": "stdout",
     "output_type": "stream",
     "text": [
      "-0.5687610819382901\n",
      "[-2.10102319  3.66971985  4.69080298  4.00974595  1.35454097 -0.90753474\n",
      "  0.53533885  9.77209822 -1.55066619 -6.43452929  0.90925203  6.18037783\n",
      " -0.41672004 -8.56560744  9.63070562]\n"
     ]
    }
   ],
   "source": [
    "print(resduan.fun)\n",
    "print(resduan.x)"
   ]
  },
  {
   "cell_type": "code",
   "execution_count": 28,
   "id": "b3d2a1ca",
   "metadata": {},
   "outputs": [
    {
     "name": "stdout",
     "output_type": "stream",
     "text": [
      "0.40057114041132186\n"
     ]
    }
   ],
   "source": [
    "psi = psi_0\n",
    "psi_1 = Ham_mix.evolve(psi,0.0,-9.78930793)\n",
    "psi_2 = Ham_res_1.evolve(psi_1,0.0,7.78040255)\n",
    "psi_3 = Ham_res_2.evolve(psi_2,0.0,1.5833793)\n",
    "\n",
    "\n",
    "expt_value = 0\n",
    "matvec = full_ham_matrix@psi_3\n",
    "for i in range(basis.Ns):\n",
    "    expt_value += np.conj(psi_3[i])*matvec[i]\n",
    "print(np.real(expt_value))\n",
    "energy_after_one_layer = expt_value"
   ]
  },
  {
   "cell_type": "code",
   "execution_count": 29,
   "id": "69b99137",
   "metadata": {},
   "outputs": [
    {
     "name": "stdout",
     "output_type": "stream",
     "text": [
      "-0.046172959230028295\n"
     ]
    }
   ],
   "source": [
    "psi = psi_0\n",
    "psi_1 = Ham_mix.evolve(psi,0.0,1.87443663)\n",
    "psi_2 = Ham_res_1.evolve(psi_1,0.0,4.23721195)\n",
    "psi_3 = Ham_res_2.evolve(psi_2,0.0,-8.5794782)\n",
    "psi_4 = Ham_mix.evolve(psi_3,0.0,4.95468396)\n",
    "psi_5 = Ham_res_1.evolve(psi_4,0.0,-6.30491365)\n",
    "psi_6 = Ham_res_2.evolve(psi_5,0.0,1.98934673)\n",
    "\n",
    "expt_value = 0\n",
    "matvec = full_ham_matrix@psi_6\n",
    "for i in range(basis.Ns):\n",
    "    expt_value += np.conj(psi_6[i])*matvec[i]\n",
    "print(np.real(expt_value))\n",
    "energy_after_two_layers = expt_value"
   ]
  },
  {
   "cell_type": "code",
   "execution_count": 30,
   "id": "e582696b",
   "metadata": {},
   "outputs": [
    {
     "name": "stdout",
     "output_type": "stream",
     "text": [
      "-0.4279426327807378\n"
     ]
    }
   ],
   "source": [
    "\n",
    "psi = psi_0\n",
    "psi_1 = Ham_mix.evolve(psi,0.0,-1.30400919)\n",
    "psi_2 = Ham_res_1.evolve(psi_1,0.0,-0.94233231)\n",
    "psi_3 = Ham_res_2.evolve(psi_2,0.0,-2.07176727)\n",
    "psi_4 = Ham_mix.evolve(psi_3,0.0,-5.11506299)\n",
    "psi_5 = Ham_res_1.evolve(psi_4,0.0,8.57112885)\n",
    "psi_6 = Ham_res_2.evolve(psi_5,0.0,-8.17867129)\n",
    "psi_7 = Ham_mix.evolve(psi_6,0.0,2.55365574)\n",
    "psi_8 = Ham_res_1.evolve(psi_7,0.0,5.39687006)\n",
    "psi_9 = Ham_res_2.evolve(psi_8,0.0,-5.00071697)\n",
    "\n",
    "\n",
    "expt_value = 0\n",
    "matvec = full_ham_matrix@psi_9\n",
    "for i in range(basis.Ns):\n",
    "    expt_value += np.conj(psi_9[i])*matvec[i]\n",
    "print(np.real(expt_value))\n",
    "energy_after_three_layers = expt_value"
   ]
  },
  {
   "cell_type": "code",
   "execution_count": 81,
   "id": "9ea9af9e",
   "metadata": {},
   "outputs": [],
   "source": [
    "mixing_term = [[0.5,i] for i in range(L)]\n",
    "\n",
    "mixing_map = [\n",
    "    \n",
    "    [\"+\",mixing_term],\n",
    "    [\"-\",mixing_term],\n",
    "]\n",
    "\n",
    "Ham_mix = hamiltonian(mixing_map,dynamic_list=[],basis=basis,**no_checks)"
   ]
  },
  {
   "cell_type": "code",
   "execution_count": 82,
   "id": "b5fa858a",
   "metadata": {},
   "outputs": [],
   "source": [
    "eigenval_mix,eigenvec_mix = Ham_mix.eigh()\n",
    "psi_0 = eigenvec_mix[:,0]"
   ]
  },
  {
   "cell_type": "code",
   "execution_count": 83,
   "id": "d33d77c8",
   "metadata": {},
   "outputs": [],
   "source": [
    "resource = [[1.,i,i+1] for i in range(L-2)]\n",
    "\n",
    "#resource_x0 = [[0.5,0]]\n",
    "\n",
    "#resource_x = [[-1.,1]]\n",
    "\n",
    "resource_z = [[1.,2]]\n",
    "\n",
    "\n",
    "resource_map_1 = [\n",
    "    \n",
    "    [\"+-\", resource],\n",
    "    [\"-+\", resource],\n",
    "]\n",
    "resource_map_2 = [\n",
    "    [\"+z\", resource],\n",
    "    [\"-z\", resource],\n",
    "    [\"z\", resource_z],\n",
    "    \n",
    "]\n",
    "\n",
    "\n",
    "\n",
    "Ham_res_1 = hamiltonian(resource_map_1,dynamic_list=[],basis=basis,**no_checks)\n",
    "Ham_res_2 = hamiltonian(resource_map_2,dynamic_list=[],basis=basis,**no_checks)\n"
   ]
  },
  {
   "cell_type": "code",
   "execution_count": 84,
   "id": "4185e2c6",
   "metadata": {},
   "outputs": [
    {
     "name": "stdout",
     "output_type": "stream",
     "text": [
      "-0.5501222499961802\n"
     ]
    }
   ],
   "source": [
    "\n",
    "psi = psi_0\n",
    "psi_1 = Ham_mix.evolve(psi,0.0,-4.03878836)\n",
    "psi_2 = Ham_res_1.evolve(psi_1,0.0,5.55989785)\n",
    "psi_3 = Ham_res_2.evolve(psi_2,0.0,1.8595793)\n",
    "psi_4 = Ham_mix.evolve(psi_3,0.0,-4.86248275)\n",
    "psi_5 = Ham_res_1.evolve(psi_4,0.0,4.78149869)\n",
    "psi_6 = Ham_res_2.evolve(psi_5,0.0,-4.97471836)\n",
    "psi_7 = Ham_mix.evolve(psi_6,0.0,-3.46452114)\n",
    "psi_8 = Ham_res_1.evolve(psi_7,0.0,-5.98009609)\n",
    "psi_9 = Ham_res_2.evolve(psi_8,0.0,7.19264618)\n",
    "psi_10 = Ham_mix.evolve(psi_9,0.0,-2.90166265)\n",
    "psi_11 = Ham_res_1.evolve(psi_10,0.0,-9.05421587)\n",
    "psi_12 = Ham_res_2.evolve(psi_11,0.0,7.69811738)\n",
    "\n",
    "expt_value = 0\n",
    "matvec = full_ham_matrix@psi_12\n",
    "for i in range(basis.Ns):\n",
    "    expt_value += np.conj(psi_12[i])*matvec[i]\n",
    "print(np.real(expt_value))\n",
    "energy_after_four_layers = expt_value"
   ]
  },
  {
   "cell_type": "code",
   "execution_count": 85,
   "id": "b812437a",
   "metadata": {},
   "outputs": [
    {
     "name": "stdout",
     "output_type": "stream",
     "text": [
      "[-5.63243289e-05+8.09304299e-05j -2.64911736e-03-2.60548828e-03j\n",
      "  5.67914461e-02-4.09422282e-02j -5.25060164e-06-2.30968808e-05j\n",
      "  8.91248601e-04-4.85866346e-05j -1.92323173e-03+1.67074806e-02j\n",
      "  1.71217523e-04-3.42233465e-04j  1.16270842e-02+8.53022824e-03j\n",
      " -1.95297817e-01+1.88908502e-01j  2.27977117e-05+1.37020059e-05j\n",
      " -6.53468720e-04+7.59972646e-04j -1.20434258e-02-1.45465951e-02j\n",
      "  3.79531003e-04-9.18874091e-04j  3.17264280e-02+1.99248759e-02j\n",
      " -4.70658622e-01+5.26093260e-01j  4.18128571e-04-7.99274832e-04j\n",
      "  2.70390718e-02+2.06001942e-02j -4.68340285e-01+4.36892508e-01j\n",
      "  4.52503520e-05-3.54257683e-05j  1.02901358e-03+1.90548789e-03j\n",
      " -3.86536488e-02+1.30708913e-02j -1.77740470e-05+1.20485778e-04j\n",
      " -4.36291484e-03-1.42421189e-03j  4.02848386e-02-7.65182393e-02j\n",
      " -6.83149052e-06-1.68274053e-05j  6.68390090e-04-1.47083525e-04j\n",
      "  6.12730827e-04+1.28805232e-02j]\n"
     ]
    }
   ],
   "source": [
    "print(psi_12)"
   ]
  },
  {
   "cell_type": "code",
   "execution_count": 33,
   "id": "d19c8124",
   "metadata": {},
   "outputs": [
    {
     "name": "stdout",
     "output_type": "stream",
     "text": [
      "0.9900424740311967\n"
     ]
    }
   ],
   "source": [
    "scall = 0\n",
    "for i in range(basis.Ns):\n",
    "    scall +=np.conj(psi_12[i])*eigenvec[:,0][i]\n",
    "print(np.abs(scall))"
   ]
  },
  {
   "cell_type": "code",
   "execution_count": 46,
   "id": "e2942dc3",
   "metadata": {},
   "outputs": [
    {
     "name": "stderr",
     "output_type": "stream",
     "text": [
      "/home/ppopov/anaconda3/lib/python3.8/site-packages/numpy/core/_asarray.py:102: ComplexWarning: Casting complex values to real discards the imaginary part\n",
      "  return array(a, dtype, copy=False, order=order)\n"
     ]
    },
    {
     "data": {
      "text/plain": [
       "<matplotlib.legend.Legend at 0x7f051dec6490>"
      ]
     },
     "execution_count": 46,
     "metadata": {},
     "output_type": "execute_result"
    },
    {
     "data": {
      "image/png": "[encoded data removed]",
      "text/plain": [
       "<Figure size 432x288 with 1 Axes>"
      ]
     },
     "metadata": {
      "needs_background": "light"
     },
     "output_type": "display_data"
    }
   ],
   "source": [
    "plt.plot(np.array([1.,2.,3.,4.]),np.array([energy_after_one_layer,energy_after_two_layers,energy_after_three_layers,energy_after_four_layers]), 'o', color = \"green\",label=\"VQE results\")\n",
    "plt.plot(np.array([0.,2.,3.,4.5]), np.array([eigenval[0],eigenval[0],eigenval[0],eigenval[0]]),color = \"red\",label=\"Exact diagonalisation\")\n",
    "plt.xlim(0.8,4.2)\n",
    "plt.xlabel(\"Number of layers\")\n",
    "plt.ylabel(\"Energy\")\n",
    "plt.legend()"
   ]
  }
 ],
 "metadata": {
  "kernelspec": {
   "display_name": "Python 3",
   "language": "python",
   "name": "python3"
  },
  "language_info": {
   "codemirror_mode": {
    "name": "ipython",
    "version": 3
   },
   "file_extension": ".py",
   "mimetype": "text/x-python",
   "name": "python",
   "nbconvert_exporter": "python",
   "pygments_lexer": "ipython3",
   "version": "3.8.8"
  }
 },
 "nbformat": 4,
 "nbformat_minor": 5
}
