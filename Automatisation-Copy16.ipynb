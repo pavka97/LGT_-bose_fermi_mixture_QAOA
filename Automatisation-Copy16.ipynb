{
 "cells": [
  {
   "cell_type": "code",
   "execution_count": 724,
   "id": "55c84acf",
   "metadata": {},
   "outputs": [],
   "source": [
    "import scipy         \n",
    "import datetime\n",
    "from scipy.linalg import expm\n",
    "import scipy.sparse as sparse\n",
    "from quspin.operators import hamiltonian, commutator, exp_op # Hamiltonians and operators\n",
    "from quspin.basis import tensor_basis, spin_basis_1d # bases\n",
    "import numpy as np # general math functions\n",
    "import matplotlib.pyplot as plt # plotting library\n",
    "from numba import jit\n"
   ]
  },
  {
   "cell_type": "code",
   "execution_count": 737,
   "id": "45093bff",
   "metadata": {},
   "outputs": [],
   "source": [
    "L = 5 #system size\n",
    "M = 0.1 #fermion mass\n",
    "N=5 #number of layers\n",
    "l=1 #spin length\n",
    "m_epsilon = 0\n",
    "no_checks = dict(check_pcon=False,check_symm=False,check_herm=False)"
   ]
  },
  {
   "cell_type": "code",
   "execution_count": 738,
   "id": "61937c84",
   "metadata": {
    "scrolled": false
   },
   "outputs": [
    {
     "name": "stdout",
     "output_type": "stream",
     "text": [
      "reference states: \n",
      "array index   /   Fock state   /   integer repr. \n",
      "       0.         |2 2 2 2 2>           242  \n",
      "       1.         |2 2 2 2 1>           241  \n",
      "       2.         |2 2 2 2 0>           240  \n",
      "       3.         |2 2 2 1 2>           239  \n",
      "       4.         |2 2 2 1 1>           238  \n",
      "       5.         |2 2 2 1 0>           237  \n",
      "       6.         |2 2 2 0 2>           236  \n",
      "       7.         |2 2 2 0 1>           235  \n",
      "       8.         |2 2 2 0 0>           234  \n",
      "       9.         |2 2 1 2 2>           233  \n",
      "      10.         |2 2 1 2 1>           232  \n",
      "      11.         |2 2 1 2 0>           231  \n",
      "      12.         |2 2 1 1 2>           230  \n",
      "      13.         |2 2 1 1 1>           229  \n",
      "      14.         |2 2 1 1 0>           228  \n",
      "      15.         |2 2 1 0 2>           227  \n",
      "      16.         |2 2 1 0 1>           226  \n",
      "      17.         |2 2 1 0 0>           225  \n",
      "      18.         |2 2 0 2 2>           224  \n",
      "      19.         |2 2 0 2 1>           223  \n",
      "      20.         |2 2 0 2 0>           222  \n",
      "      21.         |2 2 0 1 2>           221  \n",
      "      22.         |2 2 0 1 1>           220  \n",
      "      23.         |2 2 0 1 0>           219  \n",
      "      24.         |2 2 0 0 2>           218  \n",
      "                     :\n",
      "     218.         |0 0 2 2 0>            24  \n",
      "     219.         |0 0 2 1 2>            23  \n",
      "     220.         |0 0 2 1 1>            22  \n",
      "     221.         |0 0 2 1 0>            21  \n",
      "     222.         |0 0 2 0 2>            20  \n",
      "     223.         |0 0 2 0 1>            19  \n",
      "     224.         |0 0 2 0 0>            18  \n",
      "     225.         |0 0 1 2 2>            17  \n",
      "     226.         |0 0 1 2 1>            16  \n",
      "     227.         |0 0 1 2 0>            15  \n",
      "     228.         |0 0 1 1 2>            14  \n",
      "     229.         |0 0 1 1 1>            13  \n",
      "     230.         |0 0 1 1 0>            12  \n",
      "     231.         |0 0 1 0 2>            11  \n",
      "     232.         |0 0 1 0 1>            10  \n",
      "     233.         |0 0 1 0 0>             9  \n",
      "     234.         |0 0 0 2 2>             8  \n",
      "     235.         |0 0 0 2 1>             7  \n",
      "     236.         |0 0 0 2 0>             6  \n",
      "     237.         |0 0 0 1 2>             5  \n",
      "     238.         |0 0 0 1 1>             4  \n",
      "     239.         |0 0 0 1 0>             3  \n",
      "     240.         |0 0 0 0 2>             2  \n",
      "     241.         |0 0 0 0 1>             1  \n",
      "     242.         |0 0 0 0 0>             0  \n"
     ]
    }
   ],
   "source": [
    "#construct basis\n",
    "basis=spin_basis_1d(L=L,S = str(l))\n",
    "print(basis)"
   ]
  },
  {
   "cell_type": "code",
   "execution_count": 739,
   "id": "f20d1ef8",
   "metadata": {},
   "outputs": [],
   "source": [
    "#initialisation of the Gauss laws\n",
    "\n",
    "liste = []\n",
    "liste_m = []\n",
    "gauss_law_map = []\n",
    "Gauss_law = []\n",
    "gauss_law_matrix = []\n",
    "z_comp_minf = [[-m_epsilon,0]]\n",
    "z_comp_pinf = [[m_epsilon,L-1]]\n",
    "\n",
    "for i in range(L+1):\n",
    "    liste.append([[1.,i]])\n",
    "    liste_m.append([[-1.,i]])\n",
    "    if i == 0:\n",
    "        gauss_law_map.append([\n",
    "            [\"z\",liste[0]],\n",
    "            [\"I\",z_comp_minf],\n",
    "\n",
    "        ])\n",
    "    \n",
    "    elif (i == L) & (i%2 == 0):\n",
    "        gauss_law_map.append([\n",
    "            [\"z\",liste_m[i-1]],\n",
    "            [\"I\",z_comp_pinf],\n",
    "        ])\n",
    "    \n",
    "    elif (i == L) & (i%2 == 1):\n",
    "        gauss_law_map.append([\n",
    "            [\"z\",liste_m[i-1]],\n",
    "            [\"I\",liste[i-1]],\n",
    "            [\"I\",z_comp_pinf],\n",
    "\n",
    "        ])        \n",
    "        \n",
    "    elif i%2 == 0:\n",
    "        gauss_law_map.append([\n",
    "            [\"z\",liste[i]],\n",
    "            [\"z\",liste_m[i-1]],\n",
    "        ])\n",
    "    elif i%2 == 1:\n",
    "        gauss_law_map.append([\n",
    "            [\"z\",liste[i]],\n",
    "            [\"z\",liste_m[i-1]],  \n",
    "            [\"I\",liste[i]]\n",
    "        ])\n",
    "    Gauss_law.append(hamiltonian(gauss_law_map[i],dynamic_list=[],basis=basis,**no_checks))\n",
    "for i in range(L+1):\n",
    "    gauss_law_matrix.append(Gauss_law[i].tocsc())"
   ]
  },
  {
   "cell_type": "code",
   "execution_count": 740,
   "id": "fbf4e238",
   "metadata": {},
   "outputs": [
    {
     "name": "stdout",
     "output_type": "stream",
     "text": [
      "[ 0.          0.66666667  0.66666667 -0.16666667 -0.16666667  0.\n",
      "  0.          0.          0.          0.          0.          0.\n",
      "  0.        ]\n",
      "[0. 0. 0. 1. 0.]\n"
     ]
    }
   ],
   "source": [
    "B = np.zeros((4*l+1,4*l+1))\n",
    "for i in range(4*l+1):\n",
    "    for j in range(4*l+1):\n",
    "        B[i][j] = (-2*l+i)**j\n",
    "b = np.zeros(4*l+1)\n",
    "b[2*l+1] = 1.\n",
    "solution = scipy.linalg.solve(B,b)\n",
    "y = np.zeros(4*3+1)\n",
    "for i in range(4*l+1):\n",
    "    y[i] = solution[i]\n",
    "print(y)\n",
    "print(b)"
   ]
  },
  {
   "cell_type": "code",
   "execution_count": 741,
   "id": "40058eda",
   "metadata": {},
   "outputs": [
    {
     "name": "stdout",
     "output_type": "stream",
     "text": [
      "[ 0.    1.5   0.25 -1.    0.25  0.    0.    0.    0.    0.    0.    0.\n",
      "  0.  ]\n",
      "[0. 0. 1. 0. 0.]\n"
     ]
    }
   ],
   "source": [
    "C = np.zeros((4*l+1,4*l+1))\n",
    "for i in range(4*l+1):\n",
    "    for j in range(4*l+1):\n",
    "        C[i][j] = (-2*l+i+1)**j\n",
    "c = np.zeros(4*l+1)\n",
    "c[2*l] = 1.\n",
    "solution = scipy.linalg.solve(C,c)\n",
    "z = np.zeros(4*3+1)\n",
    "for i in range(4*l+1):\n",
    "    z[i] = solution[i]\n",
    "print(z)\n",
    "print(c)"
   ]
  },
  {
   "cell_type": "code",
   "execution_count": 742,
   "id": "f5a1c653",
   "metadata": {},
   "outputs": [],
   "source": [
    "#projectors on g=1 for every site\n",
    "Proj = [sparse.csr_matrix((basis.Ns,basis.Ns)) for i in range(L+1)]\n",
    "for i in range(int(L/2)+1):\n",
    "    for j in range(4*l+1):\n",
    "        Proj[2*i] += y[j]*gauss_law_matrix[2*i]**j\n",
    "for i in range(int(L/2)+1):\n",
    "    for j in range(4*l+1):\n",
    "        Proj[2*i+1] += z[j]*gauss_law_matrix[2*i+1]**j"
   ]
  },
  {
   "cell_type": "code",
   "execution_count": 743,
   "id": "c0aca9e3",
   "metadata": {
    "scrolled": true
   },
   "outputs": [
    {
     "name": "stdout",
     "output_type": "stream",
     "text": [
      "[ 1.  0. -2.  0.  0.  0.  0.]\n"
     ]
    }
   ],
   "source": [
    "A = np.zeros((2*l+1,2*l+1))\n",
    "for i in range(2*l+1):\n",
    "    for j in range(2*l+1):\n",
    "        A[i][j] = (-l+i)**j\n",
    "b = np.zeros(2*l+1)\n",
    "for i in range(2*l+1):\n",
    "    b[i] = (-1)**(-l+i)\n",
    "solution = scipy.linalg.solve(A,b)\n",
    "x = np.zeros(2*3+1)\n",
    "for i in range(2*l+1):\n",
    "    x[i] = solution[i]\n",
    "print(x)"
   ]
  },
  {
   "cell_type": "code",
   "execution_count": 744,
   "id": "7ba18750",
   "metadata": {},
   "outputs": [],
   "source": [
    "const_term = []\n",
    "linear_term = []\n",
    "quadratic_term = []\n",
    "cubic_term = []\n",
    "quartic_term = []\n",
    "quintic_term = []\n",
    "sextic_term = []\n",
    "interaction_p = []\n",
    "interaction_m = []\n",
    "\n",
    "for i in range(L-1):\n",
    "    const_term.append([[x[0]/(2*np.sqrt(l*(l+1))),i]])\n",
    "    linear_term.append([[x[1]/(2*np.sqrt(l*(l+1))),i,i+1]])\n",
    "    quadratic_term.append([[x[2]/(2*np.sqrt(l*(l+1))),i,i+1,i+1]])\n",
    "    cubic_term.append([[(x[3])/(2*np.sqrt(l*(l+1))),i,i+1,i+1,i+1]])\n",
    "    quartic_term.append([[(x[4])/(2*np.sqrt(l*(l+1))),i,i+1,i+1,i+1,i+1]])\n",
    "    quintic_term.append([[(x[5])/(2*np.sqrt(l*(l+1))),i,i+1,i+1,i+1,i+1,i+1]])\n",
    "    sextic_term.append([[(x[6])/(2*np.sqrt(l*(l+1))),i,i+1,i+1,i+1,i+1,i+1,i+1]])\n",
    "\n",
    "    const_term\n",
    "\n",
    "    interaction_p.append([\n",
    "        [\"+\", const_term[i]],\n",
    "        [\"+z\", linear_term[i]],\n",
    "        [\"+zz\", quadratic_term[i]],\n",
    "        [\"+zzz\", cubic_term[i]],\n",
    "        [\"+zzzz\", quartic_term[i]],\n",
    "        [\"+zzzzz\", quintic_term[i]],\n",
    "        [\"+zzzzzz\", sextic_term[i]],\n",
    "\n",
    "    ])\n",
    "\n",
    "    interaction_m.append([\n",
    "        [\"-\", const_term[i]],\n",
    "        [\"-z\", linear_term[i]],\n",
    "        [\"-zz\", quadratic_term[i]],\n",
    "        [\"-zzz\", cubic_term[i]],\n",
    "        [\"-zzzz\", quartic_term[i]],\n",
    "        [\"-zzzzz\", quintic_term[i]],\n",
    "        [\"-zzzzzz\", sextic_term[i]],\n",
    "\n",
    "    ])\n",
    "\n",
    "const_term.append([[(0.5*(-1)**m_epsilon)/np.sqrt(l*(l+1)),L-1]])\n",
    "\n",
    "interaction_p.append([\n",
    "    [\"+\", const_term[L-1]]\n",
    "])\n",
    "interaction_m.append([\n",
    "    [\"-\", const_term[L-1]]\n",
    "])\n",
    "\n",
    "kin_energy = [[0.5,i,i] for i in range(L)]\n",
    "mass_term = [[2*(-1)**(i)*M,i] for i in range(L)]\n",
    "\n",
    "kin_mass_map = [\n",
    "            [\"zz\", kin_energy], \n",
    "            [\"z\", mass_term], \n",
    "]\n",
    "\n",
    "H_int_p = []\n",
    "H_int_m = []\n",
    "interaction = [sparse.csr_matrix((basis.Ns,basis.Ns)) for i in range(L)]\n",
    "h_int = sparse.csr_matrix((basis.Ns,basis.Ns))\n",
    "for i in range(L):\n",
    "    H_int_p.append(hamiltonian(interaction_p[i],dynamic_list=[],basis=basis,**no_checks))\n",
    "    H_int_m.append(hamiltonian(interaction_m[i],dynamic_list=[],basis=basis,**no_checks))\n",
    "    interaction[i] = (Proj[i]@H_int_p[i].tocsc()@Proj[i+1]+Proj[i+1]@H_int_m[i].tocsc()@Proj[i])\n",
    "\n",
    "H_kin_mass = hamiltonian(kin_mass_map,dynamic_list=[],basis=basis,**no_checks)\n",
    "h_kin_mass = H_kin_mass.tocsc()\n",
    "\n",
    "h_int = 0\n",
    "\n",
    "for i in range(L):\n",
    "    h_int += interaction[i]\n",
    "\n",
    "\n",
    "full_ham_matrix = h_kin_mass + h_int #Spin-1 Hamiltonian without the local contstaints\n",
    "\n",
    "G=0\n",
    "for i in range(L+1):\n",
    "    G += 0.3*(Gauss_law[i]**2-Gauss_law[i])**2\n",
    "constraint_full_matrix = G.tocsc()\n",
    "constrained_full_ham_matrix= full_ham_matrix + constraint_full_matrix #Spin-1 Hamiltonian with the local contstaints as a penalty term\n",
    "#print(full_ham_matrix)"
   ]
  },
  {
   "cell_type": "code",
   "execution_count": 745,
   "id": "3e7a9445",
   "metadata": {
    "scrolled": true
   },
   "outputs": [
    {
     "name": "stdout",
     "output_type": "stream",
     "text": [
      "[-1.0416023  -0.34551385 -0.34551385]\n",
      "[-2.53163065e-03-3.24505078e-03j  2.09753842e-18+2.12234376e-17j\n",
      "  9.33024369e-18-6.13452888e-18j -9.47235509e-03-1.21416895e-02j\n",
      "  1.77072160e-02+2.26971556e-02j -3.39734352e-18+5.95140717e-19j\n",
      " -7.52586878e-20+8.19929368e-18j -9.42470961e-18+5.73759790e-18j\n",
      " -1.19073526e-17-2.58251935e-17j  5.79251217e-18-2.94733121e-18j\n",
      " -9.22134350e-19-6.53664308e-19j -3.63326158e-19-1.06345376e-19j\n",
      "  1.16592433e-17+1.59517137e-17j -1.26450165e-17-4.14119467e-18j\n",
      "  1.04736035e-18-1.34864829e-19j  9.85832768e-18-6.93739547e-18j\n",
      "  9.85219883e-18+1.48296720e-17j -9.75889174e-19-1.23214684e-17j\n",
      "  1.47928794e-17+2.46331403e-17j  2.10687902e-19-1.40997670e-19j\n",
      "  3.17788432e-18-3.14943581e-18j -5.99057979e-18+1.38786790e-17j\n",
      " -4.58718185e-18+1.35670676e-17j -2.54906861e-18-1.46504847e-19j\n",
      " -4.84205266e-18+1.75231444e-18j -9.86297155e-18+7.51288031e-18j\n",
      " -6.32017212e-18+1.66148377e-17j -9.47235509e-03-1.21416895e-02j\n",
      "  1.00002669e-17-6.74196639e-18j -1.37820261e-17-2.55300992e-18j\n",
      " -4.49613116e-02-5.76315265e-02j  8.76199330e-02+1.12311459e-01j\n",
      "  1.11197948e-17-1.70400220e-17j  8.97907788e-19+1.07429483e-17j\n",
      "  2.12952031e-17+1.54836551e-18j -1.73826677e-18+3.60484982e-17j\n",
      "  1.02696385e-17+9.86103220e-18j  9.71393618e-18+1.21423143e-17j\n",
      "  2.60411882e-18-9.29146776e-18j  8.83165436e-02+1.13204376e-01j\n",
      " -1.93153221e-01-2.47584302e-01j -1.75470258e-17+7.57463265e-19j\n",
      " -1.96351301e-17-2.12557944e-18j  7.28300354e-02+9.33537294e-02j\n",
      " -5.13949626e-18-3.07896200e-19j  1.32991489e-17+3.72928562e-18j\n",
      " -2.21275489e-20+1.44449948e-18j  3.84020892e-18+6.30623869e-18j\n",
      "  2.05048287e-17-2.24392720e-17j -3.90549995e-17+3.20872838e-17j\n",
      "  3.36916425e-18-1.37039633e-17j -4.03378309e-18-6.58705790e-18j\n",
      " -2.90170801e-18-1.67756383e-17j -1.41707641e-17+3.32309155e-18j\n",
      "  1.04435589e-17-1.33163701e-19j -1.11371978e-17-6.76580025e-18j\n",
      "  7.47541371e-18+1.71699814e-18j  6.71142687e-19-1.80795515e-18j\n",
      " -1.14418648e-17+6.05672162e-19j -9.37941541e-18-1.39459057e-18j\n",
      "  3.04311708e-17+2.25006724e-17j -8.21106530e-19+8.62805578e-18j\n",
      " -6.01792109e-17+1.57313975e-17j -2.72868144e-18+1.60631355e-17j\n",
      " -2.16128812e-19+4.05101500e-19j -1.12161460e-17-1.51498925e-17j\n",
      " -3.62092533e-18-3.23231064e-18j -3.26709513e-18-4.44951361e-18j\n",
      "  1.22184389e-18-5.99363755e-18j  2.31880847e-17+1.14800735e-17j\n",
      " -2.34802577e-18+6.92065490e-18j -2.10642906e-17-2.10203574e-17j\n",
      "  9.18215913e-19+4.43991432e-18j -7.99231241e-18+1.06847557e-17j\n",
      "  1.35427205e-17-1.35213248e-17j  9.48532013e-19-2.46002136e-18j\n",
      " -2.77871403e-18+2.73746029e-19j -2.80111450e-18+9.81689152e-18j\n",
      " -3.54066400e-17-5.41882291e-17j -9.26815482e-18-6.34525588e-18j\n",
      "  2.37045398e-17+2.57021634e-17j -3.98544494e-18+4.07769175e-18j\n",
      "  1.36269671e-19+1.64286341e-19j -5.12902828e-18+6.03946341e-19j\n",
      " -5.37837012e-18-5.17002344e-18j  1.01148040e-17+6.71780016e-19j\n",
      "  8.96680244e-19-2.07859656e-18j -9.02208054e-18+8.20366715e-18j\n",
      "  2.80358224e-18+6.23257134e-19j  6.92653012e-19+8.59463090e-18j\n",
      "  4.24895554e-19+7.45017551e-19j  1.47499901e-17-2.14157945e-17j\n",
      " -4.26142194e-18+1.00940065e-17j  7.10162380e-19+8.71541273e-17j\n",
      " -1.01050042e-17-1.80220919e-16j -1.24275048e-17+2.00248053e-17j\n",
      " -5.04703441e-19+1.11231987e-20j  1.12125133e-17+7.50543728e-17j\n",
      " -4.45588000e-18+5.74470543e-18j  7.09373247e-19+1.28439018e-18j\n",
      " -4.49429384e-18+3.63789562e-18j -7.68901371e-18+6.93431429e-18j\n",
      "  6.68201264e-19-4.51679807e-18j  1.70456873e-18-9.49293676e-20j\n",
      " -7.19513580e-18+1.90062693e-17j  2.51312369e-18+9.71332033e-18j\n",
      " -1.28843700e-18+7.23173548e-19j  9.12660137e-19-4.53637091e-18j\n",
      "  1.77072160e-02+2.26971556e-02j -2.17604057e-17-3.18627911e-19j\n",
      "  4.78437787e-18+7.95015119e-18j  8.76199330e-02+1.12311459e-01j\n",
      " -1.72044313e-01-2.20526849e-01j -1.59586100e-17+1.48816491e-17j\n",
      " -2.95839901e-18+5.68592415e-18j -1.11755302e-18+2.64217870e-18j\n",
      " -1.44153007e-17+6.20943152e-18j  2.51050958e-18-1.26520825e-17j\n",
      " -2.03973766e-17-2.60283560e-17j -5.50338082e-18+3.73380904e-17j\n",
      " -1.93153221e-01-2.47584302e-01j  4.24025676e-01+5.43517218e-01j\n",
      "  7.01802867e-18+5.33837933e-18j  1.26415760e-18-4.02908150e-18j\n",
      " -1.62490744e-01-2.08281059e-01j  2.08889947e-17+1.90670474e-18j\n",
      "  6.03915412e-19+1.51900798e-18j  1.04675463e-17-2.94973685e-19j\n",
      "  1.30774279e-17-2.65613550e-18j -4.95069164e-17+6.85126795e-18j\n",
      "  5.43402368e-17-3.69301440e-17j  1.02044929e-18+1.09840072e-19j\n",
      " -3.43580847e-18-5.62742588e-19j -1.87274068e-17+9.34345761e-18j\n",
      " -4.75791780e-18-5.46083545e-18j -1.29968959e-18+6.55577099e-18j\n",
      "  2.79460338e-19+2.86900897e-18j -1.32656446e-17-1.61756290e-17j\n",
      "  1.36262473e-18+1.40632896e-17j  1.01166299e-18+3.84478425e-18j\n",
      "  1.08667821e-18+1.40141593e-19j -2.71276519e-18-6.89516400e-18j\n",
      "  8.58950040e-18+1.40886298e-17j  1.40307542e-17-2.12229866e-18j\n",
      "  7.06022359e-18+1.29354287e-17j  1.06012717e-17+8.37471400e-18j\n",
      "  3.62159242e-18-1.51381095e-17j  7.28300354e-02+9.33537294e-02j\n",
      " -1.62490744e-01-2.08281059e-01j  5.77781116e-18-1.23434263e-17j\n",
      " -2.13947833e-17+2.31109638e-18j  6.91327961e-02+8.86145984e-02j\n",
      " -7.84794397e-18+9.04571303e-19j -3.62439597e-18-6.23852988e-18j\n",
      " -3.24545498e-19+3.64152690e-19j  1.38359050e-18-4.15359935e-19j\n",
      "  4.95685666e-18+1.46569227e-17j -3.58183085e-18+1.73662866e-18j\n",
      " -5.92184474e-19-1.02158455e-18j  1.17726533e-17-1.12277636e-17j\n",
      "  1.26081007e-02+1.61610964e-02j -4.68526144e-18-9.45199113e-18j\n",
      "  6.87584716e-18+3.73491674e-18j  2.35180659e-18-6.37520692e-18j\n",
      "  3.34010281e-18-3.83377283e-18j  4.74380224e-18-6.94811887e-18j\n",
      "  4.79681372e-18+8.02068466e-18j -6.29086134e-19-8.06798906e-20j\n",
      "  2.66630487e-18+6.48367188e-19j  2.72654322e-19-1.01094064e-17j\n",
      " -8.10437424e-18-1.61710973e-17j -1.14325091e-18-8.31359452e-19j\n",
      "  9.05845050e-18-1.85322403e-17j -9.26466453e-19-2.15743012e-18j\n",
      "  3.04479218e-18+1.68639668e-18j  7.65019155e-18+9.13336030e-19j\n",
      "  9.13229414e-19+9.58612894e-18j -3.70972060e-18+6.90766021e-18j\n",
      " -7.02345537e-18+1.46822679e-18j  2.82675708e-19-1.73321613e-18j\n",
      "  8.38646214e-18-3.13893672e-18j -2.16219661e-19+5.69112621e-18j\n",
      " -7.78118638e-19+5.05174110e-19j  1.01432383e-17+7.34715835e-18j\n",
      " -1.06633576e-17+2.35279716e-18j  5.01477880e-18-5.96496616e-18j\n",
      " -5.63748706e-18+8.22004136e-18j -1.73212295e-18+7.20153821e-19j\n",
      "  5.39685559e-18-3.69687564e-18j  2.13116202e-18+1.00761706e-17j\n",
      " -1.64756650e-18+1.98193407e-18j  2.22825064e-19+2.14353280e-19j\n",
      " -5.43866857e-18+2.53109466e-17j -4.27167606e-18-3.24434981e-17j\n",
      "  1.44547583e-18+2.16917957e-18j  8.69180452e-18+3.37577653e-18j\n",
      " -6.10081280e-19+3.21592893e-18j -5.67136188e-18-6.46301784e-18j\n",
      " -5.44502049e-18+8.31424955e-20j  1.02643517e-17+5.71261744e-18j\n",
      " -1.75945066e-17-6.17743254e-18j  4.20915402e-18-3.81401872e-17j\n",
      "  7.42334213e-18+3.26029106e-17j  8.41392311e-18-2.75513386e-19j\n",
      " -4.27990286e-18+3.14346018e-18j  9.09659346e-18+3.01039787e-18j\n",
      "  1.49113025e-18-4.65586852e-18j -4.67191661e-19+8.47814292e-19j\n",
      "  1.82641392e-17-8.35908165e-18j -8.71981713e-19+7.71287795e-18j\n",
      "  2.18399562e-18-1.74593066e-18j -2.29298376e-19-1.55165463e-18j\n",
      " -1.40116378e-17+1.16958408e-18j -8.07009986e-18-8.83197755e-18j\n",
      " -5.14058788e-19+1.30740737e-18j -2.28869132e-18+2.24171591e-18j\n",
      "  4.21918077e-17-3.56265938e-17j -1.24948280e-17-8.17497541e-18j\n",
      " -2.13896249e-19-2.38538726e-18j -4.48333246e-17-1.32900717e-17j\n",
      " -1.83093558e-18-1.03991193e-17j  1.57419376e-18-8.45209195e-18j\n",
      " -2.15600030e-18-2.23831304e-17j -7.13901007e-18-5.29050599e-19j\n",
      " -1.44376796e-18-2.74522914e-18j  9.10659582e-18-2.51257224e-18j\n",
      "  2.76042809e-18-3.52326747e-18j -5.35179963e-21+2.21420933e-18j\n",
      "  7.21769371e-18+3.73317319e-18j -2.87221777e-18+3.48441984e-19j\n",
      "  2.53786302e-18-5.96173016e-19j -2.54432230e-17-3.08299570e-17j\n",
      "  9.50956694e-19-3.88792111e-18j  3.79418515e-18-1.75200298e-18j\n",
      " -9.98835203e-18+9.83959626e-18j  2.73224852e-18+1.85323829e-18j\n",
      " -4.08156147e-18-4.98848381e-18j -1.32411884e-17-1.60899939e-17j\n",
      " -4.08618491e-19+6.87592339e-19j  4.21727182e-18-8.08204332e-19j\n",
      "  1.11888905e-17+7.11354565e-17j  4.31205477e-18+1.42092028e-18j\n",
      " -6.16427191e-19+5.03212136e-19j]\n"
     ]
    }
   ],
   "source": [
    "#eigenvalues and eigenvectors of the Spin-1 Hamiltonian without the local contstaints\n",
    "eigenval, eigenvec = scipy.sparse.linalg.eigsh(full_ham_matrix,k = 3,which = \"SA\")\n",
    "print(eigenval[eigenval<=1e1])\n",
    "print(eigenvec[:,0])"
   ]
  },
  {
   "cell_type": "code",
   "execution_count": 746,
   "id": "048542d6",
   "metadata": {},
   "outputs": [],
   "source": [
    "#eigenvalues and eigenvectors of the Spin-1 Hamiltonian with the local contstaints\n",
    "eigenvalues, eigenvectors = scipy.sparse.linalg.eigsh(constrained_full_ham_matrix,k = 3,which = \"SA\")\n"
   ]
  },
  {
   "cell_type": "code",
   "execution_count": 747,
   "id": "78f509b0",
   "metadata": {
    "scrolled": true
   },
   "outputs": [
    {
     "name": "stdout",
     "output_type": "stream",
     "text": [
      "[-1.0416023  -0.0142565   0.15174042]\n",
      "(0.0014844734224547817-0.003838729865713476j)|2 2 2 2 2>\n",
      "(0.005554309176844463-0.01436300050781745j)|2 2 2 1 2>\n",
      "(-0.01038298830666227+0.026849579591818405j)|2 2 2 1 1>\n",
      "(0.005554309176844554-0.014363000507817416j)|2 1 2 2 2>\n",
      "(0.02636398478491669-0.06817516180634561j)|2 1 2 1 2>\n",
      "(-0.051377740139318395+0.1328587380025486j)|2 1 2 1 1>\n",
      "(-0.05178621202369917+0.13391501371497025j)|2 1 1 1 2>\n",
      "(0.11325934217076458-0.29287962504779286j)|2 1 1 1 1>\n",
      "(-0.042705381114064814+0.1104327092890265j)|2 1 1 0 1>\n",
      "(-0.010382988306662535+0.026849579591818273j)|1 1 2 2 2>\n",
      "(-0.051377740139318936+0.1328587380025485j)|1 1 2 1 2>\n",
      "(0.10088170207651978-0.26087203503095197j)|1 1 2 1 1>\n",
      "(0.11325934217076553-0.29287962504779164j)|1 1 1 1 2>\n",
      "(-0.2486361291431301+0.6429531982181247j)|1 1 1 1 1>\n",
      "(0.09527977162355326-0.246385889701456j)|1 1 1 0 1>\n",
      "(-0.04270538111406554+0.110432709289026j)|1 0 1 1 2>\n",
      "(0.09527977162355392-0.24638588970145536j)|1 0 1 1 1>\n",
      "(-0.04053742920343548+0.10482655856858845j)|1 0 1 0 1>\n",
      "(-0.007393017789752053+0.019117754321489305j)|1 0 0 0 1>\n",
      "\n"
     ]
    }
   ],
   "source": [
    "#Gauge invariant part of the spectrum\n",
    "string = \"\"\n",
    "print(eigenvalues[eigenvalues<=1e1])\n",
    "for i in range(basis.Ns):\n",
    "    if np.abs(eigenvectors[:,0][i])>=1e-5:\n",
    "        string+=str(eigenvectors[:,0][i])+basis.int_to_state(basis.Ns-i-1)+\"\\n\"\n",
    "        #for j in range(basis.Ns):\n",
    "            #if (np.abs(np.abs(eigenvectors[:,0][i])-np.abs(eigenvectors[:,0][j]))<=1e-5) & (i<j):\n",
    "                #print(basis.int_to_state(basis.Ns-i-1),basis.int_to_state(basis.Ns-j-1))\n",
    "print(string)\n"
   ]
  },
  {
   "cell_type": "code",
   "execution_count": 748,
   "id": "bc4014a4",
   "metadata": {},
   "outputs": [
    {
     "data": {
      "text/plain": [
       "[<matplotlib.lines.Line2D at 0x7f08dba338e0>]"
      ]
     },
     "execution_count": 748,
     "metadata": {},
     "output_type": "execute_result"
    },
    {
     "data": {
      "image/png": "[encoded data removed]",
      "text/plain": [
       "<Figure size 432x288 with 1 Axes>"
      ]
     },
     "metadata": {
      "needs_background": "light"
     },
     "output_type": "display_data"
    }
   ],
   "source": [
    "y = []\n",
    "x = []\n",
    "for i in range(basis.Ns):\n",
    "    if np.abs(eigenvectors[:,0][i])**2>=1e-4:\n",
    "        y.append(np.abs(eigenvectors[:,0][i])**2) \n",
    "        x.append(i)\n",
    "plt.plot(x,y, \"o\")"
   ]
  },
  {
   "cell_type": "code",
   "execution_count": 608,
   "id": "b9a080c3",
   "metadata": {},
   "outputs": [],
   "source": [
    "#initial state\n",
    "string = \"\"\n",
    "for i in range(L):\n",
    "    string +=\"1\"\n",
    "psi_0 = np.zeros(basis.Ns)\n",
    "i_0 = basis.index(string)\n",
    "psi_0[i_0] = 1."
   ]
  },
  {
   "cell_type": "code",
   "execution_count": 544,
   "id": "15933bc7",
   "metadata": {},
   "outputs": [
    {
     "name": "stdout",
     "output_type": "stream",
     "text": [
      "0.0\n"
     ]
    }
   ],
   "source": [
    "#cost function of the initial state\n",
    "expt_value = 0\n",
    "matvec_h = full_ham_matrix@psi_0\n",
    "matvec_c = constraint_full_matrix@psi_0\n",
    "for i in range(basis.Ns):\n",
    "    expt_value += np.conj(psi_0[i])*(matvec_h[i]+matvec_c[i])\n",
    "print(np.real(expt_value))"
   ]
  },
  {
   "cell_type": "code",
   "execution_count": 545,
   "id": "18c10437",
   "metadata": {},
   "outputs": [
    {
     "name": "stdout",
     "output_type": "stream",
     "text": [
      "0j\n"
     ]
    }
   ],
   "source": [
    "expt_value = 0\n",
    "matvec = full_ham_matrix@psi_0\n",
    "for i in range(basis.Ns):\n",
    "    expt_value += np.conj(psi_0[i])*matvec[i]\n",
    "print(expt_value)"
   ]
  },
  {
   "cell_type": "code",
   "execution_count": 546,
   "id": "55c01074",
   "metadata": {},
   "outputs": [],
   "source": [
    "def rot_sigma(k,i,j,phi,theta):\n",
    "    if k>=L:\n",
    "        print(\"Warning! Rotations apply to k<=L-1!\")\n",
    "    sigma = np.zeros((2*l+1,2*l+1),dtype = complex)\n",
    "    sigma[2*l-i][2*l-j] = 0.5*(np.cos(phi)+1j*np.sin(phi))\n",
    "    sigma[2*l-j][2*l-i] = 0.5*(np.cos(phi)-1j*np.sin(phi))\n",
    "    sigma = sparse.csc_matrix(sigma)\n",
    "    rot_matrix = expm(-1j*theta*sigma/2)\n",
    "    if k==0:\n",
    "        tensprod = rot_matrix\n",
    "        for i in range(L-1):\n",
    "            tensprod = scipy.sparse.kron(tensprod,sparse.identity(2*l+1))\n",
    "    else:\n",
    "        tensprod = sparse.identity(2*l+1)\n",
    "        for i in range(1,k):\n",
    "            tensprod = scipy.sparse.kron(tensprod,sparse.identity(2*l+1))\n",
    "        tensprod = scipy.sparse.kron(tensprod,rot_matrix)\n",
    "        for i in range(k+1,L):\n",
    "            tensprod = scipy.sparse.kron(tensprod,sparse.identity(2*l+1))\n",
    "    return tensprod\n",
    "\n",
    "def rot_ms(k,i,j,phi,theta):\n",
    "    sigma = np.zeros((2*l+1,2*l+1),dtype = complex)\n",
    "    sigma[2*l-i][2*l-j] = 0.5*(np.cos(phi)+1j*np.sin(phi))\n",
    "    sigma[2*l-j][2*l-i] = 0.5*(np.cos(phi)-1j*np.sin(phi))\n",
    "    sigma = sparse.csc_matrix(sigma)\n",
    "    power_matrix = scipy.sparse.kron(sigma,sparse.identity(2*l+1))+scipy.sparse.kron(sparse.identity(2*l+1),sigma)\n",
    "    rot_matrix = scipy.sparse.linalg.expm(-1j*power_matrix@power_matrix*theta/4)\n",
    "    if k == 0:\n",
    "        tensprod = rot_matrix\n",
    "        for i in range(L-2):\n",
    "            tensprod = scipy.sparse.kron(tensprod,sparse.identity(2*l+1))\n",
    "    else:\n",
    "        tensprod = sparse.identity(2*l+1)\n",
    "        for i in range(1,k):\n",
    "            tensprod = scipy.sparse.kron(tensprod,sparse.identity(2*l+1))\n",
    "        tensprod = scipy.sparse.kron(tensprod,rot_matrix)\n",
    "        for i in range(k+2,L):\n",
    "            tensprod = scipy.sparse.kron(tensprod,sparse.identity(2*l+1))\n",
    "    return tensprod\n",
    "\n",
    "def rot_ms_e(i,j,phi,theta):\n",
    "    ms_e = sparse.identity(basis.Ns,dtype = complex)\n",
    "    for k in range(1,int(L/2)):\n",
    "        ms_e = rot_ms(2*k,i,j,phi,theta)@ms_e\n",
    "    return(ms_e)\n",
    "\n",
    "def rot_ms_o(i,j,phi,theta):\n",
    "    ms_o = sparse.identity(basis.Ns,dtype = complex)\n",
    "    for k in range(int(L/2)-1):\n",
    "        ms_o = rot_ms(2*k+1,i,j,phi,theta)@ms_o\n",
    "    return(ms_o)\n",
    "\n",
    "def rot_sigma_e(i,j,phi,theta):\n",
    "    sigma_e = sparse.identity(basis.Ns,dtype = complex)\n",
    "    for k in range(1,int(L/2)):\n",
    "        sigma_e = rot_sigma(2*k,i,j,phi,theta)@sigma_e\n",
    "    return(sigma_e)\n",
    "\n",
    "def rot_sigma_o(i,j,phi,theta):\n",
    "    sigma_o = sparse.identity(basis.Ns,dtype = complex)\n",
    "    for k in range(int(L/2)):\n",
    "        sigma_o = rot_sigma(2*k+1,i,j,phi,theta)@sigma_o\n",
    "    return(sigma_o)\n",
    "\n",
    "def rot_sigma_all(i,j,phi,theta):\n",
    "    sigma_all = sparse.identity(basis.Ns,dtype = complex)\n",
    "    for k in range(L):\n",
    "        sigma_all = rot_sigma(k,i,j,phi,theta)@sigma_all\n",
    "    return(sigma_all)"
   ]
  },
  {
   "cell_type": "code",
   "execution_count": 547,
   "id": "516ecbb1",
   "metadata": {},
   "outputs": [],
   "source": [
    "\n",
    "def ms_hamiltonian(i,j,phi):\n",
    "    sigma = np.zeros((2*l+1,2*l+1),dtype = complex)\n",
    "    sigma[2*l-i][2*l-j] = 0.5*(np.cos(phi)+1j*np.sin(phi))\n",
    "    sigma[2*l-j][2*l-i] = 0.5*(np.cos(phi)-1j*np.sin(phi))\n",
    "    sigma = sparse.csc_matrix(sigma)\n",
    "    summe = np.zeros((basis.Ns,basis.Ns),dtype = complex)\n",
    "    for k in range(L):\n",
    "        if k == 0:\n",
    "            tensprod = sigma\n",
    "            for m in range(L-1):\n",
    "                tensprod = scipy.sparse.kron(tensprod,sparse.identity(2*l+1))\n",
    "            tensprod = tensprod.toarray()\n",
    "        else:\n",
    "            tensprod = sparse.identity(2*l+1)\n",
    "            for i in range(1,k):\n",
    "                tensprod = scipy.sparse.kron(tensprod,sparse.identity(2*l+1))\n",
    "            tensprod = scipy.sparse.kron(tensprod,sigma)\n",
    "            for i in range(k+1,L):\n",
    "                tensprod = scipy.sparse.kron(tensprod,sparse.identity(2*l+1))\n",
    "            tensprod = tensprod.toarray()\n",
    "        summe +=tensprod\n",
    "    return summe@summe\n",
    "                \n",
    "matrix_part = ms_hamiltonian(1,2,0)\n",
    "ms_ham_eigenval, ms_ham_eigenvec = scipy.linalg.eigh(matrix_part)\n",
    "\n",
    "\n",
    "\n",
    "\n",
    "def ms_gate_global(theta):\n",
    "    exponential = np.zeros((basis.Ns,basis.Ns),dtype = complex)\n",
    "    for i in range(basis.Ns):\n",
    "        exponential[i][i] = np.exp(-1j*ms_ham_eigenval[i]*theta/4)\n",
    "    exponential = scipy.sparse.csc_matrix(exponential)\n",
    "    return ms_ham_eigenvec@exponential@ms_ham_eigenvec.T.conj()\n",
    "\n",
    "    "
   ]
  },
  {
   "cell_type": "code",
   "execution_count": 548,
   "id": "1e7957a1",
   "metadata": {},
   "outputs": [
    {
     "name": "stdout",
     "output_type": "stream",
     "text": [
      "2022-04-07 15:22:20.644609\n",
      "2022-04-07 15:22:20.652366\n",
      "2022-04-07 15:22:20.669583\n",
      "2022-04-07 15:22:20.671405\n"
     ]
    }
   ],
   "source": [
    "import datetime\n",
    "print(datetime.datetime.now())\n",
    "a = ms_gate_global(np.pi)\n",
    "print(datetime.datetime.now())\n",
    "b = rot_sigma_e(0,1,0,np.pi)\n",
    "print(datetime.datetime.now())\n",
    "a@b\n",
    "print(datetime.datetime.now())"
   ]
  },
  {
   "cell_type": "code",
   "execution_count": 549,
   "id": "ba544c39",
   "metadata": {},
   "outputs": [
    {
     "name": "stdout",
     "output_type": "stream",
     "text": [
      "CPU times: user 38.3 ms, sys: 53 µs, total: 38.4 ms\n",
      "Wall time: 36.6 ms\n"
     ]
    },
    {
     "data": {
      "text/plain": [
       "<243x243 sparse matrix of type '<class 'numpy.complex128'>'\n",
       "\twith 351 stored elements in List of Lists format>"
      ]
     },
     "execution_count": 549,
     "metadata": {},
     "output_type": "execute_result"
    }
   ],
   "source": [
    "\n",
    "def sigma_sigma(m,n,theta):\n",
    "    sigma_sigma = sparse.lil_matrix((basis.Ns,basis.Ns),dtype = complex)\n",
    "    temp1 = np.cos(theta/2)\n",
    "    temp2 = -1j*np.sin(theta/2)\n",
    "    for i in range(basis.Ns):\n",
    "        sigma_sigma[i,i] = 1.\n",
    "        if (basis.int_to_state(basis.Ns-i-1)[2*m+1] == \"1\") & ((basis.int_to_state(basis.Ns-i-1)[2*n+1] == \"1\")):\n",
    "            \n",
    "            string = list(basis.int_to_state(basis.Ns-i-1))\n",
    "            string[2*m+1],string[2*n+1] = \"2\",\"2\"\n",
    "            string = \"\".join(string)\n",
    "            string = string.replace(\" \", \"\")\n",
    "            string = string.replace(\"|\",\"\")\n",
    "            string = string.replace(\">\", \"\")\n",
    "            sigma_sigma[i,i] = temp1\n",
    "            sigma_sigma[basis.Ns-1-basis.state_to_int(string),i]  = temp2\n",
    "\n",
    "        if (basis.int_to_state(basis.Ns-i-1)[2*m+1] == \"1\") & ((basis.int_to_state(basis.Ns-i-1)[2*n+1] == \"2\")):\n",
    "            string = list(basis.int_to_state(basis.Ns-i-1))\n",
    "            string[2*m+1],string[2*n+1] = \"2\",\"1\"\n",
    "            string = \"\".join(string)\n",
    "            string = string.replace(\" \", \"\")\n",
    "            string = string.replace(\"|\",\"\")\n",
    "            string = string.replace(\">\", \"\")\n",
    "            sigma_sigma[i,i] = temp1\n",
    "            sigma_sigma[basis.Ns-1-basis.state_to_int(string),i]  = temp2\n",
    "\n",
    "\n",
    "        if (basis.int_to_state(basis.Ns-i-1)[2*m+1] == \"2\") & ((basis.int_to_state(basis.Ns-i-1)[2*n+1] == \"1\")):\n",
    "            string = list(basis.int_to_state(basis.Ns-i-1))\n",
    "            string[2*m+1],string[2*n+1] = \"1\",\"2\"\n",
    "            string = \"\".join(string)\n",
    "            string = string.replace(\" \", \"\")\n",
    "            string = string.replace(\"|\",\"\")\n",
    "            string = string.replace(\">\", \"\")\n",
    "            sigma_sigma[i,i] = temp1\n",
    "            sigma_sigma[basis.Ns-1-basis.state_to_int(string),i]  = temp2\n",
    "\n",
    "\n",
    "        if (basis.int_to_state(basis.Ns-i-1)[2*m+1] == \"2\") & ((basis.int_to_state(basis.Ns-i-1)[2*n+1] == \"2\")):\n",
    "            string = list(basis.int_to_state(basis.Ns-i-1))\n",
    "            string[2*m+1],string[2*n+1] = \"1\",\"1\"\n",
    "            string = \"\".join(string)\n",
    "            string = string.replace(\" \", \"\")\n",
    "            string = string.replace(\"|\",\"\")\n",
    "            string = string.replace(\">\", \"\")\n",
    "            sigma_sigma[i,i] = temp1\n",
    "            sigma_sigma[basis.Ns-1-basis.state_to_int(string),i]  = temp2\n",
    "\n",
    "            \n",
    "    return sigma_sigma\n",
    "\n",
    "def id_id(m,theta):\n",
    "    id_id = sparse.lil_matrix((basis.Ns,basis.Ns),dtype = complex)\n",
    "    for i in range(basis.Ns):\n",
    "        id_id[i,i] = 1.\n",
    "        \n",
    "        if (basis.int_to_state(basis.Ns-i-1)[2*m+1] == \"1\"):\n",
    "            id_id[i,i] = (np.cos(theta/4)-1j*np.sin(theta/4))\n",
    "            \n",
    "        if (basis.int_to_state(basis.Ns-i-1)[2*m+1] == \"2\"):\n",
    "            id_id[i,i] = (np.cos(theta/4)-1j*np.sin(theta/4)) \n",
    "            \n",
    "    return id_id\n",
    "\n",
    "\n",
    "def ms_global_sparse(theta):\n",
    "    ms_global = sparse.identity(basis.Ns)\n",
    "    for m in range(L):\n",
    "        ms_global = id_id(m,theta)@ms_global\n",
    "        for n in range(m+1,L):\n",
    "            ms_global = sigma_sigma(m,n,theta)@ms_global\n",
    "    return ms_global\n",
    "\n",
    "#print(np.allclose(ms_global_sparse(np.pi/4).toarray(),ms_gate_global(np.pi/4), atol= 1e-3,rtol=1e-3))\n",
    "#print(np.allclose(ms_global_sparse(np.pi/3).toarray().conj().T@ms_global_sparse(np.pi/3).toarray(),np.identity(basis.Ns), atol= 1e-8,rtol=1e-8))\n",
    "\n",
    "%time sigma_sigma(0,1,np.pi/3)"
   ]
  },
  {
   "cell_type": "code",
   "execution_count": 550,
   "id": "b65c2275",
   "metadata": {},
   "outputs": [
    {
     "name": "stdout",
     "output_type": "stream",
     "text": [
      "2022-04-07 15:22:21.680800\n",
      "2022-04-07 15:22:21.683665\n",
      "59049\n"
     ]
    }
   ],
   "source": [
    "#import timeit\n",
    "#print(timeit.timeit('[ms_gate_global(0,2,np.pi)]', globals=globals()))\n",
    "import datetime\n",
    "print(datetime.datetime.now())\n",
    "a = ms_gate_global(np.pi)\n",
    "print(datetime.datetime.now())\n",
    "print(np.size(a))\n"
   ]
  },
  {
   "cell_type": "code",
   "execution_count": 551,
   "id": "e47de7af",
   "metadata": {},
   "outputs": [
    {
     "name": "stdout",
     "output_type": "stream",
     "text": [
      "2022-04-07 15:22:22.174072\n",
      "2022-04-07 15:22:22.437695\n"
     ]
    }
   ],
   "source": [
    "def cost_function_sigma(theta):\n",
    "    psi_var = psi_0\n",
    "    for i in range(N):\n",
    "        psi_var = ms_gate_global(theta[5*i+0])@psi_var\n",
    "        psi_var = rot_sigma_e(0,2,0,theta[5*i+2])@rot_sigma_e(0,1,0,theta[5*i+1])@psi_var\n",
    "        psi_var = rot_sigma_o(0,2,0,theta[5*i+4])@rot_sigma_o(0,1,0,theta[5*i+3])@psi_var\n",
    "        psi_var = rot_sigma(0,0,2,0,theta[5*i+2])@rot_sigma(0,0,1,0,theta[5*i+1])@psi_var\n",
    "        psi_var = rot_sigma(L-1,0,2,0,theta[5*i+2])@rot_sigma(L-1,0,1,0,theta[5*i+1])@psi_var\n",
    "\n",
    "    cost = np.conj(psi_var)@constrained_full_ham_matrix@psi_var\n",
    "    return np.real(cost)\n",
    "\n",
    "import datetime\n",
    "\n",
    "print(datetime.datetime.now())\n",
    "a = cost_function_sigma(np.pi*np.ones(5*N))\n",
    "print(datetime.datetime.now())"
   ]
  },
  {
   "cell_type": "code",
   "execution_count": 552,
   "id": "4cfe205c",
   "metadata": {},
   "outputs": [],
   "source": [
    "opt_params = []\n",
    "function_values = []\n",
    "def callback_function(x,fun,context):\n",
    "    opt_params.append(x)\n",
    "    function_values.append(fun)\n"
   ]
  },
  {
   "cell_type": "code",
   "execution_count": 553,
   "id": "5b1e1eb0",
   "metadata": {},
   "outputs": [],
   "source": [
    "full_ham_matrix = sparse.csc_matrix(full_ham_matrix)"
   ]
  },
  {
   "cell_type": "code",
   "execution_count": 554,
   "id": "11dee55b",
   "metadata": {},
   "outputs": [],
   "source": [
    "Energy = np.zeros(5)\n",
    "Fidelity = np.zeros(5)"
   ]
  },
  {
   "cell_type": "code",
   "execution_count": 556,
   "id": "c4c9af24",
   "metadata": {
    "scrolled": true
   },
   "outputs": [
    {
     "name": "stderr",
     "output_type": "stream",
     "text": [
      "\u001b[32m[I 2022-04-07 15:24:03,846]\u001b[0m A new study created in memory with name: no-name-43e49ce1-1312-4f9f-b1c1-b64c30a0ba34\u001b[0m\n",
      "\u001b[32m[I 2022-04-07 15:24:04,060]\u001b[0m Trial 0 finished with value: 8.694029112550673 and parameters: {'5*0+0': 7.1145493761674246, '5*0+1': 7.306629431906362, '5*0+2': 6.584221793627616, '5*0+3': -3.1866730375762575, '5*0+4': 6.2158677959074105, '5*1+0': -5.106625189090589, '5*1+1': -5.339978786196489, '5*1+2': -7.984768499150477, '5*1+3': -4.981516482510484, '5*1+4': -3.6378345307151143, '5*2+0': -0.0946823215885324, '5*2+1': -4.398740343501751, '5*2+2': 6.767316164129721, '5*2+3': 7.237115462372042, '5*2+4': -2.860990842393977, '5*3+0': 0.5312729144866957, '5*3+1': -8.936556400079667, '5*3+2': 3.889205218415583, '5*3+3': -9.23101216810707, '5*3+4': -7.263482330490582, '5*4+0': 9.005117048162187, '5*4+1': 0.39133942034433744, '5*4+2': -2.7618869038990024, '5*4+3': 9.389306277600909, '5*4+4': -1.1170877786353444}. Best is trial 0 with value: 8.694029112550673.\u001b[0m\n",
      "\u001b[32m[I 2022-04-07 15:24:04,247]\u001b[0m Trial 1 finished with value: 6.832241526158951 and parameters: {'5*0+0': 1.3778297764641676, '5*0+1': -2.9545859544880644, '5*0+2': 3.239765605588671, '5*0+3': 0.6548139736620231, '5*0+4': 1.9195865264164884, '5*1+0': -3.165724719547392, '5*1+1': -1.7598002444239182, '5*1+2': 6.515335615860343, '5*1+3': -3.9505138418340913, '5*1+4': -2.0874140851513325, '5*2+0': -5.129450681977784, '5*2+1': 2.5445665168110234, '5*2+2': 2.630944395868373, '5*2+3': 0.9656918396736296, '5*2+4': -4.7440922901863924, '5*3+0': -2.084928544896822, '5*3+1': 5.518154868410995, '5*3+2': -2.87201318542271, '5*3+3': 0.8466617252601916, '5*3+4': -5.1746249066546195, '5*4+0': 3.5569826615484095, '5*4+1': -3.4721585670498873, '5*4+2': 1.2102906888878737, '5*4+3': 2.043334125000678, '5*4+4': -4.761580741661142}. Best is trial 1 with value: 6.832241526158951.\u001b[0m\n",
      "\u001b[32m[I 2022-04-07 15:24:04,432]\u001b[0m Trial 2 finished with value: 10.655514021026548 and parameters: {'5*0+0': 3.1036739577350367, '5*0+1': -2.5548741676158513, '5*0+2': -1.5299712734074866, '5*0+3': -2.503844525623859, '5*0+4': 1.0433066855004716, '5*1+0': -6.281269072796474, '5*1+1': 5.039634047099733, '5*1+2': -4.612134888679299, '5*1+3': -3.0801157563647283, '5*1+4': -2.474707607901314, '5*2+0': -3.3467690063364226, '5*2+1': -2.3455691264051315, '5*2+2': -2.450960802368532, '5*2+3': 2.9935080507737584, '5*2+4': -7.741022530021984, '5*3+0': -2.5057649401873183, '5*3+1': -0.0565730977706205, '5*3+2': 0.24445862279970562, '5*3+3': -4.105912802941674, '5*3+4': 5.969728845861338, '5*4+0': -2.083719664893576, '5*4+1': 0.563487159442602, '5*4+2': -2.9084078154092334, '5*4+3': 5.0034251892211, '5*4+4': -1.2555346001835297}. Best is trial 1 with value: 6.832241526158951.\u001b[0m\n",
      "\u001b[32m[I 2022-04-07 15:24:04,625]\u001b[0m Trial 3 finished with value: 11.603404790529572 and parameters: {'5*0+0': 1.5657807931253547, '5*0+1': -3.5756035695233357, '5*0+2': 0.4848518465061625, '5*0+3': -0.9966759773708784, '5*0+4': -1.6318135571688541, '5*1+0': 8.14662224158202, '5*1+1': -0.044055830678711085, '5*1+2': 4.7513348571901375, '5*1+3': 5.3748501103028135, '5*1+4': -6.745724120301157, '5*2+0': -6.138626731391986, '5*2+1': -1.6238002042475912, '5*2+2': -2.60629991626322, '5*2+3': 1.7314409736868759, '5*2+4': 0.9015881466491331, '5*3+0': -5.8763193532922005, '5*3+1': 2.6763626600368555, '5*3+2': -4.088201033441429, '5*3+3': -3.62510884157727, '5*3+4': -3.957798833791718, '5*4+0': -3.478856014843092, '5*4+1': 3.4016807913832166, '5*4+2': -6.237740871753566, '5*4+3': 2.7941123927017206, '5*4+4': -0.4932549210195443}. Best is trial 1 with value: 6.832241526158951.\u001b[0m\n",
      "\u001b[32m[I 2022-04-07 15:24:04,812]\u001b[0m Trial 4 finished with value: 8.97435488217997 and parameters: {'5*0+0': -0.9234083643079511, '5*0+1': -2.2883409155618035, '5*0+2': 2.3003999635154875, '5*0+3': 0.2448624455804469, '5*0+4': 2.363022021338675, '5*1+0': -2.1272597152051014, '5*1+1': -2.9065506965129226, '5*1+2': 4.929625521366945, '5*1+3': 0.930538204349133, '5*1+4': 2.8290870565184463, '5*2+0': 4.405874615290486, '5*2+1': 1.029042692511405, '5*2+2': 2.507620589494408, '5*2+3': -0.28696858770628714, '5*2+4': 0.7595956922360328, '5*3+0': -1.1593087840065175, '5*3+1': -3.585184176795265, '5*3+2': -7.525133552951975, '5*3+3': 2.2563532431467928, '5*3+4': -4.19968794836117, '5*4+0': 0.5185777556117933, '5*4+1': -2.5858912792457454, '5*4+2': 3.7273674023916614, '5*4+3': -1.7192651055387205, '5*4+4': -1.223290682127724}. Best is trial 1 with value: 6.832241526158951.\u001b[0m\n",
      "\u001b[32m[I 2022-04-07 15:24:05,006]\u001b[0m Trial 5 finished with value: 8.913630854566605 and parameters: {'5*0+0': -2.8519996527981375, '5*0+1': 2.724584196910631, '5*0+2': 0.8131359182378641, '5*0+3': -7.0881484225790174, '5*0+4': 5.141586967991022, '5*1+0': 7.1841420547581185, '5*1+1': 4.77512028092842, '5*1+2': 2.095829386012974, '5*1+3': 2.9755943446027455, '5*1+4': -1.7866569696973011, '5*2+0': -1.668374981747025, '5*2+1': -1.0786176930009082, '5*2+2': -6.752864093661365, '5*2+3': 0.6102555553302184, '5*2+4': -2.973622677053367, '5*3+0': 2.393074587146197, '5*3+1': 0.35153638987139213, '5*3+2': 3.366170848008315, '5*3+3': 6.000195366131881, '5*3+4': 4.2097526831341, '5*4+0': 2.8285586001423395, '5*4+1': -1.8262568483347181, '5*4+2': -2.1152550872437494, '5*4+3': -2.86946351287544, '5*4+4': 1.5886747713280096}. Best is trial 1 with value: 6.832241526158951.\u001b[0m\n",
      "\u001b[32m[I 2022-04-07 15:24:05,192]\u001b[0m Trial 6 finished with value: 16.035140444984613 and parameters: {'5*0+0': -4.027363523937014, '5*0+1': -0.6738639125576332, '5*0+2': 1.9973756015121686, '5*0+3': -0.08066103676454325, '5*0+4': 1.4856753737463353, '5*1+0': -0.10762030808386662, '5*1+1': -2.3827983948627094, '5*1+2': -4.659376901741638, '5*1+3': 1.6954230967974036, '5*1+4': 7.352220610432987, '5*2+0': 0.42252662310445993, '5*2+1': -3.047172120449658, '5*2+2': 2.697958272456337, '5*2+3': 4.989714450416004, '5*2+4': 1.1094470556654799, '5*3+0': -2.6009997764795063, '5*3+1': -1.2509956770161907, '5*3+2': 2.4648524536785446, '5*3+3': 0.7269695984421193, '5*3+4': -0.1387526237811323, '5*4+0': -2.913687135043651, '5*4+1': -0.9225355210715718, '5*4+2': 2.857416429030432, '5*4+3': -0.5176636548120658, '5*4+4': 3.3368227196994953}. Best is trial 1 with value: 6.832241526158951.\u001b[0m\n",
      "\u001b[32m[I 2022-04-07 15:24:05,381]\u001b[0m Trial 7 finished with value: 20.339787459144826 and parameters: {'5*0+0': 0.9554123854100043, '5*0+1': -2.4488721727294225, '5*0+2': -5.393968538320196, '5*0+3': -3.6257781615977263, '5*0+4': -4.042301935827132, '5*1+0': -2.7977504176439165, '5*1+1': 4.007053502853143, '5*1+2': 2.5217861988489108, '5*1+3': 5.4875093915625035, '5*1+4': 1.0067678401658415, '5*2+0': -2.891127160416081, '5*2+1': 2.608041903312652, '5*2+2': 2.2446095881725694, '5*2+3': -0.5993705176438204, '5*2+4': 5.030114317251651, '5*3+0': 3.1177219100129623, '5*3+1': -1.414852695178584, '5*3+2': 1.3922623568492547, '5*3+3': 4.019968179494114, '5*3+4': -0.1276149129765585, '5*4+0': 1.1276143005814063, '5*4+1': -4.330772496165858, '5*4+2': -4.184020783418183, '5*4+3': -0.9078516476833446, '5*4+4': -3.636247248162782}. Best is trial 1 with value: 6.832241526158951.\u001b[0m\n",
      "\u001b[32m[I 2022-04-07 15:24:05,566]\u001b[0m Trial 8 finished with value: 15.741615031479649 and parameters: {'5*0+0': -4.6856181037559645, '5*0+1': 1.2221228776271822, '5*0+2': -3.740501032366199, '5*0+3': 1.3667471346068139, '5*0+4': 2.7031300390876556, '5*1+0': -2.1152848317270405, '5*1+1': -2.839802694269172, '5*1+2': -0.3746939780166794, '5*1+3': 2.277101140424116, '5*1+4': 0.39022182044805637, '5*2+0': 1.9398367430066719, '5*2+1': 3.7750280016166493, '5*2+2': 0.8974858711555231, '5*2+3': 2.2749340523160786, '5*2+4': -2.553702091566052, '5*3+0': 1.1474010685476015, '5*3+1': -0.007193839252254545, '5*3+2': 1.928244803207157, '5*3+3': -0.9279030067591759, '5*3+4': 3.5840904365885797, '5*4+0': 4.42449288056468, '5*4+1': 4.231627000403167, '5*4+2': -4.652341680033104, '5*4+3': -2.275232637812242, '5*4+4': 6.7853859194539385}. Best is trial 1 with value: 6.832241526158951.\u001b[0m\n",
      "\u001b[32m[I 2022-04-07 15:24:05,752]\u001b[0m Trial 9 finished with value: 10.425279147693551 and parameters: {'5*0+0': 2.091021145383334, '5*0+1': -0.8649786371097887, '5*0+2': -6.84888167117654, '5*0+3': 1.506678325467782, '5*0+4': 3.707876939670123, '5*1+0': -4.481759764455314, '5*1+1': 0.6934125749192028, '5*1+2': 1.8905648207632693, '5*1+3': -0.7480367206156376, '5*1+4': 1.0777262906740463, '5*2+0': 1.3509114873869206, '5*2+1': 2.6831683645384206, '5*2+2': -3.0595961893199872, '5*2+3': -6.297726966243645, '5*2+4': 5.437649844798914, '5*3+0': -0.7227038748556136, '5*3+1': 5.4893161716223275, '5*3+2': 2.0829771898230534, '5*3+3': -4.549423185459233, '5*3+4': 2.13271125593992, '5*4+0': -1.1473131965425254, '5*4+1': -1.309042675846401, '5*4+2': 2.693455648318778, '5*4+3': 0.5551729139045445, '5*4+4': 7.221854476886685}. Best is trial 1 with value: 6.832241526158951.\u001b[0m\n"
     ]
    },
    {
     "name": "stderr",
     "output_type": "stream",
     "text": [
      "\u001b[32m[I 2022-04-07 15:24:05,944]\u001b[0m Trial 10 finished with value: 6.039477410687799 and parameters: {'5*0+0': -0.5211282018402411, '5*0+1': -2.5262654510147233, '5*0+2': -2.643941383883043, '5*0+3': -1.2909464263492085, '5*0+4': -4.582523553907881, '5*1+0': -2.8360891984143914, '5*1+1': 3.9889231616866767, '5*1+2': -1.973306178220911, '5*1+3': -4.322156169857812, '5*1+4': -0.05768391228594976, '5*2+0': 2.5651564984702944, '5*2+1': -0.6436097283441276, '5*2+2': -3.3975278882231366, '5*2+3': -2.5396327631746924, '5*2+4': -1.4097589897144063, '5*3+0': 3.692186781028018, '5*3+1': -2.9460532379864253, '5*3+2': -2.8266554105009742, '5*3+3': 3.300454427384307, '5*3+4': -8.690711251644473, '5*4+0': -2.414533170352364, '5*4+1': 7.182806517650282, '5*4+2': 1.0070067707011963, '5*4+3': -1.7387863583897425, '5*4+4': 0.3571961747743946}. Best is trial 10 with value: 6.039477410687799.\u001b[0m\n",
      "\u001b[32m[I 2022-04-07 15:24:06,128]\u001b[0m Trial 11 finished with value: 10.740044584042087 and parameters: {'5*0+0': -2.478237626217422, '5*0+1': 0.7255542221919721, '5*0+2': 1.0771604230626122, '5*0+3': 3.1321146612231043, '5*0+4': 2.0614595372961944, '5*1+0': -3.764404828022943, '5*1+1': -3.1395940138037237, '5*1+2': -0.9629075131927332, '5*1+3': 3.547816154862305, '5*1+4': 6.441947675388798, '5*2+0': -1.0342687743619003, '5*2+1': -1.4944326263037058, '5*2+2': -1.7813485164262508, '5*2+3': -8.657110239921781, '5*2+4': -4.217068278113421, '5*3+0': -0.48790580773033443, '5*3+1': -0.4396381333468438, '5*3+2': -0.45779881878259737, '5*3+3': -2.408836461718743, '5*3+4': 5.66910064189162, '5*4+0': 4.310967124126011, '5*4+1': -0.39108578000966965, '5*4+2': 1.75628374023005, '5*4+3': 2.3407863139727225, '5*4+4': 0.3028173010123922}. Best is trial 10 with value: 6.039477410687799.\u001b[0m\n",
      "\u001b[32m[I 2022-04-07 15:24:06,329]\u001b[0m Trial 12 finished with value: 16.263320708935122 and parameters: {'5*0+0': 1.5198252144857605, '5*0+1': 3.2765617417381785, '5*0+2': -1.29549253925643, '5*0+3': 2.240182888933262, '5*0+4': -1.9415876704420703, '5*1+0': -1.1438076452866215, '5*1+1': -3.5389897539346316, '5*1+2': -4.651527838814097, '5*1+3': 3.5415062369528147, '5*1+4': 1.0262331008710288, '5*2+0': 2.3511200417635156, '5*2+1': -1.9180763452503757, '5*2+2': -2.6274559656746703, '5*2+3': 3.7258142040596014, '5*2+4': 4.591257661267726, '5*3+0': 0.29929802826737767, '5*3+1': 1.6761570511228845, '5*3+2': 1.216198509839016, '5*3+3': -1.9499067614009356, '5*3+4': 3.1398115827197084, '5*4+0': 5.243294941636129, '5*4+1': 1.8835112370568057, '5*4+2': -1.103530222988007, '5*4+3': 1.5748962735711327, '5*4+4': -1.2540048100721897}. Best is trial 10 with value: 6.039477410687799.\u001b[0m\n",
      "\u001b[32m[I 2022-04-07 15:24:06,522]\u001b[0m Trial 13 finished with value: 8.974874302277312 and parameters: {'5*0+0': 4.932144099146322, '5*0+1': 2.1686298926662455, '5*0+2': 2.1154556696074502, '5*0+3': -0.6440693884344195, '5*0+4': -0.6723809792485242, '5*1+0': 2.844489100029483, '5*1+1': 3.1145032600767775, '5*1+2': -1.4439573800978072, '5*1+3': -1.3883153669937125, '5*1+4': 1.4050701600019422, '5*2+0': -3.1631659179334273, '5*2+1': -4.721789208535206, '5*2+2': 1.1315318196209914, '5*2+3': 2.601789885110465, '5*2+4': -2.343660212222655, '5*3+0': 3.6931742412265574, '5*3+1': -4.428639152439031, '5*3+2': 3.8607076276905374, '5*3+3': -1.010907118593796, '5*3+4': -4.930817487485392, '5*4+0': 5.07708337636857, '5*4+1': -1.3034069937301485, '5*4+2': 3.366146775056918, '5*4+3': 1.0908740747079615, '5*4+4': -3.4700630878142302}. Best is trial 10 with value: 6.039477410687799.\u001b[0m\n",
      "\u001b[32m[I 2022-04-07 15:24:06,723]\u001b[0m Trial 14 finished with value: 19.41371790308658 and parameters: {'5*0+0': 0.12242822869493046, '5*0+1': -3.3612559743043557, '5*0+2': -4.109254756835077, '5*0+3': -5.716682678095398, '5*0+4': -2.7603851188029878, '5*1+0': -3.533343553360279, '5*1+1': 1.4071935921605143, '5*1+2': 1.7798255143762463, '5*1+3': -1.0215829366716964, '5*1+4': -0.09274019106576104, '5*2+0': 1.1508224986465418, '5*2+1': -1.899579385067488, '5*2+2': 1.045970132056117, '5*2+3': -1.6466318455131868, '5*2+4': -7.522441448269115, '5*3+0': 1.9577076469285157, '5*3+1': -2.0534992968284533, '5*3+2': -6.1636553225111745, '5*3+3': 1.5218833907672402, '5*3+4': -3.579261582715512, '5*4+0': 0.27362153544532963, '5*4+1': -0.7729558329930679, '5*4+2': 3.5531720321392846, '5*4+3': -2.903001644051958, '5*4+4': -3.8900149071969072}. Best is trial 10 with value: 6.039477410687799.\u001b[0m\n",
      "\u001b[32m[I 2022-04-07 15:24:06,910]\u001b[0m Trial 15 finished with value: 11.137467709312727 and parameters: {'5*0+0': -4.549665281218641, '5*0+1': 0.030998067395463957, '5*0+2': -4.425105262319365, '5*0+3': -0.018880064209067182, '5*0+4': -3.5236652426128257, '5*1+0': 4.7481014024669115, '5*1+1': -0.5045247248005942, '5*1+2': 1.6230322863388962, '5*1+3': -6.701586215877109, '5*1+4': 3.9547374494103087, '5*2+0': 1.7032040596199487, '5*2+1': 1.4699414666309318, '5*2+2': -6.042051531575657, '5*2+3': -4.435439208857553, '5*2+4': -1.4731514987300804, '5*3+0': 1.3933500871868816, '5*3+1': 2.110227846641477, '5*3+2': -0.5326075653999867, '5*3+3': 0.06612470240611179, '5*3+4': -5.760671894796387, '5*4+0': 0.508665023104836, '5*4+1': 1.124250691623783, '5*4+2': -0.5358476740832228, '5*4+3': -1.7070785627016904, '5*4+4': -0.00938937316564381}. Best is trial 10 with value: 6.039477410687799.\u001b[0m\n",
      "\u001b[32m[I 2022-04-07 15:24:07,118]\u001b[0m Trial 16 finished with value: 5.748732012173841 and parameters: {'5*0+0': -0.07109250564034725, '5*0+1': -4.331645830934429, '5*0+2': 5.147318514748051, '5*0+3': 0.4083991540602179, '5*0+4': -3.207059341241022, '5*1+0': -0.5432383343028219, '5*1+1': 1.8818694864447285, '5*1+2': 0.9170873818298764, '5*1+3': 1.1356261681210902, '5*1+4': -0.05316408047814375, '5*2+0': -4.604233169470305, '5*2+1': 1.242964856128411, '5*2+2': -3.417334001574426, '5*2+3': -4.035450187293156, '5*2+4': -4.567671848011486, '5*3+0': 1.0123128879345762, '5*3+1': -2.470172680116014, '5*3+2': -3.461740478984459, '5*3+3': 5.278028204872579, '5*3+4': -4.990547886238609, '5*4+0': 5.1170356246637425, '5*4+1': 2.7543242524662106, '5*4+2': 2.0235046257456064, '5*4+3': 0.6227399242761431, '5*4+4': 1.8702506625220678}. Best is trial 16 with value: 5.748732012173841.\u001b[0m\n",
      "\u001b[32m[I 2022-04-07 15:24:07,343]\u001b[0m Trial 17 finished with value: 16.53273964095033 and parameters: {'5*0+0': -4.086948117342316, '5*0+1': -3.717374759833776, '5*0+2': -7.038045562994265, '5*0+3': -1.674387699734414, '5*0+4': 3.1012847936967614, '5*1+0': -1.0812256805437466, '5*1+1': 1.275261693257312, '5*1+2': 8.163034736921366, '5*1+3': -5.2833476614917165, '5*1+4': -4.546761742977784, '5*2+0': 4.023460484772892, '5*2+1': -0.8435469079103249, '5*2+2': -2.669545133622071, '5*2+3': -3.069672639671658, '5*2+4': -5.709923468727336, '5*3+0': 4.830584618800152, '5*3+1': 0.3834444141005923, '5*3+2': -2.4843006216577415, '5*3+3': 0.5350923382971304, '5*3+4': -6.964612978942984, '5*4+0': -1.8172677136899038, '5*4+1': 0.04397721854441339, '5*4+2': 0.34559275154094604, '5*4+3': -2.204581862202699, '5*4+4': -2.1749904375461897}. Best is trial 16 with value: 5.748732012173841.\u001b[0m\n",
      "\u001b[32m[I 2022-04-07 15:24:07,567]\u001b[0m Trial 18 finished with value: 4.9530735368673575 and parameters: {'5*0+0': -0.44801622265493474, '5*0+1': 0.1588112384202276, '5*0+2': 1.7502862151635021, '5*0+3': -1.4967993363239165, '5*0+4': 0.15572440868033766, '5*1+0': -3.0071373514649498, '5*1+1': 3.784659536684943, '5*1+2': 4.8630732253069775, '5*1+3': -3.2533149306359066, '5*1+4': 1.7741933507455965, '5*2+0': -2.3595720445650543, '5*2+1': 4.152470033533334, '5*2+2': -2.405240245155031, '5*2+3': 1.681419779186124, '5*2+4': -1.66594874277933, '5*3+0': 4.653300005630942, '5*3+1': -0.5545647848700783, '5*3+2': -3.0158234031419955, '5*3+3': 0.4524181312495541, '5*3+4': -3.823776304095514, '5*4+0': 0.7825300732034797, '5*4+1': -2.95081448168254, '5*4+2': 1.0458458778132524, '5*4+3': -1.7190599381176053, '5*4+4': 0.4030127033555194}. Best is trial 18 with value: 4.9530735368673575.\u001b[0m\n",
      "\u001b[32m[I 2022-04-07 15:24:07,815]\u001b[0m Trial 19 finished with value: 6.135800112871239 and parameters: {'5*0+0': -1.9665370821195822, '5*0+1': -0.37717531603184096, '5*0+2': 0.9923752419904365, '5*0+3': -3.312872469190655, '5*0+4': -2.8558632009068883, '5*1+0': -2.737881470550403, '5*1+1': 4.36684988896641, '5*1+2': 2.2164550105682532, '5*1+3': -4.382292942559018, '5*1+4': -2.0842226601312146, '5*2+0': 3.7175025572605485, '5*2+1': 1.2714056479244886, '5*2+2': -4.823659854014652, '5*2+3': -3.3952680152562658, '5*2+4': -0.9500995643238512, '5*3+0': -1.370426263656766, '5*3+1': -0.8665302307192027, '5*3+2': -1.4221459027894, '5*3+3': 3.852090907347578, '5*3+4': -8.95831917314117, '5*4+0': -1.600542432521808, '5*4+1': -0.4342996103096812, '5*4+2': -0.17898955354786716, '5*4+3': 3.648172834255069, '5*4+4': 0.9143710193550568}. Best is trial 18 with value: 4.9530735368673575.\u001b[0m\n"
     ]
    },
    {
     "name": "stderr",
     "output_type": "stream",
     "text": [
      "\u001b[32m[I 2022-04-07 15:24:08,050]\u001b[0m Trial 20 finished with value: 5.060303004782396 and parameters: {'5*0+0': 2.9334057559718008, '5*0+1': 2.245390463038274, '5*0+2': 1.750389420247835, '5*0+3': 1.278608217457524, '5*0+4': 0.45785634539204534, '5*1+0': 0.8508182909916867, '5*1+1': 7.443903854618885, '5*1+2': 3.4331157679094293, '5*1+3': 2.1944762671031097, '5*1+4': 0.9908947129786857, '5*2+0': -4.065343457652485, '5*2+1': -1.7331826381142, '5*2+2': -3.63692741441693, '5*2+3': -1.335043537385992, '5*2+4': -0.6235712121510335, '5*3+0': -0.7937482100068793, '5*3+1': 2.9410622061826195, '5*3+2': -4.882619708506561, '5*3+3': 0.6680644814827026, '5*3+4': -1.4394196633564076, '5*4+0': -0.8074360481365864, '5*4+1': 1.1321265036970982, '5*4+2': -4.045011915040395, '5*4+3': -0.19938084256240451, '5*4+4': -1.0240482199220602}. Best is trial 18 with value: 4.9530735368673575.\u001b[0m\n",
      "\u001b[32m[I 2022-04-07 15:24:08,245]\u001b[0m Trial 21 finished with value: 5.806102984065609 and parameters: {'5*0+0': 2.530021691105242, '5*0+1': -0.8716389054182054, '5*0+2': 3.1825765389044447, '5*0+3': -3.055273540770494, '5*0+4': -1.06555974220619, '5*1+0': 5.960721830151, '5*1+1': -1.0400056190012967, '5*1+2': -1.3411638625394644, '5*1+3': -1.8310284152873826, '5*1+4': -4.022431639445559, '5*2+0': 0.6851401553024477, '5*2+1': -1.4325289129712004, '5*2+2': 2.8546693445279265, '5*2+3': 1.6580209221331277, '5*2+4': -2.042393385491398, '5*3+0': 5.292573417129983, '5*3+1': 0.46437935894377164, '5*3+2': 1.8778063675379524, '5*3+3': 4.3094364226072015, '5*3+4': -4.504421800202963, '5*4+0': 4.187388524653234, '5*4+1': 0.7155969252989989, '5*4+2': 3.8830100127059266, '5*4+3': 2.7871729760191046, '5*4+4': -0.1717293160706287}. Best is trial 18 with value: 4.9530735368673575.\u001b[0m\n",
      "\u001b[32m[I 2022-04-07 15:24:08,427]\u001b[0m Trial 22 finished with value: 7.580591140011781 and parameters: {'5*0+0': -3.1778880856467056, '5*0+1': 0.26224149181311085, '5*0+2': 0.014487265842911823, '5*0+3': 0.7901164959856668, '5*0+4': -2.416818925228892, '5*1+0': -2.3500714900796273, '5*1+1': -0.45867410499130434, '5*1+2': -1.9921353707492562, '5*1+3': -4.223440192902304, '5*1+4': 1.955546706022949, '5*2+0': 0.4795915169788703, '5*2+1': 5.156520933570751, '5*2+2': 6.168402978116453, '5*2+3': -5.498803197843203, '5*2+4': -2.8451469656298802, '5*3+0': -1.8809871852715117, '5*3+1': -1.8247807513826326, '5*3+2': -0.4032735602260329, '5*3+3': -2.0040728098069476, '5*3+4': 1.8039623997792473, '5*4+0': 0.3943803243149944, '5*4+1': 0.25869102957804124, '5*4+2': 0.5180647147734049, '5*4+3': -0.7292690591265185, '5*4+4': -3.1431065278088437}. Best is trial 18 with value: 4.9530735368673575.\u001b[0m\n",
      "\u001b[32m[I 2022-04-07 15:24:08,673]\u001b[0m Trial 23 finished with value: 8.374362098301827 and parameters: {'5*0+0': -1.48736031761484, '5*0+1': -0.508151713309664, '5*0+2': -0.4377099535594142, '5*0+3': -1.299631143888356, '5*0+4': -5.874426357179357, '5*1+0': -7.4632239508586435, '5*1+1': 3.789748183607443, '5*1+2': 0.491788537357817, '5*1+3': 2.8575892558751437, '5*1+4': 2.6744076494379283, '5*2+0': 2.045224926982143, '5*2+1': -0.8894982123881574, '5*2+2': 1.2923427657110456, '5*2+3': 1.9622452734330875, '5*2+4': 4.3569730408006935, '5*3+0': -6.29951279051933, '5*3+1': -1.4079682594575889, '5*3+2': -1.5738764624002224, '5*3+3': 3.5327386787635233, '5*3+4': -6.713856742455049, '5*4+0': 0.1550684159605067, '5*4+1': 2.573959171921675, '5*4+2': -4.331334921764592, '5*4+3': 0.4442191874075312, '5*4+4': 0.17983405398684627}. Best is trial 18 with value: 4.9530735368673575.\u001b[0m\n",
      "\u001b[32m[I 2022-04-07 15:24:08,934]\u001b[0m Trial 24 finished with value: 2.6533667165629504 and parameters: {'5*0+0': 2.934055373890973, '5*0+1': -1.6132075381126632, '5*0+2': 4.47182280675757, '5*0+3': -4.954837329832812, '5*0+4': 2.096572017543418, '5*1+0': 1.0343062056625048, '5*1+1': -5.169837865849054, '5*1+2': 1.1866442960170516, '5*1+3': -0.9158364451279779, '5*1+4': 2.5561419412479793, '5*2+0': 0.7216158540786135, '5*2+1': -2.3163880050275525, '5*2+2': 2.467922277471902, '5*2+3': 1.5243207490392985, '5*2+4': -0.44326096310928453, '5*3+0': 0.9661095148040116, '5*3+1': -2.316467652003286, '5*3+2': -1.30177834797222, '5*3+3': 0.15704592799560357, '5*3+4': -6.322786481068176, '5*4+0': 0.7754436964558862, '5*4+1': 1.7906125191090625, '5*4+2': 8.419105933057502, '5*4+3': -3.502997805925893, '5*4+4': -0.6078780596345725}. Best is trial 24 with value: 2.6533667165629504.\u001b[0m\n",
      "\u001b[32m[I 2022-04-07 15:24:09,198]\u001b[0m Trial 25 finished with value: 6.358288436081402 and parameters: {'5*0+0': -1.4775516951294998, '5*0+1': -3.2999295306837686, '5*0+2': 2.287267904730209, '5*0+3': -1.6059311521317439, '5*0+4': -3.6364872658452736, '5*1+0': -0.08062285057380081, '5*1+1': 2.3359598461848288, '5*1+2': 6.526693239698569, '5*1+3': -3.2790137316919203, '5*1+4': -1.7930041817253675, '5*2+0': 3.4507251780891943, '5*2+1': 0.1622233209422237, '5*2+2': -4.9256084018347295, '5*2+3': 5.6709118806489816, '5*2+4': -2.335168457144939, '5*3+0': 0.8579915632821087, '5*3+1': 1.2664049198289085, '5*3+2': 0.3330948514588348, '5*3+3': 7.247929022341668, '5*3+4': -3.299884648990314, '5*4+0': -0.6207096615901958, '5*4+1': 3.2648739058879723, '5*4+2': 1.3746170395104955, '5*4+3': -3.5174708927598592, '5*4+4': 4.987279602883005}. Best is trial 24 with value: 2.6533667165629504.\u001b[0m\n",
      "\u001b[32m[I 2022-04-07 15:24:09,398]\u001b[0m Trial 26 finished with value: 5.320769463504683 and parameters: {'5*0+0': 2.479483615851375, '5*0+1': 2.375111053098193, '5*0+2': 1.928224065067912, '5*0+3': -0.8991149289177759, '5*0+4': -3.273190239316659, '5*1+0': 0.7483135357477279, '5*1+1': -3.9407168362744316, '5*1+2': 0.9983818346299177, '5*1+3': 5.26806117389766, '5*1+4': -3.000183178242176, '5*2+0': 4.37570557549775, '5*2+1': 4.057773018969471, '5*2+2': 3.3231246946874204, '5*2+3': -1.6966920504884873, '5*2+4': -3.0812806847221044, '5*3+0': -1.733095548979068, '5*3+1': -5.176474159059581, '5*3+2': -0.1734004799157638, '5*3+3': 3.1504429207812388, '5*3+4': -2.3703301855033256, '5*4+0': 3.6853013701617265, '5*4+1': -0.853932761948375, '5*4+2': 1.3473606837926688, '5*4+3': 1.0539303719373292, '5*4+4': 0.4293430699958597}. Best is trial 24 with value: 2.6533667165629504.\u001b[0m\n",
      "\u001b[32m[I 2022-04-07 15:24:09,608]\u001b[0m Trial 27 finished with value: 7.073606045677975 and parameters: {'5*0+0': -1.9277568184297214, '5*0+1': -3.752783428956562, '5*0+2': 4.532499146483811, '5*0+3': -5.290297485427846, '5*0+4': -0.9002791116172376, '5*1+0': -2.031996345715785, '5*1+1': -1.9948901428347001, '5*1+2': 7.823120718092717, '5*1+3': 2.6734094064363703, '5*1+4': 0.3894980840371346, '5*2+0': 2.0820932144678803, '5*2+1': -4.243641491777424, '5*2+2': -1.8485041464288656, '5*2+3': -0.340249732365291, '5*2+4': 2.363964235189645, '5*3+0': 1.6977812892326707, '5*3+1': 1.331739855434984, '5*3+2': -4.649175514293143, '5*3+3': 3.8197930624421916, '5*3+4': 1.571347242834416, '5*4+0': 0.9381988169825765, '5*4+1': 0.9722136485502214, '5*4+2': 3.6365251537306644, '5*4+3': -3.31950820305656, '5*4+4': 0.7401808363221324}. Best is trial 24 with value: 2.6533667165629504.\u001b[0m\n",
      "\u001b[32m[I 2022-04-07 15:24:09,852]\u001b[0m Trial 28 finished with value: 9.953383029224131 and parameters: {'5*0+0': -4.733307858467793, '5*0+1': -1.5852068734829061, '5*0+2': 5.474304399613486, '5*0+3': -4.186551272010235, '5*0+4': 1.3838955493214748, '5*1+0': -1.2617422275563324, '5*1+1': 1.9224203326035056, '5*1+2': 1.208729151641775, '5*1+3': -3.484031785198839, '5*1+4': -0.47977413589074946, '5*2+0': -1.17122958498096, '5*2+1': -1.451180341694335, '5*2+2': -1.0608404465382826, '5*2+3': -2.3097571459777115, '5*2+4': -6.3127246824152, '5*3+0': 1.6061369653101396, '5*3+1': -4.72600993505892, '5*3+2': -5.376394299843269, '5*3+3': -7.366978424044979, '5*3+4': -3.314001830551799, '5*4+0': -4.3699060808499, '5*4+1': -3.17434098723753, '5*4+2': -1.630663268619886, '5*4+3': -3.0980812894569496, '5*4+4': 2.0199162473731116}. Best is trial 24 with value: 2.6533667165629504.\u001b[0m\n",
      "\u001b[32m[I 2022-04-07 15:24:10,126]\u001b[0m Trial 29 finished with value: 7.870200846721554 and parameters: {'5*0+0': 3.1602620604104192, '5*0+1': -1.451299043126151, '5*0+2': 0.09058481221654002, '5*0+3': -1.5182366776188445, '5*0+4': -2.387442382244529, '5*1+0': 1.4289100772095407, '5*1+1': -3.09187420012944, '5*1+2': 0.8682950510035552, '5*1+3': -1.3987056334413999, '5*1+4': 3.0951745949406573, '5*2+0': -1.0365649726787058, '5*2+1': -0.49145084751628326, '5*2+2': 6.523105528944768, '5*2+3': -4.7562843250841285, '5*2+4': -2.2605788505467874, '5*3+0': 1.8613586874100139, '5*3+1': 1.1573265996164959, '5*3+2': -4.249847638001891, '5*3+3': -1.0213045963426766, '5*3+4': -6.265589263120704, '5*4+0': 0.7994238972867347, '5*4+1': 1.3430814028895064, '5*4+2': 6.2721531955380225, '5*4+3': -2.4039580401221263, '5*4+4': 4.2628064487112844}. Best is trial 24 with value: 2.6533667165629504.\u001b[0m\n"
     ]
    },
    {
     "name": "stderr",
     "output_type": "stream",
     "text": [
      "\u001b[32m[I 2022-04-07 15:24:10,405]\u001b[0m Trial 30 finished with value: 6.151491761352578 and parameters: {'5*0+0': 2.57713620237163, '5*0+1': -0.8969401044768188, '5*0+2': 2.716173515593155, '5*0+3': -3.515643893797053, '5*0+4': -1.7495069769275333, '5*1+0': 7.230728628359301, '5*1+1': -1.504983436723461, '5*1+2': 7.2933273772956975, '5*1+3': 1.4163527394352409, '5*1+4': 2.617092866281327, '5*2+0': 0.16683134153910173, '5*2+1': -1.8709509649211067, '5*2+2': 0.7764965142402616, '5*2+3': 1.3805209316044604, '5*2+4': -2.5648513864012887, '5*3+0': 0.30870870647300097, '5*3+1': -3.7153453455727554, '5*3+2': -0.9038627838821081, '5*3+3': 1.3930582943012053, '5*3+4': -7.68783213273346, '5*4+0': 5.086767846001425, '5*4+1': 1.1883529427359814, '5*4+2': 9.34292878111132, '5*4+3': -2.8493976625620956, '5*4+4': 3.6146466620328432}. Best is trial 24 with value: 2.6533667165629504.\u001b[0m\n",
      "\u001b[32m[I 2022-04-07 15:24:10,688]\u001b[0m Trial 31 finished with value: 6.952471635617147 and parameters: {'5*0+0': 2.740318718051553, '5*0+1': 1.306051800881747, '5*0+2': 2.1477980062975046, '5*0+3': -1.1598608435470559, '5*0+4': 3.6578881909031793, '5*1+0': -0.3115747338023713, '5*1+1': -0.06634978532494588, '5*1+2': 1.597598127217516, '5*1+3': 1.8769196459545918, '5*1+4': 6.385580160010473, '5*2+0': -0.7810167562203406, '5*2+1': -2.0153289894051705, '5*2+2': 4.749411258753732, '5*2+3': 5.239219983667065, '5*2+4': 0.3703239080854974, '5*3+0': 6.070299965521306, '5*3+1': -3.7141111394096527, '5*3+2': -3.1016061249231592, '5*3+3': 0.9246581647311629, '5*3+4': -3.0666235217134012, '5*4+0': -1.003881628047669, '5*4+1': -2.8263010499080488, '5*4+2': 3.970378199186892, '5*4+3': -1.2589918862452572, '5*4+4': 0.9728106232263556}. Best is trial 24 with value: 2.6533667165629504.\u001b[0m\n",
      "\u001b[32m[I 2022-04-07 15:24:11,006]\u001b[0m Trial 32 finished with value: 11.270204133056417 and parameters: {'5*0+0': 3.7874501149637285, '5*0+1': 4.558326357901697, '5*0+2': 6.509102703104972, '5*0+3': -8.313085714941415, '5*0+4': -0.17384313440940907, '5*1+0': 0.28145952905487465, '5*1+1': 0.7152453263054223, '5*1+2': 5.510658900756505, '5*1+3': 0.26515445909751534, '5*1+4': -0.4854234467622702, '5*2+0': -0.309022939537525, '5*2+1': 0.833473374859786, '5*2+2': -3.9490830330067785, '5*2+3': 0.2463176380840329, '5*2+4': -3.537441933790748, '5*3+0': -2.292300787681549, '5*3+1': -4.830221507297419, '5*3+2': -5.572171350797087, '5*3+3': -2.664844677061051, '5*3+4': -3.838910648861563, '5*4+0': 6.100991689992808, '5*4+1': 4.462752232186477, '5*4+2': 3.512965545122593, '5*4+3': -4.2648224937809625, '5*4+4': 3.238601476587223}. Best is trial 24 with value: 2.6533667165629504.\u001b[0m\n",
      "\u001b[32m[I 2022-04-07 15:24:11,279]\u001b[0m Trial 33 finished with value: 13.35183224104894 and parameters: {'5*0+0': -2.315668503577029, '5*0+1': 0.783091010667043, '5*0+2': 1.090950739137011, '5*0+3': -1.845098048956908, '5*0+4': -2.5504749361894583, '5*1+0': 0.45916202213671703, '5*1+1': 3.3116824331941332, '5*1+2': 6.84388149888261, '5*1+3': 0.7291486103827008, '5*1+4': 0.09036948089525954, '5*2+0': -1.161036600030709, '5*2+1': 5.436244103406841, '5*2+2': -2.500710963191449, '5*2+3': -0.5879958739015833, '5*2+4': -5.687658812392406, '5*3+0': 3.439290675264449, '5*3+1': -1.2576186081683554, '5*3+2': 1.903505001832393, '5*3+3': 5.090405308741392, '5*3+4': -2.322143935833397, '5*4+0': -0.7131620095075015, '5*4+1': 0.9844510942307123, '5*4+2': 7.096980896433493, '5*4+3': 0.5337530620202444, '5*4+4': -4.1017484841880485}. Best is trial 24 with value: 2.6533667165629504.\u001b[0m\n",
      "\u001b[32m[I 2022-04-07 15:24:11,585]\u001b[0m Trial 34 finished with value: 7.9173562119504535 and parameters: {'5*0+0': -2.410842049697179, '5*0+1': -1.385236257738316, '5*0+2': 0.11460342417797387, '5*0+3': -2.130925360734398, '5*0+4': 4.659455787245949, '5*1+0': 1.563973011869587, '5*1+1': 1.1302503573518172, '5*1+2': 0.9014008780805551, '5*1+3': 0.41326189237421795, '5*1+4': 2.0413494258299405, '5*2+0': -0.28553185694732236, '5*2+1': -0.4577780407286511, '5*2+2': 1.5130188294584255, '5*2+3': 3.09693556082185, '5*2+4': -1.8104521090850096, '5*3+0': 3.6476401067483373, '5*3+1': -0.36743194821154834, '5*3+2': -6.076363632714346, '5*3+3': -2.483288092254253, '5*3+4': -2.606606821739046, '5*4+0': -0.6993493038829204, '5*4+1': 5.3439179156727485, '5*4+2': 3.286152872154003, '5*4+3': -0.7576305899945159, '5*4+4': -2.676692088292465}. Best is trial 24 with value: 2.6533667165629504.\u001b[0m\n",
      "\u001b[32m[I 2022-04-07 15:24:11,882]\u001b[0m Trial 35 finished with value: 10.794036093998237 and parameters: {'5*0+0': -0.009881257239951813, '5*0+1': 5.749045513921668, '5*0+2': 7.014045139629075, '5*0+3': -4.149419433189371, '5*0+4': -0.40882605754633516, '5*1+0': 3.8823988058994012, '5*1+1': -2.429490290541132, '5*1+2': 2.99802538323509, '5*1+3': 0.41651519787850155, '5*1+4': 3.7415146149327168, '5*2+0': -0.8605758674032289, '5*2+1': 1.4517588761787172, '5*2+2': 3.910468036727627, '5*2+3': 1.551845064228849, '5*2+4': -0.6159350768620965, '5*3+0': 2.8118899615748036, '5*3+1': -4.732228278910959, '5*3+2': -8.210506238139796, '5*3+3': -1.838338161265029, '5*3+4': -9.270763737139767, '5*4+0': 4.257868662341753, '5*4+1': 5.691957737826814, '5*4+2': 2.2093721721959607, '5*4+3': -0.7263352694152032, '5*4+4': 4.744992992952855}. Best is trial 24 with value: 2.6533667165629504.\u001b[0m\n",
      "\u001b[32m[I 2022-04-07 15:24:12,155]\u001b[0m Trial 36 finished with value: 8.32798864713273 and parameters: {'5*0+0': 4.010367960101545, '5*0+1': -1.0548760588654562, '5*0+2': 0.5609051785238082, '5*0+3': -4.481927119593747, '5*0+4': -0.936563936666078, '5*1+0': 2.3923397922824137, '5*1+1': -5.550182091890227, '5*1+2': 5.085974237698647, '5*1+3': 1.7265566508367467, '5*1+4': -0.5444591680630035, '5*2+0': -2.100885944452134, '5*2+1': -4.186683292625983, '5*2+2': -2.441334956663485, '5*2+3': -0.28655162218334174, '5*2+4': 0.31182099441634903, '5*3+0': 2.8816528206559067, '5*3+1': -2.1935256629161963, '5*3+2': 0.44633835092773033, '5*3+3': -1.402388142752286, '5*3+4': -7.011071669264176, '5*4+0': 2.496646868969277, '5*4+1': 2.6748417860421956, '5*4+2': 5.689745045045016, '5*4+3': -3.7080917366297554, '5*4+4': 1.003526923618006}. Best is trial 24 with value: 2.6533667165629504.\u001b[0m\n",
      "\u001b[32m[I 2022-04-07 15:24:12,431]\u001b[0m Trial 37 finished with value: 7.141895063582044 and parameters: {'5*0+0': 1.4520748100820722, '5*0+1': -0.20316835598230304, '5*0+2': 6.898844750247932, '5*0+3': 1.7194849837040898, '5*0+4': -1.7572018880671103, '5*1+0': -3.489996467273127, '5*1+1': -0.9257438905095939, '5*1+2': 4.8673943263959, '5*1+3': -1.8309641365571947, '5*1+4': 9.086673819293416, '5*2+0': 0.1553393797358662, '5*2+1': -4.03884314428814, '5*2+2': -4.600496337310018, '5*2+3': 1.3626864242797874, '5*2+4': 0.6399972200476938, '5*3+0': -0.8651644378424237, '5*3+1': 1.1910688960582538, '5*3+2': -4.449010443370034, '5*3+3': 1.0816149744735106, '5*3+4': -8.241998529110871, '5*4+0': 1.0886245549413713, '5*4+1': 3.840996635349925, '5*4+2': 3.7611020204959957, '5*4+3': -0.0916945273372689, '5*4+4': -4.670668673840566}. Best is trial 24 with value: 2.6533667165629504.\u001b[0m\n",
      "\u001b[32m[I 2022-04-07 15:24:12,710]\u001b[0m Trial 38 finished with value: 3.5276217349238204 and parameters: {'5*0+0': -2.4558798465106517, '5*0+1': 3.30810157300974, '5*0+2': 2.0991674913994807, '5*0+3': -5.314930725813891, '5*0+4': -2.1337675164991543, '5*1+0': 1.457341223944625, '5*1+1': 2.0810838505027682, '5*1+2': 5.804617583304951, '5*1+3': -3.162543758988141, '5*1+4': -3.0992318008237687, '5*2+0': 0.6087820558578498, '5*2+1': -2.8107330673897484, '5*2+2': 1.822620867005394, '5*2+3': -1.9380805087846595, '5*2+4': 1.8602151035189995, '5*3+0': 0.7509059111497631, '5*3+1': -5.889251735506164, '5*3+2': -8.924681434939789, '5*3+3': 4.255454897705837, '5*3+4': -3.6655583763864104, '5*4+0': 1.1240491332401013, '5*4+1': 0.26078998493551864, '5*4+2': 1.597825659070676, '5*4+3': -3.4645672420041933, '5*4+4': -4.312604799141578}. Best is trial 24 with value: 2.6533667165629504.\u001b[0m\n",
      "\u001b[32m[I 2022-04-07 15:24:12,967]\u001b[0m Trial 39 finished with value: 9.180670986743166 and parameters: {'5*0+0': -0.41336584272532884, '5*0+1': 2.4560712691833784, '5*0+2': 0.4012142898944675, '5*0+3': 0.12156268499917466, '5*0+4': 3.661125221776544, '5*1+0': 6.668146234278591, '5*1+1': 1.6464707337801203, '5*1+2': 1.461105798656476, '5*1+3': 1.2822233723286423, '5*1+4': -2.21402988918102, '5*2+0': 1.845034691903292, '5*2+1': 0.979379331949978, '5*2+2': 1.390005804882468, '5*2+3': -0.8199051342297906, '5*2+4': -1.0835702733592227, '5*3+0': -0.36579473556138975, '5*3+1': -0.36646639822806404, '5*3+2': -6.328105186472582, '5*3+3': -1.5414230134179567, '5*3+4': -0.5810366927570185, '5*4+0': 4.013021019880601, '5*4+1': 2.638053784539909, '5*4+2': 1.6662347707404819, '5*4+3': -4.715466747579414, '5*4+4': -1.9157607792486753}. Best is trial 24 with value: 2.6533667165629504.\u001b[0m\n"
     ]
    },
    {
     "name": "stderr",
     "output_type": "stream",
     "text": [
      "\u001b[32m[I 2022-04-07 15:24:13,263]\u001b[0m Trial 40 finished with value: 10.450453114045256 and parameters: {'5*0+0': -1.8239426958274614, '5*0+1': 0.6999998914551964, '5*0+2': 4.764541212649337, '5*0+3': -4.758417803127135, '5*0+4': -0.6662384638413423, '5*1+0': 4.537892229879204, '5*1+1': 4.065560345230526, '5*1+2': 0.8345995268759543, '5*1+3': -5.774498020218192, '5*1+4': -0.7359864308969959, '5*2+0': 2.4006318000321727, '5*2+1': -3.355622973114984, '5*2+2': 3.231548388520614, '5*2+3': -2.2909508715625906, '5*2+4': -0.7243802486714079, '5*3+0': 1.31803491973, '5*3+1': -1.6753492379955084, '5*3+2': -2.679359191627833, '5*3+3': 3.8566491592910497, '5*3+4': -5.7295482921980785, '5*4+0': -1.5921298554254968, '5*4+1': 1.0695123407603804, '5*4+2': 3.968112974360229, '5*4+3': -4.196742528719346, '5*4+4': -0.21426650602774255}. Best is trial 24 with value: 2.6533667165629504.\u001b[0m\n",
      "\u001b[32m[I 2022-04-07 15:24:13,509]\u001b[0m Trial 41 finished with value: 5.293099309237768 and parameters: {'5*0+0': -2.5742930566200846, '5*0+1': 2.8128376468738763, '5*0+2': 2.3610138705961643, '5*0+3': -1.101942809307273, '5*0+4': -0.328462647692916, '5*1+0': -1.1792061465279753, '5*1+1': 0.3001787055238242, '5*1+2': 2.8948341222691765, '5*1+3': 1.1799343707427026, '5*1+4': -0.5680080957011349, '5*2+0': 2.3037989762482383, '5*2+1': -6.697283624455798, '5*2+2': -0.1968281286076694, '5*2+3': -3.479843325593305, '5*2+4': -3.9380838741797093, '5*3+0': -1.22495109204423, '5*3+1': -5.260757699894984, '5*3+2': -7.749883303019996, '5*3+3': 1.9582534119923176, '5*3+4': -5.38794864302419, '5*4+0': 4.825394046306692, '5*4+1': 2.186602513288025, '5*4+2': 0.08265669108419527, '5*4+3': -2.0712867316838635, '5*4+4': -3.1957387346586663}. Best is trial 24 with value: 2.6533667165629504.\u001b[0m\n",
      "\u001b[32m[I 2022-04-07 15:24:13,762]\u001b[0m Trial 42 finished with value: 7.343672698825664 and parameters: {'5*0+0': -1.289358144849814, '5*0+1': 5.804235858694941, '5*0+2': 4.053905575269425, '5*0+3': -8.636069225702162, '5*0+4': -0.594608530522122, '5*1+0': 0.03407660855377226, '5*1+1': -0.8256005091102538, '5*1+2': 6.004302437898978, '5*1+3': -0.444921216271714, '5*1+4': -3.1875735843891913, '5*2+0': 3.403960047152322, '5*2+1': -2.8106378580481084, '5*2+2': 0.44152979940232007, '5*2+3': -4.559380176722229, '5*2+4': -1.9471753851350333, '5*3+0': 0.49235447810005906, '5*3+1': -3.267298751281109, '5*3+2': -4.57929605295568, '5*3+3': 1.9306048966621554, '5*3+4': -2.030200392421494, '5*4+0': 0.7253918139735251, '5*4+1': 0.21607515539497774, '5*4+2': 4.094197699127786, '5*4+3': -5.814419382917546, '5*4+4': -3.8733370173517203}. Best is trial 24 with value: 2.6533667165629504.\u001b[0m\n",
      "\u001b[32m[I 2022-04-07 15:24:14,077]\u001b[0m Trial 43 finished with value: 12.26536410108409 and parameters: {'5*0+0': 4.65191250366412, '5*0+1': 0.9892296547654944, '5*0+2': 1.9035386773723781, '5*0+3': -5.960203052961211, '5*0+4': -2.40840700062345, '5*1+0': -0.4658104462822661, '5*1+1': -1.712883001317934, '5*1+2': 5.6334556780788105, '5*1+3': -0.962798563241734, '5*1+4': 6.535583579207129, '5*2+0': -1.763716395683566, '5*2+1': -5.776753126549115, '5*2+2': -4.7552667933167765, '5*2+3': -1.4565328202321053, '5*2+4': -1.5174799307828706, '5*3+0': 2.228846145494984, '5*3+1': 3.659304338657711, '5*3+2': -6.204136096156642, '5*3+3': 3.887656213378274, '5*3+4': -5.762861024212632, '5*4+0': -0.9702971608346129, '5*4+1': 0.5529328649847498, '5*4+2': 3.2624850558101297, '5*4+3': 2.390795751456227, '5*4+4': -0.898880539403717}. Best is trial 24 with value: 2.6533667165629504.\u001b[0m\n",
      "\u001b[32m[I 2022-04-07 15:24:14,320]\u001b[0m Trial 44 finished with value: 6.783120232231316 and parameters: {'5*0+0': -0.18558236026442926, '5*0+1': -0.6231381379483467, '5*0+2': 5.7955144943233226, '5*0+3': -2.6053740825618594, '5*0+4': 6.772917181337603, '5*1+0': -5.380305513766272, '5*1+1': 0.8801424831682769, '5*1+2': 5.678585786888178, '5*1+3': -2.508309759986404, '5*1+4': 4.854780176533922, '5*2+0': 4.4595598735476525, '5*2+1': -4.390677928037659, '5*2+2': -1.2961287767704386, '5*2+3': 2.3353766064156583, '5*2+4': 1.2912154486247032, '5*3+0': 2.0158863299336094, '5*3+1': -3.1513669476320603, '5*3+2': -8.247034761791554, '5*3+3': 6.8804094056039915, '5*3+4': -3.949811780940275, '5*4+0': 1.3874272592164854, '5*4+1': -0.444744446870911, '5*4+2': 2.2237209213273594, '5*4+3': 0.38271984755814703, '5*4+4': -0.49310512245423954}. Best is trial 24 with value: 2.6533667165629504.\u001b[0m\n",
      "\u001b[32m[I 2022-04-07 15:24:14,590]\u001b[0m Trial 45 finished with value: 10.31378121325518 and parameters: {'5*0+0': 3.9306926931894193, '5*0+1': -0.927922658222978, '5*0+2': 1.9159341141648627, '5*0+3': -4.36125263081036, '5*0+4': 0.5822895373641294, '5*1+0': -0.37737712595750983, '5*1+1': 3.2741151248429947, '5*1+2': 6.4999175476132836, '5*1+3': -1.9639694944020123, '5*1+4': 3.287553266811891, '5*2+0': 1.852701724503594, '5*2+1': -1.4403688769501284, '5*2+2': 2.562241178540898, '5*2+3': -2.4621476587289344, '5*2+4': 2.484446932439532, '5*3+0': 5.35079851916511, '5*3+1': -3.962392118245539, '5*3+2': -8.96676681555477, '5*3+3': 4.687001642649683, '5*3+4': -4.661916324222836, '5*4+0': -1.6608801239777888, '5*4+1': 0.7915043549882061, '5*4+2': 6.01230488409323, '5*4+3': -3.286516016117795, '5*4+4': -2.686989733938889}. Best is trial 24 with value: 2.6533667165629504.\u001b[0m\n",
      "\u001b[32m[I 2022-04-07 15:24:14,905]\u001b[0m Trial 46 finished with value: 12.957449267927746 and parameters: {'5*0+0': -1.806405382539543, '5*0+1': -2.3778276146685444, '5*0+2': 2.947687241424923, '5*0+3': -3.4608061336006792, '5*0+4': 0.5520987975600148, '5*1+0': 0.9980277769349152, '5*1+1': 7.570143828673178, '5*1+2': 6.8251798505802395, '5*1+3': -3.573809399646314, '5*1+4': -2.0578646570741883, '5*2+0': 2.9976963802454852, '5*2+1': -7.612881052166649, '5*2+2': 1.5400464793431965, '5*2+3': -2.504393235846207, '5*2+4': 2.471703809735304, '5*3+0': 5.811529987627754, '5*3+1': -4.241395998283973, '5*3+2': -6.009378679521058, '5*3+3': 2.3749677845977395, '5*3+4': -1.4980864637659446, '5*4+0': 1.72023717938563, '5*4+1': -2.3312286116902303, '5*4+2': 2.1368049847439736, '5*4+3': -2.8822782247262886, '5*4+4': -3.3096318875521056}. Best is trial 24 with value: 2.6533667165629504.\u001b[0m\n",
      "\u001b[32m[I 2022-04-07 15:24:15,219]\u001b[0m Trial 47 finished with value: 10.02914635440338 and parameters: {'5*0+0': 5.895429931908831, '5*0+1': 1.6335021552189681, '5*0+2': 2.7568317541060305, '5*0+3': -3.3948056300451857, '5*0+4': -0.8850286120053128, '5*1+0': 2.0260236113413863, '5*1+1': 1.3386891961584688, '5*1+2': 6.015993484325649, '5*1+3': 1.0713058310993244, '5*1+4': -1.0687237508837524, '5*2+0': -0.8903044846345745, '5*2+1': 0.9544634759321968, '5*2+2': -4.320058861877136, '5*2+3': -5.307715536814078, '5*2+4': 0.26752166241237374, '5*3+0': 1.1279163089258366, '5*3+1': -7.424017003132354, '5*3+2': -4.230440212332787, '5*3+3': 6.597455305110767, '5*3+4': 0.6424406597480994, '5*4+0': 1.543636321137216, '5*4+1': -0.21683442564266547, '5*4+2': 1.8830511243126296, '5*4+3': -3.4410705490294555, '5*4+4': -3.3731368750722686}. Best is trial 24 with value: 2.6533667165629504.\u001b[0m\n",
      "\u001b[32m[I 2022-04-07 15:24:15,528]\u001b[0m Trial 48 finished with value: 8.458189456559074 and parameters: {'5*0+0': -4.685205014104726, '5*0+1': 1.132611768813017, '5*0+2': 3.5468314776894725, '5*0+3': -1.8380588070007111, '5*0+4': -6.403001286064645, '5*1+0': -5.428776068003842, '5*1+1': -0.7289586439598588, '5*1+2': 5.002009499318302, '5*1+3': -7.259446889521284, '5*1+4': -3.5159846105267625, '5*2+0': 3.6932175730999677, '5*2+1': -2.727162707889303, '5*2+2': 3.7726921479149125, '5*2+3': 1.3511225286843878, '5*2+4': 1.5901289361440787, '5*3+0': 2.135874916776504, '5*3+1': -2.716496372207703, '5*3+2': -4.180700211762916, '5*3+3': -0.5516640778468909, '5*3+4': -5.67795672698219, '5*4+0': 3.0593729050911884, '5*4+1': 1.9281403360086913, '5*4+2': 6.500277891250169, '5*4+3': 2.45690863771423, '5*4+4': -1.4533699870614742}. Best is trial 24 with value: 2.6533667165629504.\u001b[0m\n",
      "\u001b[32m[I 2022-04-07 15:24:15,795]\u001b[0m Trial 49 finished with value: 16.399857889119687 and parameters: {'5*0+0': 1.298097604676103, '5*0+1': 0.7701996731855023, '5*0+2': 7.991380233831838, '5*0+3': -6.358460991815139, '5*0+4': 2.512336649595183, '5*1+0': 3.447509505652869, '5*1+1': -4.189659028896172, '5*1+2': 4.1029895854290155, '5*1+3': 5.232257733018155, '5*1+4': -0.2986333518316098, '5*2+0': 3.0380410065921812, '5*2+1': -0.9563634284981783, '5*2+2': -0.35080235927495806, '5*2+3': -2.7569584067399298, '5*2+4': -1.408920521889377, '5*3+0': -0.5788734882193016, '5*3+1': -1.9672485082914986, '5*3+2': -8.505748543224328, '5*3+3': 3.097846350478452, '5*3+4': -0.24208795066270827, '5*4+0': 0.13406476220392327, '5*4+1': 0.2801068838786525, '5*4+2': 1.6699738948763398, '5*4+3': -4.5594018718011196, '5*4+4': 2.9043183431811816}. Best is trial 24 with value: 2.6533667165629504.\u001b[0m\n"
     ]
    },
    {
     "name": "stderr",
     "output_type": "stream",
     "text": [
      "\u001b[32m[I 2022-04-07 15:24:16,061]\u001b[0m Trial 50 finished with value: 8.546280979415732 and parameters: {'5*0+0': -4.375004571323781, '5*0+1': 1.5615669506014154, '5*0+2': 2.7207864508428945, '5*0+3': -3.425908471504561, '5*0+4': -2.2279286499791873, '5*1+0': 2.3633929703834022, '5*1+1': -4.796043970765267, '5*1+2': 8.218614593546063, '5*1+3': 0.45059848685456044, '5*1+4': 6.1301391174295805, '5*2+0': 1.7418083323889595, '5*2+1': 1.1631888556832322, '5*2+2': 1.8097053348138117, '5*2+3': 6.377712793365341, '5*2+4': -2.683734780794052, '5*3+0': -0.2245782384878776, '5*3+1': -6.49354011869362, '5*3+2': -4.123782092794594, '5*3+3': 0.10484712635841964, '5*3+4': -0.3722510268743533, '5*4+0': 1.055148773836523, '5*4+1': 2.6867686610395127, '5*4+2': 6.701057737559406, '5*4+3': -4.459564005924938, '5*4+4': -1.506430583294176}. Best is trial 24 with value: 2.6533667165629504.\u001b[0m\n",
      "\u001b[32m[I 2022-04-07 15:24:16,315]\u001b[0m Trial 51 finished with value: 10.137051651227196 and parameters: {'5*0+0': -2.8494064155760306, '5*0+1': 0.8277372590502164, '5*0+2': 2.822917677738899, '5*0+3': -4.822354758582044, '5*0+4': 0.540446144795396, '5*1+0': 2.0185612561158814, '5*1+1': -3.5857848772110925, '5*1+2': 7.966487554634908, '5*1+3': -0.6947464626688771, '5*1+4': 1.757389034888884, '5*2+0': -0.10440583929739755, '5*2+1': -0.11713675371360299, '5*2+2': 2.6357149680268117, '5*2+3': 1.3154756765388447, '5*2+4': -0.2088062539808, '5*3+0': 4.472986361540368, '5*3+1': 0.570120449191371, '5*3+2': -8.988847371143102, '5*3+3': 2.502257070279306, '5*3+4': -6.317905057043732, '5*4+0': 1.7066886269108352, '5*4+1': 0.33219567650555043, '5*4+2': -0.5390358004952489, '5*4+3': -6.610812816158387, '5*4+4': -0.596191674624671}. Best is trial 24 with value: 2.6533667165629504.\u001b[0m\n",
      "\u001b[32m[I 2022-04-07 15:24:16,561]\u001b[0m Trial 52 finished with value: 12.06956874011759 and parameters: {'5*0+0': 4.018061874429926, '5*0+1': -2.8325544461168493, '5*0+2': 5.994748720566131, '5*0+3': -1.966684467768291, '5*0+4': -1.9363503308991694, '5*1+0': 5.580736598060231, '5*1+1': 2.370867586086726, '5*1+2': 1.3327369034851344, '5*1+3': -0.08599122992490438, '5*1+4': -0.15579613430044037, '5*2+0': 0.7570836991645995, '5*2+1': -5.654032293475888, '5*2+2': 1.9599996065930074, '5*2+3': 0.09351706189962261, '5*2+4': -0.32235268576137166, '5*3+0': 1.229272289346872, '5*3+1': -1.8161361098339004, '5*3+2': -3.200187523231575, '5*3+3': 1.353351962231142, '5*3+4': -3.846620330665105, '5*4+0': -0.1791068332835255, '5*4+1': -3.668189637155366, '5*4+2': 3.3351828864580417, '5*4+3': -0.4627645835106633, '5*4+4': -1.0151309635535064}. Best is trial 24 with value: 2.6533667165629504.\u001b[0m\n",
      "\u001b[32m[I 2022-04-07 15:24:16,817]\u001b[0m Trial 53 finished with value: 4.981446030533313 and parameters: {'5*0+0': -4.143124112296687, '5*0+1': 1.8604131009785687, '5*0+2': 2.820061268128883, '5*0+3': -4.308901712714598, '5*0+4': 1.5357018006190697, '5*1+0': 0.15551165953168145, '5*1+1': -4.3735119150646256, '5*1+2': 8.867444294050276, '5*1+3': -1.410143186731112, '5*1+4': 0.9405241123487489, '5*2+0': 5.9811927918749035, '5*2+1': -4.387441963652137, '5*2+2': 2.3361291523825396, '5*2+3': 1.4673846353885496, '5*2+4': -4.550602107271757, '5*3+0': -4.12752348449347, '5*3+1': -5.866578136258643, '5*3+2': -2.454316551297204, '5*3+3': 0.3797258018216132, '5*3+4': 0.28749696742940456, '5*4+0': -0.7222237662288937, '5*4+1': 3.8692358342226454, '5*4+2': 2.1491213565294145, '5*4+3': 1.7472205755004202, '5*4+4': -5.034529736758464}. Best is trial 24 with value: 2.6533667165629504.\u001b[0m\n",
      "\u001b[32m[I 2022-04-07 15:24:17,063]\u001b[0m Trial 54 finished with value: 9.038059428953805 and parameters: {'5*0+0': 1.7908157539666152, '5*0+1': -0.3295984819229316, '5*0+2': 0.25971634276518607, '5*0+3': -1.2708014046757277, '5*0+4': -0.15606365223466345, '5*1+0': -4.289538875042367, '5*1+1': -1.939487340220192, '5*1+2': 9.009192328993196, '5*1+3': -4.984433656783899, '5*1+4': -0.09683715490123712, '5*2+0': -1.1732376495230779, '5*2+1': -5.614798319976279, '5*2+2': -2.8478410695069694, '5*2+3': -1.70849594533208, '5*2+4': -2.5211547694558467, '5*3+0': 6.25709563078541, '5*3+1': -4.089269009070008, '5*3+2': -2.7206887903639876, '5*3+3': -2.8954586512929343, '5*3+4': 0.34715103301019523, '5*4+0': 7.7723720550813695, '5*4+1': 1.3485262047397566, '5*4+2': 0.3721165231945678, '5*4+3': -2.8935238089625526, '5*4+4': -4.934655035278242}. Best is trial 24 with value: 2.6533667165629504.\u001b[0m\n",
      "\u001b[32m[I 2022-04-07 15:24:17,323]\u001b[0m Trial 55 finished with value: 11.788477829110782 and parameters: {'5*0+0': -2.685563628373084, '5*0+1': 1.2904102872720609, '5*0+2': 2.9960704831318474, '5*0+3': -2.3026860873212716, '5*0+4': 5.783175686557633, '5*1+0': -3.173106532283695, '5*1+1': 1.0498348521154492, '5*1+2': 4.1963491956658405, '5*1+3': -1.867325899543429, '5*1+4': -0.4082809758608491, '5*2+0': 0.4356717205876124, '5*2+1': -6.141791034612162, '5*2+2': 3.0660189424200617, '5*2+3': -9.260358189220344, '5*2+4': 0.5216261432223843, '5*3+0': -0.8198021347347739, '5*3+1': -1.951360206536763, '5*3+2': -8.441397449536954, '5*3+3': 5.001452149714832, '5*3+4': -1.7699168206100482, '5*4+0': 2.644481151234058, '5*4+1': -0.8554090186789887, '5*4+2': 1.3036313434167912, '5*4+3': -3.5996504106755545, '5*4+4': -3.8735184889555683}. Best is trial 24 with value: 2.6533667165629504.\u001b[0m\n",
      "\u001b[32m[I 2022-04-07 15:24:17,572]\u001b[0m Trial 56 finished with value: 7.623562743776972 and parameters: {'5*0+0': -0.6133520081196693, '5*0+1': 3.7335268335300587, '5*0+2': -2.6698209919820415, '5*0+3': 0.9346869604732766, '5*0+4': 2.9868868876526475, '5*1+0': -0.030455910177172196, '5*1+1': -5.588375540006903, '5*1+2': 6.711045818548249, '5*1+3': -4.728870212408068, '5*1+4': -0.027832341456701604, '5*2+0': 2.344597969842022, '5*2+1': -5.231549214361652, '5*2+2': 2.719583833182764, '5*2+3': 0.6773323182592446, '5*2+4': -3.1638515629034716, '5*3+0': -1.5576776713177691, '5*3+1': -6.891620599814802, '5*3+2': -5.598877400172934, '5*3+3': 8.843467432801235, '5*3+4': 1.484027759076859, '5*4+0': 4.962124770574152, '5*4+1': -0.18811901462080982, '5*4+2': -1.885676397288253, '5*4+3': -4.843890931627132, '5*4+4': -4.277011998314416}. Best is trial 24 with value: 2.6533667165629504.\u001b[0m\n",
      "\u001b[32m[I 2022-04-07 15:24:17,813]\u001b[0m Trial 57 finished with value: 8.017930637762245 and parameters: {'5*0+0': -1.5533611833406147, '5*0+1': -0.015785572777403445, '5*0+2': 0.04484869233710542, '5*0+3': -3.3513896524728697, '5*0+4': 1.6420733528001952, '5*1+0': -4.211073937556407, '5*1+1': 0.8864320696224872, '5*1+2': 1.6292084206807895, '5*1+3': 1.978157227950435, '5*1+4': 1.7199999984995313, '5*2+0': 5.132355969091657, '5*2+1': -4.095623708271556, '5*2+2': 0.9320845242018756, '5*2+3': 3.700213075398346, '5*2+4': -2.566736005878618, '5*3+0': 2.663784850930288, '5*3+1': -4.908834062205037, '5*3+2': -5.292289222784152, '5*3+3': 1.7502690503701015, '5*3+4': -6.050081815305372, '5*4+0': 6.427453250682486, '5*4+1': 0.32212022028793186, '5*4+2': 6.169759143783603, '5*4+3': 0.5316311277894039, '5*4+4': -1.564867763322479}. Best is trial 24 with value: 2.6533667165629504.\u001b[0m\n",
      "\u001b[32m[I 2022-04-07 15:24:18,149]\u001b[0m Trial 58 finished with value: 7.491225781612105 and parameters: {'5*0+0': 3.6322238470055095, '5*0+1': 3.5521962110919487, '5*0+2': 7.3725600946894545, '5*0+3': -4.96990454634316, '5*0+4': 2.4025764917843033, '5*1+0': -3.98642758204915, '5*1+1': -6.825939932350544, '5*1+2': 5.277531677066921, '5*1+3': -3.955208268273632, '5*1+4': -2.00188307935389, '5*2+0': 4.808138454913205, '5*2+1': -3.0024953688584466, '5*2+2': 0.2283290434543292, '5*2+3': -1.1808277998901922, '5*2+4': -3.638671898124718, '5*3+0': -1.2598644407888229, '5*3+1': 0.703231300763802, '5*3+2': -4.755668061111933, '5*3+3': 4.6360416809952145, '5*3+4': -6.508715079380639, '5*4+0': 4.611931506531426, '5*4+1': 2.031266888748871, '5*4+2': 0.34723448907431953, '5*4+3': -0.3297628041152749, '5*4+4': -2.015730761415871}. Best is trial 24 with value: 2.6533667165629504.\u001b[0m\n",
      "\u001b[32m[I 2022-04-07 15:24:18,469]\u001b[0m Trial 59 finished with value: 9.142179266730912 and parameters: {'5*0+0': -3.481109887610047, '5*0+1': 6.381657097029874, '5*0+2': 2.586386936675062, '5*0+3': -2.5104811373498537, '5*0+4': 2.4577155913749515, '5*1+0': -5.030185537889676, '5*1+1': -1.267751645889742, '5*1+2': 4.6060732790464645, '5*1+3': 5.338513860491247, '5*1+4': -1.2914576052470719, '5*2+0': -3.6842357705404276, '5*2+1': -5.94325356736796, '5*2+2': 2.002445886881706, '5*2+3': 1.5506305624534231, '5*2+4': -3.7729694388452257, '5*3+0': 1.5221486115116158, '5*3+1': -1.6346111623338246, '5*3+2': -9.121474424791181, '5*3+3': 1.4237370339188342, '5*3+4': -3.275917261547634, '5*4+0': -4.301542721344719, '5*4+1': 0.45675394879980136, '5*4+2': -1.3183742492171207, '5*4+3': -2.4936528224167684, '5*4+4': -5.106610764239606}. Best is trial 24 with value: 2.6533667165629504.\u001b[0m\n"
     ]
    },
    {
     "name": "stderr",
     "output_type": "stream",
     "text": [
      "\u001b[32m[I 2022-04-07 15:24:18,769]\u001b[0m Trial 60 finished with value: 15.868111087944342 and parameters: {'5*0+0': 1.1787291563933873, '5*0+1': 4.445677538714477, '5*0+2': 1.2899155729361675, '5*0+3': -3.8173266180637495, '5*0+4': 0.1919681952777882, '5*1+0': -3.7823318774550674, '5*1+1': -1.325087525188745, '5*1+2': 8.047995426421897, '5*1+3': -1.414677037206814, '5*1+4': 3.892213251768541, '5*2+0': 2.8937437655252767, '5*2+1': -4.607266277243172, '5*2+2': -3.157310648922112, '5*2+3': -2.6083181575255594, '5*2+4': -2.0161933578278726, '5*3+0': -4.077238209176098, '5*3+1': -3.635899206674253, '5*3+2': -5.437897113642919, '5*3+3': 2.2289124093320143, '5*3+4': -5.587151266283366, '5*4+0': 7.708604230238478, '5*4+1': 0.7235630757471825, '5*4+2': 5.279341427413289, '5*4+3': -0.3810975454936387, '5*4+4': -1.69792362082941}. Best is trial 24 with value: 2.6533667165629504.\u001b[0m\n",
      "\u001b[32m[I 2022-04-07 15:24:19,083]\u001b[0m Trial 61 finished with value: 6.525084572136263 and parameters: {'5*0+0': -2.883717704419511, '5*0+1': -0.06682672305872739, '5*0+2': 3.057375636132586, '5*0+3': -1.6592627995647116, '5*0+4': 3.6069480573472736, '5*1+0': -1.0175055390814978, '5*1+1': -1.3114994016313686, '5*1+2': 1.6187099149914217, '5*1+3': -1.4469718695258904, '5*1+4': 0.005655927761552881, '5*2+0': 3.40143729355929, '5*2+1': -4.25996411790956, '5*2+2': 1.184278506018416, '5*2+3': -3.522327735596699, '5*2+4': -1.7466379745173108, '5*3+0': -1.788581303415412, '5*3+1': -3.814094713128691, '5*3+2': -6.239968074250849, '5*3+3': 8.746907545510542, '5*3+4': -3.929095169881394, '5*4+0': 4.602747157486334, '5*4+1': 0.7327911728401475, '5*4+2': 3.4395207664224143, '5*4+3': -0.3312369846914396, '5*4+4': -4.470621918106996}. Best is trial 24 with value: 2.6533667165629504.\u001b[0m\n",
      "\u001b[32m[I 2022-04-07 15:24:19,380]\u001b[0m Trial 62 finished with value: 13.109939926567785 and parameters: {'5*0+0': 0.40498230184487616, '5*0+1': 0.9380906280334691, '5*0+2': 2.6478693846649493, '5*0+3': -1.9969270975930538, '5*0+4': -0.05538483662067928, '5*1+0': -4.383799385291273, '5*1+1': 2.671671147173321, '5*1+2': 6.039660756031993, '5*1+3': -0.04506593723108354, '5*1+4': 0.3253880444991427, '5*2+0': 3.0884937290279946, '5*2+1': -1.9781111410071097, '5*2+2': -2.8055556294354638, '5*2+3': 1.3214568309356005, '5*2+4': -2.173062822251107, '5*3+0': -3.116283350403249, '5*3+1': -4.586872814516962, '5*3+2': -7.3783296464024595, '5*3+3': 2.2947766420337805, '5*3+4': -3.7802836370915336, '5*4+0': 1.8525719985291496, '5*4+1': 0.6675922898958302, '5*4+2': 4.420342676687698, '5*4+3': 3.029961964420069, '5*4+4': -8.562084216689827}. Best is trial 24 with value: 2.6533667165629504.\u001b[0m\n",
      "\u001b[32m[I 2022-04-07 15:24:19,642]\u001b[0m Trial 63 finished with value: 8.238351565537213 and parameters: {'5*0+0': -2.22571068112928, '5*0+1': 0.39496305188743897, '5*0+2': 2.8454476097434362, '5*0+3': 1.3545000754065883, '5*0+4': 1.5779780785351916, '5*1+0': 2.835551670657965, '5*1+1': 0.049104979280399946, '5*1+2': 0.9860491222495722, '5*1+3': -1.3179894985809832, '5*1+4': -0.14809843754104302, '5*2+0': -0.012538718503588786, '5*2+1': -5.88491827954719, '5*2+2': 2.2286596029558345, '5*2+3': -0.8091313149219632, '5*2+4': -4.839772989595431, '5*3+0': 0.6388158056669837, '5*3+1': -3.601301620442244, '5*3+2': -9.01925095499533, '5*3+3': 8.14774847241073, '5*3+4': -4.493461403148281, '5*4+0': 6.404320578384283, '5*4+1': -0.9835117426414135, '5*4+2': 5.212192937651534, '5*4+3': 2.5604389365327296, '5*4+4': 1.7813491465007623}. Best is trial 24 with value: 2.6533667165629504.\u001b[0m\n",
      "\u001b[32m[I 2022-04-07 15:24:19,903]\u001b[0m Trial 64 finished with value: 4.494728401638456 and parameters: {'5*0+0': 2.658831311188187, '5*0+1': 2.0719311033376266, '5*0+2': 2.9634807883091434, '5*0+3': -1.283649012698911, '5*0+4': -1.6222472134386812, '5*1+0': -2.2646388815840575, '5*1+1': -0.5615314814426654, '5*1+2': -1.2805230730450345, '5*1+3': -8.273369302337489, '5*1+4': 1.6894261209556491, '5*2+0': -2.505876010142966, '5*2+1': -5.252307226880104, '5*2+2': -4.234694624754964, '5*2+3': 3.742495456225207, '5*2+4': -3.39569631346603, '5*3+0': 0.3043454857394759, '5*3+1': -8.274624753267279, '5*3+2': -5.200957486965629, '5*3+3': 1.6889581581097775, '5*3+4': -2.915386210713475, '5*4+0': 0.9827813633163598, '5*4+1': -1.059995590019952, '5*4+2': -2.533842601191081, '5*4+3': 2.527225260029297, '5*4+4': 1.269857544499752}. Best is trial 24 with value: 2.6533667165629504.\u001b[0m\n",
      "\u001b[32m[I 2022-04-07 15:24:20,176]\u001b[0m Trial 65 finished with value: 7.7333537615800925 and parameters: {'5*0+0': -0.8906050192886219, '5*0+1': 1.0929615703170326, '5*0+2': 2.7455736388301126, '5*0+3': -4.083009394034132, '5*0+4': 6.416213250831565, '5*1+0': -0.25056946163104565, '5*1+1': 0.6488801507334441, '5*1+2': 5.635587837433732, '5*1+3': -0.8878736490914049, '5*1+4': -0.4062794948595425, '5*2+0': 5.6748903198882505, '5*2+1': -5.549442688191514, '5*2+2': -1.4232609544690153, '5*2+3': 3.0142070895045574, '5*2+4': -3.016787706131345, '5*3+0': 0.724555734842463, '5*3+1': -1.4242699977443425, '5*3+2': -4.363173914887351, '5*3+3': 4.08762231165917, '5*3+4': -2.099566314319906, '5*4+0': 7.917820408299624, '5*4+1': 0.6183434608614854, '5*4+2': 0.4589584918908969, '5*4+3': 2.6209185321438873, '5*4+4': -2.4779048009491995}. Best is trial 24 with value: 2.6533667165629504.\u001b[0m\n",
      "\u001b[32m[I 2022-04-07 15:24:20,453]\u001b[0m Trial 66 finished with value: 4.430629476453741 and parameters: {'5*0+0': 0.8387300977959159, '5*0+1': -0.7584960985738678, '5*0+2': 4.130875056395542, '5*0+3': -1.0524122958308502, '5*0+4': 2.774767959367054, '5*1+0': -2.40715164124808, '5*1+1': 0.6732756750360345, '5*1+2': -0.44905548700283404, '5*1+3': -5.180503930774119, '5*1+4': 0.15323720194593737, '5*2+0': 2.6072633580412794, '5*2+1': -1.9841125558561923, '5*2+2': 4.103770133917076, '5*2+3': 1.779651862733101, '5*2+4': -6.778079123883231, '5*3+0': -2.5841210961506453, '5*3+1': -2.3837407295978323, '5*3+2': -7.759047513209783, '5*3+3': 7.038067382814326, '5*3+4': -4.812820461573169, '5*4+0': 2.3804910224563436, '5*4+1': 2.844688177947887, '5*4+2': 2.7685642997318487, '5*4+3': 4.071028234724928, '5*4+4': -0.4713486466871559}. Best is trial 24 with value: 2.6533667165629504.\u001b[0m\n",
      "\u001b[32m[I 2022-04-07 15:24:20,732]\u001b[0m Trial 67 finished with value: 10.644959648558281 and parameters: {'5*0+0': -1.349188723445391, '5*0+1': -3.0283195292532894, '5*0+2': 6.4006252885949975, '5*0+3': -0.2868186392568246, '5*0+4': -4.555812358041431, '5*1+0': 3.549370459095125, '5*1+1': -6.151341138992547, '5*1+2': -1.5343380549673329, '5*1+3': -6.738685181546904, '5*1+4': 2.0871399988098416, '5*2+0': 0.7959801987160189, '5*2+1': -6.06825030753275, '5*2+2': -0.26890324044949776, '5*2+3': 1.5620217275460424, '5*2+4': -7.9795776199483734, '5*3+0': -2.5085851037323295, '5*3+1': -8.4835985403743, '5*3+2': -6.169407066340106, '5*3+3': 3.8593772987492736, '5*3+4': -3.042524366319416, '5*4+0': 1.6176661010330236, '5*4+1': 2.073634386072946, '5*4+2': 1.612149660146496, '5*4+3': 3.0230281065751625, '5*4+4': -7.064891313657659}. Best is trial 24 with value: 2.6533667165629504.\u001b[0m\n",
      "\u001b[32m[I 2022-04-07 15:24:20,999]\u001b[0m Trial 68 finished with value: 7.487306437003773 and parameters: {'5*0+0': -2.2704093548851603, '5*0+1': 2.8401957388710537, '5*0+2': 2.042079171047349, '5*0+3': -2.0286922891722625, '5*0+4': 1.6520476359142975, '5*1+0': 1.1413015636001167, '5*1+1': -1.257102177112554, '5*1+2': 4.570086178589349, '5*1+3': -1.4722057799213113, '5*1+4': 7.099081303812747, '5*2+0': 1.5520747100553662, '5*2+1': 1.3297871902456224, '5*2+2': 0.2043996378802173, '5*2+3': 5.995431313359478, '5*2+4': -3.007104058342616, '5*3+0': 2.0077492404031636, '5*3+1': -4.1035211100531725, '5*3+2': -7.34702136154624, '5*3+3': 5.819080034170359, '5*3+4': 0.10840321892758675, '5*4+0': -2.091684148129027, '5*4+1': 0.7108355124809153, '5*4+2': -2.2193773599016935, '5*4+3': -3.1987222061355105, '5*4+4': 3.2565741554876007}. Best is trial 24 with value: 2.6533667165629504.\u001b[0m\n",
      "\u001b[32m[I 2022-04-07 15:24:21,258]\u001b[0m Trial 69 finished with value: 12.435776097549038 and parameters: {'5*0+0': 1.4744029471000206, '5*0+1': 2.014054111029084, '5*0+2': 1.796309050516768, '5*0+3': -5.549127921440595, '5*0+4': 5.46902375186146, '5*1+0': 1.5017728080573454, '5*1+1': 0.8596353347028667, '5*1+2': 2.917790540084215, '5*1+3': -1.5853759128035674, '5*1+4': -1.748198799898112, '5*2+0': -0.7471762080388373, '5*2+1': -3.808264973209753, '5*2+2': -0.30547147603997765, '5*2+3': 0.1377445029432527, '5*2+4': 0.6479318528925484, '5*3+0': -3.493152404317706, '5*3+1': -4.171607465535282, '5*3+2': -2.5046598632576624, '5*3+3': 0.013483844669875733, '5*3+4': -2.415738139744333, '5*4+0': 0.5783785878973671, '5*4+1': 0.737400975603864, '5*4+2': -2.8130436815473976, '5*4+3': -0.6292391471221379, '5*4+4': -0.6292483319834592}. Best is trial 24 with value: 2.6533667165629504.\u001b[0m\n"
     ]
    },
    {
     "name": "stderr",
     "output_type": "stream",
     "text": [
      "\u001b[32m[I 2022-04-07 15:24:21,533]\u001b[0m Trial 70 finished with value: 8.057486994298358 and parameters: {'5*0+0': -2.886046695676871, '5*0+1': -2.6160342421712612, '5*0+2': 1.962258293766522, '5*0+3': -2.9544844414375047, '5*0+4': 0.07710798781810335, '5*1+0': -4.330063551189319, '5*1+1': 2.9008325344710424, '5*1+2': 4.208723391355207, '5*1+3': -3.0691646934444003, '5*1+4': -0.40423665389111996, '5*2+0': 1.9191985377697207, '5*2+1': -5.0694497217804235, '5*2+2': -1.7671315922816804, '5*2+3': -0.19599911985828067, '5*2+4': -7.375713884720296, '5*3+0': 2.2878795473717854, '5*3+1': -4.566708306458231, '5*3+2': -5.674672526312573, '5*3+3': 6.047139936447156, '5*3+4': -7.24647491973988, '5*4+0': 4.637730417639851, '5*4+1': 0.09459990839724886, '5*4+2': 1.5975058698946276, '5*4+3': 0.8427214647558962, '5*4+4': -5.157742012343543}. Best is trial 24 with value: 2.6533667165629504.\u001b[0m\n",
      "\u001b[32m[I 2022-04-07 15:24:21,802]\u001b[0m Trial 71 finished with value: 12.57874482618344 and parameters: {'5*0+0': -1.692716192791476, '5*0+1': 2.660169792374144, '5*0+2': 3.6785098751679577, '5*0+3': -2.058426677502161, '5*0+4': 1.1749341302338567, '5*1+0': -7.685187968096884, '5*1+1': -2.851699977801681, '5*1+2': 0.26259129402502834, '5*1+3': -5.47317042584597, '5*1+4': 3.2540050688348927, '5*2+0': 6.68348252754865, '5*2+1': -4.843656009852276, '5*2+2': -0.9362566561433785, '5*2+3': 3.9706434602656024, '5*2+4': -2.2175747781116955, '5*3+0': 3.610989284570427, '5*3+1': -3.9463002084583323, '5*3+2': -6.275168016724341, '5*3+3': 6.4557715464006495, '5*3+4': -4.14913966922169, '5*4+0': 1.8787185395034216, '5*4+1': 2.941143651391685, '5*4+2': 4.788239796425677, '5*4+3': 2.602691646094912, '5*4+4': -2.8246227499091603}. Best is trial 24 with value: 2.6533667165629504.\u001b[0m\n",
      "\u001b[32m[I 2022-04-07 15:24:22,081]\u001b[0m Trial 72 finished with value: 6.814296111130503 and parameters: {'5*0+0': 0.35426553952948625, '5*0+1': 6.6240729613406675, '5*0+2': 2.8603021359594254, '5*0+3': -2.888989214156948, '5*0+4': 4.220203930861855, '5*1+0': 0.8394545319415636, '5*1+1': -0.2312586197362263, '5*1+2': 3.3423993652516812, '5*1+3': 1.0238671386264473, '5*1+4': 0.8508575532403657, '5*2+0': -0.4740360943039206, '5*2+1': -3.480303786795486, '5*2+2': 2.215771633133767, '5*2+3': 1.720316359003485, '5*2+4': -4.11481625763625, '5*3+0': -0.36888793978874257, '5*3+1': 0.35825651850019735, '5*3+2': -3.0096713853973496, '5*3+3': -2.350375927959063, '5*3+4': -2.2469167311037794, '5*4+0': -0.6340946958555103, '5*4+1': 2.037774254911509, '5*4+2': -2.1633783362252097, '5*4+3': 3.1961544371997332, '5*4+4': -5.54156989068448}. Best is trial 24 with value: 2.6533667165629504.\u001b[0m\n",
      "\u001b[32m[I 2022-04-07 15:24:22,333]\u001b[0m Trial 73 finished with value: 4.414861166268957 and parameters: {'5*0+0': 0.8705559863187922, '5*0+1': 2.413135433469851, '5*0+2': 1.1012027634549644, '5*0+3': -2.2240903712053237, '5*0+4': 2.7991246192722867, '5*1+0': -1.471690947913894, '5*1+1': 1.4383746120759988, '5*1+2': 1.0050648035896068, '5*1+3': -3.3571894060516767, '5*1+4': 2.2320995757579993, '5*2+0': 5.0920319935593685, '5*2+1': -4.062310951158005, '5*2+2': 0.7448481138866989, '5*2+3': 0.5090769585986971, '5*2+4': -4.020460117164306, '5*3+0': 0.8981128211607563, '5*3+1': -7.249803818304256, '5*3+2': -6.69507828361705, '5*3+3': 4.412930911353902, '5*3+4': 0.4918209703252172, '5*4+0': 4.882557062318774, '5*4+1': 0.3112101603191302, '5*4+2': 2.8955431173288635, '5*4+3': -0.27187910491146106, '5*4+4': -0.9763983246105099}. Best is trial 24 with value: 2.6533667165629504.\u001b[0m\n",
      "\u001b[32m[I 2022-04-07 15:24:22,637]\u001b[0m Trial 74 finished with value: 7.986370825397973 and parameters: {'5*0+0': -0.05612367933403484, '5*0+1': -2.606601118589871, '5*0+2': 6.216307038823909, '5*0+3': -8.949095817602858, '5*0+4': 2.8072195995060327, '5*1+0': 0.32028819480468584, '5*1+1': -4.295328513807629, '5*1+2': 0.40864494672869567, '5*1+3': -3.48838295038236, '5*1+4': 0.7157809472628253, '5*2+0': 8.23374380042404, '5*2+1': -7.416585553414722, '5*2+2': 2.250955612855421, '5*2+3': 1.596097601161178, '5*2+4': -1.5622965113374105, '5*3+0': -3.4287154894387335, '5*3+1': -6.532132178761465, '5*3+2': 1.563009818762647, '5*3+3': 5.943575033597591, '5*3+4': -2.005593936809534, '5*4+0': -0.21354105377734367, '5*4+1': 3.430149161729503, '5*4+2': -2.863917025421449, '5*4+3': -2.569700117266742, '5*4+4': -6.511732233846159}. Best is trial 24 with value: 2.6533667165629504.\u001b[0m\n",
      "\u001b[32m[I 2022-04-07 15:24:22,911]\u001b[0m Trial 75 finished with value: 6.8946124336686365 and parameters: {'5*0+0': 0.9635528773359219, '5*0+1': 1.1534592632519771, '5*0+2': 1.3179340356647737, '5*0+3': -1.8908636488045416, '5*0+4': 6.003260567017893, '5*1+0': -6.624368473398736, '5*1+1': -4.370694355992856, '5*1+2': 2.5431152261274743, '5*1+3': -9.3108922963974, '5*1+4': -2.7626551260849097, '5*2+0': 3.186547261440987, '5*2+1': -2.6989636702192463, '5*2+2': 2.373011750945372, '5*2+3': 6.172659964459576, '5*2+4': -0.9787991715757682, '5*3+0': -4.550887334928443, '5*3+1': 0.9886180976013899, '5*3+2': -4.792224357582134, '5*3+3': 3.1088586928595694, '5*3+4': -1.0772013172576247, '5*4+0': 3.1280873395054014, '5*4+1': 2.550322993352411, '5*4+2': -0.47800901432966403, '5*4+3': 1.8607439650326905, '5*4+4': 1.2097109569573732}. Best is trial 24 with value: 2.6533667165629504.\u001b[0m\n",
      "\u001b[32m[I 2022-04-07 15:24:23,177]\u001b[0m Trial 76 finished with value: 8.788633502425927 and parameters: {'5*0+0': -2.0092424006928526, '5*0+1': 3.3850035857621616, '5*0+2': 5.620484107440655, '5*0+3': -0.04051986793125417, '5*0+4': 0.9813443995144804, '5*1+0': -0.397699282707052, '5*1+1': -4.267215480544764, '5*1+2': 1.3990530623779236, '5*1+3': -5.965855278888483, '5*1+4': -1.3191055867426158, '5*2+0': 0.07524236142444374, '5*2+1': -5.149258029484706, '5*2+2': 2.6356211430111878, '5*2+3': -0.10244638547157181, '5*2+4': 0.2448144945792583, '5*3+0': 0.1328399971946146, '5*3+1': -5.498768099564721, '5*3+2': -8.498896034412374, '5*3+3': 2.6961379857728964, '5*3+4': -4.785858555494406, '5*4+0': -0.27816671985552155, '5*4+1': 0.841837389513552, '5*4+2': 2.6027157070531177, '5*4+3': 2.3579371315691313, '5*4+4': -5.159574973985476}. Best is trial 24 with value: 2.6533667165629504.\u001b[0m\n",
      "\u001b[32m[I 2022-04-07 15:24:23,442]\u001b[0m Trial 77 finished with value: 4.756439294668889 and parameters: {'5*0+0': -1.7277147670160133, '5*0+1': 3.008293830277161, '5*0+2': 3.7195487772708336, '5*0+3': -1.2520450663332936, '5*0+4': 3.470457241334338, '5*1+0': 1.9883411986365274, '5*1+1': -0.6657560469967307, '5*1+2': 4.1231344894333715, '5*1+3': -8.60656098834713, '5*1+4': 3.4804778947526103, '5*2+0': 3.7123779300803914, '5*2+1': 0.2649641129044502, '5*2+2': -6.772328035125078, '5*2+3': -2.5030211971606695, '5*2+4': -5.956789067930073, '5*3+0': -3.904369064570399, '5*3+1': -7.293112941752539, '5*3+2': -4.385272104632321, '5*3+3': 2.8755863671052535, '5*3+4': -1.7033040498178396, '5*4+0': 2.495369140284844, '5*4+1': 0.721981218789067, '5*4+2': -4.078292281653973, '5*4+3': -0.9373274809812255, '5*4+4': -3.403891656440794}. Best is trial 24 with value: 2.6533667165629504.\u001b[0m\n",
      "\u001b[32m[I 2022-04-07 15:24:23,696]\u001b[0m Trial 78 finished with value: 7.321968991562601 and parameters: {'5*0+0': 3.2019794625395317, '5*0+1': -0.5653089795914981, '5*0+2': 0.788467393469535, '5*0+3': -2.292152913749766, '5*0+4': -3.3961499609993684, '5*1+0': -2.2809078884104195, '5*1+1': -5.993855649920519, '5*1+2': 4.339104980221244, '5*1+3': -4.760005306112458, '5*1+4': 3.6275980053968095, '5*2+0': 0.7561882452981068, '5*2+1': -1.1779540077490336, '5*2+2': 0.08515005232220063, '5*2+3': 5.338527843080733, '5*2+4': -1.8726604180154172, '5*3+0': -0.9841296095997558, '5*3+1': -6.230499968865656, '5*3+2': -4.026156942744301, '5*3+3': 0.5774547117088762, '5*3+4': 0.37316534114712097, '5*4+0': 2.2361976449014076, '5*4+1': 0.5688532859094899, '5*4+2': 0.37141911743064526, '5*4+3': -0.4187814449893701, '5*4+4': -1.6981646444314928}. Best is trial 24 with value: 2.6533667165629504.\u001b[0m\n",
      "\u001b[32m[I 2022-04-07 15:24:23,950]\u001b[0m Trial 79 finished with value: 3.5185677961671304 and parameters: {'5*0+0': 1.1111728990924634, '5*0+1': 3.2340893838360776, '5*0+2': -1.5171833145299023, '5*0+3': -0.24647527708696026, '5*0+4': 8.110417577868454, '5*1+0': -4.117002379642596, '5*1+1': -0.20994338930411255, '5*1+2': 0.9813202433140592, '5*1+3': -1.3060447524423684, '5*1+4': -4.098153015823502, '5*2+0': 0.06345269042945345, '5*2+1': -3.1329892416448915, '5*2+2': 5.962075440446069, '5*2+3': -0.8214328894849203, '5*2+4': -5.726016954821331, '5*3+0': -0.8879068009642007, '5*3+1': -6.616234579550658, '5*3+2': -2.5538666725524943, '5*3+3': 7.001994936746055, '5*3+4': -3.268306481724461, '5*4+0': 1.2578710637133899, '5*4+1': 2.4835120500585255, '5*4+2': 4.618063073431546, '5*4+3': 3.2989540711833416, '5*4+4': -0.08204171383975933}. Best is trial 24 with value: 2.6533667165629504.\u001b[0m\n"
     ]
    },
    {
     "name": "stderr",
     "output_type": "stream",
     "text": [
      "\u001b[32m[I 2022-04-07 15:24:24,215]\u001b[0m Trial 80 finished with value: 5.347028652824461 and parameters: {'5*0+0': 3.860166404734152, '5*0+1': -0.7333924069009221, '5*0+2': 1.8711577365060705, '5*0+3': 1.415629245002533, '5*0+4': 3.4013530473345828, '5*1+0': -1.4088190166083274, '5*1+1': -3.0438704762343134, '5*1+2': 0.015443504921669904, '5*1+3': -1.1348700725729222, '5*1+4': -0.39289796786377185, '5*2+0': -0.8367796754037471, '5*2+1': -1.2661639007910421, '5*2+2': -0.3561588408660369, '5*2+3': 1.0656762005455174, '5*2+4': -5.207524512717662, '5*3+0': -6.59312281098865, '5*3+1': -5.339455864088315, '5*3+2': -2.006374094614125, '5*3+3': 9.032039447274766, '5*3+4': -3.365269500845425, '5*4+0': 2.6399529180889814, '5*4+1': 4.901913528021611, '5*4+2': 1.0354766854497173, '5*4+3': 2.6661109219062404, '5*4+4': 1.6373726154964818}. Best is trial 24 with value: 2.6533667165629504.\u001b[0m\n",
      "\u001b[32m[I 2022-04-07 15:24:24,479]\u001b[0m Trial 81 finished with value: 10.5834525008625 and parameters: {'5*0+0': -1.035567755160606, '5*0+1': 1.8495489035917492, '5*0+2': 5.042492554811677, '5*0+3': -5.338257180927831, '5*0+4': 5.852638255526106, '5*1+0': -0.49804773969870164, '5*1+1': 3.544663929077967, '5*1+2': -2.3114379613678917, '5*1+3': -4.274056158248014, '5*1+4': 5.610884794559567, '5*2+0': 1.572840956441666, '5*2+1': -2.6091560068627975, '5*2+2': -0.5228141703627578, '5*2+3': 0.9619742286051656, '5*2+4': -9.353955778100019, '5*3+0': 1.906291509748144, '5*3+1': -5.136185209472614, '5*3+2': -3.765529199578231, '5*3+3': 5.848128758546067, '5*3+4': -1.675035690926489, '5*4+0': 1.9168504874896133, '5*4+1': -1.0554775677008186, '5*4+2': -5.236097973907745, '5*4+3': -0.8950921163459733, '5*4+4': -3.8947622208920625}. Best is trial 24 with value: 2.6533667165629504.\u001b[0m\n",
      "\u001b[32m[I 2022-04-07 15:24:24,770]\u001b[0m Trial 82 finished with value: 6.214225262218363 and parameters: {'5*0+0': 2.115961105534617, '5*0+1': -1.1478779837871786, '5*0+2': 6.53239305641447, '5*0+3': -3.0017677423420803, '5*0+4': 1.8844968104366457, '5*1+0': -0.5042458079030322, '5*1+1': 3.925224975369591, '5*1+2': 0.5161630551725369, '5*1+3': -9.34852791413235, '5*1+4': -1.46656484694353, '5*2+0': 4.290159988740223, '5*2+1': 3.50368467158955, '5*2+2': 2.269769082465217, '5*2+3': 7.4497573253743505, '5*2+4': -3.998795143660452, '5*3+0': -0.9314237403459007, '5*3+1': 1.0096272569476064, '5*3+2': -5.819272511386708, '5*3+3': -0.17537050900591034, '5*3+4': 0.08754855359022029, '5*4+0': 4.883466771339831, '5*4+1': -2.4878380032545477, '5*4+2': 0.7098299114796999, '5*4+3': 6.5636090025462845, '5*4+4': 0.6477267384997796}. Best is trial 24 with value: 2.6533667165629504.\u001b[0m\n",
      "\u001b[32m[I 2022-04-07 15:24:25,039]\u001b[0m Trial 83 finished with value: 9.02484283126637 and parameters: {'5*0+0': 2.071389196538735, '5*0+1': 4.578394016440875, '5*0+2': 5.200750656443237, '5*0+3': 3.3063826054803975, '5*0+4': 2.384578112325701, '5*1+0': -0.9437788520859398, '5*1+1': 1.2243835715586695, '5*1+2': -1.2589487812153561, '5*1+3': -2.594558940203165, '5*1+4': -1.622642731228852, '5*2+0': 4.528959597737017, '5*2+1': -6.097119764292145, '5*2+2': 0.4968685013487826, '5*2+3': -0.40319257732925506, '5*2+4': -5.802984193916228, '5*3+0': -5.906287558729578, '5*3+1': 0.06834741901586838, '5*3+2': -0.18235111616707123, '5*3+3': 3.175631874067045, '5*3+4': -2.68006687774605, '5*4+0': 4.003279284738683, '5*4+1': -0.8458176453334221, '5*4+2': -0.1330957431368709, '5*4+3': -2.9130989389108466, '5*4+4': -1.4178140089725757}. Best is trial 24 with value: 2.6533667165629504.\u001b[0m\n",
      "\u001b[32m[I 2022-04-07 15:24:25,302]\u001b[0m Trial 84 finished with value: 9.632917564572933 and parameters: {'5*0+0': 3.1782625050949433, '5*0+1': -0.4069507094048359, '5*0+2': 2.3461866345072266, '5*0+3': -1.995199046750469, '5*0+4': 3.4440083128434713, '5*1+0': -2.9064081395424277, '5*1+1': -1.7930556178039758, '5*1+2': 2.68964433326456, '5*1+3': -5.024831735576772, '5*1+4': 2.2837624454509537, '5*2+0': 2.7620679440354654, '5*2+1': -3.9021299804540246, '5*2+2': 1.041146201096787, '5*2+3': -0.7328538171648431, '5*2+4': -2.373945737895311, '5*3+0': -0.15609982800508604, '5*3+1': -3.6590249643819996, '5*3+2': -5.50134336770443, '5*3+3': 7.759789078175933, '5*3+4': -2.5624544207202598, '5*4+0': 2.1153534601907777, '5*4+1': 1.4084600915796455, '5*4+2': -0.5568808824040828, '5*4+3': 0.23883529218509925, '5*4+4': 4.586720960627584}. Best is trial 24 with value: 2.6533667165629504.\u001b[0m\n",
      "\u001b[32m[I 2022-04-07 15:24:25,561]\u001b[0m Trial 85 finished with value: 8.364740749339198 and parameters: {'5*0+0': -1.4176605000173752, '5*0+1': 2.5133596861162033, '5*0+2': 3.0616428915502585, '5*0+3': -3.1089117721376214, '5*0+4': 1.6979793510808525, '5*1+0': -2.553649411139905, '5*1+1': 2.656231332583761, '5*1+2': 4.008642797561435, '5*1+3': -4.3065734605189006, '5*1+4': 3.3224103215884635, '5*2+0': 0.4055407074277988, '5*2+1': -3.683468047583724, '5*2+2': 0.3068831051817021, '5*2+3': -0.06997163547642482, '5*2+4': -4.412987758604383, '5*3+0': -3.9690995437376664, '5*3+1': -4.126101947318572, '5*3+2': -7.090345152576214, '5*3+3': 8.097725407821589, '5*3+4': -4.084839782489416, '5*4+0': 8.024993448642764, '5*4+1': 3.8933620440003316, '5*4+2': 0.4210237356448482, '5*4+3': 1.7562333713038734, '5*4+4': -2.3934777037182204}. Best is trial 24 with value: 2.6533667165629504.\u001b[0m\n",
      "\u001b[32m[I 2022-04-07 15:24:25,811]\u001b[0m Trial 86 finished with value: 4.4056305850850155 and parameters: {'5*0+0': 3.3744879938945513, '5*0+1': 3.3950069917382457, '5*0+2': 2.972049725062294, '5*0+3': -4.09384930677073, '5*0+4': 2.731445958112335, '5*1+0': -2.0472179696350237, '5*1+1': 2.743601308876786, '5*1+2': 3.5065553233948514, '5*1+3': -4.300229640552344, '5*1+4': 1.3677525165199074, '5*2+0': 1.4500614310406472, '5*2+1': -1.0030596665984048, '5*2+2': 3.0016720773520307, '5*2+3': 3.471801914664664, '5*2+4': -6.825092759335604, '5*3+0': -1.6840573206997733, '5*3+1': -6.555137701894953, '5*3+2': -5.93798494597858, '5*3+3': 1.1183272224940874, '5*3+4': -1.256238182809618, '5*4+0': 1.242160894904295, '5*4+1': 3.5147506185666484, '5*4+2': 1.148183390474975, '5*4+3': 5.110347856868569, '5*4+4': -0.8043743535920567}. Best is trial 24 with value: 2.6533667165629504.\u001b[0m\n",
      "\u001b[32m[I 2022-04-07 15:24:26,059]\u001b[0m Trial 87 finished with value: 13.04970912869999 and parameters: {'5*0+0': 0.6675878070543783, '5*0+1': 3.5957750722056367, '5*0+2': 3.861522496067132, '5*0+3': 2.9874632305813913, '5*0+4': 3.3918080427516824, '5*1+0': -1.9382952564068292, '5*1+1': -1.7941667197417968, '5*1+2': -0.5996706091226822, '5*1+3': -4.850197646536982, '5*1+4': 2.6387919089508554, '5*2+0': 7.224748991479482, '5*2+1': -0.688783152518057, '5*2+2': 1.8219317934608599, '5*2+3': 1.780395657605426, '5*2+4': -5.79409808574514, '5*3+0': -1.9725410458276713, '5*3+1': -6.287927839594236, '5*3+2': -3.564246092606645, '5*3+3': 1.5679675122308265, '5*3+4': 0.012880141530524192, '5*4+0': 3.668522416976865, '5*4+1': -0.7797964345700601, '5*4+2': 3.03196088591392, '5*4+3': 0.5484868764119993, '5*4+4': -0.6457483507811674}. Best is trial 24 with value: 2.6533667165629504.\u001b[0m\n",
      "\u001b[32m[I 2022-04-07 15:24:26,359]\u001b[0m Trial 88 finished with value: 7.73870150023221 and parameters: {'5*0+0': -1.347044859387911, '5*0+1': 0.5101121575238758, '5*0+2': 1.0005771385882736, '5*0+3': -1.227459178212307, '5*0+4': 6.049509595215493, '5*1+0': -2.146370519785302, '5*1+1': -1.3894204413915774, '5*1+2': 2.6491537673112315, '5*1+3': -4.533514884052726, '5*1+4': 1.578649645594204, '5*2+0': 4.087443393372073, '5*2+1': -4.582327835863192, '5*2+2': 4.349314968765969, '5*2+3': 0.663874927313868, '5*2+4': -4.805592770221574, '5*3+0': -0.5485440870372059, '5*3+1': -6.4765193018935445, '5*3+2': -4.3863315669694565, '5*3+3': 2.529403635567782, '5*3+4': -1.3627635837017398, '5*4+0': 3.0853677886913027, '5*4+1': -0.1452201672060589, '5*4+2': 1.8691113426538521, '5*4+3': -0.39434998975652347, '5*4+4': -5.221142515483445}. Best is trial 24 with value: 2.6533667165629504.\u001b[0m\n",
      "\u001b[32m[I 2022-04-07 15:24:26,615]\u001b[0m Trial 89 finished with value: 9.96371107089254 and parameters: {'5*0+0': 0.4825306213070667, '5*0+1': -1.0148578803693704, '5*0+2': 2.404258653306787, '5*0+3': 0.0837681579596059, '5*0+4': -1.4116148382450522, '5*1+0': -1.6407968186113506, '5*1+1': 1.1390356051728792, '5*1+2': -2.4727241340785127, '5*1+3': -5.81215343178714, '5*1+4': 2.526557698496271, '5*2+0': 5.492253617259913, '5*2+1': -2.162608816972066, '5*2+2': -2.6014743102975766, '5*2+3': -1.2683193386573834, '5*2+4': -5.366377010547913, '5*3+0': -2.5104412402603087, '5*3+1': -2.3413812984514215, '5*3+2': -3.2241228198736906, '5*3+3': 2.6032694185677094, '5*3+4': -2.1032801106480576, '5*4+0': 3.869475664707199, '5*4+1': 4.247087567766687, '5*4+2': 0.9832513430865601, '5*4+3': 1.5081107612750302, '5*4+4': -5.01998900158274}. Best is trial 24 with value: 2.6533667165629504.\u001b[0m\n"
     ]
    },
    {
     "name": "stderr",
     "output_type": "stream",
     "text": [
      "\u001b[32m[I 2022-04-07 15:24:26,889]\u001b[0m Trial 90 finished with value: 8.479944839459659 and parameters: {'5*0+0': -0.5289588362761171, '5*0+1': 3.307565075823072, '5*0+2': 3.5342521370007463, '5*0+3': 0.983103154149036, '5*0+4': 6.421995025694692, '5*1+0': -1.423665045576819, '5*1+1': 3.12790671797699, '5*1+2': 4.688619892304418, '5*1+3': -2.380464405985132, '5*1+4': 2.0938360363558, '5*2+0': 2.5491429956162266, '5*2+1': -4.840969897772155, '5*2+2': 0.43910947365261443, '5*2+3': 0.8581177580781041, '5*2+4': -5.030213078860916, '5*3+0': -6.778664855487617, '5*3+1': -7.675775893407513, '5*3+2': -5.748319468037662, '5*3+3': 3.1653724203188514, '5*3+4': -2.0565786375781476, '5*4+0': 3.93627978606976, '5*4+1': 2.1745844339023517, '5*4+2': 4.319082475610835, '5*4+3': 1.5548932385561083, '5*4+4': -3.355891404845866}. Best is trial 24 with value: 2.6533667165629504.\u001b[0m\n",
      "\u001b[32m[I 2022-04-07 15:24:27,130]\u001b[0m Trial 91 finished with value: 6.504898213782777 and parameters: {'5*0+0': 1.0807050888281173, '5*0+1': 1.1638275008207244, '5*0+2': 2.736890308878326, '5*0+3': -5.067670959736736, '5*0+4': 6.792997698562232, '5*1+0': 0.5213980957523299, '5*1+1': -0.09683681007438555, '5*1+2': 6.769822027494362, '5*1+3': -5.415600526249599, '5*1+4': 3.68403307122855, '5*2+0': 3.810688335337372, '5*2+1': -2.7996742389579334, '5*2+2': -4.546934546551776, '5*2+3': -2.3486444582612647, '5*2+4': -5.002022999054819, '5*3+0': -4.988986081742956, '5*3+1': -6.045663650076741, '5*3+2': -2.4573233810621233, '5*3+3': 4.603517478433053, '5*3+4': -1.0502243422466475, '5*4+0': 2.94109915886466, '5*4+1': 1.2010065055292976, '5*4+2': 2.877033277776472, '5*4+3': 5.775650309508476, '5*4+4': 3.186565527829588}. Best is trial 24 with value: 2.6533667165629504.\u001b[0m\n",
      "\u001b[32m[I 2022-04-07 15:24:27,383]\u001b[0m Trial 92 finished with value: 7.316887648339037 and parameters: {'5*0+0': 2.1152051673708523, '5*0+1': -1.692411516814945, '5*0+2': 0.525993946495012, '5*0+3': 0.8021254972125855, '5*0+4': 3.1865308556967573, '5*1+0': -1.8514620752287934, '5*1+1': -9.100266224948417e-05, '5*1+2': 1.8124885879101673, '5*1+3': -8.049707780032401, '5*1+4': 0.7778971370946028, '5*2+0': 3.8560568117923237, '5*2+1': -0.24521755316839933, '5*2+2': 3.462442673036869, '5*2+3': 5.871707891396066, '5*2+4': -7.377951236375115, '5*3+0': -1.0539034203190605, '5*3+1': -4.106514486737018, '5*3+2': 0.5774179264413344, '5*3+3': 5.211252358145894, '5*3+4': -3.357653370471808, '5*4+0': -0.7985683461101956, '5*4+1': 4.600212745301576, '5*4+2': 2.5268329326381713, '5*4+3': 4.929880648856652, '5*4+4': -0.9719110075189519}. Best is trial 24 with value: 2.6533667165629504.\u001b[0m\n",
      "\u001b[32m[I 2022-04-07 15:24:27,624]\u001b[0m Trial 93 finished with value: 9.583270617583185 and parameters: {'5*0+0': 2.9329400471165066, '5*0+1': 3.6656188762351043, '5*0+2': 5.057926455604256, '5*0+3': -1.8332901772576369, '5*0+4': 4.671788545354993, '5*1+0': -3.6971195702587707, '5*1+1': -0.06810560875391858, '5*1+2': 2.82171224095693, '5*1+3': 1.2560598699879337, '5*1+4': -2.163506549844533, '5*2+0': -3.2354530351175725, '5*2+1': -2.257976351010064, '5*2+2': 4.206292221241118, '5*2+3': -1.9820146070696671, '5*2+4': -2.785388156560261, '5*3+0': -4.3835540631335315, '5*3+1': -3.602056244121726, '5*3+2': -6.108331153295869, '5*3+3': 6.157800701578234, '5*3+4': -0.10575927867869561, '5*4+0': 4.670477455027351, '5*4+1': 3.792851657201142, '5*4+2': 0.6928519059146001, '5*4+3': 2.2641787686826396, '5*4+4': -0.6938786124624252}. Best is trial 24 with value: 2.6533667165629504.\u001b[0m\n",
      "\u001b[32m[I 2022-04-07 15:24:27,899]\u001b[0m Trial 94 finished with value: 9.926409462501528 and parameters: {'5*0+0': 3.7132328111183455, '5*0+1': 2.1559330240281174, '5*0+2': 2.9382388847878276, '5*0+3': -2.5576347621039752, '5*0+4': 6.018202062344699, '5*1+0': -8.739766008656751, '5*1+1': -0.8033109598359608, '5*1+2': -1.8574755216513783, '5*1+3': -3.7243817385477813, '5*1+4': -3.1844999447886613, '5*2+0': 1.4515540402579483, '5*2+1': -1.7360971384316015, '5*2+2': 3.3817277402348096, '5*2+3': -0.3788844981593773, '5*2+4': -1.9014000466556338, '5*3+0': -1.219438599880647, '5*3+1': -3.9735082169124185, '5*3+2': 1.9426669949094415, '5*3+3': 9.079084699103092, '5*3+4': -0.8917239251873754, '5*4+0': 8.779980737795187, '5*4+1': 2.7446903937916978, '5*4+2': 5.689499048534797, '5*4+3': 5.267632759352513, '5*4+4': 1.380449157587869}. Best is trial 24 with value: 2.6533667165629504.\u001b[0m\n",
      "\u001b[32m[I 2022-04-07 15:24:28,169]\u001b[0m Trial 95 finished with value: 4.754245437084815 and parameters: {'5*0+0': 0.8138645713936883, '5*0+1': 2.783333830054272, '5*0+2': -0.3882748162378191, '5*0+3': -6.746827865757581, '5*0+4': 5.5181116209584875, '5*1+0': -0.4295505286917751, '5*1+1': -1.7975676108799412, '5*1+2': 0.7199495727133531, '5*1+3': -5.8565196840074405, '5*1+4': 0.6598348675409345, '5*2+0': 1.3553876355586123, '5*2+1': -5.101693290926517, '5*2+2': 1.5032461538271886, '5*2+3': -0.5905408323837307, '5*2+4': -3.4586229126496177, '5*3+0': -6.359421741082013, '5*3+1': -6.203691031696596, '5*3+2': -8.327225556811586, '5*3+3': 3.964999599008576, '5*3+4': -2.5083156377233977, '5*4+0': 3.8064152863392877, '5*4+1': -0.6847442070964256, '5*4+2': 3.449740638023709, '5*4+3': 1.261495064571152, '5*4+4': -5.042375183176527}. Best is trial 24 with value: 2.6533667165629504.\u001b[0m\n",
      "\u001b[32m[I 2022-04-07 15:24:28,431]\u001b[0m Trial 96 finished with value: 13.360360051288827 and parameters: {'5*0+0': 1.6756458416981552, '5*0+1': 1.1479257598967854, '5*0+2': 1.7195480656961861, '5*0+3': -2.8289736387997233, '5*0+4': 6.199796304274715, '5*1+0': -5.632881893812009, '5*1+1': 3.020163732500454, '5*1+2': 3.605061884867923, '5*1+3': -5.4434473227714175, '5*1+4': -3.9340824624913617, '5*2+0': -3.101261688060595, '5*2+1': -0.10447761516465803, '5*2+2': 0.28235533107509436, '5*2+3': 2.2312888282775334, '5*2+4': -4.426232832851108, '5*3+0': 0.26017311863451464, '5*3+1': -6.870347096125904, '5*3+2': -2.9559001086640455, '5*3+3': 6.682507723252923, '5*3+4': 2.01288851669729, '5*4+0': 0.8832265807377735, '5*4+1': 4.337219432815797, '5*4+2': 1.6065558092050516, '5*4+3': 3.9090387163778697, '5*4+4': 1.3408084319829892}. Best is trial 24 with value: 2.6533667165629504.\u001b[0m\n",
      "\u001b[32m[I 2022-04-07 15:24:28,688]\u001b[0m Trial 97 finished with value: 10.583620138838192 and parameters: {'5*0+0': 2.35550980016824, '5*0+1': 1.8811648133501824, '5*0+2': 5.361574347407878, '5*0+3': -1.4312538530375039, '5*0+4': 3.8587460804602496, '5*1+0': 1.1159920599418562, '5*1+1': 1.3928973495378212, '5*1+2': -3.0335360132122764, '5*1+3': -0.5329409763381312, '5*1+4': -1.9895732455241653, '5*2+0': -0.9895808095659646, '5*2+1': -3.3523420917491067, '5*2+2': 8.057562529582423, '5*2+3': 1.8670461822483881, '5*2+4': -2.6275602096626716, '5*3+0': 0.7667827847131106, '5*3+1': -4.950119319714911, '5*3+2': -2.917646737238098, '5*3+3': 4.758624005882859, '5*3+4': -5.659122842526773, '5*4+0': -1.227485716355162, '5*4+1': 3.511729305272262, '5*4+2': 3.222851950270747, '5*4+3': 4.8407463523890755, '5*4+4': 0.04046433444432204}. Best is trial 24 with value: 2.6533667165629504.\u001b[0m\n",
      "\u001b[32m[I 2022-04-07 15:24:28,940]\u001b[0m Trial 98 finished with value: 9.504637802703554 and parameters: {'5*0+0': 2.7838234014462273, '5*0+1': -0.7318653068676149, '5*0+2': 6.183579956907116, '5*0+3': -2.4816353001922593, '5*0+4': 8.720327347564753, '5*1+0': -3.0156568038666713, '5*1+1': -1.8706888192665443, '5*1+2': 0.12595863341614688, '5*1+3': -6.876048640750027, '5*1+4': -0.6437152181722354, '5*2+0': 7.7831378627325245, '5*2+1': -5.08004095708101, '5*2+2': 5.425646961569126, '5*2+3': 2.9704859070601835, '5*2+4': -8.376100977989653, '5*3+0': -5.135637657266799, '5*3+1': -3.8286560482106475, '5*3+2': -1.7996449633122302, '5*3+3': 0.7812778903214435, '5*3+4': -6.710410224550534, '5*4+0': -1.520512074052058, '5*4+1': 3.5072206428963844, '5*4+2': 2.1755396047895164, '5*4+3': 6.5323790479939055, '5*4+4': 0.5137485998652965}. Best is trial 24 with value: 2.6533667165629504.\u001b[0m\n",
      "\u001b[32m[I 2022-04-07 15:24:29,192]\u001b[0m Trial 99 finished with value: 6.3768270578802095 and parameters: {'5*0+0': 5.924399596618608, '5*0+1': 0.35764943595446863, '5*0+2': 2.9691047522351406, '5*0+3': -3.143839380424385, '5*0+4': 5.989080724939594, '5*1+0': -3.506257006427116, '5*1+1': -1.427297529078345, '5*1+2': -1.0628943516194675, '5*1+3': -6.172148850312599, '5*1+4': -0.13949389554562863, '5*2+0': 2.469082685027418, '5*2+1': -1.3798015839828732, '5*2+2': 3.110285980570081, '5*2+3': 2.0607336340903406, '5*2+4': -5.32528726495085, '5*3+0': -3.693724077968207, '5*3+1': -0.3932387635172123, '5*3+2': -4.069026532946431, '5*3+3': 5.768558381598206, '5*3+4': 0.22149511575639513, '5*4+0': -1.4367637578966894, '5*4+1': 3.9946758553946733, '5*4+2': 1.993287157251944, '5*4+3': 6.8436821306960764, '5*4+4': 0.8624095393322075}. Best is trial 24 with value: 2.6533667165629504.\u001b[0m\n"
     ]
    },
    {
     "name": "stderr",
     "output_type": "stream",
     "text": [
      "\u001b[32m[I 2022-04-07 15:24:29,452]\u001b[0m Trial 100 finished with value: 9.288498158028883 and parameters: {'5*0+0': -0.6018457986721457, '5*0+1': 0.10853758257175827, '5*0+2': 4.299868662994562, '5*0+3': -2.4577646893838514, '5*0+4': 8.468378901851827, '5*1+0': -0.193984723097687, '5*1+1': -0.9869834584880305, '5*1+2': 1.605663889699685, '5*1+3': -2.5295985446668245, '5*1+4': -1.3359282016284642, '5*2+0': -0.37898660450309296, '5*2+1': -5.582293493179261, '5*2+2': 3.198341681957798, '5*2+3': 2.067897263064845, '5*2+4': -3.435940794752329, '5*3+0': -7.185432378387052, '5*3+1': -8.600671694157063, '5*3+2': -1.6163245352736628, '5*3+3': 2.6472135688465914, '5*3+4': -6.819730008791627, '5*4+0': 0.6029691993073045, '5*4+1': 3.4231485510859816, '5*4+2': 1.09724669447952, '5*4+3': 3.8784095102501563, '5*4+4': -1.9296057881045476}. Best is trial 24 with value: 2.6533667165629504.\u001b[0m\n",
      "\u001b[32m[I 2022-04-07 15:24:29,708]\u001b[0m Trial 101 finished with value: 10.805537924897973 and parameters: {'5*0+0': -0.7057225734819506, '5*0+1': -3.0216052595935774, '5*0+2': 2.7588959802708324, '5*0+3': -2.0529939141090527, '5*0+4': 9.40996246601092, '5*1+0': -2.424492814683674, '5*1+1': -1.4584453187709627, '5*1+2': 4.3875510149339485, '5*1+3': -6.269423261597856, '5*1+4': 5.130654844191789, '5*2+0': -2.963360413177541, '5*2+1': -3.3984265096655815, '5*2+2': 0.9909376146131175, '5*2+3': -0.032294662384914075, '5*2+4': 0.7867357335027103, '5*3+0': -2.7796580408844322, '5*3+1': -4.349925304820947, '5*3+2': 0.7547209325403119, '5*3+3': 8.094585961531976, '5*3+4': -5.922125199492533, '5*4+0': 0.4718918413858455, '5*4+1': -2.746189510303773, '5*4+2': 2.629200565819635, '5*4+3': 8.354719924248336, '5*4+4': -0.030999881336042423}. Best is trial 24 with value: 2.6533667165629504.\u001b[0m\n",
      "\u001b[32m[I 2022-04-07 15:24:29,948]\u001b[0m Trial 102 finished with value: 9.467812796716313 and parameters: {'5*0+0': 6.072164294977881, '5*0+1': 0.09263994613491477, '5*0+2': 1.7295220094629613, '5*0+3': -2.1166429119701093, '5*0+4': 3.2755825471814415, '5*1+0': 2.3441028970494884, '5*1+1': 1.7939879803140122, '5*1+2': -2.063315425946066, '5*1+3': 0.9480335869416958, '5*1+4': 0.06794712170572326, '5*2+0': 2.942368076263417, '5*2+1': 0.8077325162597762, '5*2+2': -1.5151316960379035, '5*2+3': 3.0100891933420044, '5*2+4': -3.5353693325630484, '5*3+0': 1.0821402590630567, '5*3+1': -0.6370597354085197, '5*3+2': -4.666637948983376, '5*3+3': 7.831755194669547, '5*3+4': -5.1840992951286236, '5*4+0': 1.965209290167133, '5*4+1': -0.21386902059819812, '5*4+2': -0.2585400566452809, '5*4+3': 3.174924557408243, '5*4+4': 2.160597601869255}. Best is trial 24 with value: 2.6533667165629504.\u001b[0m\n",
      "\u001b[32m[I 2022-04-07 15:24:30,229]\u001b[0m Trial 103 finished with value: 9.562145361154151 and parameters: {'5*0+0': 2.3188257714366647, '5*0+1': -4.337916306414002, '5*0+2': -1.2649536776698238, '5*0+3': -6.034804736369988, '5*0+4': 2.9411375213308943, '5*1+0': 0.24790366794424612, '5*1+1': 1.5193698907452489, '5*1+2': 1.5595715513878523, '5*1+3': -5.517555107658927, '5*1+4': -4.144741785254685, '5*2+0': 1.468720448641324, '5*2+1': -2.245466475745123, '5*2+2': 4.18165145272334, '5*2+3': 2.031827286209264, '5*2+4': -5.184977270185416, '5*3+0': -4.180321282074928, '5*3+1': -5.4572825390369415, '5*3+2': -1.8987167203812234, '5*3+3': 0.2588698364900539, '5*3+4': -4.140584137735938, '5*4+0': 5.442913504015832, '5*4+1': -1.3133577960447718, '5*4+2': 0.7875128140621828, '5*4+3': 5.783174932760556, '5*4+4': 2.0947413235376655}. Best is trial 24 with value: 2.6533667165629504.\u001b[0m\n",
      "\u001b[32m[I 2022-04-07 15:24:30,501]\u001b[0m Trial 104 finished with value: 10.079874900868916 and parameters: {'5*0+0': 4.200877860214847, '5*0+1': 5.327638227176601, '5*0+2': 4.543539668580646, '5*0+3': -2.0582170840682776, '5*0+4': 6.306372047432607, '5*1+0': -5.008972034818026, '5*1+1': 0.7853342710044613, '5*1+2': 7.227265789987767, '5*1+3': -6.359997558422686, '5*1+4': -4.350653201291474, '5*2+0': -3.8440189173063777, '5*2+1': -0.8088837285090462, '5*2+2': 4.355238116767785, '5*2+3': 1.6154662114450349, '5*2+4': -4.474183948329804, '5*3+0': -3.4922502749838698, '5*3+1': -3.3420599269020173, '5*3+2': -2.8804989958967244, '5*3+3': 4.790967478001933, '5*3+4': -2.956483502811129, '5*4+0': 1.2602516027740585, '5*4+1': 0.573199494843512, '5*4+2': 4.045392767507547, '5*4+3': 3.9761995733847875, '5*4+4': 1.6902297811760296}. Best is trial 24 with value: 2.6533667165629504.\u001b[0m\n",
      "\u001b[32m[I 2022-04-07 15:24:30,872]\u001b[0m Trial 105 finished with value: 10.560777661026764 and parameters: {'5*0+0': 1.9421882010505236, '5*0+1': 2.4388612272897854, '5*0+2': 2.0919100337053136, '5*0+3': -4.621084637780448, '5*0+4': -1.764966016016463, '5*1+0': -2.896588356083888, '5*1+1': 0.5258432796296293, '5*1+2': -0.23789785486142723, '5*1+3': -5.856268740863279, '5*1+4': -2.4097268574389217, '5*2+0': 1.8674689524555586, '5*2+1': -6.6839445349611095, '5*2+2': 2.130579676159973, '5*2+3': 1.9001944450177852, '5*2+4': -8.214866954953083, '5*3+0': -6.112267312110337, '5*3+1': -6.021447748479183, '5*3+2': -1.432706273518511, '5*3+3': 6.249530064031441, '5*3+4': -5.426331095475074, '5*4+0': -2.2031316626123716, '5*4+1': 1.593447795978896, '5*4+2': 2.5554930451854525, '5*4+3': 2.8630996632827452, '5*4+4': -2.806878436030678}. Best is trial 24 with value: 2.6533667165629504.\u001b[0m\n",
      "\u001b[32m[I 2022-04-07 15:24:31,132]\u001b[0m Trial 106 finished with value: 6.10079519715123 and parameters: {'5*0+0': 4.326432501898052, '5*0+1': 0.7263661271559133, '5*0+2': 2.5375585632101214, '5*0+3': -2.40982392986502, '5*0+4': 9.421773029244203, '5*1+0': -0.5318574035577944, '5*1+1': -3.6114191273668514, '5*1+2': 0.10218947347357243, '5*1+3': -0.559142160603673, '5*1+4': 2.2071813283144452, '5*2+0': 2.8245521051048295, '5*2+1': 1.8510629258593703, '5*2+2': 3.6679554726126975, '5*2+3': 1.1484549549901808, '5*2+4': -3.5726762788890607, '5*3+0': -4.0735612885466, '5*3+1': -4.534883210769558, '5*3+2': -6.650407622252232, '5*3+3': 2.8513760211434356, '5*3+4': 4.591966199948637, '5*4+0': 3.0501245354713693, '5*4+1': -2.588199357965017, '5*4+2': 4.849315392266007, '5*4+3': 5.539418156990739, '5*4+4': -6.842221347112783}. Best is trial 24 with value: 2.6533667165629504.\u001b[0m\n",
      "\u001b[32m[I 2022-04-07 15:24:31,384]\u001b[0m Trial 107 finished with value: 9.615038043709212 and parameters: {'5*0+0': 0.9417729831261723, '5*0+1': 1.7301241436799972, '5*0+2': -0.6906038996879333, '5*0+3': -4.913177224928328, '5*0+4': 6.0516588521161285, '5*1+0': 0.8184055693011711, '5*1+1': -2.2769646810047113, '5*1+2': 1.912866317679781, '5*1+3': -3.194974840929101, '5*1+4': 1.2414088098225597, '5*2+0': -0.8550636094927784, '5*2+1': 1.5173818944996187, '5*2+2': 2.002605395253586, '5*2+3': 2.406672420962111, '5*2+4': -2.166867129653858, '5*3+0': -6.542264024203874, '5*3+1': -5.724582887727292, '5*3+2': -6.616465260340212, '5*3+3': 4.958355418374663, '5*3+4': -4.65537220332872, '5*4+0': -2.3936415138757794, '5*4+1': 1.6939224836565396, '5*4+2': 0.6354489028360306, '5*4+3': 5.904672466584362, '5*4+4': -1.3434238691599756}. Best is trial 24 with value: 2.6533667165629504.\u001b[0m\n",
      "\u001b[32m[I 2022-04-07 15:24:31,632]\u001b[0m Trial 108 finished with value: 6.443135233101474 and parameters: {'5*0+0': 1.3318653038503248, '5*0+1': -1.6491125962088042, '5*0+2': 3.329285675270226, '5*0+3': -1.5470515069849116, '5*0+4': 4.082923755390509, '5*1+0': 2.0668270974029914, '5*1+1': -0.6990681261347518, '5*1+2': 0.14987811071445575, '5*1+3': -7.936294360813868, '5*1+4': -2.559507696882991, '5*2+0': 4.200050208744418, '5*2+1': -1.4431735138240074, '5*2+2': 1.617307092902391, '5*2+3': -3.1876236626204255, '5*2+4': -5.317077543862624, '5*3+0': -4.778164637441812, '5*3+1': -9.362963075874369, '5*3+2': -2.6841725942832033, '5*3+3': 3.2089134703998328, '5*3+4': -1.9223403713661604, '5*4+0': 5.076442414621182, '5*4+1': -4.137234178656805, '5*4+2': -0.3764335275845454, '5*4+3': -0.9798725240954695, '5*4+4': -6.2777261605445185}. Best is trial 24 with value: 2.6533667165629504.\u001b[0m\n",
      "\u001b[32m[I 2022-04-07 15:24:31,882]\u001b[0m Trial 109 finished with value: 13.194183693724465 and parameters: {'5*0+0': 2.4319578187016346, '5*0+1': 2.6966117949836983, '5*0+2': -1.9114903857337806, '5*0+3': -2.779418911801722, '5*0+4': 4.588713756824639, '5*1+0': 2.9825075160297274, '5*1+1': 0.44747621776823787, '5*1+2': -0.8803900371721418, '5*1+3': -4.865008247633586, '5*1+4': 4.82935724100021, '5*2+0': -2.6187987618914885, '5*2+1': -8.458391069128286, '5*2+2': 2.8624504042995875, '5*2+3': 0.6171665417339036, '5*2+4': -6.704646283874304, '5*3+0': -4.312435587608083, '5*3+1': -4.837257142276128, '5*3+2': -3.1911054263589866, '5*3+3': 6.329255784104106, '5*3+4': -2.9643999308372972, '5*4+0': 1.1786984917949253, '5*4+1': 1.134005196294727, '5*4+2': 4.817794125284911, '5*4+3': 4.85178773431149, '5*4+4': -5.6547805138032325}. Best is trial 24 with value: 2.6533667165629504.\u001b[0m\n"
     ]
    },
    {
     "name": "stderr",
     "output_type": "stream",
     "text": [
      "\u001b[32m[I 2022-04-07 15:24:32,152]\u001b[0m Trial 110 finished with value: 4.450418028489228 and parameters: {'5*0+0': -2.7103939806962014, '5*0+1': -0.29986806618531014, '5*0+2': 4.102537490468967, '5*0+3': -4.72517519999512, '5*0+4': 2.9764260270824763, '5*1+0': -2.885552024996505, '5*1+1': 0.2580336768805296, '5*1+2': -0.011884908711575826, '5*1+3': -7.278703416342351, '5*1+4': 4.148161399302712, '5*2+0': 1.3132385304224117, '5*2+1': -2.5834661233822005, '5*2+2': 1.7983328287913478, '5*2+3': 1.5759474906820845, '5*2+4': -4.890284573807363, '5*3+0': 0.4218508815863613, '5*3+1': -7.405531599856329, '5*3+2': -7.823814189105946, '5*3+3': -0.30099478039974414, '5*3+4': 2.0337801454405486, '5*4+0': 0.04334401740774907, '5*4+1': 0.4138191796566564, '5*4+2': 3.0998383456243706, '5*4+3': 9.161710165228484, '5*4+4': -0.5032170998211292}. Best is trial 24 with value: 2.6533667165629504.\u001b[0m\n",
      "\u001b[32m[I 2022-04-07 15:24:32,408]\u001b[0m Trial 111 finished with value: 20.12972209441124 and parameters: {'5*0+0': 2.6527051883272716, '5*0+1': 2.969518414022491, '5*0+2': -3.4626120379735563, '5*0+3': -3.0845738564195155, '5*0+4': 6.254763543965286, '5*1+0': -3.1853037143567007, '5*1+1': -0.3360034504476189, '5*1+2': 2.5387778890287622, '5*1+3': -7.330610201433039, '5*1+4': 1.734639577423666, '5*2+0': 3.2709028031241507, '5*2+1': -6.060546911574411, '5*2+2': 5.4702990598319055, '5*2+3': -2.638202748936088, '5*2+4': -7.513697302460665, '5*3+0': -0.9676187786368526, '5*3+1': -8.750574383574634, '5*3+2': -2.40817837417567, '5*3+3': 2.315556443727343, '5*3+4': -5.861174404311763, '5*4+0': 4.263255275111283, '5*4+1': -0.3050712827252564, '5*4+2': 3.9036514638759883, '5*4+3': 5.10204175714665, '5*4+4': -0.5829964601743027}. Best is trial 24 with value: 2.6533667165629504.\u001b[0m\n",
      "\u001b[32m[I 2022-04-07 15:24:32,665]\u001b[0m Trial 112 finished with value: 14.314891269925283 and parameters: {'5*0+0': 5.955124856582815, '5*0+1': -1.639092791519852, '5*0+2': 3.533371404408466, '5*0+3': -1.6739802220900746, '5*0+4': 8.060332609862105, '5*1+0': -0.45630027054944744, '5*1+1': -0.8010973974789674, '5*1+2': -0.40994206169363745, '5*1+3': -5.486245369291755, '5*1+4': -0.008666870977292601, '5*2+0': -1.363860419880818, '5*2+1': -4.025906978348705, '5*2+2': -0.8449268354524717, '5*2+3': 0.07375327079478033, '5*2+4': -4.917928617859054, '5*3+0': -3.609094535589232, '5*3+1': -3.0155886562709022, '5*3+2': -8.660721931936802, '5*3+3': 5.437168180391568, '5*3+4': -1.6704649199291697, '5*4+0': 1.3716958538061812, '5*4+1': 1.256166336664227, '5*4+2': 0.842050021746068, '5*4+3': 1.402757755682658, '5*4+4': -2.6035171587989447}. Best is trial 24 with value: 2.6533667165629504.\u001b[0m\n",
      "\u001b[32m[I 2022-04-07 15:24:33,004]\u001b[0m Trial 113 finished with value: 12.505481062589059 and parameters: {'5*0+0': 1.006997465727912, '5*0+1': 0.7351749776787444, '5*0+2': 2.2231842718335852, '5*0+3': -5.839702162205857, '5*0+4': 3.211723728860403, '5*1+0': 1.4431531607583128, '5*1+1': -2.691696417509853, '5*1+2': -1.3243348838700724, '5*1+3': -5.410265707582803, '5*1+4': -3.4472896233836305, '5*2+0': 2.8466775975853005, '5*2+1': -5.319825810776292, '5*2+2': 4.804723815661058, '5*2+3': 5.76226306624094, '5*2+4': -1.7329346068672034, '5*3+0': -6.970435964099215, '5*3+1': -3.1977380786357044, '5*3+2': -5.780284987963748, '5*3+3': 2.213474804904693, '5*3+4': 2.6756851392784844, '5*4+0': 4.892134873534419, '5*4+1': 0.23542009288937948, '5*4+2': 0.7610177441106334, '5*4+3': 1.1208099794378126, '5*4+4': -2.0737239759295947}. Best is trial 24 with value: 2.6533667165629504.\u001b[0m\n",
      "\u001b[32m[I 2022-04-07 15:24:33,274]\u001b[0m Trial 114 finished with value: 5.563457421954219 and parameters: {'5*0+0': 2.498872604966053, '5*0+1': 3.5018885874728833, '5*0+2': 0.8332864158385435, '5*0+3': 2.226734484727876, '5*0+4': 4.356502298283824, '5*1+0': -3.203807424551798, '5*1+1': -4.456049780725614, '5*1+2': 3.8298065017971146, '5*1+3': -5.968851986971277, '5*1+4': 1.2503355332824502, '5*2+0': 1.2172313461070297, '5*2+1': -5.001141136825342, '5*2+2': 2.1252991323164423, '5*2+3': 0.933667881813174, '5*2+4': -2.4742198054801148, '5*3+0': -6.906859677976388, '5*3+1': -7.206787643907641, '5*3+2': -5.379925549937034, '5*3+3': 5.475610623309951, '5*3+4': -0.27343151340255156, '5*4+0': 2.3280632187201515, '5*4+1': 3.828745957558904, '5*4+2': -0.5895427358666261, '5*4+3': 6.774748688346479, '5*4+4': 0.4165506429329098}. Best is trial 24 with value: 2.6533667165629504.\u001b[0m\n",
      "\u001b[32m[I 2022-04-07 15:24:33,551]\u001b[0m Trial 115 finished with value: 4.134192558593986 and parameters: {'5*0+0': -0.8446803367296467, '5*0+1': 2.3416741055665864, '5*0+2': 4.3666200628638485, '5*0+3': -4.806312063082519, '5*0+4': 4.083836924783131, '5*1+0': -1.5381484393798304, '5*1+1': 5.272052419885378, '5*1+2': -2.4348811749385826, '5*1+3': -7.395368119434463, '5*1+4': 0.6026426331331114, '5*2+0': 1.9703577976269924, '5*2+1': -3.8774836349371995, '5*2+2': -0.8436468724219015, '5*2+3': 2.7606962123370757, '5*2+4': -6.719292341537932, '5*3+0': -3.7899555348150713, '5*3+1': -3.201544513028806, '5*3+2': -3.3382281571392705, '5*3+3': 2.765542861299956, '5*3+4': -4.581684608576297, '5*4+0': 3.0455692716128517, '5*4+1': 1.2035678584010863, '5*4+2': -2.130718805551734, '5*4+3': 8.866806346522349, '5*4+4': -5.380508515338105}. Best is trial 24 with value: 2.6533667165629504.\u001b[0m\n",
      "\u001b[32m[I 2022-04-07 15:24:33,826]\u001b[0m Trial 116 finished with value: 8.54190501252712 and parameters: {'5*0+0': 4.017511180874813, '5*0+1': 1.6307689654719306, '5*0+2': 0.11875573498674297, '5*0+3': -4.0289797169483155, '5*0+4': 5.739067796931269, '5*1+0': -4.7967620441469, '5*1+1': -1.2586554300802781, '5*1+2': 0.9089689453633891, '5*1+3': -6.681630531352608, '5*1+4': 2.2964375542418294, '5*2+0': 0.031915905497112984, '5*2+1': 1.4524923565838908, '5*2+2': -3.77195968744436, '5*2+3': 2.1877680359037486, '5*2+4': -1.27938185757966, '5*3+0': -6.429653413686555, '5*3+1': -1.744580287539823, '5*3+2': -7.883411430553364, '5*3+3': 4.66428150838184, '5*3+4': 0.7193032711608396, '5*4+0': 0.14027592043344517, '5*4+1': 1.6293373018472235, '5*4+2': -0.0984838125110965, '5*4+3': 4.400661372737033, '5*4+4': -2.555178461726211}. Best is trial 24 with value: 2.6533667165629504.\u001b[0m\n",
      "\u001b[32m[I 2022-04-07 15:24:34,081]\u001b[0m Trial 117 finished with value: 7.373697687793724 and parameters: {'5*0+0': -2.7581101151018697, '5*0+1': -1.2760615603898935, '5*0+2': 2.797575883449145, '5*0+3': -0.5958208461517871, '5*0+4': 1.1817932285281092, '5*1+0': -3.544941597022995, '5*1+1': -0.7465955275127214, '5*1+2': 2.6461502901845515, '5*1+3': -5.29830301554366, '5*1+4': -3.094047099791823, '5*2+0': -6.168922518102764, '5*2+1': -4.862467998974171, '5*2+2': 4.220552241235662, '5*2+3': 2.8859496966573546, '5*2+4': -8.762595834201186, '5*3+0': -4.554495166984306, '5*3+1': -1.7543776054919449, '5*3+2': -8.230084876099028, '5*3+3': 5.318808690789766, '5*3+4': -7.3699601245298965, '5*4+0': 0.4739614431694732, '5*4+1': 0.8862113764321202, '5*4+2': 3.4470351258579384, '5*4+3': 5.243720611047822, '5*4+4': -4.305070097766108}. Best is trial 24 with value: 2.6533667165629504.\u001b[0m\n",
      "\u001b[32m[I 2022-04-07 15:24:34,320]\u001b[0m Trial 118 finished with value: 4.455920774069703 and parameters: {'5*0+0': 0.2699846935711984, '5*0+1': 2.2752386488651726, '5*0+2': 2.83012384926124, '5*0+3': -2.86114706987048, '5*0+4': 4.161756308089161, '5*1+0': -2.6257090476210623, '5*1+1': -5.672945024896544, '5*1+2': 0.8578219945939609, '5*1+3': -8.403264739605987, '5*1+4': 4.317192097238899, '5*2+0': 2.7873668169951413, '5*2+1': -0.4211968961557302, '5*2+2': 1.7335493753848032, '5*2+3': 4.109117775354571, '5*2+4': -5.247440027961519, '5*3+0': -8.164034212354943, '5*3+1': -6.06195998849079, '5*3+2': -4.680114732913543, '5*3+3': 3.2399931450142154, '5*3+4': -3.6398583422408937, '5*4+0': 0.1394817500416763, '5*4+1': 0.16908839003042653, '5*4+2': -0.7948530923697499, '5*4+3': 4.713322947858041, '5*4+4': -7.84002340623015}. Best is trial 24 with value: 2.6533667165629504.\u001b[0m\n",
      "\u001b[32m[I 2022-04-07 15:24:34,610]\u001b[0m Trial 119 finished with value: 4.559506022753515 and parameters: {'5*0+0': 1.8697323002930046, '5*0+1': 1.7550211663688235, '5*0+2': 1.5273739894280696, '5*0+3': -5.127519462398791, '5*0+4': 5.812022077507282, '5*1+0': -4.342648654543776, '5*1+1': 2.948299502862832, '5*1+2': -3.3917413123949594, '5*1+3': -9.365318919926803, '5*1+4': -1.1366460034192138, '5*2+0': 0.9702210469747162, '5*2+1': -0.8976428012184794, '5*2+2': 0.3615295770855953, '5*2+3': 3.9770409207133346, '5*2+4': -8.375390643997008, '5*3+0': -4.735289883033106, '5*3+1': -3.4689061917442174, '5*3+2': -5.148309400853721, '5*3+3': 2.128947045634821, '5*3+4': -6.144189261487789, '5*4+0': 0.15997620331729268, '5*4+1': -0.03941748876852813, '5*4+2': -2.0432976535173575, '5*4+3': 5.29259490488553, '5*4+4': 1.3163526445942852}. Best is trial 24 with value: 2.6533667165629504.\u001b[0m\n"
     ]
    },
    {
     "name": "stderr",
     "output_type": "stream",
     "text": [
      "\u001b[32m[I 2022-04-07 15:24:34,881]\u001b[0m Trial 120 finished with value: 4.873308948462683 and parameters: {'5*0+0': 2.58363050065547, '5*0+1': 6.58848398432392, '5*0+2': 4.401541951118251, '5*0+3': -3.3850004068082544, '5*0+4': 5.499376225520276, '5*1+0': -3.7442199533692397, '5*1+1': 0.5133847934438847, '5*1+2': -3.404779064079185, '5*1+3': -6.355064701989223, '5*1+4': -0.3734835190740893, '5*2+0': 0.12051369903461273, '5*2+1': -3.2945545712819335, '5*2+2': -0.978994563261194, '5*2+3': 1.4646626151389077, '5*2+4': -5.150078127950375, '5*3+0': -1.454292202929674, '5*3+1': -2.9290157367556238, '5*3+2': -8.025204765117493, '5*3+3': 2.9789671598189593, '5*3+4': 3.6319177348414096, '5*4+0': 0.04271418630113821, '5*4+1': 0.8354142957959225, '5*4+2': -1.2150983875095356, '5*4+3': 4.892464250108498, '5*4+4': -7.654662062025109}. Best is trial 24 with value: 2.6533667165629504.\u001b[0m\n",
      "\u001b[32m[I 2022-04-07 15:24:35,158]\u001b[0m Trial 121 finished with value: 9.7911774193769 and parameters: {'5*0+0': 1.7560846802721486, '5*0+1': 3.2307705142175536, '5*0+2': 3.1980192345287457, '5*0+3': -2.502591274904224, '5*0+4': 3.4718521828985196, '5*1+0': -1.2159117973971205, '5*1+1': 0.6204982426944418, '5*1+2': 0.5411586955243601, '5*1+3': -6.373407113695824, '5*1+4': 0.8572885205769887, '5*2+0': 0.4532863717385158, '5*2+1': -5.838687639758925, '5*2+2': 1.5548304343014294, '5*2+3': 0.45701127076799275, '5*2+4': -4.770093303448897, '5*3+0': -1.214583975284858, '5*3+1': 0.7576848388350594, '5*3+2': -5.362534824072523, '5*3+3': 3.361403968831817, '5*3+4': -3.7678121704697647, '5*4+0': -1.3947940296730672, '5*4+1': 1.8515416786328938, '5*4+2': 0.8552292029274733, '5*4+3': 7.678589950930777, '5*4+4': -2.111022963578433}. Best is trial 24 with value: 2.6533667165629504.\u001b[0m\n",
      "\u001b[32m[I 2022-04-07 15:24:35,439]\u001b[0m Trial 122 finished with value: 10.409702169260967 and parameters: {'5*0+0': 0.6487756219360986, '5*0+1': 1.6184490422019406, '5*0+2': 7.051015332617718, '5*0+3': -7.22693758572633, '5*0+4': 0.09189319446535027, '5*1+0': 0.48160140787020866, '5*1+1': -3.1697325934375664, '5*1+2': -1.607388797350702, '5*1+3': -6.430792704297007, '5*1+4': -2.73705407603582, '5*2+0': 0.7404633658792144, '5*2+1': -6.730581205185705, '5*2+2': 2.2158424459706216, '5*2+3': 0.06412405277741251, '5*2+4': -4.151628375606263, '5*3+0': -5.2640958809898, '5*3+1': -6.157404809812597, '5*3+2': -1.9376126139162677, '5*3+3': 4.394690688645156, '5*3+4': -3.7783200505328374, '5*4+0': 5.97459926527739, '5*4+1': -3.2746022281380256, '5*4+2': 0.3220293932543853, '5*4+3': 5.89971374625142, '5*4+4': -6.546682770427539}. Best is trial 24 with value: 2.6533667165629504.\u001b[0m\n",
      "\u001b[32m[I 2022-04-07 15:24:35,709]\u001b[0m Trial 123 finished with value: 9.337817779223332 and parameters: {'5*0+0': 4.777938840100025, '5*0+1': -0.8390734644531816, '5*0+2': 5.189056545002947, '5*0+3': -1.7265317839890226, '5*0+4': 5.383167005736502, '5*1+0': -0.812625156637165, '5*1+1': 5.146903819329325, '5*1+2': 6.164959948545993, '5*1+3': -5.347560630964574, '5*1+4': 1.018844398370391, '5*2+0': 2.806651747324624, '5*2+1': -6.241209317315409, '5*2+2': 3.6864350420966057, '5*2+3': 1.975393140842445, '5*2+4': -2.241605177003339, '5*3+0': -5.600286192027728, '5*3+1': -4.423590971980109, '5*3+2': -5.330995105354769, '5*3+3': 2.458730173168331, '5*3+4': -0.13304977396174578, '5*4+0': 1.880447258221093, '5*4+1': -2.8796192410666857, '5*4+2': -2.405581845442721, '5*4+3': 9.076012531642357, '5*4+4': -5.049250220272543}. Best is trial 24 with value: 2.6533667165629504.\u001b[0m\n",
      "\u001b[32m[I 2022-04-07 15:24:35,958]\u001b[0m Trial 124 finished with value: 5.612450552215003 and parameters: {'5*0+0': -2.088384659386561, '5*0+1': 1.2232359505653065, '5*0+2': 1.3642943914282144, '5*0+3': -5.6371279887355, '5*0+4': -0.6645585099883631, '5*1+0': 2.764755947103916, '5*1+1': -0.13096911375085596, '5*1+2': -1.923517798029099, '5*1+3': -1.3431937730247068, '5*1+4': 1.972942927112415, '5*2+0': -0.41300052666301035, '5*2+1': 0.3426622225413096, '5*2+2': 0.4181554671783083, '5*2+3': 1.0240712462075452, '5*2+4': -5.465853561276255, '5*3+0': -3.4199254521412996, '5*3+1': -5.7082128807231305, '5*3+2': -3.80798167885757, '5*3+3': 1.1875160989576594, '5*3+4': 3.0030114315468053, '5*4+0': 3.1803155944404327, '5*4+1': 2.650687161735999, '5*4+2': 3.950455065504202, '5*4+3': 5.60052379269907, '5*4+4': -0.43712714795801144}. Best is trial 24 with value: 2.6533667165629504.\u001b[0m\n",
      "\u001b[32m[I 2022-04-07 15:24:36,206]\u001b[0m Trial 125 finished with value: 12.139483665704901 and parameters: {'5*0+0': -0.5090554577791968, '5*0+1': 1.686308877990107, '5*0+2': 2.5508841918661993, '5*0+3': -2.342858786791007, '5*0+4': 2.7720550398320167, '5*1+0': -0.19027211992883308, '5*1+1': 0.11416427186033029, '5*1+2': -3.3477879016527163, '5*1+3': -5.245006613909844, '5*1+4': 0.2382165958915894, '5*2+0': 0.0023162048426568216, '5*2+1': -3.089815904714461, '5*2+2': 2.3805480136278554, '5*2+3': 1.5990486581225836, '5*2+4': -3.7353054676942055, '5*3+0': -2.2910305937084274, '5*3+1': -4.695078373391034, '5*3+2': -6.053544624952505, '5*3+3': 1.4875988809731708, '5*3+4': 2.3035589044389733, '5*4+0': 6.5621480215335275, '5*4+1': 0.09126116242410065, '5*4+2': 3.4127375683507113, '5*4+3': 9.195275487994468, '5*4+4': -5.409849796535458}. Best is trial 24 with value: 2.6533667165629504.\u001b[0m\n",
      "\u001b[32m[I 2022-04-07 15:24:36,489]\u001b[0m Trial 126 finished with value: 7.167606765028608 and parameters: {'5*0+0': 2.847207071764827, '5*0+1': 1.2964422791551615, '5*0+2': 3.1802314178104245, '5*0+3': -3.086675590713953, '5*0+4': 3.6136150989163003, '5*1+0': -1.2946811786877945, '5*1+1': 0.5627094033082578, '5*1+2': 0.520712224705437, '5*1+3': -7.098648110986824, '5*1+4': -2.2668626656696587, '5*2+0': 4.726246969353886, '5*2+1': 0.11271230522420694, '5*2+2': 3.4588436169251002, '5*2+3': 6.769277862861274, '5*2+4': -6.394653052686504, '5*3+0': -0.5737616722351322, '5*3+1': -5.790904238215275, '5*3+2': -8.105860327188816, '5*3+3': 3.2610620195427913, '5*3+4': -1.6287728700646045, '5*4+0': 1.915177874029419, '5*4+1': 1.2205955073354469, '5*4+2': 3.3004635088078915, '5*4+3': 7.013989002116564, '5*4+4': -5.544309359437156}. Best is trial 24 with value: 2.6533667165629504.\u001b[0m\n",
      "\u001b[32m[I 2022-04-07 15:24:36,766]\u001b[0m Trial 127 finished with value: 10.590106983860242 and parameters: {'5*0+0': 2.574512080602818, '5*0+1': 3.7831257600874797, '5*0+2': 5.463823583560959, '5*0+3': -2.465316337066005, '5*0+4': 0.18057893653246104, '5*1+0': -0.3655179818901937, '5*1+1': 4.513454409876987, '5*1+2': 2.5140011755933287, '5*1+3': -3.942400673793451, '5*1+4': 1.0914600564934718, '5*2+0': -0.05590358354698233, '5*2+1': -2.8116156231448897, '5*2+2': -0.24494081502673914, '5*2+3': 0.2026060493404287, '5*2+4': -5.649690308393216, '5*3+0': -3.231609561445657, '5*3+1': -4.542090311189383, '5*3+2': -4.057002578218667, '5*3+3': 2.258131766321744, '5*3+4': -0.07073082039645207, '5*4+0': 3.767186227105986, '5*4+1': 0.5618860989668363, '5*4+2': -1.2376807034141613, '5*4+3': 5.900804890733008, '5*4+4': 0.8619082260814195}. Best is trial 24 with value: 2.6533667165629504.\u001b[0m\n",
      "\u001b[32m[I 2022-04-07 15:24:37,041]\u001b[0m Trial 128 finished with value: 7.748324938006096 and parameters: {'5*0+0': -1.5716854932327402, '5*0+1': -0.16329879969605576, '5*0+2': 4.278876913589118, '5*0+3': -4.674671337657346, '5*0+4': 5.813438870551654, '5*1+0': -2.93292753932327, '5*1+1': 2.1439382862243863, '5*1+2': -0.6539267825774637, '5*1+3': -8.94427210487208, '5*1+4': -0.40160572816937457, '5*2+0': -1.8994279797304907, '5*2+1': -6.043430866680997, '5*2+2': 2.8424901586418234, '5*2+3': 1.3995811373586537, '5*2+4': -9.073303360460526, '5*3+0': -4.88425848678605, '5*3+1': -4.9318708949432395, '5*3+2': -4.853882596238852, '5*3+3': 3.3458364238234637, '5*3+4': -1.9122559765653229, '5*4+0': 1.0364646637893915, '5*4+1': 2.2569424538816483, '5*4+2': 0.47093002426171643, '5*4+3': 9.147739894598319, '5*4+4': 0.24107061787931805}. Best is trial 24 with value: 2.6533667165629504.\u001b[0m\n",
      "\u001b[32m[I 2022-04-07 15:24:37,299]\u001b[0m Trial 129 finished with value: 7.035708590793055 and parameters: {'5*0+0': 1.401562277879329, '5*0+1': -3.3116512224895827, '5*0+2': 1.6851019969329672, '5*0+3': -5.615936839296446, '5*0+4': 1.9964886286497152, '5*1+0': -2.297376586145614, '5*1+1': -0.9550745058599592, '5*1+2': 1.1087860022498057, '5*1+3': -4.250225632083297, '5*1+4': 0.8703710681015028, '5*2+0': -0.3019856732403259, '5*2+1': 0.7354091053105294, '5*2+2': 1.1772262165678784, '5*2+3': 6.105751939547619, '5*2+4': -3.8962106975895843, '5*3+0': -2.300463321787694, '5*3+1': -4.730464320592516, '5*3+2': -5.2865332094675415, '5*3+3': 3.3812055861700805, '5*3+4': -4.472566791886901, '5*4+0': 2.981081410511407, '5*4+1': 2.8978503708377046, '5*4+2': 1.1768555341151283, '5*4+3': 4.522633646073398, '5*4+4': -1.0454511297030362}. Best is trial 24 with value: 2.6533667165629504.\u001b[0m\n"
     ]
    },
    {
     "name": "stderr",
     "output_type": "stream",
     "text": [
      "\u001b[32m[I 2022-04-07 15:24:37,559]\u001b[0m Trial 130 finished with value: 9.83174797502512 and parameters: {'5*0+0': 1.3703061505673397, '5*0+1': 3.0502252763887645, '5*0+2': 2.002440769610186, '5*0+3': 1.943475001943777, '5*0+4': 5.592418423391249, '5*1+0': -4.291243228695423, '5*1+1': 2.9009189582217205, '5*1+2': 1.1499997869867153, '5*1+3': -7.355797459228208, '5*1+4': 0.21565469214368904, '5*2+0': 1.2268268221746197, '5*2+1': -0.0896578465682718, '5*2+2': 2.1053885338973655, '5*2+3': 2.6148573991404906, '5*2+4': -5.457745142257086, '5*3+0': -2.7417043263786147, '5*3+1': -5.948673420744619, '5*3+2': -3.691818377629386, '5*3+3': 1.3063518016934426, '5*3+4': -2.5052491368412158, '5*4+0': -1.8980885270166281, '5*4+1': 3.308664741488945, '5*4+2': -1.379001104542509, '5*4+3': 6.979543755304371, '5*4+4': -6.228646942133855}. Best is trial 24 with value: 2.6533667165629504.\u001b[0m\n",
      "\u001b[32m[I 2022-04-07 15:24:37,830]\u001b[0m Trial 131 finished with value: 4.8278856161713835 and parameters: {'5*0+0': 3.3579725343818554, '5*0+1': 1.1062252299231665, '5*0+2': 4.127201595988383, '5*0+3': -5.7703122376193186, '5*0+4': 1.116545870796886, '5*1+0': -1.265917673374789, '5*1+1': -3.4555092067768127, '5*1+2': -1.1465597682788993, '5*1+3': -5.386575290759183, '5*1+4': 0.12173062721410877, '5*2+0': 0.8455583045080916, '5*2+1': 3.676595914315137, '5*2+2': -1.4699886570860312, '5*2+3': 5.834710302107739, '5*2+4': -4.193773400334576, '5*3+0': -4.911961114568885, '5*3+1': -2.3593791054670605, '5*3+2': -5.339100266232466, '5*3+3': 2.0138732121389746, '5*3+4': -1.667346290632565, '5*4+0': 0.9594555871273577, '5*4+1': 1.8868156981089426, '5*4+2': -1.163445780800622, '5*4+3': 5.266946216470098, '5*4+4': -3.3300224250704265}. Best is trial 24 with value: 2.6533667165629504.\u001b[0m\n",
      "\u001b[32m[I 2022-04-07 15:24:38,121]\u001b[0m Trial 132 finished with value: 8.174196219939068 and parameters: {'5*0+0': 1.4310175910013303, '5*0+1': 4.823696577343385, '5*0+2': 5.621491731415536, '5*0+3': -3.9379095457916478, '5*0+4': 6.378689631206213, '5*1+0': -3.810389912701525, '5*1+1': -6.119430773542295, '5*1+2': 3.1630920189175358, '5*1+3': -7.845365888293742, '5*1+4': 2.97406312249997, '5*2+0': 4.06673383613905, '5*2+1': -4.972413073247303, '5*2+2': 1.5100316029140433, '5*2+3': 4.334728351910478, '5*2+4': -7.6951250185431155, '5*3+0': -0.5423704954029107, '5*3+1': -6.678505332070458, '5*3+2': -4.398367307017709, '5*3+3': 2.326375557929346, '5*3+4': -3.769499419687093, '5*4+0': 5.017687496906613, '5*4+1': -0.6651055344933744, '5*4+2': 0.250019868617677, '5*4+3': 3.984293332857805, '5*4+4': -5.605816273915682}. Best is trial 24 with value: 2.6533667165629504.\u001b[0m\n",
      "\u001b[32m[I 2022-04-07 15:24:38,404]\u001b[0m Trial 133 finished with value: 10.32601064778171 and parameters: {'5*0+0': 2.7938802222388537, '5*0+1': -0.5544700171409453, '5*0+2': 1.882556498399629, '5*0+3': -3.204728169118154, '5*0+4': 4.495591972467709, '5*1+0': -1.4541416454535758, '5*1+1': -0.6632832764927687, '5*1+2': -0.2448597598306077, '5*1+3': -7.362761481252602, '5*1+4': 0.2369174289567153, '5*2+0': -0.9099350706336289, '5*2+1': -2.8833966320017446, '5*2+2': -1.1783748399312524, '5*2+3': 4.446622378118855, '5*2+4': -5.211031335430059, '5*3+0': -2.590203669163195, '5*3+1': -4.474102504526005, '5*3+2': -3.872602030501573, '5*3+3': 4.75370570963342, '5*3+4': -1.4214613185758003, '5*4+0': 1.0362130566245296, '5*4+1': -1.3197116869176355, '5*4+2': -0.5257006998499163, '5*4+3': 3.4433095275479406, '5*4+4': -4.154238073410393}. Best is trial 24 with value: 2.6533667165629504.\u001b[0m\n",
      "\u001b[32m[I 2022-04-07 15:24:38,660]\u001b[0m Trial 134 finished with value: 6.104531560352269 and parameters: {'5*0+0': -0.02800978384962005, '5*0+1': -0.0701557990885946, '5*0+2': -1.2094667778531885, '5*0+3': -5.031280695522314, '5*0+4': 6.370529839944015, '5*1+0': -4.769233622549924, '5*1+1': 0.329950834491729, '5*1+2': -3.190977288663314, '5*1+3': -5.7367196928667585, '5*1+4': 4.649244297138197, '5*2+0': 0.8098911002960797, '5*2+1': -3.3829315414108514, '5*2+2': 4.123336901181847, '5*2+3': 1.696858900418292, '5*2+4': -5.010549580406543, '5*3+0': -5.074171482491773, '5*3+1': 2.8088739902020423, '5*3+2': -8.210440580766097, '5*3+3': 1.0260628011391573, '5*3+4': -2.180244051966671, '5*4+0': -0.41338563542199425, '5*4+1': -0.5985023415541401, '5*4+2': -0.18138562757882812, '5*4+3': 4.93082580342726, '5*4+4': -2.349642895708212}. Best is trial 24 with value: 2.6533667165629504.\u001b[0m\n",
      "\u001b[32m[I 2022-04-07 15:24:38,915]\u001b[0m Trial 135 finished with value: 12.541838129999526 and parameters: {'5*0+0': -0.16591539793079146, '5*0+1': 3.791500461667076, '5*0+2': 4.805964386215957, '5*0+3': -4.453060188219482, '5*0+4': 5.7408785117226735, '5*1+0': -0.07014701102113952, '5*1+1': -5.142447553524277, '5*1+2': 1.9790473950109995, '5*1+3': -8.932008666469885, '5*1+4': -1.8735755141745556, '5*2+0': -3.7717730284649793, '5*2+1': -0.48959812067775416, '5*2+2': 4.30319610364492, '5*2+3': 5.596437441765218, '5*2+4': -6.38658025379131, '5*3+0': -6.988603134784832, '5*3+1': 0.9124284134803045, '5*3+2': -4.865469756143341, '5*3+3': 3.138004733158095, '5*3+4': -2.1928275007082094, '5*4+0': -2.564595675062357, '5*4+1': 5.599519313721881, '5*4+2': 0.9043418797192583, '5*4+3': 2.140414422360828, '5*4+4': -4.237578843439723}. Best is trial 24 with value: 2.6533667165629504.\u001b[0m\n",
      "\u001b[32m[I 2022-04-07 15:24:39,162]\u001b[0m Trial 136 finished with value: 11.668379702327677 and parameters: {'5*0+0': 0.6614865930956999, '5*0+1': 2.1269664706054856, '5*0+2': 3.053998163711342, '5*0+3': -4.327327190401996, '5*0+4': 4.323427210334266, '5*1+0': -7.098613884134729, '5*1+1': 0.5473658591488832, '5*1+2': -3.2113339582335994, '5*1+3': -8.99309473772596, '5*1+4': 1.529138280053291, '5*2+0': 0.45594801602879476, '5*2+1': 0.5667591486651424, '5*2+2': 1.2713485001360125, '5*2+3': -0.4868845070294925, '5*2+4': -4.5836762792133685, '5*3+0': -7.80347598163591, '5*3+1': -5.505584778049182, '5*3+2': -6.878621526224398, '5*3+3': 0.6778702843529838, '5*3+4': -5.299124855622171, '5*4+0': 1.4590530464252958, '5*4+1': -2.355418690175773, '5*4+2': 1.6959894579569168, '5*4+3': 4.622960673508028, '5*4+4': -0.8705542777242661}. Best is trial 24 with value: 2.6533667165629504.\u001b[0m\n",
      "\u001b[32m[I 2022-04-07 15:24:39,410]\u001b[0m Trial 137 finished with value: 8.758717851022181 and parameters: {'5*0+0': 1.2643496331731865, '5*0+1': 2.958545650875917, '5*0+2': 0.6524025654103167, '5*0+3': -3.877151252541435, '5*0+4': 4.252024651850483, '5*1+0': -1.600412341788997, '5*1+1': -5.819397785433105, '5*1+2': 0.5955719842001304, '5*1+3': -9.385895016622822, '5*1+4': 3.208034880206438, '5*2+0': -0.06816620734831824, '5*2+1': -3.197084270076946, '5*2+2': 1.5955299559295224, '5*2+3': 6.57852067580333, '5*2+4': -5.977700708737862, '5*3+0': -5.79799256608281, '5*3+1': -6.048169085815484, '5*3+2': -7.269300319729892, '5*3+3': 1.2507549300126048, '5*3+4': -1.390197488281684, '5*4+0': -1.364194633161749, '5*4+1': 3.329896598405331, '5*4+2': 0.07630719234679917, '5*4+3': 3.8698720039615644, '5*4+4': -4.04514784753636}. Best is trial 24 with value: 2.6533667165629504.\u001b[0m\n",
      "\u001b[32m[I 2022-04-07 15:24:39,663]\u001b[0m Trial 138 finished with value: 10.888933672600936 and parameters: {'5*0+0': -4.458426381117935, '5*0+1': 1.4601108286171578, '5*0+2': -0.5185570575453751, '5*0+3': -2.540950864409286, '5*0+4': -0.7570969641588681, '5*1+0': 0.924779710879323, '5*1+1': -1.42380580831527, '5*1+2': -2.8178135871938492, '5*1+3': -7.732029707979341, '5*1+4': -3.259359859444904, '5*2+0': 4.912128736121819, '5*2+1': 4.089915219457765, '5*2+2': 2.200398870694131, '5*2+3': 9.082539662892607, '5*2+4': -3.8464378449105325, '5*3+0': -4.988628723586981, '5*3+1': -9.25782600594699, '5*3+2': -5.503538730514773, '5*3+3': 2.4372612443590587, '5*3+4': -2.164026589825543, '5*4+0': 3.2442385852378672, '5*4+1': -4.523688854009474, '5*4+2': -0.08936652897262409, '5*4+3': 7.4566984605109665, '5*4+4': -3.3390663916695837}. Best is trial 24 with value: 2.6533667165629504.\u001b[0m\n",
      "\u001b[32m[I 2022-04-07 15:24:39,911]\u001b[0m Trial 139 finished with value: 4.89134854675908 and parameters: {'5*0+0': 0.2659398692664302, '5*0+1': 2.0343444252759935, '5*0+2': -0.35670578334495096, '5*0+3': -5.614010655230914, '5*0+4': 5.141774797765799, '5*1+0': -0.6736695402115134, '5*1+1': 2.7739146567609314, '5*1+2': -6.970389221644902, '5*1+3': -8.794041697402529, '5*1+4': -0.6900306295674166, '5*2+0': 4.2493144411785035, '5*2+1': 1.6383483000862453, '5*2+2': -1.0432978207394257, '5*2+3': 5.487110960509643, '5*2+4': -4.862700893571873, '5*3+0': -8.251575871041393, '5*3+1': -3.0725157264125937, '5*3+2': -1.9597606284717815, '5*3+3': 3.5656565267765488, '5*3+4': -3.325810692003049, '5*4+0': 1.8951244512302365, '5*4+1': 0.9360334054361801, '5*4+2': 0.7734160234626734, '5*4+3': 9.406626818650235, '5*4+4': -4.613451427402606}. Best is trial 24 with value: 2.6533667165629504.\u001b[0m\n"
     ]
    },
    {
     "name": "stderr",
     "output_type": "stream",
     "text": [
      "\u001b[32m[I 2022-04-07 15:24:40,168]\u001b[0m Trial 140 finished with value: 6.849904962862038 and parameters: {'5*0+0': -2.2889936599339484, '5*0+1': 1.3225614305013056, '5*0+2': 2.498186930671453, '5*0+3': -5.740046652214187, '5*0+4': 2.2385881878458447, '5*1+0': -4.510033362352436, '5*1+1': 1.3870010894731386, '5*1+2': -2.9387263260954293, '5*1+3': -8.096962668229033, '5*1+4': 0.7628678393076102, '5*2+0': 4.537200921552027, '5*2+1': -1.6972241978126434, '5*2+2': 3.2049676172883355, '5*2+3': -1.7028058462237947, '5*2+4': -6.417658595459625, '5*3+0': -8.897632600704364, '5*3+1': -9.39264364724719, '5*3+2': -6.202813803752885, '5*3+3': 1.2022910497460337, '5*3+4': -3.3678581956144313, '5*4+0': 2.133258993750094, '5*4+1': -0.8067446768368532, '5*4+2': -5.828982526674942, '5*4+3': 7.994814492171066, '5*4+4': -5.634997407651828}. Best is trial 24 with value: 2.6533667165629504.\u001b[0m\n",
      "\u001b[32m[I 2022-04-07 15:24:40,422]\u001b[0m Trial 141 finished with value: 10.432730977360432 and parameters: {'5*0+0': 1.5521052183851443, '5*0+1': 4.245018049327682, '5*0+2': 3.0615702893628587, '5*0+3': -4.828105593002656, '5*0+4': 3.268485870639873, '5*1+0': -0.12909094851213476, '5*1+1': -7.097625857600437, '5*1+2': -1.4767278923854907, '5*1+3': -6.535571688577626, '5*1+4': 0.10191918272031741, '5*2+0': 0.21806634496412092, '5*2+1': -2.0205319406855304, '5*2+2': -0.8652428757601913, '5*2+3': 6.035263311483667, '5*2+4': -6.014822004059384, '5*3+0': -6.469118812225279, '5*3+1': -4.504825713164342, '5*3+2': -4.581735729666138, '5*3+3': 0.9934573679382261, '5*3+4': -5.142026877889913, '5*4+0': 2.6662686530508832, '5*4+1': -0.22380539960393053, '5*4+2': -1.725157774273185, '5*4+3': 7.904152640581018, '5*4+4': -4.547367840371504}. Best is trial 24 with value: 2.6533667165629504.\u001b[0m\n",
      "\u001b[32m[I 2022-04-07 15:24:40,673]\u001b[0m Trial 142 finished with value: 7.841562544100178 and parameters: {'5*0+0': 0.6497076681011291, '5*0+1': -0.8903696534512311, '5*0+2': -0.03262827327748896, '5*0+3': -2.9559931443820995, '5*0+4': 3.633543694316496, '5*1+0': -3.376546700864425, '5*1+1': -4.134812264989702, '5*1+2': -4.936717005662759, '5*1+3': -8.093863758001422, '5*1+4': -2.399051742128902, '5*2+0': -3.3995041580261187, '5*2+1': 4.12173317512528, '5*2+2': 4.753835638344895, '5*2+3': 3.0802803954766893, '5*2+4': -7.236055121289203, '5*3+0': -4.899619231295827, '5*3+1': -4.215517112223697, '5*3+2': -5.2008595819050285, '5*3+3': 5.836380590604554, '5*3+4': -1.8557222603634036, '5*4+0': 4.173131848893285, '5*4+1': -0.5959801753465587, '5*4+2': -1.3153085001492197, '5*4+3': 1.047435303322466, '5*4+4': -3.705017141667261}. Best is trial 24 with value: 2.6533667165629504.\u001b[0m\n",
      "\u001b[32m[I 2022-04-07 15:24:40,956]\u001b[0m Trial 143 finished with value: 7.336227627563784 and parameters: {'5*0+0': 1.8738754097198318, '5*0+1': 3.260289439402866, '5*0+2': 2.2344015817433966, '5*0+3': -5.237158695988205, '5*0+4': 6.705337483621264, '5*1+0': 1.806821765769726, '5*1+1': 0.531901978446522, '5*1+2': -2.6152932746002895, '5*1+3': -4.929259549502181, '5*1+4': 1.4395922801226213, '5*2+0': -0.7030186850546876, '5*2+1': 1.1689472328026014, '5*2+2': -1.9985270074834585, '5*2+3': -1.2903462796853606, '5*2+4': -6.158445213036839, '5*3+0': -7.539838206537418, '5*3+1': 0.7391965775292206, '5*3+2': -3.9077556259201622, '5*3+3': 0.9495306463271291, '5*3+4': -1.5935460246461708, '5*4+0': -1.86088679744096, '5*4+1': -1.8739293934538757, '5*4+2': -3.1134489925617994, '5*4+3': 7.827397190823736, '5*4+4': 1.0887426050720777}. Best is trial 24 with value: 2.6533667165629504.\u001b[0m\n",
      "\u001b[32m[I 2022-04-07 15:24:41,250]\u001b[0m Trial 144 finished with value: 12.616924099983132 and parameters: {'5*0+0': -1.502306559161176, '5*0+1': 0.05428172976571988, '5*0+2': 1.1727619000010963, '5*0+3': -4.424797477930565, '5*0+4': 5.374995475888408, '5*1+0': -2.3333162819071136, '5*1+1': -2.821742801513728, '5*1+2': -5.46969070281939, '5*1+3': -7.079486289756904, '5*1+4': 0.5677304338243566, '5*2+0': 4.7862983073503464, '5*2+1': -1.5460372870587125, '5*2+2': -3.760689940401201, '5*2+3': 1.6642076574414806, '5*2+4': -6.229596516122582, '5*3+0': -7.299681423663476, '5*3+1': -1.4585953708084172, '5*3+2': -3.2775283431569053, '5*3+3': 6.883891884082944, '5*3+4': 4.356810650419738, '5*4+0': 0.6743121332477944, '5*4+1': 1.3377264010362313, '5*4+2': 2.372078654003322, '5*4+3': 7.782825331510773, '5*4+4': -4.883500989418829}. Best is trial 24 with value: 2.6533667165629504.\u001b[0m\n",
      "\u001b[32m[I 2022-04-07 15:24:41,519]\u001b[0m Trial 145 finished with value: 5.077721930205307 and parameters: {'5*0+0': 0.0428894523068275, '5*0+1': 0.048109148752762954, '5*0+2': 0.08236558774848324, '5*0+3': -0.07534483337167774, '5*0+4': 1.5539471177525463, '5*1+0': 0.33095330788597765, '5*1+1': 0.9680984372990652, '5*1+2': -1.747231374277295, '5*1+3': -4.855157165631882, '5*1+4': -3.571976994039808, '5*2+0': -2.4648719172694706, '5*2+1': 5.35235881449317, '5*2+2': 1.2221825303030331, '5*2+3': 4.8356393581571915, '5*2+4': -5.306831908338909, '5*3+0': -7.494790081137251, '5*3+1': 1.1205166767209653, '5*3+2': -5.3697549802645215, '5*3+3': 1.950419595335114, '5*3+4': -4.63631914784812, '5*4+0': 3.5687609549647146, '5*4+1': -1.2455983682554381, '5*4+2': 2.721671407311727, '5*4+3': 7.801031588317532, '5*4+4': -4.060238086645822}. Best is trial 24 with value: 2.6533667165629504.\u001b[0m\n",
      "\u001b[32m[I 2022-04-07 15:24:41,808]\u001b[0m Trial 146 finished with value: 8.870446266317025 and parameters: {'5*0+0': 1.4355559753225524, '5*0+1': 4.677083088464844, '5*0+2': 2.8842839002063854, '5*0+3': -7.411077662429166, '5*0+4': 1.9302567121522616, '5*1+0': 1.285387048110787, '5*1+1': 3.641620640961476, '5*1+2': -5.192995968642769, '5*1+3': -2.7438278469952224, '5*1+4': 3.6380473996568536, '5*2+0': -0.796084505447407, '5*2+1': 1.6600332080784626, '5*2+2': 3.174746293160748, '5*2+3': 5.6944452784233786, '5*2+4': -3.5284193730649855, '5*3+0': -3.2478293261656628, '5*3+1': -0.6695928350676892, '5*3+2': -4.687647140870375, '5*3+3': 2.6863947436663116, '5*3+4': -1.3247430689231272, '5*4+0': -0.5253970504426497, '5*4+1': 2.2106351880766946, '5*4+2': -0.31550335867353096, '5*4+3': 7.776870440727284, '5*4+4': -3.1622443227312735}. Best is trial 24 with value: 2.6533667165629504.\u001b[0m\n",
      "\u001b[32m[I 2022-04-07 15:24:42,082]\u001b[0m Trial 147 finished with value: 8.276014197333016 and parameters: {'5*0+0': -0.10220008590303631, '5*0+1': 1.8763999579645492, '5*0+2': 4.025519601957389, '5*0+3': -7.310368938375141, '5*0+4': 2.6203332076743546, '5*1+0': -0.18706513861044605, '5*1+1': 0.5783434563271109, '5*1+2': -5.646937080889995, '5*1+3': -4.61188009516623, '5*1+4': 2.840190473071826, '5*2+0': 0.34478521124435124, '5*2+1': 2.034128372627343, '5*2+2': -0.8495208802953677, '5*2+3': 1.4174574246134348, '5*2+4': -4.524249999017227, '5*3+0': -8.663552850918098, '5*3+1': 2.0259178138144813, '5*3+2': -7.857417855290704, '5*3+3': 4.721658893815647, '5*3+4': -4.096074245850773, '5*4+0': 2.306223109192466, '5*4+1': 1.3609209215728244, '5*4+2': -0.02283922608286626, '5*4+3': 6.463898165761045, '5*4+4': -3.068257608921085}. Best is trial 24 with value: 2.6533667165629504.\u001b[0m\n",
      "\u001b[32m[I 2022-04-07 15:24:42,371]\u001b[0m Trial 148 finished with value: 7.233734259632371 and parameters: {'5*0+0': 0.7617864998061692, '5*0+1': 3.4734314929639356, '5*0+2': -0.7672356775981823, '5*0+3': -7.546681956863271, '5*0+4': 0.6617793738501287, '5*1+0': -2.159859970680611, '5*1+1': 0.0639011064997923, '5*1+2': -6.260195607058718, '5*1+3': -6.735744429784854, '5*1+4': 4.014012141919575, '5*2+0': 0.14555003482820106, '5*2+1': 3.1955391465312983, '5*2+2': 1.573911324811291, '5*2+3': 2.3215052457189067, '5*2+4': -6.076882724615112, '5*3+0': -3.960949642530616, '5*3+1': -1.1903583129929194, '5*3+2': -8.890216542818576, '5*3+3': 2.0279743091297417, '5*3+4': -3.2266242560551888, '5*4+0': -0.3298362046128467, '5*4+1': 0.7196704706287875, '5*4+2': -1.2278388500725708, '5*4+3': 4.134929524721402, '5*4+4': -4.460228850589363}. Best is trial 24 with value: 2.6533667165629504.\u001b[0m\n",
      "\u001b[32m[I 2022-04-07 15:24:42,682]\u001b[0m Trial 149 finished with value: 7.500286332737756 and parameters: {'5*0+0': 1.6099164542276287, '5*0+1': 4.027208682095286, '5*0+2': 6.2720881337681025, '5*0+3': -8.92875525898926, '5*0+4': 2.870801766143363, '5*1+0': -0.4321722353671724, '5*1+1': 2.7192241192392097, '5*1+2': 1.7375256793259193, '5*1+3': -6.903514405624133, '5*1+4': 0.731893773877063, '5*2+0': 5.2561256781176535, '5*2+1': -0.03865829731369419, '5*2+2': -3.7357293085665813, '5*2+3': 3.599787079197822, '5*2+4': -8.146671247083829, '5*3+0': -4.398509793866147, '5*3+1': -1.2622515977277526, '5*3+2': -2.359267623800695, '5*3+3': -1.0751193199068192, '5*3+4': -0.5719608226536566, '5*4+0': 0.3378934103155127, '5*4+1': -0.14984590580748136, '5*4+2': -3.078562631600539, '5*4+3': 7.687014362278528, '5*4+4': 1.5645884431445607}. Best is trial 24 with value: 2.6533667165629504.\u001b[0m\n"
     ]
    },
    {
     "name": "stderr",
     "output_type": "stream",
     "text": [
      "\u001b[32m[I 2022-04-07 15:24:43,012]\u001b[0m Trial 150 finished with value: 7.822896322834303 and parameters: {'5*0+0': -0.9356647994997505, '5*0+1': 2.844359262618637, '5*0+2': 0.05620021031300859, '5*0+3': -9.060365754554496, '5*0+4': 2.2588769875326244, '5*1+0': -1.7910881329113502, '5*1+1': -5.645572553278831, '5*1+2': -2.7962442887963355, '5*1+3': -9.36051128999479, '5*1+4': 0.3832142949627487, '5*2+0': 2.0613974817564786, '5*2+1': -1.520031137153596, '5*2+2': -1.8862375632916533, '5*2+3': 6.454075550684385, '5*2+4': -2.822721885588829, '5*3+0': -7.564913502715693, '5*3+1': -4.712519871261703, '5*3+2': -4.850283522558161, '5*3+3': 0.7152541098178051, '5*3+4': -3.019961753470178, '5*4+0': 1.3446524987097868, '5*4+1': -1.2412798683406558, '5*4+2': 2.556447514838828, '5*4+3': 7.63958309418482, '5*4+4': -0.16217686531090303}. Best is trial 24 with value: 2.6533667165629504.\u001b[0m\n",
      "\u001b[32m[I 2022-04-07 15:24:43,314]\u001b[0m Trial 151 finished with value: 8.190393239534082 and parameters: {'5*0+0': -1.1127866133732183, '5*0+1': 0.04038949162269723, '5*0+2': -0.23986091863323966, '5*0+3': -4.660922733147995, '5*0+4': 1.0369246865426214, '5*1+0': -4.381796817854432, '5*1+1': 1.6726134397686323, '5*1+2': -5.243935802979935, '5*1+3': -8.189998194259017, '5*1+4': 0.5341399404975012, '5*2+0': 2.6406108671455177, '5*2+1': 2.5667257962551098, '5*2+2': 0.9521307364860518, '5*2+3': 2.249919034122164, '5*2+4': -6.843523546818316, '5*3+0': -3.3799817503087364, '5*3+1': 1.7809748584193565, '5*3+2': -7.342142560503229, '5*3+3': 1.510394928723667, '5*3+4': -0.4344597503587291, '5*4+0': 5.36313974802691, '5*4+1': -5.868472363449155, '5*4+2': -1.8050819794212016, '5*4+3': 7.783068759089245, '5*4+4': -5.183107165651873}. Best is trial 24 with value: 2.6533667165629504.\u001b[0m\n",
      "\u001b[32m[I 2022-04-07 15:24:43,598]\u001b[0m Trial 152 finished with value: 9.217950616316656 and parameters: {'5*0+0': 0.7520144189247702, '5*0+1': 0.5064018152187173, '5*0+2': 0.27845833144825427, '5*0+3': -5.277981836781969, '5*0+4': 4.941782057606678, '5*1+0': 0.4851368643975049, '5*1+1': -3.537799958682464, '5*1+2': -1.0302900306570058, '5*1+3': -7.886702276645643, '5*1+4': 1.852044905289534, '5*2+0': 4.556339979570232, '5*2+1': 0.42696247469311455, '5*2+2': 3.2201107027238427, '5*2+3': 5.3882342664971326, '5*2+4': -4.245701414536548, '5*3+0': -6.262854611837126, '5*3+1': -0.5811031580802117, '5*3+2': -5.972830494517659, '5*3+3': 0.02396160647523038, '5*3+4': -3.224495525464408, '5*4+0': 5.170010556316765, '5*4+1': 4.279141577383308, '5*4+2': 0.8388779997724309, '5*4+3': 2.242826340706218, '5*4+4': -4.065212085735753}. Best is trial 24 with value: 2.6533667165629504.\u001b[0m\n",
      "\u001b[32m[I 2022-04-07 15:24:43,888]\u001b[0m Trial 153 finished with value: 7.218997413553531 and parameters: {'5*0+0': 4.9774813797127315, '5*0+1': -0.23273387143411495, '5*0+2': 0.516059988594634, '5*0+3': -5.3716378132305005, '5*0+4': 4.06493531890866, '5*1+0': 0.04756453137579131, '5*1+1': -0.7184785223383217, '5*1+2': -4.548915518719306, '5*1+3': -4.203655526813179, '5*1+4': -1.1517244842824776, '5*2+0': 2.573914042477079, '5*2+1': 2.8106041498600396, '5*2+2': 0.7901009749037046, '5*2+3': 7.358280834285374, '5*2+4': -2.992153879712228, '5*3+0': -6.540682382108721, '5*3+1': -2.902038521291468, '5*3+2': -3.3876197713202085, '5*3+3': -0.9215449747353812, '5*3+4': 1.6440443676621492, '5*4+0': 0.4385160048741006, '5*4+1': 5.911662714888442, '5*4+2': -2.9937610921012645, '5*4+3': 6.8126225430177305, '5*4+4': -6.537640998838769}. Best is trial 24 with value: 2.6533667165629504.\u001b[0m\n",
      "\u001b[32m[I 2022-04-07 15:24:44,176]\u001b[0m Trial 154 finished with value: 13.497182462781465 and parameters: {'5*0+0': 1.9090566545242058, '5*0+1': 0.17897329930414307, '5*0+2': 5.279433649358182, '5*0+3': -4.673337915906077, '5*0+4': 5.764509303486354, '5*1+0': -6.137065864482604, '5*1+1': -5.028788936778686, '5*1+2': -6.307113480816009, '5*1+3': -2.807376345035942, '5*1+4': 0.02603606833231009, '5*2+0': -1.215594234120771, '5*2+1': -3.346893700498188, '5*2+2': 2.2757306059839664, '5*2+3': 3.0211769157449275, '5*2+4': -2.5568287829135903, '5*3+0': 0.9830256386641443, '5*3+1': -6.168097353904177, '5*3+2': -4.8810922467116, '5*3+3': 2.076921232849063, '5*3+4': 0.2895355595292375, '5*4+0': 3.8438464424476426, '5*4+1': 1.5928273901002723, '5*4+2': 0.8561109589311473, '5*4+3': 8.130152730260653, '5*4+4': -3.154192586002487}. Best is trial 24 with value: 2.6533667165629504.\u001b[0m\n",
      "\u001b[32m[I 2022-04-07 15:24:44,503]\u001b[0m Trial 155 finished with value: 6.296681613166125 and parameters: {'5*0+0': 2.273368171587216, '5*0+1': 3.3468970148638184, '5*0+2': -0.24855353999609764, '5*0+3': -0.15164812580518383, '5*0+4': 9.109839361106008, '5*1+0': 0.31437361483903015, '5*1+1': -0.11129362300925394, '5*1+2': -4.6218195766409185, '5*1+3': -3.6622055598139767, '5*1+4': -2.15165147093276, '5*2+0': -3.028616365723633, '5*2+1': 1.7875695437311991, '5*2+2': 1.8428524368413042, '5*2+3': 4.691672422616602, '5*2+4': -3.1974988300174156, '5*3+0': -7.760767248762853, '5*3+1': -3.652643273996922, '5*3+2': -4.5471751187551765, '5*3+3': 4.10633821597315, '5*3+4': -0.6733397789295539, '5*4+0': 1.891821738990458, '5*4+1': 3.0689067222419544, '5*4+2': -1.9339683284723495, '5*4+3': 7.090015917366711, '5*4+4': -5.61115991328705}. Best is trial 24 with value: 2.6533667165629504.\u001b[0m\n",
      "\u001b[32m[I 2022-04-07 15:24:44,781]\u001b[0m Trial 156 finished with value: 5.6409930658652865 and parameters: {'5*0+0': 2.024887000501964, '5*0+1': 3.3547532863836635, '5*0+2': 3.373161734570491, '5*0+3': -6.014995994454066, '5*0+4': 2.384989651017572, '5*1+0': 0.17547725699530226, '5*1+1': 2.279721465765423, '5*1+2': -5.154347146653974, '5*1+3': -4.50211355269132, '5*1+4': -2.090977710306921, '5*2+0': 1.8735587981677986, '5*2+1': -0.6498434534199935, '5*2+2': -0.6160147703818122, '5*2+3': 3.44310549246688, '5*2+4': -6.926896332993543, '5*3+0': -4.670554457765322, '5*3+1': 0.2635983478818047, '5*3+2': -6.380042388249442, '5*3+3': 4.293503149355754, '5*3+4': 1.4564567557559926, '5*4+0': 4.764560022028363, '5*4+1': -1.4000209516007784, '5*4+2': -2.3712838601407125, '5*4+3': 7.4657714127042025, '5*4+4': -3.0326575844351953}. Best is trial 24 with value: 2.6533667165629504.\u001b[0m\n",
      "\u001b[32m[I 2022-04-07 15:24:45,072]\u001b[0m Trial 157 finished with value: 7.243858784090762 and parameters: {'5*0+0': 0.9546969370979762, '5*0+1': 0.20233295522287897, '5*0+2': 0.8518479230035341, '5*0+3': -2.8545579670011585, '5*0+4': -0.5688278598260474, '5*1+0': -2.2914994440797773, '5*1+1': 3.9350194187605365, '5*1+2': 1.880913759772604, '5*1+3': -3.1405879297375083, '5*1+4': -0.21484208940490856, '5*2+0': -3.202171999070075, '5*2+1': 3.6927601536581935, '5*2+2': -1.4578115467284813, '5*2+3': 8.98106244907077, '5*2+4': -3.823351798848912, '5*3+0': -8.879792182708627, '5*3+1': -2.932206703721452, '5*3+2': -1.5402277492356076, '5*3+3': 0.8996921664279802, '5*3+4': -2.790671310280895, '5*4+0': 0.8425902849905302, '5*4+1': 1.7558163977574512, '5*4+2': -0.15236174290547133, '5*4+3': 4.50284361259042, '5*4+4': -1.6639329484082435}. Best is trial 24 with value: 2.6533667165629504.\u001b[0m\n",
      "\u001b[32m[I 2022-04-07 15:24:45,380]\u001b[0m Trial 158 finished with value: 6.946095387676154 and parameters: {'5*0+0': 1.7764680027704591, '5*0+1': -2.391539008377701, '5*0+2': -1.13190969671767, '5*0+3': -1.307894196620584, '5*0+4': 8.805774656837535, '5*1+0': -7.0181528248613505, '5*1+1': 0.12007925678344178, '5*1+2': -4.223249830738519, '5*1+3': -2.8707424352625766, '5*1+4': -0.17727536173588976, '5*2+0': 0.6821744933679359, '5*2+1': 0.5915188132098863, '5*2+2': 2.6643991518752217, '5*2+3': 4.569363383900153, '5*2+4': -4.51358456685449, '5*3+0': -0.6229881066229961, '5*3+1': 0.19115587643137277, '5*3+2': -2.3697864393340704, '5*3+3': 4.024878453686505, '5*3+4': -1.4416438500638573, '5*4+0': 3.7017410559546042, '5*4+1': 2.9506809561232727, '5*4+2': -1.5641123980189036, '5*4+3': 6.103858074410759, '5*4+4': -3.883898722403065}. Best is trial 24 with value: 2.6533667165629504.\u001b[0m\n",
      "\u001b[32m[I 2022-04-07 15:24:45,673]\u001b[0m Trial 159 finished with value: 8.152606215549337 and parameters: {'5*0+0': -0.8637175553698038, '5*0+1': -0.7849167424209584, '5*0+2': 3.191956375156135, '5*0+3': -0.014107197988271647, '5*0+4': 1.9536591749194376, '5*1+0': -1.9364672026786176, '5*1+1': 3.439307112755252, '5*1+2': 2.1180925350910846, '5*1+3': -5.195116181075059, '5*1+4': -3.755058190226574, '5*2+0': -0.9867168138491953, '5*2+1': 4.632506086309096, '5*2+2': 2.2492989853212313, '5*2+3': 8.798392908616805, '5*2+4': -6.538983192886359, '5*3+0': -7.09923087456779, '5*3+1': -3.5793640820360064, '5*3+2': -4.677336388363986, '5*3+3': 0.23451128350622286, '5*3+4': -2.3191175464882803, '5*4+0': 1.4748583142310898, '5*4+1': -0.9993056124878142, '5*4+2': 4.492174757109315, '5*4+3': 7.932741404491785, '5*4+4': -1.7890201017883238}. Best is trial 24 with value: 2.6533667165629504.\u001b[0m\n"
     ]
    },
    {
     "name": "stderr",
     "output_type": "stream",
     "text": [
      "\u001b[32m[I 2022-04-07 15:24:45,978]\u001b[0m Trial 160 finished with value: 6.814573995693894 and parameters: {'5*0+0': -0.2359729297620392, '5*0+1': -2.5831550455295105, '5*0+2': -2.425522284827144, '5*0+3': 1.2465510176487182, '5*0+4': 3.054882592094544, '5*1+0': 0.9322055210018442, '5*1+1': 4.254710269853253, '5*1+2': -3.349934697563343, '5*1+3': -7.153892892884432, '5*1+4': -2.9315407637906366, '5*2+0': 0.2851669972260078, '5*2+1': 5.745513896072714, '5*2+2': 1.0077649310141006, '5*2+3': 3.223937456749976, '5*2+4': -6.339441702518883, '5*3+0': -3.166630486857266, '5*3+1': 0.9620708836242757, '5*3+2': -3.1778803328422245, '5*3+3': 5.8043985395601965, '5*3+4': -0.07381542956410336, '5*4+0': 4.666935487434928, '5*4+1': -0.8904813920854048, '5*4+2': -3.516753331256983, '5*4+3': 6.173461662339095, '5*4+4': -7.02419878030585}. Best is trial 24 with value: 2.6533667165629504.\u001b[0m\n",
      "\u001b[32m[I 2022-04-07 15:24:46,273]\u001b[0m Trial 161 finished with value: 9.942656653079817 and parameters: {'5*0+0': -3.134410363593652, '5*0+1': 1.4116633407137307, '5*0+2': 1.9711697085422468, '5*0+3': -3.4256176700847063, '5*0+4': 4.157669372401352, '5*1+0': -5.777715511202866, '5*1+1': 1.8589196156035908, '5*1+2': -1.8604655312870217, '5*1+3': -7.478076171615662, '5*1+4': -2.454733471049923, '5*2+0': -2.0945642352370224, '5*2+1': 1.961856853329429, '5*2+2': 1.6599379459840145, '5*2+3': 2.8508936432928484, '5*2+4': -3.8086559935417514, '5*3+0': -6.35351170882624, '5*3+1': -3.2053685712708613, '5*3+2': -6.826850769708511, '5*3+3': 2.823731131412191, '5*3+4': 1.4329019256731583, '5*4+0': 4.6904657381665436, '5*4+1': -1.3682492548905287, '5*4+2': -0.6579107970990031, '5*4+3': 8.301564772796194, '5*4+4': -8.611112120450027}. Best is trial 24 with value: 2.6533667165629504.\u001b[0m\n",
      "\u001b[32m[I 2022-04-07 15:24:46,549]\u001b[0m Trial 162 finished with value: 7.893964484516047 and parameters: {'5*0+0': 3.2205182286386753, '5*0+1': -1.7745836352365392, '5*0+2': -0.7444082865754862, '5*0+3': -5.986283336545908, '5*0+4': 3.043414598171614, '5*1+0': 0.030088868598330827, '5*1+1': 3.5537922553966763, '5*1+2': -2.9517332210230234, '5*1+3': -3.258442726440423, '5*1+4': -2.275809702266058, '5*2+0': -0.5299302375674574, '5*2+1': 4.239118297916059, '5*2+2': -4.598001238277084, '5*2+3': 4.214723381036008, '5*2+4': 1.2874608581809595, '5*3+0': -6.975892865104649, '5*3+1': 0.9496788584556044, '5*3+2': -7.0779910723619865, '5*3+3': 6.464288750191867, '5*3+4': -3.332868021599567, '5*4+0': 3.182614835865808, '5*4+1': 1.724350273526556, '5*4+2': 3.9915779998261867, '5*4+3': 6.5044242421921155, '5*4+4': 0.11910178492260393}. Best is trial 24 with value: 2.6533667165629504.\u001b[0m\n",
      "\u001b[32m[I 2022-04-07 15:24:46,818]\u001b[0m Trial 163 finished with value: 7.6741893604743225 and parameters: {'5*0+0': 0.43184362856750846, '5*0+1': 1.0675747529187563, '5*0+2': 0.9621319008736255, '5*0+3': -2.7590622319144953, '5*0+4': 1.9937869193866045, '5*1+0': -4.6620617072131925, '5*1+1': -2.368753930788641, '5*1+2': -1.1569966050065186, '5*1+3': -8.152782565459818, '5*1+4': -3.2377928884461253, '5*2+0': -2.6329076700005873, '5*2+1': -0.2685655369857942, '5*2+2': 0.9843506347394338, '5*2+3': 2.643525517861046, '5*2+4': -8.499643296523411, '5*3+0': 0.4208349652412302, '5*3+1': -3.2855918785682623, '5*3+2': -3.3461274452226086, '5*3+3': -1.1653769147022501, '5*3+4': -0.63601983636185, '5*4+0': 6.466353901149451, '5*4+1': 1.9626668541352057, '5*4+2': -1.162214303730377, '5*4+3': 8.154580851995334, '5*4+4': -4.3528312132770495}. Best is trial 24 with value: 2.6533667165629504.\u001b[0m\n",
      "\u001b[32m[I 2022-04-07 15:24:47,090]\u001b[0m Trial 164 finished with value: 8.669026105709921 and parameters: {'5*0+0': -1.8794024479456626, '5*0+1': 2.01137330095103, '5*0+2': -1.755738532789188, '5*0+3': -4.639626308193828, '5*0+4': 5.254756979722379, '5*1+0': -1.4552452595242347, '5*1+1': -1.0358656158823032, '5*1+2': -4.042810155912866, '5*1+3': -5.862519283922724, '5*1+4': -2.6571328239345595, '5*2+0': 1.6738436714138296, '5*2+1': 0.565811707079531, '5*2+2': 1.1739823946867929, '5*2+3': 3.9692958965076874, '5*2+4': -6.58504052978555, '5*3+0': -8.334239611311746, '5*3+1': -2.6466405334674765, '5*3+2': -5.505809656427935, '5*3+3': 0.6691979738010214, '5*3+4': 3.2104241302315755, '5*4+0': 3.8386734958261552, '5*4+1': -0.7960687247683272, '5*4+2': 3.0585530827681904, '5*4+3': 4.249669924320821, '5*4+4': -4.811988512762638}. Best is trial 24 with value: 2.6533667165629504.\u001b[0m\n",
      "\u001b[32m[I 2022-04-07 15:24:47,354]\u001b[0m Trial 165 finished with value: 9.654518316446854 and parameters: {'5*0+0': 2.0918031500321534, '5*0+1': 1.7956289294919745, '5*0+2': 4.269027055855516, '5*0+3': -5.157878356096651, '5*0+4': 1.45507534334857, '5*1+0': 1.0923272776993842, '5*1+1': 3.195363817763925, '5*1+2': -7.786345761810196, '5*1+3': -4.677876138720602, '5*1+4': -2.488134506463986, '5*2+0': -0.30670143844789766, '5*2+1': 2.7824448116915654, '5*2+2': 2.3666643607471807, '5*2+3': 6.643581523216628, '5*2+4': -3.0916176742165073, '5*3+0': -9.153848248287364, '5*3+1': 1.6730328751250712, '5*3+2': -0.619589837801036, '5*3+3': -1.2098978263106956, '5*3+4': -3.855948025836197, '5*4+0': 0.015866335273476473, '5*4+1': -2.637991124346826, '5*4+2': -0.2662063879754577, '5*4+3': 7.018290216429076, '5*4+4': -1.0767984471151673}. Best is trial 24 with value: 2.6533667165629504.\u001b[0m\n",
      "\u001b[32m[I 2022-04-07 15:24:47,649]\u001b[0m Trial 166 finished with value: 6.5438250138670275 and parameters: {'5*0+0': 0.4633915888905906, '5*0+1': 3.412236494635845, '5*0+2': 4.131324522637464, '5*0+3': -2.0022715851831037, '5*0+4': 3.5873657115516804, '5*1+0': 2.5933775109158326, '5*1+1': 0.08900108714898136, '5*1+2': -1.6717304195571503, '5*1+3': -6.2798836814329135, '5*1+4': 0.04419795551516881, '5*2+0': 2.9657326466973295, '5*2+1': 2.4140266721727515, '5*2+2': 2.588750396311433, '5*2+3': 8.424648564359394, '5*2+4': -0.04343659388954446, '5*3+0': -7.228713694567304, '5*3+1': -0.7013223064015018, '5*3+2': -2.6928328613201926, '5*3+3': 4.412691513434676, '5*3+4': -4.744552409358281, '5*4+0': 4.356271736976502, '5*4+1': 0.557599853384575, '5*4+2': -0.251928915174771, '5*4+3': 7.696051393647516, '5*4+4': -6.87044856335187}. Best is trial 24 with value: 2.6533667165629504.\u001b[0m\n",
      "\u001b[32m[I 2022-04-07 15:24:47,911]\u001b[0m Trial 167 finished with value: 10.618921246740616 and parameters: {'5*0+0': -2.0699850293836635, '5*0+1': 2.7824302146509203, '5*0+2': 1.2380885573737723, '5*0+3': -1.4734972227091663, '5*0+4': 5.334790262751719, '5*1+0': -1.7343223864076736, '5*1+1': -3.6158300939268715, '5*1+2': -2.5572939493259925, '5*1+3': -4.713295760630385, '5*1+4': -1.5302406127834396, '5*2+0': 1.3000357140786547, '5*2+1': -0.08158796189180784, '5*2+2': -1.854237592215304, '5*2+3': 5.577846203289792, '5*2+4': -3.896711293978255, '5*3+0': -6.1619637954015465, '5*3+1': -3.437443221904526, '5*3+2': -5.739412381515197, '5*3+3': 0.32238060943415947, '5*3+4': -2.0479253596342457, '5*4+0': 3.833932783052848, '5*4+1': 0.5238468291466776, '5*4+2': -4.178058408353237, '5*4+3': 6.090106788106755, '5*4+4': -4.237966558178067}. Best is trial 24 with value: 2.6533667165629504.\u001b[0m\n",
      "\u001b[32m[I 2022-04-07 15:24:48,188]\u001b[0m Trial 168 finished with value: 4.550539423941144 and parameters: {'5*0+0': 2.593226629244067, '5*0+1': 3.1052126946843854, '5*0+2': 2.940066025393042, '5*0+3': -0.9695774440606753, '5*0+4': 4.187654239654995, '5*1+0': 2.5343191780399072, '5*1+1': -1.267307569371007, '5*1+2': -2.0954107486264992, '5*1+3': -4.154900763613973, '5*1+4': -0.6013126772448962, '5*2+0': -0.8648469577561697, '5*2+1': 3.5873336835407157, '5*2+2': 6.346914479850526, '5*2+3': 2.3028349224858498, '5*2+4': -4.175745860816423, '5*3+0': -0.3309967258066946, '5*3+1': -1.8674292101250258, '5*3+2': -7.331021887857502, '5*3+3': 0.295660473465722, '5*3+4': -4.700989683380919, '5*4+0': 4.015074293580114, '5*4+1': 0.5228768703058491, '5*4+2': 0.607409319169554, '5*4+3': 6.679070971582471, '5*4+4': -6.097680373584881}. Best is trial 24 with value: 2.6533667165629504.\u001b[0m\n",
      "\u001b[32m[I 2022-04-07 15:24:48,448]\u001b[0m Trial 169 finished with value: 6.4442353053174894 and parameters: {'5*0+0': 3.661047130063195, '5*0+1': -2.0841154994402107, '5*0+2': -1.8536684863682842, '5*0+3': -1.3356765401350206, '5*0+4': 6.7280190439999465, '5*1+0': -3.174386057104493, '5*1+1': 3.0467380910483253, '5*1+2': -2.848803535126871, '5*1+3': -3.8472121835039683, '5*1+4': -5.293444460783319, '5*2+0': -3.398673803416234, '5*2+1': 2.5962129403752408, '5*2+2': 5.892488610115514, '5*2+3': 4.5232712365679975, '5*2+4': -6.002984480857842, '5*3+0': -7.433566644828713, '5*3+1': -4.201959077697229, '5*3+2': -6.33905438666052, '5*3+3': 0.9315560840904225, '5*3+4': 0.8211220524944376, '5*4+0': 7.252191218000349, '5*4+1': 1.3824938625006054, '5*4+2': -3.414979599039043, '5*4+3': 8.347631994352222, '5*4+4': -3.746632509991043}. Best is trial 24 with value: 2.6533667165629504.\u001b[0m\n"
     ]
    },
    {
     "name": "stderr",
     "output_type": "stream",
     "text": [
      "\u001b[32m[I 2022-04-07 15:24:48,743]\u001b[0m Trial 170 finished with value: 8.666571812155466 and parameters: {'5*0+0': 3.419582859993544, '5*0+1': 1.2579129510304343, '5*0+2': 1.0075548644163768, '5*0+3': -1.823680314204856, '5*0+4': 4.657848134101648, '5*1+0': 0.7440022855311403, '5*1+1': -1.4764135609496345, '5*1+2': -1.729158724310186, '5*1+3': -0.6994266453531415, '5*1+4': -4.846670580468334, '5*2+0': 1.6658927770396854, '5*2+1': 2.6641687444369113, '5*2+2': 6.502952641451132, '5*2+3': 0.1304780085807522, '5*2+4': -4.908702538002059, '5*3+0': -1.8125686529761236, '5*3+1': 0.3157840593663024, '5*3+2': -3.2311444959192657, '5*3+3': 0.866362934812613, '5*3+4': -0.3460207204103205, '5*4+0': 7.828195460559087, '5*4+1': 0.07703221076950506, '5*4+2': -0.5088924163184844, '5*4+3': 8.952069493999048, '5*4+4': -3.9040315847697746}. Best is trial 24 with value: 2.6533667165629504.\u001b[0m\n",
      "\u001b[32m[I 2022-04-07 15:24:49,093]\u001b[0m Trial 171 finished with value: 8.76298204767138 and parameters: {'5*0+0': 1.9637110687643375, '5*0+1': 4.114061014166384, '5*0+2': 2.403105080239179, '5*0+3': 0.3578760366971949, '5*0+4': 6.483660179388939, '5*1+0': -2.0973019558945856, '5*1+1': 1.3991364719521164, '5*1+2': -4.282849576805105, '5*1+3': -4.4224542765248485, '5*1+4': -0.4296949846163516, '5*2+0': -0.43637864413912253, '5*2+1': 7.1981749154630945, '5*2+2': 4.17442238591228, '5*2+3': 7.05064904641485, '5*2+4': -5.694969122854868, '5*3+0': -1.759162158361868, '5*3+1': -1.8934095888092646, '5*3+2': -2.3329731210455718, '5*3+3': -0.3168121941169608, '5*3+4': -3.370314142240799, '5*4+0': -0.03581414092610746, '5*4+1': 3.042690160326232, '5*4+2': 1.5472159719132463, '5*4+3': 4.7170398886381495, '5*4+4': -5.0679718491641434}. Best is trial 24 with value: 2.6533667165629504.\u001b[0m\n",
      "\u001b[32m[I 2022-04-07 15:24:49,448]\u001b[0m Trial 172 finished with value: 7.787705387973183 and parameters: {'5*0+0': 0.6367990281332332, '5*0+1': 2.9935924198618324, '5*0+2': 1.2289876182391013, '5*0+3': -0.9314941524541056, '5*0+4': 4.611459473108174, '5*1+0': -2.8198335715865857, '5*1+1': 4.6862285977601905, '5*1+2': -0.5494940933376715, '5*1+3': -5.248889178729401, '5*1+4': 0.22981608216463667, '5*2+0': 3.002972125050332, '5*2+1': 1.7399606470806506, '5*2+2': 7.285612326267852, '5*2+3': 3.9829592785910344, '5*2+4': -6.033015140476096, '5*3+0': -3.8550776179444024, '5*3+1': -4.701534116497346, '5*3+2': -8.270591934927364, '5*3+3': 4.725406680621152, '5*3+4': -1.75883527294764, '5*4+0': 5.189275928825091, '5*4+1': 0.9436885095626897, '5*4+2': -4.3965177611445565, '5*4+3': 8.306768203186383, '5*4+4': -7.232260837022899}. Best is trial 24 with value: 2.6533667165629504.\u001b[0m\n",
      "\u001b[32m[I 2022-04-07 15:24:49,795]\u001b[0m Trial 173 finished with value: 10.433066088871906 and parameters: {'5*0+0': 3.962813048825764, '5*0+1': 5.0765546204511125, '5*0+2': 2.7331506027912127, '5*0+3': -1.5470772996302191, '5*0+4': 1.292981753890528, '5*1+0': -2.6916280305250506, '5*1+1': 2.383959794241332, '5*1+2': -1.5484078448954124, '5*1+3': -5.607450388168338, '5*1+4': -1.4611941364101706, '5*2+0': 1.9186338813476667, '5*2+1': 2.195486485819698, '5*2+2': -0.36125405022319335, '5*2+3': 6.757512444810402, '5*2+4': -8.819164602110872, '5*3+0': -8.909624365997086, '5*3+1': -3.3317486697428054, '5*3+2': -7.152834076646034, '5*3+3': 0.6690102261913287, '5*3+4': -4.439657954667139, '5*4+0': 0.5155719301193944, '5*4+1': 3.6345939426178884, '5*4+2': -2.3774226746384155, '5*4+3': 8.884902609868425, '5*4+4': -5.258529433700493}. Best is trial 24 with value: 2.6533667165629504.\u001b[0m\n",
      "\u001b[32m[I 2022-04-07 15:24:50,168]\u001b[0m Trial 174 finished with value: 7.65042168085794 and parameters: {'5*0+0': 0.9668675117523309, '5*0+1': -2.191811876863092, '5*0+2': 0.1271573226635333, '5*0+3': 1.5423943185678635, '5*0+4': 3.252179166314752, '5*1+0': -3.695604982052144, '5*1+1': 3.409673307625999, '5*1+2': -1.8503385120010503, '5*1+3': -1.9647661160383416, '5*1+4': -1.548818994150809, '5*2+0': -1.2296169646584438, '5*2+1': 0.688729527020683, '5*2+2': 7.828868718378544, '5*2+3': 3.4924600977281965, '5*2+4': -2.689270267686414, '5*3+0': -5.377802901162692, '5*3+1': -4.1966614921707155, '5*3+2': -7.686154911627245, '5*3+3': 1.1264353599329568, '5*3+4': -5.6848822165581385, '5*4+0': 5.570208152561722, '5*4+1': 1.6254445127932966, '5*4+2': -0.587656203212213, '5*4+3': 6.697689445554003, '5*4+4': -9.18293406386551}. Best is trial 24 with value: 2.6533667165629504.\u001b[0m\n",
      "\u001b[32m[I 2022-04-07 15:24:50,534]\u001b[0m Trial 175 finished with value: 6.4556853995680825 and parameters: {'5*0+0': 5.361946100580729, '5*0+1': 3.923394626354276, '5*0+2': 1.4770903240771946, '5*0+3': -1.0097113619804987, '5*0+4': 2.5390986012767556, '5*1+0': -1.0541607730294755, '5*1+1': -0.010571648311545223, '5*1+2': -0.41769623036164205, '5*1+3': -1.6985729065846278, '5*1+4': -2.859284001528194, '5*2+0': -3.5135529516296193, '5*2+1': 2.6492297880952016, '5*2+2': 4.835893111126925, '5*2+3': 6.75306079959696, '5*2+4': -4.17288244045404, '5*3+0': -3.746260221426031, '5*3+1': 2.676813221705253, '5*3+2': 1.0161701135874441, '5*3+3': 5.625470631249085, '5*3+4': -1.3809591997353865, '5*4+0': 1.7221146688487297, '5*4+1': 2.516185436057403, '5*4+2': -0.6002113551787035, '5*4+3': 3.2701764595280145, '5*4+4': -2.8370933720821956}. Best is trial 24 with value: 2.6533667165629504.\u001b[0m\n",
      "\u001b[32m[I 2022-04-07 15:24:50,848]\u001b[0m Trial 176 finished with value: 9.2736655796163 and parameters: {'5*0+0': 1.903530258718013, '5*0+1': 1.8226305256119728, '5*0+2': 1.2864283898459048, '5*0+3': 0.6185472911381651, '5*0+4': 2.561620864898417, '5*1+0': 0.7535565431494949, '5*1+1': 2.533708136176183, '5*1+2': -2.4972587054434907, '5*1+3': -5.859609423725175, '5*1+4': -1.3486091523460288, '5*2+0': 0.5343291611931564, '5*2+1': 3.0235332402211292, '5*2+2': 6.663878467686549, '5*2+3': 2.7767869279915596, '5*2+4': -6.053684076567865, '5*3+0': -2.005381537612023, '5*3+1': -4.20703109604512, '5*3+2': -1.8417549100561739, '5*3+3': 1.4573210872750777, '5*3+4': 0.3010307241249883, '5*4+0': -0.12106599992020772, '5*4+1': 1.5758423423646222, '5*4+2': -1.1489643371387563, '5*4+3': 6.567212218556405, '5*4+4': -0.14814190308939867}. Best is trial 24 with value: 2.6533667165629504.\u001b[0m\n",
      "\u001b[32m[I 2022-04-07 15:24:51,125]\u001b[0m Trial 177 finished with value: 7.77875530180214 and parameters: {'5*0+0': 4.518843690452702, '5*0+1': 2.3581876926580723, '5*0+2': 0.19877599595813344, '5*0+3': 1.1402840915378043, '5*0+4': 0.307613287927305, '5*1+0': -1.8752828320290247, '5*1+1': 2.5719645768436434, '5*1+2': -3.8561542060364906, '5*1+3': -6.84292679996654, '5*1+4': -2.5625890535474287, '5*2+0': -2.8979842076910654, '5*2+1': -0.9054481964184298, '5*2+2': -0.7923128302373152, '5*2+3': 5.16884924623366, '5*2+4': -5.123718685567232, '5*3+0': -5.0011421304400265, '5*3+1': -5.323488970557953, '5*3+2': -6.93012852744161, '5*3+3': -0.6667215752596101, '5*3+4': -0.20800131710919612, '5*4+0': 2.7098227363178875, '5*4+1': -0.3314321709327168, '5*4+2': -0.8456540764687248, '5*4+3': 4.0536402824915925, '5*4+4': -5.538880969500185}. Best is trial 24 with value: 2.6533667165629504.\u001b[0m\n",
      "\u001b[32m[I 2022-04-07 15:24:51,412]\u001b[0m Trial 178 finished with value: 7.8227122280838595 and parameters: {'5*0+0': -1.1483555180395522, '5*0+1': 2.532730747235809, '5*0+2': 2.8682293479326693, '5*0+3': -0.9546099452366539, '5*0+4': 2.3847022713868165, '5*1+0': 0.3321288390237671, '5*1+1': 0.8943517623934967, '5*1+2': 1.36883242319072, '5*1+3': -3.570058034650535, '5*1+4': -2.5833655935909965, '5*2+0': -1.378027757818184, '5*2+1': 6.324774661872022, '5*2+2': 3.6039500508454934, '5*2+3': 1.4346636418441898, '5*2+4': -3.2302300631619945, '5*3+0': -6.090019497677701, '5*3+1': -4.660014739664678, '5*3+2': -9.375825284898902, '5*3+3': 5.151004483636909, '5*3+4': -7.4162769611934385, '5*4+0': 4.027545173557993, '5*4+1': 6.428315158861976, '5*4+2': -2.4957875556166282, '5*4+3': 2.161032974570116, '5*4+4': -6.364126233661823}. Best is trial 24 with value: 2.6533667165629504.\u001b[0m\n",
      "\u001b[32m[I 2022-04-07 15:24:51,769]\u001b[0m Trial 179 finished with value: 11.59869060227796 and parameters: {'5*0+0': -0.7886281879090165, '5*0+1': 1.147741539509644, '5*0+2': 0.7279624415121091, '5*0+3': 4.442470322231493, '5*0+4': 5.612181444364785, '5*1+0': 4.011631490231019, '5*1+1': 0.2927156277768326, '5*1+2': 0.027174544197597683, '5*1+3': 1.722190897344544, '5*1+4': -5.98238282598931, '5*2+0': -1.5543506728802947, '5*2+1': 3.322496818463059, '5*2+2': 4.842791680301768, '5*2+3': 6.451013715767788, '5*2+4': -3.4094276238095205, '5*3+0': -5.036891064705913, '5*3+1': -1.411219907272548, '5*3+2': -8.902919572511465, '5*3+3': 1.3477876194249783, '5*3+4': 0.04245920391176705, '5*4+0': 5.686069987058787, '5*4+1': -0.7623400030283831, '5*4+2': -1.742883030461631, '5*4+3': 9.07283842409147, '5*4+4': -4.826034033726405}. Best is trial 24 with value: 2.6533667165629504.\u001b[0m\n"
     ]
    },
    {
     "name": "stderr",
     "output_type": "stream",
     "text": [
      "\u001b[32m[I 2022-04-07 15:24:52,049]\u001b[0m Trial 180 finished with value: 24.779978605656094 and parameters: {'5*0+0': 1.8139371110152172, '5*0+1': 8.261020458778932, '5*0+2': 0.2163223828594958, '5*0+3': -2.1416575012548265, '5*0+4': 5.729645139508163, '5*1+0': -0.8980097399258063, '5*1+1': -1.8159358989678769, '5*1+2': -0.8560325276317906, '5*1+3': -4.975729621850469, '5*1+4': -0.5348266746740635, '5*2+0': -0.033742477844231455, '5*2+1': 4.41890663257923, '5*2+2': 7.200945411286106, '5*2+3': -0.939591173534728, '5*2+4': -2.8140063506560895, '5*3+0': 0.5890074048462077, '5*3+1': -2.5081710998393154, '5*3+2': -4.189418670064106, '5*3+3': 3.8080704877408427, '5*3+4': 0.20160118233404623, '5*4+0': 2.626218132802286, '5*4+1': -2.132912880191804, '5*4+2': -5.835133622119368, '5*4+3': 8.6341758954873, '5*4+4': -6.332987237068078}. Best is trial 24 with value: 2.6533667165629504.\u001b[0m\n",
      "\u001b[32m[I 2022-04-07 15:24:52,321]\u001b[0m Trial 181 finished with value: 8.820300520855248 and parameters: {'5*0+0': 0.9446552188909707, '5*0+1': -0.8470550866576861, '5*0+2': 4.066062293612793, '5*0+3': -0.15681647494366702, '5*0+4': 2.58478181562455, '5*1+0': 1.1407136645381488, '5*1+1': 0.4727229834129173, '5*1+2': -0.6875490753542493, '5*1+3': -7.231960192588663, '5*1+4': -0.43668595502216645, '5*2+0': -3.092352686259629, '5*2+1': 0.7766129850108046, '5*2+2': 3.3516703995899455, '5*2+3': 7.269357384482936, '5*2+4': -3.5830869452934273, '5*3+0': -5.682028816141718, '5*3+1': -6.198259958599399, '5*3+2': -4.424802726008249, '5*3+3': 2.496808786573901, '5*3+4': -5.62547332493122, '5*4+0': 8.12073882493021, '5*4+1': 0.7132609977207676, '5*4+2': -4.607909638406501, '5*4+3': 6.979256119443974, '5*4+4': -7.754236462305539}. Best is trial 24 with value: 2.6533667165629504.\u001b[0m\n",
      "\u001b[32m[I 2022-04-07 15:24:52,601]\u001b[0m Trial 182 finished with value: 7.942475931623316 and parameters: {'5*0+0': 2.3715743910637013, '5*0+1': 3.0101729541017064, '5*0+2': 1.3259540622367232, '5*0+3': -3.525611590471955, '5*0+4': 0.07589172962758717, '5*1+0': -2.6110602579503763, '5*1+1': 1.1259803426468182, '5*1+2': -4.858341491402303, '5*1+3': -8.05898925957916, '5*1+4': -1.0551511001834086, '5*2+0': 0.2225250238944081, '5*2+1': 6.828246430895702, '5*2+2': 1.9043986568748248, '5*2+3': -0.35330461340619035, '5*2+4': -0.3617340022365245, '5*3+0': -2.7360819917606842, '5*3+1': -4.310193312345284, '5*3+2': -6.4784541114245044, '5*3+3': -0.14560462024750942, '5*3+4': -2.9072355933698257, '5*4+0': 5.122634147661404, '5*4+1': -1.7125966134367112, '5*4+2': 0.9528346808447914, '5*4+3': 3.3521879224241653, '5*4+4': -6.534713825341413}. Best is trial 24 with value: 2.6533667165629504.\u001b[0m\n",
      "\u001b[32m[I 2022-04-07 15:24:52,898]\u001b[0m Trial 183 finished with value: 11.231672461877915 and parameters: {'5*0+0': 1.5398361335855282, '5*0+1': 1.0768058510310339, '5*0+2': -0.430328604419718, '5*0+3': -1.403577793357826, '5*0+4': 3.730684363814129, '5*1+0': -4.251553347927356, '5*1+1': 2.753335866741506, '5*1+2': -3.2496909719183207, '5*1+3': -4.561457383414933, '5*1+4': -6.804712567192709, '5*2+0': -2.2915459304624175, '5*2+1': 4.38040503602144, '5*2+2': 3.925817028464734, '5*2+3': 3.3580623165384553, '5*2+4': -3.8863124418013766, '5*3+0': -4.9486407933037455, '5*3+1': -2.8345101034031845, '5*3+2': -8.287646827081284, '5*3+3': 4.565370811597646, '5*3+4': -0.8925296135653522, '5*4+0': 5.750637397359784, '5*4+1': -0.20866460720492164, '5*4+2': 0.5152624250968676, '5*4+3': 8.10732524469653, '5*4+4': -6.333554375181356}. Best is trial 24 with value: 2.6533667165629504.\u001b[0m\n",
      "\u001b[32m[I 2022-04-07 15:24:53,199]\u001b[0m Trial 184 finished with value: 6.052751228411692 and parameters: {'5*0+0': 2.575710634422466, '5*0+1': -0.46328158679548004, '5*0+2': -3.065542761019686, '5*0+3': -2.0673868758947664, '5*0+4': 2.699679220635802, '5*1+0': 0.44923623767221477, '5*1+1': 0.9713754619409196, '5*1+2': -4.207004574799402, '5*1+3': 2.418323089574238, '5*1+4': -4.610674008732291, '5*2+0': -2.0640343816588773, '5*2+1': 3.481587546546148, '5*2+2': 6.657739066920993, '5*2+3': 7.631607623237049, '5*2+4': -2.5022870310685317, '5*3+0': -4.436799975755452, '5*3+1': 1.22009953700371, '5*3+2': -5.3612448419091425, '5*3+3': 4.787267641309992, '5*3+4': -7.7726039398308515, '5*4+0': 1.1993771063379493, '5*4+1': -1.2816214919619169, '5*4+2': -0.3949292846126471, '5*4+3': 5.172286728023703, '5*4+4': -4.873775785286382}. Best is trial 24 with value: 2.6533667165629504.\u001b[0m\n",
      "\u001b[32m[I 2022-04-07 15:24:53,474]\u001b[0m Trial 185 finished with value: 6.5922804971858255 and parameters: {'5*0+0': 3.006503216441431, '5*0+1': 5.127730281853492, '5*0+2': -0.0736540044070223, '5*0+3': 2.3425828179627723, '5*0+4': 0.9555791075451519, '5*1+0': -0.35754705796796604, '5*1+1': 6.1540738728931625, '5*1+2': -3.682982047209713, '5*1+3': -8.01268108898843, '5*1+4': 0.49031330982534804, '5*2+0': -4.035992964229736, '5*2+1': 3.180440115756908, '5*2+2': 5.078278285880115, '5*2+3': 3.1306019723968515, '5*2+4': -7.537645177846658, '5*3+0': -5.0510472681968075, '5*3+1': -0.33544184279565536, '5*3+2': -7.361457804953042, '5*3+3': 3.42942276993002, '5*3+4': -2.0642686101284498, '5*4+0': 6.954596962312891, '5*4+1': 4.20867001783715, '5*4+2': -0.2357561603820162, '5*4+3': 4.9235721522985845, '5*4+4': -5.705777646260004}. Best is trial 24 with value: 2.6533667165629504.\u001b[0m\n",
      "\u001b[32m[I 2022-04-07 15:24:53,750]\u001b[0m Trial 186 finished with value: 7.821840569987808 and parameters: {'5*0+0': 0.5845482442005632, '5*0+1': 0.28999937758246386, '5*0+2': 1.6843256948693193, '5*0+3': -0.09164171566771659, '5*0+4': 4.761931659198848, '5*1+0': -2.3394052806469565, '5*1+1': 2.32383522821709, '5*1+2': -2.538579705469062, '5*1+3': -3.463322272979547, '5*1+4': 3.105805303214288, '5*2+0': -4.899765505928729, '5*2+1': 1.126221558055458, '5*2+2': 2.6232941396986864, '5*2+3': 2.872584431848888, '5*2+4': -5.184538018903115, '5*3+0': -6.866801654626606, '5*3+1': -1.2749107036191392, '5*3+2': -4.909117576856363, '5*3+3': 3.609121589848643, '5*3+4': -3.256745589578001, '5*4+0': 1.4914222454302988, '5*4+1': 2.8637145035434175, '5*4+2': -1.2057620796313921, '5*4+3': 3.6492520794697834, '5*4+4': -3.9472151753571607}. Best is trial 24 with value: 2.6533667165629504.\u001b[0m\n",
      "\u001b[32m[I 2022-04-07 15:24:54,026]\u001b[0m Trial 187 finished with value: 7.036691267209398 and parameters: {'5*0+0': 8.709041951755644, '5*0+1': 3.3514669081759143, '5*0+2': -0.27378694495658384, '5*0+3': 1.4620468871543677, '5*0+4': 3.4851680694159866, '5*1+0': -4.050671380625078, '5*1+1': -0.6052240454601172, '5*1+2': -2.015283733744421, '5*1+3': -6.18411170643127, '5*1+4': -2.191318408347979, '5*2+0': -2.236497888864216, '5*2+1': 0.4651585606435251, '5*2+2': 5.213694922462192, '5*2+3': 1.7089832265955942, '5*2+4': -4.339970433439872, '5*3+0': -7.187069386315001, '5*3+1': -1.4115900595743818, '5*3+2': -2.3065726956688515, '5*3+3': 2.4829968961975135, '5*3+4': -0.9016336081277827, '5*4+0': 5.008292684708367, '5*4+1': 2.444468683587341, '5*4+2': -2.1524323627336983, '5*4+3': 5.9903876523538955, '5*4+4': -7.423223549515914}. Best is trial 24 with value: 2.6533667165629504.\u001b[0m\n",
      "\u001b[32m[I 2022-04-07 15:24:54,313]\u001b[0m Trial 188 finished with value: 9.64739791046655 and parameters: {'5*0+0': 6.691286536738003, '5*0+1': 0.8299288285981459, '5*0+2': 3.9557705681957427, '5*0+3': 0.2947994147343862, '5*0+4': 2.09559861314011, '5*1+0': -3.749033209298691, '5*1+1': 2.181381637134613, '5*1+2': 1.593041450336211, '5*1+3': 0.7602424736087672, '5*1+4': -1.5117589825147255, '5*2+0': -1.6868138863608104, '5*2+1': 3.0866000099805255, '5*2+2': 3.36139605234487, '5*2+3': 4.920351597117919, '5*2+4': 0.6313836287345063, '5*3+0': -7.143856624718337, '5*3+1': -2.9534172408740216, '5*3+2': -4.76160386982564, '5*3+3': 3.245482043665878, '5*3+4': 1.900192248146991, '5*4+0': 2.4212698432271464, '5*4+1': 1.261922413579465, '5*4+2': -0.012087533299926845, '5*4+3': 6.447985708565989, '5*4+4': -8.56776018871411}. Best is trial 24 with value: 2.6533667165629504.\u001b[0m\n",
      "\u001b[32m[I 2022-04-07 15:24:54,592]\u001b[0m Trial 189 finished with value: 6.603922283875452 and parameters: {'5*0+0': 2.612283144529228, '5*0+1': 1.4585142722231557, '5*0+2': 0.2096578677192512, '5*0+3': 0.21767507163568472, '5*0+4': 2.1810689225908653, '5*1+0': -0.6940447478690257, '5*1+1': 5.995099091599757, '5*1+2': -3.9645427541306546, '5*1+3': -4.881514421699025, '5*1+4': -2.469152892788208, '5*2+0': -5.996136987383515, '5*2+1': 1.612463052934611, '5*2+2': 2.7141869280701982, '5*2+3': 4.5046627325597655, '5*2+4': -3.6272579655600885, '5*3+0': -2.618962683002713, '5*3+1': -3.3183741996430753, '5*3+2': -3.027750103812938, '5*3+3': 3.5032498999937993, '5*3+4': -3.9747506131807038, '5*4+0': 5.604512717355489, '5*4+1': 2.472662907501787, '5*4+2': -2.3800949307570924, '5*4+3': 5.367699696475624, '5*4+4': -5.092955486793985}. Best is trial 24 with value: 2.6533667165629504.\u001b[0m\n"
     ]
    },
    {
     "name": "stderr",
     "output_type": "stream",
     "text": [
      "\u001b[32m[I 2022-04-07 15:24:54,869]\u001b[0m Trial 190 finished with value: 13.470471463240425 and parameters: {'5*0+0': 1.2448819166423772, '5*0+1': 2.1267914519923106, '5*0+2': -0.4554832747381544, '5*0+3': 3.4395590939134824, '5*0+4': 4.231891986040307, '5*1+0': -0.3585454352888997, '5*1+1': 1.8192765616109814, '5*1+2': -2.828691168186852, '5*1+3': -2.2746104682196924, '5*1+4': -0.05057582035076269, '5*2+0': -2.5157652120779015, '5*2+1': -0.31761574669221204, '5*2+2': 6.292295423004146, '5*2+3': 2.4363589172270883, '5*2+4': -5.008834911832405, '5*3+0': -3.464678704170061, '5*3+1': -1.9486306770878028, '5*3+2': -4.969053414730838, '5*3+3': 4.981355831843203, '5*3+4': -0.49746772183127197, '5*4+0': 4.3743444824980475, '5*4+1': 2.4039017489599264, '5*4+2': -3.6096792428271383, '5*4+3': 6.154356132796908, '5*4+4': -2.5234900426105353}. Best is trial 24 with value: 2.6533667165629504.\u001b[0m\n",
      "\u001b[32m[I 2022-04-07 15:24:55,143]\u001b[0m Trial 191 finished with value: 8.334952621906774 and parameters: {'5*0+0': 2.5920976419154718, '5*0+1': -0.9361225305351399, '5*0+2': 2.9433521313164377, '5*0+3': 1.2925972146106126, '5*0+4': -2.249056965708133, '5*1+0': -5.547754790922953, '5*1+1': -0.7911357761186091, '5*1+2': 0.6449589051507614, '5*1+3': -4.454106559578365, '5*1+4': -2.888928234383782, '5*2+0': -2.1437411818149363, '5*2+1': 0.5766552192363263, '5*2+2': 7.058985033556233, '5*2+3': 4.158469432597586, '5*2+4': -6.022528949633786, '5*3+0': -3.227288900251564, '5*3+1': -4.767837820948134, '5*3+2': -5.02311695358049, '5*3+3': 6.804309119610943, '5*3+4': -4.617180269278381, '5*4+0': 1.969057064184527, '5*4+1': 4.658901933582498, '5*4+2': -1.4780944360475115, '5*4+3': 2.9793872229444744, '5*4+4': -4.985190503759862}. Best is trial 24 with value: 2.6533667165629504.\u001b[0m\n",
      "\u001b[32m[I 2022-04-07 15:24:55,457]\u001b[0m Trial 192 finished with value: 11.359917761401999 and parameters: {'5*0+0': 1.7421169239925256, '5*0+1': 4.39188920360483, '5*0+2': 5.4216908733927065, '5*0+3': 1.1426774251319993, '5*0+4': 0.9239800130328661, '5*1+0': 2.1126731803262153, '5*1+1': 1.106775083747947, '5*1+2': -3.2801226781731065, '5*1+3': -3.0923307495272745, '5*1+4': -0.007178165434176709, '5*2+0': 1.1025786878839192, '5*2+1': 0.7960049276098549, '5*2+2': 5.6759901417149345, '5*2+3': 7.72195510290254, '5*2+4': -5.430419999685503, '5*3+0': -5.2454627973611405, '5*3+1': -1.516527416280362, '5*3+2': -3.2284047245569107, '5*3+3': 3.5290051615304336, '5*3+4': -5.712813581775602, '5*4+0': 5.869027029591916, '5*4+1': 1.0987335609299715, '5*4+2': 0.36247337767770005, '5*4+3': 4.51650379396542, '5*4+4': -6.472891382015358}. Best is trial 24 with value: 2.6533667165629504.\u001b[0m\n",
      "\u001b[32m[I 2022-04-07 15:24:55,744]\u001b[0m Trial 193 finished with value: 3.4143131849284756 and parameters: {'5*0+0': 4.034602026384164, '5*0+1': 1.5368640505784028, '5*0+2': -0.6528268608283098, '5*0+3': 2.474564618046924, '5*0+4': 1.1429702082946083, '5*1+0': -2.586887139413213, '5*1+1': -3.5244529112384355, '5*1+2': 0.3465106122667634, '5*1+3': 1.176511100537887, '5*1+4': -3.358315270044237, '5*2+0': -1.9910795107990518, '5*2+1': 0.39547630151971247, '5*2+2': 1.9741120912495216, '5*2+3': 4.694098256661792, '5*2+4': -2.673555958666007, '5*3+0': -1.4020568671686808, '5*3+1': 1.1903885858941383, '5*3+2': -7.156378090797977, '5*3+3': 1.5684012505497438, '5*3+4': -5.846495050512451, '5*4+0': -2.557164070940944, '5*4+1': 2.0338565881518376, '5*4+2': -4.669870557053095, '5*4+3': 5.6916186032390135, '5*4+4': -6.070002491340812}. Best is trial 24 with value: 2.6533667165629504.\u001b[0m\n",
      "\u001b[32m[I 2022-04-07 15:24:56,025]\u001b[0m Trial 194 finished with value: 6.741411640873157 and parameters: {'5*0+0': 2.3790498420335173, '5*0+1': 1.7490563018919207, '5*0+2': 1.0078925139367931, '5*0+3': -2.021106645873604, '5*0+4': 1.487449138745994, '5*1+0': -1.5356225958091725, '5*1+1': 2.917353104074038, '5*1+2': 2.57874107821553, '5*1+3': -0.21836069799451296, '5*1+4': -0.07774400025587003, '5*2+0': -4.3712858218244754, '5*2+1': 1.0219001270735275, '5*2+2': 0.644287007379007, '5*2+3': 1.1499287564770944, '5*2+4': -3.2307085603862142, '5*3+0': -1.0751493152742948, '5*3+1': -4.368047366029918, '5*3+2': -6.474297504621698, '5*3+3': 5.15971373079398, '5*3+4': -0.2838700014648605, '5*4+0': 2.634659085400302, '5*4+1': 0.9835732238753924, '5*4+2': 2.138792208222071, '5*4+3': 2.452199443557888, '5*4+4': -6.8269640329384735}. Best is trial 24 with value: 2.6533667165629504.\u001b[0m\n",
      "\u001b[32m[I 2022-04-07 15:24:56,364]\u001b[0m Trial 195 finished with value: 7.093069357029441 and parameters: {'5*0+0': 3.4479328006291796, '5*0+1': 2.5821288202985455, '5*0+2': 4.041482785289697, '5*0+3': -2.2480216230601338, '5*0+4': 0.9081961795711686, '5*1+0': 2.6864839472889512, '5*1+1': 1.0373847256333601, '5*1+2': -1.9880119404498369, '5*1+3': -0.5906583415682989, '5*1+4': -2.4619077064895625, '5*2+0': -5.798856025716547, '5*2+1': 2.600637156846949, '5*2+2': 3.480941356509314, '5*2+3': 3.0625546486219237, '5*2+4': -4.377536471323534, '5*3+0': -5.41148548666872, '5*3+1': 0.04348864379052064, '5*3+2': -2.3360558510688647, '5*3+3': -3.0518863754521686, '5*3+4': -3.0765843580786503, '5*4+0': 0.7284141388309675, '5*4+1': 2.164421101384104, '5*4+2': 0.7361888984034024, '5*4+3': 3.8410205936061126, '5*4+4': -5.69285713447378}. Best is trial 24 with value: 2.6533667165629504.\u001b[0m\n",
      "\u001b[32m[I 2022-04-07 15:24:56,646]\u001b[0m Trial 196 finished with value: 10.036610607477854 and parameters: {'5*0+0': 5.848766959542529, '5*0+1': 3.8722052327777403, '5*0+2': -1.8551920372608468, '5*0+3': -2.465659543168111, '5*0+4': -0.5881866986093693, '5*1+0': -0.7033569848789109, '5*1+1': 3.3868822299539336, '5*1+2': 1.7288234978031802, '5*1+3': 0.3324366912076997, '5*1+4': -4.38241175504745, '5*2+0': -3.1799430747480355, '5*2+1': -0.7067464201744791, '5*2+2': 0.9916103922962742, '5*2+3': 3.9318919660448803, '5*2+4': -3.2125204650398893, '5*3+0': -1.407274922512274, '5*3+1': -2.28119264894621, '5*3+2': -6.165834180340504, '5*3+3': 4.259748392649593, '5*3+4': -4.4195658150484265, '5*4+0': -0.4656287668511019, '5*4+1': -0.019921180939662664, '5*4+2': -2.350470641255426, '5*4+3': 6.696953909254552, '5*4+4': -8.771996037775452}. Best is trial 24 with value: 2.6533667165629504.\u001b[0m\n",
      "\u001b[32m[I 2022-04-07 15:24:56,919]\u001b[0m Trial 197 finished with value: 11.80654097808797 and parameters: {'5*0+0': 3.4346224444495244, '5*0+1': 0.4031429790457033, '5*0+2': -1.9734421806861815, '5*0+3': -3.041845118822475, '5*0+4': 1.048015605274458, '5*1+0': -1.769150178273112, '5*1+1': 1.0574588719792777, '5*1+2': -0.09492657474482735, '5*1+3': -3.4703014640184295, '5*1+4': -1.8891459606332122, '5*2+0': 0.04534967778854382, '5*2+1': 2.46560753836422, '5*2+2': 3.378252960624263, '5*2+3': 2.4500886615685964, '5*2+4': -0.3862728806708762, '5*3+0': -2.9147969960669307, '5*3+1': -0.19386999552513606, '5*3+2': -5.4662185938211305, '5*3+3': 2.5509632266048587, '5*3+4': -2.6843996507547154, '5*4+0': 1.9935608788356447, '5*4+1': 2.7109054345635064, '5*4+2': -2.857673463590854, '5*4+3': 7.394800476320329, '5*4+4': -6.808444890272197}. Best is trial 24 with value: 2.6533667165629504.\u001b[0m\n",
      "\u001b[32m[I 2022-04-07 15:24:57,208]\u001b[0m Trial 198 finished with value: 5.824015161099007 and parameters: {'5*0+0': 7.335219112051263, '5*0+1': 3.579418494780781, '5*0+2': -0.4965651215722936, '5*0+3': 0.9851654104818328, '5*0+4': -1.4711148067774298, '5*1+0': -2.9028282521560875, '5*1+1': 4.856938693098556, '5*1+2': 0.02207447154803699, '5*1+3': -0.46152122460193956, '5*1+4': -5.233091851613368, '5*2+0': -1.685904309567188, '5*2+1': 2.0055784457855714, '5*2+2': 8.035341904295791, '5*2+3': 6.4216310656333, '5*2+4': -3.6066980634157018, '5*3+0': -1.2352530011462257, '5*3+1': 2.459593048396102, '5*3+2': -7.31818883644247, '5*3+3': -1.215415522616314, '5*3+4': -7.740288981415311, '5*4+0': 1.7495369607045839, '5*4+1': 0.2165662373264725, '5*4+2': -2.6824419697290964, '5*4+3': 7.499654205104729, '5*4+4': -8.689302436875757}. Best is trial 24 with value: 2.6533667165629504.\u001b[0m\n"
     ]
    },
    {
     "ename": "KeyboardInterrupt",
     "evalue": "",
     "output_type": "error",
     "traceback": [
      "\u001b[0;31m---------------------------------------------------------------------------\u001b[0m",
      "\u001b[0;31mKeyboardInterrupt\u001b[0m                         Traceback (most recent call last)",
      "\u001b[0;32m<ipython-input-556-0a1492882eba>\u001b[0m in \u001b[0;36m<module>\u001b[0;34m\u001b[0m\n\u001b[1;32m     25\u001b[0m     \u001b[0msampler\u001b[0m \u001b[0;34m=\u001b[0m \u001b[0moptuna\u001b[0m\u001b[0;34m.\u001b[0m\u001b[0msamplers\u001b[0m\u001b[0;34m.\u001b[0m\u001b[0mCmaEsSampler\u001b[0m\u001b[0;34m(\u001b[0m\u001b[0;34m)\u001b[0m\u001b[0;34m\u001b[0m\u001b[0;34m\u001b[0m\u001b[0m\n\u001b[1;32m     26\u001b[0m     \u001b[0mstudy\u001b[0m \u001b[0;34m=\u001b[0m \u001b[0moptuna\u001b[0m\u001b[0;34m.\u001b[0m\u001b[0mcreate_study\u001b[0m\u001b[0;34m(\u001b[0m\u001b[0msampler\u001b[0m\u001b[0;34m=\u001b[0m\u001b[0msampler\u001b[0m\u001b[0;34m)\u001b[0m\u001b[0;34m\u001b[0m\u001b[0;34m\u001b[0m\u001b[0m\n\u001b[0;32m---> 27\u001b[0;31m     \u001b[0mstudy\u001b[0m\u001b[0;34m.\u001b[0m\u001b[0moptimize\u001b[0m\u001b[0;34m(\u001b[0m\u001b[0mcost_function_sigma\u001b[0m\u001b[0;34m,\u001b[0m \u001b[0mn_trials\u001b[0m\u001b[0;34m=\u001b[0m\u001b[0;36m3000\u001b[0m\u001b[0;34m)\u001b[0m\u001b[0;34m\u001b[0m\u001b[0;34m\u001b[0m\u001b[0m\n\u001b[0m\u001b[1;32m     28\u001b[0m \u001b[0;34m\u001b[0m\u001b[0m\n\u001b[1;32m     29\u001b[0m \u001b[0;34m\u001b[0m\u001b[0m\n",
      "\u001b[0;32m~/anaconda3/lib/python3.8/site-packages/optuna/study/study.py\u001b[0m in \u001b[0;36moptimize\u001b[0;34m(self, func, n_trials, timeout, n_jobs, catch, callbacks, gc_after_trial, show_progress_bar)\u001b[0m\n\u001b[1;32m    398\u001b[0m             )\n\u001b[1;32m    399\u001b[0m \u001b[0;34m\u001b[0m\u001b[0m\n\u001b[0;32m--> 400\u001b[0;31m         _optimize(\n\u001b[0m\u001b[1;32m    401\u001b[0m             \u001b[0mstudy\u001b[0m\u001b[0;34m=\u001b[0m\u001b[0mself\u001b[0m\u001b[0;34m,\u001b[0m\u001b[0;34m\u001b[0m\u001b[0;34m\u001b[0m\u001b[0m\n\u001b[1;32m    402\u001b[0m             \u001b[0mfunc\u001b[0m\u001b[0;34m=\u001b[0m\u001b[0mfunc\u001b[0m\u001b[0;34m,\u001b[0m\u001b[0;34m\u001b[0m\u001b[0;34m\u001b[0m\u001b[0m\n",
      "\u001b[0;32m~/anaconda3/lib/python3.8/site-packages/optuna/study/_optimize.py\u001b[0m in \u001b[0;36m_optimize\u001b[0;34m(study, func, n_trials, timeout, n_jobs, catch, callbacks, gc_after_trial, show_progress_bar)\u001b[0m\n\u001b[1;32m     64\u001b[0m     \u001b[0;32mtry\u001b[0m\u001b[0;34m:\u001b[0m\u001b[0;34m\u001b[0m\u001b[0;34m\u001b[0m\u001b[0m\n\u001b[1;32m     65\u001b[0m         \u001b[0;32mif\u001b[0m \u001b[0mn_jobs\u001b[0m \u001b[0;34m==\u001b[0m \u001b[0;36m1\u001b[0m\u001b[0;34m:\u001b[0m\u001b[0;34m\u001b[0m\u001b[0;34m\u001b[0m\u001b[0m\n\u001b[0;32m---> 66\u001b[0;31m             _optimize_sequential(\n\u001b[0m\u001b[1;32m     67\u001b[0m                 \u001b[0mstudy\u001b[0m\u001b[0;34m,\u001b[0m\u001b[0;34m\u001b[0m\u001b[0;34m\u001b[0m\u001b[0m\n\u001b[1;32m     68\u001b[0m                 \u001b[0mfunc\u001b[0m\u001b[0;34m,\u001b[0m\u001b[0;34m\u001b[0m\u001b[0;34m\u001b[0m\u001b[0m\n",
      "\u001b[0;32m~/anaconda3/lib/python3.8/site-packages/optuna/study/_optimize.py\u001b[0m in \u001b[0;36m_optimize_sequential\u001b[0;34m(study, func, n_trials, timeout, catch, callbacks, gc_after_trial, reseed_sampler_rng, time_start, progress_bar)\u001b[0m\n\u001b[1;32m    161\u001b[0m \u001b[0;34m\u001b[0m\u001b[0m\n\u001b[1;32m    162\u001b[0m         \u001b[0;32mtry\u001b[0m\u001b[0;34m:\u001b[0m\u001b[0;34m\u001b[0m\u001b[0;34m\u001b[0m\u001b[0m\n\u001b[0;32m--> 163\u001b[0;31m             \u001b[0mtrial\u001b[0m \u001b[0;34m=\u001b[0m \u001b[0m_run_trial\u001b[0m\u001b[0;34m(\u001b[0m\u001b[0mstudy\u001b[0m\u001b[0;34m,\u001b[0m \u001b[0mfunc\u001b[0m\u001b[0;34m,\u001b[0m \u001b[0mcatch\u001b[0m\u001b[0;34m)\u001b[0m\u001b[0;34m\u001b[0m\u001b[0;34m\u001b[0m\u001b[0m\n\u001b[0m\u001b[1;32m    164\u001b[0m         \u001b[0;32mexcept\u001b[0m \u001b[0mException\u001b[0m\u001b[0;34m:\u001b[0m\u001b[0;34m\u001b[0m\u001b[0;34m\u001b[0m\u001b[0m\n\u001b[1;32m    165\u001b[0m             \u001b[0;32mraise\u001b[0m\u001b[0;34m\u001b[0m\u001b[0;34m\u001b[0m\u001b[0m\n",
      "\u001b[0;32m~/anaconda3/lib/python3.8/site-packages/optuna/study/_optimize.py\u001b[0m in \u001b[0;36m_run_trial\u001b[0;34m(study, func, catch)\u001b[0m\n\u001b[1;32m    211\u001b[0m \u001b[0;34m\u001b[0m\u001b[0m\n\u001b[1;32m    212\u001b[0m     \u001b[0;32mtry\u001b[0m\u001b[0;34m:\u001b[0m\u001b[0;34m\u001b[0m\u001b[0;34m\u001b[0m\u001b[0m\n\u001b[0;32m--> 213\u001b[0;31m         \u001b[0mvalue_or_values\u001b[0m \u001b[0;34m=\u001b[0m \u001b[0mfunc\u001b[0m\u001b[0;34m(\u001b[0m\u001b[0mtrial\u001b[0m\u001b[0;34m)\u001b[0m\u001b[0;34m\u001b[0m\u001b[0;34m\u001b[0m\u001b[0m\n\u001b[0m\u001b[1;32m    214\u001b[0m     \u001b[0;32mexcept\u001b[0m \u001b[0mexceptions\u001b[0m\u001b[0;34m.\u001b[0m\u001b[0mTrialPruned\u001b[0m \u001b[0;32mas\u001b[0m \u001b[0me\u001b[0m\u001b[0;34m:\u001b[0m\u001b[0;34m\u001b[0m\u001b[0;34m\u001b[0m\u001b[0m\n\u001b[1;32m    215\u001b[0m         \u001b[0;31m# TODO(mamu): Handle multi-objective cases.\u001b[0m\u001b[0;34m\u001b[0m\u001b[0;34m\u001b[0m\u001b[0;34m\u001b[0m\u001b[0m\n",
      "\u001b[0;32m<ipython-input-556-0a1492882eba>\u001b[0m in \u001b[0;36mcost_function_sigma\u001b[0;34m(trial)\u001b[0m\n\u001b[1;32m     15\u001b[0m         \u001b[0mpsi_var\u001b[0m \u001b[0;34m=\u001b[0m \u001b[0mms_gate_global\u001b[0m\u001b[0;34m(\u001b[0m\u001b[0mtheta\u001b[0m\u001b[0;34m[\u001b[0m\u001b[0;36m5\u001b[0m\u001b[0;34m*\u001b[0m\u001b[0mi\u001b[0m\u001b[0;34m+\u001b[0m\u001b[0;36m0\u001b[0m\u001b[0;34m]\u001b[0m\u001b[0;34m)\u001b[0m\u001b[0;34m@\u001b[0m\u001b[0mpsi_var\u001b[0m\u001b[0;34m\u001b[0m\u001b[0;34m\u001b[0m\u001b[0m\n\u001b[1;32m     16\u001b[0m         \u001b[0mpsi_var\u001b[0m \u001b[0;34m=\u001b[0m \u001b[0mrot_sigma_e\u001b[0m\u001b[0;34m(\u001b[0m\u001b[0;36m0\u001b[0m\u001b[0;34m,\u001b[0m\u001b[0;36m2\u001b[0m\u001b[0;34m,\u001b[0m\u001b[0;36m0\u001b[0m\u001b[0;34m,\u001b[0m\u001b[0mtheta\u001b[0m\u001b[0;34m[\u001b[0m\u001b[0;36m5\u001b[0m\u001b[0;34m*\u001b[0m\u001b[0mi\u001b[0m\u001b[0;34m+\u001b[0m\u001b[0;36m2\u001b[0m\u001b[0;34m]\u001b[0m\u001b[0;34m)\u001b[0m\u001b[0;34m@\u001b[0m\u001b[0mrot_sigma_e\u001b[0m\u001b[0;34m(\u001b[0m\u001b[0;36m0\u001b[0m\u001b[0;34m,\u001b[0m\u001b[0;36m1\u001b[0m\u001b[0;34m,\u001b[0m\u001b[0;36m0\u001b[0m\u001b[0;34m,\u001b[0m\u001b[0mtheta\u001b[0m\u001b[0;34m[\u001b[0m\u001b[0;36m5\u001b[0m\u001b[0;34m*\u001b[0m\u001b[0mi\u001b[0m\u001b[0;34m+\u001b[0m\u001b[0;36m1\u001b[0m\u001b[0;34m]\u001b[0m\u001b[0;34m)\u001b[0m\u001b[0;34m@\u001b[0m\u001b[0mpsi_var\u001b[0m\u001b[0;34m\u001b[0m\u001b[0;34m\u001b[0m\u001b[0m\n\u001b[0;32m---> 17\u001b[0;31m         \u001b[0mpsi_var\u001b[0m \u001b[0;34m=\u001b[0m \u001b[0mrot_sigma_o\u001b[0m\u001b[0;34m(\u001b[0m\u001b[0;36m0\u001b[0m\u001b[0;34m,\u001b[0m\u001b[0;36m2\u001b[0m\u001b[0;34m,\u001b[0m\u001b[0;36m0\u001b[0m\u001b[0;34m,\u001b[0m\u001b[0mtheta\u001b[0m\u001b[0;34m[\u001b[0m\u001b[0;36m5\u001b[0m\u001b[0;34m*\u001b[0m\u001b[0mi\u001b[0m\u001b[0;34m+\u001b[0m\u001b[0;36m4\u001b[0m\u001b[0;34m]\u001b[0m\u001b[0;34m)\u001b[0m\u001b[0;34m@\u001b[0m\u001b[0mrot_sigma_o\u001b[0m\u001b[0;34m(\u001b[0m\u001b[0;36m1\u001b[0m\u001b[0;34m,\u001b[0m\u001b[0;36m2\u001b[0m\u001b[0;34m,\u001b[0m\u001b[0;36m0\u001b[0m\u001b[0;34m,\u001b[0m\u001b[0mtheta\u001b[0m\u001b[0;34m[\u001b[0m\u001b[0;36m5\u001b[0m\u001b[0;34m*\u001b[0m\u001b[0mi\u001b[0m\u001b[0;34m+\u001b[0m\u001b[0;36m3\u001b[0m\u001b[0;34m]\u001b[0m\u001b[0;34m)\u001b[0m\u001b[0;34m@\u001b[0m\u001b[0mpsi_var\u001b[0m\u001b[0;34m\u001b[0m\u001b[0;34m\u001b[0m\u001b[0m\n\u001b[0m\u001b[1;32m     18\u001b[0m         \u001b[0mpsi_var\u001b[0m \u001b[0;34m=\u001b[0m \u001b[0mrot_sigma\u001b[0m\u001b[0;34m(\u001b[0m\u001b[0;36m0\u001b[0m\u001b[0;34m,\u001b[0m\u001b[0;36m0\u001b[0m\u001b[0;34m,\u001b[0m\u001b[0;36m2\u001b[0m\u001b[0;34m,\u001b[0m\u001b[0;36m0\u001b[0m\u001b[0;34m,\u001b[0m\u001b[0mtheta\u001b[0m\u001b[0;34m[\u001b[0m\u001b[0;36m5\u001b[0m\u001b[0;34m*\u001b[0m\u001b[0mi\u001b[0m\u001b[0;34m+\u001b[0m\u001b[0;36m2\u001b[0m\u001b[0;34m]\u001b[0m\u001b[0;34m)\u001b[0m\u001b[0;34m@\u001b[0m\u001b[0mrot_sigma\u001b[0m\u001b[0;34m(\u001b[0m\u001b[0;36m0\u001b[0m\u001b[0;34m,\u001b[0m\u001b[0;36m0\u001b[0m\u001b[0;34m,\u001b[0m\u001b[0;36m1\u001b[0m\u001b[0;34m,\u001b[0m\u001b[0;36m0\u001b[0m\u001b[0;34m,\u001b[0m\u001b[0mtheta\u001b[0m\u001b[0;34m[\u001b[0m\u001b[0;36m5\u001b[0m\u001b[0;34m*\u001b[0m\u001b[0mi\u001b[0m\u001b[0;34m+\u001b[0m\u001b[0;36m1\u001b[0m\u001b[0;34m]\u001b[0m\u001b[0;34m)\u001b[0m\u001b[0;34m@\u001b[0m\u001b[0mpsi_var\u001b[0m\u001b[0;34m\u001b[0m\u001b[0;34m\u001b[0m\u001b[0m\n\u001b[1;32m     19\u001b[0m         \u001b[0mpsi_var\u001b[0m \u001b[0;34m=\u001b[0m \u001b[0mrot_sigma\u001b[0m\u001b[0;34m(\u001b[0m\u001b[0mL\u001b[0m\u001b[0;34m-\u001b[0m\u001b[0;36m1\u001b[0m\u001b[0;34m,\u001b[0m\u001b[0;36m0\u001b[0m\u001b[0;34m,\u001b[0m\u001b[0;36m2\u001b[0m\u001b[0;34m,\u001b[0m\u001b[0;36m0\u001b[0m\u001b[0;34m,\u001b[0m\u001b[0mtheta\u001b[0m\u001b[0;34m[\u001b[0m\u001b[0;36m5\u001b[0m\u001b[0;34m*\u001b[0m\u001b[0mi\u001b[0m\u001b[0;34m+\u001b[0m\u001b[0;36m2\u001b[0m\u001b[0;34m]\u001b[0m\u001b[0;34m)\u001b[0m\u001b[0;34m@\u001b[0m\u001b[0mrot_sigma\u001b[0m\u001b[0;34m(\u001b[0m\u001b[0mL\u001b[0m\u001b[0;34m-\u001b[0m\u001b[0;36m1\u001b[0m\u001b[0;34m,\u001b[0m\u001b[0;36m0\u001b[0m\u001b[0;34m,\u001b[0m\u001b[0;36m1\u001b[0m\u001b[0;34m,\u001b[0m\u001b[0;36m0\u001b[0m\u001b[0;34m,\u001b[0m\u001b[0mtheta\u001b[0m\u001b[0;34m[\u001b[0m\u001b[0;36m5\u001b[0m\u001b[0;34m*\u001b[0m\u001b[0mi\u001b[0m\u001b[0;34m+\u001b[0m\u001b[0;36m1\u001b[0m\u001b[0;34m]\u001b[0m\u001b[0;34m)\u001b[0m\u001b[0;34m@\u001b[0m\u001b[0mpsi_var\u001b[0m\u001b[0;34m\u001b[0m\u001b[0;34m\u001b[0m\u001b[0m\n",
      "\u001b[0;32m<ipython-input-546-6a3aa018c4c4>\u001b[0m in \u001b[0;36mrot_sigma_o\u001b[0;34m(i, j, phi, theta)\u001b[0m\n\u001b[1;32m     61\u001b[0m     \u001b[0msigma_o\u001b[0m \u001b[0;34m=\u001b[0m \u001b[0msparse\u001b[0m\u001b[0;34m.\u001b[0m\u001b[0midentity\u001b[0m\u001b[0;34m(\u001b[0m\u001b[0mbasis\u001b[0m\u001b[0;34m.\u001b[0m\u001b[0mNs\u001b[0m\u001b[0;34m,\u001b[0m\u001b[0mdtype\u001b[0m \u001b[0;34m=\u001b[0m \u001b[0mcomplex\u001b[0m\u001b[0;34m)\u001b[0m\u001b[0;34m\u001b[0m\u001b[0;34m\u001b[0m\u001b[0m\n\u001b[1;32m     62\u001b[0m     \u001b[0;32mfor\u001b[0m \u001b[0mk\u001b[0m \u001b[0;32min\u001b[0m \u001b[0mrange\u001b[0m\u001b[0;34m(\u001b[0m\u001b[0mint\u001b[0m\u001b[0;34m(\u001b[0m\u001b[0mL\u001b[0m\u001b[0;34m/\u001b[0m\u001b[0;36m2\u001b[0m\u001b[0;34m)\u001b[0m\u001b[0;34m)\u001b[0m\u001b[0;34m:\u001b[0m\u001b[0;34m\u001b[0m\u001b[0;34m\u001b[0m\u001b[0m\n\u001b[0;32m---> 63\u001b[0;31m         \u001b[0msigma_o\u001b[0m \u001b[0;34m=\u001b[0m \u001b[0mrot_sigma\u001b[0m\u001b[0;34m(\u001b[0m\u001b[0;36m2\u001b[0m\u001b[0;34m*\u001b[0m\u001b[0mk\u001b[0m\u001b[0;34m+\u001b[0m\u001b[0;36m1\u001b[0m\u001b[0;34m,\u001b[0m\u001b[0mi\u001b[0m\u001b[0;34m,\u001b[0m\u001b[0mj\u001b[0m\u001b[0;34m,\u001b[0m\u001b[0mphi\u001b[0m\u001b[0;34m,\u001b[0m\u001b[0mtheta\u001b[0m\u001b[0;34m)\u001b[0m\u001b[0;34m@\u001b[0m\u001b[0msigma_o\u001b[0m\u001b[0;34m\u001b[0m\u001b[0;34m\u001b[0m\u001b[0m\n\u001b[0m\u001b[1;32m     64\u001b[0m     \u001b[0;32mreturn\u001b[0m\u001b[0;34m(\u001b[0m\u001b[0msigma_o\u001b[0m\u001b[0;34m)\u001b[0m\u001b[0;34m\u001b[0m\u001b[0;34m\u001b[0m\u001b[0m\n\u001b[1;32m     65\u001b[0m \u001b[0;34m\u001b[0m\u001b[0m\n",
      "\u001b[0;32m<ipython-input-546-6a3aa018c4c4>\u001b[0m in \u001b[0;36mrot_sigma\u001b[0;34m(k, i, j, phi, theta)\u001b[0m\n\u001b[1;32m      6\u001b[0m     \u001b[0msigma\u001b[0m\u001b[0;34m[\u001b[0m\u001b[0;36m2\u001b[0m\u001b[0;34m*\u001b[0m\u001b[0ml\u001b[0m\u001b[0;34m-\u001b[0m\u001b[0mj\u001b[0m\u001b[0;34m]\u001b[0m\u001b[0;34m[\u001b[0m\u001b[0;36m2\u001b[0m\u001b[0;34m*\u001b[0m\u001b[0ml\u001b[0m\u001b[0;34m-\u001b[0m\u001b[0mi\u001b[0m\u001b[0;34m]\u001b[0m \u001b[0;34m=\u001b[0m \u001b[0;36m0.5\u001b[0m\u001b[0;34m*\u001b[0m\u001b[0;34m(\u001b[0m\u001b[0mnp\u001b[0m\u001b[0;34m.\u001b[0m\u001b[0mcos\u001b[0m\u001b[0;34m(\u001b[0m\u001b[0mphi\u001b[0m\u001b[0;34m)\u001b[0m\u001b[0;34m-\u001b[0m\u001b[0;36m1j\u001b[0m\u001b[0;34m*\u001b[0m\u001b[0mnp\u001b[0m\u001b[0;34m.\u001b[0m\u001b[0msin\u001b[0m\u001b[0;34m(\u001b[0m\u001b[0mphi\u001b[0m\u001b[0;34m)\u001b[0m\u001b[0;34m)\u001b[0m\u001b[0;34m\u001b[0m\u001b[0;34m\u001b[0m\u001b[0m\n\u001b[1;32m      7\u001b[0m     \u001b[0msigma\u001b[0m \u001b[0;34m=\u001b[0m \u001b[0msparse\u001b[0m\u001b[0;34m.\u001b[0m\u001b[0mcsc_matrix\u001b[0m\u001b[0;34m(\u001b[0m\u001b[0msigma\u001b[0m\u001b[0;34m)\u001b[0m\u001b[0;34m\u001b[0m\u001b[0;34m\u001b[0m\u001b[0m\n\u001b[0;32m----> 8\u001b[0;31m     \u001b[0mrot_matrix\u001b[0m \u001b[0;34m=\u001b[0m \u001b[0mexpm\u001b[0m\u001b[0;34m(\u001b[0m\u001b[0;34m-\u001b[0m\u001b[0;36m1j\u001b[0m\u001b[0;34m*\u001b[0m\u001b[0mtheta\u001b[0m\u001b[0;34m*\u001b[0m\u001b[0msigma\u001b[0m\u001b[0;34m/\u001b[0m\u001b[0;36m2\u001b[0m\u001b[0;34m)\u001b[0m\u001b[0;34m\u001b[0m\u001b[0;34m\u001b[0m\u001b[0m\n\u001b[0m\u001b[1;32m      9\u001b[0m     \u001b[0;32mif\u001b[0m \u001b[0mk\u001b[0m\u001b[0;34m==\u001b[0m\u001b[0;36m0\u001b[0m\u001b[0;34m:\u001b[0m\u001b[0;34m\u001b[0m\u001b[0;34m\u001b[0m\u001b[0m\n\u001b[1;32m     10\u001b[0m         \u001b[0mtensprod\u001b[0m \u001b[0;34m=\u001b[0m \u001b[0mrot_matrix\u001b[0m\u001b[0;34m\u001b[0m\u001b[0;34m\u001b[0m\u001b[0m\n",
      "\u001b[0;32m~/anaconda3/lib/python3.8/site-packages/scipy/linalg/matfuncs.py\u001b[0m in \u001b[0;36mexpm\u001b[0;34m(A)\u001b[0m\n\u001b[1;32m    253\u001b[0m     \u001b[0;31m# Input checking and conversion is provided by sparse.linalg.expm().\u001b[0m\u001b[0;34m\u001b[0m\u001b[0;34m\u001b[0m\u001b[0;34m\u001b[0m\u001b[0m\n\u001b[1;32m    254\u001b[0m     \u001b[0;32mimport\u001b[0m \u001b[0mscipy\u001b[0m\u001b[0;34m.\u001b[0m\u001b[0msparse\u001b[0m\u001b[0;34m.\u001b[0m\u001b[0mlinalg\u001b[0m\u001b[0;34m\u001b[0m\u001b[0;34m\u001b[0m\u001b[0m\n\u001b[0;32m--> 255\u001b[0;31m     \u001b[0;32mreturn\u001b[0m \u001b[0mscipy\u001b[0m\u001b[0;34m.\u001b[0m\u001b[0msparse\u001b[0m\u001b[0;34m.\u001b[0m\u001b[0mlinalg\u001b[0m\u001b[0;34m.\u001b[0m\u001b[0mexpm\u001b[0m\u001b[0;34m(\u001b[0m\u001b[0mA\u001b[0m\u001b[0;34m)\u001b[0m\u001b[0;34m\u001b[0m\u001b[0;34m\u001b[0m\u001b[0m\n\u001b[0m\u001b[1;32m    256\u001b[0m \u001b[0;34m\u001b[0m\u001b[0m\n\u001b[1;32m    257\u001b[0m \u001b[0;34m\u001b[0m\u001b[0m\n",
      "\u001b[0;32m~/anaconda3/lib/python3.8/site-packages/scipy/sparse/linalg/matfuncs.py\u001b[0m in \u001b[0;36mexpm\u001b[0;34m(A)\u001b[0m\n\u001b[1;32m    589\u001b[0m             [  0.        ,   0.        ,  20.08553692]])\n\u001b[1;32m    590\u001b[0m     \"\"\"\n\u001b[0;32m--> 591\u001b[0;31m     \u001b[0;32mreturn\u001b[0m \u001b[0m_expm\u001b[0m\u001b[0;34m(\u001b[0m\u001b[0mA\u001b[0m\u001b[0;34m,\u001b[0m \u001b[0muse_exact_onenorm\u001b[0m\u001b[0;34m=\u001b[0m\u001b[0;34m'auto'\u001b[0m\u001b[0;34m)\u001b[0m\u001b[0;34m\u001b[0m\u001b[0;34m\u001b[0m\u001b[0m\n\u001b[0m\u001b[1;32m    592\u001b[0m \u001b[0;34m\u001b[0m\u001b[0m\n\u001b[1;32m    593\u001b[0m \u001b[0;34m\u001b[0m\u001b[0m\n",
      "\u001b[0;32m~/anaconda3/lib/python3.8/site-packages/scipy/sparse/linalg/matfuncs.py\u001b[0m in \u001b[0;36m_expm\u001b[0;34m(A, use_exact_onenorm)\u001b[0m\n\u001b[1;32m    653\u001b[0m     \u001b[0;32mif\u001b[0m \u001b[0meta_3\u001b[0m \u001b[0;34m<\u001b[0m \u001b[0;36m9.504178996162932e-001\u001b[0m \u001b[0;32mand\u001b[0m \u001b[0m_ell\u001b[0m\u001b[0;34m(\u001b[0m\u001b[0mh\u001b[0m\u001b[0;34m.\u001b[0m\u001b[0mA\u001b[0m\u001b[0;34m,\u001b[0m \u001b[0;36m7\u001b[0m\u001b[0;34m)\u001b[0m \u001b[0;34m==\u001b[0m \u001b[0;36m0\u001b[0m\u001b[0;34m:\u001b[0m\u001b[0;34m\u001b[0m\u001b[0;34m\u001b[0m\u001b[0m\n\u001b[1;32m    654\u001b[0m         \u001b[0mU\u001b[0m\u001b[0;34m,\u001b[0m \u001b[0mV\u001b[0m \u001b[0;34m=\u001b[0m \u001b[0mh\u001b[0m\u001b[0;34m.\u001b[0m\u001b[0mpade7\u001b[0m\u001b[0;34m(\u001b[0m\u001b[0;34m)\u001b[0m\u001b[0;34m\u001b[0m\u001b[0;34m\u001b[0m\u001b[0m\n\u001b[0;32m--> 655\u001b[0;31m         \u001b[0;32mreturn\u001b[0m \u001b[0m_solve_P_Q\u001b[0m\u001b[0;34m(\u001b[0m\u001b[0mU\u001b[0m\u001b[0;34m,\u001b[0m \u001b[0mV\u001b[0m\u001b[0;34m,\u001b[0m \u001b[0mstructure\u001b[0m\u001b[0;34m=\u001b[0m\u001b[0mstructure\u001b[0m\u001b[0;34m)\u001b[0m\u001b[0;34m\u001b[0m\u001b[0;34m\u001b[0m\u001b[0m\n\u001b[0m\u001b[1;32m    656\u001b[0m     \u001b[0;32mif\u001b[0m \u001b[0meta_3\u001b[0m \u001b[0;34m<\u001b[0m \u001b[0;36m2.097847961257068e+000\u001b[0m \u001b[0;32mand\u001b[0m \u001b[0m_ell\u001b[0m\u001b[0;34m(\u001b[0m\u001b[0mh\u001b[0m\u001b[0;34m.\u001b[0m\u001b[0mA\u001b[0m\u001b[0;34m,\u001b[0m \u001b[0;36m9\u001b[0m\u001b[0;34m)\u001b[0m \u001b[0;34m==\u001b[0m \u001b[0;36m0\u001b[0m\u001b[0;34m:\u001b[0m\u001b[0;34m\u001b[0m\u001b[0;34m\u001b[0m\u001b[0m\n\u001b[1;32m    657\u001b[0m         \u001b[0mU\u001b[0m\u001b[0;34m,\u001b[0m \u001b[0mV\u001b[0m \u001b[0;34m=\u001b[0m \u001b[0mh\u001b[0m\u001b[0;34m.\u001b[0m\u001b[0mpade9\u001b[0m\u001b[0;34m(\u001b[0m\u001b[0;34m)\u001b[0m\u001b[0;34m\u001b[0m\u001b[0;34m\u001b[0m\u001b[0m\n",
      "\u001b[0;32m~/anaconda3/lib/python3.8/site-packages/scipy/sparse/linalg/matfuncs.py\u001b[0m in \u001b[0;36m_solve_P_Q\u001b[0;34m(U, V, structure)\u001b[0m\n\u001b[1;32m    705\u001b[0m     \u001b[0mQ\u001b[0m \u001b[0;34m=\u001b[0m \u001b[0;34m-\u001b[0m\u001b[0mU\u001b[0m \u001b[0;34m+\u001b[0m \u001b[0mV\u001b[0m\u001b[0;34m\u001b[0m\u001b[0;34m\u001b[0m\u001b[0m\n\u001b[1;32m    706\u001b[0m     \u001b[0;32mif\u001b[0m \u001b[0misspmatrix\u001b[0m\u001b[0;34m(\u001b[0m\u001b[0mU\u001b[0m\u001b[0;34m)\u001b[0m \u001b[0;32mor\u001b[0m \u001b[0mis_pydata_spmatrix\u001b[0m\u001b[0;34m(\u001b[0m\u001b[0mU\u001b[0m\u001b[0;34m)\u001b[0m\u001b[0;34m:\u001b[0m\u001b[0;34m\u001b[0m\u001b[0;34m\u001b[0m\u001b[0m\n\u001b[0;32m--> 707\u001b[0;31m         \u001b[0;32mreturn\u001b[0m \u001b[0mspsolve\u001b[0m\u001b[0;34m(\u001b[0m\u001b[0mQ\u001b[0m\u001b[0;34m,\u001b[0m \u001b[0mP\u001b[0m\u001b[0;34m)\u001b[0m\u001b[0;34m\u001b[0m\u001b[0;34m\u001b[0m\u001b[0m\n\u001b[0m\u001b[1;32m    708\u001b[0m     \u001b[0;32melif\u001b[0m \u001b[0mstructure\u001b[0m \u001b[0;32mis\u001b[0m \u001b[0;32mNone\u001b[0m\u001b[0;34m:\u001b[0m\u001b[0;34m\u001b[0m\u001b[0;34m\u001b[0m\u001b[0m\n\u001b[1;32m    709\u001b[0m         \u001b[0;32mreturn\u001b[0m \u001b[0msolve\u001b[0m\u001b[0;34m(\u001b[0m\u001b[0mQ\u001b[0m\u001b[0;34m,\u001b[0m \u001b[0mP\u001b[0m\u001b[0;34m)\u001b[0m\u001b[0;34m\u001b[0m\u001b[0;34m\u001b[0m\u001b[0m\n",
      "\u001b[0;32m~/anaconda3/lib/python3.8/site-packages/scipy/sparse/linalg/dsolve/linsolve.py\u001b[0m in \u001b[0;36mspsolve\u001b[0;34m(A, b, permc_spec, use_umfpack)\u001b[0m\n\u001b[1;32m    224\u001b[0m             \u001b[0;32mfor\u001b[0m \u001b[0mj\u001b[0m \u001b[0;32min\u001b[0m \u001b[0mrange\u001b[0m\u001b[0;34m(\u001b[0m\u001b[0mb\u001b[0m\u001b[0;34m.\u001b[0m\u001b[0mshape\u001b[0m\u001b[0;34m[\u001b[0m\u001b[0;36m1\u001b[0m\u001b[0;34m]\u001b[0m\u001b[0;34m)\u001b[0m\u001b[0;34m:\u001b[0m\u001b[0;34m\u001b[0m\u001b[0;34m\u001b[0m\u001b[0m\n\u001b[1;32m    225\u001b[0m                 \u001b[0mbj\u001b[0m \u001b[0;34m=\u001b[0m \u001b[0mnp\u001b[0m\u001b[0;34m.\u001b[0m\u001b[0masarray\u001b[0m\u001b[0;34m(\u001b[0m\u001b[0mb\u001b[0m\u001b[0;34m[\u001b[0m\u001b[0;34m:\u001b[0m\u001b[0;34m,\u001b[0m \u001b[0mj\u001b[0m\u001b[0;34m]\u001b[0m\u001b[0;34m.\u001b[0m\u001b[0mtodense\u001b[0m\u001b[0;34m(\u001b[0m\u001b[0;34m)\u001b[0m\u001b[0;34m)\u001b[0m\u001b[0;34m.\u001b[0m\u001b[0mravel\u001b[0m\u001b[0;34m(\u001b[0m\u001b[0;34m)\u001b[0m\u001b[0;34m\u001b[0m\u001b[0;34m\u001b[0m\u001b[0m\n\u001b[0;32m--> 226\u001b[0;31m                 \u001b[0mxj\u001b[0m \u001b[0;34m=\u001b[0m \u001b[0mAfactsolve\u001b[0m\u001b[0;34m(\u001b[0m\u001b[0mbj\u001b[0m\u001b[0;34m)\u001b[0m\u001b[0;34m\u001b[0m\u001b[0;34m\u001b[0m\u001b[0m\n\u001b[0m\u001b[1;32m    227\u001b[0m                 \u001b[0mw\u001b[0m \u001b[0;34m=\u001b[0m \u001b[0mnp\u001b[0m\u001b[0;34m.\u001b[0m\u001b[0mflatnonzero\u001b[0m\u001b[0;34m(\u001b[0m\u001b[0mxj\u001b[0m\u001b[0;34m)\u001b[0m\u001b[0;34m\u001b[0m\u001b[0;34m\u001b[0m\u001b[0m\n\u001b[1;32m    228\u001b[0m                 \u001b[0msegment_length\u001b[0m \u001b[0;34m=\u001b[0m \u001b[0mw\u001b[0m\u001b[0;34m.\u001b[0m\u001b[0mshape\u001b[0m\u001b[0;34m[\u001b[0m\u001b[0;36m0\u001b[0m\u001b[0;34m]\u001b[0m\u001b[0;34m\u001b[0m\u001b[0;34m\u001b[0m\u001b[0m\n",
      "\u001b[0;31mKeyboardInterrupt\u001b[0m: "
     ]
    }
   ],
   "source": [
    "import optuna\n",
    "#for N in range(1,6):\n",
    "theta = np.zeros(5*N)\n",
    "#cost function definition\n",
    "def cost_function_sigma(trial):\n",
    "    psi_var = psi_0\n",
    "    for i in range(N):\n",
    "        theta[5*i+0] = trial.suggest_float(\"5*\"+str(i)+\"+0\", -3*np.pi, 3*np.pi)\n",
    "        theta[5*i+1] = trial.suggest_float(\"5*\"+str(i)+\"+1\", -3*np.pi, 3*np.pi)\n",
    "        theta[5*i+2] = trial.suggest_float(\"5*\"+str(i)+\"+2\", -3*np.pi, 3*np.pi)\n",
    "        theta[5*i+3] = trial.suggest_float(\"5*\"+str(i)+\"+3\", -3*np.pi, 3*np.pi)\n",
    "        theta[5*i+4] = trial.suggest_float(\"5*\"+str(i)+\"+4\", -3*np.pi, 3*np.pi)\n",
    "\n",
    "\n",
    "        psi_var = ms_gate_global(theta[5*i+0])@psi_var\n",
    "        psi_var = rot_sigma_e(0,2,0,theta[5*i+2])@rot_sigma_e(0,1,0,theta[5*i+1])@psi_var\n",
    "        psi_var = rot_sigma_o(0,2,0,theta[5*i+4])@rot_sigma_o(1,2,0,theta[5*i+3])@psi_var\n",
    "        psi_var = rot_sigma(0,0,2,0,theta[5*i+2])@rot_sigma(0,0,1,0,theta[5*i+1])@psi_var\n",
    "        psi_var = rot_sigma(L-1,0,2,0,theta[5*i+2])@rot_sigma(L-1,0,1,0,theta[5*i+1])@psi_var\n",
    "\n",
    "    cost = np.conj(psi_var)@constrained_full_ham_matrix@psi_var\n",
    "    return np.real(cost)\n",
    "\n",
    "if __name__ == \"__main__\":\n",
    "    sampler = optuna.samplers.CmaEsSampler()\n",
    "    study = optuna.create_study(sampler=sampler)\n",
    "    study.optimize(cost_function_sigma, n_trials=3000)\n",
    "    \n",
    "\n",
    "\"\"\"\"\"\"\"\"\"\"\"\"\"\"\"\"\"\"\"\"\"\n",
    "k=0\n",
    "for value in study.best_trial.params.items():\n",
    "    theta[k] = value[1]\n",
    "    k+=1\n",
    "\n",
    "psi_var = psi_0\n",
    "for i in range(N):\n",
    "    psi_var = ms_gate_global(theta[5*i+0])@psi_var\n",
    "    psi_var = rot_sigma_e(0,2,0,theta[5*i+2])@rot_sigma_e(0,1,0,theta[5*i+1])@psi_var\n",
    "    psi_var = rot_sigma_o(0,2,0,theta[5*i+4])@rot_sigma_o(0,1,0,theta[5*i+3])@psi_var\n",
    "    psi_var = rot_sigma(0,0,2,0,theta[5*i+2])@rot_sigma(0,0,1,0,theta[5*i+1])@psi_var\n",
    "    psi_var = rot_sigma(L-1,0,2,0,theta[5*i+2])@rot_sigma(L-1,0,1,0,theta[5*i+1])@psi_var\n",
    "\n",
    "    #Energy[N-1] = np.real(np.conj(psi_var)@full_ham_matrix@psi_var)\n",
    "    #Fidelity[N-1] = np.abs(np.dot(np.conj(psi_var),eigenvectors[:,0]))**2\n",
    "\"\"\"\"\"\"\"\"\"\"\"\"\"\"\"\"\"\"\"\"\""
   ]
  },
  {
   "cell_type": "code",
   "execution_count": 53,
   "id": "1bb8d08d",
   "metadata": {},
   "outputs": [
    {
     "name": "stdout",
     "output_type": "stream",
     "text": [
      "0.8237413874401839\n"
     ]
    }
   ],
   "source": [
    "theta = np.zeros(5*N)\n",
    "i=0\n",
    "for value in study.best_trial.params.items():\n",
    "    theta[i] = value[1]\n",
    "    i+=1\n",
    "\n",
    "psi_var = psi_0\n",
    "for i in range(N):\n",
    "\n",
    "    psi_var = ms_gate_global(theta[5*i+0])@psi_var\n",
    "    psi_var = rot_sigma_e(0,2,0,theta[5*i+2])@rot_sigma_e(0,1,0,theta[5*i+1])@psi_var\n",
    "    psi_var = rot_sigma_o(0,2,0,theta[5*i+4])@rot_sigma_o(1,2,0,theta[5*i+3])@psi_var\n",
    "    psi_var = rot_sigma(0,0,2,0,theta[5*i+2])@rot_sigma(0,0,1,0,theta[5*i+1])@psi_var\n",
    "    psi_var = rot_sigma(L-1,0,2,0,theta[5*i+2])@rot_sigma(L-1,0,1,0,theta[5*i+1])@psi_var\n",
    "    \n",
    "print(np.abs(np.dot(np.conj(psi_var),eigenvectors[:,0]))**2)"
   ]
  },
  {
   "cell_type": "code",
   "execution_count": null,
   "id": "96cdc08e",
   "metadata": {},
   "outputs": [],
   "source": [
    "result = scipy.optimize.minimize(cost_function_sigma, theta, method='Nelder-Mead',options={'initial_simplex': None, 'xatol': 1e-6, 'fatol': 1e-4})"
   ]
  },
  {
   "cell_type": "code",
   "execution_count": null,
   "id": "761f576c",
   "metadata": {},
   "outputs": [],
   "source": [
    "print(result.fun)\n",
    "print(result.x)"
   ]
  },
  {
   "cell_type": "code",
   "execution_count": null,
   "id": "591ba8ea",
   "metadata": {},
   "outputs": [],
   "source": [
    "\n",
    "string = \"\"\n",
    "for i in range(basis.Ns):\n",
    "    if np.abs(psi_var[i])>=1e-5:\n",
    "        string+=str(psi_var[i])+basis.int_to_state(basis.Ns-i-1)+\"\\n\"\n",
    "        #for j in range(basis.Ns):\n",
    "            #if (np.abs(np.abs(eigenvectors[:,0][i])-np.abs(eigenvectors[:,0][j]))<=1e-5) & (i<j):\n",
    "                #print(basis.int_to_state(basis.Ns-i-1),basis.int_to_state(basis.Ns-j-1))\n",
    "print(string)"
   ]
  },
  {
   "cell_type": "code",
   "execution_count": null,
   "id": "97673af3",
   "metadata": {},
   "outputs": [],
   "source": [
    "string = \"\"\n",
    "for i in range(basis.Ns):\n",
    "    if np.abs(eigenvectors[:,0][i])>=1e-5:\n",
    "        string+=str(eigenvectors[:,0][i])+basis.int_to_state(basis.Ns-i-1)+\"\\n\"\n",
    "        #for j in range(basis.Ns):\n",
    "            #if (np.abs(np.abs(eigenvectors[:,0][i])-np.abs(eigenvectors[:,0][j]))<=1e-5) & (i<j):\n",
    "                #print(basis.int_to_state(basis.Ns-i-1),basis.int_to_state(basis.Ns-j-1))\n",
    "print(string)"
   ]
  },
  {
   "cell_type": "code",
   "execution_count": 36,
   "id": "f7255165",
   "metadata": {},
   "outputs": [
    {
     "data": {
      "text/plain": [
       "<matplotlib.legend.Legend at 0x7f1997fd61c0>"
      ]
     },
     "execution_count": 36,
     "metadata": {},
     "output_type": "execute_result"
    },
    {
     "data": {
      "image/png": "[encoded data removed]",
      "text/plain": [
       "<Figure size 432x288 with 1 Axes>"
      ]
     },
     "metadata": {
      "needs_background": "light"
     },
     "output_type": "display_data"
    }
   ],
   "source": [
    "plt.plot(np.array([1,2,3,4,5]),Energy,'o', color = \"green\",label=\"VQE results\")\n",
    "plt.plot(np.array([0,1,2,3,4,5,6]),eigenvalues[0]*np.ones(7), ls = \"--\", color =\"c\", label = \"Exact diag.\")\n",
    "plt.xlabel(\"Number of layers\")\n",
    "plt.ylabel(\"Energy\")\n",
    "plt.ylim(-1.1,-0.5)\n",
    "plt.xlim(0.9,5.1)\n",
    "plt.legend()"
   ]
  },
  {
   "cell_type": "code",
   "execution_count": 37,
   "id": "8479f7a1",
   "metadata": {},
   "outputs": [
    {
     "data": {
      "text/plain": [
       "<matplotlib.legend.Legend at 0x7f199c03b670>"
      ]
     },
     "execution_count": 37,
     "metadata": {},
     "output_type": "execute_result"
    },
    {
     "data": {
      "image/png": "[encoded data removed]",
      "text/plain": [
       "<Figure size 432x288 with 1 Axes>"
      ]
     },
     "metadata": {
      "needs_background": "light"
     },
     "output_type": "display_data"
    }
   ],
   "source": [
    "plt.plot(np.array([1,2,3,4,5]),Fidelity,'o', color = \"green\",label=\"VQE results\")\n",
    "plt.xlabel(\"Number of layers\")\n",
    "plt.ylabel(\"Fidelity\")\n",
    "plt.legend()"
   ]
  }
 ],
 "metadata": {
  "kernelspec": {
   "display_name": "Python 3",
   "language": "python",
   "name": "python3"
  },
  "language_info": {
   "codemirror_mode": {
    "name": "ipython",
    "version": 3
   },
   "file_extension": ".py",
   "mimetype": "text/x-python",
   "name": "python",
   "nbconvert_exporter": "python",
   "pygments_lexer": "ipython3",
   "version": "3.8.8"
  }
 },
 "nbformat": 4,
 "nbformat_minor": 5
}
