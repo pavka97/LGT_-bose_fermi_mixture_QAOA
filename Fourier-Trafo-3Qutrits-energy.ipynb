{
 "cells": [
  {
   "cell_type": "code",
   "execution_count": 353,
   "id": "caf9465a",
   "metadata": {},
   "outputs": [],
   "source": [
    "import scipy         \n",
    "import datetime\n",
    "from scipy.linalg import expm,det\n",
    "import scipy.sparse as sparse\n",
    "from quspin.operators import hamiltonian, commutator, exp_op # Hamiltonians and operators\n",
    "from quspin.basis import tensor_basis, spin_basis_1d # bases\n",
    "import numpy as np # general math functions\n",
    "import matplotlib.pyplot as plt # plotting library\n",
    "from numba import jit\n",
    "from scipy.integrate import solve_ivp,odeint\n",
    "from functools import reduce\n"
   ]
  },
  {
   "cell_type": "code",
   "execution_count": 354,
   "id": "006bd1e9",
   "metadata": {},
   "outputs": [],
   "source": [
    "L = 3 #system size\n",
    "l=1 #spin length\n",
    "M = 0.1\n",
    "m_epsilon = 0\n",
    "N=1\n",
    "coeff = 8\n",
    "no_checks = dict(check_pcon=False,check_symm=False,check_herm=False)"
   ]
  },
  {
   "cell_type": "code",
   "execution_count": 355,
   "id": "1eab7250",
   "metadata": {},
   "outputs": [],
   "source": [
    "#construct basis\n",
    "basis=spin_basis_1d(L=L,S = str(l))"
   ]
  },
  {
   "cell_type": "code",
   "execution_count": 356,
   "id": "6d602577",
   "metadata": {},
   "outputs": [],
   "source": [
    "#initialisation of the Gauss laws\n",
    "\n",
    "liste = []\n",
    "liste_m = []\n",
    "gauss_law_map = []\n",
    "Gauss_law = []\n",
    "gauss_law_matrix = []\n",
    "z_comp_minf = [[-m_epsilon,0]]\n",
    "z_comp_pinf = [[m_epsilon,L-1]]\n",
    "\n",
    "for i in range(L+1):\n",
    "    liste.append([[1.,i]])\n",
    "    liste_m.append([[-1.,i]])\n",
    "    if i == 0:\n",
    "        gauss_law_map.append([\n",
    "            [\"z\",liste[0]],\n",
    "            [\"I\",z_comp_minf],\n",
    "\n",
    "        ])\n",
    "    \n",
    "    elif (i == L) & (i%2 == 0):\n",
    "        gauss_law_map.append([\n",
    "            [\"z\",liste_m[i-1]],\n",
    "            [\"I\",z_comp_pinf],\n",
    "        ])\n",
    "    \n",
    "    elif (i == L) & (i%2 == 1):\n",
    "        gauss_law_map.append([\n",
    "            [\"z\",liste_m[i-1]],\n",
    "            [\"I\",liste[i-1]],\n",
    "            [\"I\",z_comp_pinf],\n",
    "\n",
    "        ])        \n",
    "        \n",
    "    elif i%2 == 0:\n",
    "        gauss_law_map.append([\n",
    "            [\"z\",liste[i]],\n",
    "            [\"z\",liste_m[i-1]],\n",
    "        ])\n",
    "    elif i%2 == 1:\n",
    "        gauss_law_map.append([\n",
    "            [\"z\",liste[i]],\n",
    "            [\"z\",liste_m[i-1]],  \n",
    "            [\"I\",liste[i]]\n",
    "        ])\n",
    "    Gauss_law.append(hamiltonian(gauss_law_map[i],dynamic_list=[],basis=basis,**no_checks))\n",
    "for i in range(L+1):\n",
    "    gauss_law_matrix.append(Gauss_law[i].tocsc())"
   ]
  },
  {
   "cell_type": "code",
   "execution_count": 357,
   "id": "c199c3b1",
   "metadata": {},
   "outputs": [
    {
     "name": "stdout",
     "output_type": "stream",
     "text": [
      "[ 0.          0.66666667  0.66666667 -0.16666667 -0.16666667  0.\n",
      "  0.        ]\n",
      "[0. 0. 0. 1. 0.]\n"
     ]
    }
   ],
   "source": [
    "B = np.zeros((int(4*l)+1,int(4*l)+1))\n",
    "for i in range(int(4*l)+1):\n",
    "    for j in range(int(4*l)+1):\n",
    "        B[i][j] = (-2*l+i)**j\n",
    "b = np.zeros(int(4*l)+1)\n",
    "b[int(2*l)+1] = 1.\n",
    "solution = scipy.linalg.solve(B,b)\n",
    "y = np.zeros(int(4*3/2)+1)\n",
    "for i in range(int(4*l)+1):\n",
    "    y[i] = solution[i]\n",
    "print(y)\n",
    "print(b)"
   ]
  },
  {
   "cell_type": "code",
   "execution_count": 358,
   "id": "b4351464",
   "metadata": {},
   "outputs": [
    {
     "name": "stdout",
     "output_type": "stream",
     "text": [
      "[ 0.    1.5   0.25 -1.    0.25  0.    0.  ]\n",
      "[0. 0. 1. 0. 0.]\n"
     ]
    }
   ],
   "source": [
    "C = np.zeros((int(4*l)+1,int(4*l)+1))\n",
    "for i in range(int(4*l)+1):\n",
    "    for j in range(int(4*l)+1):\n",
    "        C[i][j] = (-2*l+i+1)**j\n",
    "c = np.zeros(int(4*l)+1)\n",
    "c[int(2*l)] = 1.\n",
    "solution = scipy.linalg.solve(C,c)\n",
    "z = np.zeros(int(4*3/2)+1)\n",
    "for i in range(int(4*l)+1):\n",
    "    z[i] = solution[i]\n",
    "print(z)\n",
    "print(c)"
   ]
  },
  {
   "cell_type": "code",
   "execution_count": 359,
   "id": "3c3593a0",
   "metadata": {},
   "outputs": [],
   "source": [
    "#projectors on g=1 for every site\n",
    "Proj = [sparse.csr_matrix((basis.Ns,basis.Ns)) for i in range(L+1)]\n",
    "for i in range(int(L/2)+1):\n",
    "    for j in range(int(4*l)+1):\n",
    "        Proj[2*i] += y[j]*gauss_law_matrix[2*i]**j\n",
    "for i in range(int(L/2)+1):\n",
    "    for j in range(int(4*l)+1):\n",
    "        Proj[2*i+1] += z[j]*gauss_law_matrix[2*i+1]**j"
   ]
  },
  {
   "cell_type": "code",
   "execution_count": 360,
   "id": "731a4253",
   "metadata": {},
   "outputs": [
    {
     "name": "stdout",
     "output_type": "stream",
     "text": [
      "[ 1.+0.j  0.+0.j -2.-0.j  0.+0.j]\n",
      "[ 1.-0.j  0.-0.j -2.+0.j  0.-0.j]\n"
     ]
    }
   ],
   "source": [
    "A = np.zeros((int(2*l)+1,int(2*l)+1), dtype = complex)\n",
    "for i in range(int(2*l)+1):\n",
    "    for j in range(int(2*l)+1):\n",
    "        A[i][j] = (-l+i)**j\n",
    "b = np.zeros(int(2*l)+1,dtype = complex)\n",
    "for i in range(int(2*l)+1):\n",
    "    b[i] = (-1)**(-l+i)\n",
    "solution = scipy.linalg.solve(A,b)\n",
    "x = np.zeros(int(2*3/2)+1, dtype = complex)\n",
    "for i in range(int(2*l)+1):\n",
    "    x[i] = solution[i]\n",
    "print(x)\n",
    "print(x.conj())"
   ]
  },
  {
   "cell_type": "code",
   "execution_count": 361,
   "id": "62fbafb3",
   "metadata": {},
   "outputs": [
    {
     "name": "stdout",
     "output_type": "stream",
     "text": [
      "[ 1.    0.   -1.25 -0.    0.25  0.    0.  ]\n",
      "[0. 0. 1. 0. 0.]\n"
     ]
    }
   ],
   "source": [
    "D = np.zeros((int(4*l)+1,int(4*l)+1))\n",
    "for i in range(int(4*l)+1):\n",
    "    for j in range(int(4*l)+1):\n",
    "        D[i][j] = (-2*l+i)**j\n",
    "d = np.zeros(int(4*l)+1)\n",
    "d[int(2*l)] = 1.\n",
    "solution = scipy.linalg.solve(D,d)\n",
    "dd = np.zeros(int(4*3/2)+1)\n",
    "for i in range(int(4*l)+1):\n",
    "    dd[i] = solution[i]\n",
    "print(dd)\n",
    "print(d)"
   ]
  },
  {
   "cell_type": "code",
   "execution_count": 362,
   "id": "84e95d66",
   "metadata": {},
   "outputs": [
    {
     "name": "stdout",
     "output_type": "stream",
     "text": [
      "[ 1.         -0.83333333 -0.83333333  0.83333333 -0.16666667  0.\n",
      "  0.        ]\n",
      "[0. 1. 0. 0. 0.]\n"
     ]
    }
   ],
   "source": [
    "E = np.zeros((int(4*l)+1,int(4*l)+1))\n",
    "for i in range(int(4*l)+1):\n",
    "    for j in range(int(4*l)+1):\n",
    "        E[i][j] = (-2*l+i+1)**j\n",
    "e = np.zeros(int(4*l)+1)\n",
    "e[int(2*l)-1] = 1.\n",
    "solution = scipy.linalg.solve(E,e)\n",
    "ee = np.zeros(int(4*3/2)+1)\n",
    "for i in range(int(4*l)+1):\n",
    "    ee[i] = solution[i]\n",
    "print(ee)\n",
    "print(e)"
   ]
  },
  {
   "cell_type": "code",
   "execution_count": 363,
   "id": "656a18c5",
   "metadata": {},
   "outputs": [],
   "source": [
    "#projectors on g=0 for every site\n",
    "Proj_0 = [sparse.csc_matrix((basis.Ns,basis.Ns)) for i in range(L+1)]\n",
    "for i in range(int(L/2)+1):\n",
    "    for j in range(int(4*l)+1):\n",
    "        Proj_0[2*i] += dd[j]*gauss_law_matrix[2*i]**j\n",
    "for i in range(int(L/2)+1):\n",
    "    for j in range(int(4*l)+1):\n",
    "        Proj_0[2*i+1] += ee[j]*gauss_law_matrix[2*i+1]**j"
   ]
  },
  {
   "cell_type": "code",
   "execution_count": 364,
   "id": "9a7113c3",
   "metadata": {},
   "outputs": [],
   "source": [
    "const_term = []\n",
    "linear_term = []\n",
    "quadratic_term = []\n",
    "cubic_term = []\n",
    "\n",
    "const_term_conj = []\n",
    "linear_term_conj = []\n",
    "quadratic_term_conj = []\n",
    "cubic_term_conj = []\n",
    "\n",
    "interaction_p = []\n",
    "interaction_m = []\n",
    "\n",
    "for i in range(L-1):\n",
    "    const_term.append([[x[0]/(2*np.sqrt(l*(l+1))),i]])\n",
    "    linear_term.append([[x[1]/(2*np.sqrt(l*(l+1))),i,i+1]])\n",
    "    quadratic_term.append([[x[2]/(2*np.sqrt(l*(l+1))),i,i+1,i+1]])\n",
    "    cubic_term.append([[(x[3])/(2*np.sqrt(l*(l+1))),i,i+1,i+1,i+1]])\n",
    "\n",
    "    const_term_conj.append([[x.conj()[0]/(2*np.sqrt(l*(l+1))),i]])\n",
    "    linear_term_conj.append([[x.conj()[1]/(2*np.sqrt(l*(l+1))),i,i+1]])\n",
    "    quadratic_term_conj.append([[x.conj()[2]/(2*np.sqrt(l*(l+1))),i,i+1,i+1]])\n",
    "    cubic_term_conj.append([[x.conj()[3]/(2*np.sqrt(l*(l+1))),i,i+1,i+1,i+1]])\n",
    "\n",
    "\n",
    "    interaction_p.append([\n",
    "        [\"+\", const_term[i]],\n",
    "        [\"+z\", linear_term[i]],\n",
    "        [\"+zz\", quadratic_term[i]],\n",
    "        [\"+zzz\", cubic_term[i]],\n",
    "\n",
    "\n",
    "    ])\n",
    "\n",
    "    interaction_m.append([\n",
    "        [\"-\", const_term_conj[i]],\n",
    "        [\"-z\", linear_term_conj[i]],\n",
    "        [\"-zz\", quadratic_term_conj[i]],\n",
    "        [\"-zzz\", cubic_term_conj[i]],\n",
    "\n",
    "\n",
    "    ])\n",
    "    \n",
    "const_term.append([[(0.5*(-1)**m_epsilon)/np.sqrt(l*(l+1)),L-1]])\n",
    "const_term_conj.append([[(0.5*np.conj((-1)**m_epsilon))/np.sqrt(l*(l+1)),L-1]])\n",
    "\n",
    "interaction_p.append([\n",
    "    [\"+\", const_term[L-1]]\n",
    "])\n",
    "interaction_m.append([\n",
    "    [\"-\", const_term_conj[L-1]]\n",
    "])\n",
    "\n",
    "kin_energy = [[0.5,i,i] for i in range(L)]\n",
    "mass_term = [[2*(-1)**i*M,i] for i in range(L)]\n",
    "\n",
    "kin_mass_map = [\n",
    "            [\"zz\", kin_energy], \n",
    "            [\"z\", mass_term], \n",
    "]\n",
    "\n",
    "H_int_p = []\n",
    "H_int_m = []\n",
    "interaction = [sparse.csr_matrix((basis.Ns,basis.Ns),dtype = complex) for i in range(L)]\n",
    "h_int = sparse.csr_matrix((basis.Ns,basis.Ns))\n",
    "for i in range(L):\n",
    "    H_int_p.append(hamiltonian(interaction_p[i],dynamic_list=[],basis=basis,**no_checks))\n",
    "    H_int_m.append(hamiltonian(interaction_m[i],dynamic_list=[],basis=basis,**no_checks))\n",
    "    interaction[i] = (Proj[i]@H_int_p[i].tocsc()@Proj[i+1]+Proj[i+1]@H_int_m[i].tocsc()@Proj[i])\n",
    "\n",
    "H_kin_mass = hamiltonian(kin_mass_map,dynamic_list=[],basis=basis,**no_checks)\n",
    "h_kin_mass = H_kin_mass.tocsc()\n",
    "\n",
    "h_int = 0\n",
    "\n",
    "for i in range(L):\n",
    "    h_int += interaction[i]\n",
    "\n",
    "\n",
    "full_ham_matrix = h_kin_mass + h_int #Spin-1 Hamiltonian without the local contstaints\n",
    "\n",
    "for i in range(L+1):\n",
    "    full_ham_matrix = (Proj[i]+Proj_0[i])@full_ham_matrix@(Proj[i]+Proj_0[i])\n",
    "\n",
    "G=0\n",
    "for i in range(L+1):\n",
    "    G += 10*(Gauss_law[i]**2-Gauss_law[i])**2\n",
    "constraint_full_matrix = G.tocsc()\n",
    "constrained_full_ham_matrix= 1*(full_ham_matrix + constraint_full_matrix) #Spin-1 Hamiltonian with the local contstaints as a penalty term\n"
   ]
  },
  {
   "cell_type": "code",
   "execution_count": 365,
   "id": "e1d33ab8",
   "metadata": {},
   "outputs": [],
   "source": [
    "#initial state\n",
    "string = \"\"\n",
    "for i in range(L):\n",
    "    string +=\"1\"\n",
    "psi_0 = np.zeros(basis.Ns)\n",
    "i_0 = basis.index(string)\n",
    "psi_0[i_0] = 1."
   ]
  },
  {
   "cell_type": "code",
   "execution_count": 366,
   "id": "8afa841f",
   "metadata": {},
   "outputs": [],
   "source": [
    "def rot_sigma(k,i,j,phi,theta):\n",
    "    if k>=L:\n",
    "        print(\"Warning! Rotations apply to k<=L-1!\")\n",
    "    sigma = np.zeros((2*l+1,2*l+1),dtype = complex)\n",
    "    sigma[2*l-i][2*l-j] = 0.5*(np.cos(phi)+1j*np.sin(phi))\n",
    "    sigma[2*l-j][2*l-i] = 0.5*(np.cos(phi)-1j*np.sin(phi))\n",
    "    sigma = sparse.csc_matrix(sigma)\n",
    "    rot_matrix = expm(-1j*theta*sigma)\n",
    "    if k==0:\n",
    "        tensprod = rot_matrix\n",
    "        for i in range(L-1):\n",
    "            tensprod = scipy.sparse.kron(tensprod,sparse.identity(2*l+1))\n",
    "    else:\n",
    "        tensprod = sparse.identity(2*l+1)\n",
    "        for i in range(1,k):\n",
    "            tensprod = scipy.sparse.kron(tensprod,sparse.identity(2*l+1))\n",
    "        tensprod = scipy.sparse.kron(tensprod,rot_matrix)\n",
    "        for i in range(k+1,L):\n",
    "            tensprod = scipy.sparse.kron(tensprod,sparse.identity(2*l+1))\n",
    "    return tensprod\n",
    "\n",
    "\n",
    "def rot_sigma_e(i,j,phi,theta):\n",
    "    sigma_e = sparse.identity(basis.Ns,dtype = complex)\n",
    "    for k in range(1,int(L/2)):\n",
    "        sigma_e = rot_sigma(2*k,i,j,phi,theta)@sigma_e\n",
    "    return(sigma_e)\n",
    "\n",
    "def rot_sigma_o(i,j,phi,theta):\n",
    "    sigma_o = sparse.identity(basis.Ns,dtype = complex)\n",
    "    for k in range(int(L/2)):\n",
    "        sigma_o = rot_sigma(2*k+1,i,j,phi,theta)@sigma_o\n",
    "    return(sigma_o)\n",
    "\n",
    "def rot_sigma_r(i,j,phi,theta):\n",
    "    sigma_r = sparse.identity(basis.Ns,dtype = complex)\n",
    "    sigma_r = rot_sigma(0,i,j,phi,theta)@rot_sigma(L-1,i,j,phi,theta)\n",
    "    return(sigma_r)\n",
    "\n",
    "\n",
    "def sigma(k,i,j,phi):\n",
    "    sigma = np.zeros((2*l+1,2*l+1),dtype = complex)\n",
    "    sigma[2*l-i][2*l-j] = 0.5*(np.cos(phi)+1j*np.sin(phi))\n",
    "    sigma[2*l-j][2*l-i] = 0.5*(np.cos(phi)-1j*np.sin(phi))\n",
    "    sigma = sparse.csc_matrix(sigma)\n",
    "    if k==0:\n",
    "        tensprod = sigma\n",
    "        for i in range(L-1):\n",
    "            tensprod = scipy.sparse.kron(tensprod,sparse.identity(2*l+1))\n",
    "    else:\n",
    "        tensprod = sparse.identity(2*l+1)\n",
    "        for i in range(1,k):\n",
    "            tensprod = scipy.sparse.kron(tensprod,sparse.identity(2*l+1))\n",
    "        tensprod = scipy.sparse.kron(tensprod,sigma)\n",
    "        for i in range(k+1,L):\n",
    "            tensprod = scipy.sparse.kron(tensprod,sparse.identity(2*l+1))\n",
    "    return tensprod\n",
    "\n",
    "\n",
    "def sigma_e(i,j,phi):\n",
    "    sigma_e = np.zeros((basis.Ns,basis.Ns),dtype = complex)\n",
    "    sigma_e = sparse.csc_matrix(sigma_e)\n",
    "    for k in range(1,int(L/2)):\n",
    "        sigma_e +=sigma(2*k,i,j,phi)\n",
    "    return sigma_e\n",
    "\n",
    "def sigma_o(i,j,phi):\n",
    "    sigma_o = np.zeros((basis.Ns,basis.Ns),dtype = complex)\n",
    "    sigma_o = sparse.csc_matrix(sigma_o)\n",
    "    for k in range(int(L/2)):\n",
    "        sigma_o +=sigma(2*k+1,i,j,phi)\n",
    "    return sigma_o\n",
    "\n",
    "def sigma_r(i,j,phi):\n",
    "    sigma_r = np.zeros((basis.Ns,basis.Ns),dtype = complex)\n",
    "    sigma_r = sparse.csc_matrix(sigma_r)\n",
    "    sigma_r = sigma(0,i,j,phi)+sigma(L-1,i,j,phi)\n",
    "    return sigma_r"
   ]
  },
  {
   "cell_type": "code",
   "execution_count": 367,
   "id": "5d32d899",
   "metadata": {},
   "outputs": [],
   "source": [
    "def exp_gate(k,theta):\n",
    "    Matrix = np.zeros((9,9),dtype = complex)\n",
    "    Matrix = sparse.csc_matrix(Matrix)\n",
    "    Matrix[8-0,8-0] = np.cos(theta/2)\n",
    "    Matrix[8-1,8-1] = np.cos(theta/2)\n",
    "    Matrix[8-2,8-2] = 0\n",
    "\n",
    "    Matrix[8-3,8-3] = np.cos(theta/2)\n",
    "    Matrix[8-4,8-4] = np.cos(theta/2)\n",
    "    Matrix[8-5,8-5] = 0\n",
    "\n",
    "    Matrix[8-6,8-6] = -np.cos(theta/2)\n",
    "    Matrix[8-7,8-7] = np.cos(theta/2)\n",
    "    Matrix[8-8,8-8] = -1j\n",
    "\n",
    "    Matrix[8-0,8-4] = -1j*np.sin(theta/2)\n",
    "    Matrix[8-4,8-0] = -1j*np.sin(theta/2)\n",
    "\n",
    "    Matrix[8-1,8-3] = -1j*np.sin(theta/2)\n",
    "    Matrix[8-3,8-1] = -1j*np.sin(theta/2)\n",
    "\n",
    "\n",
    "    Matrix[8-5,8-2] = -1\n",
    "    Matrix[8-2,8-5] = -1\n",
    "\n",
    "    Matrix[8-6,8-7] = np.sin(theta/2)\n",
    "    Matrix[8-7,8-6] = np.sin(theta/2)\n",
    "\n",
    "    if k == 0:\n",
    "        Matrix_full = scipy.sparse.kron(Matrix,sparse.identity(3**1))\n",
    "    \n",
    "    else:\n",
    "        Matrix_full = scipy.sparse.kron(sparse.identity(3**k),Matrix)\n",
    "        Matrix_full = scipy.sparse.kron(Matrix_full,sparse.identity(3**(1-k)))\n",
    "\n",
    "    #return swap(0,k)@swap(1,k+1)@Matrix_full@swap(0,k+1)@swap(1,k)\n",
    "    return Matrix_full"
   ]
  },
  {
   "cell_type": "code",
   "execution_count": 439,
   "id": "adae96e0",
   "metadata": {},
   "outputs": [],
   "source": [
    "def exp_gate_der(k,theta):\n",
    "    Matrix = np.zeros((9,9),dtype = complex)\n",
    "    Matrix = sparse.csc_matrix(Matrix)\n",
    "    Matrix[8-0,8-0] = -np.sin(theta/2)/2\n",
    "    Matrix[8-1,8-1] = -np.sin(theta/2)/2\n",
    "\n",
    "    Matrix[8-3,8-3] = -np.sin(theta/2)/2\n",
    "    Matrix[8-4,8-4] = -np.sin(theta/2)/2\n",
    "\n",
    "    Matrix[8-6,8-6] = np.sin(theta/2)/2\n",
    "    Matrix[8-7,8-7] = -np.sin(theta/2)/2\n",
    "\n",
    "    Matrix[8-0,8-4] = -1j*np.cos(theta/2)/2\n",
    "    Matrix[8-4,8-0] = -1j*np.cos(theta/2)/2\n",
    "\n",
    "    Matrix[8-1,8-3] = -1j*np.cos(theta/2)/2\n",
    "    Matrix[8-3,8-1] = -1j*np.cos(theta/2)/2\n",
    "\n",
    "\n",
    "\n",
    "    Matrix[8-6,8-7] = np.cos(theta/2)/2\n",
    "    Matrix[8-7,8-6] = np.cos(theta/2)/2\n",
    "    \n",
    "    if k == 0:\n",
    "        Matrix_full = scipy.sparse.kron(Matrix,sparse.identity(3**1))\n",
    "    \n",
    "    else:\n",
    "        Matrix_full = scipy.sparse.kron(sparse.identity(3**k),Matrix)\n",
    "        Matrix_full = scipy.sparse.kron(Matrix_full,sparse.identity(3**(1-k)))\n",
    "\n",
    "    #return swap(0,k)@swap(1,k+1)@Matrix_full@swap(0,k+1)@swap(1,k)\n",
    "    return Matrix_full\n",
    "\n",
    "\n"
   ]
  },
  {
   "cell_type": "code",
   "execution_count": 440,
   "id": "38297f99",
   "metadata": {},
   "outputs": [],
   "source": [
    "def R(i,theta):\n",
    "    \n",
    "    if i%8 == 0:\n",
    "        return(exp_gate(0,theta))\n",
    "\n",
    "    if i%8 == 1:\n",
    "        return(exp_gate(1,theta))\n",
    "\n",
    "    \n",
    "    if i%8 == 2:\n",
    "        return(rot_sigma_o(0,1,0,theta))\n",
    "\n",
    "\n",
    "    if i%8 == 3:\n",
    "        return(rot_sigma_o(0,2,0,theta))\n",
    "\n",
    "    \n",
    "    if i%8 == 4:\n",
    "        return(rot_sigma_o(1,2,np.pi/2,theta))\n",
    "\n",
    "    if i%8 == 5:\n",
    "        return(rot_sigma_r(0,1,0,theta))\n",
    "\n",
    "\n",
    "    if i%8 == 6:\n",
    "        return(rot_sigma_r(0,2,0,theta))\n",
    "\n",
    "    \n",
    "    if i%8 == 7:\n",
    "        return(rot_sigma_r(1,2,np.pi/2,theta))\n",
    "        \n",
    "\n",
    "def S(i,theta):\n",
    "    \n",
    "    if i%8 == 0:\n",
    "        return(exp_gate_der(0,theta)@exp_gate(0,theta).T.conj())\n",
    "\n",
    "    if i%8 == 1:\n",
    "        return(exp_gate_der(1,theta)@exp_gate(1,theta).T.conj())\n",
    "\n",
    "    if i%8 == 2:\n",
    "        return(-1j*sigma_o(0,1,0))\n",
    "\n",
    "    \n",
    "    if i%8 == 3:\n",
    "        return(-1j*sigma_o(0,2,0))\n",
    "\n",
    "    \n",
    "    if i%8 == 4:\n",
    "        return(-1j*sigma_o(1,2,np.pi/2))\n",
    "\n",
    "     \n",
    "    if i%8 == 5:\n",
    "        return(-1j*sigma_r(0,1,0))\n",
    "\n",
    "    \n",
    "    if i%8 == 6:\n",
    "        return(-1j*sigma_r(0,2,0))\n",
    "    \n",
    "\n",
    "    if i%8 == 7:\n",
    "        return(-1j*sigma_r(1,2,np.pi/2))"
   ]
  },
  {
   "cell_type": "code",
   "execution_count": 441,
   "id": "83edabab",
   "metadata": {},
   "outputs": [],
   "source": [
    "def var_ansatz(theta,psi_0):\n",
    "    psi = psi_0\n",
    "    for i in range(coeff*N):\n",
    "        psi = R(coeff*N-1-i,theta[coeff*N-1-i])@psi\n",
    "    return psi"
   ]
  },
  {
   "cell_type": "code",
   "execution_count": 442,
   "id": "3ad23b9a",
   "metadata": {},
   "outputs": [],
   "source": [
    "def v(i,theta,a):\n",
    "    \n",
    "    array_i = np.zeros(len(theta))\n",
    "    \n",
    "    array_i[i] = a\n",
    "\n",
    "    theta_i = theta + array_i\n",
    "    \n",
    "    psi_i = var_ansatz(theta_i,psi_0)\n",
    "    \n",
    "    return np.real(np.conj(psi_i)@full_ham_matrix@psi_i)"
   ]
  },
  {
   "cell_type": "code",
   "execution_count": 491,
   "id": "8d4da726",
   "metadata": {},
   "outputs": [],
   "source": [
    "r = 4\n",
    "RR = 2*r+1"
   ]
  },
  {
   "cell_type": "code",
   "execution_count": 492,
   "id": "789b01a7",
   "metadata": {},
   "outputs": [],
   "source": [
    "#Evaluation points\n",
    "a = np.zeros(RR)\n",
    "for i in range(RR):\n",
    "    a[i] = 2*np.pi*(i)/RR"
   ]
  },
  {
   "cell_type": "code",
   "execution_count": 493,
   "id": "dff959b1",
   "metadata": {},
   "outputs": [
    {
     "name": "stdout",
     "output_type": "stream",
     "text": [
      "(0.01037270052713157+1.3704315460216776e-16j)\n"
     ]
    }
   ],
   "source": [
    "#Evaluation matrix\n",
    "mat_exp = np.zeros((RR,RR),dtype = complex)\n",
    "for i in range(RR):\n",
    "    for j in range(RR):\n",
    "        mat_exp[i][j] = np.exp(1j*a[i]*(j-r)/2)\n",
    "print(det(mat_exp))"
   ]
  },
  {
   "cell_type": "code",
   "execution_count": 494,
   "id": "79909a89",
   "metadata": {},
   "outputs": [],
   "source": [
    "theta = np.random.rand(coeff*N)\n",
    "#theta = np.ones(coeff*N)   "
   ]
  },
  {
   "cell_type": "code",
   "execution_count": 495,
   "id": "77a42648",
   "metadata": {},
   "outputs": [
    {
     "name": "stdout",
     "output_type": "stream",
     "text": [
      "[-1.   -0.96 -0.92 -0.88 -0.84 -0.8  -0.76 -0.72 -0.68 -0.64 -0.6  -0.56\n",
      " -0.52 -0.48 -0.44 -0.4  -0.36 -0.32 -0.28 -0.24 -0.2  -0.16 -0.12 -0.08\n",
      " -0.04  0.    0.04  0.08  0.12  0.16  0.2   0.24  0.28  0.32  0.36  0.4\n",
      "  0.44  0.48  0.52  0.56  0.6   0.64  0.68  0.72  0.76  0.8   0.84  0.88\n",
      "  0.92  0.96  1.  ]\n",
      "0.0\n"
     ]
    }
   ],
   "source": [
    "a_1 = np.linspace(-1,1,51) #Check points\n",
    "print(a_1)\n",
    "print(a_1[25])"
   ]
  },
  {
   "cell_type": "code",
   "execution_count": 496,
   "id": "a29c119b",
   "metadata": {},
   "outputs": [
    {
     "name": "stderr",
     "output_type": "stream",
     "text": [
      "/home/ppopov/anaconda3/lib/python3.8/site-packages/scipy/sparse/_index.py:82: SparseEfficiencyWarning: Changing the sparsity structure of a csc_matrix is expensive. lil_matrix is more efficient.\n",
      "  self._set_intXint(row, col, x.flat[0])\n"
     ]
    }
   ],
   "source": [
    "#Correct function values\n",
    "v_a_2 = np.zeros(len(a_1))\n",
    "\n",
    "for i in range(len(a_1)):\n",
    "    v_a_2[i] = v(5,theta,a_1[i])"
   ]
  },
  {
   "cell_type": "code",
   "execution_count": 497,
   "id": "8058ab10",
   "metadata": {},
   "outputs": [],
   "source": [
    "#Correct derivative values\n",
    "for i in range(len(a)):\n",
    "    v_a[i] = v(5,theta,a[i])      \n",
    "\n",
    "v_w_correct = np.linalg.solve(mat_exp,v_a)\n",
    "\n",
    "        "
   ]
  },
  {
   "cell_type": "code",
   "execution_count": 498,
   "id": "ac3a9d06",
   "metadata": {},
   "outputs": [],
   "source": [
    "\n",
    "v_a_1_list = [] #Sample function values list\n",
    "v_a_1_der_list = [] #Sample derivative values list\n",
    "\n",
    "\n",
    "    \n",
    "v_a_2_der = np.zeros(len(a_1)) \n",
    "    \n",
    "    \n",
    "exp_1 = np.zeros((51,RR),dtype = complex) #function evaluation matrix\n",
    "for i in range(51):\n",
    "    for j in range(RR):\n",
    "        exp_1[i][j] = np.exp(1j*a_1[i]*(j-r)/2)\n",
    "        \n",
    "exp_1_der = np.zeros((51,RR),dtype = complex) #derivative evaluation matrix\n",
    "for i in range(51):\n",
    "    for j in range(RR):\n",
    "        exp_1_der[i][j] = np.exp(1j*a_1[i]*(j-r)/2)*1j*(j-r)/2\n",
    "        \n",
    "v_a_2_der = np.real(exp_1_der@v_w_correct)\n",
    "\n",
    "        \n",
    "\n",
    "\n",
    "        \n",
    "for counter in range(300):\n",
    "    v_a = np.zeros(RR)\n",
    "    for i in range(RR):\n",
    "        v_a[i] = v(5,theta,a[i])+np.random.normal(0,np.abs(v(5,theta,a[i]))/1e1)\n",
    "    v_w = np.linalg.solve(mat_exp,v_a)\n",
    "    \n",
    "    v_a_1_der = np.real(exp_1_der@v_w)\n",
    "    v_a_1 = np.real(exp_1@v_w)\n",
    "    \n",
    "    v_a_1_der_list.append(v_a_1_der)        \n",
    "    v_a_1_list.append(v_a_1)  \n"
   ]
  },
  {
   "cell_type": "code",
   "execution_count": 499,
   "id": "0b9a24ee",
   "metadata": {},
   "outputs": [
    {
     "data": {
      "text/plain": [
       "[<matplotlib.lines.Line2D at 0x7f10e5dc34f0>]"
      ]
     },
     "execution_count": 499,
     "metadata": {},
     "output_type": "execute_result"
    },
    {
     "data": {
      "image/png": "[encoded data removed]",
      "text/plain": [
       "<Figure size 432x288 with 1 Axes>"
      ]
     },
     "metadata": {
      "needs_background": "light"
     },
     "output_type": "display_data"
    }
   ],
   "source": [
    "#for i in range(10):\n",
    "#    plt.plot(a_1,v_a_1_list[i],\"-\")\n",
    "plt.plot(a_1,np.mean(v_a_1_list,axis = 0),\"-\",color = \"black\")\n",
    "plt.plot(a_1,v_a_2,\"x\",color = \"black\")   "
   ]
  },
  {
   "cell_type": "code",
   "execution_count": 500,
   "id": "d4e43491",
   "metadata": {},
   "outputs": [
    {
     "name": "stdout",
     "output_type": "stream",
     "text": [
      "-0.14217023972369744\n",
      "-0.13455130581247093\n"
     ]
    }
   ],
   "source": [
    "print(np.mean(v_a_1_der_list,axis = 0)[25]) #Sampled derivative at a=0 \n",
    "print(v_a_2_der[25])  #Correct derivative at a=0\n",
    " \n"
   ]
  },
  {
   "cell_type": "code",
   "execution_count": null,
   "id": "8d641d45",
   "metadata": {},
   "outputs": [],
   "source": []
  }
 ],
 "metadata": {
  "kernelspec": {
   "display_name": "Python 3",
   "language": "python",
   "name": "python3"
  },
  "language_info": {
   "codemirror_mode": {
    "name": "ipython",
    "version": 3
   },
   "file_extension": ".py",
   "mimetype": "text/x-python",
   "name": "python",
   "nbconvert_exporter": "python",
   "pygments_lexer": "ipython3",
   "version": "3.8.8"
  }
 },
 "nbformat": 4,
 "nbformat_minor": 5
}
