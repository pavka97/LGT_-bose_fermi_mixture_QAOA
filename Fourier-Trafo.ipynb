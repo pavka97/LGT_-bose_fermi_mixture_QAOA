{
 "cells": [
  {
   "cell_type": "code",
   "execution_count": 205,
   "id": "caf9465a",
   "metadata": {},
   "outputs": [],
   "source": [
    "import scipy         \n",
    "import datetime\n",
    "from scipy.linalg import expm,det\n",
    "import scipy.sparse as sparse\n",
    "from quspin.operators import hamiltonian, commutator, exp_op # Hamiltonians and operators\n",
    "from quspin.basis import tensor_basis, spin_basis_1d # bases\n",
    "import numpy as np # general math functions\n",
    "import matplotlib.pyplot as plt # plotting library\n",
    "from numba import jit\n",
    "from scipy.integrate import solve_ivp,odeint\n",
    "from functools import reduce\n"
   ]
  },
  {
   "cell_type": "code",
   "execution_count": 206,
   "id": "006bd1e9",
   "metadata": {},
   "outputs": [],
   "source": [
    "L = 7 #system size\n",
    "l=1 #spin length\n",
    "M = 0.1\n",
    "m_epsilon = 0\n",
    "N=1\n",
    "coeff = 15"
   ]
  },
  {
   "cell_type": "code",
   "execution_count": 207,
   "id": "1eab7250",
   "metadata": {},
   "outputs": [],
   "source": [
    "#construct basis\n",
    "basis=spin_basis_1d(L=L,S = str(l))"
   ]
  },
  {
   "cell_type": "code",
   "execution_count": 208,
   "id": "e1d33ab8",
   "metadata": {},
   "outputs": [],
   "source": [
    "#initial state\n",
    "string = \"\"\n",
    "for i in range(L):\n",
    "    string +=\"1\"\n",
    "psi_0 = np.zeros(basis.Ns)\n",
    "i_0 = basis.index(string)\n",
    "psi_0[i_0] = 1."
   ]
  },
  {
   "cell_type": "code",
   "execution_count": 209,
   "id": "8afa841f",
   "metadata": {},
   "outputs": [],
   "source": [
    "def rot_sigma(k,i,j,phi,theta):\n",
    "    if k>=L:\n",
    "        print(\"Warning! Rotations apply to k<=L-1!\")\n",
    "    sigma = np.zeros((2*l+1,2*l+1),dtype = complex)\n",
    "    sigma[2*l-i][2*l-j] = 0.5*(np.cos(phi)+1j*np.sin(phi))\n",
    "    sigma[2*l-j][2*l-i] = 0.5*(np.cos(phi)-1j*np.sin(phi))\n",
    "    sigma = sparse.csc_matrix(sigma)\n",
    "    rot_matrix = expm(-1j*theta*sigma)\n",
    "    if k==0:\n",
    "        tensprod = rot_matrix\n",
    "        for i in range(L-1):\n",
    "            tensprod = scipy.sparse.kron(tensprod,sparse.identity(2*l+1))\n",
    "    else:\n",
    "        tensprod = sparse.identity(2*l+1)\n",
    "        for i in range(1,k):\n",
    "            tensprod = scipy.sparse.kron(tensprod,sparse.identity(2*l+1))\n",
    "        tensprod = scipy.sparse.kron(tensprod,rot_matrix)\n",
    "        for i in range(k+1,L):\n",
    "            tensprod = scipy.sparse.kron(tensprod,sparse.identity(2*l+1))\n",
    "    return tensprod\n",
    "\n",
    "\n",
    "def rot_sigma_e(i,j,phi,theta):\n",
    "    sigma_e = sparse.identity(basis.Ns,dtype = complex)\n",
    "    for k in range(1,int(L/2)):\n",
    "        sigma_e = rot_sigma(2*k,i,j,phi,theta)@sigma_e\n",
    "    return(sigma_e)\n",
    "\n",
    "def rot_sigma_o(i,j,phi,theta):\n",
    "    sigma_o = sparse.identity(basis.Ns,dtype = complex)\n",
    "    for k in range(int(L/2)):\n",
    "        sigma_o = rot_sigma(2*k+1,i,j,phi,theta)@sigma_o\n",
    "    return(sigma_o)\n",
    "\n",
    "def rot_sigma_r(i,j,phi,theta):\n",
    "    sigma_r = sparse.identity(basis.Ns,dtype = complex)\n",
    "    sigma_r = rot_sigma(0,i,j,phi,theta)@rot_sigma(L-1,i,j,phi,theta)\n",
    "    return(sigma_r)\n",
    "\n",
    "\n",
    "def sigma(k,i,j,phi):\n",
    "    sigma = np.zeros((2*l+1,2*l+1),dtype = complex)\n",
    "    sigma[2*l-i][2*l-j] = 0.5*(np.cos(phi)+1j*np.sin(phi))\n",
    "    sigma[2*l-j][2*l-i] = 0.5*(np.cos(phi)-1j*np.sin(phi))\n",
    "    sigma = sparse.csc_matrix(sigma)\n",
    "    if k==0:\n",
    "        tensprod = sigma\n",
    "        for i in range(L-1):\n",
    "            tensprod = scipy.sparse.kron(tensprod,sparse.identity(2*l+1))\n",
    "    else:\n",
    "        tensprod = sparse.identity(2*l+1)\n",
    "        for i in range(1,k):\n",
    "            tensprod = scipy.sparse.kron(tensprod,sparse.identity(2*l+1))\n",
    "        tensprod = scipy.sparse.kron(tensprod,sigma)\n",
    "        for i in range(k+1,L):\n",
    "            tensprod = scipy.sparse.kron(tensprod,sparse.identity(2*l+1))\n",
    "    return tensprod\n",
    "\n",
    "\n",
    "def sigma_e(i,j,phi):\n",
    "    sigma_e = np.zeros((basis.Ns,basis.Ns),dtype = complex)\n",
    "    sigma_e = sparse.csc_matrix(sigma_e)\n",
    "    for k in range(1,int(L/2)):\n",
    "        sigma_e +=sigma(2*k,i,j,phi)\n",
    "    return sigma_e\n",
    "\n",
    "def sigma_o(i,j,phi):\n",
    "    sigma_o = np.zeros((basis.Ns,basis.Ns),dtype = complex)\n",
    "    sigma_o = sparse.csc_matrix(sigma_o)\n",
    "    for k in range(int(L/2)):\n",
    "        sigma_o +=sigma(2*k+1,i,j,phi)\n",
    "    return sigma_o\n",
    "\n",
    "def sigma_r(i,j,phi):\n",
    "    sigma_r = np.zeros((basis.Ns,basis.Ns),dtype = complex)\n",
    "    sigma_r = sparse.csc_matrix(sigma_r)\n",
    "    sigma_r = sigma(0,i,j,phi)+sigma(L-1,i,j,phi)\n",
    "    return sigma_r"
   ]
  },
  {
   "cell_type": "code",
   "execution_count": 210,
   "id": "5d32d899",
   "metadata": {},
   "outputs": [],
   "source": [
    "def exp_gate(k,theta):\n",
    "    Matrix = np.zeros((9,9),dtype = complex)\n",
    "    Matrix = sparse.csc_matrix(Matrix)\n",
    "    Matrix[8-0,8-0] = np.cos(theta/2)\n",
    "    Matrix[8-1,8-1] = np.cos(theta/2)\n",
    "    Matrix[8-2,8-2] = 0\n",
    "\n",
    "    Matrix[8-3,8-3] = np.cos(theta/2)\n",
    "    Matrix[8-4,8-4] = np.cos(theta/2)\n",
    "    Matrix[8-5,8-5] = 0\n",
    "\n",
    "    Matrix[8-6,8-6] = -np.cos(theta/2)\n",
    "    Matrix[8-7,8-7] = np.cos(theta/2)\n",
    "    Matrix[8-8,8-8] = -1j\n",
    "\n",
    "    Matrix[8-0,8-4] = -1j*np.sin(theta/2)\n",
    "    Matrix[8-4,8-0] = -1j*np.sin(theta/2)\n",
    "\n",
    "    Matrix[8-1,8-3] = -1j*np.sin(theta/2)\n",
    "    Matrix[8-3,8-1] = -1j*np.sin(theta/2)\n",
    "\n",
    "\n",
    "    Matrix[8-5,8-2] = -1\n",
    "    Matrix[8-2,8-5] = -1\n",
    "\n",
    "    Matrix[8-6,8-7] = np.sin(theta/2)\n",
    "    Matrix[8-7,8-6] = np.sin(theta/2)\n",
    "\n",
    "    if k == 0:\n",
    "        Matrix_full = scipy.sparse.kron(Matrix,sparse.identity(3**5))\n",
    "    \n",
    "    else:\n",
    "        Matrix_full = scipy.sparse.kron(sparse.identity(3**k),Matrix)\n",
    "        Matrix_full = scipy.sparse.kron(Matrix_full,sparse.identity(3**(5-k)))\n",
    "\n",
    "    #return swap(0,k)@swap(1,k+1)@Matrix_full@swap(0,k+1)@swap(1,k)\n",
    "    return Matrix_full"
   ]
  },
  {
   "cell_type": "code",
   "execution_count": 226,
   "id": "adae96e0",
   "metadata": {},
   "outputs": [],
   "source": [
    "def exp_gate_der(k,theta):\n",
    "    Matrix = np.zeros((9,9),dtype = complex)\n",
    "    Matrix = sparse.csc_matrix(Matrix)\n",
    "    Matrix[8-0,8-0] = -np.sin(theta/2)/2\n",
    "    Matrix[8-1,8-1] = -np.sin(theta/2)/2\n",
    "\n",
    "    Matrix[8-3,8-3] = -np.sin(theta/2)/2\n",
    "    Matrix[8-4,8-4] = -np.sin(theta/2)/2\n",
    "\n",
    "    Matrix[8-6,8-6] = np.sin(theta/2)/2\n",
    "    Matrix[8-7,8-7] = -np.sin(theta/2)/2\n",
    "\n",
    "    Matrix[8-0,8-4] = -1j*np.cos(theta/2)/2\n",
    "    Matrix[8-4,8-0] = -1j*np.cos(theta/2)/2\n",
    "\n",
    "    Matrix[8-1,8-3] = -1j*np.cos(theta/2)/2\n",
    "    Matrix[8-3,8-1] = -1j*np.cos(theta/2)/2\n",
    "\n",
    "\n",
    "\n",
    "    Matrix[8-6,8-7] = np.cos(theta/2)/2\n",
    "    Matrix[8-7,8-6] = np.cos(theta/2)/2\n",
    "    \n",
    "    if k == 0:\n",
    "        Matrix_full = scipy.sparse.kron(Matrix,sparse.identity(3**5))\n",
    "    \n",
    "    else:\n",
    "        Matrix_full = scipy.sparse.kron(sparse.identity(3**k),Matrix)\n",
    "        Matrix_full = scipy.sparse.kron(Matrix_full,sparse.identity(3**(5-k)))\n",
    "\n",
    "    #return swap(0,k)@swap(1,k+1)@Matrix_full@swap(0,k+1)@swap(1,k)\n",
    "    return Matrix_full\n",
    "\n",
    "\n"
   ]
  },
  {
   "cell_type": "code",
   "execution_count": 420,
   "id": "38297f99",
   "metadata": {},
   "outputs": [],
   "source": [
    "def R(i,theta):\n",
    "    \n",
    "    if i%15 == 0:\n",
    "        return(exp_gate(0,theta))\n",
    "\n",
    "    if i%15 == 1:\n",
    "        return(exp_gate(1,theta))\n",
    "\n",
    "    if i%15 == 2:\n",
    "        return(exp_gate(2,theta))\n",
    "\n",
    "    if i%15 == 3:\n",
    "        return(exp_gate(3,theta))\n",
    "\n",
    "    if i%15 == 4:\n",
    "        return(exp_gate(4,theta))\n",
    "\n",
    "    if i%15 == 5:\n",
    "        return(exp_gate(5,theta))\n",
    "    \n",
    "\n",
    "    if i%15 == 6:\n",
    "        return(rot_sigma_e(0,1,0,theta))\n",
    "\n",
    "\n",
    "    if i%15 == 7:\n",
    "        return(rot_sigma_e(0,2,0,theta))\n",
    "\n",
    "    \n",
    "    if i%15 == 8:\n",
    "        return(rot_sigma_e(1,2,np.pi/2,theta))\n",
    "\n",
    "    \n",
    "    if i%15 == 9:\n",
    "        return(rot_sigma_o(0,1,0,theta))\n",
    "\n",
    "\n",
    "    if i%15 == 10:\n",
    "        return(rot_sigma_o(0,2,0,theta))\n",
    "\n",
    "    \n",
    "    if i%15 == 11:\n",
    "        return(rot_sigma_o(1,2,np.pi/2,theta))\n",
    "\n",
    "    if i%15 == 12:\n",
    "        return(rot_sigma_r(0,1,0,theta))\n",
    "\n",
    "\n",
    "    if i%15 == 13:\n",
    "        return(rot_sigma_r(0,2,0,theta))\n",
    "\n",
    "    \n",
    "    if i%15 == 14:\n",
    "        return(rot_sigma_r(1,2,np.pi/2,theta))\n",
    "        \n",
    "\n",
    "def S(i,theta):\n",
    "    \n",
    "    if i%15 == 0:\n",
    "        return(exp_gate_der(0,theta)@exp_gate(0,theta).T.conj())\n",
    "\n",
    "    if i%15 == 1:\n",
    "        return(exp_gate_der(1,theta)@exp_gate(1,theta).T.conj())\n",
    "    \n",
    "    if i%15 == 2:\n",
    "        return(exp_gate_der(2,theta)@exp_gate(2,theta).T.conj())\n",
    "\n",
    "    if i%15 == 3:\n",
    "        return(exp_gate_der(3,theta)@exp_gate(3,theta).T.conj())\n",
    "\n",
    "    if i%15 == 4:\n",
    "        return(exp_gate_der(4,theta)@exp_gate(4,theta).T.conj())\n",
    "    \n",
    "    if i%15 == 5:\n",
    "        return(exp_gate_der(5,theta)@exp_gate(5,theta).T.conj())\n",
    "    \n",
    "    if i%15 == 6:\n",
    "        return(-1j*sigma_e(0,1,0))\n",
    "\n",
    "    \n",
    "    if i%15 == 7:\n",
    "        return(-1j*sigma_e(0,2,0))\n",
    "\n",
    "    \n",
    "    if i%15 == 8:\n",
    "        return(-1j*sigma_e(1,2,np.pi/2))\n",
    "     \n",
    "    if i%15 == 9:\n",
    "        return(-1j*sigma_o(0,1,0))\n",
    "\n",
    "    \n",
    "    if i%15 == 10:\n",
    "        return(-1j*sigma_o(0,2,0))\n",
    "\n",
    "    \n",
    "    if i%15 == 11:\n",
    "        return(-1j*sigma_o(1,2,np.pi/2))\n",
    "\n",
    "     \n",
    "    if i%15 == 12:\n",
    "        return(-1j*sigma_r(0,1,0))\n",
    "\n",
    "    \n",
    "    if i%15 == 13:\n",
    "        return(-1j*sigma_r(0,2,0))\n",
    "    \n",
    "\n",
    "    if i%15 == 14:\n",
    "        return(-1j*sigma_r(1,2,np.pi/2))"
   ]
  },
  {
   "cell_type": "code",
   "execution_count": 421,
   "id": "83edabab",
   "metadata": {},
   "outputs": [],
   "source": [
    "def var_ansatz(theta,psi_0):\n",
    "    psi = psi_0\n",
    "    for i in range(coeff*N):\n",
    "        psi = R(coeff*N-1-i,theta[coeff*N-1-i])@psi\n",
    "    return psi"
   ]
  },
  {
   "cell_type": "code",
   "execution_count": 422,
   "id": "8d4da726",
   "metadata": {},
   "outputs": [],
   "source": [
    "r = 8\n",
    "RR = 2*r+1"
   ]
  },
  {
   "cell_type": "code",
   "execution_count": 423,
   "id": "698343ad",
   "metadata": {},
   "outputs": [],
   "source": [
    "mat_exp = np.zeros((RR,RR),dtype = complex)"
   ]
  },
  {
   "cell_type": "code",
   "execution_count": 424,
   "id": "789b01a7",
   "metadata": {},
   "outputs": [],
   "source": [
    "a = np.zeros(RR)\n",
    "for i in range(RR):\n",
    "    a[i] = 2*np.pi*(i-r)/RR"
   ]
  },
  {
   "cell_type": "code",
   "execution_count": 425,
   "id": "dff959b1",
   "metadata": {},
   "outputs": [
    {
     "name": "stdout",
     "output_type": "stream",
     "text": [
      "(1.2828870884492e-14+4.89620345612785e-24j)\n"
     ]
    }
   ],
   "source": [
    "for i in range(RR):\n",
    "    for j in range(RR):\n",
    "        mat_exp[i][j] = np.exp(1j*a[i]*(j-r)/2)\n",
    "print(det(mat_exp))"
   ]
  },
  {
   "cell_type": "code",
   "execution_count": 426,
   "id": "79909a89",
   "metadata": {},
   "outputs": [],
   "source": [
    "def f(i,j,theta,a):\n",
    "    \n",
    "    array_i = np.zeros(len(theta))\n",
    "    array_j = np.zeros(len(theta))\n",
    "    \n",
    "    array_i[i] = a\n",
    "    array_j[j] = a\n",
    "\n",
    "    theta_i = theta + array_i\n",
    "    theta_j = theta + array_j\n",
    "    \n",
    "    psi_i = var_ansatz(theta_i,psi_0)\n",
    "    psi_j = var_ansatz(theta_j,psi_0)\n",
    "    \n",
    "    return np.abs(np.conj(psi_i)@psi_j)**2\n",
    "    \n",
    "    "
   ]
  },
  {
   "cell_type": "code",
   "execution_count": 427,
   "id": "54ae7528",
   "metadata": {},
   "outputs": [],
   "source": [
    "#theta = np.random.rand(coeff*N)\n",
    "theta = np.random.rand(coeff*N)"
   ]
  },
  {
   "cell_type": "code",
   "execution_count": 428,
   "id": "b33c29ee",
   "metadata": {},
   "outputs": [
    {
     "name": "stderr",
     "output_type": "stream",
     "text": [
      "/home/ppopov/anaconda3/lib/python3.8/site-packages/scipy/sparse/_index.py:82: SparseEfficiencyWarning: Changing the sparsity structure of a csc_matrix is expensive. lil_matrix is more efficient.\n",
      "  self._set_intXint(row, col, x.flat[0])\n"
     ]
    }
   ],
   "source": [
    "f_a = np.zeros(RR)\n",
    "for i in range(RR):\n",
    "    f_a[i] = f(8,10,theta,a[i])"
   ]
  },
  {
   "cell_type": "code",
   "execution_count": 429,
   "id": "90b8757d",
   "metadata": {},
   "outputs": [],
   "source": [
    "f_w = np.linalg.solve(mat_exp,f_a)"
   ]
  },
  {
   "cell_type": "code",
   "execution_count": 430,
   "id": "2dbd0353",
   "metadata": {},
   "outputs": [],
   "source": [
    "a_1 = np.linspace(-100,100,51)\n",
    "exp_1 = np.zeros((51,RR),dtype = complex)"
   ]
  },
  {
   "cell_type": "code",
   "execution_count": 431,
   "id": "27913631",
   "metadata": {},
   "outputs": [],
   "source": [
    "for i in range(51):\n",
    "    for j in range(RR):\n",
    "        exp_1[i][j] = np.exp(1j*a_1[i]*(j-r)/2)"
   ]
  },
  {
   "cell_type": "code",
   "execution_count": 432,
   "id": "0509dba6",
   "metadata": {},
   "outputs": [],
   "source": [
    "f_a_1 = np.real(exp_1@f_w)\n",
    "f_a_2 = np.zeros(len(a_1))\n",
    "for i in range(len(a_1)):\n",
    "    f_a_2[i] = f(8,10,theta,a_1[i])"
   ]
  },
  {
   "cell_type": "code",
   "execution_count": 433,
   "id": "40cac309",
   "metadata": {},
   "outputs": [
    {
     "data": {
      "text/plain": [
       "[<matplotlib.lines.Line2D at 0x7fec3e3e6e80>]"
      ]
     },
     "execution_count": 433,
     "metadata": {},
     "output_type": "execute_result"
    },
    {
     "data": {
      "image/png": "[encoded data removed]",
      "text/plain": [
       "<Figure size 432x288 with 1 Axes>"
      ]
     },
     "metadata": {
      "needs_background": "light"
     },
     "output_type": "display_data"
    }
   ],
   "source": [
    "plt.plot(a_1,f_a_1,\"-\")\n",
    "plt.plot(a_1,f_a_2,\"-\")\n"
   ]
  },
  {
   "cell_type": "code",
   "execution_count": null,
   "id": "35dbc1ff",
   "metadata": {},
   "outputs": [],
   "source": []
  },
  {
   "cell_type": "code",
   "execution_count": null,
   "id": "e8495cfc",
   "metadata": {},
   "outputs": [],
   "source": []
  }
 ],
 "metadata": {
  "kernelspec": {
   "display_name": "Python 3",
   "language": "python",
   "name": "python3"
  },
  "language_info": {
   "codemirror_mode": {
    "name": "ipython",
    "version": 3
   },
   "file_extension": ".py",
   "mimetype": "text/x-python",
   "name": "python",
   "nbconvert_exporter": "python",
   "pygments_lexer": "ipython3",
   "version": "3.8.8"
  }
 },
 "nbformat": 4,
 "nbformat_minor": 5
}
