{
 "cells": [
  {
   "cell_type": "code",
   "execution_count": 54,
   "id": "ee523e9e",
   "metadata": {
    "scrolled": true
   },
   "outputs": [
    {
     "name": "stdout",
     "output_type": "stream",
     "text": [
      "reference states: \n",
      "array index   /   Fock state   /   integer repr. \n",
      "     0.         |2 2>           8  \n",
      "     1.         |2 1>           7  \n",
      "     2.         |2 0>           6  \n",
      "     3.         |1 2>           5  \n",
      "     4.         |1 1>           4  \n",
      "     5.         |1 0>           3  \n",
      "     6.         |0 2>           2  \n",
      "     7.         |0 1>           1  \n",
      "     8.         |0 0>           0  \n",
      "reference states: \n",
      "array index   /   Fock state   /   integer repr. \n",
      "      0.         |1 1 1>|1 1 1>           63  \n",
      "      1.         |1 1 1>|1 1 0>           62  \n",
      "      2.         |1 1 1>|1 0 1>           61  \n",
      "      3.         |1 1 1>|1 0 0>           60  \n",
      "      4.         |1 1 1>|0 1 1>           59  \n",
      "      5.         |1 1 1>|0 1 0>           58  \n",
      "      6.         |1 1 1>|0 0 1>           57  \n",
      "      7.         |1 1 1>|0 0 0>           56  \n",
      "      8.         |1 1 0>|1 1 1>           55  \n",
      "      9.         |1 1 0>|1 1 0>           54  \n",
      "     10.         |1 1 0>|1 0 1>           53  \n",
      "     11.         |1 1 0>|1 0 0>           52  \n",
      "     12.         |1 1 0>|0 1 1>           51  \n",
      "     13.         |1 1 0>|0 1 0>           50  \n",
      "     14.         |1 1 0>|0 0 1>           49  \n",
      "     15.         |1 1 0>|0 0 0>           48  \n",
      "     16.         |1 0 1>|1 1 1>           47  \n",
      "     17.         |1 0 1>|1 1 0>           46  \n",
      "     18.         |1 0 1>|1 0 1>           45  \n",
      "     19.         |1 0 1>|1 0 0>           44  \n",
      "     20.         |1 0 1>|0 1 1>           43  \n",
      "     21.         |1 0 1>|0 1 0>           42  \n",
      "     22.         |1 0 1>|0 0 1>           41  \n",
      "     23.         |1 0 1>|0 0 0>           40  \n",
      "     24.         |1 0 0>|1 1 1>           39  \n",
      "                      :\n",
      "     39.         |0 1 1>|0 0 0>           24  \n",
      "     40.         |0 1 0>|1 1 1>           23  \n",
      "     41.         |0 1 0>|1 1 0>           22  \n",
      "     42.         |0 1 0>|1 0 1>           21  \n",
      "     43.         |0 1 0>|1 0 0>           20  \n",
      "     44.         |0 1 0>|0 1 1>           19  \n",
      "     45.         |0 1 0>|0 1 0>           18  \n",
      "     46.         |0 1 0>|0 0 1>           17  \n",
      "     47.         |0 1 0>|0 0 0>           16  \n",
      "     48.         |0 0 1>|1 1 1>           15  \n",
      "     49.         |0 0 1>|1 1 0>           14  \n",
      "     50.         |0 0 1>|1 0 1>           13  \n",
      "     51.         |0 0 1>|1 0 0>           12  \n",
      "     52.         |0 0 1>|0 1 1>           11  \n",
      "     53.         |0 0 1>|0 1 0>           10  \n",
      "     54.         |0 0 1>|0 0 1>            9  \n",
      "     55.         |0 0 1>|0 0 0>            8  \n",
      "     56.         |0 0 0>|1 1 1>            7  \n",
      "     57.         |0 0 0>|1 1 0>            6  \n",
      "     58.         |0 0 0>|1 0 1>            5  \n",
      "     59.         |0 0 0>|1 0 0>            4  \n",
      "     60.         |0 0 0>|0 1 1>            3  \n",
      "     61.         |0 0 0>|0 1 0>            2  \n",
      "     62.         |0 0 0>|0 0 1>            1  \n",
      "     63.         |0 0 0>|0 0 0>            0  \n"
     ]
    }
   ],
   "source": [
    "from __future__ import print_function, division\n",
    "import sys,os\n",
    "# line 4 and line 5 below are for development purposes and can be removed\n",
    "qspin_path = os.path.join(os.getcwd(),\"../../\")\n",
    "sys.path.insert(0,qspin_path)\n",
    "from scipy.linalg import expm\n",
    "from quspin.operators import hamiltonian, commutator, exp_op # Hamiltonians and operators\n",
    "from quspin.basis import tensor_basis,spinful_fermion_basis_1d,boson_basis_1d # bases\n",
    "from quspin.tools.measurements import obs_vs_time # calculating dynamics\n",
    "from quspin.tools.Floquet import Floquet_t_vec # period-spaced time vector\n",
    "import numpy as np # general math functions\n",
    "import matplotlib.pyplot as plt # plotting library\n",
    "#\n",
    "##### setting up parameters for simulation\n",
    "# physical parameters\n",
    "l = 1\n",
    "L_f = 3 # system size f\n",
    "L_b = L_f-1 # system size b\n",
    "Nf, Nb = 2, l # number of fermions, bosons\n",
    "N = Nf + Nb # total number of particles\n",
    "tb, tf = 0.1, 0.1 # boson, fermon hopping strength\n",
    "U = 1.0  # n(n-1) interaction strength\n",
    "V = 1.0\n",
    "mu_b, mu_f = -0.5, -0.5 # b, f chemical potential \n",
    "# define time-dependent perturbation\n",
    "A = 0\n",
    "Omega = 1.0\n",
    "def drive(t,Omega):\n",
    "    return np.sin(Omega*t)\n",
    "drive_args=[Omega]\n",
    "#\n",
    "###### create the basis\n",
    "# build the two bases to tensor together to a bose-fermi mixture\n",
    "basis_b1=boson_basis_1d(L_b,Nb=[i for i in range(2*l*L_b+1)],sps=2*l+1) # boson basis\n",
    "basis_b2=boson_basis_1d(L_b,Nb=[i for i in range(2*l*L_b+1)],sps=2*l+1) # boson basis\n",
    "basis_f=spinful_fermion_basis_1d(L_f,Nf = [(0,0),(0,1),(1,0),(1,1),(2,0),(0,2),(1,2),(2,1),(2,2),(0,3),(3,0),(3,1),(1,3),(2,3),(3,2),(3,3)],double_occupancy=True)\n",
    "basis=tensor_basis(basis_b1,basis_b2,basis_f) # BFM\n",
    "#\n",
    "print(basis_b1)\n",
    "print(basis_f)\n",
    "##### create model\n",
    "# define site-coupling lists\n",
    "hop_b = [[-tb,i,(i+1)] for i in range(L_b-1)] # b hopping\n",
    "int_list_bb = [[U/2.0,i,i] for i in range(L_b)] # bb onsite interaction\n",
    "int_list_bb_lin = [[-U/2.0,i] for i in range(L_b)] # bb interaction, linear term\n",
    "# \n",
    "hop_f_right = [[-tf,i,(i+1)] for i in range(L_f-1)] # f hopping right\n",
    "hop_f_left = [[tf,i,(i+1)] for i in range(L_f-1)] # f hopping left\n",
    "drive_f = [[A*(-1.0)**i,i] for i in range(L_f)] # density staggered drive\n",
    "#\n",
    "chem_f = [[mu_f,i] for i in range(L_f)] #chemical potential for fermions\n",
    "chem_b = [[mu_b,i] for i in range(L_b)] #chemical potential for bosons\n",
    "#\n",
    "int_list_bf = [[V,i,j] for i in range(L_b) for j in range(L_f)] # bf onsite interaction\n",
    "int_list_bf_m = [[-V,i,j] for i in range(L_b) for j in range(L_f)] # bf onsite interaction\n",
    "\n",
    "#int_list_bf_offsite = [[V,i,i+1] for i in range(L_b)] # bf onsite interaction\n",
    "\n",
    "penalty_quad = [[1000.,i,i] for i in range(L_b)] #penalty in order to stay in the sector n_b + n_d = 2l\n",
    "penalty_lin = [[-4000.*l,i] for i in range(L_b)]\n",
    "penalty_const = [[1000.*4*l**2,i] for i in range(L_b)]\n",
    "penalty_quad_2 = [[2000.,i,i] for i in range(L_b)]\n",
    "\n",
    "\n",
    "\n",
    "\n",
    "# create resource Hamiltonian\n",
    "bosons_hopping = [\t\n",
    "            [\"+-|||\", hop_b], # bosons hop left\n",
    "            [\"|+-||\", hop_b], # bosons hop left\n",
    "\n",
    "            [\"-+|||\", hop_b], # bosons hop right\n",
    "            [\"|-+||\", hop_b], # bosons hop right\n",
    "]\n",
    "\n",
    "bosons_on_site_int = [\n",
    "            [\"n|||\", int_list_bb_lin], # bb onsite interaction\n",
    "            [\"|n||\", int_list_bb_lin], # bb onsite interaction\n",
    "\n",
    "            [\"nn|||\", int_list_bb], # bb onsite interaction\n",
    "            [\"|nn||\", int_list_bb], # bb onsite interaction\n",
    "]\n",
    "            #\n",
    "fermions_hopping = [\n",
    "            [\"|||+-\", hop_f_left], # fermions hop left\n",
    "            [\"||+-|\", hop_f_left], # fermions hop left\n",
    "\n",
    "            [\"|||-+\", hop_f_right], # fermions hop right\n",
    "            [\"||-+|\", hop_f_right], # fermions hop right\n",
    "]\n",
    "            #\n",
    "boson_fermion_int_b1 = [\n",
    "\n",
    "            [\"n||n|\", int_list_bf], # bf onsite interaction\n",
    "\n",
    "]\n",
    "\n",
    "boson_fermion_int_b2 = [\n",
    "            [\"n|||n\", int_list_bf_m], # bf onsite interaction\n",
    "\n",
    "]\n",
    "\n",
    "boson_fermion_int_d1 = [\n",
    "\n",
    "            [\"|n|n|\", int_list_bf], # bf onsite interaction\n",
    "\n",
    "]\n",
    "\n",
    "boson_fermion_int_d2 = [\n",
    "\n",
    "            [\"|n||n\", int_list_bf_m], # bf onsite interaction\n",
    "]\n",
    "\n",
    "            #\n",
    "chem_potential_f = [\n",
    "            [\"|||n\", chem_f], #chemical potential fermions\n",
    "            [\"||n|\", chem_f], #chemical potential fermions\n",
    "]\n",
    "chem_potential_b = [\n",
    "            [\"n|||\", chem_b],  #chemical potential bosons \n",
    "            [\"|n||\", chem_b],  #chemical potential bosons    \n",
    "\n",
    "            ]\n",
    "dynamic = [[\"|n\",drive_f,drive,drive_args]] # drive couples to fermions only\n",
    "\n",
    "############################################## target  hamiltonian\n",
    "a = 0.1\n",
    "e = 1.0\n",
    "m = 0.3\n",
    "\n",
    "bosonic_part_LGT = [[a*e**2/4.,i,i,i,i] for i in range(L_b)] # b^dagger*b^dagger*b*b\n",
    "mass_f = [[m+1.0/a,i,i] for i in range(L_f)] # f mass term\n",
    "m_mass_f = [[-m-1.0/a,i,i] for i in range(L_f)] # f mass term\n",
    "\n",
    "interaction_part_LGT = [[1.0/(a*np.sqrt(l*(l+1))),i,i,i,i+1] for i in range(L_b)] #boson-fermion interaction\n",
    "m_interaction_part_LGT = [[-1.0/(a*np.sqrt(l*(l+1))),i,i,i,i+1] for i in range(L_b)] #boson-fermion interaction\n",
    "\n",
    "coherent_b = [[1.,i] for i in range(L_b)]\n",
    "coherent_f = [[1.,i] for i in range(L_f)]\n",
    "\n",
    "\n",
    "#\n",
    "static_coh = [\n",
    "    \n",
    "    [\"+|||\",coherent_b],\n",
    "    [\"-|||\",coherent_b],\n",
    "\n",
    "    [\"|+||\",coherent_b],\n",
    "    [\"|-||\",coherent_b],\n",
    "\n",
    "    [\"||+|\",coherent_f],\n",
    "    [\"||-|\",coherent_f],\n",
    "    \n",
    "    [\"|||+\",coherent_f],\n",
    "    [\"|||-\",coherent_f],\n",
    "\n",
    "]\n",
    "\n",
    "\n",
    "static_mix = [\n",
    "    \n",
    "    [\"+|||\",coherent_b],\n",
    "    [\"-|||\",coherent_b],\n",
    "\n",
    "    [\"|+||\",coherent_b],\n",
    "    [\"|-||\",coherent_b],\n",
    "\n",
    "    [\"||+|\",coherent_f],\n",
    "    [\"||-|\",coherent_f],\n",
    "    \n",
    "    [\"|||+\",coherent_f],\n",
    "    [\"|||-\",coherent_f],\n",
    "#introducing the penalty to the Hamiltonian\n",
    "    [\"nn|||\",penalty_quad],\n",
    "    [\"|nn||\",penalty_quad],\n",
    "    [\"n|n||\",penalty_quad_2],\n",
    "    [\"n|||\",penalty_lin],\n",
    "    [\"|n||\",penalty_lin],\n",
    "    [\"I|||\",penalty_const]\n",
    "\n",
    "]\n",
    "\n",
    "static_mass = [\n",
    "            [\"||+|-\", mass_f], # f mass term\n",
    "            [\"||-|+\", m_mass_f], # f mass term\n",
    "]\n",
    "\n",
    "static_target = [\n",
    "            [\"++--|||\", bosonic_part_LGT], # b^dagger*b^dagger*b*b\n",
    "            [\"|++--||\", bosonic_part_LGT], # b^dagger*b^dagger*b*b\n",
    "\n",
    "            [\"||+|-\", mass_f], # f mass term\n",
    "            [\"||-|+\", m_mass_f], # f mass term\n",
    "\n",
    "\n",
    "            [\"+|-|+|-\", interaction_part_LGT], #boson-fermion interaction\n",
    "            [\"-|+|-|+\", m_interaction_part_LGT], #boson-fermion interaction\n",
    "#introducing the penalty to the Hamiltonian\n",
    "            [\"nn|||\",penalty_quad],\n",
    "            [\"|nn||\",penalty_quad],\n",
    "            [\"n|n||\",penalty_quad_2],\n",
    "            [\"n|||\",penalty_lin],\n",
    "            [\"|n||\",penalty_lin],\n",
    "            [\"I|||\",penalty_const]\n",
    "\n",
    "]\n",
    "\n",
    "#Schwinger bosons at 0th link\n",
    "b_0 = [[+0.5*e,0]]\n",
    "d_0 = [[+0.5*e,0]]\n",
    "\n",
    "b_0_m = [[-0.5*e,0]]\n",
    "d_0_m = [[-0.5*e,0]]\n",
    "\n",
    "#Schwinger bosons at 1st link\n",
    "b_1 = [[+0.5*e,1]]\n",
    "d_1 = [[+0.5*e,1]]\n",
    "\n",
    "b_1_m = [[-0.5*e,1]]\n",
    "d_1_m = [[-0.5*e,1]]\n",
    "\n",
    "#Fermions at 0th site\n",
    "rho_0 = [[-e,0]]\n",
    "\n",
    "#Fermions at 1st site\n",
    "rho_1 = [[-e,1]]\n",
    "\n",
    "#Fermions at 2nd site\n",
    "rho_2 = [[-e,2]]\n",
    "\n",
    "#Identity at 0th site\n",
    "eee_0 = [[e,0]]\n",
    "\n",
    "#Identity at 1st site\n",
    "eee_1 = [[e,1]]\n",
    "\n",
    "#Identity at 2nd site\n",
    "eee_2 = [[e,2]]\n",
    "\n",
    "\n",
    "static_gauss_law_0 = [\n",
    "    \n",
    "    [\"n|||\", b_0],\n",
    "    [\"|n||\", d_0_m],\n",
    "    [\"||n|\", rho_0],\n",
    "    [\"|||n\", rho_0],\n",
    "    [\"||I|\", eee_0]\n",
    "\n",
    "    \n",
    "]\n",
    "\n",
    "\n",
    "\n",
    "static_gauss_law_1 = [\n",
    "    \n",
    "    [\"n|||\", b_0_m],\n",
    "    [\"|n||\", d_0],\n",
    "    [\"n|||\", b_1],\n",
    "    [\"|n||\", d_1_m],\n",
    "    [\"||n|\", rho_1],\n",
    "    [\"|||n\", rho_1],\n",
    "    [\"||I|\", eee_1]\n",
    "\n",
    "]    \n",
    "    \n",
    "\n",
    "static_gauss_law_2 = [\n",
    "    \n",
    "    [\"n|||\", b_1_m],\n",
    "    [\"|n||\", d_1],\n",
    "    [\"||n|\", rho_2],\n",
    "    [\"|||n\", rho_2],\n",
    "    [\"||I|\", eee_2]\n",
    "\n",
    "    \n",
    "]\n",
    "\n",
    "\n",
    "\n",
    "\n",
    "\n",
    "################################################\n",
    "###### set up Hamiltonian and initial states\n",
    "no_checks = dict(check_pcon=False,check_symm=False,check_herm=False)\n",
    "H_R6  = hamiltonian(bosons_hopping,dynamic,basis=basis,**no_checks)\n",
    "H_R1  = hamiltonian(bosons_on_site_int,dynamic,basis=basis,**no_checks)\n",
    "H_R5  = hamiltonian(fermions_hopping,dynamic,basis=basis,**no_checks)\n",
    "H_R3  = hamiltonian(chem_potential_f,dynamic,basis=basis,**no_checks)\n",
    "H_R4  = hamiltonian(chem_potential_b,dynamic,basis=basis,**no_checks)\n",
    "H_Rb1  = hamiltonian(boson_fermion_int_b1,dynamic,basis=basis,**no_checks)\n",
    "H_Rb2  = hamiltonian(boson_fermion_int_b2,dynamic,basis=basis,**no_checks)\n",
    "H_Rd1  = hamiltonian(boson_fermion_int_d1,dynamic,basis=basis,**no_checks)\n",
    "H_Rd2  = hamiltonian(boson_fermion_int_d2,dynamic,basis=basis,**no_checks)\n",
    "\n",
    "\n",
    "Gauss_law_0 = hamiltonian(static_gauss_law_0, dynamic_list = [], basis=basis, **no_checks)\n",
    "Gauss_law_1 = hamiltonian(static_gauss_law_1, dynamic_list = [], basis=basis, **no_checks)\n",
    "Gauss_law_2 = hamiltonian(static_gauss_law_2, dynamic_list = [], basis=basis, **no_checks)\n",
    "\n",
    "\n",
    "\n",
    "\n",
    "#H_BFM = hamiltonian(static,dynamic,basis=basis,**no_checks)\n",
    "H_target = hamiltonian(static_target,dynamic,basis=basis,**no_checks)\n",
    "\n",
    "H_mix = H_R5 + H_R6\n",
    "\n",
    "H_mass = hamiltonian(static_mass,dynamic,basis=basis,**no_checks)\n",
    "\n",
    "H_coh = hamiltonian(static_coh,dynamic,basis=basis,**no_checks)\n",
    "H_mix = hamiltonian(static_mix,dynamic,basis=basis,**no_checks)\n",
    "\n",
    "Gauss_quadrat_0 = Gauss_law_0*Gauss_law_0\n",
    "Gauss_quadrat_1 = Gauss_law_1*Gauss_law_1\n",
    "Gauss_quadrat_2 = Gauss_law_2*Gauss_law_2"
   ]
  },
  {
   "cell_type": "code",
   "execution_count": 180,
   "id": "cd2d37b7",
   "metadata": {},
   "outputs": [
    {
     "name": "stdout",
     "output_type": "stream",
     "text": [
      "6\n"
     ]
    }
   ],
   "source": [
    "\n",
    "def exp_TmTdagger(liste):\n",
    "    static_f1f1 = [[ liste[0],i,i] for i in range(L_f)]\n",
    "    static_f1f2 = [[ liste[1],i,i] for i in range(L_f)]\n",
    "    static_f2f1 = [[ -liste[1],i,i] for i in range(L_f)]\n",
    "    static_f2f2 = [[ liste[2],i,i] for i in range(L_f)]\n",
    "\n",
    "    static_bb = [[ liste[3],i,i] for i in range(L_b)]\n",
    "    static_bd = [[ liste[4],i,i] for i in range(L_b)]\n",
    "    static_db = [[ liste[4],i,i] for i in range(L_b)]\n",
    "    static_dd = [[ liste[5],i,i] for i in range(L_b)]\n",
    "    \n",
    "\n",
    "    static_t = [\n",
    "\n",
    "        [\"||+-|\",static_f1f1],\n",
    "        [\"||+|-\",static_f1f2],\n",
    "        [\"||-|+\",static_f2f1],\n",
    "        [\"|||+-\",static_f2f2],\n",
    "\n",
    "        [\"+-|||\",static_bb],\n",
    "        [\"+|-||\",static_bd],\n",
    "        [\"-|+||\",static_db],\n",
    "        [\"|+-||\",static_dd],\n",
    "\n",
    "    ]\n",
    "    T = hamiltonian(static_t, dynamic_list = [], basis=basis, **no_checks)\n",
    "    expon = T\n",
    "    return exp_op(1j*expon)\n",
    "\n",
    "\n",
    "def static(liste):\n",
    "    static_f1f1 = [[ liste[0],i,i] for i in range(L_f)]\n",
    "    static_f1f2 = [[ liste[1],i,i] for i in range(L_f)]\n",
    "    static_f2f1 = [[ liste[2],i,i] for i in range(L_f)]\n",
    "    static_f2f2 = [[ liste[3],i,i] for i in range(L_f)]\n",
    "\n",
    "    static_bb = [[ liste[4],i,i] for i in range(L_b)]\n",
    "    static_bd = [[ liste[5],i,i] for i in range(L_b)]\n",
    "    static_db = [[ liste[6],i,i] for i in range(L_b)]\n",
    "    static_dd = [[ liste[7],i,i] for i in range(L_b)]\n",
    "    \n",
    "\n",
    "    static_t = [\n",
    "\n",
    "        [\"||+-|\",static_f1f1],\n",
    "        [\"||+|-\",static_f1f2],\n",
    "        [\"||-|+\",static_f2f1],\n",
    "        [\"|||+-\",static_f2f2],\n",
    "\n",
    "        [\"+-|||\",static_bb],\n",
    "        [\"+|-||\",static_bd],\n",
    "        [\"-|+||\",static_db],\n",
    "        [\"|+-||\",static_dd],\n",
    "\n",
    "    ]\n",
    "    return static_t\n",
    "\n",
    "lissst = np.array([1+0.0005*i*(-1)**i for i in range(6)])\n",
    "print(np.size(lissst))\n",
    "#exp_TmTdagger(lissst).__init__(static(lissst),dynamic = [],basis=basis, check_herm = True)\n",
    "#for checking the Hermiticity of the operators"
   ]
  },
  {
   "cell_type": "code",
   "execution_count": 48,
   "id": "f1de78b8",
   "metadata": {},
   "outputs": [
    {
     "name": "stdout",
     "output_type": "stream",
     "text": [
      "Hermiticity check passed!\n"
     ]
    },
    {
     "name": "stderr",
     "output_type": "stream",
     "text": [
      "<ipython-input-48-e8f481678e7c>:27: UserWarning: Test for symmetries not implemented for <class 'quspin.basis.tensor.tensor_basis'>, to turn off this warning set check_symm=False in hamiltonian\n",
      "  T.__init__(static_t, dynamic_list = [],basis=basis, check_herm = True)\n",
      "<ipython-input-48-e8f481678e7c>:27: UserWarning: Test for particle conservation not implemented for <class 'quspin.basis.tensor.tensor_basis'>, to turn off this warning set check_pcon=False in hamiltonian\n",
      "  T.__init__(static_t, dynamic_list = [],basis=basis, check_herm = True)\n"
     ]
    }
   ],
   "source": [
    "static_f1f1 = [[ 1.,i,i] for i in range(L_f)]\n",
    "static_f1f2 = [[ 1.,i,i] for i in range(L_f)]\n",
    "static_f2f1 = [[ -1.,i,i] for i in range(L_f)]\n",
    "static_f2f2 = [[ 1.,i,i] for i in range(L_f)]\n",
    "\n",
    "static_bb = [[ 1.,i,i] for i in range(L_b)]\n",
    "static_bd = [[ 1.,i,i] for i in range(L_b)]\n",
    "static_db = [[ 1.,i,i] for i in range(L_b)]\n",
    "static_dd = [[ 1.,i,i] for i in range(L_b)]\n",
    "\n",
    "\n",
    "static_t = [\n",
    "\n",
    "    [\"||+-|\",static_f1f1],\n",
    "    [\"||+|-\",static_f1f2],\n",
    "    [\"||-|+\",static_f2f1],\n",
    "    [\"|||+-\",static_f2f2],\n",
    "\n",
    "    [\"+-|||\",static_bb],\n",
    "    [\"+|-||\",static_bd],\n",
    "    [\"-|+||\",static_db],\n",
    "    [\"|+-||\",static_dd],\n",
    "\n",
    "]\n",
    "T = hamiltonian(static_t, dynamic_list = [], basis=basis, **no_checks)\n",
    "\n",
    "T.__init__(static_t, dynamic_list = [],basis=basis, check_herm = True)\n"
   ]
  },
  {
   "cell_type": "code",
   "execution_count": 47,
   "id": "a73a0b0e",
   "metadata": {},
   "outputs": [
    {
     "name": "stdout",
     "output_type": "stream",
     "text": [
      "[[13.987+0.j  0.   +0.j  0.   +0.j ...  0.   +0.j  0.   +0.j  0.   +0.j]\n",
      " [ 0.   +0.j 12.986+0.j  0.   +0.j ...  0.   +0.j  0.   +0.j  0.   +0.j]\n",
      " [ 0.   +0.j  0.   +0.j 12.986+0.j ...  0.   +0.j  0.   +0.j  0.   +0.j]\n",
      " ...\n",
      " [ 0.   +0.j  0.   +0.j  0.   +0.j ...  1.001+0.j  0.   +0.j  0.   +0.j]\n",
      " [ 0.   +0.j  0.   +0.j  0.   +0.j ...  0.   +0.j  1.001+0.j  0.   +0.j]\n",
      " [ 0.   +0.j  0.   +0.j  0.   +0.j ...  0.   +0.j  0.   +0.j  0.   +0.j]]\n"
     ]
    }
   ],
   "source": [
    "t = T.toarray(0)\n",
    "print(t)"
   ]
  },
  {
   "cell_type": "code",
   "execution_count": 49,
   "id": "d437a78d",
   "metadata": {},
   "outputs": [],
   "source": [
    "S = exp_op(T,a=1j)\n",
    "smat = S.get_mat()\n",
    "mat_arr = smat.toarray()"
   ]
  },
  {
   "cell_type": "code",
   "execution_count": 50,
   "id": "da127572",
   "metadata": {},
   "outputs": [
    {
     "name": "stdout",
     "output_type": "stream",
     "text": [
      "[[1.+0.j 0.+0.j 0.+0.j ... 0.+0.j 0.+0.j 0.+0.j]\n",
      " [0.+0.j 1.+0.j 0.+0.j ... 0.+0.j 0.+0.j 0.+0.j]\n",
      " [0.+0.j 0.+0.j 1.+0.j ... 0.+0.j 0.+0.j 0.+0.j]\n",
      " ...\n",
      " [0.+0.j 0.+0.j 0.+0.j ... 1.+0.j 0.+0.j 0.+0.j]\n",
      " [0.+0.j 0.+0.j 0.+0.j ... 0.+0.j 1.+0.j 0.+0.j]\n",
      " [0.+0.j 0.+0.j 0.+0.j ... 0.+0.j 0.+0.j 1.+0.j]]\n"
     ]
    }
   ],
   "source": [
    "mat_arr_conj = mat_arr.conj().T\n",
    "\n",
    "a = np.dot(mat_arr_conj,mat_arr)\n",
    "print(a)"
   ]
  },
  {
   "cell_type": "code",
   "execution_count": 51,
   "id": "fc850778",
   "metadata": {},
   "outputs": [
    {
     "name": "stdout",
     "output_type": "stream",
     "text": [
      "0.9999999999999998\n",
      "0j\n",
      "0j\n",
      "0j\n",
      "(10.35000000000018+0j)\n"
     ]
    }
   ],
   "source": [
    "psi_0 = np.zeros(basis.Ns) # allocate space for state\n",
    "#1.\n",
    "i_0 = basis.index(\"21\",\"01\",\"101\",\"100\")\n",
    "i_1 = basis.index(\"21\",\"01\",\"100\",\"101\")\n",
    "\n",
    "#2.\n",
    "i_2 = basis.index(\"10\",\"12\",\"101\",\"001\")\n",
    "i_3 = basis.index(\"10\",\"12\",\"001\",\"101\")\n",
    "\n",
    "#3.\n",
    "i_4 = basis.index(\"22\",\"00\",\"110\",\"100\")\n",
    "i_5 = basis.index(\"22\",\"00\",\"100\",\"110\")\n",
    "\n",
    "#4.\n",
    "i_6 = basis.index(\"01\",\"21\",\"011\",\"010\")\n",
    "i_7 = basis.index(\"01\",\"21\",\"010\",\"011\")\n",
    "\n",
    "#5.\n",
    "i_8 = basis.index(\"12\",\"10\",\"110\",\"010\")\n",
    "i_9 = basis.index(\"12\",\"10\",\"010\",\"110\")\n",
    "\n",
    "#6.\n",
    "i_10 = basis.index(\"00\",\"22\",\"011\",\"001\")\n",
    "i_11 = basis.index(\"00\",\"22\",\"001\",\"011\")\n",
    "\n",
    "psi_0[i_0] =1./np.sqrt(8)\n",
    "psi_0[i_1] = -1./np.sqrt(8)\n",
    "psi_0[i_2] = 1./np.sqrt(8)\n",
    "psi_0[i_3] =-1./np.sqrt(8)\n",
    "#psi_0[i_4] = 1./np.sqrt(12)\n",
    "#psi_0[i_5] = -1./np.sqrt(12)\n",
    "psi_0[i_6] =1./np.sqrt(8)\n",
    "psi_0[i_7] = -1./np.sqrt(8)\n",
    "psi_0[i_8] = 1./np.sqrt(8)\n",
    "psi_0[i_9] =-1./np.sqrt(8)\n",
    "#psi_0[i_10] = 1./np.sqrt(12)\n",
    "#psi_0[i_11] = -1./np.sqrt(12)\n",
    "\n",
    "print(np.dot(psi_0,psi_0))\n",
    "print(Gauss_law_0.expt_value(psi_0))\n",
    "print(Gauss_law_1.expt_value(psi_0))\n",
    "print(Gauss_law_2.expt_value(psi_0))\n",
    "print(H_target.expt_value(psi_0))"
   ]
  },
  {
   "cell_type": "code",
   "execution_count": 53,
   "id": "d144c68f",
   "metadata": {},
   "outputs": [
    {
     "name": "stdout",
     "output_type": "stream",
     "text": [
      "[0. 0. 0. ... 0. 0. 0.]\n",
      "[0.+0.j 0.+0.j 0.+0.j ... 0.+0.j 0.+0.j 0.+0.j]\n",
      "0.9999999999999998\n",
      "(0.10840400674667286+0.032589739592626815j)\n"
     ]
    }
   ],
   "source": [
    "psi = mat_arr@psi_0\n",
    "print(psi_0)\n",
    "print(psi)\n",
    "print(np.dot(psi_0,psi_0))\n",
    "print(np.dot(psi,psi))"
   ]
  },
  {
   "cell_type": "code",
   "execution_count": 188,
   "id": "d9ce82e4",
   "metadata": {},
   "outputs": [
    {
     "name": "stdout",
     "output_type": "stream",
     "text": [
      "  (0, 0)\t(-0.9552377669095268-0.29583916013554185j)\n",
      "  (8, 1)\t(-0.6775685561900717-0.6070242288181752j)\n",
      "  (1, 1)\t(-0.276736658257406+0.3095791647813615j)\n",
      "  (16, 2)\t(-0.6775685561900717-0.6070242288181752j)\n",
      "  (2, 2)\t(-0.276736658257406+0.3095791647813615j)\n",
      "  (24, 3)\t(-0.3299219544388184-0.758970438343919j)\n",
      "  (17, 3)\t(-0.3462662663564309+0.15097222656066578j)\n",
      "  (10, 3)\t(0.3462662663564309-0.15097222656066572j)\n",
      "  (3, 3)\t(0.06908434401993238+0.15797737272289702j)\n",
      "  (32, 4)\t(-0.6775685561900717-0.6070242288181752j)\n",
      "  (4, 4)\t(-0.276736658257406+0.3095791647813615j)\n",
      "  (40, 5)\t(-0.3299219544388184-0.758970438343919j)\n",
      "  (33, 5)\t(-0.3462662663564309+0.15097222656066578j)\n",
      "  (12, 5)\t(0.3462662663564309-0.15097222656066572j)\n",
      "  (5, 5)\t(0.06908434401993238+0.15797737272289702j)\n",
      "  (48, 6)\t(-0.3299219544388184-0.758970438343919j)\n",
      "  (34, 6)\t(-0.3462662663564309+0.15097222656066578j)\n",
      "  (20, 6)\t(0.3462662663564309-0.15097222656066572j)\n",
      "  (6, 6)\t(0.06908434401993238+0.15797737272289702j)\n",
      "  (56, 7)\t(0.015167989356102977-0.752705173730007j)\n",
      "  (49, 7)\t(-0.3435791237751451-0.006546872961001549j)\n",
      "  (42, 7)\t(0.34357912377514505+0.006546872961001525j)\n",
      "  (35, 7)\t(-0.0028164382221530057+0.15682962808469797j)\n",
      "  (28, 7)\t(-0.3435791237751452-0.006546872961001671j)\n",
      "  (21, 7)\t(0.0028164382221530547-0.15682962808469778j)\n",
      "  :\t:\n",
      "  (5162, 5176)\t(-0.04370597729897763+0.15064279643509376j)\n",
      "  (5155, 5176)\t(0.3301365763499981+0.09539033911023576j)\n",
      "  (5148, 5176)\t(0.043705977298977725-0.1506427964350938j)\n",
      "  (5141, 5176)\t(-0.33013657634999816-0.09539033911023594j)\n",
      "  (5134, 5176)\t(0.3301365763499982+0.09539033911023585j)\n",
      "  (5127, 5176)\t(-0.20819063014492764+0.7234996945271531j)\n",
      "  (5177, 5177)\t(-0.11272786777677052+0.1304680984286825j)\n",
      "  (5163, 5177)\t(0.28610311832091706+0.24665349398732517j)\n",
      "  (5149, 5177)\t(-0.28610311832091717-0.24665349398732517j)\n",
      "  (5135, 5177)\t(0.5396870880599317-0.6273933927625337j)\n",
      "  (5178, 5178)\t(-0.11272786777677052+0.1304680984286825j)\n",
      "  (5171, 5178)\t(0.28610311832091706+0.24665349398732517j)\n",
      "  (5150, 5178)\t(-0.28610311832091717-0.24665349398732517j)\n",
      "  (5143, 5178)\t(0.5396870880599317-0.6273933927625337j)\n",
      "  (5179, 5179)\t(0.1727636673514299+0.37759125060505j)\n",
      "  (5151, 5179)\t(-0.8268206125786082+0.3794011561987306j)\n",
      "  (5180, 5180)\t(-0.11272786777677052+0.1304680984286825j)\n",
      "  (5173, 5180)\t(0.28610311832091706+0.24665349398732517j)\n",
      "  (5166, 5180)\t(-0.28610311832091717-0.24665349398732517j)\n",
      "  (5159, 5180)\t(0.5396870880599317-0.6273933927625337j)\n",
      "  (5181, 5181)\t(0.1727636673514299+0.37759125060505j)\n",
      "  (5167, 5181)\t(-0.8268206125786082+0.3794011561987306j)\n",
      "  (5182, 5182)\t(0.1727636673514299+0.37759125060505j)\n",
      "  (5175, 5182)\t(-0.8268206125786082+0.3794011561987306j)\n",
      "  (5183, 5183)\t(1+0j)\n"
     ]
    }
   ],
   "source": [
    "sconj = S.getH()\n",
    "print(np.dot(sconj.get_mat(),S.get_mat()))\n"
   ]
  },
  {
   "cell_type": "code",
   "execution_count": 168,
   "id": "ffb3efbf",
   "metadata": {
    "scrolled": true
   },
   "outputs": [],
   "source": [
    "t = T.toarray(0)\n",
    "T_mat_exp = expm(1j*t)\n"
   ]
  },
  {
   "cell_type": "code",
   "execution_count": 169,
   "id": "2714af85",
   "metadata": {},
   "outputs": [
    {
     "name": "stdout",
     "output_type": "stream",
     "text": [
      "[[1.+0.j 0.+0.j 0.+0.j ... 0.+0.j 0.+0.j 0.+0.j]\n",
      " [0.+0.j 1.+0.j 0.+0.j ... 0.+0.j 0.+0.j 0.+0.j]\n",
      " [0.+0.j 0.+0.j 1.+0.j ... 0.+0.j 0.+0.j 0.+0.j]\n",
      " ...\n",
      " [0.+0.j 0.+0.j 0.+0.j ... 1.+0.j 0.+0.j 0.+0.j]\n",
      " [0.+0.j 0.+0.j 0.+0.j ... 0.+0.j 1.+0.j 0.+0.j]\n",
      " [0.+0.j 0.+0.j 0.+0.j ... 0.+0.j 0.+0.j 1.+0.j]]\n"
     ]
    }
   ],
   "source": [
    "exp_conj = np.matrix.getH(T_mat_exp)\n",
    "print(np.dot(exp_conj, T_mat_exp))"
   ]
  },
  {
   "cell_type": "code",
   "execution_count": 185,
   "id": "349d5a9b",
   "metadata": {},
   "outputs": [
    {
     "name": "stdout",
     "output_type": "stream",
     "text": [
      "(0.1097292553171917-0.031320040729015335j)\n"
     ]
    }
   ],
   "source": [
    "psi = T.evolve(psi_0,0,1)\n",
    "print(np.dot(psi,psi))"
   ]
  },
  {
   "cell_type": "code",
   "execution_count": 182,
   "id": "50260fca",
   "metadata": {},
   "outputs": [
    {
     "name": "stdout",
     "output_type": "stream",
     "text": [
      "0.9999999999999998\n",
      "0j\n",
      "0j\n",
      "0j\n",
      "(10.35000000000018+0j)\n"
     ]
    }
   ],
   "source": []
  },
  {
   "cell_type": "code",
   "execution_count": 133,
   "id": "4f92b41c",
   "metadata": {},
   "outputs": [
    {
     "name": "stdout",
     "output_type": "stream",
     "text": [
      "(10.35000000000018+0j)\n"
     ]
    }
   ],
   "source": [
    "#print(H_target.expt_value(S.dot(psi_0)))\n",
    "print(H_target.expt_value(psi_0))\n",
    "#print(np.dot(S.dot(psi_0),psi_0))"
   ]
  },
  {
   "cell_type": "code",
   "execution_count": 140,
   "id": "1df87624",
   "metadata": {},
   "outputs": [
    {
     "name": "stdout",
     "output_type": "stream",
     "text": [
      "[0. 0. 0. ... 0. 0. 0.]\n",
      "[0.+0.j 0.+0.j 0.+0.j ... 0.+0.j 0.+0.j 0.+0.j]\n",
      "0.9999999999999998\n",
      "(0.10972929465110222+0.03132005872189506j)\n"
     ]
    }
   ],
   "source": []
  },
  {
   "cell_type": "code",
   "execution_count": null,
   "id": "4177bd6d",
   "metadata": {},
   "outputs": [],
   "source": [
    "\n",
    "def extract_energy(a):\n",
    "    psi_0 = np.array([complex(0) for i in range(basis.Ns)]) # allocate space for state\n",
    "    i_0 = basis.index(\"11\",\"11\",\"000\",\"000\")\n",
    "    cost_function = np.real(H_target.expt_value(psi_0)) + 1000*(np.real(Gauss_quadrat_0.expt_value(psi_0))+np.real(Gauss_quadrat_1.expt_value(psi_0))+np.real(Gauss_quadrat_2.expt_value(psi_0)))\n",
    "    return cost_function\n",
    "\n",
    "\n",
    "from scipy.optimize import brute\n",
    "from scipy.optimize import minimize\n",
    "import datetime\n",
    "brute_ranges = (slice(-5.,5.,1.),slice(-5.,5.,1.),slice(-5.,5.,1.),slice(-5.,5.,1.),slice(-5.,5.,1.),slice(-5.,5.,1.))\n",
    "resbrute = 0\n",
    "resopt = 0\n",
    "print(datetime.datetime.now())\n",
    "resbrute = brute(extract_energy, brute_ranges ,full_output = True)\n",
    "print(datetime.datetime.now())\n",
    "resopt = minimize(fun = extract_energy,x0 = resbrute[0],method = \"Nelder-Mead\" ,tol = 1e-8)\n",
    "print(datetime.datetime.now())\n",
    "print(resopt.x)\n",
    "print(resopt.fun)"
   ]
  },
  {
   "cell_type": "code",
   "execution_count": 2,
   "id": "a3b34080",
   "metadata": {},
   "outputs": [],
   "source": [
    "eigenvalues, eigenvectors = H_target.eigh()"
   ]
  },
  {
   "cell_type": "code",
   "execution_count": 14,
   "id": "442f14ed",
   "metadata": {},
   "outputs": [
    {
     "name": "stdout",
     "output_type": "stream",
     "text": [
      "(0.10121548771756084+0j)\n",
      "523\n",
      "(0.02912872723883702+0j)\n",
      "537\n",
      "(0.1348156618495796+0j)\n",
      "1043\n",
      "(0.16612423347744248+0j)\n",
      "1050\n",
      "(0.3107243144668309+0j)\n",
      "2574\n",
      "(0.3107243144668274+0j)\n",
      "2595\n",
      "(0.2814102412385909+0j)\n",
      "2602\n",
      "(0.3536537458630974+0j)\n",
      "2616\n",
      "(0.1661242334774395+0j)\n",
      "4133\n",
      "(0.13481566184958158+0j)\n",
      "4140\n"
     ]
    }
   ],
   "source": [
    "gauss_law = Gauss_law_2.dot(eigenvectors[:,0])\n",
    "for i in range(len(gauss_law)):\n",
    "    if np.abs(gauss_law[i]) >= 1e-3:\n",
    "        print(i)\n",
    "        print(gauss_law[i])\n",
    "    if eigenvectors[i][0] >= 1e-5:\n",
    "        print(eigenvectors[i][0])\n",
    "        print(i)"
   ]
  },
  {
   "cell_type": "code",
   "execution_count": 137,
   "id": "53e4ef9a",
   "metadata": {},
   "outputs": [
    {
     "name": "stdout",
     "output_type": "stream",
     "text": [
      "0j\n",
      "0j\n",
      "0j\n",
      "(13.700000000000246+0j)\n",
      "1.0000000000000002\n"
     ]
    }
   ],
   "source": [
    "psi_0 = np.zeros(basis.Ns) # allocate space for state\n",
    "i_0 = basis.index(\"21\",\"01\",\"101\",\"100\")\n",
    "i_1 = basis.index(\"21\",\"01\",\"100\",\"101\")\n",
    "\n",
    "\n",
    "i_2 = basis.index(\"10\",\"12\",\"101\",\"001\")\n",
    "i_3 = basis.index(\"10\",\"12\",\"001\",\"101\")\n",
    "\n",
    "\n",
    "i_4 = basis.index(\"22\",\"00\",\"110\",\"100\")\n",
    "i_5 = basis.index(\"22\",\"00\",\"100\",\"110\")\n",
    "\n",
    "\n",
    "psi_0[i_0] =1./np.sqrt(6)\n",
    "psi_0[i_1] = -1./np.sqrt(6)\n",
    "psi_0[i_2] = 1./np.sqrt(6)\n",
    "psi_0[i_3] =-1./np.sqrt(6)\n",
    "psi_0[i_4] = 1./np.sqrt(6)\n",
    "psi_0[i_5] = -1./np.sqrt(6)\n",
    "print(Gauss_law_0.expt_value(psi_0))\n",
    "print(Gauss_law_1.expt_value(psi_0))\n",
    "print(Gauss_law_2.expt_value(psi_0))\n",
    "print(H_target.expt_value(psi_0))\n",
    "print(np.dot(psi_0,psi_0))"
   ]
  },
  {
   "cell_type": "code",
   "execution_count": 12,
   "id": "c5fa8673",
   "metadata": {},
   "outputs": [
    {
     "name": "stdout",
     "output_type": "stream",
     "text": [
      "1.0\n",
      "1.0\n",
      "1.0\n",
      "0.1000000000003638\n"
     ]
    }
   ],
   "source": [
    "a = np.array([1.,2.,3.])\n",
    "psi_0 = np.zeros(basis.Ns) # allocate space for state\n",
    "psi_1 = np.zeros(basis.Ns) # allocate space for state\n",
    "psi_2 = np.zeros(basis.Ns) # allocate space for state\n",
    "\n",
    "i_0 = basis.index(\"21\",\"01\",\"101\",\"100\")\n",
    "i_1 = basis.index(\"10\",\"12\",\"101\",\"001\")\n",
    "i_2 = basis.index(\"22\",\"00\",\"110\",\"100\")\n",
    "\n",
    "psi_0[i_0] =1.\n",
    "psi_1[i_1] = 1.\n",
    "psi_2[i_2] = 1.\n",
    "\n",
    "print(np.dot(psi_0,psi_0))\n",
    "print(np.dot(psi_1,psi_1))\n",
    "print(np.dot(psi_2,psi_2))\n",
    "print(np.real(H_target.expt_value(psi_2)) + 1000*(np.real(Gauss_quadrat_0.expt_value(psi_2))+np.real(Gauss_quadrat_1.expt_value(psi_2))+np.real(Gauss_quadrat_2.expt_value(psi_2))))"
   ]
  },
  {
   "cell_type": "code",
   "execution_count": 9,
   "id": "212762a7",
   "metadata": {},
   "outputs": [
    {
     "name": "stdout",
     "output_type": "stream",
     "text": [
      "2021-12-14 10:58:18.393008\n"
     ]
    },
    {
     "name": "stderr",
     "output_type": "stream",
     "text": [
      "<ipython-input-9-ec106da6d276>:7: RuntimeWarning: invalid value encountered in cdouble_scalars\n",
      "  psi_0[i_0] =(a[0]+1j*a[1])/np.sqrt(a[0]**2+a[1]**2+a[2]**2+a[3]**2+a[4]**2+a[5]**2)\n",
      "<ipython-input-9-ec106da6d276>:8: RuntimeWarning: invalid value encountered in cdouble_scalars\n",
      "  psi_0[i_1] = (a[2]+1j*a[3])/np.sqrt(a[0]**2+a[1]**2+a[2]**2+a[3]**2+a[4]**2+a[5]**2)\n",
      "<ipython-input-9-ec106da6d276>:9: RuntimeWarning: invalid value encountered in cdouble_scalars\n",
      "  psi_0[i_2] = (a[4]+1j*a[5])/np.sqrt(a[0]**2+a[1]**2+a[2]**2+a[3]**2+a[4]**2+a[5]**2)\n"
     ]
    },
    {
     "name": "stdout",
     "output_type": "stream",
     "text": [
      "2021-12-14 11:13:33.573151\n",
      "2021-12-14 11:13:33.661086\n",
      "[ 6.25655088e-05  6.23050905e-05  6.25655088e-05  6.25655088e-05\n",
      " -5.14431918e-13 -1.68695814e-12]\n",
      "0.050000000000181885\n"
     ]
    }
   ],
   "source": [
    "def extract_energy(a):\n",
    "    psi_0 = np.array([complex(0) for i in range(basis.Ns)]) # allocate space for state\n",
    "    i_0 = basis.index(\"11\",\"11\",\"000\",\"000\")\n",
    "    cost_function = np.real(H_target.expt_value(psi_0)) + 1000*(np.real(Gauss_quadrat_0.expt_value(psi_0))+np.real(Gauss_quadrat_1.expt_value(psi_0))+np.real(Gauss_quadrat_2.expt_value(psi_0)))\n",
    "    return cost_function\n",
    "\n",
    "\n",
    "from scipy.optimize import brute\n",
    "from scipy.optimize import minimize\n",
    "import datetime\n",
    "brute_ranges = (slice(-5.,5.,1.),slice(-5.,5.,1.),slice(-5.,5.,1.),slice(-5.,5.,1.),slice(-5.,5.,1.),slice(-5.,5.,1.))\n",
    "resbrute = 0\n",
    "resopt = 0\n",
    "print(datetime.datetime.now())\n",
    "resbrute = brute(extract_energy, brute_ranges ,full_output = True)\n",
    "print(datetime.datetime.now())\n",
    "resopt = minimize(fun = extract_energy,x0 = resbrute[0],method = \"Nelder-Mead\" ,tol = 1e-8)\n",
    "print(datetime.datetime.now())\n",
    "print(resopt.x)\n",
    "print(resopt.fun)"
   ]
  },
  {
   "cell_type": "code",
   "execution_count": null,
   "id": "eba0fd9a",
   "metadata": {},
   "outputs": [],
   "source": []
  },
  {
   "cell_type": "code",
   "execution_count": 2,
   "id": "ff4fcf4f",
   "metadata": {},
   "outputs": [],
   "source": [
    "ei,eiv = H_coh.eigh()\n",
    "psi_0 = eiv[:,0]"
   ]
  },
  {
   "cell_type": "code",
   "execution_count": 49,
   "id": "7f0d53c9",
   "metadata": {},
   "outputs": [],
   "source": [
    "H_ini = H_mix + 1e3*(Gauss_quadrat_0 + Gauss_quadrat_1 + Gauss_quadrat_2)\n",
    "ei,eiv = H_mix.eigh()\n",
    "psi_0 = eiv[:,0]"
   ]
  },
  {
   "cell_type": "code",
   "execution_count": 36,
   "id": "53600f86",
   "metadata": {},
   "outputs": [
    {
     "name": "stdout",
     "output_type": "stream",
     "text": [
      "-0.013999964992060968\n"
     ]
    }
   ],
   "source": [
    "print(ei[0])"
   ]
  },
  {
   "cell_type": "code",
   "execution_count": 75,
   "id": "c059d01a",
   "metadata": {},
   "outputs": [
    {
     "name": "stdout",
     "output_type": "stream",
     "text": [
      "0.9999999999999996\n"
     ]
    }
   ],
   "source": [
    "print(np.dot(psi_0,psi_0))"
   ]
  },
  {
   "cell_type": "code",
   "execution_count": 82,
   "id": "d09cd368",
   "metadata": {},
   "outputs": [],
   "source": [
    "eigval,eigvec = H_mix.eigh()\n",
    "psi_0 = eigvec[:,0]"
   ]
  },
  {
   "cell_type": "code",
   "execution_count": null,
   "id": "af928ad3",
   "metadata": {},
   "outputs": [],
   "source": [
    "#the bare vacuum is the 40th eigenvector of H_mass!"
   ]
  },
  {
   "cell_type": "code",
   "execution_count": 80,
   "id": "1dc8b099",
   "metadata": {},
   "outputs": [
    {
     "name": "stdout",
     "output_type": "stream",
     "text": [
      "(8.881784197001252e-16+0j)\n"
     ]
    }
   ],
   "source": [
    "print(H_target.expt_value(psi_0))"
   ]
  },
  {
   "cell_type": "code",
   "execution_count": 35,
   "id": "a70942c6",
   "metadata": {},
   "outputs": [
    {
     "name": "stdout",
     "output_type": "stream",
     "text": [
      "static mat: \n",
      "\n",
      "\n",
      "\n",
      "dynamic:\n",
      "\n"
     ]
    }
   ],
   "source": [
    "com = commutator(H_R1, H_R2)\n",
    "#print(com)\n",
    "com_second = commutator(H_R6,com)\n",
    "com_third = commutator(H_R6,com_second)\n",
    "com_fourth = commutator(H_R6,com_third)\n",
    "com_fifth = commutator(H_R6,com_fourth)\n",
    "com_sixth = commutator(H_R6,com_fifth)\n",
    "com_seventh = commutator(H_R6,com_sixth)\n",
    "\n",
    "#print(com_seventh)\n",
    "print(com)"
   ]
  },
  {
   "cell_type": "code",
   "execution_count": 11,
   "id": "bf9a323d",
   "metadata": {},
   "outputs": [],
   "source": [
    "psi_0 = np.zeros(basis.Ns) # allocate space for state\n",
    "i_0 = basis.index(\"11\",\"11\",\"110\",\"001\")\n",
    "i_1 = basis.index(\"22\",\"00\",\"110\",\"100\")\n",
    "i_2 = basis.index(\"00\",\"22\",\"011\",\"001\")\n",
    "\n",
    "psi_0[i_0] = -1./2\n",
    "psi_0[i_1] = 1./np.sqrt(6)\n",
    "psi_0[i_2] = np.sqrt(7)/np.sqrt(12)"
   ]
  },
  {
   "cell_type": "code",
   "execution_count": 5,
   "id": "ac29873e",
   "metadata": {},
   "outputs": [
    {
     "name": "stdout",
     "output_type": "stream",
     "text": [
      "0j\n",
      "(0.1000000000003638+0j)\n",
      "(0.07500000000027285+0j)\n"
     ]
    }
   ],
   "source": [
    "psi_a = np.zeros(basis.Ns)\n",
    "psi_b = np.zeros(basis.Ns)\n",
    "psi_a[i_0] = 1.\n",
    "psi_b[i_1] = 1.\n",
    "print(H_target.expt_value(psi_a))\n",
    "print(H_target.expt_value(psi_b))\n",
    "print(H_target.expt_value(psi_0))"
   ]
  },
  {
   "cell_type": "code",
   "execution_count": 5,
   "id": "851e3036",
   "metadata": {},
   "outputs": [],
   "source": [
    "eigenvalues, eigenvectors = H_target.eigh() "
   ]
  },
  {
   "cell_type": "code",
   "execution_count": 10,
   "id": "726c8304",
   "metadata": {},
   "outputs": [
    {
     "name": "stdout",
     "output_type": "stream",
     "text": [
      "-35.690081555671895\n"
     ]
    }
   ],
   "source": [
    "print(eigenvalues[0])"
   ]
  },
  {
   "cell_type": "code",
   "execution_count": 39,
   "id": "5054b45b",
   "metadata": {},
   "outputs": [],
   "source": [
    "gauss_law = Gauss_law_2.dot(psi_0)\n",
    "for i in range(len(gauss_law)):\n",
    "    if np.abs(gauss_law[i]) >= 1e-3:\n",
    "        print(i)\n",
    "        print(gauss_law[i])"
   ]
  },
  {
   "cell_type": "code",
   "execution_count": 7,
   "id": "08ea44e0",
   "metadata": {},
   "outputs": [
    {
     "name": "stdout",
     "output_type": "stream",
     "text": [
      "0  with eigenvalue: -35.690081555671895\n",
      "25  with eigenvalue: -26.255814330486572\n",
      "63  with eigenvalue: -18.233420409562463\n",
      "112  with eigenvalue: -12.67532050147576\n",
      "140  with eigenvalue: -10.24961044216821\n",
      "232  with eigenvalue: -4.6351163184185395\n",
      "243  with eigenvalue: -0.8585040415947308\n",
      "332  with eigenvalue: 0.9347518315496658\n",
      "348  with eigenvalue: 4.768292700699911\n",
      "417  with eigenvalue: 10.349602336459215\n",
      "454  with eigenvalue: 12.726987679893101\n",
      "517  with eigenvalue: 18.36475921447891\n",
      "550  with eigenvalue: 26.34053230889466\n",
      "575  with eigenvalue: 35.712941527403544\n",
      "3136  with eigenvalue: 3966.805850539433\n",
      "3137  with eigenvalue: 3966.8058505394347\n",
      "3138  with eigenvalue: 3966.9058505394314\n",
      "3139  with eigenvalue: 3966.9058505394323\n",
      "3204  with eigenvalue: 3979.724968750049\n",
      "3205  with eigenvalue: 3979.724968750049\n",
      "3206  with eigenvalue: 3979.8249687500493\n",
      "3207  with eigenvalue: 3979.8249687500493\n",
      "3264  with eigenvalue: 3987.405850539434\n",
      "3265  with eigenvalue: 3987.405850539434\n",
      "3266  with eigenvalue: 3987.505850539431\n",
      "3267  with eigenvalue: 3987.5058505394327\n",
      "3282  with eigenvalue: 3989.740464536554\n",
      "3283  with eigenvalue: 3989.740464536554\n",
      "3322  with eigenvalue: 3989.8404645365517\n",
      "3323  with eigenvalue: 3989.8404645365536\n",
      "3452  with eigenvalue: 3999.725031249951\n",
      "3453  with eigenvalue: 3999.725031249952\n",
      "3454  with eigenvalue: 3999.8250312499504\n",
      "3455  with eigenvalue: 3999.825031249952\n",
      "3584  with eigenvalue: 4000.3249687500484\n",
      "3585  with eigenvalue: 4000.32496875005\n",
      "3586  with eigenvalue: 4000.4249687500487\n",
      "3587  with eigenvalue: 4000.4249687500487\n",
      "3690  with eigenvalue: 4010.3404645365526\n",
      "3691  with eigenvalue: 4010.3404645365536\n",
      "3730  with eigenvalue: 4010.440464536551\n",
      "3731  with eigenvalue: 4010.440464536553\n",
      "3772  with eigenvalue: 4012.6036849240145\n",
      "3773  with eigenvalue: 4012.6036849240145\n",
      "3774  with eigenvalue: 4012.703684924012\n",
      "3775  with eigenvalue: 4012.703684924012\n",
      "3832  with eigenvalue: 4020.325031249952\n",
      "3833  with eigenvalue: 4020.325031249952\n",
      "3834  with eigenvalue: 4020.4250312499516\n",
      "3835  with eigenvalue: 4020.4250312499526\n",
      "3900  with eigenvalue: 4033.203684924014\n",
      "3901  with eigenvalue: 4033.2036849240158\n",
      "3902  with eigenvalue: 4033.3036849240134\n",
      "3903  with eigenvalue: 4033.3036849240134\n",
      "4928  with eigenvalue: 7969.1\n",
      "4929  with eigenvalue: 7969.199999999999\n",
      "4930  with eigenvalue: 7969.200000000001\n",
      "4931  with eigenvalue: 7969.3\n",
      "5180  with eigenvalue: 8030.900000000001\n",
      "5181  with eigenvalue: 8031.0\n",
      "5182  with eigenvalue: 8031.000000000003\n",
      "5183  with eigenvalue: 8031.099999999999\n"
     ]
    }
   ],
   "source": [
    "for i in range(len(eigenvalues)):\n",
    "    if (np.abs(Gauss_law_0.expt_value(eigenvectors[:,i]))<=1e-8 and \n",
    "        np.abs(Gauss_law_1.expt_value(eigenvectors[:,i]))<=1e-8 and\n",
    "        np.abs(Gauss_law_2.expt_value(eigenvectors[:,i]))<=1e-8):\n",
    "        print(i,\" with eigenvalue:\", eigenvalues[i])\n",
    "        "
   ]
  },
  {
   "cell_type": "code",
   "execution_count": 4,
   "id": "447ebaf9",
   "metadata": {},
   "outputs": [],
   "source": []
  },
  {
   "cell_type": "code",
   "execution_count": 24,
   "id": "ddc32094",
   "metadata": {},
   "outputs": [
    {
     "name": "stdout",
     "output_type": "stream",
     "text": [
      "(0.09285498883973788+0j)\n",
      "(-0.09285335486723861+0j)\n",
      "(0.09285498883957403+0j)\n"
     ]
    }
   ],
   "source": [
    "#print(Gauss_law_0.expt_value(eigenvectors[:,0]))\n",
    "#print(Gauss_law_1.expt_value(eigenvectors[:,0]))\n",
    "#print(Gauss_law_2.expt_value(eigenvectors[:,0]))\n",
    "psi_0 = eiv[:,0]\n",
    "print(Gauss_law_0.expt_value(psi_0))\n",
    "print(Gauss_law_1.expt_value(psi_0))\n",
    "print(Gauss_law_2.expt_value(psi_0))"
   ]
  },
  {
   "cell_type": "code",
   "execution_count": 12,
   "id": "8209a9cc",
   "metadata": {},
   "outputs": [
    {
     "name": "stdout",
     "output_type": "stream",
     "text": [
      "2021-12-13 17:04:21.312927\n",
      "2486.6103781779175\n",
      "2021-12-13 17:04:21.344337\n"
     ]
    }
   ],
   "source": [
    "import datetime\n",
    "print(datetime.datetime.now())\n",
    "print(extract_energy(np.array([1.,2.,3.,4.]),psi_0,1))\n",
    "print(datetime.datetime.now())"
   ]
  },
  {
   "cell_type": "code",
   "execution_count": 11,
   "id": "f4aa0070",
   "metadata": {},
   "outputs": [
    {
     "name": "stdout",
     "output_type": "stream",
     "text": [
      "485.3920979321217\n",
      "0.06666666666690922\n"
     ]
    }
   ],
   "source": [
    "#psi_0 = eigenvectors_R1[:,0]\n",
    "\n",
    "psi_t0 = H_R1.evolve(psi_0,0.0,10.)\n",
    "psi_t1 = H_R2.evolve(psi_t0,0.0,10.)\n",
    "psi_t2 = H_R3.evolve(psi_t1,0.0,10.)\n",
    "psi_t3 = H_R4.evolve(psi_t2,0.0,10.)\n",
    "psi_t4 = H_R5.evolve(psi_t3,0.0,10.)\n",
    "psi_t5 = H_R6.evolve(psi_t4,0.0,10.)\n",
    "psi_t6 = H_R1.evolve(psi_t5,0.0,10.)\n",
    "\n",
    "print(np.real(H_target.expt_value(psi_t6)))\n",
    "#print(Gauss_law_1.expt_value(psi_0))\n",
    "#print(Gauss_law_1.expt_value(psi_t2))\n",
    "#print(np.real(H_target.expt_value(eigenvectors[:,0]/np.sqrt(2)+eigenvectors[:,1]/np.sqrt(2))))\n",
    "#print(np.dot(psi_0,psi_t3))\n",
    "print(np.real(H_target.expt_value(psi_0)))\n"
   ]
  },
  {
   "cell_type": "code",
   "execution_count": 6,
   "id": "1add9e83",
   "metadata": {},
   "outputs": [],
   "source": [
    "Gauss_quadrat_0 = Gauss_law_0*Gauss_law_0\n",
    "Gauss_quadrat_1 = Gauss_law_1*Gauss_law_1\n",
    "Gauss_quadrat_2 = Gauss_law_2*Gauss_law_2"
   ]
  },
  {
   "cell_type": "code",
   "execution_count": 26,
   "id": "c4f7195d",
   "metadata": {},
   "outputs": [],
   "source": [
    "def extract_energy(theta,psi,a):\n",
    "    psi_t0 = H_R1.evolve(psi,0.0,theta[0])\n",
    "    psi_t1 = H_Rb1.evolve(psi_t0,0.0,theta[1])\n",
    "    psi_t2 = H_Rb2.evolve(psi_t1,0.0,theta[2])\n",
    "    psi_t3 = H_Rd1.evolve(psi_t2,0.0,theta[3])\n",
    "    psi_t4 = H_Rd2.evolve(psi_t3,0.0,theta[4])\n",
    "    psi_t5 = H_R5.evolve(psi_t4,0.0,theta[5])\n",
    "    psi_t6 = H_R6.evolve(psi_t5,0.0,2*theta[6])\n",
    "    psi_t7 = H_R5.evolve(psi_t6,0.0,theta[5])\n",
    "    psi_t8 = H_Rb1.evolve(psi_t7,0.0,theta[1])\n",
    "    psi_t9 = H_Rb2.evolve(psi_t8,0.0,theta[2])\n",
    "    psi_t10 = H_Rd1.evolve(psi_t9,0.0,theta[3])\n",
    "    psi_t11 = H_Rd2.evolve(psi_t10,0.0,theta[4])\n",
    "    psi_t12 = H_R1.evolve(psi_t11,0.0,theta[0])\n",
    "\n",
    "\n",
    "\n",
    "    #cost_function = np.real(H_R5.expt_value(psi_t8)) + np.real(H_R6.expt_value(psi_t8))\n",
    "    cost_function = np.real(H_target.expt_value(psi_t12)) + 1000*(np.real(Gauss_quadrat_0.expt_value(psi_t12))+np.real(Gauss_quadrat_1.expt_value(psi_t12))+np.real(Gauss_quadrat_2.expt_value(psi_t12)))\n",
    "    return cost_function\n",
    "\n",
    "def extract_state(theta,psi):\n",
    "    psi_t0 = H_R1.evolve(psi,0.0,theta[0])\n",
    "    psi_t1 = H_Rb1.evolve(psi_t0,0.0,theta[1])\n",
    "    psi_t2 = H_Rb2.evolve(psi_t1,0.0,theta[2])\n",
    "    psi_t3 = H_Rd1.evolve(psi_t2,0.0,theta[3])\n",
    "    psi_t4 = H_Rd2.evolve(psi_t3,0.0,theta[4])\n",
    "    psi_t5 = H_R5.evolve(psi_t4,0.0,theta[5])\n",
    "    psi_t6 = H_R6.evolve(psi_t5,0.0,2*theta[6])\n",
    "    psi_t7 = H_R5.evolve(psi_t6,0.0,theta[5])\n",
    "    psi_t8 = H_Rb1.evolve(psi_t7,0.0,theta[1])\n",
    "    psi_t9 = H_Rb2.evolve(psi_t8,0.0,theta[2])\n",
    "    psi_t10 = H_Rd1.evolve(psi_t9,0.0,theta[3])\n",
    "    psi_t11 = H_Rd2.evolve(psi_t10,0.0,theta[4])\n",
    "    psi_t12 = H_R1.evolve(psi_t11,0.0,theta[0])\n",
    "    \n",
    "    psi_final = psi_t12\n",
    "    \n",
    "    return psi_final\n",
    "\n",
    "\n",
    "NN = 3 #number of iterations\n",
    "res_theta_0 = np.zeros(NN+1)\n",
    "res_theta_1 = np.zeros(NN+1)\n",
    "res_theta_2 = np.zeros(NN+1)\n",
    "res_theta_3 = np.zeros(NN+1)\n",
    "res_theta_4 = np.zeros(NN+1)\n",
    "res_theta_5 = np.zeros(NN+1)\n",
    "res_theta_6 = np.zeros(NN+1)\n",
    "\n",
    "\n",
    "\n",
    "res_theta_0[0] = 0.\n",
    "res_theta_1[0] = 0.\n",
    "res_theta_2[0] = 0.\n",
    "res_theta_3[0] = 0.\n",
    "res_theta_4[0] = 0.\n",
    "res_theta_5[0] = 0.\n",
    "res_theta_6[0] = 0.\n",
    "\n",
    "\n",
    "psi_ini = np.array([[complex(0.) for i in range(basis.Ns)]for j in range(NN+1)])\n",
    "psi_ini[0] = psi_0\n",
    "\n",
    "res_energy = np.zeros(NN+1)\n",
    "res_energy[0] = extract_energy(np.zeros(7),psi_0,1)\n",
    "#res_energy[0] = np.real(H_R5.expt_value(psi_ini[0]))+np.real(H_R6.expt_value(psi_ini[0]))\n",
    "\n",
    "\n",
    "\n",
    "res_gauss_law = np.array([complex(0.) for i in range(NN+1)])\n",
    "res_gauss_law[0] = np.real(Gauss_quadrat_0.expt_value(psi_ini[0])) + np.real(Gauss_quadrat_1.expt_value(psi_ini[0])) + np.real(Gauss_quadrat_2.expt_value(psi_ini[0]))\n",
    "\n",
    "#print(extract_state(np.array([res_theta_0[0],res_theta_1[0],res_theta_2[0]]),psi_ini[0]))\n",
    "#print(res_gauss_law)\n",
    "#print(np.dot(extract_state(np.array([res_theta_0[0],res_theta_1[0],res_theta_2[0]]),psi_ini[0]),psi_0))"
   ]
  },
  {
   "cell_type": "code",
   "execution_count": null,
   "id": "6d401bb2",
   "metadata": {},
   "outputs": [
    {
     "name": "stdout",
     "output_type": "stream",
     "text": [
      "2021-12-16 16:19:11.696731\n"
     ]
    }
   ],
   "source": [
    "from scipy.optimize import brute\n",
    "from scipy.optimize import minimize\n",
    "import datetime\n",
    "brute_ranges = (slice(-0.02,10.,2.),slice(-0.02,10.,2.),slice(-0.02,10.,2.),slice(-0.02,10.,2.),slice(-0.02,10.,2.),slice(-0.02,10.,2.),slice(-0.02,10.,2.))\n",
    "for i in range(NN):\n",
    "    resbrute = 0\n",
    "    resopt = 0\n",
    "    print(datetime.datetime.now())\n",
    "    resbrute = brute(extract_energy, brute_ranges, args = (psi_ini[i],1) ,full_output = True)\n",
    "    print(datetime.datetime.now())\n",
    "    resopt = minimize(fun = extract_energy,x0 = resbrute[0],args = (psi_ini[i],1),method = \"Nelder-Mead\" ,tol = 1e-8)\n",
    "    print(datetime.datetime.now())\n",
    "    res_theta_0[i+1] = resopt.x[0]\n",
    "    res_theta_1[i+1] = resopt.x[1]\n",
    "    res_theta_2[i+1] = resopt.x[2]\n",
    "    res_theta_3[i+1] = resopt.x[3]\n",
    "\n",
    "\n",
    "    res_energy[i+1] = resopt.fun\n",
    "    \n",
    "    psi_ini[i+1] = extract_state(resopt.x,psi_ini[i])\n",
    "    res_gauss_law[i+1] = (Gauss_law_0.expt_value(extract_state(resopt.x,psi_ini[i])))**2 + (Gauss_law_1.expt_value(extract_state(resopt.x,psi_ini[i])))**2 + (Gauss_law_2.expt_value(extract_state(resopt.x,psi_ini[i])))**2\n"
   ]
  },
  {
   "cell_type": "code",
   "execution_count": 140,
   "id": "0f86f808",
   "metadata": {},
   "outputs": [
    {
     "name": "stdout",
     "output_type": "stream",
     "text": [
      "[13.7       -8.4166647 -8.4166647 -8.4166647]\n"
     ]
    }
   ],
   "source": [
    "#N=15, psi_0 is the ground state of mix+\n",
    "print(res_energy)\n",
    "#print(res_gauss_law)\n",
    "#print(res_theta_0)\n",
    "#print(res_theta_1)\n",
    "#print(res_theta_2)\n",
    "#print(res_theta_3)"
   ]
  },
  {
   "cell_type": "code",
   "execution_count": null,
   "id": "6577a0b8",
   "metadata": {},
   "outputs": [],
   "source": [
    "#N=20, psi_0 is the ground state of mix++\n",
    "print(res_energy)\n",
    "#print(res_gauss_law)\n",
    "#print(res_theta_0)\n",
    "#print(res_theta_1)\n",
    "#print(res_theta_2)\n",
    "#print(res_theta_3)"
   ]
  },
  {
   "cell_type": "code",
   "execution_count": 15,
   "id": "80edc632",
   "metadata": {},
   "outputs": [
    {
     "name": "stdout",
     "output_type": "stream",
     "text": [
      "[ 10.35      -10.2499997 -10.2499997 -10.2499997]\n"
     ]
    }
   ],
   "source": [
    "#N=15, psi_0 is the ground state of mix+\n",
    "print(res_energy)\n",
    "#print(res_gauss_law)\n",
    "#print(res_theta_0)\n",
    "#print(res_theta_1)\n",
    "#print(res_theta_2)\n",
    "#print(res_theta_3)"
   ]
  },
  {
   "cell_type": "code",
   "execution_count": 34,
   "id": "57e26903",
   "metadata": {},
   "outputs": [
    {
     "name": "stdout",
     "output_type": "stream",
     "text": [
      "(6.228882153892714+0j)\n",
      "(7.374715206103696-1.3931997916438732e-16j)\n"
     ]
    }
   ],
   "source": [
    "print(H_target.expt_value(psi_ini[0]))\n",
    "print(H_target.expt_value(psi_ini[10]))"
   ]
  },
  {
   "cell_type": "code",
   "execution_count": 29,
   "id": "b0708540",
   "metadata": {},
   "outputs": [
    {
     "name": "stdout",
     "output_type": "stream",
     "text": [
      "-0.6828427124746194\n"
     ]
    }
   ],
   "source": [
    "Ham = H_R5 + H_R6\n",
    "eigenvalues_ham, eigenvectors_ham = Ham.eigh()\n",
    "print(eigenvalues_ham[0])"
   ]
  },
  {
   "cell_type": "code",
   "execution_count": 57,
   "id": "8e4ee3db",
   "metadata": {},
   "outputs": [
    {
     "name": "stdout",
     "output_type": "stream",
     "text": [
      "(1.3802785701416546e-13+0j)\n",
      "3000.0\n"
     ]
    }
   ],
   "source": [
    "psi_t0 = H_R1.evolve(psi_ini[2],0.0,res_theta_0[3])\n",
    "psi_t1 = H_R2.evolve(psi_t0,0.0,res_theta_1[3])\n",
    "psi_t2 = H_R5.evolve(psi_t1,0.0,res_theta_2[3])\n",
    "psi_t3 = H_R6.evolve(psi_t2,0.0,2*res_theta_3[3])\n",
    "psi_t4 = H_R5.evolve(psi_t3,0.0,res_theta_2[3])\n",
    "psi_t5 = H_R2.evolve(psi_t4,0.0,res_theta_1[3])\n",
    "psi_t6 = H_R1.evolve(psi_t5,0.0,res_theta_0[3])\n",
    "print(H_target.expt_value(psi_t6))\n",
    "print(extract_energy(np.array([0.,0.,0.,0.]),psi_ini[0],1))"
   ]
  },
  {
   "cell_type": "code",
   "execution_count": 33,
   "id": "6b3fc0a9",
   "metadata": {},
   "outputs": [
    {
     "name": "stdout",
     "output_type": "stream",
     "text": [
      "-0.6828427124746194\n"
     ]
    }
   ],
   "source": [
    "Hamiltonian = H_R5 + H_R6\n",
    "eigv,eigvec = Hamiltonian.eigh()\n",
    "print(eigv[0])"
   ]
  },
  {
   "cell_type": "code",
   "execution_count": 62,
   "id": "830f3bfe",
   "metadata": {},
   "outputs": [
    {
     "name": "stdout",
     "output_type": "stream",
     "text": [
      "2021-11-11 15:20:29.362881\n"
     ]
    },
    {
     "ename": "KeyboardInterrupt",
     "evalue": "",
     "output_type": "error",
     "traceback": [
      "\u001b[0;31m---------------------------------------------------------------------------\u001b[0m",
      "\u001b[0;31mKeyboardInterrupt\u001b[0m                         Traceback (most recent call last)",
      "\u001b[0;32m<ipython-input-62-9094b11cb7c6>\u001b[0m in \u001b[0;36m<module>\u001b[0;34m\u001b[0m\n\u001b[1;32m      6\u001b[0m     \u001b[0mprint\u001b[0m\u001b[0;34m(\u001b[0m\u001b[0mdatetime\u001b[0m\u001b[0;34m.\u001b[0m\u001b[0mdatetime\u001b[0m\u001b[0;34m.\u001b[0m\u001b[0mnow\u001b[0m\u001b[0;34m(\u001b[0m\u001b[0;34m)\u001b[0m\u001b[0;34m)\u001b[0m\u001b[0;34m\u001b[0m\u001b[0;34m\u001b[0m\u001b[0m\n\u001b[1;32m      7\u001b[0m     \u001b[0mresbrute\u001b[0m \u001b[0;34m=\u001b[0m \u001b[0;36m0\u001b[0m\u001b[0;34m\u001b[0m\u001b[0;34m\u001b[0m\u001b[0m\n\u001b[0;32m----> 8\u001b[0;31m     \u001b[0mresbrute\u001b[0m \u001b[0;34m=\u001b[0m \u001b[0mbrute\u001b[0m\u001b[0;34m(\u001b[0m\u001b[0mextract_energy\u001b[0m\u001b[0;34m,\u001b[0m \u001b[0mbrute_ranges\u001b[0m\u001b[0;34m,\u001b[0m \u001b[0margs\u001b[0m \u001b[0;34m=\u001b[0m \u001b[0;34m(\u001b[0m\u001b[0mpsi_ini\u001b[0m\u001b[0;34m[\u001b[0m\u001b[0mi\u001b[0m\u001b[0;34m]\u001b[0m\u001b[0;34m,\u001b[0m\u001b[0;36m1\u001b[0m\u001b[0;34m)\u001b[0m \u001b[0;34m,\u001b[0m\u001b[0mfull_output\u001b[0m \u001b[0;34m=\u001b[0m \u001b[0;32mTrue\u001b[0m \u001b[0;34m,\u001b[0m\u001b[0mfinish\u001b[0m \u001b[0;34m=\u001b[0m \u001b[0mminimize\u001b[0m\u001b[0;34m)\u001b[0m\u001b[0;34m\u001b[0m\u001b[0;34m\u001b[0m\u001b[0m\n\u001b[0m\u001b[1;32m      9\u001b[0m     \u001b[0mres_theta_0\u001b[0m\u001b[0;34m[\u001b[0m\u001b[0mi\u001b[0m\u001b[0;34m+\u001b[0m\u001b[0;36m1\u001b[0m\u001b[0;34m]\u001b[0m \u001b[0;34m=\u001b[0m \u001b[0mresbrute\u001b[0m\u001b[0;34m[\u001b[0m\u001b[0;36m0\u001b[0m\u001b[0;34m]\u001b[0m\u001b[0;34m[\u001b[0m\u001b[0;36m0\u001b[0m\u001b[0;34m]\u001b[0m\u001b[0;34m\u001b[0m\u001b[0;34m\u001b[0m\u001b[0m\n\u001b[1;32m     10\u001b[0m     \u001b[0mres_theta_1\u001b[0m\u001b[0;34m[\u001b[0m\u001b[0mi\u001b[0m\u001b[0;34m+\u001b[0m\u001b[0;36m1\u001b[0m\u001b[0;34m]\u001b[0m \u001b[0;34m=\u001b[0m \u001b[0mresbrute\u001b[0m\u001b[0;34m[\u001b[0m\u001b[0;36m0\u001b[0m\u001b[0;34m]\u001b[0m\u001b[0;34m[\u001b[0m\u001b[0;36m1\u001b[0m\u001b[0;34m]\u001b[0m\u001b[0;34m\u001b[0m\u001b[0;34m\u001b[0m\u001b[0m\n",
      "\u001b[0;32m~/anaconda3/lib/python3.8/site-packages/scipy/optimize/optimize.py\u001b[0m in \u001b[0;36mbrute\u001b[0;34m(func, ranges, args, Ns, full_output, finish, disp, workers)\u001b[0m\n\u001b[1;32m   3260\u001b[0m     \u001b[0;31m# iterate over input arrays, possibly in parallel\u001b[0m\u001b[0;34m\u001b[0m\u001b[0;34m\u001b[0m\u001b[0;34m\u001b[0m\u001b[0m\n\u001b[1;32m   3261\u001b[0m     \u001b[0;32mwith\u001b[0m \u001b[0mMapWrapper\u001b[0m\u001b[0;34m(\u001b[0m\u001b[0mpool\u001b[0m\u001b[0;34m=\u001b[0m\u001b[0mworkers\u001b[0m\u001b[0;34m)\u001b[0m \u001b[0;32mas\u001b[0m \u001b[0mmapper\u001b[0m\u001b[0;34m:\u001b[0m\u001b[0;34m\u001b[0m\u001b[0;34m\u001b[0m\u001b[0m\n\u001b[0;32m-> 3262\u001b[0;31m         \u001b[0mJout\u001b[0m \u001b[0;34m=\u001b[0m \u001b[0mnp\u001b[0m\u001b[0;34m.\u001b[0m\u001b[0marray\u001b[0m\u001b[0;34m(\u001b[0m\u001b[0mlist\u001b[0m\u001b[0;34m(\u001b[0m\u001b[0mmapper\u001b[0m\u001b[0;34m(\u001b[0m\u001b[0mwrapped_func\u001b[0m\u001b[0;34m,\u001b[0m \u001b[0mgrid\u001b[0m\u001b[0;34m)\u001b[0m\u001b[0;34m)\u001b[0m\u001b[0;34m)\u001b[0m\u001b[0;34m\u001b[0m\u001b[0;34m\u001b[0m\u001b[0m\n\u001b[0m\u001b[1;32m   3263\u001b[0m         \u001b[0;32mif\u001b[0m \u001b[0;34m(\u001b[0m\u001b[0mN\u001b[0m \u001b[0;34m==\u001b[0m \u001b[0;36m1\u001b[0m\u001b[0;34m)\u001b[0m\u001b[0;34m:\u001b[0m\u001b[0;34m\u001b[0m\u001b[0;34m\u001b[0m\u001b[0m\n\u001b[1;32m   3264\u001b[0m             \u001b[0mgrid\u001b[0m \u001b[0;34m=\u001b[0m \u001b[0;34m(\u001b[0m\u001b[0mgrid\u001b[0m\u001b[0;34m,\u001b[0m\u001b[0;34m)\u001b[0m\u001b[0;34m\u001b[0m\u001b[0;34m\u001b[0m\u001b[0m\n",
      "\u001b[0;32m~/anaconda3/lib/python3.8/site-packages/scipy/optimize/optimize.py\u001b[0m in \u001b[0;36m__call__\u001b[0;34m(self, x)\u001b[0m\n\u001b[1;32m   3332\u001b[0m     \u001b[0;32mdef\u001b[0m \u001b[0m__call__\u001b[0m\u001b[0;34m(\u001b[0m\u001b[0mself\u001b[0m\u001b[0;34m,\u001b[0m \u001b[0mx\u001b[0m\u001b[0;34m)\u001b[0m\u001b[0;34m:\u001b[0m\u001b[0;34m\u001b[0m\u001b[0;34m\u001b[0m\u001b[0m\n\u001b[1;32m   3333\u001b[0m         \u001b[0;31m# flatten needed for one dimensional case.\u001b[0m\u001b[0;34m\u001b[0m\u001b[0;34m\u001b[0m\u001b[0;34m\u001b[0m\u001b[0m\n\u001b[0;32m-> 3334\u001b[0;31m         \u001b[0;32mreturn\u001b[0m \u001b[0mself\u001b[0m\u001b[0;34m.\u001b[0m\u001b[0mf\u001b[0m\u001b[0;34m(\u001b[0m\u001b[0mnp\u001b[0m\u001b[0;34m.\u001b[0m\u001b[0masarray\u001b[0m\u001b[0;34m(\u001b[0m\u001b[0mx\u001b[0m\u001b[0;34m)\u001b[0m\u001b[0;34m.\u001b[0m\u001b[0mflatten\u001b[0m\u001b[0;34m(\u001b[0m\u001b[0;34m)\u001b[0m\u001b[0;34m,\u001b[0m \u001b[0;34m*\u001b[0m\u001b[0mself\u001b[0m\u001b[0;34m.\u001b[0m\u001b[0margs\u001b[0m\u001b[0;34m)\u001b[0m\u001b[0;34m\u001b[0m\u001b[0;34m\u001b[0m\u001b[0m\n\u001b[0m\u001b[1;32m   3335\u001b[0m \u001b[0;34m\u001b[0m\u001b[0m\n\u001b[1;32m   3336\u001b[0m \u001b[0;34m\u001b[0m\u001b[0m\n",
      "\u001b[0;32m<ipython-input-58-5265d7003fe8>\u001b[0m in \u001b[0;36mextract_energy\u001b[0;34m(theta, psi, a)\u001b[0m\n\u001b[1;32m      3\u001b[0m     \u001b[0mpsi_t1\u001b[0m \u001b[0;34m=\u001b[0m \u001b[0mH_R6\u001b[0m\u001b[0;34m.\u001b[0m\u001b[0mevolve\u001b[0m\u001b[0;34m(\u001b[0m\u001b[0mpsi_t0\u001b[0m\u001b[0;34m,\u001b[0m\u001b[0;36m0.0\u001b[0m\u001b[0;34m,\u001b[0m\u001b[0mtheta\u001b[0m\u001b[0;34m[\u001b[0m\u001b[0;36m1\u001b[0m\u001b[0;34m]\u001b[0m\u001b[0;34m)\u001b[0m\u001b[0;34m\u001b[0m\u001b[0;34m\u001b[0m\u001b[0m\n\u001b[1;32m      4\u001b[0m     \u001b[0mpsi_t2\u001b[0m \u001b[0;34m=\u001b[0m \u001b[0mH_R3\u001b[0m\u001b[0;34m.\u001b[0m\u001b[0mevolve\u001b[0m\u001b[0;34m(\u001b[0m\u001b[0mpsi_t1\u001b[0m\u001b[0;34m,\u001b[0m\u001b[0;36m0.0\u001b[0m\u001b[0;34m,\u001b[0m\u001b[0mtheta\u001b[0m\u001b[0;34m[\u001b[0m\u001b[0;36m2\u001b[0m\u001b[0;34m]\u001b[0m\u001b[0;34m)\u001b[0m\u001b[0;34m\u001b[0m\u001b[0;34m\u001b[0m\u001b[0m\n\u001b[0;32m----> 5\u001b[0;31m     \u001b[0mpsi_t3\u001b[0m \u001b[0;34m=\u001b[0m \u001b[0mH_R4\u001b[0m\u001b[0;34m.\u001b[0m\u001b[0mevolve\u001b[0m\u001b[0;34m(\u001b[0m\u001b[0mpsi_t2\u001b[0m\u001b[0;34m,\u001b[0m\u001b[0;36m0.0\u001b[0m\u001b[0;34m,\u001b[0m\u001b[0mtheta\u001b[0m\u001b[0;34m[\u001b[0m\u001b[0;36m3\u001b[0m\u001b[0;34m]\u001b[0m\u001b[0;34m)\u001b[0m\u001b[0;34m\u001b[0m\u001b[0;34m\u001b[0m\u001b[0m\n\u001b[0m\u001b[1;32m      6\u001b[0m \u001b[0;34m\u001b[0m\u001b[0m\n\u001b[1;32m      7\u001b[0m \u001b[0;34m\u001b[0m\u001b[0m\n",
      "\u001b[0;32m~/anaconda3/lib/python3.8/site-packages/quspin/operators/hamiltonian_core.py\u001b[0m in \u001b[0;36mevolve\u001b[0;34m(self, v0, t0, times, eom, solver_name, stack_state, verbose, iterate, imag_time, **solver_args)\u001b[0m\n\u001b[1;32m   1487\u001b[0m                         \u001b[0;32mraise\u001b[0m \u001b[0mValueError\u001b[0m\u001b[0;34m(\u001b[0m\u001b[0;34m\"'{} equation' not recognized, must be 'SE' or 'LvNE'\"\u001b[0m\u001b[0;34m.\u001b[0m\u001b[0mformat\u001b[0m\u001b[0;34m(\u001b[0m\u001b[0meom\u001b[0m\u001b[0;34m)\u001b[0m\u001b[0;34m)\u001b[0m\u001b[0;34m\u001b[0m\u001b[0;34m\u001b[0m\u001b[0m\n\u001b[1;32m   1488\u001b[0m \u001b[0;34m\u001b[0m\u001b[0m\n\u001b[0;32m-> 1489\u001b[0;31m                 \u001b[0;32mreturn\u001b[0m \u001b[0mevolve\u001b[0m\u001b[0;34m(\u001b[0m\u001b[0;34m*\u001b[0m\u001b[0mevolve_args\u001b[0m\u001b[0;34m,\u001b[0m\u001b[0;34m**\u001b[0m\u001b[0mevolve_kwargs\u001b[0m\u001b[0;34m)\u001b[0m\u001b[0;34m\u001b[0m\u001b[0;34m\u001b[0m\u001b[0m\n\u001b[0m\u001b[1;32m   1490\u001b[0m \u001b[0;34m\u001b[0m\u001b[0m\n\u001b[1;32m   1491\u001b[0m         \u001b[0;31m### routines to change object type\u001b[0m\u001b[0;34m\u001b[0m\u001b[0;34m\u001b[0m\u001b[0;34m\u001b[0m\u001b[0m\n",
      "\u001b[0;32m~/anaconda3/lib/python3.8/site-packages/quspin/tools/evolution.py\u001b[0m in \u001b[0;36mevolve\u001b[0;34m(v0, t0, times, f, solver_name, real, stack_state, verbose, imag_time, iterate, f_params, **solver_args)\u001b[0m\n\u001b[1;32m    330\u001b[0m \u001b[0;34m\u001b[0m\u001b[0m\n\u001b[1;32m    331\u001b[0m         \u001b[0;32mif\u001b[0m \u001b[0m_np\u001b[0m\u001b[0;34m.\u001b[0m\u001b[0misscalar\u001b[0m\u001b[0;34m(\u001b[0m\u001b[0mtimes\u001b[0m\u001b[0;34m)\u001b[0m\u001b[0;34m:\u001b[0m\u001b[0;34m\u001b[0m\u001b[0;34m\u001b[0m\u001b[0m\n\u001b[0;32m--> 332\u001b[0;31m                 \u001b[0;32mreturn\u001b[0m \u001b[0m_evolve_scalar\u001b[0m\u001b[0;34m(\u001b[0m\u001b[0msolver\u001b[0m\u001b[0;34m,\u001b[0m\u001b[0mv0\u001b[0m\u001b[0;34m,\u001b[0m\u001b[0mt0\u001b[0m\u001b[0;34m,\u001b[0m\u001b[0mtimes\u001b[0m\u001b[0;34m,\u001b[0m\u001b[0;34m*\u001b[0m\u001b[0moutput_args\u001b[0m\u001b[0;34m)\u001b[0m\u001b[0;34m\u001b[0m\u001b[0;34m\u001b[0m\u001b[0m\n\u001b[0m\u001b[1;32m    333\u001b[0m         \u001b[0;32melse\u001b[0m\u001b[0;34m:\u001b[0m\u001b[0;34m\u001b[0m\u001b[0;34m\u001b[0m\u001b[0m\n\u001b[1;32m    334\u001b[0m                 \u001b[0;32mif\u001b[0m \u001b[0miterate\u001b[0m\u001b[0;34m:\u001b[0m\u001b[0;34m\u001b[0m\u001b[0;34m\u001b[0m\u001b[0m\n",
      "\u001b[0;32m~/anaconda3/lib/python3.8/site-packages/quspin/tools/evolution.py\u001b[0m in \u001b[0;36m_evolve_scalar\u001b[0;34m(solver, v0, t0, time, *output_args)\u001b[0m\n\u001b[1;32m    364\u001b[0m                 \u001b[0;32mreturn\u001b[0m \u001b[0m_format_output\u001b[0m\u001b[0;34m(\u001b[0m\u001b[0mv0\u001b[0m\u001b[0;34m,\u001b[0m\u001b[0;34m*\u001b[0m\u001b[0moutput_args\u001b[0m\u001b[0;34m)\u001b[0m\u001b[0;34m\u001b[0m\u001b[0;34m\u001b[0m\u001b[0m\n\u001b[1;32m    365\u001b[0m \u001b[0;34m\u001b[0m\u001b[0m\n\u001b[0;32m--> 366\u001b[0;31m         \u001b[0msolver\u001b[0m\u001b[0;34m.\u001b[0m\u001b[0mintegrate\u001b[0m\u001b[0;34m(\u001b[0m\u001b[0mtime\u001b[0m\u001b[0;34m)\u001b[0m\u001b[0;34m\u001b[0m\u001b[0;34m\u001b[0m\u001b[0m\n\u001b[0m\u001b[1;32m    367\u001b[0m         \u001b[0;32mif\u001b[0m \u001b[0msolver\u001b[0m\u001b[0;34m.\u001b[0m\u001b[0msuccessful\u001b[0m\u001b[0;34m(\u001b[0m\u001b[0;34m)\u001b[0m\u001b[0;34m:\u001b[0m\u001b[0;34m\u001b[0m\u001b[0;34m\u001b[0m\u001b[0m\n\u001b[1;32m    368\u001b[0m                 \u001b[0;32mreturn\u001b[0m \u001b[0m_format_output\u001b[0m\u001b[0;34m(\u001b[0m\u001b[0msolver\u001b[0m\u001b[0;34m.\u001b[0m\u001b[0m_y\u001b[0m\u001b[0;34m,\u001b[0m\u001b[0;34m*\u001b[0m\u001b[0moutput_args\u001b[0m\u001b[0;34m)\u001b[0m\u001b[0;34m\u001b[0m\u001b[0;34m\u001b[0m\u001b[0m\n",
      "\u001b[0;32m~/anaconda3/lib/python3.8/site-packages/scipy/integrate/_ode.py\u001b[0m in \u001b[0;36mintegrate\u001b[0;34m(self, t, step, relax)\u001b[0m\n\u001b[1;32m    431\u001b[0m \u001b[0;34m\u001b[0m\u001b[0m\n\u001b[1;32m    432\u001b[0m         \u001b[0;32mtry\u001b[0m\u001b[0;34m:\u001b[0m\u001b[0;34m\u001b[0m\u001b[0;34m\u001b[0m\u001b[0m\n\u001b[0;32m--> 433\u001b[0;31m             self._y, self.t = mth(self.f, self.jac or (lambda: None),\n\u001b[0m\u001b[1;32m    434\u001b[0m                                   \u001b[0mself\u001b[0m\u001b[0;34m.\u001b[0m\u001b[0m_y\u001b[0m\u001b[0;34m,\u001b[0m \u001b[0mself\u001b[0m\u001b[0;34m.\u001b[0m\u001b[0mt\u001b[0m\u001b[0;34m,\u001b[0m \u001b[0mt\u001b[0m\u001b[0;34m,\u001b[0m\u001b[0;34m\u001b[0m\u001b[0;34m\u001b[0m\u001b[0m\n\u001b[1;32m    435\u001b[0m                                   self.f_params, self.jac_params)\n",
      "\u001b[0;32m~/anaconda3/lib/python3.8/site-packages/scipy/integrate/_ode.py\u001b[0m in \u001b[0;36mrun\u001b[0;34m(self, f, jac, y0, t0, t1, f_params, jac_params)\u001b[0m\n\u001b[1;32m   1174\u001b[0m \u001b[0;34m\u001b[0m\u001b[0m\n\u001b[1;32m   1175\u001b[0m     \u001b[0;32mdef\u001b[0m \u001b[0mrun\u001b[0m\u001b[0;34m(\u001b[0m\u001b[0mself\u001b[0m\u001b[0;34m,\u001b[0m \u001b[0mf\u001b[0m\u001b[0;34m,\u001b[0m \u001b[0mjac\u001b[0m\u001b[0;34m,\u001b[0m \u001b[0my0\u001b[0m\u001b[0;34m,\u001b[0m \u001b[0mt0\u001b[0m\u001b[0;34m,\u001b[0m \u001b[0mt1\u001b[0m\u001b[0;34m,\u001b[0m \u001b[0mf_params\u001b[0m\u001b[0;34m,\u001b[0m \u001b[0mjac_params\u001b[0m\u001b[0;34m)\u001b[0m\u001b[0;34m:\u001b[0m\u001b[0;34m\u001b[0m\u001b[0;34m\u001b[0m\u001b[0m\n\u001b[0;32m-> 1176\u001b[0;31m         x, y, iwork, istate = self.runner(*((f, t0, y0, t1) +\n\u001b[0m\u001b[1;32m   1177\u001b[0m                                           tuple(self.call_args) + (f_params,)))\n\u001b[1;32m   1178\u001b[0m         \u001b[0mself\u001b[0m\u001b[0;34m.\u001b[0m\u001b[0mistate\u001b[0m \u001b[0;34m=\u001b[0m \u001b[0mistate\u001b[0m\u001b[0;34m\u001b[0m\u001b[0;34m\u001b[0m\u001b[0m\n",
      "\u001b[0;32m~/anaconda3/lib/python3.8/site-packages/quspin/tools/evolution.py\u001b[0m in \u001b[0;36m_cmplx_f\u001b[0;34m(t, y, f, f_params)\u001b[0m\n\u001b[1;32m    338\u001b[0m \u001b[0;34m\u001b[0m\u001b[0m\n\u001b[1;32m    339\u001b[0m \u001b[0;34m\u001b[0m\u001b[0m\n\u001b[0;32m--> 340\u001b[0;31m \u001b[0;32mdef\u001b[0m \u001b[0m_cmplx_f\u001b[0m\u001b[0;34m(\u001b[0m\u001b[0mt\u001b[0m\u001b[0;34m,\u001b[0m\u001b[0my\u001b[0m\u001b[0;34m,\u001b[0m\u001b[0mf\u001b[0m\u001b[0;34m,\u001b[0m\u001b[0mf_params\u001b[0m\u001b[0;34m)\u001b[0m\u001b[0;34m:\u001b[0m\u001b[0;34m\u001b[0m\u001b[0;34m\u001b[0m\u001b[0m\n\u001b[0m\u001b[1;32m    341\u001b[0m         \u001b[0myc\u001b[0m \u001b[0;34m=\u001b[0m \u001b[0my\u001b[0m\u001b[0;34m.\u001b[0m\u001b[0mview\u001b[0m\u001b[0;34m(\u001b[0m\u001b[0m_np\u001b[0m\u001b[0;34m.\u001b[0m\u001b[0mcomplex128\u001b[0m\u001b[0;34m)\u001b[0m\u001b[0;34m\u001b[0m\u001b[0;34m\u001b[0m\u001b[0m\n\u001b[1;32m    342\u001b[0m         \u001b[0;32mreturn\u001b[0m \u001b[0mf\u001b[0m\u001b[0;34m(\u001b[0m\u001b[0mt\u001b[0m\u001b[0;34m,\u001b[0m\u001b[0myc\u001b[0m\u001b[0;34m,\u001b[0m\u001b[0;34m*\u001b[0m\u001b[0mf_params\u001b[0m\u001b[0;34m)\u001b[0m\u001b[0;34m.\u001b[0m\u001b[0mview\u001b[0m\u001b[0;34m(\u001b[0m\u001b[0m_np\u001b[0m\u001b[0;34m.\u001b[0m\u001b[0mfloat64\u001b[0m\u001b[0;34m)\u001b[0m\u001b[0;34m\u001b[0m\u001b[0;34m\u001b[0m\u001b[0m\n",
      "\u001b[0;31mKeyboardInterrupt\u001b[0m: "
     ]
    }
   ],
   "source": [
    "from scipy.optimize import brute\n",
    "from scipy.optimize import minimize\n",
    "import datetime\n",
    "brute_ranges = (slice(-5.,5.,1.),slice(-20.,20.,1.),slice(-5.,5.,1.),slice(-5.,5.,1.))\n",
    "for i in range(NN):\n",
    "    print(datetime.datetime.now())\n",
    "    resbrute = 0\n",
    "    resbrute = brute(extract_energy, brute_ranges, args = (psi_ini[i],1) ,full_output = True ,finish = minimize)\n",
    "    res_theta_0[i+1] = resbrute[0][0]\n",
    "    res_theta_1[i+1] = resbrute[0][1]\n",
    "    res_theta_2[i+1] = resbrute[0][2]\n",
    "    res_theta_3[i+1] = resbrute[0][3]\n",
    "\n",
    "    res_energy[i+1] = resbrute[1]\n",
    "    \n",
    "    psi_ini[i+1] = extract_state(np.array([resbrute[0][0],resbrute[0][1],resbrute[0][2],resbrute[0][3]]),psi_ini[i])\n",
    "    res_gauss_law[i+1] = Gauss_law_0.expt_value(extract_state(np.array([resbrute[0][0],resbrute[0][1],resbrute[0][2],resbrute[0][3]]),psi_ini[i]))**2 + Gauss_law_1.expt_value(extract_state(np.array([resbrute[0][0],resbrute[0][1],resbrute[0][2],resbrute[0][3]]),psi_ini[i]))**2 + Gauss_law_2.expt_value(extract_state(np.array([resbrute[0][0],resbrute[0][1],resbrute[0][2],resbrute[0][3]]),psi_ini[i]))**2\n",
    "    print(datetime.datetime.now())"
   ]
  },
  {
   "cell_type": "code",
   "execution_count": 141,
   "id": "5833bf2f",
   "metadata": {},
   "outputs": [
    {
     "name": "stdout",
     "output_type": "stream",
     "text": [
      "2021-10-25 14:44:18.600042\n",
      "2021-10-25 14:44:18.827797\n"
     ]
    }
   ],
   "source": [
    "import datetime\n",
    "\n",
    "print(datetime.datetime.now())\n",
    "extract_energy(np.array([8.1285,3.433,4.467,3.]))\n",
    "print(datetime.datetime.now())"
   ]
  },
  {
   "cell_type": "code",
   "execution_count": 143,
   "id": "c2b709cc",
   "metadata": {},
   "outputs": [
    {
     "name": "stdout",
     "output_type": "stream",
     "text": [
      "2021-10-25 14:44:31.443164\n",
      "2021-10-25 15:25:08.030979\n"
     ]
    }
   ],
   "source": [
    "from scipy.optimize import brute\n",
    "from scipy.optimize import minimize\n",
    "\n",
    "\n",
    "brute_ranges = (slice(0,10.,1.),slice(0,10.,1.),slice(0,10.,1.),slice(0,10.,1.))\n",
    "print(datetime.datetime.now())\n",
    "\n",
    "resbrute = brute(extract_energy, brute_ranges,full_output = True ,finish = minimize)\n",
    "print(datetime.datetime.now())"
   ]
  },
  {
   "cell_type": "code",
   "execution_count": 144,
   "id": "7a2fa117",
   "metadata": {},
   "outputs": [
    {
     "name": "stdout",
     "output_type": "stream",
     "text": [
      "[8. 9. 9. 9.]\n"
     ]
    }
   ],
   "source": [
    "print(resbrute[0]) #theta1, theta2"
   ]
  },
  {
   "cell_type": "code",
   "execution_count": 145,
   "id": "0f318a78",
   "metadata": {},
   "outputs": [
    {
     "name": "stdout",
     "output_type": "stream",
     "text": [
      "0.09999988539430749\n"
     ]
    }
   ],
   "source": [
    "print(resbrute[1]) #minimized energy"
   ]
  },
  {
   "cell_type": "code",
   "execution_count": 146,
   "id": "95210df6",
   "metadata": {},
   "outputs": [
    {
     "data": {
      "text/plain": [
       "0j"
      ]
     },
     "execution_count": 146,
     "metadata": {},
     "output_type": "execute_result"
    }
   ],
   "source": [
    "Gauss_law.expt_value(psi_0)"
   ]
  },
  {
   "cell_type": "code",
   "execution_count": 147,
   "id": "0651eb22",
   "metadata": {},
   "outputs": [
    {
     "ename": "NameError",
     "evalue": "name 'restbrute' is not defined",
     "output_type": "error",
     "traceback": [
      "\u001b[0;31m---------------------------------------------------------------------------\u001b[0m",
      "\u001b[0;31mNameError\u001b[0m                                 Traceback (most recent call last)",
      "\u001b[0;32m<ipython-input-147-2bacef0aea1a>\u001b[0m in \u001b[0;36m<module>\u001b[0;34m\u001b[0m\n\u001b[0;32m----> 1\u001b[0;31m \u001b[0mtimes1\u001b[0m\u001b[0;34m=\u001b[0m\u001b[0mnp\u001b[0m\u001b[0;34m.\u001b[0m\u001b[0mlinspace\u001b[0m\u001b[0;34m(\u001b[0m\u001b[0;36m0.0\u001b[0m\u001b[0;34m,\u001b[0m\u001b[0mrestbrute\u001b[0m\u001b[0;34m[\u001b[0m\u001b[0;36m0\u001b[0m\u001b[0;34m]\u001b[0m\u001b[0;34m[\u001b[0m\u001b[0;36m0\u001b[0m\u001b[0;34m]\u001b[0m\u001b[0;34m,\u001b[0m\u001b[0;36m100\u001b[0m\u001b[0;34m)\u001b[0m\u001b[0;34m\u001b[0m\u001b[0;34m\u001b[0m\u001b[0m\n\u001b[0m\u001b[1;32m      2\u001b[0m \u001b[0mtimes2\u001b[0m\u001b[0;34m=\u001b[0m\u001b[0mnp\u001b[0m\u001b[0;34m.\u001b[0m\u001b[0mlinspace\u001b[0m\u001b[0;34m(\u001b[0m\u001b[0;36m0.0\u001b[0m\u001b[0;34m,\u001b[0m\u001b[0mrestbrute\u001b[0m\u001b[0;34m[\u001b[0m\u001b[0;36m0\u001b[0m\u001b[0;34m]\u001b[0m\u001b[0;34m[\u001b[0m\u001b[0;36m1\u001b[0m\u001b[0;34m]\u001b[0m\u001b[0;34m,\u001b[0m\u001b[0;36m100\u001b[0m\u001b[0;34m)\u001b[0m\u001b[0;34m\u001b[0m\u001b[0;34m\u001b[0m\u001b[0m\n\u001b[1;32m      3\u001b[0m \u001b[0mtimes3\u001b[0m\u001b[0;34m=\u001b[0m\u001b[0mnp\u001b[0m\u001b[0;34m.\u001b[0m\u001b[0mlinspace\u001b[0m\u001b[0;34m(\u001b[0m\u001b[0;36m0.0\u001b[0m\u001b[0;34m,\u001b[0m\u001b[0mrestbrute\u001b[0m\u001b[0;34m[\u001b[0m\u001b[0;36m0\u001b[0m\u001b[0;34m]\u001b[0m\u001b[0;34m[\u001b[0m\u001b[0;36m2\u001b[0m\u001b[0;34m]\u001b[0m\u001b[0;34m,\u001b[0m\u001b[0;36m100\u001b[0m\u001b[0;34m)\u001b[0m\u001b[0;34m\u001b[0m\u001b[0;34m\u001b[0m\u001b[0m\n\u001b[1;32m      4\u001b[0m \u001b[0mtimes4\u001b[0m\u001b[0;34m=\u001b[0m\u001b[0mnp\u001b[0m\u001b[0;34m.\u001b[0m\u001b[0mlinspace\u001b[0m\u001b[0;34m(\u001b[0m\u001b[0;36m0.0\u001b[0m\u001b[0;34m,\u001b[0m\u001b[0mrestbrute\u001b[0m\u001b[0;34m[\u001b[0m\u001b[0;36m0\u001b[0m\u001b[0;34m]\u001b[0m\u001b[0;34m[\u001b[0m\u001b[0;36m3\u001b[0m\u001b[0;34m]\u001b[0m\u001b[0;34m,\u001b[0m\u001b[0;36m100\u001b[0m\u001b[0;34m)\u001b[0m\u001b[0;34m\u001b[0m\u001b[0;34m\u001b[0m\u001b[0m\n\u001b[1;32m      5\u001b[0m \u001b[0;34m\u001b[0m\u001b[0m\n",
      "\u001b[0;31mNameError\u001b[0m: name 'restbrute' is not defined"
     ]
    }
   ],
   "source": [
    "times1=np.linspace(0.0,restbrute[0][0],100)\n",
    "times2=np.linspace(0.0,restbrute[0][1],100)\n",
    "times3=np.linspace(0.0,restbrute[0][2],100)\n",
    "times4=np.linspace(0.0,restbrute[0][3],100)\n",
    "\n",
    "\n",
    "psi_t1 = H_R1.evolve(psi_ini,0.0,times1)\n",
    "psi_t2 = H_R2.evolve([row[-1] for row in psi_t1],0.0,times2)\n",
    "psi_t3 = H_R3.evolve([row[-1] for row in psi_t2],0.0,times3)\n",
    "psi_t4 = H_R4.evolve([row[-1] for row in psi_t3],0.0,times4)\n",
    "\n",
    "#print(np.abs(np.dot(psi_ground,np.array([row[-1] for row in psi_t1]))))\n",
    "#print(np.abs(np.dot(np.array([row[-1] for row in psi_t1]),np.array([row[-1] for row in psi_t2]))))\n",
    "#print(np.abs(np.dot(np.array([row[-1] for row in psi_t2]),np.array([row[-1] for row in psi_t3]))))\n",
    "H_target.expt_value([row[-1] for row in psi_t4])"
   ]
  },
  {
   "cell_type": "code",
   "execution_count": 163,
   "id": "164eb41f",
   "metadata": {},
   "outputs": [
    {
     "name": "stdout",
     "output_type": "stream",
     "text": [
      "Hermiticity check passed!\n",
      "target\n"
     ]
    },
    {
     "name": "stderr",
     "output_type": "stream",
     "text": [
      "<ipython-input-163-423cababa137>:1: UserWarning: Test for symmetries not implemented for <class 'quspin.basis.tensor.tensor_basis'>, to turn off this warning set check_symm=False in hamiltonian\n",
      "  H_coh.__init__(static_coh, dynamic_list = [],basis=basis, check_herm = True)\n",
      "<ipython-input-163-423cababa137>:1: UserWarning: Test for particle conservation not implemented for <class 'quspin.basis.tensor.tensor_basis'>, to turn off this warning set check_pcon=False in hamiltonian\n",
      "  H_coh.__init__(static_coh, dynamic_list = [],basis=basis, check_herm = True)\n"
     ]
    }
   ],
   "source": [
    "H_coh.__init__(static_coh, dynamic_list = [],basis=basis, check_herm = True)\n",
    "#for checking the Hermiticity of the operators\n",
    "print('target')"
   ]
  },
  {
   "cell_type": "code",
   "execution_count": 57,
   "id": "44a675d5",
   "metadata": {},
   "outputs": [
    {
     "name": "stdout",
     "output_type": "stream",
     "text": [
      "-38.04689509100519\n"
     ]
    }
   ],
   "source": [
    "eigenvalues,eigenvectors = H_target.eigh()\n",
    "#psi_ground = eigenvectors[:,0]\n",
    "print(eigenvalues[0])"
   ]
  },
  {
   "cell_type": "code",
   "execution_count": 109,
   "id": "43e7c903",
   "metadata": {},
   "outputs": [
    {
     "name": "stdout",
     "output_type": "stream",
     "text": [
      "2021-10-25 14:31:08.978682\n",
      "2021-10-25 14:32:02.595452\n"
     ]
    }
   ],
   "source": [
    "from scipy.optimize import minimize\n",
    "import datetime\n",
    "print(datetime.datetime.now())\n",
    "initial_guess = np.array([4.,8.,120.,3.])\n",
    "nelder_mead = minimize(extract_energy, initial_guess,method='Nelder-Mead')\n",
    "print(datetime.datetime.now())\n"
   ]
  },
  {
   "cell_type": "code",
   "execution_count": 110,
   "id": "0ab3ab3d",
   "metadata": {},
   "outputs": [
    {
     "data": {
      "text/plain": [
       "array([  3.99383535,   8.03443554, 119.68061779,   3.09978688])"
      ]
     },
     "execution_count": 110,
     "metadata": {},
     "output_type": "execute_result"
    }
   ],
   "source": [
    "nelder_mead.x"
   ]
  },
  {
   "cell_type": "code",
   "execution_count": 111,
   "id": "c6b19ef9",
   "metadata": {},
   "outputs": [
    {
     "data": {
      "text/plain": [
       "0.09999972475591133"
      ]
     },
     "execution_count": 111,
     "metadata": {},
     "output_type": "execute_result"
    }
   ],
   "source": [
    "nelder_mead.fun"
   ]
  },
  {
   "cell_type": "code",
   "execution_count": 112,
   "id": "eeaee255",
   "metadata": {},
   "outputs": [
    {
     "data": {
      "text/plain": [
       "78"
      ]
     },
     "execution_count": 112,
     "metadata": {},
     "output_type": "execute_result"
    }
   ],
   "source": [
    "nelder_mead.nit"
   ]
  },
  {
   "cell_type": "code",
   "execution_count": 135,
   "id": "81342fc0",
   "metadata": {},
   "outputs": [
    {
     "data": {
      "text/plain": [
       "(0.09999972475591133+0j)"
      ]
     },
     "execution_count": 135,
     "metadata": {},
     "output_type": "execute_result"
    }
   ],
   "source": [
    "times1=np.linspace(0.0,nelder_mead.x[0],100)\n",
    "times2=np.linspace(0.0,nelder_mead.x[1],100)\n",
    "times3=np.linspace(0.0,nelder_mead.x[2],100)\n",
    "times4=np.linspace(0.0,nelder_mead.x[3],100)\n",
    "\n",
    "\n",
    "psi_t1 = H_R1.evolve(psi_ini,0.0,times1)\n",
    "psi_t2 = H_R2.evolve([row[-1] for row in psi_t1],0.0,times2)\n",
    "psi_t3 = H_R3.evolve([row[-1] for row in psi_t2],0.0,times3)\n",
    "psi_t4 = H_R4.evolve([row[-1] for row in psi_t3],0.0,times4)\n",
    "\n",
    "#print(np.abs(np.dot(psi_ground,np.array([row[-1] for row in psi_t1]))))\n",
    "#print(np.abs(np.dot(np.array([row[-1] for row in psi_t1]),np.array([row[-1] for row in psi_t2]))))\n",
    "#print(np.abs(np.dot(np.array([row[-1] for row in psi_t2]),np.array([row[-1] for row in psi_t3]))))\n",
    "H_target.expt_value([row[-1] for row in psi_t4])"
   ]
  },
  {
   "cell_type": "code",
   "execution_count": 136,
   "id": "3aa2b085",
   "metadata": {},
   "outputs": [
    {
     "data": {
      "text/plain": [
       "0j"
      ]
     },
     "execution_count": 136,
     "metadata": {},
     "output_type": "execute_result"
    }
   ],
   "source": [
    "Gauss_law.expt_value(psi_ini)"
   ]
  },
  {
   "cell_type": "code",
   "execution_count": null,
   "id": "21a776f7",
   "metadata": {},
   "outputs": [],
   "source": []
  }
 ],
 "metadata": {
  "kernelspec": {
   "display_name": "Python 3",
   "language": "python",
   "name": "python3"
  },
  "language_info": {
   "codemirror_mode": {
    "name": "ipython",
    "version": 3
   },
   "file_extension": ".py",
   "mimetype": "text/x-python",
   "name": "python",
   "nbconvert_exporter": "python",
   "pygments_lexer": "ipython3",
   "version": "3.8.8"
  }
 },
 "nbformat": 4,
 "nbformat_minor": 5
}
