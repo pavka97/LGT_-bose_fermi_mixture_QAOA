{
 "cells": [
  {
   "cell_type": "code",
   "execution_count": 1,
   "id": "efb202ba",
   "metadata": {},
   "outputs": [],
   "source": [
    "from scipy.linalg import expm\n",
    "import scipy.sparse as sparse\n",
    "from quspin.operators import hamiltonian, commutator, exp_op # Hamiltonians and operators\n",
    "from quspin.basis import tensor_basis, spin_basis_1d # bases\n",
    "import numpy as np # general math functions\n",
    "import matplotlib.pyplot as plt # plotting library"
   ]
  },
  {
   "cell_type": "code",
   "execution_count": 2,
   "id": "437f6900",
   "metadata": {},
   "outputs": [],
   "source": [
    "L = 3 #system size\n",
    "M = 0.1 #fermion mass\n",
    "N=1 #number of layers\n",
    "l=1 #spin length\n",
    "no_checks = dict(check_pcon=False,check_symm=False,check_herm=False)\n",
    "basis=spin_basis_1d(L=L,S = str(l))\n"
   ]
  },
  {
   "cell_type": "code",
   "execution_count": 3,
   "id": "6a7da92b",
   "metadata": {},
   "outputs": [],
   "source": [
    "#initial state\n",
    "string = \"\"\n",
    "for i in range(L):\n",
    "    string +=\"0\"\n",
    "psi_0 = np.zeros(basis.Ns)\n",
    "i_0 = basis.index(string)\n",
    "psi_0[i_0] = 1.\n"
   ]
  },
  {
   "cell_type": "code",
   "execution_count": 4,
   "id": "0a0a0917",
   "metadata": {},
   "outputs": [],
   "source": [
    "def clause(a,b,k,m,n):\n",
    "    zero = 0\n",
    "    m = int(m)\n",
    "    n = int(n)\n",
    "    for l in range(L):\n",
    "        if l == k:\n",
    "            if (int(a[l])!=m) | (int(b[l])!=n):\n",
    "                zero +=1\n",
    "        else:\n",
    "            if a[l]!=b[l]:\n",
    "                zero +=1\n",
    "    return zero\n",
    "\n",
    "def rot(sigma,theta):\n",
    "    return expm(-1j*theta*sigma/2)\n",
    "\n",
    "def sigma_matrix(k,m,n,phi):\n",
    "    sigma = np.zeros((basis.Ns,basis.Ns),dtype = complex)\n",
    "    for i in range(basis.Ns):\n",
    "        string_i = basis.int_to_state(basis.Ns-i-1,bracket_notation=False)\n",
    "        for j in range(0,i+1):\n",
    "            string_j = basis.int_to_state(basis.Ns-j-1,bracket_notation=False)\n",
    "            if (clause(string_i,string_j,k,m,n)==0):\n",
    "                sigma[i][j] = 0.5*(np.cos(phi)+1j*np.sin(phi))\n",
    "                sigma[j][i] = 0.5*(np.cos(phi)-1j*np.sin(phi))\n",
    "    sigma = sparse.csc_matrix(sigma)\n",
    "    return sigma\n",
    "\n",
    "def ms_gate(k,m,n,phi):\n",
    "    return ((sigma_matrix(k,m,n,phi)+sigma_matrix(k+1,m,n,phi))**2)/2 "
   ]
  },
  {
   "cell_type": "code",
   "execution_count": 36,
   "id": "7eac1529",
   "metadata": {},
   "outputs": [
    {
     "name": "stdout",
     "output_type": "stream",
     "text": [
      "2022-02-25 16:54:03.861959\n",
      "2022-02-25 16:54:03.917049\n"
     ]
    }
   ],
   "source": [
    "from scipy.optimize import dual_annealing\n",
    "import datetime\n",
    "\n",
    "print(datetime.datetime.now())\n",
    "sigma_01_temp = [np.zeros((basis.Ns,basis.Ns),dtype = complex) for i in range(L)]\n",
    "sigma_12_temp = [np.zeros((basis.Ns,basis.Ns),dtype = complex) for i in range(L)]\n",
    "sigma_02_temp = [np.zeros((basis.Ns,basis.Ns),dtype = complex) for i in range(L)]\n",
    "\n",
    "sigma_z_01_temp = [np.zeros((basis.Ns,basis.Ns),dtype = complex) for i in range(L)]\n",
    "sigma_z_12_temp = [np.zeros((basis.Ns,basis.Ns),dtype = complex) for i in range(L)]\n",
    "sigma_z_02_temp = [np.zeros((basis.Ns,basis.Ns),dtype = complex) for i in range(L)]\n",
    "\n",
    "\n",
    "for k in range(L):\n",
    "    for i in range(basis.Ns):\n",
    "        for j in range(basis.Ns):\n",
    "\n",
    "            string_i = basis.int_to_state(basis.Ns-i-1,bracket_notation=False)\n",
    "            string_j = basis.int_to_state(basis.Ns-j-1,bracket_notation=False)\n",
    "            \n",
    "            if (clause(string_i,string_j,k,0,1)==0):\n",
    "                sigma_01_temp[k][i][j] = 0.5\n",
    "            if (clause(string_i,string_j,k,1,0)==0):\n",
    "                sigma_01_temp[k][i][j] = 0.5\n",
    "                \n",
    "            if (clause(string_i,string_j,k,1,2)==0):\n",
    "                sigma_12_temp[k][i][j] = 0.5\n",
    "            if (clause(string_i,string_j,k,2,1)==0):\n",
    "                sigma_12_temp[k][i][j] = 0.5\n",
    "                \n",
    "            if (clause(string_i,string_j,k,0,2)==0):\n",
    "                sigma_02_temp[k][i][j] = 0.5\n",
    "            if (clause(string_i,string_j,k,2,0)==0):\n",
    "                sigma_02_temp[k][i][j] = 0.5\n",
    "                \n",
    "            if (clause(string_i,string_j,k,0,0)==0):\n",
    "                sigma_z_01_temp[k][i][j] = -1.\n",
    "                sigma_z_02_temp[k][i][j] = -1.\n",
    "                \n",
    "            if (clause(string_i,string_j,k,1,1)==0):\n",
    "                sigma_z_01_temp[k][i][j] = 1.\n",
    "                sigma_z_12_temp[k][i][j] = -1.\n",
    "\n",
    "            if (clause(string_i,string_j,k,2,2)==0):\n",
    "                sigma_z_02_temp[k][i][j] = 1.\n",
    "                sigma_z_12_temp[k][i][j] = 1.\n",
    "\n",
    "\n",
    "                \n",
    "sigma_01 = np.zeros((basis.Ns,basis.Ns),dtype = complex)\n",
    "sigma_12 = np.zeros((basis.Ns,basis.Ns),dtype = complex)\n",
    "sigma_02 = np.zeros((basis.Ns,basis.Ns),dtype = complex)\n",
    "\n",
    "sigma_z_01 = np.zeros((basis.Ns,basis.Ns),dtype = complex)\n",
    "sigma_z_12 = np.zeros((basis.Ns,basis.Ns),dtype = complex)\n",
    "sigma_z_02 = np.zeros((basis.Ns,basis.Ns),dtype = complex)\n",
    "\n",
    "for i in range(L):\n",
    "    sigma_01 +=sigma_01_temp[i]\n",
    "    sigma_12 +=sigma_12_temp[i]\n",
    "    sigma_02 +=sigma_02_temp[i]\n",
    "    sigma_z_01 +=sigma_z_01_temp[i]\n",
    "    sigma_z_12 +=sigma_z_12_temp[i]\n",
    "    sigma_z_02 +=sigma_z_02_temp[i]    \n",
    "\n",
    "    \n",
    "for i in range(L):\n",
    "    sigma_01_temp[i] = sparse.csc_matrix(sigma_01_temp[i])\n",
    "    sigma_12_temp[i] = sparse.csc_matrix(sigma_12_temp[i])\n",
    "    sigma_02_temp[i] = sparse.csc_matrix(sigma_02_temp[i])\n",
    "    sigma_z_01_temp[i] = sparse.csc_matrix(sigma_z_01_temp[i])\n",
    "    sigma_z_12_temp[i] = sparse.csc_matrix(sigma_z_12_temp[i])\n",
    "    sigma_z_02_temp[i] = sparse.csc_matrix(sigma_z_02_temp[i])\n",
    "sigma_01 = sparse.csc_matrix(sigma_01)\n",
    "sigma_12 = sparse.csc_matrix(sigma_12)\n",
    "sigma_02 = sparse.csc_matrix(sigma_02)\n",
    "\n",
    "psi_var = rot(sigma_02_temp[0],10.)@rot(sigma_12_temp[0],10.)@rot(sigma_01_temp[0],10.)@psi_0\n",
    "print(datetime.datetime.now())"
   ]
  },
  {
   "cell_type": "code",
   "execution_count": 39,
   "id": "acf52be2",
   "metadata": {},
   "outputs": [],
   "source": []
  },
  {
   "cell_type": "code",
   "execution_count": 40,
   "id": "be05b8dc",
   "metadata": {},
   "outputs": [
    {
     "name": "stdout",
     "output_type": "stream",
     "text": [
      "True\n"
     ]
    }
   ],
   "source": [
    "print(np.allclose(sigma_01_temp[2].toarray(),sigma_matrix(2,0,1,0).toarray(),atol = 1e-8,rtol = 1e-8))"
   ]
  },
  {
   "cell_type": "code",
   "execution_count": 27,
   "id": "93fdb121",
   "metadata": {},
   "outputs": [
    {
     "name": "stdout",
     "output_type": "stream",
     "text": [
      "2022-02-25 16:43:12.861883\n",
      "2022-02-25 16:43:12.897213\n"
     ]
    }
   ],
   "source": [
    "print(datetime.datetime.now())\n",
    "psi_var = rot(sigma_matrix(0,0,2),10.)@rot(sigma_matrix(0,1,2),10.)@rot(sigma_matrix(0,0,1),10.)@psi_0\n",
    "print(datetime.datetime.now())"
   ]
  },
  {
   "cell_type": "code",
   "execution_count": null,
   "id": "9fd8da8a",
   "metadata": {},
   "outputs": [],
   "source": []
  }
 ],
 "metadata": {
  "kernelspec": {
   "display_name": "Python 3",
   "language": "python",
   "name": "python3"
  },
  "language_info": {
   "codemirror_mode": {
    "name": "ipython",
    "version": 3
   },
   "file_extension": ".py",
   "mimetype": "text/x-python",
   "name": "python",
   "nbconvert_exporter": "python",
   "pygments_lexer": "ipython3",
   "version": "3.8.8"
  }
 },
 "nbformat": 4,
 "nbformat_minor": 5
}
