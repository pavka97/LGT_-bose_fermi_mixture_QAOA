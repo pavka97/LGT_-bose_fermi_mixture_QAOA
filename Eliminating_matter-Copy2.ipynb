{
 "cells": [
  {
   "cell_type": "code",
   "execution_count": 1,
   "id": "86d8cc9e",
   "metadata": {},
   "outputs": [],
   "source": [
    "from __future__ import print_function, division\n",
    "import sys,os\n",
    "# line 4 and line 5 below are for development purposes and can be removed\n",
    "qspin_path = os.path.join(os.getcwd(),\"../../\")\n",
    "sys.path.insert(0,qspin_path)\n",
    "from scipy.linalg import expm\n",
    "from quspin.operators import hamiltonian, commutator, exp_op # Hamiltonians and operators\n",
    "from quspin.basis import tensor_basis, spin_basis_1d # bases\n",
    "from quspin.tools.measurements import obs_vs_time # calculating dynamics\n",
    "from quspin.tools.Floquet import Floquet_t_vec # period-spaced time vector\n",
    "import numpy as np # general math functions\n",
    "import matplotlib.pyplot as plt # plotting library"
   ]
  },
  {
   "cell_type": "code",
   "execution_count": 2,
   "id": "a3b5bfc8",
   "metadata": {},
   "outputs": [],
   "source": [
    "L = 5\n",
    "M = 0.1\n",
    "l=1\n",
    "no_checks = dict(check_pcon=False,check_symm=False,check_herm=False)\n"
   ]
  },
  {
   "cell_type": "code",
   "execution_count": 3,
   "id": "81fe58e3",
   "metadata": {},
   "outputs": [
    {
     "name": "stdout",
     "output_type": "stream",
     "text": [
      "reference states: \n",
      "array index   /   Fock state   /   integer repr. \n",
      "       0.         |2 2 2 2 2>           242  \n",
      "       1.         |2 2 2 2 1>           241  \n",
      "       2.         |2 2 2 2 0>           240  \n",
      "       3.         |2 2 2 1 2>           239  \n",
      "       4.         |2 2 2 1 1>           238  \n",
      "       5.         |2 2 2 1 0>           237  \n",
      "       6.         |2 2 2 0 2>           236  \n",
      "       7.         |2 2 2 0 1>           235  \n",
      "       8.         |2 2 2 0 0>           234  \n",
      "       9.         |2 2 1 2 2>           233  \n",
      "      10.         |2 2 1 2 1>           232  \n",
      "      11.         |2 2 1 2 0>           231  \n",
      "      12.         |2 2 1 1 2>           230  \n",
      "      13.         |2 2 1 1 1>           229  \n",
      "      14.         |2 2 1 1 0>           228  \n",
      "      15.         |2 2 1 0 2>           227  \n",
      "      16.         |2 2 1 0 1>           226  \n",
      "      17.         |2 2 1 0 0>           225  \n",
      "      18.         |2 2 0 2 2>           224  \n",
      "      19.         |2 2 0 2 1>           223  \n",
      "      20.         |2 2 0 2 0>           222  \n",
      "      21.         |2 2 0 1 2>           221  \n",
      "      22.         |2 2 0 1 1>           220  \n",
      "      23.         |2 2 0 1 0>           219  \n",
      "      24.         |2 2 0 0 2>           218  \n",
      "                     :\n",
      "     218.         |0 0 2 2 0>            24  \n",
      "     219.         |0 0 2 1 2>            23  \n",
      "     220.         |0 0 2 1 1>            22  \n",
      "     221.         |0 0 2 1 0>            21  \n",
      "     222.         |0 0 2 0 2>            20  \n",
      "     223.         |0 0 2 0 1>            19  \n",
      "     224.         |0 0 2 0 0>            18  \n",
      "     225.         |0 0 1 2 2>            17  \n",
      "     226.         |0 0 1 2 1>            16  \n",
      "     227.         |0 0 1 2 0>            15  \n",
      "     228.         |0 0 1 1 2>            14  \n",
      "     229.         |0 0 1 1 1>            13  \n",
      "     230.         |0 0 1 1 0>            12  \n",
      "     231.         |0 0 1 0 2>            11  \n",
      "     232.         |0 0 1 0 1>            10  \n",
      "     233.         |0 0 1 0 0>             9  \n",
      "     234.         |0 0 0 2 2>             8  \n",
      "     235.         |0 0 0 2 1>             7  \n",
      "     236.         |0 0 0 2 0>             6  \n",
      "     237.         |0 0 0 1 2>             5  \n",
      "     238.         |0 0 0 1 1>             4  \n",
      "     239.         |0 0 0 1 0>             3  \n",
      "     240.         |0 0 0 0 2>             2  \n",
      "     241.         |0 0 0 0 1>             1  \n",
      "     242.         |0 0 0 0 0>             0  \n"
     ]
    }
   ],
   "source": [
    "basis=spin_basis_1d(L=L,S = str(l))\n",
    "print(basis)"
   ]
  },
  {
   "cell_type": "code",
   "execution_count": 4,
   "id": "5be4cc60",
   "metadata": {},
   "outputs": [],
   "source": [
    "basis_vectors = []\n",
    "for index in range(basis.Ns):\n",
    "    state = np.zeros(basis.Ns)\n",
    "    state[basis.Ns-index-1] = 1.\n",
    "    state = state.tolist()\n",
    "    basis_vectors.append(state)"
   ]
  },
  {
   "cell_type": "code",
   "execution_count": 5,
   "id": "c965f8da",
   "metadata": {},
   "outputs": [],
   "source": [
    "sigma_01_0 = np.zeros((basis.Ns,basis.Ns))\n",
    "sigma_12_0 = np.zeros((basis.Ns,basis.Ns))\n",
    "sigma_02_0 = np.zeros((basis.Ns,basis.Ns))\n",
    "sigma_01_1 = np.zeros((basis.Ns,basis.Ns))\n",
    "sigma_12_1 = np.zeros((basis.Ns,basis.Ns))\n",
    "sigma_02_1 = np.zeros((basis.Ns,basis.Ns))\n",
    "sigma_01_2 = np.zeros((basis.Ns,basis.Ns))\n",
    "sigma_12_2 = np.zeros((basis.Ns,basis.Ns))\n",
    "sigma_02_2 = np.zeros((basis.Ns,basis.Ns))\n",
    "sigma_01_3 = np.zeros((basis.Ns,basis.Ns))\n",
    "sigma_12_3 = np.zeros((basis.Ns,basis.Ns))\n",
    "sigma_02_3 = np.zeros((basis.Ns,basis.Ns))\n",
    "sigma_01_4 = np.zeros((basis.Ns,basis.Ns))\n",
    "sigma_12_4 = np.zeros((basis.Ns,basis.Ns))\n",
    "sigma_02_4 = np.zeros((basis.Ns,basis.Ns))\n",
    "\n",
    "for i in range(basis.Ns):\n",
    "    for j in range(basis.Ns):\n",
    "        \n",
    "        string_i = basis.int_to_state(basis.Ns-i-1,bracket_notation=False)\n",
    "        string_j = basis.int_to_state(basis.Ns-j-1,bracket_notation=False)\n",
    "        #0th link\n",
    "        if (int(string_i[0]) == 0) & (int(string_j[0]) == 1) & (int(string_i[1]) == int(string_j[1])) & (int(string_i[2]) == int(string_j[2])) & (int(string_i[3]) == int(string_j[3])) & (int(string_i[4]) == int(string_j[4])):\n",
    "            sigma_01_0[i][j] = 1.\n",
    "        if (int(string_i[0]) == 1) & (int(string_j[0]) == 0) & (int(string_i[1]) == int(string_j[1])) & (int(string_i[2]) == int(string_j[2])) & (int(string_i[3]) == int(string_j[3])) & (int(string_i[4]) == int(string_j[4])):\n",
    "            sigma_01_0[i][j] = 1.\n",
    "            \n",
    "        if (int(string_i[0]) == 0) & (int(string_j[0]) == 2) & (int(string_i[1]) == int(string_j[1])) & (int(string_i[2]) == int(string_j[2])) & (int(string_i[3]) == int(string_j[3])) & (int(string_i[4]) == int(string_j[4])):\n",
    "            sigma_02_0[i][j] = 1.\n",
    "        if (int(string_i[0]) == 2) & (int(string_j[0]) == 0) & (int(string_i[1]) == int(string_j[1])) & (int(string_i[2]) == int(string_j[2])) & (int(string_i[3]) == int(string_j[3])) & (int(string_i[4]) == int(string_j[4])):\n",
    "            sigma_02_0[i][j] = 1.\n",
    "            \n",
    "        if (int(string_i[0]) == 1) & (int(string_j[0]) == 2) & (int(string_i[1]) == int(string_j[1])) & (int(string_i[2]) == int(string_j[2])) & (int(string_i[3]) == int(string_j[3])) & (int(string_i[4]) == int(string_j[4])):\n",
    "            sigma_12_0[i][j] = 1.\n",
    "        if (int(string_i[0]) == 2) & (int(string_j[0]) == 1) & (int(string_i[1]) == int(string_j[1])) & (int(string_i[2]) == int(string_j[2])) & (int(string_i[3]) == int(string_j[3])) & (int(string_i[4]) == int(string_j[4])):\n",
    "            sigma_12_0[i][j] = 1.\n",
    "        #1st link\n",
    "        if (int(string_i[1]) == 0) & (int(string_j[1]) == 1) & (int(string_i[0]) == int(string_j[0])) & (int(string_i[2]) == int(string_j[2])) & (int(string_i[3]) == int(string_j[3])) & (int(string_i[4]) == int(string_j[4])):\n",
    "            sigma_01_1[i][j] = 1.\n",
    "        if (int(string_i[1]) == 1) & (int(string_j[1]) == 0) & (int(string_i[0]) == int(string_j[0])) & (int(string_i[2]) == int(string_j[2])) & (int(string_i[3]) == int(string_j[3])) & (int(string_i[4]) == int(string_j[4])):\n",
    "            sigma_01_1[i][j] = 1.\n",
    "            \n",
    "        if (int(string_i[1]) == 0) & (int(string_j[1]) == 2) & (int(string_i[0]) == int(string_j[0])) & (int(string_i[2]) == int(string_j[2])) & (int(string_i[3]) == int(string_j[3])) & (int(string_i[4]) == int(string_j[4])):\n",
    "            sigma_02_1[i][j] = 1.\n",
    "        if (int(string_i[1]) == 2) & (int(string_j[1]) == 0) & (int(string_i[0]) == int(string_j[0])) & (int(string_i[2]) == int(string_j[2])) & (int(string_i[3]) == int(string_j[3])) & (int(string_i[4]) == int(string_j[4])):\n",
    "            sigma_02_1[i][j] = 1.\n",
    "            \n",
    "        if (int(string_i[1]) == 1) & (int(string_j[1]) == 2) & (int(string_i[0]) == int(string_j[0])) & (int(string_i[2]) == int(string_j[2])) & (int(string_i[3]) == int(string_j[3])) & (int(string_i[4]) == int(string_j[4])):\n",
    "            sigma_12_1[i][j] = 1.\n",
    "        if (int(string_i[1]) == 2) & (int(string_j[1]) == 1) & (int(string_i[0]) == int(string_j[0])) & (int(string_i[2]) == int(string_j[2])) & (int(string_i[3]) == int(string_j[3])) & (int(string_i[4]) == int(string_j[4])):\n",
    "            sigma_12_1[i][j] = 1.\n",
    "        #2nd link\n",
    "        if (int(string_i[2]) == 0) & (int(string_j[2]) == 1) & (int(string_i[1]) == int(string_j[1])) & (int(string_i[0]) == int(string_j[0])) & (int(string_i[3]) == int(string_j[3])) & (int(string_i[4]) == int(string_j[4])):\n",
    "            sigma_01_2[i][j] = 1.\n",
    "        if (int(string_i[2]) == 1) & (int(string_j[2]) == 0) & (int(string_i[1]) == int(string_j[1])) & (int(string_i[0]) == int(string_j[0])) & (int(string_i[3]) == int(string_j[3])) & (int(string_i[4]) == int(string_j[4])):\n",
    "            sigma_01_2[i][j] = 1.\n",
    "            \n",
    "        if (int(string_i[2]) == 0) & (int(string_j[2]) == 2) & (int(string_i[1]) == int(string_j[1])) & (int(string_i[0]) == int(string_j[0])) & (int(string_i[3]) == int(string_j[3])) & (int(string_i[4]) == int(string_j[4])):\n",
    "            sigma_02_2[i][j] = 1.\n",
    "        if (int(string_i[2]) == 2) & (int(string_j[2]) == 0) & (int(string_i[1]) == int(string_j[1])) & (int(string_i[0]) == int(string_j[0])) & (int(string_i[3]) == int(string_j[3])) & (int(string_i[4]) == int(string_j[4])):\n",
    "            sigma_02_2[i][j] = 1.\n",
    "            \n",
    "        if (int(string_i[2]) == 1) & (int(string_j[2]) == 2) & (int(string_i[1]) == int(string_j[1])) & (int(string_i[0]) == int(string_j[0])) & (int(string_i[3]) == int(string_j[3])) & (int(string_i[4]) == int(string_j[4])):\n",
    "            sigma_12_2[i][j] = 1.\n",
    "        if (int(string_i[2]) == 2) & (int(string_j[2]) == 1) & (int(string_i[1]) == int(string_j[1])) & (int(string_i[0]) == int(string_j[0])) & (int(string_i[3]) == int(string_j[3])) & (int(string_i[4]) == int(string_j[4])):\n",
    "            sigma_12_2[i][j] = 1.   \n",
    "        #3rd link\n",
    "        if (int(string_i[3]) == 0) & (int(string_j[3]) == 1) & (int(string_i[1]) == int(string_j[1])) & (int(string_i[0]) == int(string_j[0])) & (int(string_i[2]) == int(string_j[2])) & (int(string_i[4]) == int(string_j[4])):\n",
    "            sigma_01_3[i][j] = 1.\n",
    "        if (int(string_i[3]) == 1) & (int(string_j[3]) == 0) & (int(string_i[1]) == int(string_j[1])) & (int(string_i[0]) == int(string_j[0])) & (int(string_i[2]) == int(string_j[2])) & (int(string_i[4]) == int(string_j[4])):\n",
    "            sigma_01_3[i][j] = 1.\n",
    "            \n",
    "        if (int(string_i[3]) == 0) & (int(string_j[3]) == 2) & (int(string_i[1]) == int(string_j[1])) & (int(string_i[0]) == int(string_j[0])) & (int(string_i[2]) == int(string_j[2])) & (int(string_i[4]) == int(string_j[4])):\n",
    "            sigma_02_3[i][j] = 1.\n",
    "        if (int(string_i[3]) == 2) & (int(string_j[3]) == 0) & (int(string_i[1]) == int(string_j[1])) & (int(string_i[0]) == int(string_j[0])) & (int(string_i[2]) == int(string_j[2])) & (int(string_i[4]) == int(string_j[4])):\n",
    "            sigma_02_3[i][j] = 1.\n",
    "            \n",
    "        if (int(string_i[3]) == 1) & (int(string_j[3]) == 2) & (int(string_i[1]) == int(string_j[1])) & (int(string_i[0]) == int(string_j[0])) & (int(string_i[2]) == int(string_j[2])) & (int(string_i[4]) == int(string_j[4])):\n",
    "            sigma_12_3[i][j] = 1.\n",
    "        if (int(string_i[3]) == 2) & (int(string_j[3]) == 1) & (int(string_i[1]) == int(string_j[1])) & (int(string_i[0]) == int(string_j[0])) & (int(string_i[2]) == int(string_j[2])) & (int(string_i[4]) == int(string_j[4])):\n",
    "            sigma_12_3[i][j] = 1. \n",
    "        #4th link\n",
    "        if (int(string_i[4]) == 0) & (int(string_j[4]) == 1) & (int(string_i[1]) == int(string_j[1])) & (int(string_i[0]) == int(string_j[0])) & (int(string_i[3]) == int(string_j[3])) & (int(string_i[2]) == int(string_j[2])):\n",
    "            sigma_01_4[i][j] = 1.\n",
    "        if (int(string_i[4]) == 1) & (int(string_j[4]) == 0) & (int(string_i[1]) == int(string_j[1])) & (int(string_i[0]) == int(string_j[0])) & (int(string_i[3]) == int(string_j[3])) & (int(string_i[2]) == int(string_j[2])):\n",
    "            sigma_01_4[i][j] = 1.\n",
    "            \n",
    "        if (int(string_i[4]) == 0) & (int(string_j[4]) == 2) & (int(string_i[1]) == int(string_j[1])) & (int(string_i[0]) == int(string_j[0])) & (int(string_i[3]) == int(string_j[3])) & (int(string_i[2]) == int(string_j[2])):\n",
    "            sigma_02_4[i][j] = 1.\n",
    "        if (int(string_i[4]) == 2) & (int(string_j[4]) == 0) & (int(string_i[1]) == int(string_j[1])) & (int(string_i[0]) == int(string_j[0])) & (int(string_i[3]) == int(string_j[3])) & (int(string_i[2]) == int(string_j[2])):\n",
    "            sigma_02_4[i][j] = 1.\n",
    "            \n",
    "        if (int(string_i[4]) == 1) & (int(string_j[4]) == 2) & (int(string_i[1]) == int(string_j[1])) & (int(string_i[0]) == int(string_j[0])) & (int(string_i[3]) == int(string_j[3])) & (int(string_i[2]) == int(string_j[2])):\n",
    "            sigma_12_4[i][j] = 1.\n",
    "        if (int(string_i[4]) == 2) & (int(string_j[4]) == 1) & (int(string_i[1]) == int(string_j[1])) & (int(string_i[0]) == int(string_j[0])) & (int(string_i[3]) == int(string_j[3])) & (int(string_i[2]) == int(string_j[2])):\n",
    "            sigma_12_4[i][j] = 1. \n",
    "            \n",
    "sigma_01 = sigma_01_0 + sigma_01_1 + sigma_01_2 + sigma_01_3 + sigma_01_4\n",
    "sigma_12 = sigma_12_0 + sigma_12_1 + sigma_12_2 + sigma_12_3 + sigma_12_4\n",
    "sigma_02 = sigma_02_0 + sigma_02_1 + sigma_02_2 + sigma_02_3 + sigma_02_4\n",
    "def rot(sigma,theta):\n",
    "    return expm(-1j*theta*sigma/2)"
   ]
  },
  {
   "cell_type": "code",
   "execution_count": 6,
   "id": "decbdb19",
   "metadata": {},
   "outputs": [],
   "source": [
    "ms_01_0_1 = ((sigma_01_0+sigma_01_1)**2)/2\n",
    "ms_12_0_1 = ((sigma_12_0+sigma_12_1)**2)/2\n",
    "ms_02_0_1 = ((sigma_02_0+sigma_02_1)**2)/2\n",
    "\n",
    "ms_01_1_2 = ((sigma_01_1+sigma_01_2)**2)/2\n",
    "ms_12_1_2 = ((sigma_12_1+sigma_12_2)**2)/2\n",
    "ms_02_1_2 = ((sigma_02_1+sigma_02_2)**2)/2\n",
    "\n",
    "ms_01_2_3 = ((sigma_01_2+sigma_01_3)**2)/2\n",
    "ms_12_2_3 = ((sigma_12_2+sigma_12_3)**2)/2\n",
    "ms_02_2_3 = ((sigma_02_2+sigma_02_3)**2)/2\n",
    "\n",
    "ms_01_3_4 = ((sigma_01_3+sigma_01_4)**2)/2\n",
    "ms_12_3_4 = ((sigma_12_3+sigma_12_4)**2)/2\n",
    "ms_02_3_4 = ((sigma_02_3+sigma_02_4)**2)/2\n",
    "\n",
    "\n",
    "ms_01 = ms_01_0_1 + ms_01_1_2 + ms_01_2_3 + ms_01_3_4\n",
    "ms_12 = ms_12_0_1 + ms_12_1_2 + ms_12_2_3 + ms_12_3_4\n",
    "ms_02 = ms_02_0_1 + ms_02_1_2 + ms_02_2_3 + ms_02_3_4\n"
   ]
  },
  {
   "cell_type": "code",
   "execution_count": 7,
   "id": "0e69bd4d",
   "metadata": {},
   "outputs": [],
   "source": [
    "#Gauss_law_0\n",
    "\n",
    "gauss_law_z_0 = []\n",
    "gauss_law_z_0.append([1.,0])\n",
    "\n",
    "gauss_law_0_map = [\n",
    "    \n",
    "    [\"z\",gauss_law_z_0]\n",
    "\n",
    "    \n",
    "]\n",
    "\n",
    "Gauss_law_0  = hamiltonian(gauss_law_0_map,dynamic_list=[],basis=basis,**no_checks)\n",
    "\n",
    "constraint_0 = Gauss_law_0**2-Gauss_law_0"
   ]
  },
  {
   "cell_type": "code",
   "execution_count": 8,
   "id": "bd88271a",
   "metadata": {},
   "outputs": [],
   "source": [
    "Proj_10 = 0\n",
    "Proj_00 = 0\n",
    "for state in basis_vectors:\n",
    "    state = np.array(state)\n",
    "    if (Gauss_law_0.expt_value(state)>=1.-1e-8) & (Gauss_law_0.expt_value(state)<=1.+1e-8):\n",
    "        Proj_10 += np.outer(state,state)\n",
    "    if (Gauss_law_0.expt_value(state)>=0.-1e-8) & (Gauss_law_0.expt_value(state)<=0.+1e-8):\n",
    "        Proj_00 += np.outer(state,state)"
   ]
  },
  {
   "cell_type": "code",
   "execution_count": 9,
   "id": "0eabeb79",
   "metadata": {},
   "outputs": [],
   "source": [
    "#Gauss_law_1\n",
    "gauss_law_zm_1 = []\n",
    "gauss_law_zm_1.append([-1.,0])\n",
    "\n",
    "gauss_law_z_1 = []\n",
    "gauss_law_z_1.append([1.,1])\n",
    "\n",
    "gauss_law_id_1 = [[1.,1]]\n",
    "\n",
    "gauss_law_1_map = [\n",
    "    \n",
    "    [\"z\",gauss_law_z_1],\n",
    "    [\"z\",gauss_law_zm_1],\n",
    "    [\"I\",gauss_law_id_1]\n",
    "    \n",
    "]\n",
    "\n",
    "Gauss_law_1  = hamiltonian(gauss_law_1_map,dynamic_list=[],basis=basis,**no_checks)\n",
    "constraint_1 = Gauss_law_1**2-Gauss_law_1"
   ]
  },
  {
   "cell_type": "code",
   "execution_count": 10,
   "id": "7f1450a7",
   "metadata": {},
   "outputs": [],
   "source": [
    "Proj_01 = 0\n",
    "Proj_11 = 0\n",
    "for state in basis_vectors:\n",
    "    state = np.array(state)\n",
    "    if (Gauss_law_1.expt_value(state)>=0.-1e-8) & (Gauss_law_1.expt_value(state)<=0.+1e-8):\n",
    "        Proj_01 += np.outer(state,state)\n",
    "    if (Gauss_law_1.expt_value(state)>=1.-1e-8) & (Gauss_law_1.expt_value(state)<=1.+1e-8):\n",
    "        Proj_11 += np.outer(state,state)"
   ]
  },
  {
   "cell_type": "code",
   "execution_count": 11,
   "id": "96137785",
   "metadata": {},
   "outputs": [],
   "source": [
    "#Gauss_law_2\n",
    "gauss_law_zm_2 = []\n",
    "gauss_law_zm_2.append([-1.,1])\n",
    "\n",
    "gauss_law_z_2 = []\n",
    "gauss_law_z_2.append([1.,2])\n",
    "\n",
    "\n",
    "gauss_law_2_map = [\n",
    "    \n",
    "    [\"z\",gauss_law_z_2],\n",
    "    [\"z\",gauss_law_zm_2],\n",
    "    \n",
    "]\n",
    "\n",
    "Gauss_law_2  = hamiltonian(gauss_law_2_map,dynamic_list=[],basis=basis,**no_checks)\n",
    "constraint_2 = Gauss_law_2**2-Gauss_law_2"
   ]
  },
  {
   "cell_type": "code",
   "execution_count": 12,
   "id": "a739bf71",
   "metadata": {},
   "outputs": [],
   "source": [
    "Proj_02 = 0\n",
    "Proj_12 = 0\n",
    "for state in basis_vectors:\n",
    "    state = np.array(state)\n",
    "    if (Gauss_law_2.expt_value(state)>=0.-1e-8) & (Gauss_law_2.expt_value(state)<=0.+1e-8):\n",
    "        Proj_02 += np.outer(state,state)\n",
    "    if (Gauss_law_2.expt_value(state)>=1.-1e-8) & (Gauss_law_2.expt_value(state)<=1.+1e-8):\n",
    "        Proj_12 += np.outer(state,state)"
   ]
  },
  {
   "cell_type": "code",
   "execution_count": 13,
   "id": "97e87244",
   "metadata": {},
   "outputs": [],
   "source": [
    "#Gauss_law_3\n",
    "gauss_law_zm_3 = []\n",
    "gauss_law_zm_3.append([-1.,2])\n",
    "\n",
    "gauss_law_z_3 = []\n",
    "gauss_law_z_3.append([1.,3])\n",
    "\n",
    "gauss_law_id_3 = [[1.,3]]\n",
    "\n",
    "gauss_law_3_map = [\n",
    "    \n",
    "    [\"z\",gauss_law_z_3],\n",
    "    [\"z\",gauss_law_zm_3],\n",
    "    [\"I\",gauss_law_id_3]\n",
    "    \n",
    "]\n",
    "\n",
    "Gauss_law_3  = hamiltonian(gauss_law_3_map,dynamic_list=[],basis=basis,**no_checks)\n",
    "constraint_3 = Gauss_law_3**2-Gauss_law_3"
   ]
  },
  {
   "cell_type": "code",
   "execution_count": 14,
   "id": "abae5eb3",
   "metadata": {},
   "outputs": [],
   "source": [
    "Proj_03 = 0\n",
    "Proj_13 = 0\n",
    "\n",
    "for state in basis_vectors:\n",
    "    state = np.array(state)\n",
    "    if (Gauss_law_3.expt_value(state)>=0.-1e-8) & (Gauss_law_3.expt_value(state)<=0.+1e-8):\n",
    "        Proj_03 += np.outer(state,state)\n",
    "    if (Gauss_law_3.expt_value(state)>=1.-1e-8) & (Gauss_law_3.expt_value(state)<=1.+1e-8):\n",
    "        Proj_13 += np.outer(state,state)"
   ]
  },
  {
   "cell_type": "code",
   "execution_count": 15,
   "id": "475b6129",
   "metadata": {},
   "outputs": [],
   "source": [
    "#Gauss_law_4\n",
    "gauss_law_zm_4 = []\n",
    "gauss_law_zm_4.append([-1.,3])\n",
    "\n",
    "gauss_law_z_4 = []\n",
    "gauss_law_z_4.append([1.,4])\n",
    "\n",
    "\n",
    "gauss_law_4_map = [\n",
    "    \n",
    "    [\"z\",gauss_law_z_4],\n",
    "    [\"z\",gauss_law_zm_4],\n",
    "    \n",
    "]\n",
    "\n",
    "Gauss_law_4  = hamiltonian(gauss_law_4_map,dynamic_list=[],basis=basis,**no_checks)\n",
    "constraint_4 = Gauss_law_4**2-Gauss_law_4"
   ]
  },
  {
   "cell_type": "code",
   "execution_count": 16,
   "id": "cca86f9e",
   "metadata": {},
   "outputs": [],
   "source": [
    "Proj_04 = 0\n",
    "Proj_14 = 0\n",
    "\n",
    "for state in basis_vectors:\n",
    "    state = np.array(state)\n",
    "    if (Gauss_law_4.expt_value(state)>=0.-1e-8) & (Gauss_law_4.expt_value(state)<=0.+1e-8):\n",
    "        Proj_04 += np.outer(state,state)\n",
    "    if (Gauss_law_4.expt_value(state)>=1.-1e-8) & (Gauss_law_4.expt_value(state)<=1.+1e-8):\n",
    "        Proj_14 += np.outer(state,state)"
   ]
  },
  {
   "cell_type": "code",
   "execution_count": 17,
   "id": "3b7b17c9",
   "metadata": {},
   "outputs": [],
   "source": [
    "#Gauss_law_1\n",
    "gauss_law_zm_5 = []\n",
    "gauss_law_zm_5.append([-1.,4])\n",
    "\n",
    "\n",
    "\n",
    "gauss_law_id_5 = [[1.,4]]\n",
    "\n",
    "gauss_law_5_map = [\n",
    "    \n",
    "    [\"z\",gauss_law_zm_5],\n",
    "    [\"I\",gauss_law_id_5]\n",
    "    \n",
    "]\n",
    "\n",
    "Gauss_law_5  = hamiltonian(gauss_law_5_map,dynamic_list=[],basis=basis,**no_checks)\n",
    "constraint_5 = Gauss_law_5**2-Gauss_law_5"
   ]
  },
  {
   "cell_type": "code",
   "execution_count": 18,
   "id": "c1239357",
   "metadata": {},
   "outputs": [],
   "source": [
    "Proj_05 = 0\n",
    "Proj_15 = 0\n",
    "\n",
    "for state in basis_vectors:\n",
    "    state = np.array(state)\n",
    "    if (Gauss_law_5.expt_value(state)>=0.-1e-8) & (Gauss_law_5.expt_value(state)<=0.+1e-8):\n",
    "        Proj_05 += np.outer(state,state)\n",
    "    if (Gauss_law_5.expt_value(state)>=1.-1e-8) & (Gauss_law_5.expt_value(state)<=1.+1e-8):\n",
    "        Proj_15 += np.outer(state,state)"
   ]
  },
  {
   "cell_type": "code",
   "execution_count": 19,
   "id": "27e0bf1e",
   "metadata": {},
   "outputs": [],
   "source": [
    "kin_energy = [[0.5,i,i] for i in range(L)]\n",
    "mass_term = [[(-1)**i*2*M,i] for i in range(L)]\n",
    "\n",
    "\n",
    "\n",
    "quadratic_term_0 = [[1./(2*np.sqrt(2)),0,1]]\n",
    "linear_term_0 = [[0.5/(2*np.sqrt(2)),0]]\n",
    "\n",
    "quadratic_term_1 = [[-1./(2*np.sqrt(2)),1,2]]\n",
    "linear_term_1 = [[1./(2*np.sqrt(2)),1]]\n",
    "\n",
    "quadratic_term_2 = [[1./(2*np.sqrt(2)),2,3]]\n",
    "linear_term_2 = [[0.5/(2*np.sqrt(2)),2]]\n",
    "\n",
    "quadratic_term_3 = [[-1./(2*np.sqrt(2)),3,4]]\n",
    "linear_term_3 = [[1./(2*np.sqrt(2)),3]]\n",
    "\n",
    "linear_term_4 = [[0.5/(2*np.sqrt(2)),4]]\n",
    "\n",
    "kin_mass_map = [\n",
    "            [\"zz\", kin_energy], \n",
    "            [\"z\", mass_term], \n",
    "]\n",
    "\n",
    "\n",
    "interaction_map_p0 = [\n",
    "    \n",
    "    [\"+\", linear_term_0],\n",
    "    [\"+z\", quadratic_term_0],\n",
    "\n",
    "]\n",
    "\n",
    "interaction_map_m0 = [\n",
    "    \n",
    "    [\"-\", linear_term_0],\n",
    "    [\"-z\", quadratic_term_0],\n",
    "]\n",
    "\n",
    "interaction_map_p1 = [\n",
    "    \n",
    "    [\"+z\", quadratic_term_1],\n",
    "    [\"+\", linear_term_1]\n",
    "]\n",
    "\n",
    "interaction_map_m1 = [\n",
    "    \n",
    "    [\"-z\", quadratic_term_1],\n",
    "    [\"-\", linear_term_1]\n",
    "]\n",
    "\n",
    "interaction_map_p2 = [\n",
    "    \n",
    "    [\"+z\", quadratic_term_2],\n",
    "    [\"+\", linear_term_2]\n",
    "]\n",
    "\n",
    "interaction_map_m2 = [\n",
    "    \n",
    "    [\"-z\", quadratic_term_2],\n",
    "    [\"-\", linear_term_2]\n",
    "]\n",
    "\n",
    "\n",
    "interaction_map_p3 = [\n",
    "    \n",
    "    [\"+z\", quadratic_term_3],\n",
    "    [\"+\", linear_term_3]\n",
    "]\n",
    "\n",
    "interaction_map_m3 = [\n",
    "    \n",
    "    [\"-z\", quadratic_term_3],\n",
    "    [\"-\", linear_term_3]\n",
    "]\n",
    "\n",
    "interaction_map_p4 = [\n",
    "    \n",
    "    [\"+\", linear_term_4]\n",
    "]\n",
    "\n",
    "interaction_map_m4 = [\n",
    "    \n",
    "    [\"-\", linear_term_4]\n",
    "]\n",
    "\n",
    "\n",
    "\n",
    "\n",
    "\n",
    "\n",
    "\n",
    "H_int_p0 = hamiltonian(interaction_map_p0,dynamic_list=[],basis=basis,**no_checks)\n",
    "H_int_m0 = hamiltonian(interaction_map_m0,dynamic_list=[],basis=basis,**no_checks)\n",
    "\n",
    "H_int_p1 = hamiltonian(interaction_map_p1,dynamic_list=[],basis=basis,**no_checks)\n",
    "H_int_m1 = hamiltonian(interaction_map_m1,dynamic_list=[],basis=basis,**no_checks)\n",
    "\n",
    "H_int_p2 = hamiltonian(interaction_map_p2,dynamic_list=[],basis=basis,**no_checks)\n",
    "H_int_m2 = hamiltonian(interaction_map_m2,dynamic_list=[],basis=basis,**no_checks)\n",
    "\n",
    "H_int_p3 = hamiltonian(interaction_map_p3,dynamic_list=[],basis=basis,**no_checks)\n",
    "H_int_m3 = hamiltonian(interaction_map_m3,dynamic_list=[],basis=basis,**no_checks)\n",
    "\n",
    "H_int_p4 = hamiltonian(interaction_map_p4,dynamic_list=[],basis=basis,**no_checks)\n",
    "H_int_m4 = hamiltonian(interaction_map_m4,dynamic_list=[],basis=basis,**no_checks)\n",
    "\n",
    "H_kin_mass = hamiltonian(kin_mass_map,dynamic_list=[],basis=basis,**no_checks)\n",
    "\n",
    "h_int_p0 = H_int_p0.toarray()\n",
    "h_int_m0 = H_int_m0.toarray()\n",
    "\n",
    "h_int_p1 = H_int_p1.toarray()\n",
    "h_int_m1 = H_int_m1.toarray()\n",
    "\n",
    "h_int_p2 = H_int_p2.toarray()\n",
    "h_int_m2 = H_int_m2.toarray()\n",
    "\n",
    "h_int_p3 = H_int_p3.toarray()\n",
    "h_int_m3 = H_int_m3.toarray()\n",
    "\n",
    "h_int_p4 = H_int_p4.toarray()\n",
    "h_int_m4 = H_int_m4.toarray()\n",
    "\n",
    "h_kin_mass = H_kin_mass.toarray()\n",
    "\n",
    "h_int_0 = Proj_10 @ h_int_p0 @ Proj_11 + Proj_11 @ h_int_m0 @ Proj_10\n",
    "h_int_1 = Proj_11 @ h_int_p1 @ Proj_12 + Proj_12 @ h_int_m1 @ Proj_11\n",
    "h_int_2 = Proj_12 @ h_int_p2 @ Proj_13 + Proj_13 @ h_int_m2 @ Proj_12\n",
    "h_int_3 = Proj_13 @ h_int_p3 @ Proj_14 + Proj_14 @ h_int_m3 @ Proj_13\n",
    "h_int_4 = Proj_14 @ h_int_p4 @ Proj_15 + Proj_15 @ h_int_m4 @ Proj_14\n",
    "\n",
    "h_int = h_int_0+h_int_1+h_int_2+h_int_3+h_int_4\n",
    "\n",
    "full_ham_matrix = h_kin_mass + h_int\n",
    "constraint_full = 1e3*(constraint_0**2+constraint_1**2+constraint_2**2+constraint_3**2+constraint_3**2+constraint_4**2+constraint_5**2)\n",
    "constraint_full_matrix = constraint_full.toarray()\n",
    "\n",
    "restricted_full_ham_matrix = full_ham_matrix+constraint_full_matrix\n"
   ]
  },
  {
   "cell_type": "code",
   "execution_count": 20,
   "id": "550293b3",
   "metadata": {},
   "outputs": [
    {
     "name": "stdout",
     "output_type": "stream",
     "text": [
      "((0.25+0j), 3, 4)\n",
      "((0.25+0j), 4, 3)\n",
      "((0.25+0j), 12, 13)\n",
      "((0.25+0j), 13, 12)\n",
      "((0.5+0j), 13, 16)\n",
      "((0.5+0j), 16, 13)\n",
      "((0.25+0j), 21, 22)\n",
      "((0.25+0j), 22, 21)\n",
      "((0.25+0j), 27, 108)\n",
      "((0.25+0j), 28, 109)\n",
      "((0.25+0j), 29, 110)\n",
      "((0.25+0j), 30, 31)\n",
      "((0.25+0j), 30, 39)\n",
      "((0.25+0j), 30, 111)\n",
      "((0.25+0j), 31, 30)\n",
      "((0.25+0j), 31, 40)\n",
      "((0.25+0j), 31, 112)\n",
      "((0.25+0j), 32, 41)\n",
      "((0.25+0j), 32, 113)\n",
      "((0.25+0j), 33, 114)\n",
      "((0.25+0j), 34, 115)\n",
      "((0.25+0j), 35, 116)\n",
      "((0.25+0j), 36, 117)\n",
      "((0.25+0j), 37, 118)\n",
      "((0.25+0j), 38, 119)\n",
      "((0.25+0j), 39, 30)\n",
      "((0.25+0j), 39, 40)\n",
      "((0.25+0j), 39, 120)\n",
      "((0.25+0j), 40, 31)\n",
      "((0.25+0j), 40, 39)\n",
      "((0.5+0j), 40, 43)\n",
      "((0.25+0j), 40, 121)\n",
      "((0.25+0j), 41, 32)\n",
      "((0.25+0j), 41, 122)\n",
      "((0.25+0j), 42, 123)\n",
      "((0.5+0j), 43, 40)\n",
      "((0.25+0j), 43, 124)\n",
      "((0.25+0j), 44, 125)\n",
      "((0.25+0j), 45, 126)\n",
      "((0.25+0j), 46, 127)\n",
      "((0.25+0j), 47, 128)\n",
      "((0.25+0j), 48, 49)\n",
      "((0.25+0j), 48, 129)\n",
      "((0.25+0j), 49, 48)\n",
      "((0.25+0j), 49, 130)\n",
      "((0.25+0j), 50, 131)\n",
      "((0.25+0j), 51, 132)\n",
      "((0.25+0j), 52, 133)\n",
      "((0.25+0j), 53, 134)\n",
      "((0.25+0j), 57, 58)\n",
      "((0.25+0j), 58, 57)\n",
      "((0.25+0j), 66, 67)\n",
      "((0.25+0j), 67, 66)\n",
      "((0.5+0j), 67, 70)\n",
      "((-0.25+0j), 69, 78)\n",
      "((0.5+0j), 70, 67)\n",
      "((-0.25+0j), 70, 79)\n",
      "((-0.25+0j), 71, 80)\n",
      "((0.25+0j), 75, 76)\n",
      "((0.25+0j), 76, 75)\n",
      "((-0.25+0j), 78, 69)\n",
      "((-0.25+0j), 79, 70)\n",
      "((-0.25+0j), 80, 71)\n",
      "((0.25+0j), 84, 85)\n",
      "((0.25+0j), 85, 84)\n",
      "((0.25+0j), 93, 94)\n",
      "((0.25+0j), 94, 93)\n",
      "((0.5+0j), 94, 97)\n",
      "((0.5+0j), 97, 94)\n",
      "((0.25+0j), 102, 103)\n",
      "((0.25+0j), 103, 102)\n",
      "((0.25+0j), 108, 27)\n",
      "((0.25+0j), 109, 28)\n",
      "((0.25+0j), 110, 29)\n",
      "((0.25+0j), 111, 30)\n",
      "((0.25+0j), 111, 112)\n",
      "((0.25+0j), 111, 120)\n",
      "((0.25+0j), 112, 31)\n",
      "((0.25+0j), 112, 111)\n",
      "((0.25+0j), 112, 121)\n",
      "((0.25+0j), 113, 32)\n",
      "((0.25+0j), 113, 122)\n",
      "((0.25+0j), 114, 33)\n",
      "((0.25+0j), 115, 34)\n",
      "((0.25+0j), 116, 35)\n",
      "((0.25+0j), 117, 36)\n",
      "((0.5+0j), 117, 144)\n",
      "((0.25+0j), 118, 37)\n",
      "((0.5+0j), 118, 145)\n",
      "((0.25+0j), 119, 38)\n",
      "((0.5+0j), 119, 146)\n",
      "((0.25+0j), 120, 39)\n",
      "((0.25+0j), 120, 111)\n",
      "((0.25+0j), 120, 121)\n",
      "((0.5+0j), 120, 147)\n",
      "((0.25+0j), 121, 40)\n",
      "((0.25+0j), 121, 112)\n",
      "((0.25+0j), 121, 120)\n",
      "((0.5+0j), 121, 124)\n",
      "((0.5+0j), 121, 148)\n",
      "((0.25+0j), 122, 41)\n",
      "((0.25+0j), 122, 113)\n",
      "((0.5+0j), 122, 149)\n",
      "((0.25+0j), 123, 42)\n",
      "((0.5+0j), 123, 150)\n",
      "((0.25+0j), 124, 43)\n",
      "((0.5+0j), 124, 121)\n",
      "((0.5+0j), 124, 151)\n",
      "((0.25+0j), 125, 44)\n",
      "((0.5+0j), 125, 152)\n",
      "((0.25+0j), 126, 45)\n",
      "((0.25+0j), 127, 46)\n",
      "((0.25+0j), 128, 47)\n",
      "((0.25+0j), 129, 48)\n",
      "((0.25+0j), 129, 130)\n",
      "((0.25+0j), 130, 49)\n",
      "((0.25+0j), 130, 129)\n",
      "((0.25+0j), 131, 50)\n",
      "((0.25+0j), 132, 51)\n",
      "((0.25+0j), 133, 52)\n",
      "((0.25+0j), 134, 53)\n",
      "((0.25+0j), 138, 139)\n",
      "((0.25+0j), 139, 138)\n",
      "((0.5+0j), 144, 117)\n",
      "((0.5+0j), 145, 118)\n",
      "((0.5+0j), 146, 119)\n",
      "((0.5+0j), 147, 120)\n",
      "((0.25+0j), 147, 148)\n",
      "((0.5+0j), 148, 121)\n",
      "((0.25+0j), 148, 147)\n",
      "((0.5+0j), 148, 151)\n",
      "((0.5+0j), 149, 122)\n",
      "((0.5+0j), 150, 123)\n",
      "((-0.25+0j), 150, 159)\n",
      "((0.5+0j), 151, 124)\n",
      "((0.5+0j), 151, 148)\n",
      "((-0.25+0j), 151, 160)\n",
      "((0.5+0j), 152, 125)\n",
      "((-0.25+0j), 152, 161)\n",
      "((0.25+0j), 156, 157)\n",
      "((0.25+0j), 157, 156)\n",
      "((-0.25+0j), 159, 150)\n",
      "((-0.25+0j), 160, 151)\n",
      "((-0.25+0j), 161, 152)\n",
      "((0.25+0j), 165, 166)\n",
      "((0.25+0j), 166, 165)\n",
      "((0.25+0j), 174, 175)\n",
      "((0.25+0j), 175, 174)\n",
      "((0.5+0j), 175, 178)\n",
      "((0.5+0j), 178, 175)\n",
      "((0.25+0j), 183, 184)\n",
      "((0.25+0j), 184, 183)\n",
      "((0.25+0j), 192, 193)\n",
      "((0.25+0j), 192, 201)\n",
      "((0.25+0j), 193, 192)\n",
      "((0.25+0j), 193, 202)\n",
      "((0.25+0j), 194, 203)\n",
      "((0.25+0j), 201, 192)\n",
      "((0.25+0j), 201, 202)\n",
      "((0.25+0j), 202, 193)\n",
      "((0.25+0j), 202, 201)\n",
      "((0.5+0j), 202, 205)\n",
      "((0.25+0j), 203, 194)\n",
      "((0.5+0j), 205, 202)\n",
      "((0.25+0j), 210, 211)\n",
      "((0.25+0j), 211, 210)\n",
      "((0.25+0j), 219, 220)\n",
      "((0.25+0j), 220, 219)\n",
      "((0.25+0j), 228, 229)\n",
      "((0.25+0j), 229, 228)\n",
      "((0.5+0j), 229, 232)\n",
      "((-0.25+0j), 231, 240)\n",
      "((0.5+0j), 232, 229)\n",
      "((-0.25+0j), 232, 241)\n",
      "((-0.25+0j), 233, 242)\n",
      "((0.25+0j), 237, 238)\n",
      "((0.25+0j), 238, 237)\n",
      "((-0.25+0j), 240, 231)\n",
      "((-0.25+0j), 241, 232)\n",
      "((-0.25+0j), 242, 233)\n"
     ]
    }
   ],
   "source": [
    "for i in range(basis.Ns):\n",
    "    for j in range(basis.Ns):\n",
    "        if (h_int[i][j]<=-1e-5) | (h_int[i][j]>=1e-5):\n",
    "            print((h_int[i][j],i,j))"
   ]
  },
  {
   "cell_type": "code",
   "execution_count": 21,
   "id": "6f2319a0",
   "metadata": {},
   "outputs": [],
   "source": [
    "def check_hermitian(a, rtol=1e-10, atol=1e-10):\n",
    "    return np.allclose(a, a.conj().T, rtol=rtol, atol=atol)"
   ]
  },
  {
   "cell_type": "code",
   "execution_count": 22,
   "id": "93c6cca5",
   "metadata": {},
   "outputs": [
    {
     "name": "stdout",
     "output_type": "stream",
     "text": [
      "True\n"
     ]
    }
   ],
   "source": [
    "print(check_hermitian(restricted_full_ham_matrix))"
   ]
  },
  {
   "cell_type": "code",
   "execution_count": 23,
   "id": "634de515",
   "metadata": {},
   "outputs": [],
   "source": [
    "eigenval,eigenvec = np.linalg.eigh(restricted_full_ham_matrix)"
   ]
  },
  {
   "cell_type": "code",
   "execution_count": 24,
   "id": "ddbe1c63",
   "metadata": {
    "scrolled": false
   },
   "outputs": [
    {
     "name": "stdout",
     "output_type": "stream",
     "text": [
      "[-0.65482394  0.32268235  0.35230616  0.52372549  0.68500232  0.74386267\n",
      "  1.31426968  1.41499768  1.47780874  1.55614901  1.61988374  1.61988374\n",
      "  1.74769384  1.78150003  2.08692274  2.34790323  2.48011626  2.48011626\n",
      "  2.7       ]\n"
     ]
    }
   ],
   "source": [
    "print(eigenval[eigenval<=1e2])"
   ]
  },
  {
   "cell_type": "code",
   "execution_count": 25,
   "id": "eda7f9e4",
   "metadata": {},
   "outputs": [
    {
     "name": "stdout",
     "output_type": "stream",
     "text": [
      "[ 0.00000000e+00+0.j  0.00000000e+00+0.j  0.00000000e+00+0.j\n",
      "  0.00000000e+00+0.j  0.00000000e+00+0.j  0.00000000e+00+0.j\n",
      "  0.00000000e+00+0.j  0.00000000e+00+0.j  0.00000000e+00+0.j\n",
      "  0.00000000e+00+0.j  0.00000000e+00+0.j  0.00000000e+00+0.j\n",
      "  0.00000000e+00+0.j  0.00000000e+00+0.j  0.00000000e+00+0.j\n",
      "  0.00000000e+00+0.j  0.00000000e+00+0.j  0.00000000e+00+0.j\n",
      "  0.00000000e+00+0.j  0.00000000e+00+0.j  0.00000000e+00+0.j\n",
      "  0.00000000e+00+0.j  0.00000000e+00+0.j  0.00000000e+00+0.j\n",
      "  0.00000000e+00+0.j  0.00000000e+00+0.j  0.00000000e+00+0.j\n",
      "  0.00000000e+00+0.j  0.00000000e+00+0.j -2.80505473e-18+0.j\n",
      " -1.23140476e-02+0.j  4.38396898e-02+0.j -3.08333360e-17+0.j\n",
      "  1.26634814e-16+0.j  6.93889390e-17+0.j  0.00000000e+00+0.j\n",
      "  5.20417043e-18+0.j -2.22044605e-16+0.j  0.00000000e+00+0.j\n",
      "  4.80127526e-02+0.j -1.91158483e-01+0.j -1.12757026e-17+0.j\n",
      "  0.00000000e+00+0.j  9.08534071e-02+0.j  7.80625564e-18+0.j\n",
      " -1.38777878e-17+0.j  8.67361738e-19+0.j  0.00000000e+00+0.j\n",
      " -3.25260652e-19+0.j  5.42101086e-20+0.j -1.08420217e-19+0.j\n",
      "  1.08420217e-19+0.j  3.38813179e-21+0.j -1.01643954e-19+0.j\n",
      " -2.71050543e-20+0.j -1.35525272e-20+0.j -6.77626358e-21+0.j\n",
      "  0.00000000e+00+0.j  1.69406589e-20+0.j -1.24077092e-24+0.j\n",
      "  1.03397577e-25+0.j  2.06795153e-25+0.j -1.80945759e-25+0.j\n",
      "  0.00000000e+00+0.j  0.00000000e+00+0.j  2.58493941e-26+0.j\n",
      "  6.46234854e-26+0.j -6.46234854e-26+0.j -1.61558713e-27+0.j\n",
      " -2.01948392e-27+0.j -2.01948392e-28+0.j -4.84676140e-27+0.j\n",
      "  3.23117427e-27+0.j  0.00000000e+00+0.j  0.00000000e+00+0.j\n",
      " -7.57306469e-29+0.j  0.00000000e+00+0.j -1.00974196e-28+0.j\n",
      "  1.26217745e-29+0.j -1.26217745e-29+0.j -1.19906858e-28+0.j\n",
      " -6.56332273e-28+0.j -1.51461294e-28+0.j  3.08444614e-28+0.j\n",
      " -1.22273440e-29+0.j  7.88860905e-31+0.j  5.91645679e-31+0.j\n",
      "  0.00000000e+00+0.j -6.16297582e-33+0.j  1.20370622e-35+0.j\n",
      "  3.00926554e-36+0.j  0.00000000e+00+0.j -2.35098870e-38+0.j\n",
      "  0.00000000e+00+0.j  0.00000000e+00+0.j  0.00000000e+00+0.j\n",
      "  0.00000000e+00+0.j  0.00000000e+00+0.j  0.00000000e+00+0.j\n",
      "  0.00000000e+00+0.j  0.00000000e+00+0.j  0.00000000e+00+0.j\n",
      "  0.00000000e+00+0.j  0.00000000e+00+0.j  0.00000000e+00+0.j\n",
      "  0.00000000e+00+0.j  0.00000000e+00+0.j  0.00000000e+00+0.j\n",
      " -6.93889390e-18+0.j  0.00000000e+00+0.j  3.30554608e-19+0.j\n",
      "  4.38396898e-02+0.j -1.56858846e-01+0.j -2.42601073e-17+0.j\n",
      " -1.67187415e-17+0.j  6.83903932e-19+0.j -3.92757991e-19+0.j\n",
      "  2.87461631e-20+0.j  1.33091494e-22+0.j  1.60974616e-18+0.j\n",
      " -1.91158483e-01+0.j  7.62385096e-01+0.j -2.51113267e-17+0.j\n",
      " -8.96579004e-22+0.j -3.64434057e-01+0.j -4.34787693e-22+0.j\n",
      " -4.20804943e-23+0.j -5.45745403e-23+0.j -1.27735521e-23+0.j\n",
      "  4.36680836e-24+0.j -2.58330526e-24+0.j  1.86067703e-24+0.j\n",
      " -2.83217661e-24+0.j  7.65624030e-26+0.j  3.00944736e-24+0.j\n",
      "  0.00000000e+00+0.j  0.00000000e+00+0.j  0.00000000e+00+0.j\n",
      "  0.00000000e+00+0.j  0.00000000e+00+0.j  0.00000000e+00+0.j\n",
      "  0.00000000e+00+0.j  0.00000000e+00+0.j  0.00000000e+00+0.j\n",
      "  3.29892943e-20+0.j  2.16907631e-22+0.j  1.84641329e-18+0.j\n",
      "  9.08534071e-02+0.j -3.64434057e-01+0.j -5.45673949e-18+0.j\n",
      "  7.93676112e-25+0.j  1.79676167e-01+0.j  6.93379646e-26+0.j\n",
      "  0.00000000e+00+0.j  0.00000000e+00+0.j  0.00000000e+00+0.j\n",
      "  0.00000000e+00+0.j  0.00000000e+00+0.j  0.00000000e+00+0.j\n",
      " -2.59777420e-26+0.j  1.90753292e-02+0.j -1.50330058e-26+0.j\n",
      "  0.00000000e+00+0.j  0.00000000e+00+0.j  0.00000000e+00+0.j\n",
      "  0.00000000e+00+0.j  0.00000000e+00+0.j  0.00000000e+00+0.j\n",
      "  0.00000000e+00+0.j  0.00000000e+00+0.j  0.00000000e+00+0.j\n",
      "  0.00000000e+00+0.j  0.00000000e+00+0.j  0.00000000e+00+0.j\n",
      "  0.00000000e+00+0.j  0.00000000e+00+0.j  0.00000000e+00+0.j\n",
      "  0.00000000e+00+0.j  0.00000000e+00+0.j  0.00000000e+00+0.j\n",
      "  0.00000000e+00+0.j  0.00000000e+00+0.j  0.00000000e+00+0.j\n",
      "  0.00000000e+00+0.j  0.00000000e+00+0.j  0.00000000e+00+0.j\n",
      "  0.00000000e+00+0.j  0.00000000e+00+0.j  0.00000000e+00+0.j\n",
      "  0.00000000e+00+0.j  0.00000000e+00+0.j  0.00000000e+00+0.j\n",
      "  0.00000000e+00+0.j  0.00000000e+00+0.j  0.00000000e+00+0.j\n",
      "  0.00000000e+00+0.j  0.00000000e+00+0.j  0.00000000e+00+0.j\n",
      "  0.00000000e+00+0.j  0.00000000e+00+0.j  0.00000000e+00+0.j\n",
      "  0.00000000e+00+0.j  0.00000000e+00+0.j  0.00000000e+00+0.j\n",
      "  0.00000000e+00+0.j  0.00000000e+00+0.j  0.00000000e+00+0.j\n",
      "  0.00000000e+00+0.j  0.00000000e+00+0.j  0.00000000e+00+0.j\n",
      "  0.00000000e+00+0.j  0.00000000e+00+0.j  0.00000000e+00+0.j\n",
      "  0.00000000e+00+0.j  0.00000000e+00+0.j  0.00000000e+00+0.j\n",
      "  0.00000000e+00+0.j  0.00000000e+00+0.j  0.00000000e+00+0.j\n",
      "  0.00000000e+00+0.j  0.00000000e+00+0.j  0.00000000e+00+0.j\n",
      "  0.00000000e+00+0.j  0.00000000e+00+0.j  0.00000000e+00+0.j\n",
      "  0.00000000e+00+0.j  0.00000000e+00+0.j  0.00000000e+00+0.j\n",
      "  0.00000000e+00+0.j  0.00000000e+00+0.j  0.00000000e+00+0.j\n",
      "  0.00000000e+00+0.j  0.00000000e+00+0.j  0.00000000e+00+0.j\n",
      "  0.00000000e+00+0.j  0.00000000e+00+0.j  0.00000000e+00+0.j\n",
      "  0.00000000e+00+0.j  0.00000000e+00+0.j  0.00000000e+00+0.j\n",
      "  0.00000000e+00+0.j  0.00000000e+00+0.j  0.00000000e+00+0.j]\n"
     ]
    }
   ],
   "source": [
    "print(eigenvec[:,0])"
   ]
  },
  {
   "cell_type": "code",
   "execution_count": 26,
   "id": "4ffb1782",
   "metadata": {},
   "outputs": [
    {
     "name": "stdout",
     "output_type": "stream",
     "text": [
      "-0.6548239364061843\n"
     ]
    }
   ],
   "source": [
    "expt_value = 0\n",
    "psi_0 = eigenvec[:,0]\n",
    "matvec_h = full_ham_matrix@psi_0\n",
    "matvec_c = constraint_full_matrix@psi_0\n",
    "for i in range(basis.Ns):\n",
    "    expt_value += np.conj(psi_0[i])*(matvec_h[i]+matvec_c[i])\n",
    "print(np.real(expt_value))"
   ]
  },
  {
   "cell_type": "code",
   "execution_count": 27,
   "id": "dbe32e1d",
   "metadata": {},
   "outputs": [],
   "source": [
    "mixing_term = [[1.,i,i+1] for i in range(L-1)]\n",
    "#mixing_term.append([1,0,2])\n",
    "mixing_map_xx = [\n",
    "    [\"z+\",mixing_term],\n",
    "    [\"z-\",mixing_term],\n",
    "    [\"+z\",mixing_term],\n",
    "    [\"-z\",mixing_term],\n",
    "]\n",
    "mixing_map_zz = [\n",
    "    [\"zz\",mixing_term]\n",
    "]\n",
    "mixing_map_pm = [\n",
    "    [\"+-\",mixing_term],\n",
    "    [\"-+\",mixing_term]\n",
    "]\n",
    "Ham_mix_xx = hamiltonian(mixing_map_xx,dynamic_list=[],basis=basis,**no_checks)\n",
    "Ham_mix_zz = hamiltonian(mixing_map_zz,dynamic_list=[],basis=basis,**no_checks)\n",
    "Ham_mix_pm = hamiltonian(mixing_map_pm,dynamic_list=[],basis=basis,**no_checks)"
   ]
  },
  {
   "cell_type": "code",
   "execution_count": 28,
   "id": "779e4fd7",
   "metadata": {},
   "outputs": [],
   "source": [
    "resource_z = [[1.,i] for i in range(L)]\n",
    "resource_zz = [[1.,i,i] for i in range(L)]\n",
    "resource_x = [[0.5,i] for i in range(L)]\n",
    "\n",
    "resource_map_zz = [\n",
    "    \n",
    "    [\"zz\", resource_zz],\n",
    "]\n",
    "\n",
    "resource_map_z = [\n",
    "    [\"z\", resource_z],\n",
    "]\n",
    "\n",
    "resource_map_x = [\n",
    "    [\"+\", resource_x],\n",
    "    [\"-\", resource_x],\n",
    "\n",
    "]\n",
    "\n",
    "\n",
    "\n",
    "\n",
    "\n",
    "Ham_res_zz = hamiltonian(resource_map_zz,dynamic_list=[],basis=basis,**no_checks)\n",
    "Ham_res_z = hamiltonian(resource_map_z,dynamic_list=[],basis=basis,**no_checks)\n",
    "Ham_res_x = hamiltonian(resource_map_x,dynamic_list=[],basis=basis,**no_checks)\n",
    "\n"
   ]
  },
  {
   "cell_type": "code",
   "execution_count": 29,
   "id": "04004619",
   "metadata": {},
   "outputs": [
    {
     "name": "stdout",
     "output_type": "stream",
     "text": [
      "True\n"
     ]
    }
   ],
   "source": [
    "print(check_hermitian(Ham_res_x.toarray()))"
   ]
  },
  {
   "cell_type": "code",
   "execution_count": 30,
   "id": "65c9805c",
   "metadata": {},
   "outputs": [],
   "source": [
    "Ham_res = Ham_res_zz+Ham_res_z+Ham_res_x"
   ]
  },
  {
   "cell_type": "code",
   "execution_count": 31,
   "id": "ca60ba1f",
   "metadata": {},
   "outputs": [],
   "source": [
    "eigenval_mix, eigenvec_mix = Ham_res.eigh()"
   ]
  },
  {
   "cell_type": "code",
   "execution_count": 32,
   "id": "1ef4f1e9",
   "metadata": {},
   "outputs": [],
   "source": [
    "psi_0 = np.zeros(basis.Ns)\n",
    "i_0 = basis.index(\"00000\")\n",
    "psi_0[i_0] = 1.\n",
    "#psi_0 = eigenvec_mix[:,0]"
   ]
  },
  {
   "cell_type": "code",
   "execution_count": 33,
   "id": "fdfc3b28",
   "metadata": {},
   "outputs": [
    {
     "name": "stdout",
     "output_type": "stream",
     "text": [
      "8002.3\n"
     ]
    }
   ],
   "source": [
    "expt_value = 0\n",
    "matvec_h = full_ham_matrix@psi_0\n",
    "matvec_c = constraint_full_matrix@psi_0\n",
    "for i in range(basis.Ns):\n",
    "    expt_value += np.conj(psi_0[i])*(matvec_h[i]+matvec_c[i])\n",
    "print(np.real(expt_value))"
   ]
  },
  {
   "cell_type": "code",
   "execution_count": 34,
   "id": "41bab9f9",
   "metadata": {},
   "outputs": [
    {
     "name": "stdout",
     "output_type": "stream",
     "text": [
      "(2.3+0j)\n"
     ]
    }
   ],
   "source": [
    "expt_value = 0\n",
    "matvec = full_ham_matrix@psi_0\n",
    "for i in range(basis.Ns):\n",
    "    expt_value += np.conj(psi_0[i])*matvec[i]\n",
    "print(expt_value)"
   ]
  },
  {
   "cell_type": "code",
   "execution_count": 35,
   "id": "82968644",
   "metadata": {},
   "outputs": [],
   "source": [
    "def cost_function_sigma(theta,psi,a):\n",
    "\n",
    "    psi_1 = rot(sigma_02,theta[2])@rot(sigma_12,theta[1])@rot(sigma_01,theta[0])@psi\n",
    "    \n",
    "    psi_2 = rot(ms_02,theta[5])@rot(ms_12,theta[4])@rot(ms_01,theta[3])@psi_1\n",
    "    \n",
    "    psi_3 = rot(sigma_02,theta[8])@rot(sigma_12,theta[7])@rot(sigma_01,theta[6])@psi_2\n",
    "    \n",
    "    psi_4 = rot(ms_02,theta[11])@rot(ms_12,theta[10])@rot(ms_01,theta[9])@psi_3\n",
    "    \n",
    "    psi_5 = rot(sigma_02,theta[14])@rot(sigma_12,theta[13])@rot(sigma_01,theta[12])@psi_4\n",
    "    \n",
    "    psi_6 = rot(ms_02,theta[17])@rot(ms_12,theta[16])@rot(ms_01,theta[15])@psi_5\n",
    "    \n",
    "    psi_7 = rot(sigma_02,theta[20])@rot(sigma_12,theta[19])@rot(sigma_01,theta[18])@psi_6\n",
    "    \n",
    "    psi_8 = rot(ms_02,theta[23])@rot(ms_12,theta[22])@rot(ms_01,theta[21])@psi_7\n",
    "    \n",
    "    psi_9 = rot(sigma_02,theta[26])@rot(sigma_12,theta[25])@rot(sigma_01,theta[24])@psi_8\n",
    "    \n",
    "\n",
    "\n",
    "    expt_value = 0\n",
    "    matvec = full_ham_matrix@psi_9\n",
    "    for i in range(basis.Ns):\n",
    "        expt_value += np.conj(psi_9[i])*matvec[i]\n",
    "    return np.real(expt_value)"
   ]
  },
  {
   "cell_type": "code",
   "execution_count": 36,
   "id": "a1be92ca",
   "metadata": {},
   "outputs": [
    {
     "name": "stdout",
     "output_type": "stream",
     "text": [
      "2022-02-16 10:47:17.283706\n"
     ]
    },
    {
     "ename": "KeyboardInterrupt",
     "evalue": "",
     "output_type": "error",
     "traceback": [
      "\u001b[0;31m---------------------------------------------------------------------------\u001b[0m",
      "\u001b[0;31mKeyboardInterrupt\u001b[0m                         Traceback (most recent call last)",
      "\u001b[0;32m<ipython-input-36-029dc7213e74>\u001b[0m in \u001b[0;36m<module>\u001b[0;34m\u001b[0m\n\u001b[1;32m      5\u001b[0m \u001b[0mresopt\u001b[0m \u001b[0;34m=\u001b[0m \u001b[0;36m0\u001b[0m\u001b[0;34m\u001b[0m\u001b[0;34m\u001b[0m\u001b[0m\n\u001b[1;32m      6\u001b[0m \u001b[0mprint\u001b[0m\u001b[0;34m(\u001b[0m\u001b[0mdatetime\u001b[0m\u001b[0;34m.\u001b[0m\u001b[0mdatetime\u001b[0m\u001b[0;34m.\u001b[0m\u001b[0mnow\u001b[0m\u001b[0;34m(\u001b[0m\u001b[0;34m)\u001b[0m\u001b[0;34m)\u001b[0m\u001b[0;34m\u001b[0m\u001b[0;34m\u001b[0m\u001b[0m\n\u001b[0;32m----> 7\u001b[0;31m \u001b[0mresduan\u001b[0m \u001b[0;34m=\u001b[0m \u001b[0mdual_annealing\u001b[0m\u001b[0;34m(\u001b[0m\u001b[0mcost_function_sigma\u001b[0m\u001b[0;34m,\u001b[0m \u001b[0mduan_ranges\u001b[0m\u001b[0;34m,\u001b[0m \u001b[0margs\u001b[0m \u001b[0;34m=\u001b[0m \u001b[0;34m(\u001b[0m\u001b[0mpsi_0\u001b[0m\u001b[0;34m,\u001b[0m\u001b[0;36m1\u001b[0m\u001b[0;34m)\u001b[0m\u001b[0;34m)\u001b[0m\u001b[0;34m\u001b[0m\u001b[0;34m\u001b[0m\u001b[0m\n\u001b[0m\u001b[1;32m      8\u001b[0m \u001b[0mprint\u001b[0m\u001b[0;34m(\u001b[0m\u001b[0mdatetime\u001b[0m\u001b[0;34m.\u001b[0m\u001b[0mdatetime\u001b[0m\u001b[0;34m.\u001b[0m\u001b[0mnow\u001b[0m\u001b[0;34m(\u001b[0m\u001b[0;34m)\u001b[0m\u001b[0;34m)\u001b[0m\u001b[0;34m\u001b[0m\u001b[0;34m\u001b[0m\u001b[0m\n",
      "\u001b[0;32m~/anaconda3/lib/python3.8/site-packages/scipy/optimize/_dual_annealing.py\u001b[0m in \u001b[0;36mdual_annealing\u001b[0;34m(func, bounds, args, maxiter, local_search_options, initial_temp, restart_temp_ratio, visit, accept, maxfun, seed, no_local_search, callback, x0)\u001b[0m\n\u001b[1;32m    664\u001b[0m                 \u001b[0;32mbreak\u001b[0m\u001b[0;34m\u001b[0m\u001b[0;34m\u001b[0m\u001b[0m\n\u001b[1;32m    665\u001b[0m             \u001b[0;31m# starting strategy chain\u001b[0m\u001b[0;34m\u001b[0m\u001b[0;34m\u001b[0m\u001b[0;34m\u001b[0m\u001b[0m\n\u001b[0;32m--> 666\u001b[0;31m             \u001b[0mval\u001b[0m \u001b[0;34m=\u001b[0m \u001b[0mstrategy_chain\u001b[0m\u001b[0;34m.\u001b[0m\u001b[0mrun\u001b[0m\u001b[0;34m(\u001b[0m\u001b[0mi\u001b[0m\u001b[0;34m,\u001b[0m \u001b[0mtemperature\u001b[0m\u001b[0;34m)\u001b[0m\u001b[0;34m\u001b[0m\u001b[0;34m\u001b[0m\u001b[0m\n\u001b[0m\u001b[1;32m    667\u001b[0m             \u001b[0;32mif\u001b[0m \u001b[0mval\u001b[0m \u001b[0;32mis\u001b[0m \u001b[0;32mnot\u001b[0m \u001b[0;32mNone\u001b[0m\u001b[0;34m:\u001b[0m\u001b[0;34m\u001b[0m\u001b[0;34m\u001b[0m\u001b[0m\n\u001b[1;32m    668\u001b[0m                 \u001b[0mmessage\u001b[0m\u001b[0;34m.\u001b[0m\u001b[0mappend\u001b[0m\u001b[0;34m(\u001b[0m\u001b[0mval\u001b[0m\u001b[0;34m)\u001b[0m\u001b[0;34m\u001b[0m\u001b[0;34m\u001b[0m\u001b[0m\n",
      "\u001b[0;32m~/anaconda3/lib/python3.8/site-packages/scipy/optimize/_dual_annealing.py\u001b[0m in \u001b[0;36mrun\u001b[0;34m(self, step, temperature)\u001b[0m\n\u001b[1;32m    288\u001b[0m                 self.energy_state.current_location, j, temperature)\n\u001b[1;32m    289\u001b[0m             \u001b[0;31m# Calling the objective function\u001b[0m\u001b[0;34m\u001b[0m\u001b[0;34m\u001b[0m\u001b[0;34m\u001b[0m\u001b[0m\n\u001b[0;32m--> 290\u001b[0;31m             \u001b[0me\u001b[0m \u001b[0;34m=\u001b[0m \u001b[0mself\u001b[0m\u001b[0;34m.\u001b[0m\u001b[0mfunc_wrapper\u001b[0m\u001b[0;34m.\u001b[0m\u001b[0mfun\u001b[0m\u001b[0;34m(\u001b[0m\u001b[0mx_visit\u001b[0m\u001b[0;34m)\u001b[0m\u001b[0;34m\u001b[0m\u001b[0;34m\u001b[0m\u001b[0m\n\u001b[0m\u001b[1;32m    291\u001b[0m             \u001b[0;32mif\u001b[0m \u001b[0me\u001b[0m \u001b[0;34m<\u001b[0m \u001b[0mself\u001b[0m\u001b[0;34m.\u001b[0m\u001b[0menergy_state\u001b[0m\u001b[0;34m.\u001b[0m\u001b[0mcurrent_energy\u001b[0m\u001b[0;34m:\u001b[0m\u001b[0;34m\u001b[0m\u001b[0;34m\u001b[0m\u001b[0m\n\u001b[1;32m    292\u001b[0m                 \u001b[0;31m# We have got a better energy value\u001b[0m\u001b[0;34m\u001b[0m\u001b[0;34m\u001b[0m\u001b[0;34m\u001b[0m\u001b[0m\n",
      "\u001b[0;32m~/anaconda3/lib/python3.8/site-packages/scipy/optimize/_dual_annealing.py\u001b[0m in \u001b[0;36mfun\u001b[0;34m(self, x)\u001b[0m\n\u001b[1;32m    371\u001b[0m     \u001b[0;32mdef\u001b[0m \u001b[0mfun\u001b[0m\u001b[0;34m(\u001b[0m\u001b[0mself\u001b[0m\u001b[0;34m,\u001b[0m \u001b[0mx\u001b[0m\u001b[0;34m)\u001b[0m\u001b[0;34m:\u001b[0m\u001b[0;34m\u001b[0m\u001b[0;34m\u001b[0m\u001b[0m\n\u001b[1;32m    372\u001b[0m         \u001b[0mself\u001b[0m\u001b[0;34m.\u001b[0m\u001b[0mnfev\u001b[0m \u001b[0;34m+=\u001b[0m \u001b[0;36m1\u001b[0m\u001b[0;34m\u001b[0m\u001b[0;34m\u001b[0m\u001b[0m\n\u001b[0;32m--> 373\u001b[0;31m         \u001b[0;32mreturn\u001b[0m \u001b[0mself\u001b[0m\u001b[0;34m.\u001b[0m\u001b[0mfunc\u001b[0m\u001b[0;34m(\u001b[0m\u001b[0mx\u001b[0m\u001b[0;34m,\u001b[0m \u001b[0;34m*\u001b[0m\u001b[0mself\u001b[0m\u001b[0;34m.\u001b[0m\u001b[0margs\u001b[0m\u001b[0;34m)\u001b[0m\u001b[0;34m\u001b[0m\u001b[0;34m\u001b[0m\u001b[0m\n\u001b[0m\u001b[1;32m    374\u001b[0m \u001b[0;34m\u001b[0m\u001b[0m\n\u001b[1;32m    375\u001b[0m \u001b[0;34m\u001b[0m\u001b[0m\n",
      "\u001b[0;32m<ipython-input-35-8d105d43751d>\u001b[0m in \u001b[0;36mcost_function_sigma\u001b[0;34m(theta, psi, a)\u001b[0m\n\u001b[1;32m     13\u001b[0m     \u001b[0mpsi_6\u001b[0m \u001b[0;34m=\u001b[0m \u001b[0mrot\u001b[0m\u001b[0;34m(\u001b[0m\u001b[0mms_02\u001b[0m\u001b[0;34m,\u001b[0m\u001b[0mtheta\u001b[0m\u001b[0;34m[\u001b[0m\u001b[0;36m17\u001b[0m\u001b[0;34m]\u001b[0m\u001b[0;34m)\u001b[0m\u001b[0;34m@\u001b[0m\u001b[0mrot\u001b[0m\u001b[0;34m(\u001b[0m\u001b[0mms_12\u001b[0m\u001b[0;34m,\u001b[0m\u001b[0mtheta\u001b[0m\u001b[0;34m[\u001b[0m\u001b[0;36m16\u001b[0m\u001b[0;34m]\u001b[0m\u001b[0;34m)\u001b[0m\u001b[0;34m@\u001b[0m\u001b[0mrot\u001b[0m\u001b[0;34m(\u001b[0m\u001b[0mms_01\u001b[0m\u001b[0;34m,\u001b[0m\u001b[0mtheta\u001b[0m\u001b[0;34m[\u001b[0m\u001b[0;36m15\u001b[0m\u001b[0;34m]\u001b[0m\u001b[0;34m)\u001b[0m\u001b[0;34m@\u001b[0m\u001b[0mpsi_5\u001b[0m\u001b[0;34m\u001b[0m\u001b[0;34m\u001b[0m\u001b[0m\n\u001b[1;32m     14\u001b[0m \u001b[0;34m\u001b[0m\u001b[0m\n\u001b[0;32m---> 15\u001b[0;31m     \u001b[0mpsi_7\u001b[0m \u001b[0;34m=\u001b[0m \u001b[0mrot\u001b[0m\u001b[0;34m(\u001b[0m\u001b[0msigma_02\u001b[0m\u001b[0;34m,\u001b[0m\u001b[0mtheta\u001b[0m\u001b[0;34m[\u001b[0m\u001b[0;36m20\u001b[0m\u001b[0;34m]\u001b[0m\u001b[0;34m)\u001b[0m\u001b[0;34m@\u001b[0m\u001b[0mrot\u001b[0m\u001b[0;34m(\u001b[0m\u001b[0msigma_12\u001b[0m\u001b[0;34m,\u001b[0m\u001b[0mtheta\u001b[0m\u001b[0;34m[\u001b[0m\u001b[0;36m19\u001b[0m\u001b[0;34m]\u001b[0m\u001b[0;34m)\u001b[0m\u001b[0;34m@\u001b[0m\u001b[0mrot\u001b[0m\u001b[0;34m(\u001b[0m\u001b[0msigma_01\u001b[0m\u001b[0;34m,\u001b[0m\u001b[0mtheta\u001b[0m\u001b[0;34m[\u001b[0m\u001b[0;36m18\u001b[0m\u001b[0;34m]\u001b[0m\u001b[0;34m)\u001b[0m\u001b[0;34m@\u001b[0m\u001b[0mpsi_6\u001b[0m\u001b[0;34m\u001b[0m\u001b[0;34m\u001b[0m\u001b[0m\n\u001b[0m\u001b[1;32m     16\u001b[0m \u001b[0;34m\u001b[0m\u001b[0m\n\u001b[1;32m     17\u001b[0m     \u001b[0mpsi_8\u001b[0m \u001b[0;34m=\u001b[0m \u001b[0mrot\u001b[0m\u001b[0;34m(\u001b[0m\u001b[0mms_02\u001b[0m\u001b[0;34m,\u001b[0m\u001b[0mtheta\u001b[0m\u001b[0;34m[\u001b[0m\u001b[0;36m23\u001b[0m\u001b[0;34m]\u001b[0m\u001b[0;34m)\u001b[0m\u001b[0;34m@\u001b[0m\u001b[0mrot\u001b[0m\u001b[0;34m(\u001b[0m\u001b[0mms_12\u001b[0m\u001b[0;34m,\u001b[0m\u001b[0mtheta\u001b[0m\u001b[0;34m[\u001b[0m\u001b[0;36m22\u001b[0m\u001b[0;34m]\u001b[0m\u001b[0;34m)\u001b[0m\u001b[0;34m@\u001b[0m\u001b[0mrot\u001b[0m\u001b[0;34m(\u001b[0m\u001b[0mms_01\u001b[0m\u001b[0;34m,\u001b[0m\u001b[0mtheta\u001b[0m\u001b[0;34m[\u001b[0m\u001b[0;36m21\u001b[0m\u001b[0;34m]\u001b[0m\u001b[0;34m)\u001b[0m\u001b[0;34m@\u001b[0m\u001b[0mpsi_7\u001b[0m\u001b[0;34m\u001b[0m\u001b[0;34m\u001b[0m\u001b[0m\n",
      "\u001b[0;32m<ipython-input-5-0ca32b726d56>\u001b[0m in \u001b[0;36mrot\u001b[0;34m(sigma, theta)\u001b[0m\n\u001b[1;32m    100\u001b[0m \u001b[0msigma_02\u001b[0m \u001b[0;34m=\u001b[0m \u001b[0msigma_02_0\u001b[0m \u001b[0;34m+\u001b[0m \u001b[0msigma_02_1\u001b[0m \u001b[0;34m+\u001b[0m \u001b[0msigma_02_2\u001b[0m \u001b[0;34m+\u001b[0m \u001b[0msigma_02_3\u001b[0m \u001b[0;34m+\u001b[0m \u001b[0msigma_02_4\u001b[0m\u001b[0;34m\u001b[0m\u001b[0;34m\u001b[0m\u001b[0m\n\u001b[1;32m    101\u001b[0m \u001b[0;32mdef\u001b[0m \u001b[0mrot\u001b[0m\u001b[0;34m(\u001b[0m\u001b[0msigma\u001b[0m\u001b[0;34m,\u001b[0m\u001b[0mtheta\u001b[0m\u001b[0;34m)\u001b[0m\u001b[0;34m:\u001b[0m\u001b[0;34m\u001b[0m\u001b[0;34m\u001b[0m\u001b[0m\n\u001b[0;32m--> 102\u001b[0;31m     \u001b[0;32mreturn\u001b[0m \u001b[0mexpm\u001b[0m\u001b[0;34m(\u001b[0m\u001b[0;34m-\u001b[0m\u001b[0;36m1j\u001b[0m\u001b[0;34m*\u001b[0m\u001b[0mtheta\u001b[0m\u001b[0;34m*\u001b[0m\u001b[0msigma\u001b[0m\u001b[0;34m/\u001b[0m\u001b[0;36m2\u001b[0m\u001b[0;34m)\u001b[0m\u001b[0;34m\u001b[0m\u001b[0;34m\u001b[0m\u001b[0m\n\u001b[0m",
      "\u001b[0;32m~/anaconda3/lib/python3.8/site-packages/scipy/linalg/matfuncs.py\u001b[0m in \u001b[0;36mexpm\u001b[0;34m(A)\u001b[0m\n\u001b[1;32m    253\u001b[0m     \u001b[0;31m# Input checking and conversion is provided by sparse.linalg.expm().\u001b[0m\u001b[0;34m\u001b[0m\u001b[0;34m\u001b[0m\u001b[0;34m\u001b[0m\u001b[0m\n\u001b[1;32m    254\u001b[0m     \u001b[0;32mimport\u001b[0m \u001b[0mscipy\u001b[0m\u001b[0;34m.\u001b[0m\u001b[0msparse\u001b[0m\u001b[0;34m.\u001b[0m\u001b[0mlinalg\u001b[0m\u001b[0;34m\u001b[0m\u001b[0;34m\u001b[0m\u001b[0m\n\u001b[0;32m--> 255\u001b[0;31m     \u001b[0;32mreturn\u001b[0m \u001b[0mscipy\u001b[0m\u001b[0;34m.\u001b[0m\u001b[0msparse\u001b[0m\u001b[0;34m.\u001b[0m\u001b[0mlinalg\u001b[0m\u001b[0;34m.\u001b[0m\u001b[0mexpm\u001b[0m\u001b[0;34m(\u001b[0m\u001b[0mA\u001b[0m\u001b[0;34m)\u001b[0m\u001b[0;34m\u001b[0m\u001b[0;34m\u001b[0m\u001b[0m\n\u001b[0m\u001b[1;32m    256\u001b[0m \u001b[0;34m\u001b[0m\u001b[0m\n\u001b[1;32m    257\u001b[0m \u001b[0;34m\u001b[0m\u001b[0m\n",
      "\u001b[0;32m~/anaconda3/lib/python3.8/site-packages/scipy/sparse/linalg/matfuncs.py\u001b[0m in \u001b[0;36mexpm\u001b[0;34m(A)\u001b[0m\n\u001b[1;32m    589\u001b[0m             [  0.        ,   0.        ,  20.08553692]])\n\u001b[1;32m    590\u001b[0m     \"\"\"\n\u001b[0;32m--> 591\u001b[0;31m     \u001b[0;32mreturn\u001b[0m \u001b[0m_expm\u001b[0m\u001b[0;34m(\u001b[0m\u001b[0mA\u001b[0m\u001b[0;34m,\u001b[0m \u001b[0muse_exact_onenorm\u001b[0m\u001b[0;34m=\u001b[0m\u001b[0;34m'auto'\u001b[0m\u001b[0;34m)\u001b[0m\u001b[0;34m\u001b[0m\u001b[0;34m\u001b[0m\u001b[0m\n\u001b[0m\u001b[1;32m    592\u001b[0m \u001b[0;34m\u001b[0m\u001b[0m\n\u001b[1;32m    593\u001b[0m \u001b[0;34m\u001b[0m\u001b[0m\n",
      "\u001b[0;32m~/anaconda3/lib/python3.8/site-packages/scipy/sparse/linalg/matfuncs.py\u001b[0m in \u001b[0;36m_expm\u001b[0;34m(A, use_exact_onenorm)\u001b[0m\n\u001b[1;32m    670\u001b[0m         \u001b[0ms\u001b[0m \u001b[0;34m=\u001b[0m \u001b[0mmax\u001b[0m\u001b[0;34m(\u001b[0m\u001b[0mint\u001b[0m\u001b[0;34m(\u001b[0m\u001b[0mnp\u001b[0m\u001b[0;34m.\u001b[0m\u001b[0mceil\u001b[0m\u001b[0;34m(\u001b[0m\u001b[0mnp\u001b[0m\u001b[0;34m.\u001b[0m\u001b[0mlog2\u001b[0m\u001b[0;34m(\u001b[0m\u001b[0meta_5\u001b[0m \u001b[0;34m/\u001b[0m \u001b[0mtheta_13\u001b[0m\u001b[0;34m)\u001b[0m\u001b[0;34m)\u001b[0m\u001b[0;34m)\u001b[0m\u001b[0;34m,\u001b[0m \u001b[0;36m0\u001b[0m\u001b[0;34m)\u001b[0m\u001b[0;34m\u001b[0m\u001b[0;34m\u001b[0m\u001b[0m\n\u001b[1;32m    671\u001b[0m     \u001b[0ms\u001b[0m \u001b[0;34m=\u001b[0m \u001b[0ms\u001b[0m \u001b[0;34m+\u001b[0m \u001b[0m_ell\u001b[0m\u001b[0;34m(\u001b[0m\u001b[0;36m2\u001b[0m\u001b[0;34m**\u001b[0m\u001b[0;34m-\u001b[0m\u001b[0ms\u001b[0m \u001b[0;34m*\u001b[0m \u001b[0mh\u001b[0m\u001b[0;34m.\u001b[0m\u001b[0mA\u001b[0m\u001b[0;34m,\u001b[0m \u001b[0;36m13\u001b[0m\u001b[0;34m)\u001b[0m\u001b[0;34m\u001b[0m\u001b[0;34m\u001b[0m\u001b[0m\n\u001b[0;32m--> 672\u001b[0;31m     \u001b[0mU\u001b[0m\u001b[0;34m,\u001b[0m \u001b[0mV\u001b[0m \u001b[0;34m=\u001b[0m \u001b[0mh\u001b[0m\u001b[0;34m.\u001b[0m\u001b[0mpade13_scaled\u001b[0m\u001b[0;34m(\u001b[0m\u001b[0ms\u001b[0m\u001b[0;34m)\u001b[0m\u001b[0;34m\u001b[0m\u001b[0;34m\u001b[0m\u001b[0m\n\u001b[0m\u001b[1;32m    673\u001b[0m     \u001b[0mX\u001b[0m \u001b[0;34m=\u001b[0m \u001b[0m_solve_P_Q\u001b[0m\u001b[0;34m(\u001b[0m\u001b[0mU\u001b[0m\u001b[0;34m,\u001b[0m \u001b[0mV\u001b[0m\u001b[0;34m,\u001b[0m \u001b[0mstructure\u001b[0m\u001b[0;34m=\u001b[0m\u001b[0mstructure\u001b[0m\u001b[0;34m)\u001b[0m\u001b[0;34m\u001b[0m\u001b[0;34m\u001b[0m\u001b[0m\n\u001b[1;32m    674\u001b[0m     \u001b[0;32mif\u001b[0m \u001b[0mstructure\u001b[0m \u001b[0;34m==\u001b[0m \u001b[0mUPPER_TRIANGULAR\u001b[0m\u001b[0;34m:\u001b[0m\u001b[0;34m\u001b[0m\u001b[0;34m\u001b[0m\u001b[0m\n",
      "\u001b[0;32m~/anaconda3/lib/python3.8/site-packages/scipy/sparse/linalg/matfuncs.py\u001b[0m in \u001b[0;36mpade13_scaled\u001b[0;34m(self, s)\u001b[0m\n\u001b[1;32m    534\u001b[0m                 structure=self.structure)\n\u001b[1;32m    535\u001b[0m         U = _smart_matrix_product(B,\n\u001b[0;32m--> 536\u001b[0;31m                 (U2 + b[7]*B6 + b[5]*B4 +\n\u001b[0m\u001b[1;32m    537\u001b[0m                     b[3]*B2 + b[1]*self.ident),\n\u001b[1;32m    538\u001b[0m                 structure=self.structure)\n",
      "\u001b[0;31mKeyboardInterrupt\u001b[0m: "
     ]
    }
   ],
   "source": [
    "from scipy.optimize import dual_annealing\n",
    "import datetime\n",
    "duan_ranges = [(-10.,10.),(-10.,10.),(-10.,10.),(-10.,10.),(-10.,10.),(-10.,10.),(-10.,10.),(-10.,10.),(-10.,10.),(-10.,10.),(-10.,10.),(-10.,10.),(-10.,10.),(-10.,10.),(-10.,10.),(-10.,10.),(-10.,10.),(-10.,10.),(-10.,10.),(-10.,10.),(-10.,10.),(-10.,10.),(-10.,10.),(-10.,10.),(-10.,10.),(-10.,10.),(-10.,10.)]\n",
    "resduan = 0\n",
    "resopt = 0\n",
    "print(datetime.datetime.now())\n",
    "resduan = dual_annealing(cost_function_sigma, duan_ranges, args = (psi_0,1))\n",
    "print(datetime.datetime.now())"
   ]
  },
  {
   "cell_type": "code",
   "execution_count": null,
   "id": "df07ee66",
   "metadata": {},
   "outputs": [],
   "source": [
    "print(resduan.fun)\n",
    "print(resduan.x)"
   ]
  },
  {
   "cell_type": "code",
   "execution_count": null,
   "id": "de645f63",
   "metadata": {},
   "outputs": [],
   "source": [
    "theta = resduan.x\n",
    "psi = psi_0\n",
    "\n",
    "psi_1 = rot(sigma_02,theta[2])@rot(sigma_12,theta[1])@rot(sigma_01,theta[0])@psi\n",
    "\n",
    "psi_2 = rot(ms_02,theta[5])@rot(ms_12,theta[4])@rot(ms_01,theta[3])@psi_1\n",
    "\n",
    "psi_3 = rot(sigma_02,theta[8])@rot(sigma_12,theta[7])@rot(sigma_01,theta[6])@psi_2\n",
    "\n",
    "psi_4 = rot(ms_02,theta[11])@rot(ms_12,theta[10])@rot(ms_01,theta[9])@psi_3\n",
    "\n",
    "psi_5 = rot(sigma_02,theta[14])@rot(sigma_12,theta[13])@rot(sigma_01,theta[12])@psi_4\n",
    "\n",
    "psi_6 = rot(ms_02,theta[17])@rot(ms_12,theta[16])@rot(ms_01,theta[15])@psi_5\n",
    "\n",
    "psi_7 = rot(sigma_02,theta[20])@rot(sigma_12,theta[19])@rot(sigma_01,theta[18])@psi_6\n",
    "\n",
    "psi_8 = rot(ms_02,theta[23])@rot(ms_12,theta[22])@rot(ms_01,theta[21])@psi_7\n",
    "\n",
    "psi_9 = rot(sigma_02,theta[26])@rot(sigma_12,theta[25])@rot(sigma_01,theta[24])@psi_8\n",
    "\n",
    "print(np.abs(np.dot(np.conj(psi_9),eigenvec[:,0]))**2)\n",
    "print(psi_9)\n",
    "print(np.abs(np.dot(np.conj(psi_9),psi_9)))"
   ]
  },
  {
   "cell_type": "code",
   "execution_count": null,
   "id": "21faaadf",
   "metadata": {},
   "outputs": [],
   "source": [
    "def cost_function(theta,psi,a):\n",
    "\n",
    "    psi_1 = Ham_res_zz.evolve(psi,0.0,theta[0])\n",
    "    psi_2 = Ham_res_x.evolve(psi_1,0.0,theta[1])\n",
    "    psi_3 = Ham_res_z.evolve(psi_2,0.0,theta[2])\n",
    "    psi_4 = Ham_mix_pm.evolve(psi_3,0.0,theta[3])\n",
    "    psi_5 = Ham_res_zz.evolve(psi_4,0.0,theta[4])\n",
    "    psi_6 = Ham_res_x.evolve(psi_5,0.0,theta[5])\n",
    "    psi_7 = Ham_res_z.evolve(psi_6,0.0,theta[6])\n",
    "    psi_8 = Ham_mix_pm.evolve(psi_7,0.0,theta[7])\n",
    "    psi_9 = Ham_res_zz.evolve(psi_8,0.0,theta[8])\n",
    "    psi_10 = Ham_res_x.evolve(psi_9,0.0,theta[9])\n",
    "    psi_11 = Ham_res_z.evolve(psi_10,0.0,theta[10])\n",
    "    psi_12 = Ham_mix_pm.evolve(psi_11,0.0,theta[11])\n",
    "    psi_13 = Ham_res_zz.evolve(psi_12,0.0,theta[12])\n",
    "    psi_14 = Ham_res_x.evolve(psi_13,0.0,theta[13])\n",
    "    psi_15 = Ham_res_z.evolve(psi_14,0.0,theta[14])\n",
    "    psi_16 = Ham_mix_pm.evolve(psi_15,0.0,theta[15])\n",
    "    psi_17 = Ham_res_zz.evolve(psi_16,0.0,theta[16])\n",
    "    psi_18 = Ham_res_x.evolve(psi_17,0.0,theta[17])\n",
    "    psi_19 = Ham_res_z.evolve(psi_18,0.0,theta[18])\n",
    "    #psi_24 = Ham_mix_pm.evolve(psi_23,0.0,theta[23])\n",
    "    #psi_25 = Ham_mix_zz.evolve(psi_24,0.0,theta[24])\n",
    "    #psi_26 = Ham_res_zz.evolve(psi_25,0.0,theta[25])\n",
    "    #psi_27 = Ham_res_x.evolve(psi_26,0.0,theta[26])\n",
    "    #psi_28 = Ham_res_z.evolve(psi_27,0.0,theta[27])\n",
    "    expt_value = 0\n",
    "    matvec = full_ham_matrix@psi_19\n",
    "    for i in range(basis.Ns):\n",
    "        expt_value += np.conj(psi_19[i])*matvec[i]\n",
    "    return np.real(expt_value)"
   ]
  },
  {
   "cell_type": "code",
   "execution_count": 34,
   "id": "b296fbce",
   "metadata": {},
   "outputs": [
    {
     "name": "stdout",
     "output_type": "stream",
     "text": [
      "2022-02-15 16:07:59.809898\n"
     ]
    },
    {
     "ename": "KeyboardInterrupt",
     "evalue": "",
     "output_type": "error",
     "traceback": [
      "\u001b[0;31m---------------------------------------------------------------------------\u001b[0m",
      "\u001b[0;31mKeyboardInterrupt\u001b[0m                         Traceback (most recent call last)",
      "\u001b[0;32m<ipython-input-34-5483f62c4efd>\u001b[0m in \u001b[0;36m<module>\u001b[0;34m\u001b[0m\n\u001b[1;32m      5\u001b[0m \u001b[0mresopt\u001b[0m \u001b[0;34m=\u001b[0m \u001b[0;36m0\u001b[0m\u001b[0;34m\u001b[0m\u001b[0;34m\u001b[0m\u001b[0m\n\u001b[1;32m      6\u001b[0m \u001b[0mprint\u001b[0m\u001b[0;34m(\u001b[0m\u001b[0mdatetime\u001b[0m\u001b[0;34m.\u001b[0m\u001b[0mdatetime\u001b[0m\u001b[0;34m.\u001b[0m\u001b[0mnow\u001b[0m\u001b[0;34m(\u001b[0m\u001b[0;34m)\u001b[0m\u001b[0;34m)\u001b[0m\u001b[0;34m\u001b[0m\u001b[0;34m\u001b[0m\u001b[0m\n\u001b[0;32m----> 7\u001b[0;31m \u001b[0mresduan\u001b[0m \u001b[0;34m=\u001b[0m \u001b[0mdual_annealing\u001b[0m\u001b[0;34m(\u001b[0m\u001b[0mcost_function\u001b[0m\u001b[0;34m,\u001b[0m \u001b[0mduan_ranges\u001b[0m\u001b[0;34m,\u001b[0m \u001b[0margs\u001b[0m \u001b[0;34m=\u001b[0m \u001b[0;34m(\u001b[0m\u001b[0mpsi_0\u001b[0m\u001b[0;34m,\u001b[0m\u001b[0;36m1\u001b[0m\u001b[0;34m)\u001b[0m\u001b[0;34m)\u001b[0m\u001b[0;34m\u001b[0m\u001b[0;34m\u001b[0m\u001b[0m\n\u001b[0m\u001b[1;32m      8\u001b[0m \u001b[0mprint\u001b[0m\u001b[0;34m(\u001b[0m\u001b[0mdatetime\u001b[0m\u001b[0;34m.\u001b[0m\u001b[0mdatetime\u001b[0m\u001b[0;34m.\u001b[0m\u001b[0mnow\u001b[0m\u001b[0;34m(\u001b[0m\u001b[0;34m)\u001b[0m\u001b[0;34m)\u001b[0m\u001b[0;34m\u001b[0m\u001b[0;34m\u001b[0m\u001b[0m\n",
      "\u001b[0;32m~/anaconda3/lib/python3.8/site-packages/scipy/optimize/_dual_annealing.py\u001b[0m in \u001b[0;36mdual_annealing\u001b[0;34m(func, bounds, args, maxiter, local_search_options, initial_temp, restart_temp_ratio, visit, accept, maxfun, seed, no_local_search, callback, x0)\u001b[0m\n\u001b[1;32m    664\u001b[0m                 \u001b[0;32mbreak\u001b[0m\u001b[0;34m\u001b[0m\u001b[0;34m\u001b[0m\u001b[0m\n\u001b[1;32m    665\u001b[0m             \u001b[0;31m# starting strategy chain\u001b[0m\u001b[0;34m\u001b[0m\u001b[0;34m\u001b[0m\u001b[0;34m\u001b[0m\u001b[0m\n\u001b[0;32m--> 666\u001b[0;31m             \u001b[0mval\u001b[0m \u001b[0;34m=\u001b[0m \u001b[0mstrategy_chain\u001b[0m\u001b[0;34m.\u001b[0m\u001b[0mrun\u001b[0m\u001b[0;34m(\u001b[0m\u001b[0mi\u001b[0m\u001b[0;34m,\u001b[0m \u001b[0mtemperature\u001b[0m\u001b[0;34m)\u001b[0m\u001b[0;34m\u001b[0m\u001b[0;34m\u001b[0m\u001b[0m\n\u001b[0m\u001b[1;32m    667\u001b[0m             \u001b[0;32mif\u001b[0m \u001b[0mval\u001b[0m \u001b[0;32mis\u001b[0m \u001b[0;32mnot\u001b[0m \u001b[0;32mNone\u001b[0m\u001b[0;34m:\u001b[0m\u001b[0;34m\u001b[0m\u001b[0;34m\u001b[0m\u001b[0m\n\u001b[1;32m    668\u001b[0m                 \u001b[0mmessage\u001b[0m\u001b[0;34m.\u001b[0m\u001b[0mappend\u001b[0m\u001b[0;34m(\u001b[0m\u001b[0mval\u001b[0m\u001b[0;34m)\u001b[0m\u001b[0;34m\u001b[0m\u001b[0;34m\u001b[0m\u001b[0m\n",
      "\u001b[0;32m~/anaconda3/lib/python3.8/site-packages/scipy/optimize/_dual_annealing.py\u001b[0m in \u001b[0;36mrun\u001b[0;34m(self, step, temperature)\u001b[0m\n\u001b[1;32m    288\u001b[0m                 self.energy_state.current_location, j, temperature)\n\u001b[1;32m    289\u001b[0m             \u001b[0;31m# Calling the objective function\u001b[0m\u001b[0;34m\u001b[0m\u001b[0;34m\u001b[0m\u001b[0;34m\u001b[0m\u001b[0m\n\u001b[0;32m--> 290\u001b[0;31m             \u001b[0me\u001b[0m \u001b[0;34m=\u001b[0m \u001b[0mself\u001b[0m\u001b[0;34m.\u001b[0m\u001b[0mfunc_wrapper\u001b[0m\u001b[0;34m.\u001b[0m\u001b[0mfun\u001b[0m\u001b[0;34m(\u001b[0m\u001b[0mx_visit\u001b[0m\u001b[0;34m)\u001b[0m\u001b[0;34m\u001b[0m\u001b[0;34m\u001b[0m\u001b[0m\n\u001b[0m\u001b[1;32m    291\u001b[0m             \u001b[0;32mif\u001b[0m \u001b[0me\u001b[0m \u001b[0;34m<\u001b[0m \u001b[0mself\u001b[0m\u001b[0;34m.\u001b[0m\u001b[0menergy_state\u001b[0m\u001b[0;34m.\u001b[0m\u001b[0mcurrent_energy\u001b[0m\u001b[0;34m:\u001b[0m\u001b[0;34m\u001b[0m\u001b[0;34m\u001b[0m\u001b[0m\n\u001b[1;32m    292\u001b[0m                 \u001b[0;31m# We have got a better energy value\u001b[0m\u001b[0;34m\u001b[0m\u001b[0;34m\u001b[0m\u001b[0;34m\u001b[0m\u001b[0m\n",
      "\u001b[0;32m~/anaconda3/lib/python3.8/site-packages/scipy/optimize/_dual_annealing.py\u001b[0m in \u001b[0;36mfun\u001b[0;34m(self, x)\u001b[0m\n\u001b[1;32m    371\u001b[0m     \u001b[0;32mdef\u001b[0m \u001b[0mfun\u001b[0m\u001b[0;34m(\u001b[0m\u001b[0mself\u001b[0m\u001b[0;34m,\u001b[0m \u001b[0mx\u001b[0m\u001b[0;34m)\u001b[0m\u001b[0;34m:\u001b[0m\u001b[0;34m\u001b[0m\u001b[0;34m\u001b[0m\u001b[0m\n\u001b[1;32m    372\u001b[0m         \u001b[0mself\u001b[0m\u001b[0;34m.\u001b[0m\u001b[0mnfev\u001b[0m \u001b[0;34m+=\u001b[0m \u001b[0;36m1\u001b[0m\u001b[0;34m\u001b[0m\u001b[0;34m\u001b[0m\u001b[0m\n\u001b[0;32m--> 373\u001b[0;31m         \u001b[0;32mreturn\u001b[0m \u001b[0mself\u001b[0m\u001b[0;34m.\u001b[0m\u001b[0mfunc\u001b[0m\u001b[0;34m(\u001b[0m\u001b[0mx\u001b[0m\u001b[0;34m,\u001b[0m \u001b[0;34m*\u001b[0m\u001b[0mself\u001b[0m\u001b[0;34m.\u001b[0m\u001b[0margs\u001b[0m\u001b[0;34m)\u001b[0m\u001b[0;34m\u001b[0m\u001b[0;34m\u001b[0m\u001b[0m\n\u001b[0m\u001b[1;32m    374\u001b[0m \u001b[0;34m\u001b[0m\u001b[0m\n\u001b[1;32m    375\u001b[0m \u001b[0;34m\u001b[0m\u001b[0m\n",
      "\u001b[0;32m<ipython-input-33-4a8a95c37026>\u001b[0m in \u001b[0;36mcost_function\u001b[0;34m(theta, psi, a)\u001b[0m\n\u001b[1;32m      8\u001b[0m     \u001b[0mpsi_6\u001b[0m \u001b[0;34m=\u001b[0m \u001b[0mHam_res_x\u001b[0m\u001b[0;34m.\u001b[0m\u001b[0mevolve\u001b[0m\u001b[0;34m(\u001b[0m\u001b[0mpsi_5\u001b[0m\u001b[0;34m,\u001b[0m\u001b[0;36m0.0\u001b[0m\u001b[0;34m,\u001b[0m\u001b[0mtheta\u001b[0m\u001b[0;34m[\u001b[0m\u001b[0;36m5\u001b[0m\u001b[0;34m]\u001b[0m\u001b[0;34m)\u001b[0m\u001b[0;34m\u001b[0m\u001b[0;34m\u001b[0m\u001b[0m\n\u001b[1;32m      9\u001b[0m     \u001b[0mpsi_7\u001b[0m \u001b[0;34m=\u001b[0m \u001b[0mHam_res_z\u001b[0m\u001b[0;34m.\u001b[0m\u001b[0mevolve\u001b[0m\u001b[0;34m(\u001b[0m\u001b[0mpsi_6\u001b[0m\u001b[0;34m,\u001b[0m\u001b[0;36m0.0\u001b[0m\u001b[0;34m,\u001b[0m\u001b[0mtheta\u001b[0m\u001b[0;34m[\u001b[0m\u001b[0;36m6\u001b[0m\u001b[0;34m]\u001b[0m\u001b[0;34m)\u001b[0m\u001b[0;34m\u001b[0m\u001b[0;34m\u001b[0m\u001b[0m\n\u001b[0;32m---> 10\u001b[0;31m     \u001b[0mpsi_8\u001b[0m \u001b[0;34m=\u001b[0m \u001b[0mHam_mix_pm\u001b[0m\u001b[0;34m.\u001b[0m\u001b[0mevolve\u001b[0m\u001b[0;34m(\u001b[0m\u001b[0mpsi_7\u001b[0m\u001b[0;34m,\u001b[0m\u001b[0;36m0.0\u001b[0m\u001b[0;34m,\u001b[0m\u001b[0mtheta\u001b[0m\u001b[0;34m[\u001b[0m\u001b[0;36m7\u001b[0m\u001b[0;34m]\u001b[0m\u001b[0;34m)\u001b[0m\u001b[0;34m\u001b[0m\u001b[0;34m\u001b[0m\u001b[0m\n\u001b[0m\u001b[1;32m     11\u001b[0m     \u001b[0mpsi_9\u001b[0m \u001b[0;34m=\u001b[0m \u001b[0mHam_res_zz\u001b[0m\u001b[0;34m.\u001b[0m\u001b[0mevolve\u001b[0m\u001b[0;34m(\u001b[0m\u001b[0mpsi_8\u001b[0m\u001b[0;34m,\u001b[0m\u001b[0;36m0.0\u001b[0m\u001b[0;34m,\u001b[0m\u001b[0mtheta\u001b[0m\u001b[0;34m[\u001b[0m\u001b[0;36m8\u001b[0m\u001b[0;34m]\u001b[0m\u001b[0;34m)\u001b[0m\u001b[0;34m\u001b[0m\u001b[0;34m\u001b[0m\u001b[0m\n\u001b[1;32m     12\u001b[0m     \u001b[0mpsi_10\u001b[0m \u001b[0;34m=\u001b[0m \u001b[0mHam_res_x\u001b[0m\u001b[0;34m.\u001b[0m\u001b[0mevolve\u001b[0m\u001b[0;34m(\u001b[0m\u001b[0mpsi_9\u001b[0m\u001b[0;34m,\u001b[0m\u001b[0;36m0.0\u001b[0m\u001b[0;34m,\u001b[0m\u001b[0mtheta\u001b[0m\u001b[0;34m[\u001b[0m\u001b[0;36m9\u001b[0m\u001b[0;34m]\u001b[0m\u001b[0;34m)\u001b[0m\u001b[0;34m\u001b[0m\u001b[0;34m\u001b[0m\u001b[0m\n",
      "\u001b[0;32m~/anaconda3/lib/python3.8/site-packages/quspin/operators/hamiltonian_core.py\u001b[0m in \u001b[0;36mevolve\u001b[0;34m(self, v0, t0, times, eom, solver_name, stack_state, verbose, iterate, imag_time, **solver_args)\u001b[0m\n\u001b[1;32m   1487\u001b[0m                         \u001b[0;32mraise\u001b[0m \u001b[0mValueError\u001b[0m\u001b[0;34m(\u001b[0m\u001b[0;34m\"'{} equation' not recognized, must be 'SE' or 'LvNE'\"\u001b[0m\u001b[0;34m.\u001b[0m\u001b[0mformat\u001b[0m\u001b[0;34m(\u001b[0m\u001b[0meom\u001b[0m\u001b[0;34m)\u001b[0m\u001b[0;34m)\u001b[0m\u001b[0;34m\u001b[0m\u001b[0;34m\u001b[0m\u001b[0m\n\u001b[1;32m   1488\u001b[0m \u001b[0;34m\u001b[0m\u001b[0m\n\u001b[0;32m-> 1489\u001b[0;31m                 \u001b[0;32mreturn\u001b[0m \u001b[0mevolve\u001b[0m\u001b[0;34m(\u001b[0m\u001b[0;34m*\u001b[0m\u001b[0mevolve_args\u001b[0m\u001b[0;34m,\u001b[0m\u001b[0;34m**\u001b[0m\u001b[0mevolve_kwargs\u001b[0m\u001b[0;34m)\u001b[0m\u001b[0;34m\u001b[0m\u001b[0;34m\u001b[0m\u001b[0m\n\u001b[0m\u001b[1;32m   1490\u001b[0m \u001b[0;34m\u001b[0m\u001b[0m\n\u001b[1;32m   1491\u001b[0m         \u001b[0;31m### routines to change object type\u001b[0m\u001b[0;34m\u001b[0m\u001b[0;34m\u001b[0m\u001b[0;34m\u001b[0m\u001b[0m\n",
      "\u001b[0;32m~/anaconda3/lib/python3.8/site-packages/quspin/tools/evolution.py\u001b[0m in \u001b[0;36mevolve\u001b[0;34m(v0, t0, times, f, solver_name, real, stack_state, verbose, imag_time, iterate, f_params, **solver_args)\u001b[0m\n\u001b[1;32m    330\u001b[0m \u001b[0;34m\u001b[0m\u001b[0m\n\u001b[1;32m    331\u001b[0m         \u001b[0;32mif\u001b[0m \u001b[0m_np\u001b[0m\u001b[0;34m.\u001b[0m\u001b[0misscalar\u001b[0m\u001b[0;34m(\u001b[0m\u001b[0mtimes\u001b[0m\u001b[0;34m)\u001b[0m\u001b[0;34m:\u001b[0m\u001b[0;34m\u001b[0m\u001b[0;34m\u001b[0m\u001b[0m\n\u001b[0;32m--> 332\u001b[0;31m                 \u001b[0;32mreturn\u001b[0m \u001b[0m_evolve_scalar\u001b[0m\u001b[0;34m(\u001b[0m\u001b[0msolver\u001b[0m\u001b[0;34m,\u001b[0m\u001b[0mv0\u001b[0m\u001b[0;34m,\u001b[0m\u001b[0mt0\u001b[0m\u001b[0;34m,\u001b[0m\u001b[0mtimes\u001b[0m\u001b[0;34m,\u001b[0m\u001b[0;34m*\u001b[0m\u001b[0moutput_args\u001b[0m\u001b[0;34m)\u001b[0m\u001b[0;34m\u001b[0m\u001b[0;34m\u001b[0m\u001b[0m\n\u001b[0m\u001b[1;32m    333\u001b[0m         \u001b[0;32melse\u001b[0m\u001b[0;34m:\u001b[0m\u001b[0;34m\u001b[0m\u001b[0;34m\u001b[0m\u001b[0m\n\u001b[1;32m    334\u001b[0m                 \u001b[0;32mif\u001b[0m \u001b[0miterate\u001b[0m\u001b[0;34m:\u001b[0m\u001b[0;34m\u001b[0m\u001b[0;34m\u001b[0m\u001b[0m\n",
      "\u001b[0;32m~/anaconda3/lib/python3.8/site-packages/quspin/tools/evolution.py\u001b[0m in \u001b[0;36m_evolve_scalar\u001b[0;34m(solver, v0, t0, time, *output_args)\u001b[0m\n\u001b[1;32m    364\u001b[0m                 \u001b[0;32mreturn\u001b[0m \u001b[0m_format_output\u001b[0m\u001b[0;34m(\u001b[0m\u001b[0mv0\u001b[0m\u001b[0;34m,\u001b[0m\u001b[0;34m*\u001b[0m\u001b[0moutput_args\u001b[0m\u001b[0;34m)\u001b[0m\u001b[0;34m\u001b[0m\u001b[0;34m\u001b[0m\u001b[0m\n\u001b[1;32m    365\u001b[0m \u001b[0;34m\u001b[0m\u001b[0m\n\u001b[0;32m--> 366\u001b[0;31m         \u001b[0msolver\u001b[0m\u001b[0;34m.\u001b[0m\u001b[0mintegrate\u001b[0m\u001b[0;34m(\u001b[0m\u001b[0mtime\u001b[0m\u001b[0;34m)\u001b[0m\u001b[0;34m\u001b[0m\u001b[0;34m\u001b[0m\u001b[0m\n\u001b[0m\u001b[1;32m    367\u001b[0m         \u001b[0;32mif\u001b[0m \u001b[0msolver\u001b[0m\u001b[0;34m.\u001b[0m\u001b[0msuccessful\u001b[0m\u001b[0;34m(\u001b[0m\u001b[0;34m)\u001b[0m\u001b[0;34m:\u001b[0m\u001b[0;34m\u001b[0m\u001b[0;34m\u001b[0m\u001b[0m\n\u001b[1;32m    368\u001b[0m                 \u001b[0;32mreturn\u001b[0m \u001b[0m_format_output\u001b[0m\u001b[0;34m(\u001b[0m\u001b[0msolver\u001b[0m\u001b[0;34m.\u001b[0m\u001b[0m_y\u001b[0m\u001b[0;34m,\u001b[0m\u001b[0;34m*\u001b[0m\u001b[0moutput_args\u001b[0m\u001b[0;34m)\u001b[0m\u001b[0;34m\u001b[0m\u001b[0;34m\u001b[0m\u001b[0m\n",
      "\u001b[0;32m~/anaconda3/lib/python3.8/site-packages/scipy/integrate/_ode.py\u001b[0m in \u001b[0;36mintegrate\u001b[0;34m(self, t, step, relax)\u001b[0m\n\u001b[1;32m    431\u001b[0m \u001b[0;34m\u001b[0m\u001b[0m\n\u001b[1;32m    432\u001b[0m         \u001b[0;32mtry\u001b[0m\u001b[0;34m:\u001b[0m\u001b[0;34m\u001b[0m\u001b[0;34m\u001b[0m\u001b[0m\n\u001b[0;32m--> 433\u001b[0;31m             self._y, self.t = mth(self.f, self.jac or (lambda: None),\n\u001b[0m\u001b[1;32m    434\u001b[0m                                   \u001b[0mself\u001b[0m\u001b[0;34m.\u001b[0m\u001b[0m_y\u001b[0m\u001b[0;34m,\u001b[0m \u001b[0mself\u001b[0m\u001b[0;34m.\u001b[0m\u001b[0mt\u001b[0m\u001b[0;34m,\u001b[0m \u001b[0mt\u001b[0m\u001b[0;34m,\u001b[0m\u001b[0;34m\u001b[0m\u001b[0;34m\u001b[0m\u001b[0m\n\u001b[1;32m    435\u001b[0m                                   self.f_params, self.jac_params)\n",
      "\u001b[0;32m~/anaconda3/lib/python3.8/site-packages/scipy/integrate/_ode.py\u001b[0m in \u001b[0;36mrun\u001b[0;34m(self, f, jac, y0, t0, t1, f_params, jac_params)\u001b[0m\n\u001b[1;32m   1174\u001b[0m \u001b[0;34m\u001b[0m\u001b[0m\n\u001b[1;32m   1175\u001b[0m     \u001b[0;32mdef\u001b[0m \u001b[0mrun\u001b[0m\u001b[0;34m(\u001b[0m\u001b[0mself\u001b[0m\u001b[0;34m,\u001b[0m \u001b[0mf\u001b[0m\u001b[0;34m,\u001b[0m \u001b[0mjac\u001b[0m\u001b[0;34m,\u001b[0m \u001b[0my0\u001b[0m\u001b[0;34m,\u001b[0m \u001b[0mt0\u001b[0m\u001b[0;34m,\u001b[0m \u001b[0mt1\u001b[0m\u001b[0;34m,\u001b[0m \u001b[0mf_params\u001b[0m\u001b[0;34m,\u001b[0m \u001b[0mjac_params\u001b[0m\u001b[0;34m)\u001b[0m\u001b[0;34m:\u001b[0m\u001b[0;34m\u001b[0m\u001b[0;34m\u001b[0m\u001b[0m\n\u001b[0;32m-> 1176\u001b[0;31m         x, y, iwork, istate = self.runner(*((f, t0, y0, t1) +\n\u001b[0m\u001b[1;32m   1177\u001b[0m                                           tuple(self.call_args) + (f_params,)))\n\u001b[1;32m   1178\u001b[0m         \u001b[0mself\u001b[0m\u001b[0;34m.\u001b[0m\u001b[0mistate\u001b[0m \u001b[0;34m=\u001b[0m \u001b[0mistate\u001b[0m\u001b[0;34m\u001b[0m\u001b[0;34m\u001b[0m\u001b[0m\n",
      "\u001b[0;32m~/anaconda3/lib/python3.8/site-packages/quspin/tools/evolution.py\u001b[0m in \u001b[0;36m_cmplx_f\u001b[0;34m(t, y, f, f_params)\u001b[0m\n\u001b[1;32m    340\u001b[0m \u001b[0;32mdef\u001b[0m \u001b[0m_cmplx_f\u001b[0m\u001b[0;34m(\u001b[0m\u001b[0mt\u001b[0m\u001b[0;34m,\u001b[0m\u001b[0my\u001b[0m\u001b[0;34m,\u001b[0m\u001b[0mf\u001b[0m\u001b[0;34m,\u001b[0m\u001b[0mf_params\u001b[0m\u001b[0;34m)\u001b[0m\u001b[0;34m:\u001b[0m\u001b[0;34m\u001b[0m\u001b[0;34m\u001b[0m\u001b[0m\n\u001b[1;32m    341\u001b[0m         \u001b[0myc\u001b[0m \u001b[0;34m=\u001b[0m \u001b[0my\u001b[0m\u001b[0;34m.\u001b[0m\u001b[0mview\u001b[0m\u001b[0;34m(\u001b[0m\u001b[0m_np\u001b[0m\u001b[0;34m.\u001b[0m\u001b[0mcomplex128\u001b[0m\u001b[0;34m)\u001b[0m\u001b[0;34m\u001b[0m\u001b[0;34m\u001b[0m\u001b[0m\n\u001b[0;32m--> 342\u001b[0;31m         \u001b[0;32mreturn\u001b[0m \u001b[0mf\u001b[0m\u001b[0;34m(\u001b[0m\u001b[0mt\u001b[0m\u001b[0;34m,\u001b[0m\u001b[0myc\u001b[0m\u001b[0;34m,\u001b[0m\u001b[0;34m*\u001b[0m\u001b[0mf_params\u001b[0m\u001b[0;34m)\u001b[0m\u001b[0;34m.\u001b[0m\u001b[0mview\u001b[0m\u001b[0;34m(\u001b[0m\u001b[0m_np\u001b[0m\u001b[0;34m.\u001b[0m\u001b[0mfloat64\u001b[0m\u001b[0;34m)\u001b[0m\u001b[0;34m\u001b[0m\u001b[0;34m\u001b[0m\u001b[0m\n\u001b[0m\u001b[1;32m    343\u001b[0m \u001b[0;34m\u001b[0m\u001b[0m\n\u001b[1;32m    344\u001b[0m \u001b[0;34m\u001b[0m\u001b[0m\n",
      "\u001b[0;32m~/anaconda3/lib/python3.8/site-packages/quspin/operators/hamiltonian_core.py\u001b[0m in \u001b[0;36m__SO\u001b[0;34m(self, time, V, V_out)\u001b[0m\n\u001b[1;32m   1346\u001b[0m                         \u001b[0mThis\u001b[0m \u001b[0mfunction\u001b[0m \u001b[0;32mis\u001b[0m \u001b[0mwhat\u001b[0m \u001b[0mgets\u001b[0m \u001b[0mpassed\u001b[0m \u001b[0minto\u001b[0m \u001b[0mthe\u001b[0m \u001b[0mode\u001b[0m \u001b[0msolver\u001b[0m\u001b[0;34m.\u001b[0m \u001b[0mThis\u001b[0m \u001b[0;32mis\u001b[0m \u001b[0mthe\u001b[0m \u001b[0mImaginary\u001b[0m \u001b[0mtime\u001b[0m \u001b[0mSchrodinger\u001b[0m \u001b[0moperator\u001b[0m \u001b[0;34m-\u001b[0m\u001b[0mH\u001b[0m\u001b[0;34m(\u001b[0m\u001b[0mt\u001b[0m\u001b[0;34m)\u001b[0m\u001b[0;34m*\u001b[0m\u001b[0;34m|\u001b[0m\u001b[0mV\u001b[0m \u001b[0;34m>\u001b[0m\u001b[0;34m\u001b[0m\u001b[0;34m\u001b[0m\u001b[0m\n\u001b[1;32m   1347\u001b[0m \t\t\"\"\"\n\u001b[0;32m-> 1348\u001b[0;31m                 \u001b[0mV\u001b[0m \u001b[0;34m=\u001b[0m \u001b[0mV\u001b[0m\u001b[0;34m.\u001b[0m\u001b[0mreshape\u001b[0m\u001b[0;34m(\u001b[0m\u001b[0mV_out\u001b[0m\u001b[0;34m.\u001b[0m\u001b[0mshape\u001b[0m\u001b[0;34m)\u001b[0m\u001b[0;34m\u001b[0m\u001b[0;34m\u001b[0m\u001b[0m\n\u001b[0m\u001b[1;32m   1349\u001b[0m                 \u001b[0mself\u001b[0m\u001b[0;34m.\u001b[0m\u001b[0m_static_matvec\u001b[0m\u001b[0;34m(\u001b[0m\u001b[0mself\u001b[0m\u001b[0;34m.\u001b[0m\u001b[0m_static\u001b[0m\u001b[0;34m,\u001b[0m\u001b[0mV\u001b[0m\u001b[0;34m,\u001b[0m\u001b[0mout\u001b[0m\u001b[0;34m=\u001b[0m\u001b[0mV_out\u001b[0m\u001b[0;34m,\u001b[0m\u001b[0moverwrite_out\u001b[0m\u001b[0;34m=\u001b[0m\u001b[0;32mTrue\u001b[0m\u001b[0;34m)\u001b[0m\u001b[0;34m\u001b[0m\u001b[0;34m\u001b[0m\u001b[0m\n\u001b[1;32m   1350\u001b[0m                 \u001b[0;32mfor\u001b[0m \u001b[0mfunc\u001b[0m\u001b[0;34m,\u001b[0m\u001b[0mHd\u001b[0m \u001b[0;32min\u001b[0m \u001b[0miteritems\u001b[0m\u001b[0;34m(\u001b[0m\u001b[0mself\u001b[0m\u001b[0;34m.\u001b[0m\u001b[0m_dynamic\u001b[0m\u001b[0;34m)\u001b[0m\u001b[0;34m:\u001b[0m\u001b[0;34m\u001b[0m\u001b[0;34m\u001b[0m\u001b[0m\n",
      "\u001b[0;31mKeyboardInterrupt\u001b[0m: "
     ]
    }
   ],
   "source": [
    "from scipy.optimize import dual_annealing\n",
    "import datetime\n",
    "duan_ranges = [(-10.,10.),(-10.,10.),(-10.,10.),(-10.,10.),(-10.,10.),(-10.,10.),(-10.,10.),(-10.,10.),(-10.,10.),(-10.,10.),(-10.,10.),(-10.,10.),(-10.,10.),(-10.,10.),(-10.,10.),(-10.,10.),(-10.,10.),(-10.,10.),(-10.,10.),(-10.,10.),(-10.,10.),(-10.,10.),(-10.,10.),(-10.,10.)]\n",
    "resduan = 0\n",
    "resopt = 0\n",
    "print(datetime.datetime.now())\n",
    "resduan = dual_annealing(cost_function, duan_ranges, args = (psi_0,1))\n",
    "print(datetime.datetime.now())"
   ]
  },
  {
   "cell_type": "code",
   "execution_count": null,
   "id": "857ce163",
   "metadata": {},
   "outputs": [],
   "source": [
    "print(resduan.fun)\n",
    "print(resduan.x)"
   ]
  },
  {
   "cell_type": "code",
   "execution_count": null,
   "id": "49708f25",
   "metadata": {},
   "outputs": [],
   "source": [
    "theta = resduan.x\n",
    "psi = psi_0\n",
    "psi_1 = Ham_res_zz.evolve(psi,0.0,theta[0])\n",
    "psi_2 = Ham_res_x.evolve(psi_1,0.0,theta[1])\n",
    "psi_3 = Ham_res_z.evolve(psi_2,0.0,theta[2])\n",
    "psi_4 = Ham_mix_pm.evolve(psi_3,0.0,theta[3])\n",
    "psi_5 = Ham_res_zz.evolve(psi_4,0.0,theta[4])\n",
    "psi_6 = Ham_res_x.evolve(psi_5,0.0,theta[5])\n",
    "psi_7 = Ham_res_z.evolve(psi_6,0.0,theta[6])\n",
    "psi_8 = Ham_mix_pm.evolve(psi_7,0.0,theta[7])\n",
    "psi_9 = Ham_res_zz.evolve(psi_8,0.0,theta[8])\n",
    "psi_10 = Ham_res_x.evolve(psi_9,0.0,theta[9])\n",
    "psi_11 = Ham_res_z.evolve(psi_10,0.0,theta[10])\n",
    "psi_12 = Ham_mix_pm.evolve(psi_11,0.0,theta[11])\n",
    "psi_13 = Ham_res_zz.evolve(psi_12,0.0,theta[12])\n",
    "psi_14 = Ham_res_x.evolve(psi_13,0.0,theta[13])\n",
    "psi_15 = Ham_res_z.evolve(psi_14,0.0,theta[14])\n",
    "psi_16 = Ham_mix_pm.evolve(psi_15,0.0,theta[15])\n",
    "psi_17 = Ham_res_zz.evolve(psi_16,0.0,theta[16])\n",
    "psi_18 = Ham_res_x.evolve(psi_17,0.0,theta[17])\n",
    "psi_19 = Ham_res_z.evolve(psi_18,0.0,theta[18])\n",
    "scall = 0\n",
    "for i in range(basis.Ns):\n",
    "    scall +=np.conj(psi_19[i])*eigenvec[:,0][i]\n",
    "print(np.abs(scall)**2)\n"
   ]
  },
  {
   "cell_type": "code",
   "execution_count": 299,
   "id": "74c6b56f",
   "metadata": {},
   "outputs": [
    {
     "name": "stdout",
     "output_type": "stream",
     "text": [
      "-0.55011331227517\n",
      "[-4.03878836  5.55989785  1.8595793  -4.86248275  4.78149869 -4.97471836\n",
      " -3.46452114 -5.98009609  7.19264618 -2.90166265 -9.05421587  7.69811738]\n"
     ]
    }
   ],
   "source": [
    "print(resduan.fun)\n",
    "print(resduan.x)"
   ]
  },
  {
   "cell_type": "code",
   "execution_count": 26,
   "id": "041c650c",
   "metadata": {},
   "outputs": [
    {
     "name": "stdout",
     "output_type": "stream",
     "text": [
      "-0.5519403500645929\n",
      "[-5.51745973 -7.35332971 -8.73503791 -6.69417094 -9.43419771 -4.57265972\n",
      " -8.02672357 -6.66334215  3.92019751  5.37077267  8.82461006  1.96698853\n",
      " -0.23597123 -4.77601285 -7.15362785]\n"
     ]
    }
   ],
   "source": [
    "print(resduan.fun)\n",
    "print(resduan.x)"
   ]
  },
  {
   "cell_type": "code",
   "execution_count": 71,
   "id": "e551b9f5",
   "metadata": {},
   "outputs": [
    {
     "name": "stdout",
     "output_type": "stream",
     "text": [
      "0.13079051773119577\n",
      "[ 1.78158287  1.24069723 -8.26738098  5.20148629 -8.82759711  3.13383203\n",
      "  6.98924758 -5.95115289  1.16599966 -5.08488822  9.01939631 -7.28177711\n",
      " -6.29981209 -5.73060885 -6.09134693]\n"
     ]
    }
   ],
   "source": [
    "print(resduan.fun)\n",
    "print(resduan.x)"
   ]
  },
  {
   "cell_type": "code",
   "execution_count": 66,
   "id": "6cb0c1df",
   "metadata": {},
   "outputs": [
    {
     "name": "stdout",
     "output_type": "stream",
     "text": [
      "-0.5687610819382901\n",
      "[-2.10102319  3.66971985  4.69080298  4.00974595  1.35454097 -0.90753474\n",
      "  0.53533885  9.77209822 -1.55066619 -6.43452929  0.90925203  6.18037783\n",
      " -0.41672004 -8.56560744  9.63070562]\n"
     ]
    }
   ],
   "source": [
    "print(resduan.fun)\n",
    "print(resduan.x)"
   ]
  },
  {
   "cell_type": "code",
   "execution_count": 28,
   "id": "b3d2a1ca",
   "metadata": {},
   "outputs": [
    {
     "name": "stdout",
     "output_type": "stream",
     "text": [
      "0.40057114041132186\n"
     ]
    }
   ],
   "source": [
    "psi = psi_0\n",
    "psi_1 = Ham_mix.evolve(psi,0.0,-9.78930793)\n",
    "psi_2 = Ham_res_1.evolve(psi_1,0.0,7.78040255)\n",
    "psi_3 = Ham_res_2.evolve(psi_2,0.0,1.5833793)\n",
    "\n",
    "\n",
    "expt_value = 0\n",
    "matvec = full_ham_matrix@psi_3\n",
    "for i in range(basis.Ns):\n",
    "    expt_value += np.conj(psi_3[i])*matvec[i]\n",
    "print(np.real(expt_value))\n",
    "energy_after_one_layer = expt_value"
   ]
  },
  {
   "cell_type": "code",
   "execution_count": 29,
   "id": "69b99137",
   "metadata": {},
   "outputs": [
    {
     "name": "stdout",
     "output_type": "stream",
     "text": [
      "-0.046172959230028295\n"
     ]
    }
   ],
   "source": [
    "psi = psi_0\n",
    "psi_1 = Ham_mix.evolve(psi,0.0,1.87443663)\n",
    "psi_2 = Ham_res_1.evolve(psi_1,0.0,4.23721195)\n",
    "psi_3 = Ham_res_2.evolve(psi_2,0.0,-8.5794782)\n",
    "psi_4 = Ham_mix.evolve(psi_3,0.0,4.95468396)\n",
    "psi_5 = Ham_res_1.evolve(psi_4,0.0,-6.30491365)\n",
    "psi_6 = Ham_res_2.evolve(psi_5,0.0,1.98934673)\n",
    "\n",
    "expt_value = 0\n",
    "matvec = full_ham_matrix@psi_6\n",
    "for i in range(basis.Ns):\n",
    "    expt_value += np.conj(psi_6[i])*matvec[i]\n",
    "print(np.real(expt_value))\n",
    "energy_after_two_layers = expt_value"
   ]
  },
  {
   "cell_type": "code",
   "execution_count": 30,
   "id": "e582696b",
   "metadata": {},
   "outputs": [
    {
     "name": "stdout",
     "output_type": "stream",
     "text": [
      "-0.4279426327807378\n"
     ]
    }
   ],
   "source": [
    "\n",
    "psi = psi_0\n",
    "psi_1 = Ham_mix.evolve(psi,0.0,-1.30400919)\n",
    "psi_2 = Ham_res_1.evolve(psi_1,0.0,-0.94233231)\n",
    "psi_3 = Ham_res_2.evolve(psi_2,0.0,-2.07176727)\n",
    "psi_4 = Ham_mix.evolve(psi_3,0.0,-5.11506299)\n",
    "psi_5 = Ham_res_1.evolve(psi_4,0.0,8.57112885)\n",
    "psi_6 = Ham_res_2.evolve(psi_5,0.0,-8.17867129)\n",
    "psi_7 = Ham_mix.evolve(psi_6,0.0,2.55365574)\n",
    "psi_8 = Ham_res_1.evolve(psi_7,0.0,5.39687006)\n",
    "psi_9 = Ham_res_2.evolve(psi_8,0.0,-5.00071697)\n",
    "\n",
    "\n",
    "expt_value = 0\n",
    "matvec = full_ham_matrix@psi_9\n",
    "for i in range(basis.Ns):\n",
    "    expt_value += np.conj(psi_9[i])*matvec[i]\n",
    "print(np.real(expt_value))\n",
    "energy_after_three_layers = expt_value"
   ]
  },
  {
   "cell_type": "code",
   "execution_count": 81,
   "id": "9ea9af9e",
   "metadata": {},
   "outputs": [],
   "source": [
    "mixing_term = [[0.5,i] for i in range(L)]\n",
    "\n",
    "mixing_map = [\n",
    "    \n",
    "    [\"+\",mixing_term],\n",
    "    [\"-\",mixing_term],\n",
    "]\n",
    "\n",
    "Ham_mix = hamiltonian(mixing_map,dynamic_list=[],basis=basis,**no_checks)"
   ]
  },
  {
   "cell_type": "code",
   "execution_count": 82,
   "id": "b5fa858a",
   "metadata": {},
   "outputs": [],
   "source": [
    "eigenval_mix,eigenvec_mix = Ham_mix.eigh()\n",
    "psi_0 = eigenvec_mix[:,0]"
   ]
  },
  {
   "cell_type": "code",
   "execution_count": 83,
   "id": "d33d77c8",
   "metadata": {},
   "outputs": [],
   "source": [
    "resource = [[1.,i,i+1] for i in range(L-2)]\n",
    "\n",
    "#resource_x0 = [[0.5,0]]\n",
    "\n",
    "#resource_x = [[-1.,1]]\n",
    "\n",
    "resource_z = [[1.,2]]\n",
    "\n",
    "\n",
    "resource_map_1 = [\n",
    "    \n",
    "    [\"+-\", resource],\n",
    "    [\"-+\", resource],\n",
    "]\n",
    "resource_map_2 = [\n",
    "    [\"+z\", resource],\n",
    "    [\"-z\", resource],\n",
    "    [\"z\", resource_z],\n",
    "    \n",
    "]\n",
    "\n",
    "\n",
    "\n",
    "Ham_res_1 = hamiltonian(resource_map_1,dynamic_list=[],basis=basis,**no_checks)\n",
    "Ham_res_2 = hamiltonian(resource_map_2,dynamic_list=[],basis=basis,**no_checks)\n"
   ]
  },
  {
   "cell_type": "code",
   "execution_count": 84,
   "id": "4185e2c6",
   "metadata": {},
   "outputs": [
    {
     "name": "stdout",
     "output_type": "stream",
     "text": [
      "-0.5501222499961802\n"
     ]
    }
   ],
   "source": [
    "\n",
    "psi = psi_0\n",
    "psi_1 = Ham_mix.evolve(psi,0.0,-4.03878836)\n",
    "psi_2 = Ham_res_1.evolve(psi_1,0.0,5.55989785)\n",
    "psi_3 = Ham_res_2.evolve(psi_2,0.0,1.8595793)\n",
    "psi_4 = Ham_mix.evolve(psi_3,0.0,-4.86248275)\n",
    "psi_5 = Ham_res_1.evolve(psi_4,0.0,4.78149869)\n",
    "psi_6 = Ham_res_2.evolve(psi_5,0.0,-4.97471836)\n",
    "psi_7 = Ham_mix.evolve(psi_6,0.0,-3.46452114)\n",
    "psi_8 = Ham_res_1.evolve(psi_7,0.0,-5.98009609)\n",
    "psi_9 = Ham_res_2.evolve(psi_8,0.0,7.19264618)\n",
    "psi_10 = Ham_mix.evolve(psi_9,0.0,-2.90166265)\n",
    "psi_11 = Ham_res_1.evolve(psi_10,0.0,-9.05421587)\n",
    "psi_12 = Ham_res_2.evolve(psi_11,0.0,7.69811738)\n",
    "\n",
    "expt_value = 0\n",
    "matvec = full_ham_matrix@psi_12\n",
    "for i in range(basis.Ns):\n",
    "    expt_value += np.conj(psi_12[i])*matvec[i]\n",
    "print(np.real(expt_value))\n",
    "energy_after_four_layers = expt_value"
   ]
  },
  {
   "cell_type": "code",
   "execution_count": 85,
   "id": "b812437a",
   "metadata": {},
   "outputs": [
    {
     "name": "stdout",
     "output_type": "stream",
     "text": [
      "[-5.63243289e-05+8.09304299e-05j -2.64911736e-03-2.60548828e-03j\n",
      "  5.67914461e-02-4.09422282e-02j -5.25060164e-06-2.30968808e-05j\n",
      "  8.91248601e-04-4.85866346e-05j -1.92323173e-03+1.67074806e-02j\n",
      "  1.71217523e-04-3.42233465e-04j  1.16270842e-02+8.53022824e-03j\n",
      " -1.95297817e-01+1.88908502e-01j  2.27977117e-05+1.37020059e-05j\n",
      " -6.53468720e-04+7.59972646e-04j -1.20434258e-02-1.45465951e-02j\n",
      "  3.79531003e-04-9.18874091e-04j  3.17264280e-02+1.99248759e-02j\n",
      " -4.70658622e-01+5.26093260e-01j  4.18128571e-04-7.99274832e-04j\n",
      "  2.70390718e-02+2.06001942e-02j -4.68340285e-01+4.36892508e-01j\n",
      "  4.52503520e-05-3.54257683e-05j  1.02901358e-03+1.90548789e-03j\n",
      " -3.86536488e-02+1.30708913e-02j -1.77740470e-05+1.20485778e-04j\n",
      " -4.36291484e-03-1.42421189e-03j  4.02848386e-02-7.65182393e-02j\n",
      " -6.83149052e-06-1.68274053e-05j  6.68390090e-04-1.47083525e-04j\n",
      "  6.12730827e-04+1.28805232e-02j]\n"
     ]
    }
   ],
   "source": [
    "print(psi_12)"
   ]
  },
  {
   "cell_type": "code",
   "execution_count": 33,
   "id": "d19c8124",
   "metadata": {},
   "outputs": [
    {
     "name": "stdout",
     "output_type": "stream",
     "text": [
      "0.9900424740311967\n"
     ]
    }
   ],
   "source": [
    "scall = 0\n",
    "for i in range(basis.Ns):\n",
    "    scall +=np.conj(psi_12[i])*eigenvec[:,0][i]\n",
    "print(np.abs(scall))"
   ]
  },
  {
   "cell_type": "code",
   "execution_count": 46,
   "id": "e2942dc3",
   "metadata": {},
   "outputs": [
    {
     "name": "stderr",
     "output_type": "stream",
     "text": [
      "/home/ppopov/anaconda3/lib/python3.8/site-packages/numpy/core/_asarray.py:102: ComplexWarning: Casting complex values to real discards the imaginary part\n",
      "  return array(a, dtype, copy=False, order=order)\n"
     ]
    },
    {
     "data": {
      "text/plain": [
       "<matplotlib.legend.Legend at 0x7f051dec6490>"
      ]
     },
     "execution_count": 46,
     "metadata": {},
     "output_type": "execute_result"
    },
    {
     "data": {
      "image/png": "[encoded data removed]",
      "text/plain": [
       "<Figure size 432x288 with 1 Axes>"
      ]
     },
     "metadata": {
      "needs_background": "light"
     },
     "output_type": "display_data"
    }
   ],
   "source": [
    "plt.plot(np.array([1.,2.,3.,4.]),np.array([energy_after_one_layer,energy_after_two_layers,energy_after_three_layers,energy_after_four_layers]), 'o', color = \"green\",label=\"VQE results\")\n",
    "plt.plot(np.array([0.,2.,3.,4.5]), np.array([eigenval[0],eigenval[0],eigenval[0],eigenval[0]]),color = \"red\",label=\"Exact diagonalisation\")\n",
    "plt.xlim(0.8,4.2)\n",
    "plt.xlabel(\"Number of layers\")\n",
    "plt.ylabel(\"Energy\")\n",
    "plt.legend()"
   ]
  }
 ],
 "metadata": {
  "kernelspec": {
   "display_name": "Python 3",
   "language": "python",
   "name": "python3"
  },
  "language_info": {
   "codemirror_mode": {
    "name": "ipython",
    "version": 3
   },
   "file_extension": ".py",
   "mimetype": "text/x-python",
   "name": "python",
   "nbconvert_exporter": "python",
   "pygments_lexer": "ipython3",
   "version": "3.8.8"
  }
 },
 "nbformat": 4,
 "nbformat_minor": 5
}
