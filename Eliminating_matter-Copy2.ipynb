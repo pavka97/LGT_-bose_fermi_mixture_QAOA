{
 "cells": [
  {
   "cell_type": "code",
   "execution_count": 1,
   "id": "86d8cc9e",
   "metadata": {},
   "outputs": [],
   "source": [
    "from __future__ import print_function, division\n",
    "import sys,os\n",
    "# line 4 and line 5 below are for development purposes and can be removed\n",
    "qspin_path = os.path.join(os.getcwd(),\"../../\")\n",
    "sys.path.insert(0,qspin_path)\n",
    "from scipy.linalg import expm\n",
    "from quspin.operators import hamiltonian, commutator, exp_op # Hamiltonians and operators\n",
    "from quspin.basis import tensor_basis, spin_basis_1d # bases\n",
    "from quspin.tools.measurements import obs_vs_time # calculating dynamics\n",
    "from quspin.tools.Floquet import Floquet_t_vec # period-spaced time vector\n",
    "import numpy as np # general math functions\n",
    "import matplotlib.pyplot as plt # plotting library"
   ]
  },
  {
   "cell_type": "code",
   "execution_count": 74,
   "id": "a3b5bfc8",
   "metadata": {},
   "outputs": [],
   "source": [
    "L = 5\n",
    "M = 0.1\n",
    "l=1\n",
    "no_checks = dict(check_pcon=False,check_symm=False,check_herm=False)\n"
   ]
  },
  {
   "cell_type": "code",
   "execution_count": 75,
   "id": "81fe58e3",
   "metadata": {},
   "outputs": [
    {
     "name": "stdout",
     "output_type": "stream",
     "text": [
      "reference states: \n",
      "array index   /   Fock state   /   integer repr. \n",
      "       0.         |2 2 2 2 2>           242  \n",
      "       1.         |2 2 2 2 1>           241  \n",
      "       2.         |2 2 2 2 0>           240  \n",
      "       3.         |2 2 2 1 2>           239  \n",
      "       4.         |2 2 2 1 1>           238  \n",
      "       5.         |2 2 2 1 0>           237  \n",
      "       6.         |2 2 2 0 2>           236  \n",
      "       7.         |2 2 2 0 1>           235  \n",
      "       8.         |2 2 2 0 0>           234  \n",
      "       9.         |2 2 1 2 2>           233  \n",
      "      10.         |2 2 1 2 1>           232  \n",
      "      11.         |2 2 1 2 0>           231  \n",
      "      12.         |2 2 1 1 2>           230  \n",
      "      13.         |2 2 1 1 1>           229  \n",
      "      14.         |2 2 1 1 0>           228  \n",
      "      15.         |2 2 1 0 2>           227  \n",
      "      16.         |2 2 1 0 1>           226  \n",
      "      17.         |2 2 1 0 0>           225  \n",
      "      18.         |2 2 0 2 2>           224  \n",
      "      19.         |2 2 0 2 1>           223  \n",
      "      20.         |2 2 0 2 0>           222  \n",
      "      21.         |2 2 0 1 2>           221  \n",
      "      22.         |2 2 0 1 1>           220  \n",
      "      23.         |2 2 0 1 0>           219  \n",
      "      24.         |2 2 0 0 2>           218  \n",
      "                     :\n",
      "     218.         |0 0 2 2 0>            24  \n",
      "     219.         |0 0 2 1 2>            23  \n",
      "     220.         |0 0 2 1 1>            22  \n",
      "     221.         |0 0 2 1 0>            21  \n",
      "     222.         |0 0 2 0 2>            20  \n",
      "     223.         |0 0 2 0 1>            19  \n",
      "     224.         |0 0 2 0 0>            18  \n",
      "     225.         |0 0 1 2 2>            17  \n",
      "     226.         |0 0 1 2 1>            16  \n",
      "     227.         |0 0 1 2 0>            15  \n",
      "     228.         |0 0 1 1 2>            14  \n",
      "     229.         |0 0 1 1 1>            13  \n",
      "     230.         |0 0 1 1 0>            12  \n",
      "     231.         |0 0 1 0 2>            11  \n",
      "     232.         |0 0 1 0 1>            10  \n",
      "     233.         |0 0 1 0 0>             9  \n",
      "     234.         |0 0 0 2 2>             8  \n",
      "     235.         |0 0 0 2 1>             7  \n",
      "     236.         |0 0 0 2 0>             6  \n",
      "     237.         |0 0 0 1 2>             5  \n",
      "     238.         |0 0 0 1 1>             4  \n",
      "     239.         |0 0 0 1 0>             3  \n",
      "     240.         |0 0 0 0 2>             2  \n",
      "     241.         |0 0 0 0 1>             1  \n",
      "     242.         |0 0 0 0 0>             0  \n"
     ]
    }
   ],
   "source": [
    "basis=spin_basis_1d(L=L,S = str(l))\n",
    "print(basis)"
   ]
  },
  {
   "cell_type": "code",
   "execution_count": 76,
   "id": "5be4cc60",
   "metadata": {},
   "outputs": [],
   "source": [
    "basis_vectors = []\n",
    "for index in range(basis.Ns):\n",
    "    state = np.zeros(basis.Ns)\n",
    "    state[basis.Ns-index-1] = 1.\n",
    "    state = state.tolist()\n",
    "    basis_vectors.append(state)"
   ]
  },
  {
   "cell_type": "code",
   "execution_count": 77,
   "id": "0e69bd4d",
   "metadata": {},
   "outputs": [],
   "source": [
    "#Gauss_law_0\n",
    "\n",
    "gauss_law_z_0 = []\n",
    "gauss_law_z_0.append([1.,0])\n",
    "\n",
    "gauss_law_0_map = [\n",
    "    \n",
    "    [\"z\",gauss_law_z_0]\n",
    "\n",
    "    \n",
    "]\n",
    "\n",
    "Gauss_law_0  = hamiltonian(gauss_law_0_map,dynamic_list=[],basis=basis,**no_checks)\n",
    "\n",
    "constraint_0 = Gauss_law_0**2-Gauss_law_0"
   ]
  },
  {
   "cell_type": "code",
   "execution_count": 78,
   "id": "bd88271a",
   "metadata": {},
   "outputs": [],
   "source": [
    "Proj_10 = 0\n",
    "Proj_00 = 0\n",
    "for state in basis_vectors:\n",
    "    state = np.array(state)\n",
    "    if (Gauss_law_0.expt_value(state)>=1.-1e-8) & (Gauss_law_0.expt_value(state)<=1.+1e-8):\n",
    "        Proj_10 += np.outer(state,state)\n",
    "    if (Gauss_law_0.expt_value(state)>=0.-1e-8) & (Gauss_law_0.expt_value(state)<=0.+1e-8):\n",
    "        Proj_00 += np.outer(state,state)"
   ]
  },
  {
   "cell_type": "code",
   "execution_count": 79,
   "id": "0eabeb79",
   "metadata": {},
   "outputs": [],
   "source": [
    "#Gauss_law_1\n",
    "gauss_law_zm_1 = []\n",
    "gauss_law_zm_1.append([-1.,0])\n",
    "\n",
    "gauss_law_z_1 = []\n",
    "gauss_law_z_1.append([1.,1])\n",
    "\n",
    "gauss_law_id_1 = [[1.,1]]\n",
    "\n",
    "gauss_law_1_map = [\n",
    "    \n",
    "    [\"z\",gauss_law_z_1],\n",
    "    [\"z\",gauss_law_zm_1],\n",
    "    [\"I\",gauss_law_id_1]\n",
    "    \n",
    "]\n",
    "\n",
    "Gauss_law_1  = hamiltonian(gauss_law_1_map,dynamic_list=[],basis=basis,**no_checks)\n",
    "constraint_1 = Gauss_law_1**2-Gauss_law_1"
   ]
  },
  {
   "cell_type": "code",
   "execution_count": 80,
   "id": "7f1450a7",
   "metadata": {},
   "outputs": [],
   "source": [
    "Proj_01 = 0\n",
    "Proj_11 = 0\n",
    "for state in basis_vectors:\n",
    "    state = np.array(state)\n",
    "    if (Gauss_law_1.expt_value(state)>=0.-1e-8) & (Gauss_law_1.expt_value(state)<=0.+1e-8):\n",
    "        Proj_01 += np.outer(state,state)\n",
    "    if (Gauss_law_1.expt_value(state)>=1.-1e-8) & (Gauss_law_1.expt_value(state)<=1.+1e-8):\n",
    "        Proj_11 += np.outer(state,state)"
   ]
  },
  {
   "cell_type": "code",
   "execution_count": 81,
   "id": "96137785",
   "metadata": {},
   "outputs": [],
   "source": [
    "#Gauss_law_2\n",
    "gauss_law_zm_2 = []\n",
    "gauss_law_zm_2.append([-1.,1])\n",
    "\n",
    "gauss_law_z_2 = []\n",
    "gauss_law_z_2.append([1.,2])\n",
    "\n",
    "\n",
    "gauss_law_2_map = [\n",
    "    \n",
    "    [\"z\",gauss_law_z_2],\n",
    "    [\"z\",gauss_law_zm_2],\n",
    "    \n",
    "]\n",
    "\n",
    "Gauss_law_2  = hamiltonian(gauss_law_2_map,dynamic_list=[],basis=basis,**no_checks)\n",
    "constraint_2 = Gauss_law_2**2-Gauss_law_2"
   ]
  },
  {
   "cell_type": "code",
   "execution_count": 82,
   "id": "a739bf71",
   "metadata": {},
   "outputs": [],
   "source": [
    "Proj_02 = 0\n",
    "Proj_12 = 0\n",
    "for state in basis_vectors:\n",
    "    state = np.array(state)\n",
    "    if (Gauss_law_2.expt_value(state)>=0.-1e-8) & (Gauss_law_2.expt_value(state)<=0.+1e-8):\n",
    "        Proj_02 += np.outer(state,state)\n",
    "    if (Gauss_law_2.expt_value(state)>=1.-1e-8) & (Gauss_law_2.expt_value(state)<=1.+1e-8):\n",
    "        Proj_12 += np.outer(state,state)"
   ]
  },
  {
   "cell_type": "code",
   "execution_count": 83,
   "id": "97e87244",
   "metadata": {},
   "outputs": [],
   "source": [
    "#Gauss_law_3\n",
    "gauss_law_zm_3 = []\n",
    "gauss_law_zm_3.append([-1.,2])\n",
    "\n",
    "gauss_law_z_3 = []\n",
    "gauss_law_z_3.append([1.,3])\n",
    "\n",
    "gauss_law_id_3 = [[1.,3]]\n",
    "\n",
    "gauss_law_3_map = [\n",
    "    \n",
    "    [\"z\",gauss_law_z_3],\n",
    "    [\"z\",gauss_law_zm_3],\n",
    "    [\"I\",gauss_law_id_3]\n",
    "    \n",
    "]\n",
    "\n",
    "Gauss_law_3  = hamiltonian(gauss_law_3_map,dynamic_list=[],basis=basis,**no_checks)\n",
    "constraint_3 = Gauss_law_3**2-Gauss_law_3"
   ]
  },
  {
   "cell_type": "code",
   "execution_count": 84,
   "id": "abae5eb3",
   "metadata": {},
   "outputs": [],
   "source": [
    "Proj_03 = 0\n",
    "Proj_13 = 0\n",
    "\n",
    "for state in basis_vectors:\n",
    "    state = np.array(state)\n",
    "    if (Gauss_law_3.expt_value(state)>=0.-1e-8) & (Gauss_law_3.expt_value(state)<=0.+1e-8):\n",
    "        Proj_03 += np.outer(state,state)\n",
    "    if (Gauss_law_3.expt_value(state)>=1.-1e-8) & (Gauss_law_3.expt_value(state)<=1.+1e-8):\n",
    "        Proj_13 += np.outer(state,state)"
   ]
  },
  {
   "cell_type": "code",
   "execution_count": 85,
   "id": "475b6129",
   "metadata": {},
   "outputs": [],
   "source": [
    "#Gauss_law_4\n",
    "gauss_law_zm_4 = []\n",
    "gauss_law_zm_4.append([-1.,3])\n",
    "\n",
    "gauss_law_z_4 = []\n",
    "gauss_law_z_4.append([1.,4])\n",
    "\n",
    "\n",
    "gauss_law_4_map = [\n",
    "    \n",
    "    [\"z\",gauss_law_z_4],\n",
    "    [\"z\",gauss_law_zm_4],\n",
    "    \n",
    "]\n",
    "\n",
    "Gauss_law_4  = hamiltonian(gauss_law_4_map,dynamic_list=[],basis=basis,**no_checks)\n",
    "constraint_4 = Gauss_law_4**2-Gauss_law_4"
   ]
  },
  {
   "cell_type": "code",
   "execution_count": 86,
   "id": "cca86f9e",
   "metadata": {},
   "outputs": [],
   "source": [
    "Proj_04 = 0\n",
    "Proj_14 = 0\n",
    "\n",
    "for state in basis_vectors:\n",
    "    state = np.array(state)\n",
    "    if (Gauss_law_4.expt_value(state)>=0.-1e-8) & (Gauss_law_4.expt_value(state)<=0.+1e-8):\n",
    "        Proj_04 += np.outer(state,state)\n",
    "    if (Gauss_law_4.expt_value(state)>=1.-1e-8) & (Gauss_law_4.expt_value(state)<=1.+1e-8):\n",
    "        Proj_14 += np.outer(state,state)"
   ]
  },
  {
   "cell_type": "code",
   "execution_count": 87,
   "id": "3b7b17c9",
   "metadata": {},
   "outputs": [],
   "source": [
    "#Gauss_law_1\n",
    "gauss_law_zm_5 = []\n",
    "gauss_law_zm_5.append([-1.,4])\n",
    "\n",
    "\n",
    "\n",
    "gauss_law_id_5 = [[1.,4]]\n",
    "\n",
    "gauss_law_5_map = [\n",
    "    \n",
    "    [\"z\",gauss_law_zm_5],\n",
    "    [\"I\",gauss_law_id_5]\n",
    "    \n",
    "]\n",
    "\n",
    "Gauss_law_5  = hamiltonian(gauss_law_5_map,dynamic_list=[],basis=basis,**no_checks)\n",
    "constraint_5 = Gauss_law_5**2-Gauss_law_5"
   ]
  },
  {
   "cell_type": "code",
   "execution_count": 88,
   "id": "c1239357",
   "metadata": {},
   "outputs": [],
   "source": [
    "Proj_05 = 0\n",
    "Proj_15 = 0\n",
    "\n",
    "for state in basis_vectors:\n",
    "    state = np.array(state)\n",
    "    if (Gauss_law_5.expt_value(state)>=0.-1e-8) & (Gauss_law_5.expt_value(state)<=0.+1e-8):\n",
    "        Proj_05 += np.outer(state,state)\n",
    "    if (Gauss_law_5.expt_value(state)>=1.-1e-8) & (Gauss_law_5.expt_value(state)<=1.+1e-8):\n",
    "        Proj_15 += np.outer(state,state)"
   ]
  },
  {
   "cell_type": "code",
   "execution_count": 131,
   "id": "27e0bf1e",
   "metadata": {},
   "outputs": [
    {
     "name": "stdout",
     "output_type": "stream",
     "text": [
      "[[0.+0.j 0.+0.j 0.+0.j ... 0.+0.j 0.+0.j 0.+0.j]\n",
      " [0.+0.j 0.+0.j 0.+0.j ... 0.+0.j 0.+0.j 0.+0.j]\n",
      " [0.+0.j 0.+0.j 0.+0.j ... 0.+0.j 0.+0.j 0.+0.j]\n",
      " ...\n",
      " [0.+0.j 0.+0.j 0.+0.j ... 0.+0.j 0.+0.j 0.+0.j]\n",
      " [0.+0.j 0.+0.j 0.+0.j ... 0.+0.j 0.+0.j 0.+0.j]\n",
      " [0.+0.j 0.+0.j 0.+0.j ... 0.+0.j 0.+0.j 0.+0.j]]\n"
     ]
    }
   ],
   "source": [
    "e=1.\n",
    "linear_term_0 = [[-e/(2*np.sqrt(2)),0]]\n",
    "\n",
    "\n",
    "quadratic_term_1 = [[e/(2*np.sqrt(2)),1,2]]\n",
    "linear_term_1 = [[e/(2*np.sqrt(2)),1]]\n",
    "\n",
    "linear_term_2 = [[-e/(2*np.sqrt(2)),2]]\n",
    "\n",
    "quadratic_term_3 = [[e/(2*np.sqrt(2)),3,4]]\n",
    "linear_term_3 = [[e/(2*np.sqrt(2)),3]]\n",
    "\n",
    "linear_term_4 = [[-e/(2*np.sqrt(2)),4]]\n",
    "\n",
    "\n",
    "kin_energy = [[0.5,i,i] for i in range(L)]\n",
    "mass_term = [[(-1)**i*2*M,i]for i in range(L)]\n",
    "\n",
    "\n",
    "kin_mass_map = [\n",
    "            [\"zz\", kin_energy], \n",
    "            [\"z\", mass_term], \n",
    "]\n",
    "\n",
    "\n",
    "interaction_map_p0 = [\n",
    "    \n",
    "    [\"+\", linear_term_0]\n",
    "]\n",
    "\n",
    "interaction_map_m0 = [\n",
    "    \n",
    "    [\"-\", linear_term_0]\n",
    "]\n",
    "\n",
    "\n",
    "\n",
    "\n",
    "interaction_map_p1 = [\n",
    "    \n",
    "    [\"+z\", quadratic_term_1],\n",
    "    [\"+\", linear_term_1]\n",
    "]\n",
    "\n",
    "interaction_map_m1 = [\n",
    "    \n",
    "    [\"-z\", quadratic_term_1],\n",
    "    [\"-\", linear_term_1]\n",
    "]\n",
    "\n",
    "\n",
    "\n",
    "interaction_map_p2 = [\n",
    "    \n",
    "    [\"+\", linear_term_2]\n",
    "]\n",
    "\n",
    "interaction_map_m2 = [\n",
    "    \n",
    "    [\"-\", linear_term_2]\n",
    "]\n",
    "\n",
    "interaction_map_p3 = [\n",
    "    \n",
    "    [\"+z\", quadratic_term_3],\n",
    "    [\"+\", linear_term_3]\n",
    "]\n",
    "\n",
    "interaction_map_m3 = [\n",
    "    \n",
    "    [\"-z\", quadratic_term_3],\n",
    "    [\"-\", linear_term_3]\n",
    "]\n",
    "\n",
    "interaction_map_p4 = [\n",
    "    \n",
    "    [\"+\", linear_term_4]\n",
    "]\n",
    "\n",
    "interaction_map_m4 = [\n",
    "    \n",
    "    [\"-\", linear_term_4]\n",
    "]\n",
    "\n",
    "\n",
    "\n",
    "\n",
    "\n",
    "\n",
    "H_int_p0 = hamiltonian(interaction_map_p0,dynamic_list=[],basis=basis,**no_checks)\n",
    "H_int_m0 = hamiltonian(interaction_map_m0,dynamic_list=[],basis=basis,**no_checks)\n",
    "\n",
    "H_int_p1 = hamiltonian(interaction_map_p1,dynamic_list=[],basis=basis,**no_checks)\n",
    "H_int_m1 = hamiltonian(interaction_map_m1,dynamic_list=[],basis=basis,**no_checks)\n",
    "\n",
    "H_int_p2 = hamiltonian(interaction_map_p2,dynamic_list=[],basis=basis,**no_checks)\n",
    "H_int_m2 = hamiltonian(interaction_map_m2,dynamic_list=[],basis=basis,**no_checks)\n",
    "\n",
    "H_int_p3 = hamiltonian(interaction_map_p3,dynamic_list=[],basis=basis,**no_checks)\n",
    "H_int_m3 = hamiltonian(interaction_map_m3,dynamic_list=[],basis=basis,**no_checks)\n",
    "\n",
    "H_int_p4 = hamiltonian(interaction_map_p4,dynamic_list=[],basis=basis,**no_checks)\n",
    "H_int_m4 = hamiltonian(interaction_map_m4,dynamic_list=[],basis=basis,**no_checks)\n",
    "\n",
    "H_kin_mass = hamiltonian(kin_mass_map,dynamic_list=[],basis=basis,**no_checks)\n",
    "\n",
    "h_int_p0 = H_int_p0.toarray()\n",
    "h_int_m0 = H_int_m0.toarray()\n",
    "\n",
    "h_int_p1 = H_int_p1.toarray()\n",
    "h_int_m1 = H_int_m1.toarray()\n",
    "\n",
    "h_int_p2 = H_int_p2.toarray()\n",
    "h_int_m2 = H_int_m2.toarray()\n",
    "\n",
    "h_int_p3 = H_int_p3.toarray()\n",
    "h_int_m3 = H_int_m3.toarray()\n",
    "\n",
    "h_int_p4 = H_int_p4.toarray()\n",
    "h_int_m4 = H_int_m4.toarray()\n",
    "\n",
    "h_kin_mass = H_kin_mass.toarray()\n",
    "\n",
    "h_int_0 = Proj_10 @ h_int_p0 @ Proj_01 + Proj_01 @ h_int_m0 @ Proj_10\n",
    "h_int_1 = Proj_11 @ h_int_p1 @ Proj_02 + Proj_02 @ h_int_m1 @ Proj_11\n",
    "h_int_2 = Proj_12 @ h_int_p2 @ Proj_03 + Proj_03 @ h_int_m2 @ Proj_12\n",
    "h_int_3 = Proj_13 @ h_int_p3 @ Proj_04 + Proj_04 @ h_int_m3 @ Proj_13\n",
    "h_int_4 = Proj_14 @ h_int_p4 @ Proj_05 + Proj_05 @ h_int_m4 @ Proj_14\n",
    "\n",
    "h_int = h_int_0+h_int_1+h_int_2+h_int_3+h_int_4\n",
    "\n",
    "full_ham_matrix = h_kin_mass + h_int\n",
    "constraint_full = 1e3*(constraint_0**2+constraint_1**2+constraint_2**2+constraint_3**2+constraint_3**2+constraint_4**2+constraint_5**2)\n",
    "constraint_full_matrix = constraint_full.toarray()\n",
    "\n",
    "restricted_full_ham_matrix = full_ham_matrix+constraint_full_matrix\n",
    "print(h_int)"
   ]
  },
  {
   "cell_type": "code",
   "execution_count": 132,
   "id": "550293b3",
   "metadata": {},
   "outputs": [
    {
     "name": "stdout",
     "output_type": "stream",
     "text": [
      "((0.5+0j), 1, 4)\n",
      "((0.5+0j), 4, 1)\n",
      "((0.5+0j), 9, 36)\n",
      "((0.5+0j), 10, 37)\n",
      "((0.5+0j), 11, 38)\n",
      "((0.5+0j), 12, 39)\n",
      "((0.5+0j), 13, 40)\n",
      "((0.5+0j), 14, 41)\n",
      "((0.5+0j), 15, 42)\n",
      "((0.5+0j), 16, 43)\n",
      "((0.5+0j), 17, 44)\n",
      "((0.5+0j), 28, 31)\n",
      "((0.5+0j), 31, 28)\n",
      "((-0.5+0j), 33, 42)\n",
      "((-0.5+0j), 34, 43)\n",
      "((-0.5+0j), 35, 44)\n",
      "((0.5+0j), 36, 9)\n",
      "((0.5+0j), 37, 10)\n",
      "((0.5+0j), 38, 11)\n",
      "((0.5+0j), 39, 12)\n",
      "((0.5+0j), 40, 13)\n",
      "((0.5+0j), 41, 14)\n",
      "((0.5+0j), 42, 15)\n",
      "((-0.5+0j), 42, 33)\n",
      "((0.5+0j), 43, 16)\n",
      "((-0.5+0j), 43, 34)\n",
      "((0.5+0j), 44, 17)\n",
      "((-0.5+0j), 44, 35)\n",
      "((-0.5+0j), 54, 135)\n",
      "((0.5+0j), 55, 58)\n",
      "((-0.5+0j), 55, 136)\n",
      "((-0.5+0j), 56, 137)\n",
      "((-0.5+0j), 57, 138)\n",
      "((0.5+0j), 58, 55)\n",
      "((-0.5+0j), 58, 139)\n",
      "((-0.5+0j), 59, 140)\n",
      "((-0.5+0j), 60, 141)\n",
      "((-0.5+0j), 61, 142)\n",
      "((-0.5+0j), 62, 143)\n",
      "((-0.5+0j), 63, 144)\n",
      "((-0.5+0j), 64, 145)\n",
      "((-0.5+0j), 65, 146)\n",
      "((-0.5+0j), 66, 147)\n",
      "((-0.5+0j), 67, 148)\n",
      "((-0.5+0j), 68, 149)\n",
      "((-0.5+0j), 69, 150)\n",
      "((-0.5+0j), 70, 151)\n",
      "((-0.5+0j), 71, 152)\n",
      "((-0.5+0j), 72, 153)\n",
      "((-0.5+0j), 73, 154)\n",
      "((-0.5+0j), 74, 155)\n",
      "((-0.5+0j), 75, 156)\n",
      "((-0.5+0j), 76, 157)\n",
      "((-0.5+0j), 77, 158)\n",
      "((-0.5+0j), 78, 159)\n",
      "((-0.5+0j), 79, 160)\n",
      "((-0.5+0j), 80, 161)\n",
      "((0.5+0j), 82, 85)\n",
      "((0.5+0j), 85, 82)\n",
      "((0.5+0j), 109, 112)\n",
      "((0.5+0j), 112, 109)\n",
      "((-0.5+0j), 114, 123)\n",
      "((-0.5+0j), 115, 124)\n",
      "((-0.5+0j), 116, 125)\n",
      "((-0.5+0j), 123, 114)\n",
      "((-0.5+0j), 124, 115)\n",
      "((-0.5+0j), 125, 116)\n",
      "((-0.5+0j), 135, 54)\n",
      "((-0.5+0j), 136, 55)\n",
      "((0.5+0j), 136, 139)\n",
      "((-0.5+0j), 137, 56)\n",
      "((-0.5+0j), 138, 57)\n",
      "((-0.5+0j), 139, 58)\n",
      "((0.5+0j), 139, 136)\n",
      "((-0.5+0j), 140, 59)\n",
      "((-0.5+0j), 141, 60)\n",
      "((-0.5+0j), 142, 61)\n",
      "((-0.5+0j), 143, 62)\n",
      "((-0.5+0j), 144, 63)\n",
      "((-0.5+0j), 145, 64)\n",
      "((-0.5+0j), 146, 65)\n",
      "((-0.5+0j), 147, 66)\n",
      "((-0.5+0j), 148, 67)\n",
      "((-0.5+0j), 149, 68)\n",
      "((-0.5+0j), 150, 69)\n",
      "((-0.5+0j), 151, 70)\n",
      "((-0.5+0j), 152, 71)\n",
      "((-0.5+0j), 153, 72)\n",
      "((-0.5+0j), 154, 73)\n",
      "((-0.5+0j), 155, 74)\n",
      "((-0.5+0j), 156, 75)\n",
      "((-0.5+0j), 157, 76)\n",
      "((-0.5+0j), 158, 77)\n",
      "((-0.5+0j), 159, 78)\n",
      "((-0.5+0j), 160, 79)\n",
      "((-0.5+0j), 161, 80)\n",
      "((0.5+0j), 163, 166)\n",
      "((0.5+0j), 166, 163)\n",
      "((0.5+0j), 190, 193)\n",
      "((0.5+0j), 193, 190)\n",
      "((-0.5+0j), 195, 204)\n",
      "((-0.5+0j), 196, 205)\n",
      "((-0.5+0j), 197, 206)\n",
      "((-0.5+0j), 204, 195)\n",
      "((-0.5+0j), 205, 196)\n",
      "((-0.5+0j), 206, 197)\n",
      "((0.5+0j), 217, 220)\n",
      "((0.5+0j), 220, 217)\n"
     ]
    }
   ],
   "source": [
    "for i in range(basis.Ns):\n",
    "    for j in range(basis.Ns):\n",
    "        if (h_int[i][j]<=-1e-5) | (h_int[i][j]>=1e-5):\n",
    "            print((h_int[i][j],i,j))"
   ]
  },
  {
   "cell_type": "code",
   "execution_count": 133,
   "id": "6f2319a0",
   "metadata": {},
   "outputs": [],
   "source": [
    "def check_hermitian(a, rtol=1e-10, atol=1e-10):\n",
    "    return np.allclose(a, a.conj().T, rtol=rtol, atol=atol)"
   ]
  },
  {
   "cell_type": "code",
   "execution_count": 134,
   "id": "93c6cca5",
   "metadata": {},
   "outputs": [
    {
     "name": "stdout",
     "output_type": "stream",
     "text": [
      "True\n"
     ]
    }
   ],
   "source": [
    "print(check_hermitian(restricted_full_ham_matrix))"
   ]
  },
  {
   "cell_type": "code",
   "execution_count": 135,
   "id": "634de515",
   "metadata": {},
   "outputs": [],
   "source": [
    "eigenval,eigenvec = np.linalg.eigh(restricted_full_ham_matrix)"
   ]
  },
  {
   "cell_type": "code",
   "execution_count": 136,
   "id": "ddbe1c63",
   "metadata": {
    "scrolled": true
   },
   "outputs": [
    {
     "name": "stdout",
     "output_type": "stream",
     "text": [
      "[2.54897356e-11 6.99937505e-01 6.99937505e-01 6.99937511e-01\n",
      " 6.99968753e-01 7.00000000e-01 1.39990626e+00 1.39993750e+00\n",
      " 1.39993750e+00 1.39993751e+00 1.39993751e+00 1.40000000e+00\n",
      " 1.69993750e+00 1.69993751e+00 1.70000000e+00 2.10000000e+00\n",
      " 2.40000000e+00 2.40000000e+00 2.70000000e+00 4.00099994e+03\n",
      " 4.00099997e+03 4.00100000e+03 4.00100000e+03 4.00100006e+03\n",
      " 4.00100006e+03 4.00139988e+03 4.00139997e+03 4.00140006e+03\n",
      " 4.00169991e+03 4.00169994e+03 4.00170000e+03 4.00170000e+03\n",
      " 4.00170000e+03 4.00170000e+03 4.00170006e+03 4.00170006e+03\n",
      " 4.00170006e+03 4.00199994e+03 4.00200000e+03 4.00200000e+03\n",
      " 4.00200006e+03 4.00209991e+03 4.00209994e+03 4.00209994e+03\n",
      " 4.00210006e+03 4.00210006e+03 4.00239994e+03 4.00239994e+03\n",
      " 4.00240006e+03 8.00030000e+03 8.00030000e+03 8.00030000e+03\n",
      " 8.00099994e+03 8.00099994e+03 8.00099994e+03 8.00099994e+03\n",
      " 8.00099997e+03 8.00100000e+03 8.00100000e+03 8.00100000e+03\n",
      " 8.00100000e+03 8.00100000e+03 8.00130000e+03 8.00130006e+03\n",
      " 8.00140003e+03 8.00169994e+03 8.00169994e+03 8.00169994e+03\n",
      " 8.00169994e+03 8.00170000e+03 8.00170000e+03 8.00170000e+03\n",
      " 8.00170000e+03 8.00200000e+03 8.00200000e+03 8.00200000e+03\n",
      " 8.00200000e+03 8.00200006e+03 8.00210000e+03 8.00210003e+03\n",
      " 8.00230000e+03 8.00240000e+03 8.00240000e+03 8.00240000e+03\n",
      " 8.00240000e+03 8.00240006e+03 8.00240006e+03 8.00270000e+03\n",
      " 8.00270000e+03 8.00270006e+03 8.00280006e+03 8.00280006e+03\n",
      " 8.00310006e+03 8.00310006e+03 1.20003000e+04 1.20003000e+04\n",
      " 1.20009999e+04 1.20009999e+04 1.20010000e+04 1.20010000e+04\n",
      " 1.20013000e+04 1.20013000e+04 1.20013000e+04 1.20013000e+04\n",
      " 1.20013000e+04 1.20013000e+04 1.20013001e+04 1.20013001e+04\n",
      " 1.20016999e+04 1.20017000e+04 1.20017000e+04 1.20017000e+04\n",
      " 1.20017000e+04 1.20017000e+04 1.20017001e+04 1.20017001e+04\n",
      " 1.20020000e+04 1.20020000e+04 1.20020001e+04 1.20020001e+04\n",
      " 1.20020999e+04 1.20021000e+04 1.20024000e+04 1.20024001e+04\n",
      " 1.20024001e+04 1.20024001e+04 1.20027000e+04 1.20028000e+04\n",
      " 1.20031000e+04 1.60006000e+04 1.60006000e+04 1.60012999e+04\n",
      " 1.60013000e+04 1.60013000e+04 1.60013000e+04 1.60013000e+04\n",
      " 1.60013001e+04 1.60016000e+04 1.60017000e+04 1.60017001e+04\n",
      " 1.60020000e+04 1.60020000e+04 1.60020000e+04 1.60023999e+04\n",
      " 1.60024000e+04 1.60024000e+04 1.60024001e+04 1.60027999e+04\n",
      " 1.60028001e+04 2.00006000e+04 2.00006000e+04 2.00006000e+04\n",
      " 2.00006000e+04 2.00013000e+04 2.00013000e+04 2.00016000e+04\n",
      " 2.00020000e+04 2.00020001e+04 2.00024000e+04 2.00027000e+04\n",
      " 2.00031000e+04 2.00031001e+04 2.00035001e+04 2.80009000e+04\n",
      " 3.60020000e+04 4.00012999e+04 4.00013000e+04 4.00013000e+04\n",
      " 4.00020000e+04 4.00020000e+04 4.00023000e+04 4.00023000e+04\n",
      " 4.00023000e+04 4.00027000e+04 4.40006000e+04 4.40013000e+04\n",
      " 4.40013000e+04 4.40013000e+04 4.40016000e+04 4.40016000e+04\n",
      " 4.40016001e+04 4.40019999e+04 4.40020000e+04 4.40020000e+04\n",
      " 4.80006000e+04 4.80006000e+04 4.80012999e+04 4.80012999e+04\n",
      " 4.80013000e+04 4.80016000e+04 4.80016000e+04 4.80016000e+04\n",
      " 4.80020000e+04 4.80020000e+04 4.80023000e+04 4.80027001e+04\n",
      " 5.20009000e+04 5.20016000e+04 5.20016000e+04 5.20016000e+04\n",
      " 5.20016001e+04 5.20020001e+04 5.20023000e+04 5.20027000e+04\n",
      " 5.60009000e+04 5.60009000e+04 5.60009000e+04 5.60009000e+04\n",
      " 7.20019999e+04 7.60012999e+04 7.60013000e+04 7.60016000e+04\n",
      " 7.60020000e+04 7.60023000e+04 7.60027001e+04 8.00006000e+04\n",
      " 8.00013000e+04 8.00016000e+04 8.00019000e+04 8.00019000e+04\n",
      " 8.00020001e+04 8.00023000e+04 8.40009000e+04 8.40016000e+04\n",
      " 8.40016000e+04 8.80009000e+04 9.20012000e+04 9.20012000e+04\n",
      " 1.08002300e+05 1.12001600e+05 1.12001600e+05 1.12001600e+05\n",
      " 1.16000900e+05 1.16000900e+05 1.16001600e+05 1.16001900e+05\n",
      " 1.16002300e+05 1.24001200e+05 1.48001900e+05 1.48001900e+05\n",
      " 1.52001200e+05 1.52001200e+05 1.88001500e+05]\n"
     ]
    }
   ],
   "source": [
    "print(eigenval)"
   ]
  },
  {
   "cell_type": "code",
   "execution_count": 137,
   "id": "eda7f9e4",
   "metadata": {},
   "outputs": [
    {
     "name": "stdout",
     "output_type": "stream",
     "text": [
      "[ 0.00000000e+00+0.j  0.00000000e+00+0.j  0.00000000e+00+0.j\n",
      "  0.00000000e+00+0.j  0.00000000e+00+0.j  0.00000000e+00+0.j\n",
      "  0.00000000e+00+0.j  0.00000000e+00+0.j  0.00000000e+00+0.j\n",
      "  0.00000000e+00+0.j  0.00000000e+00+0.j  0.00000000e+00+0.j\n",
      "  0.00000000e+00+0.j  0.00000000e+00+0.j  0.00000000e+00+0.j\n",
      "  0.00000000e+00+0.j  0.00000000e+00+0.j  0.00000000e+00+0.j\n",
      "  0.00000000e+00+0.j  0.00000000e+00+0.j  0.00000000e+00+0.j\n",
      "  0.00000000e+00+0.j  0.00000000e+00+0.j  0.00000000e+00+0.j\n",
      "  0.00000000e+00+0.j  0.00000000e+00+0.j  0.00000000e+00+0.j\n",
      "  0.00000000e+00+0.j  0.00000000e+00+0.j  0.00000000e+00+0.j\n",
      "  0.00000000e+00+0.j  0.00000000e+00+0.j  0.00000000e+00+0.j\n",
      "  0.00000000e+00+0.j  0.00000000e+00+0.j  0.00000000e+00+0.j\n",
      "  0.00000000e+00+0.j  0.00000000e+00+0.j  0.00000000e+00+0.j\n",
      "  0.00000000e+00+0.j  0.00000000e+00+0.j  0.00000000e+00+0.j\n",
      "  0.00000000e+00+0.j  0.00000000e+00+0.j  0.00000000e+00+0.j\n",
      "  0.00000000e+00+0.j  0.00000000e+00+0.j  0.00000000e+00+0.j\n",
      "  0.00000000e+00+0.j  0.00000000e+00+0.j  0.00000000e+00+0.j\n",
      "  0.00000000e+00+0.j  0.00000000e+00+0.j  0.00000000e+00+0.j\n",
      "  0.00000000e+00+0.j  0.00000000e+00+0.j  5.42365757e-48+0.j\n",
      "  5.32165187e-37+0.j -5.00101250e-44+0.j  2.76802396e-40+0.j\n",
      " -1.57365004e-33+0.j -1.84965168e-32+0.j -6.92642912e-33+0.j\n",
      "  2.44993891e-28+0.j -1.81085321e-31+0.j  4.30098013e-35+0.j\n",
      " -7.88508009e-33+0.j -1.88713864e-28+0.j  2.13302802e-18+0.j\n",
      "  1.40793430e-20+0.j -1.21669631e-20+0.j  6.79607454e-23+0.j\n",
      " -1.64078203e-32+0.j  1.70955189e-33+0.j -4.05670965e-33+0.j\n",
      "  5.63478025e-18+0.j -2.94229233e-17+0.j  3.20311173e-22+0.j\n",
      " -4.54303720e-17+0.j  7.29793436e-17+0.j  1.51155467e-16+0.j\n",
      " -2.14163070e-17+0.j -1.76496175e-16+0.j -7.87424755e-26+0.j\n",
      "  1.36007728e-16+0.j -2.17473855e-17+0.j -4.22905133e-19+0.j\n",
      " -2.50781267e-17+0.j -9.98254375e-18+0.j  2.15468502e-17+0.j\n",
      " -4.59575712e-17+0.j -1.55436416e-18+0.j -2.21031414e-17+0.j\n",
      "  4.35063299e-16+0.j  3.09387971e-17+0.j  1.01804713e-17+0.j\n",
      "  1.50307727e-17+0.j -7.66581465e-17+0.j -1.44552647e-16+0.j\n",
      " -9.04032456e-18+0.j  9.64030197e-18+0.j  1.97612844e-18+0.j\n",
      " -7.10512768e-18+0.j -5.09479984e-19+0.j  1.96168378e-17+0.j\n",
      " -9.34524171e-17+0.j -8.09886109e-17+0.j -2.89249166e-17+0.j\n",
      " -1.51110122e-13+0.j -1.61933802e-16+0.j  7.69755351e-17+0.j\n",
      " -7.15410880e-13+0.j -2.93587004e-13+0.j -3.10887150e-16+0.j\n",
      " -1.01401499e-16+0.j -1.23358428e-18+0.j  2.13374821e-16+0.j\n",
      "  1.28561461e-17+0.j -1.79999756e-16+0.j -1.86350828e-17+0.j\n",
      " -2.32922727e-13+0.j -1.00000000e+00+0.j  3.56568140e-16+0.j\n",
      " -2.47904280e-16+0.j  1.67589383e-12+0.j  1.08442421e-16+0.j\n",
      "  6.74918241e-17+0.j -9.71192436e-17+0.j  4.65686364e-17+0.j\n",
      " -1.65648026e-16+0.j  2.19556174e-16+0.j -1.96154609e-16+0.j\n",
      "  2.39686471e-17+0.j  3.69958697e-17+0.j  1.30227301e-16+0.j\n",
      "  0.00000000e+00+0.j  0.00000000e+00+0.j  4.48853414e-46+0.j\n",
      "  2.03160371e-34+0.j  1.82168800e-44+0.j -4.29472036e-33+0.j\n",
      "  1.23337570e-32+0.j -6.21227963e-30+0.j  1.35216314e-47+0.j\n",
      "  0.00000000e+00+0.j -1.47857186e-27+0.j  0.00000000e+00+0.j\n",
      " -8.54753015e-33+0.j  2.09541178e-31+0.j -1.56070845e-18+0.j\n",
      "  1.11030367e-16+0.j  1.30034695e-21+0.j  3.60903498e-20+0.j\n",
      "  0.00000000e+00+0.j -4.62223187e-33+0.j  9.24446373e-33+0.j\n",
      " -6.31597348e-18+0.j -2.45665505e-15+0.j  2.56289164e-18+0.j\n",
      "  5.54264485e-17+0.j -7.80623505e-18+0.j -2.85795693e-16+0.j\n",
      "  0.00000000e+00+0.j  0.00000000e+00+0.j  0.00000000e+00+0.j\n",
      "  0.00000000e+00+0.j  0.00000000e+00+0.j  0.00000000e+00+0.j\n",
      "  0.00000000e+00+0.j  0.00000000e+00+0.j  0.00000000e+00+0.j\n",
      "  0.00000000e+00+0.j  0.00000000e+00+0.j  0.00000000e+00+0.j\n",
      "  0.00000000e+00+0.j  0.00000000e+00+0.j  0.00000000e+00+0.j\n",
      "  0.00000000e+00+0.j  0.00000000e+00+0.j  0.00000000e+00+0.j\n",
      "  0.00000000e+00+0.j  0.00000000e+00+0.j  0.00000000e+00+0.j\n",
      "  0.00000000e+00+0.j  0.00000000e+00+0.j  0.00000000e+00+0.j\n",
      "  0.00000000e+00+0.j  0.00000000e+00+0.j  0.00000000e+00+0.j\n",
      "  0.00000000e+00+0.j  0.00000000e+00+0.j  0.00000000e+00+0.j\n",
      "  0.00000000e+00+0.j  0.00000000e+00+0.j  0.00000000e+00+0.j\n",
      "  0.00000000e+00+0.j  0.00000000e+00+0.j  0.00000000e+00+0.j\n",
      "  0.00000000e+00+0.j  0.00000000e+00+0.j  0.00000000e+00+0.j\n",
      "  0.00000000e+00+0.j  0.00000000e+00+0.j  0.00000000e+00+0.j\n",
      "  0.00000000e+00+0.j  0.00000000e+00+0.j  0.00000000e+00+0.j\n",
      "  0.00000000e+00+0.j  0.00000000e+00+0.j  0.00000000e+00+0.j\n",
      "  0.00000000e+00+0.j  0.00000000e+00+0.j  0.00000000e+00+0.j\n",
      "  0.00000000e+00+0.j  0.00000000e+00+0.j  0.00000000e+00+0.j\n",
      "  0.00000000e+00+0.j  0.00000000e+00+0.j  0.00000000e+00+0.j\n",
      "  0.00000000e+00+0.j  0.00000000e+00+0.j  0.00000000e+00+0.j\n",
      "  0.00000000e+00+0.j  0.00000000e+00+0.j  0.00000000e+00+0.j\n",
      "  0.00000000e+00+0.j  0.00000000e+00+0.j  0.00000000e+00+0.j\n",
      "  0.00000000e+00+0.j  0.00000000e+00+0.j  0.00000000e+00+0.j\n",
      "  0.00000000e+00+0.j  0.00000000e+00+0.j  0.00000000e+00+0.j\n",
      "  0.00000000e+00+0.j  0.00000000e+00+0.j  0.00000000e+00+0.j\n",
      "  0.00000000e+00+0.j  0.00000000e+00+0.j  0.00000000e+00+0.j\n",
      "  0.00000000e+00+0.j  0.00000000e+00+0.j  0.00000000e+00+0.j]\n"
     ]
    }
   ],
   "source": [
    "print(eigenvec[:,0])"
   ]
  },
  {
   "cell_type": "code",
   "execution_count": 138,
   "id": "4ffb1782",
   "metadata": {},
   "outputs": [
    {
     "name": "stdout",
     "output_type": "stream",
     "text": [
      "2.878296425723346e-24\n"
     ]
    }
   ],
   "source": [
    "expt_value = 0\n",
    "psi_0 = eigenvec[:,0]\n",
    "matvec_h = full_ham_matrix@psi_0\n",
    "matvec_c = constraint_full_matrix@psi_0\n",
    "for i in range(basis.Ns):\n",
    "    expt_value += np.conj(psi_0[i])*(matvec_h[i]+matvec_c[i])\n",
    "print(np.real(expt_value))"
   ]
  },
  {
   "cell_type": "code",
   "execution_count": 140,
   "id": "dbe32e1d",
   "metadata": {},
   "outputs": [],
   "source": [
    "mixing_term = [[0.5,i,i+1] for i in range(L-1)]\n",
    "mixing_z = [[1.,i] for i in range(L)]\n",
    "mixing_map = [\n",
    "    #[\"++\",mixing_term],\n",
    "    #[\"--\",mixing_term],\n",
    "    #[\"+-\",mixing_term],\n",
    "    #[\"-+\",mixing_term],\n",
    "    [\"+\",mixing_z],\n",
    "    [\"-\",mixing_z],\n",
    "]\n",
    "mixing_map_zz = [\n",
    "    [\"zz\",mixing_term]\n",
    "]\n",
    "Ham_mix = hamiltonian(mixing_map,dynamic_list=[],basis=basis,**no_checks)\n",
    "Ham_mix_zz = hamiltonian(mixing_map_zz,dynamic_list=[],basis=basis,**no_checks)"
   ]
  },
  {
   "cell_type": "code",
   "execution_count": 141,
   "id": "779e4fd7",
   "metadata": {},
   "outputs": [],
   "source": [
    "resource_z = [[1.,i] for i in range(L)]\n",
    "resource_zz = [[1.,i,i] for i in range(L-1)]\n",
    "resource_x = [[0.5,i] for i in range(L-1)]\n",
    "resource_z2 = [[1.,2]]\n",
    "\n",
    "resource_map_zz = [\n",
    "    \n",
    "    [\"zz\", resource_zz],\n",
    "]\n",
    "\n",
    "resource_map_z = [\n",
    "    [\"z\", resource_z],\n",
    "]\n",
    "\n",
    "resource_map_x = [\n",
    "    [\"+\", resource_x],\n",
    "    [\"-\", resource_x],\n",
    "\n",
    "]\n",
    "\n",
    "resource_map_z2 = [\n",
    "    [\"z\", resource_z2],\n",
    "\n",
    "]\n",
    "\n",
    "Ham_res_zz = hamiltonian(resource_map_zz,dynamic_list=[],basis=basis,**no_checks)\n",
    "Ham_res_z = hamiltonian(resource_map_z,dynamic_list=[],basis=basis,**no_checks)\n",
    "Ham_res_x = hamiltonian(resource_map_x,dynamic_list=[],basis=basis,**no_checks)\n",
    "Ham_res_z2 = hamiltonian(resource_map_z2,dynamic_list=[],basis=basis,**no_checks)\n"
   ]
  },
  {
   "cell_type": "code",
   "execution_count": 142,
   "id": "04004619",
   "metadata": {},
   "outputs": [
    {
     "name": "stdout",
     "output_type": "stream",
     "text": [
      "True\n"
     ]
    }
   ],
   "source": [
    "print(check_hermitian(Ham_res_x.toarray()))"
   ]
  },
  {
   "cell_type": "code",
   "execution_count": 143,
   "id": "65c9805c",
   "metadata": {},
   "outputs": [],
   "source": [
    "Ham_res = Ham_res_zz+Ham_res_z+Ham_res_x"
   ]
  },
  {
   "cell_type": "code",
   "execution_count": 144,
   "id": "ca60ba1f",
   "metadata": {},
   "outputs": [],
   "source": [
    "eigenval_mix, eigenvec_mix = Ham_res.eigh()"
   ]
  },
  {
   "cell_type": "code",
   "execution_count": 145,
   "id": "1ef4f1e9",
   "metadata": {},
   "outputs": [],
   "source": [
    "#psi_0 = np.zeros(basis.Ns)\n",
    "#i_0 = basis.index(\"111\")\n",
    "#psi_0[i_0] = 1.\n",
    "psi_0 = eigenvec_mix[:,0]"
   ]
  },
  {
   "cell_type": "code",
   "execution_count": 146,
   "id": "fdfc3b28",
   "metadata": {},
   "outputs": [
    {
     "name": "stdout",
     "output_type": "stream",
     "text": [
      "15415.527070791491\n"
     ]
    }
   ],
   "source": [
    "expt_value = 0\n",
    "matvec_h = full_ham_matrix@psi_0\n",
    "matvec_c = constraint_full_matrix@psi_0\n",
    "for i in range(basis.Ns):\n",
    "    expt_value += np.conj(psi_0[i])*(matvec_h[i]+matvec_c[i])\n",
    "print(np.real(expt_value))"
   ]
  },
  {
   "cell_type": "code",
   "execution_count": 147,
   "id": "41bab9f9",
   "metadata": {},
   "outputs": [
    {
     "name": "stdout",
     "output_type": "stream",
     "text": [
      "(1.3004736599297422+0j)\n"
     ]
    }
   ],
   "source": [
    "expt_value = 0\n",
    "matvec = full_ham_matrix@psi_0\n",
    "for i in range(basis.Ns):\n",
    "    expt_value += np.conj(psi_0[i])*matvec[i]\n",
    "print(expt_value)"
   ]
  },
  {
   "cell_type": "code",
   "execution_count": 148,
   "id": "21faaadf",
   "metadata": {},
   "outputs": [],
   "source": [
    "def cost_function(theta,psi,a):\n",
    "\n",
    "    psi_1 = Ham_mix.evolve(psi,0.0,theta[0])\n",
    "    psi_2 = Ham_mix_zz.evolve(psi_1,0.0,theta[1])\n",
    "    psi_3 = Ham_res_zz.evolve(psi_2,0.0,theta[2])\n",
    "    psi_4 = Ham_res_x.evolve(psi_3,0.0,theta[3])\n",
    "    psi_5 = Ham_res_z.evolve(psi_4,0.0,theta[4])\n",
    "    psi_6 = Ham_mix.evolve(psi_5,0.0,theta[5])\n",
    "    psi_7 = Ham_mix_zz.evolve(psi_6,0.0,theta[6])\n",
    "    psi_8 = Ham_res_zz.evolve(psi_7,0.0,theta[7])\n",
    "    psi_9 = Ham_res_x.evolve(psi_8,0.0,theta[8])\n",
    "    psi_10 = Ham_res_z.evolve(psi_9,0.0,theta[9])\n",
    "    psi_11 = Ham_mix.evolve(psi_10,0.0,theta[10])\n",
    "    psi_12 = Ham_mix_zz.evolve(psi_11,0.0,theta[11])\n",
    "    psi_13 = Ham_res_zz.evolve(psi_12,0.0,theta[12])\n",
    "    psi_14 = Ham_res_x.evolve(psi_13,0.0,theta[13])\n",
    "    psi_15 = Ham_res_z.evolve(psi_14,0.0,theta[14])\n",
    "    psi_16 = Ham_mix.evolve(psi_15,0.0,theta[15])\n",
    "    psi_17 = Ham_mix_zz.evolve(psi_16,0.0,theta[16])\n",
    "    psi_18 = Ham_res_zz.evolve(psi_17,0.0,theta[17])\n",
    "    psi_19 = Ham_res_x.evolve(psi_18,0.0,theta[18])\n",
    "    psi_20 = Ham_res_z.evolve(psi_19,0.0,theta[19])\n",
    "\n",
    "    expt_value = 0\n",
    "    matvec_h = full_ham_matrix@psi_20\n",
    "    matvec_c = constraint_full_matrix@psi_20\n",
    "    for i in range(basis.Ns):\n",
    "        expt_value += np.conj(psi_20[i])*(matvec_h[i]+matvec_c[i])\n",
    "    return np.real(expt_value)"
   ]
  },
  {
   "cell_type": "code",
   "execution_count": 149,
   "id": "b296fbce",
   "metadata": {},
   "outputs": [
    {
     "name": "stdout",
     "output_type": "stream",
     "text": [
      "2022-02-04 11:15:56.609756\n",
      "2022-02-04 12:14:28.584760\n"
     ]
    }
   ],
   "source": [
    "from scipy.optimize import dual_annealing\n",
    "import datetime\n",
    "duan_ranges = [(-10.,10.),(-10.,10.),(-10.,10.),(-10.,10.),(-10.,10.),(-10.,10.),(-10.,10.),(-10.,10.),(-10.,10.),(-10.,10.),(-10.,10.),(-10.,10.),(-10.,10.),(-10.,10.),(-10.,10.),(-10.,10.),(-10.,10.),(-10.,10.),(-10.,10.),(-10.,10.)]\n",
    "resduan = 0\n",
    "resopt = 0\n",
    "print(datetime.datetime.now())\n",
    "resduan = dual_annealing(cost_function, duan_ranges, args = (psi_0,1))\n",
    "print(datetime.datetime.now())"
   ]
  },
  {
   "cell_type": "code",
   "execution_count": 150,
   "id": "857ce163",
   "metadata": {},
   "outputs": [
    {
     "name": "stdout",
     "output_type": "stream",
     "text": [
      "2.4587739384722496\n",
      "[-3.14142342 -4.82674876  2.91624869 -3.14161166 -4.92867212  7.8539915\n",
      "  4.8269684   9.5261626  -8.08583303  7.19241681 -1.57091023 -3.27745788\n",
      " -5.20754464  9.42490897 -3.09045082  7.85399798 -9.29001437  2.77772786\n",
      "  0.76689262  5.49266219]\n"
     ]
    }
   ],
   "source": [
    "print(resduan.fun)\n",
    "print(resduan.x)"
   ]
  },
  {
   "cell_type": "code",
   "execution_count": 173,
   "id": "49708f25",
   "metadata": {},
   "outputs": [
    {
     "name": "stdout",
     "output_type": "stream",
     "text": [
      "0.9747068057758899\n"
     ]
    }
   ],
   "source": [
    "theta = resduan.x\n",
    "psi = psi_0\n",
    "psi_1 = Ham_mix.evolve(psi,0.0,theta[0])\n",
    "psi_2 = Ham_mix_zz.evolve(psi_1,0.0,theta[1])\n",
    "psi_3 = Ham_res_zz.evolve(psi_2,0.0,theta[2])\n",
    "psi_4 = Ham_res_x.evolve(psi_3,0.0,theta[3])\n",
    "psi_5 = Ham_res_z.evolve(psi_4,0.0,theta[4])\n",
    "psi_6 = Ham_mix.evolve(psi_5,0.0,theta[5])\n",
    "psi_7 = Ham_mix_zz.evolve(psi_6,0.0,theta[6])\n",
    "psi_8 = Ham_res_zz.evolve(psi_7,0.0,theta[7])\n",
    "psi_9 = Ham_res_x.evolve(psi_8,0.0,theta[8])\n",
    "psi_10 = Ham_res_z.evolve(psi_9,0.0,theta[9])\n",
    "psi_11 = Ham_mix.evolve(psi_10,0.0,theta[10])\n",
    "psi_12 = Ham_mix_zz.evolve(psi_11,0.0,theta[11])\n",
    "psi_13 = Ham_res_zz.evolve(psi_12,0.0,theta[12])\n",
    "psi_14 = Ham_res_x.evolve(psi_13,0.0,theta[13])\n",
    "psi_15 = Ham_res_z.evolve(psi_14,0.0,theta[14])\n",
    "psi_16 = Ham_mix.evolve(psi_15,0.0,theta[15])\n",
    "psi_17 = Ham_mix_zz.evolve(psi_16,0.0,theta[16])\n",
    "psi_18 = Ham_res_zz.evolve(psi_17,0.0,theta[17])\n",
    "psi_19 = Ham_res_x.evolve(psi_18,0.0,theta[18])\n",
    "psi_20 = Ham_res_z.evolve(psi_19,0.0,theta[19])\n",
    "scall = 0\n",
    "for i in range(basis.Ns):\n",
    "    scall +=np.conj(psi_24[i])*eigenvec[:,3][i]\n",
    "print(np.abs(scall))\n"
   ]
  },
  {
   "cell_type": "code",
   "execution_count": 299,
   "id": "74c6b56f",
   "metadata": {},
   "outputs": [
    {
     "name": "stdout",
     "output_type": "stream",
     "text": [
      "-0.55011331227517\n",
      "[-4.03878836  5.55989785  1.8595793  -4.86248275  4.78149869 -4.97471836\n",
      " -3.46452114 -5.98009609  7.19264618 -2.90166265 -9.05421587  7.69811738]\n"
     ]
    }
   ],
   "source": [
    "print(resduan.fun)\n",
    "print(resduan.x)"
   ]
  },
  {
   "cell_type": "code",
   "execution_count": 26,
   "id": "041c650c",
   "metadata": {},
   "outputs": [
    {
     "name": "stdout",
     "output_type": "stream",
     "text": [
      "-0.5519403500645929\n",
      "[-5.51745973 -7.35332971 -8.73503791 -6.69417094 -9.43419771 -4.57265972\n",
      " -8.02672357 -6.66334215  3.92019751  5.37077267  8.82461006  1.96698853\n",
      " -0.23597123 -4.77601285 -7.15362785]\n"
     ]
    }
   ],
   "source": [
    "print(resduan.fun)\n",
    "print(resduan.x)"
   ]
  },
  {
   "cell_type": "code",
   "execution_count": 71,
   "id": "e551b9f5",
   "metadata": {},
   "outputs": [
    {
     "name": "stdout",
     "output_type": "stream",
     "text": [
      "0.13079051773119577\n",
      "[ 1.78158287  1.24069723 -8.26738098  5.20148629 -8.82759711  3.13383203\n",
      "  6.98924758 -5.95115289  1.16599966 -5.08488822  9.01939631 -7.28177711\n",
      " -6.29981209 -5.73060885 -6.09134693]\n"
     ]
    }
   ],
   "source": [
    "print(resduan.fun)\n",
    "print(resduan.x)"
   ]
  },
  {
   "cell_type": "code",
   "execution_count": 66,
   "id": "6cb0c1df",
   "metadata": {},
   "outputs": [
    {
     "name": "stdout",
     "output_type": "stream",
     "text": [
      "-0.5687610819382901\n",
      "[-2.10102319  3.66971985  4.69080298  4.00974595  1.35454097 -0.90753474\n",
      "  0.53533885  9.77209822 -1.55066619 -6.43452929  0.90925203  6.18037783\n",
      " -0.41672004 -8.56560744  9.63070562]\n"
     ]
    }
   ],
   "source": [
    "print(resduan.fun)\n",
    "print(resduan.x)"
   ]
  },
  {
   "cell_type": "code",
   "execution_count": 28,
   "id": "b3d2a1ca",
   "metadata": {},
   "outputs": [
    {
     "name": "stdout",
     "output_type": "stream",
     "text": [
      "0.40057114041132186\n"
     ]
    }
   ],
   "source": [
    "psi = psi_0\n",
    "psi_1 = Ham_mix.evolve(psi,0.0,-9.78930793)\n",
    "psi_2 = Ham_res_1.evolve(psi_1,0.0,7.78040255)\n",
    "psi_3 = Ham_res_2.evolve(psi_2,0.0,1.5833793)\n",
    "\n",
    "\n",
    "expt_value = 0\n",
    "matvec = full_ham_matrix@psi_3\n",
    "for i in range(basis.Ns):\n",
    "    expt_value += np.conj(psi_3[i])*matvec[i]\n",
    "print(np.real(expt_value))\n",
    "energy_after_one_layer = expt_value"
   ]
  },
  {
   "cell_type": "code",
   "execution_count": 29,
   "id": "69b99137",
   "metadata": {},
   "outputs": [
    {
     "name": "stdout",
     "output_type": "stream",
     "text": [
      "-0.046172959230028295\n"
     ]
    }
   ],
   "source": [
    "psi = psi_0\n",
    "psi_1 = Ham_mix.evolve(psi,0.0,1.87443663)\n",
    "psi_2 = Ham_res_1.evolve(psi_1,0.0,4.23721195)\n",
    "psi_3 = Ham_res_2.evolve(psi_2,0.0,-8.5794782)\n",
    "psi_4 = Ham_mix.evolve(psi_3,0.0,4.95468396)\n",
    "psi_5 = Ham_res_1.evolve(psi_4,0.0,-6.30491365)\n",
    "psi_6 = Ham_res_2.evolve(psi_5,0.0,1.98934673)\n",
    "\n",
    "expt_value = 0\n",
    "matvec = full_ham_matrix@psi_6\n",
    "for i in range(basis.Ns):\n",
    "    expt_value += np.conj(psi_6[i])*matvec[i]\n",
    "print(np.real(expt_value))\n",
    "energy_after_two_layers = expt_value"
   ]
  },
  {
   "cell_type": "code",
   "execution_count": 30,
   "id": "e582696b",
   "metadata": {},
   "outputs": [
    {
     "name": "stdout",
     "output_type": "stream",
     "text": [
      "-0.4279426327807378\n"
     ]
    }
   ],
   "source": [
    "\n",
    "psi = psi_0\n",
    "psi_1 = Ham_mix.evolve(psi,0.0,-1.30400919)\n",
    "psi_2 = Ham_res_1.evolve(psi_1,0.0,-0.94233231)\n",
    "psi_3 = Ham_res_2.evolve(psi_2,0.0,-2.07176727)\n",
    "psi_4 = Ham_mix.evolve(psi_3,0.0,-5.11506299)\n",
    "psi_5 = Ham_res_1.evolve(psi_4,0.0,8.57112885)\n",
    "psi_6 = Ham_res_2.evolve(psi_5,0.0,-8.17867129)\n",
    "psi_7 = Ham_mix.evolve(psi_6,0.0,2.55365574)\n",
    "psi_8 = Ham_res_1.evolve(psi_7,0.0,5.39687006)\n",
    "psi_9 = Ham_res_2.evolve(psi_8,0.0,-5.00071697)\n",
    "\n",
    "\n",
    "expt_value = 0\n",
    "matvec = full_ham_matrix@psi_9\n",
    "for i in range(basis.Ns):\n",
    "    expt_value += np.conj(psi_9[i])*matvec[i]\n",
    "print(np.real(expt_value))\n",
    "energy_after_three_layers = expt_value"
   ]
  },
  {
   "cell_type": "code",
   "execution_count": 81,
   "id": "9ea9af9e",
   "metadata": {},
   "outputs": [],
   "source": [
    "mixing_term = [[0.5,i] for i in range(L)]\n",
    "\n",
    "mixing_map = [\n",
    "    \n",
    "    [\"+\",mixing_term],\n",
    "    [\"-\",mixing_term],\n",
    "]\n",
    "\n",
    "Ham_mix = hamiltonian(mixing_map,dynamic_list=[],basis=basis,**no_checks)"
   ]
  },
  {
   "cell_type": "code",
   "execution_count": 82,
   "id": "b5fa858a",
   "metadata": {},
   "outputs": [],
   "source": [
    "eigenval_mix,eigenvec_mix = Ham_mix.eigh()\n",
    "psi_0 = eigenvec_mix[:,0]"
   ]
  },
  {
   "cell_type": "code",
   "execution_count": 83,
   "id": "d33d77c8",
   "metadata": {},
   "outputs": [],
   "source": [
    "resource = [[1.,i,i+1] for i in range(L-2)]\n",
    "\n",
    "#resource_x0 = [[0.5,0]]\n",
    "\n",
    "#resource_x = [[-1.,1]]\n",
    "\n",
    "resource_z = [[1.,2]]\n",
    "\n",
    "\n",
    "resource_map_1 = [\n",
    "    \n",
    "    [\"+-\", resource],\n",
    "    [\"-+\", resource],\n",
    "]\n",
    "resource_map_2 = [\n",
    "    [\"+z\", resource],\n",
    "    [\"-z\", resource],\n",
    "    [\"z\", resource_z],\n",
    "    \n",
    "]\n",
    "\n",
    "\n",
    "\n",
    "Ham_res_1 = hamiltonian(resource_map_1,dynamic_list=[],basis=basis,**no_checks)\n",
    "Ham_res_2 = hamiltonian(resource_map_2,dynamic_list=[],basis=basis,**no_checks)\n"
   ]
  },
  {
   "cell_type": "code",
   "execution_count": 84,
   "id": "4185e2c6",
   "metadata": {},
   "outputs": [
    {
     "name": "stdout",
     "output_type": "stream",
     "text": [
      "-0.5501222499961802\n"
     ]
    }
   ],
   "source": [
    "\n",
    "psi = psi_0\n",
    "psi_1 = Ham_mix.evolve(psi,0.0,-4.03878836)\n",
    "psi_2 = Ham_res_1.evolve(psi_1,0.0,5.55989785)\n",
    "psi_3 = Ham_res_2.evolve(psi_2,0.0,1.8595793)\n",
    "psi_4 = Ham_mix.evolve(psi_3,0.0,-4.86248275)\n",
    "psi_5 = Ham_res_1.evolve(psi_4,0.0,4.78149869)\n",
    "psi_6 = Ham_res_2.evolve(psi_5,0.0,-4.97471836)\n",
    "psi_7 = Ham_mix.evolve(psi_6,0.0,-3.46452114)\n",
    "psi_8 = Ham_res_1.evolve(psi_7,0.0,-5.98009609)\n",
    "psi_9 = Ham_res_2.evolve(psi_8,0.0,7.19264618)\n",
    "psi_10 = Ham_mix.evolve(psi_9,0.0,-2.90166265)\n",
    "psi_11 = Ham_res_1.evolve(psi_10,0.0,-9.05421587)\n",
    "psi_12 = Ham_res_2.evolve(psi_11,0.0,7.69811738)\n",
    "\n",
    "expt_value = 0\n",
    "matvec = full_ham_matrix@psi_12\n",
    "for i in range(basis.Ns):\n",
    "    expt_value += np.conj(psi_12[i])*matvec[i]\n",
    "print(np.real(expt_value))\n",
    "energy_after_four_layers = expt_value"
   ]
  },
  {
   "cell_type": "code",
   "execution_count": 85,
   "id": "b812437a",
   "metadata": {},
   "outputs": [
    {
     "name": "stdout",
     "output_type": "stream",
     "text": [
      "[-5.63243289e-05+8.09304299e-05j -2.64911736e-03-2.60548828e-03j\n",
      "  5.67914461e-02-4.09422282e-02j -5.25060164e-06-2.30968808e-05j\n",
      "  8.91248601e-04-4.85866346e-05j -1.92323173e-03+1.67074806e-02j\n",
      "  1.71217523e-04-3.42233465e-04j  1.16270842e-02+8.53022824e-03j\n",
      " -1.95297817e-01+1.88908502e-01j  2.27977117e-05+1.37020059e-05j\n",
      " -6.53468720e-04+7.59972646e-04j -1.20434258e-02-1.45465951e-02j\n",
      "  3.79531003e-04-9.18874091e-04j  3.17264280e-02+1.99248759e-02j\n",
      " -4.70658622e-01+5.26093260e-01j  4.18128571e-04-7.99274832e-04j\n",
      "  2.70390718e-02+2.06001942e-02j -4.68340285e-01+4.36892508e-01j\n",
      "  4.52503520e-05-3.54257683e-05j  1.02901358e-03+1.90548789e-03j\n",
      " -3.86536488e-02+1.30708913e-02j -1.77740470e-05+1.20485778e-04j\n",
      " -4.36291484e-03-1.42421189e-03j  4.02848386e-02-7.65182393e-02j\n",
      " -6.83149052e-06-1.68274053e-05j  6.68390090e-04-1.47083525e-04j\n",
      "  6.12730827e-04+1.28805232e-02j]\n"
     ]
    }
   ],
   "source": [
    "print(psi_12)"
   ]
  },
  {
   "cell_type": "code",
   "execution_count": 33,
   "id": "d19c8124",
   "metadata": {},
   "outputs": [
    {
     "name": "stdout",
     "output_type": "stream",
     "text": [
      "0.9900424740311967\n"
     ]
    }
   ],
   "source": [
    "scall = 0\n",
    "for i in range(basis.Ns):\n",
    "    scall +=np.conj(psi_12[i])*eigenvec[:,0][i]\n",
    "print(np.abs(scall))"
   ]
  },
  {
   "cell_type": "code",
   "execution_count": 46,
   "id": "e2942dc3",
   "metadata": {},
   "outputs": [
    {
     "name": "stderr",
     "output_type": "stream",
     "text": [
      "/home/ppopov/anaconda3/lib/python3.8/site-packages/numpy/core/_asarray.py:102: ComplexWarning: Casting complex values to real discards the imaginary part\n",
      "  return array(a, dtype, copy=False, order=order)\n"
     ]
    },
    {
     "data": {
      "text/plain": [
       "<matplotlib.legend.Legend at 0x7f051dec6490>"
      ]
     },
     "execution_count": 46,
     "metadata": {},
     "output_type": "execute_result"
    },
    {
     "data": {
      "image/png": "[encoded data removed]",
      "text/plain": [
       "<Figure size 432x288 with 1 Axes>"
      ]
     },
     "metadata": {
      "needs_background": "light"
     },
     "output_type": "display_data"
    }
   ],
   "source": [
    "plt.plot(np.array([1.,2.,3.,4.]),np.array([energy_after_one_layer,energy_after_two_layers,energy_after_three_layers,energy_after_four_layers]), 'o', color = \"green\",label=\"VQE results\")\n",
    "plt.plot(np.array([0.,2.,3.,4.5]), np.array([eigenval[0],eigenval[0],eigenval[0],eigenval[0]]),color = \"red\",label=\"Exact diagonalisation\")\n",
    "plt.xlim(0.8,4.2)\n",
    "plt.xlabel(\"Number of layers\")\n",
    "plt.ylabel(\"Energy\")\n",
    "plt.legend()"
   ]
  }
 ],
 "metadata": {
  "kernelspec": {
   "display_name": "Python 3",
   "language": "python",
   "name": "python3"
  },
  "language_info": {
   "codemirror_mode": {
    "name": "ipython",
    "version": 3
   },
   "file_extension": ".py",
   "mimetype": "text/x-python",
   "name": "python",
   "nbconvert_exporter": "python",
   "pygments_lexer": "ipython3",
   "version": "3.8.8"
  }
 },
 "nbformat": 4,
 "nbformat_minor": 5
}
