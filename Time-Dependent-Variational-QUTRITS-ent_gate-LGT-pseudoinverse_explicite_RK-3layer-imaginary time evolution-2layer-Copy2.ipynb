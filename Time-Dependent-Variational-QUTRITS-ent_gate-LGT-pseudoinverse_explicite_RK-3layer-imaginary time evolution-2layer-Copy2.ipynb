{
 "cells": [
  {
   "cell_type": "code",
   "execution_count": 1,
   "id": "118a2fd9",
   "metadata": {},
   "outputs": [],
   "source": [
    "import scipy         \n",
    "import datetime\n",
    "from scipy.linalg import expm,det, logm\n",
    "import scipy.sparse as sparse\n",
    "from quspin.operators import hamiltonian, commutator, exp_op # Hamiltonians and operators\n",
    "from quspin.basis import tensor_basis, spin_basis_1d # bases\n",
    "import numpy as np # general math functions\n",
    "import matplotlib.pyplot as plt # plotting library\n",
    "from numba import jit\n",
    "from scipy.integrate import solve_ivp,odeint\n",
    "from functools import reduce\n"
   ]
  },
  {
   "cell_type": "code",
   "execution_count": 2,
   "id": "6d25eced",
   "metadata": {},
   "outputs": [],
   "source": [
    "L = 3 #system size\n",
    "l=1 #spin length\n",
    "M = 0.1\n",
    "m_epsilon = 0\n",
    "N=2\n",
    "no_checks = dict(check_pcon=False,check_symm=False,check_herm=False)"
   ]
  },
  {
   "cell_type": "code",
   "execution_count": 3,
   "id": "52e299a4",
   "metadata": {
    "scrolled": true
   },
   "outputs": [
    {
     "name": "stdout",
     "output_type": "stream",
     "text": [
      "reference states: \n",
      "array index   /   Fock state   /   integer repr. \n",
      "      0.         |2 2 2>           26  \n",
      "      1.         |2 2 1>           25  \n",
      "      2.         |2 2 0>           24  \n",
      "      3.         |2 1 2>           23  \n",
      "      4.         |2 1 1>           22  \n",
      "      5.         |2 1 0>           21  \n",
      "      6.         |2 0 2>           20  \n",
      "      7.         |2 0 1>           19  \n",
      "      8.         |2 0 0>           18  \n",
      "      9.         |1 2 2>           17  \n",
      "     10.         |1 2 1>           16  \n",
      "     11.         |1 2 0>           15  \n",
      "     12.         |1 1 2>           14  \n",
      "     13.         |1 1 1>           13  \n",
      "     14.         |1 1 0>           12  \n",
      "     15.         |1 0 2>           11  \n",
      "     16.         |1 0 1>           10  \n",
      "     17.         |1 0 0>            9  \n",
      "     18.         |0 2 2>            8  \n",
      "     19.         |0 2 1>            7  \n",
      "     20.         |0 2 0>            6  \n",
      "     21.         |0 1 2>            5  \n",
      "     22.         |0 1 1>            4  \n",
      "     23.         |0 1 0>            3  \n",
      "     24.         |0 0 2>            2  \n",
      "     25.         |0 0 1>            1  \n",
      "     26.         |0 0 0>            0  \n"
     ]
    }
   ],
   "source": [
    "#construct basis\n",
    "basis=spin_basis_1d(L=L,S = str(l))\n",
    "print(basis)"
   ]
  },
  {
   "cell_type": "code",
   "execution_count": 4,
   "id": "cb3a1840",
   "metadata": {},
   "outputs": [],
   "source": [
    "#initialisation of the Gauss laws\n",
    "\n",
    "liste = []\n",
    "liste_m = []\n",
    "gauss_law_map = []\n",
    "Gauss_law = []\n",
    "gauss_law_matrix = []\n",
    "z_comp_minf = [[-m_epsilon,0]]\n",
    "z_comp_pinf = [[m_epsilon,L-1]]\n",
    "\n",
    "for i in range(L+1):\n",
    "    liste.append([[1.,i]])\n",
    "    liste_m.append([[-1.,i]])\n",
    "    if i == 0:\n",
    "        gauss_law_map.append([\n",
    "            [\"z\",liste[0]],\n",
    "            [\"I\",z_comp_minf],\n",
    "\n",
    "        ])\n",
    "    \n",
    "    elif (i == L) & (i%2 == 0):\n",
    "        gauss_law_map.append([\n",
    "            [\"z\",liste_m[i-1]],\n",
    "            [\"I\",z_comp_pinf],\n",
    "        ])\n",
    "    \n",
    "    elif (i == L) & (i%2 == 1):\n",
    "        gauss_law_map.append([\n",
    "            [\"z\",liste_m[i-1]],\n",
    "            [\"I\",liste[i-1]],\n",
    "            [\"I\",z_comp_pinf],\n",
    "\n",
    "        ])        \n",
    "        \n",
    "    elif i%2 == 0:\n",
    "        gauss_law_map.append([\n",
    "            [\"z\",liste[i]],\n",
    "            [\"z\",liste_m[i-1]],\n",
    "        ])\n",
    "    elif i%2 == 1:\n",
    "        gauss_law_map.append([\n",
    "            [\"z\",liste[i]],\n",
    "            [\"z\",liste_m[i-1]],  \n",
    "            [\"I\",liste[i]]\n",
    "        ])\n",
    "    Gauss_law.append(hamiltonian(gauss_law_map[i],dynamic_list=[],basis=basis,**no_checks))\n",
    "for i in range(L+1):\n",
    "    gauss_law_matrix.append(Gauss_law[i].tocsc())"
   ]
  },
  {
   "cell_type": "code",
   "execution_count": 5,
   "id": "7dc062d6",
   "metadata": {},
   "outputs": [
    {
     "name": "stdout",
     "output_type": "stream",
     "text": [
      "[ 0.          0.66666667  0.66666667 -0.16666667 -0.16666667  0.\n",
      "  0.        ]\n",
      "[0. 0. 0. 1. 0.]\n"
     ]
    }
   ],
   "source": [
    "B = np.zeros((int(4*l)+1,int(4*l)+1))\n",
    "for i in range(int(4*l)+1):\n",
    "    for j in range(int(4*l)+1):\n",
    "        B[i][j] = (-2*l+i)**j\n",
    "b = np.zeros(int(4*l)+1)\n",
    "b[int(2*l)+1] = 1.\n",
    "solution = scipy.linalg.solve(B,b)\n",
    "y = np.zeros(int(4*3/2)+1)\n",
    "for i in range(int(4*l)+1):\n",
    "    y[i] = solution[i]\n",
    "print(y)\n",
    "print(b)"
   ]
  },
  {
   "cell_type": "code",
   "execution_count": 6,
   "id": "c159c9a8",
   "metadata": {},
   "outputs": [
    {
     "name": "stdout",
     "output_type": "stream",
     "text": [
      "[ 0.    1.5   0.25 -1.    0.25  0.    0.  ]\n",
      "[0. 0. 1. 0. 0.]\n"
     ]
    }
   ],
   "source": [
    "C = np.zeros((int(4*l)+1,int(4*l)+1))\n",
    "for i in range(int(4*l)+1):\n",
    "    for j in range(int(4*l)+1):\n",
    "        C[i][j] = (-2*l+i+1)**j\n",
    "c = np.zeros(int(4*l)+1)\n",
    "c[int(2*l)] = 1.\n",
    "solution = scipy.linalg.solve(C,c)\n",
    "z = np.zeros(int(4*3/2)+1)\n",
    "for i in range(int(4*l)+1):\n",
    "    z[i] = solution[i]\n",
    "print(z)\n",
    "print(c)"
   ]
  },
  {
   "cell_type": "code",
   "execution_count": 7,
   "id": "d8e7ee73",
   "metadata": {},
   "outputs": [],
   "source": [
    "#projectors on g=1 for every site\n",
    "Proj = [sparse.csr_matrix((basis.Ns,basis.Ns)) for i in range(L+1)]\n",
    "for i in range(int(L/2)+1):\n",
    "    for j in range(int(4*l)+1):\n",
    "        Proj[2*i] += y[j]*gauss_law_matrix[2*i]**j\n",
    "for i in range(int(L/2)+1):\n",
    "    for j in range(int(4*l)+1):\n",
    "        Proj[2*i+1] += z[j]*gauss_law_matrix[2*i+1]**j"
   ]
  },
  {
   "cell_type": "code",
   "execution_count": 8,
   "id": "d1828bba",
   "metadata": {},
   "outputs": [
    {
     "name": "stdout",
     "output_type": "stream",
     "text": [
      "[ 1.+0.j  0.+0.j -2.-0.j  0.+0.j]\n",
      "[ 1.-0.j  0.-0.j -2.+0.j  0.-0.j]\n"
     ]
    }
   ],
   "source": [
    "A = np.zeros((int(2*l)+1,int(2*l)+1), dtype = complex)\n",
    "for i in range(int(2*l)+1):\n",
    "    for j in range(int(2*l)+1):\n",
    "        A[i][j] = (-l+i)**j\n",
    "b = np.zeros(int(2*l)+1,dtype = complex)\n",
    "for i in range(int(2*l)+1):\n",
    "    b[i] = (-1)**(-l+i)\n",
    "solution = scipy.linalg.solve(A,b)\n",
    "x = np.zeros(int(2*3/2)+1, dtype = complex)\n",
    "for i in range(int(2*l)+1):\n",
    "    x[i] = solution[i]\n",
    "print(x)\n",
    "print(x.conj())"
   ]
  },
  {
   "cell_type": "code",
   "execution_count": 9,
   "id": "49973849",
   "metadata": {},
   "outputs": [
    {
     "name": "stdout",
     "output_type": "stream",
     "text": [
      "[ 1.    0.   -1.25 -0.    0.25  0.    0.  ]\n",
      "[0. 0. 1. 0. 0.]\n"
     ]
    }
   ],
   "source": [
    "D = np.zeros((int(4*l)+1,int(4*l)+1))\n",
    "for i in range(int(4*l)+1):\n",
    "    for j in range(int(4*l)+1):\n",
    "        D[i][j] = (-2*l+i)**j\n",
    "d = np.zeros(int(4*l)+1)\n",
    "d[int(2*l)] = 1.\n",
    "solution = scipy.linalg.solve(D,d)\n",
    "dd = np.zeros(int(4*3/2)+1)\n",
    "for i in range(int(4*l)+1):\n",
    "    dd[i] = solution[i]\n",
    "print(dd)\n",
    "print(d)"
   ]
  },
  {
   "cell_type": "code",
   "execution_count": 10,
   "id": "c1c45a32",
   "metadata": {},
   "outputs": [
    {
     "name": "stdout",
     "output_type": "stream",
     "text": [
      "[ 1.         -0.83333333 -0.83333333  0.83333333 -0.16666667  0.\n",
      "  0.        ]\n",
      "[0. 1. 0. 0. 0.]\n"
     ]
    }
   ],
   "source": [
    "E = np.zeros((int(4*l)+1,int(4*l)+1))\n",
    "for i in range(int(4*l)+1):\n",
    "    for j in range(int(4*l)+1):\n",
    "        E[i][j] = (-2*l+i+1)**j\n",
    "e = np.zeros(int(4*l)+1)\n",
    "e[int(2*l)-1] = 1.\n",
    "solution = scipy.linalg.solve(E,e)\n",
    "ee = np.zeros(int(4*3/2)+1)\n",
    "for i in range(int(4*l)+1):\n",
    "    ee[i] = solution[i]\n",
    "print(ee)\n",
    "print(e)"
   ]
  },
  {
   "cell_type": "code",
   "execution_count": 11,
   "id": "7d5e798f",
   "metadata": {},
   "outputs": [],
   "source": [
    "#projectors on g=0 for every site\n",
    "Proj_0 = [sparse.csc_matrix((basis.Ns,basis.Ns)) for i in range(L+1)]\n",
    "for i in range(int(L/2)+1):\n",
    "    for j in range(int(4*l)+1):\n",
    "        Proj_0[2*i] += dd[j]*gauss_law_matrix[2*i]**j\n",
    "for i in range(int(L/2)+1):\n",
    "    for j in range(int(4*l)+1):\n",
    "        Proj_0[2*i+1] += ee[j]*gauss_law_matrix[2*i+1]**j"
   ]
  },
  {
   "cell_type": "code",
   "execution_count": 12,
   "id": "1404c174",
   "metadata": {},
   "outputs": [],
   "source": [
    "const_term = []\n",
    "linear_term = []\n",
    "quadratic_term = []\n",
    "cubic_term = []\n",
    "\n",
    "const_term_conj = []\n",
    "linear_term_conj = []\n",
    "quadratic_term_conj = []\n",
    "cubic_term_conj = []\n",
    "\n",
    "interaction_p = []\n",
    "interaction_m = []\n",
    "\n",
    "for i in range(L-1):\n",
    "    const_term.append([[x[0]/(2*np.sqrt(l*(l+1))),i]])\n",
    "    linear_term.append([[x[1]/(2*np.sqrt(l*(l+1))),i,i+1]])\n",
    "    quadratic_term.append([[x[2]/(2*np.sqrt(l*(l+1))),i,i+1,i+1]])\n",
    "    cubic_term.append([[(x[3])/(2*np.sqrt(l*(l+1))),i,i+1,i+1,i+1]])\n",
    "\n",
    "    const_term_conj.append([[x.conj()[0]/(2*np.sqrt(l*(l+1))),i]])\n",
    "    linear_term_conj.append([[x.conj()[1]/(2*np.sqrt(l*(l+1))),i,i+1]])\n",
    "    quadratic_term_conj.append([[x.conj()[2]/(2*np.sqrt(l*(l+1))),i,i+1,i+1]])\n",
    "    cubic_term_conj.append([[x.conj()[3]/(2*np.sqrt(l*(l+1))),i,i+1,i+1,i+1]])\n",
    "\n",
    "\n",
    "    interaction_p.append([\n",
    "        [\"+\", const_term[i]],\n",
    "        [\"+z\", linear_term[i]],\n",
    "        [\"+zz\", quadratic_term[i]],\n",
    "        [\"+zzz\", cubic_term[i]],\n",
    "\n",
    "\n",
    "    ])\n",
    "\n",
    "    interaction_m.append([\n",
    "        [\"-\", const_term_conj[i]],\n",
    "        [\"-z\", linear_term_conj[i]],\n",
    "        [\"-zz\", quadratic_term_conj[i]],\n",
    "        [\"-zzz\", cubic_term_conj[i]],\n",
    "\n",
    "\n",
    "    ])\n",
    "    \n",
    "const_term.append([[(0.5*(-1)**m_epsilon)/np.sqrt(l*(l+1)),L-1]])\n",
    "const_term_conj.append([[(0.5*np.conj((-1)**m_epsilon))/np.sqrt(l*(l+1)),L-1]])\n",
    "\n",
    "interaction_p.append([\n",
    "    [\"+\", const_term[L-1]]\n",
    "])\n",
    "interaction_m.append([\n",
    "    [\"-\", const_term_conj[L-1]]\n",
    "])\n",
    "\n",
    "kin_energy = [[0.5,i,i] for i in range(L)]\n",
    "mass_term = [[2*(-1)**i*M,i] for i in range(L)]\n",
    "\n",
    "kin_mass_map = [\n",
    "            [\"zz\", kin_energy], \n",
    "            [\"z\", mass_term], \n",
    "]\n",
    "\n",
    "H_int_p = []\n",
    "H_int_m = []\n",
    "interaction = [sparse.csr_matrix((basis.Ns,basis.Ns),dtype = complex) for i in range(L)]\n",
    "h_int = sparse.csr_matrix((basis.Ns,basis.Ns))\n",
    "for i in range(L):\n",
    "    H_int_p.append(hamiltonian(interaction_p[i],dynamic_list=[],basis=basis,**no_checks))\n",
    "    H_int_m.append(hamiltonian(interaction_m[i],dynamic_list=[],basis=basis,**no_checks))\n",
    "    interaction[i] = (Proj[i]@H_int_p[i].tocsc()@Proj[i+1]+Proj[i+1]@H_int_m[i].tocsc()@Proj[i])\n",
    "\n",
    "H_kin_mass = hamiltonian(kin_mass_map,dynamic_list=[],basis=basis,**no_checks)\n",
    "h_kin_mass = H_kin_mass.tocsc()\n",
    "\n",
    "h_int = 0\n",
    "\n",
    "for i in range(L):\n",
    "    h_int += interaction[i]\n",
    "\n",
    "\n",
    "full_ham_matrix = h_kin_mass + h_int #Spin-1 Hamiltonian without the local contstaints\n",
    "\n",
    "for i in range(L+1):\n",
    "    full_ham_matrix = (Proj[i]+Proj_0[i])@full_ham_matrix@(Proj[i]+Proj_0[i])\n",
    "full_ham_matrix = 1.*full_ham_matrix\n",
    "\n",
    "G=0\n",
    "for i in range(L+1):\n",
    "    G += 10*(Gauss_law[i]**2-Gauss_law[i])**2\n",
    "constraint_full_matrix = G.tocsc()\n",
    "constrained_full_ham_matrix= 1*(full_ham_matrix + constraint_full_matrix) #Spin-1 Hamiltonian with the local contstaints as a penalty term\n"
   ]
  },
  {
   "cell_type": "code",
   "execution_count": 13,
   "id": "3bb5711d",
   "metadata": {},
   "outputs": [
    {
     "name": "stdout",
     "output_type": "stream",
     "text": [
      "[-0.64551385  0.42748942  0.7       ]\n"
     ]
    }
   ],
   "source": [
    "#eigenvalues and eigenvectors of the Spin-1 Hamiltonian without the local contstaints\n",
    "eigenval, eigenvec = scipy.sparse.linalg.eigsh(constrained_full_ham_matrix,k = 3,which = \"SA\")\n",
    "print(eigenval[eigenval<=1e1])\n"
   ]
  },
  {
   "cell_type": "code",
   "execution_count": 14,
   "id": "84cca849",
   "metadata": {},
   "outputs": [
    {
     "data": {
      "text/plain": [
       "[<matplotlib.lines.Line2D at 0x7fa0dd72daf0>]"
      ]
     },
     "execution_count": 14,
     "metadata": {},
     "output_type": "execute_result"
    },
    {
     "data": {
      "image/png": "[encoded data removed]",
      "text/plain": [
       "<Figure size 432x288 with 1 Axes>"
      ]
     },
     "metadata": {
      "needs_background": "light"
     },
     "output_type": "display_data"
    }
   ],
   "source": [
    "y = []\n",
    "x = []\n",
    "for i in range(basis.Ns):\n",
    "    if np.abs(eigenvec[:,0][i])**2>=1e-4:\n",
    "        y.append(np.abs(eigenvec[:,0][i])**2) \n",
    "        x.append(i)\n",
    "plt.plot(x,y, \"o\")\n"
   ]
  },
  {
   "cell_type": "code",
   "execution_count": 15,
   "id": "52d59fe6",
   "metadata": {},
   "outputs": [],
   "source": [
    "def rot_sigma(k,i,j,phi,theta):\n",
    "    if k>=L:\n",
    "        print(\"Warning! Rotations apply to k<=L-1!\")\n",
    "    sigma = np.zeros((2*l+1,2*l+1),dtype = complex)\n",
    "    sigma[2*l-i][2*l-j] = 0.5*(np.cos(phi)+1j*np.sin(phi))\n",
    "    sigma[2*l-j][2*l-i] = 0.5*(np.cos(phi)-1j*np.sin(phi))\n",
    "    sigma = sparse.csc_matrix(sigma)\n",
    "    rot_matrix = expm(-1j*theta*sigma)\n",
    "    if k==0:\n",
    "        tensprod = rot_matrix\n",
    "        for i in range(L-1):\n",
    "            tensprod = scipy.sparse.kron(tensprod,sparse.identity(2*l+1))\n",
    "    else:\n",
    "        tensprod = sparse.identity(2*l+1)\n",
    "        for i in range(1,k):\n",
    "            tensprod = scipy.sparse.kron(tensprod,sparse.identity(2*l+1))\n",
    "        tensprod = scipy.sparse.kron(tensprod,rot_matrix)\n",
    "        for i in range(k+1,L):\n",
    "            tensprod = scipy.sparse.kron(tensprod,sparse.identity(2*l+1))\n",
    "    return tensprod\n",
    "\n",
    "\n",
    "def rot_sigma_e(i,j,phi,theta):\n",
    "    sigma_e = sparse.identity(basis.Ns,dtype = complex)\n",
    "    for k in range(1,int(L/2)):\n",
    "        sigma_e = rot_sigma(2*k,i,j,phi,theta)@sigma_e\n",
    "    return(sigma_e)\n",
    "\n",
    "def rot_sigma_o(i,j,phi,theta):\n",
    "    sigma_o = sparse.identity(basis.Ns,dtype = complex)\n",
    "    for k in range(int(L/2)):\n",
    "        sigma_o = rot_sigma(2*k+1,i,j,phi,theta)@sigma_o\n",
    "    return(sigma_o)\n",
    "\n",
    "def rot_sigma_r(i,j,phi,theta):\n",
    "    sigma_r = sparse.identity(basis.Ns,dtype = complex)\n",
    "    sigma_r = rot_sigma(0,i,j,phi,theta)@rot_sigma(L-1,i,j,phi,theta)\n",
    "    return(sigma_r)\n",
    "\n",
    "\n",
    "def sigma(k,i,j,phi):\n",
    "    sigma = np.zeros((2*l+1,2*l+1),dtype = complex)\n",
    "    sigma[2*l-i][2*l-j] = 0.5*(np.cos(phi)+1j*np.sin(phi))\n",
    "    sigma[2*l-j][2*l-i] = 0.5*(np.cos(phi)-1j*np.sin(phi))\n",
    "    sigma = sparse.csc_matrix(sigma)\n",
    "    if k==0:\n",
    "        tensprod = sigma\n",
    "        for i in range(L-1):\n",
    "            tensprod = scipy.sparse.kron(tensprod,sparse.identity(2*l+1))\n",
    "    else:\n",
    "        tensprod = sparse.identity(2*l+1)\n",
    "        for i in range(1,k):\n",
    "            tensprod = scipy.sparse.kron(tensprod,sparse.identity(2*l+1))\n",
    "        tensprod = scipy.sparse.kron(tensprod,sigma)\n",
    "        for i in range(k+1,L):\n",
    "            tensprod = scipy.sparse.kron(tensprod,sparse.identity(2*l+1))\n",
    "    return tensprod\n",
    "\n",
    "\n",
    "def sigma_e(i,j,phi):\n",
    "    sigma_e = np.zeros((basis.Ns,basis.Ns),dtype = complex)\n",
    "    sigma_e = sparse.csc_matrix(sigma_e)\n",
    "    for k in range(1,int(L/2)):\n",
    "        sigma_e +=sigma(2*k,i,j,phi)\n",
    "    return sigma_e\n",
    "\n",
    "def sigma_o(i,j,phi):\n",
    "    sigma_o = np.zeros((basis.Ns,basis.Ns),dtype = complex)\n",
    "    sigma_o = sparse.csc_matrix(sigma_o)\n",
    "    for k in range(int(L/2)):\n",
    "        sigma_o +=sigma(2*k+1,i,j,phi)\n",
    "    return sigma_o\n",
    "\n",
    "def sigma_r(i,j,phi):\n",
    "    sigma_r = np.zeros((basis.Ns,basis.Ns),dtype = complex)\n",
    "    sigma_r = sparse.csc_matrix(sigma_r)\n",
    "    sigma_r = sigma(0,i,j,phi)+sigma(L-1,i,j,phi)\n",
    "    return sigma_r"
   ]
  },
  {
   "cell_type": "code",
   "execution_count": 16,
   "id": "c38c7a76",
   "metadata": {},
   "outputs": [],
   "source": [
    "def swap(m,n):\n",
    "    swap_matrix = np.zeros((basis.Ns,basis.Ns),dtype = complex)\n",
    "    swap_matrix = sparse.csc_matrix(swap_matrix)\n",
    "    for i in range(basis.Ns):\n",
    "        state_m = basis.int_to_state(basis.Ns-i-1)[2*m+1]\n",
    "        state_n = basis.int_to_state(basis.Ns-i-1)[2*n+1]\n",
    "        string = list(basis.int_to_state(basis.Ns-i-1))\n",
    "        string[2*m+1],string[2*n+1] = state_n,state_m\n",
    "        string = \"\".join(string)\n",
    "        string = string.replace(\" \", \"\")\n",
    "        string = string.replace(\"|\",\"\")\n",
    "        string = string.replace(\">\", \"\")\n",
    "        i_new = basis.Ns-1-basis.state_to_int(string)\n",
    "        swap_matrix[i_new,i] = 1.\n",
    "        \n",
    "    return swap_matrix\n",
    "\n",
    "\n",
    "def exp_gate(k,theta):\n",
    "    Matrix = np.zeros((9,9),dtype = complex)\n",
    "    Matrix = sparse.csc_matrix(Matrix)\n",
    "    Matrix[8-0,8-0] = np.cos(theta/2)\n",
    "    Matrix[8-1,8-1] = np.cos(theta/2)\n",
    "\n",
    "    Matrix[8-3,8-3] = np.cos(theta/2)\n",
    "    Matrix[8-4,8-4] = np.cos(theta/2)\n",
    "\n",
    "    Matrix[8-6,8-6] = -np.cos(theta/2)\n",
    "    Matrix[8-7,8-7] = np.cos(theta/2)\n",
    "    Matrix[8-8,8-8] = -1j\n",
    "\n",
    "    Matrix[8-0,8-4] = -1j*np.sin(theta/2)\n",
    "    Matrix[8-4,8-0] = -1j*np.sin(theta/2)\n",
    "\n",
    "    Matrix[8-1,8-3] = -1j*np.sin(theta/2)\n",
    "    Matrix[8-3,8-1] = -1j*np.sin(theta/2)\n",
    "\n",
    "\n",
    "    Matrix[8-5,8-2] = -1\n",
    "    Matrix[8-2,8-5] = -1\n",
    "\n",
    "    Matrix[8-6,8-7] = np.sin(theta/2)\n",
    "    Matrix[8-7,8-6] = np.sin(theta/2)\n",
    "\n",
    "    if k == 2:\n",
    "        Matrix_full = scipy.sparse.kron(Matrix,sparse.identity(3))\n",
    "    if k == 0:\n",
    "        Matrix_full = scipy.sparse.kron(sparse.identity(3),Matrix)\n",
    "    if k == 1:\n",
    "        Matrix_full = swap(1,2)@scipy.sparse.kron(Matrix,sparse.identity(3))@swap(1,2)\n",
    "    return Matrix_full.toarray()\n"
   ]
  },
  {
   "cell_type": "code",
   "execution_count": 31,
   "id": "c1fb0899",
   "metadata": {},
   "outputs": [
    {
     "name": "stdout",
     "output_type": "stream",
     "text": [
      "True\n"
     ]
    }
   ],
   "source": [
    "def exp_gate_der(k,theta):\n",
    "    Matrix = np.zeros((9,9),dtype = complex)\n",
    "    Matrix = sparse.csc_matrix(Matrix)\n",
    "    Matrix[8-0,8-0] = -np.sin(theta/2)/2\n",
    "    Matrix[8-1,8-1] = -np.sin(theta/2)/2\n",
    "\n",
    "    Matrix[8-3,8-3] = -np.sin(theta/2)/2\n",
    "    Matrix[8-4,8-4] = -np.sin(theta/2)/2\n",
    "\n",
    "    Matrix[8-6,8-6] = np.sin(theta/2)/2\n",
    "    Matrix[8-7,8-7] = -np.sin(theta/2)/2\n",
    "\n",
    "    Matrix[8-0,8-4] = -1j*np.cos(theta/2)/2\n",
    "    Matrix[8-4,8-0] = -1j*np.cos(theta/2)/2\n",
    "\n",
    "    Matrix[8-1,8-3] = -1j*np.cos(theta/2)/2\n",
    "    Matrix[8-3,8-1] = -1j*np.cos(theta/2)/2\n",
    "\n",
    "\n",
    "\n",
    "    Matrix[8-6,8-7] = np.cos(theta/2)/2\n",
    "    Matrix[8-7,8-6] = np.cos(theta/2)/2\n",
    "\n",
    "    if k == 2:\n",
    "        Matrix_full = scipy.sparse.kron(Matrix,sparse.identity(3))\n",
    "    if k == 0:\n",
    "        Matrix_full = scipy.sparse.kron(sparse.identity(3),Matrix)\n",
    "    if k == 1:\n",
    "        Matrix_full = swap(1,2)@scipy.sparse.kron(Matrix,sparse.identity(3))@swap(1,2)\n",
    "    return Matrix_full.toarray()\n",
    "\n",
    "\n",
    "print(np.allclose(exp_gate(2,np.pi/3)@exp_gate(2,np.pi/3).T.conj(),np.identity(basis.Ns),atol = 1e-3,rtol = 1e-3))"
   ]
  },
  {
   "cell_type": "code",
   "execution_count": 18,
   "id": "077b9d0b",
   "metadata": {},
   "outputs": [],
   "source": [
    "#initial state\n",
    "string = \"\"\n",
    "for i in range(L):\n",
    "    string +=\"1\"\n",
    "psi_0 = np.zeros(basis.Ns)\n",
    "i_0 = basis.index(string)\n",
    "psi_0[i_0] = 1."
   ]
  },
  {
   "cell_type": "code",
   "execution_count": 19,
   "id": "b5dac82d",
   "metadata": {},
   "outputs": [],
   "source": [
    "def R(i,theta):\n",
    "    \n",
    "    if i%9 == 0:\n",
    "        return(exp_gate(0,theta))\n",
    "\n",
    "    if i%9 == 1:\n",
    "        return(exp_gate(1,theta))\n",
    "\n",
    "    if i%9 == 2:\n",
    "        return(exp_gate(2,theta))\n",
    "\n",
    "    \n",
    "    if i%9 == 3:\n",
    "        return(rot_sigma_o(0,1,0,theta).toarray())\n",
    "\n",
    "\n",
    "    if i%9 == 4:\n",
    "        return(rot_sigma_o(0,2,0,theta).toarray())\n",
    "\n",
    "    \n",
    "    if i%9 == 5:\n",
    "        return(rot_sigma_o(1,2,np.pi/2,theta).toarray())\n",
    "\n",
    "    if i%9 == 6:\n",
    "        return(rot_sigma_r(0,1,0,theta).toarray())\n",
    "\n",
    "\n",
    "    if i%9 == 7:\n",
    "        return(rot_sigma_r(0,2,0,theta).toarray())\n",
    "\n",
    "    \n",
    "    if i%9 == 8:\n",
    "        return(rot_sigma_r(1,2,np.pi/2,theta).toarray())\n",
    "    \n",
    "def S(i,theta):\n",
    "    \n",
    "    if i%9 == 0:\n",
    "        return(exp_gate_der(0,theta)@exp_gate(0,-theta))\n",
    "\n",
    "    if i%9 == 1:\n",
    "        return(exp_gate_der(1,theta)@exp_gate(1,-theta))\n",
    "    \n",
    "    if i%9 == 2:\n",
    "        return(exp_gate_der(2,theta)@exp_gate(2,-theta))\n",
    "     \n",
    "    if i%9 == 3:\n",
    "        return(-1j*sigma_o(0,1,0).toarray())\n",
    "\n",
    "    \n",
    "    if i%9 == 4:\n",
    "        return(-1j*sigma_o(0,2,0).toarray())\n",
    "\n",
    "    \n",
    "    if i%9 == 5:\n",
    "        return(-1j*sigma_o(1,2,np.pi/2).toarray())\n",
    "\n",
    "     \n",
    "    if i%9 == 6:\n",
    "        return(-1j*sigma_r(0,1,0).toarray())\n",
    "\n",
    "    \n",
    "    if i%9 == 7:\n",
    "        return(-1j*sigma_r(0,2,0).toarray())\n",
    "    \n",
    "\n",
    "    if i%9 == 8:\n",
    "        return(-1j*sigma_r(1,2,np.pi/2).toarray())\n"
   ]
  },
  {
   "cell_type": "code",
   "execution_count": 20,
   "id": "29de025a",
   "metadata": {},
   "outputs": [],
   "source": [
    "coeff = 9\n",
    "stepp = 1000\n",
    "t_final = 10"
   ]
  },
  {
   "cell_type": "code",
   "execution_count": 21,
   "id": "a8587eca",
   "metadata": {},
   "outputs": [],
   "source": [
    "matr = full_ham_matrix.toarray()\n",
    "B = [np.zeros((basis.Ns,basis.Ns),dtype = complex) for i in range(coeff*N)]\n",
    "psi_d = [np.zeros(basis.Ns,dtype = complex) for i in range(coeff*N)]"
   ]
  },
  {
   "cell_type": "code",
   "execution_count": 22,
   "id": "25093235",
   "metadata": {},
   "outputs": [],
   "source": [
    "def rhs(t,theta):\n",
    "    #A = [-1j*entanglement_ham.toarray()@exp_ent(theta[0]),-1j*sigma_z.toarray()@exp_sigma_z(theta[1]),-1j*sigma_x.toarray()@exp_sigma_x(theta[2]),-1j*sigma_z.toarray()@exp_sigma_z(theta[3])]\n",
    "    #B = [exp_ent(theta[0]),exp_sigma_z(theta[1]),exp_sigma_x(theta[2]),exp_sigma_z(theta[3])]\n",
    "    ID = np.identity(coeff*N)\n",
    "    A = []\n",
    "    B = []\n",
    "    for k in range(coeff*N):\n",
    "        A.append(S(k,theta[k])@R(k,theta[k]))\n",
    "        B.append(R(k,theta[k]))\n",
    "        \n",
    "    CC = np.einsum(\"i,ljk->iljk\",np.ones(coeff*N),B)\n",
    "    AA = np.einsum(\"ijk,il->iljk\",A,ID)\n",
    "    BB = np.einsum(\"ijk,il->iljk\",B,ID)\n",
    "    DD = CC-BB+AA\n",
    "    dd = []\n",
    "    for i in range(coeff*N):\n",
    "        dd.append(reduce(np.dot,DD[i]))\n",
    "    DD = np.array(dd)\n",
    "\n",
    "    X = np.zeros((coeff*N,coeff*N),dtype = complex)\n",
    "    Y = np.zeros(coeff*N,dtype = complex)\n",
    "    \n",
    "    BBB = reduce(np.dot,B)\n",
    "\n",
    "    DD_d = np.einsum(\"kij->kji\",DD.conj())\n",
    "    X = np.einsum(\"m,imn,jnl,l->ij\",np.conj(psi_0),DD_d,DD,psi_0)\n",
    "    Y = np.einsum(\"m,imn,nl,lk,k->i\",np.conj(psi_0),DD_d,full_ham_matrix.toarray(),BBB,psi_0)\n",
    "    XX = np.einsum(\"m,imn,nk,k->i\",np.conj(psi_0),DD_d,BBB,psi_0)\n",
    "    YY_1 = np.einsum(\"m,mn,ink,k->i\",np.conj(psi_0),BBB.conj().T,DD,psi_0)\n",
    "    YY_2 = np.einsum(\"m,mn,nk,kl,l\",np.conj(psi_0),BBB.conj().T,full_ham_matrix.toarray(),BBB,psi_0 )\n",
    "    YY = YY_1*YY_2\n",
    "    XX = np.outer(XX,XX)\n",
    "    #v = 1e-6*np.exp(-0)*np.ones(coeff*N)\n",
    "    #v = np.zeros(coeff*N)\n",
    "    #X = X + np.diag(v)\n",
    "    print(t)\n",
    "    X_r = 2*np.real(X+XX)\n",
    "    Y_i = 2*np.real(Y+YY)\n",
    "\n",
    "    return -np.linalg.pinv(X_r,rcond = 1e-6)@Y_i"
   ]
  },
  {
   "cell_type": "code",
   "execution_count": null,
   "id": "83f98165",
   "metadata": {},
   "outputs": [],
   "source": []
  },
  {
   "cell_type": "code",
   "execution_count": 23,
   "id": "e9d53cb6",
   "metadata": {},
   "outputs": [],
   "source": [
    "time_domain = np.linspace(0, t_final, stepp)\n"
   ]
  },
  {
   "cell_type": "code",
   "execution_count": 24,
   "id": "c93cda77",
   "metadata": {},
   "outputs": [],
   "source": [
    "# RK-4 method\n",
    "def rk4(x0,y0,xn,n):\n",
    "    global Y\n",
    "\n",
    "    # Calculating step size\n",
    "    h = (xn-x0)/n\n",
    "\n",
    "    #print('\\n--------SOLUTION--------')\n",
    "    #print('-------------------------')    \n",
    "    #print('x0\\ty0\\tyn')\n",
    "    #print('-------------------------')\n",
    "    for i in range(n):\n",
    "        k1 = h * (rhs(x0, y0))\n",
    "        k2 = h * (rhs((x0+h/2), (y0+k1/2)))\n",
    "        k3 = h * (rhs((x0+h/2), (y0+k2/2)))\n",
    "        k4 = h * (rhs((x0+h), (y0+k3)))\n",
    "        k = (k1+2*k2+2*k3+k4)/6\n",
    "        yn = y0 + k\n",
    "        #print('%.4f\\t%.4f\\t%.4f'% (x0,y0,yn) )\n",
    "        #print('-------------------------')\n",
    "        y0 = yn\n",
    "        x0 = x0+h\n",
    "        Y.append(y0)\n",
    "    \n",
    "    #print('\\nAt x=%.4f, y=%.4f' %(xn,yn))\n",
    "\n",
    "# Inputs\n",
    "#print('Enter initial conditions:')\n",
    "#x0 = float(input('x0 = '))\n",
    "#y0 = float(input('y0 = '))\n",
    "\n",
    "#print('Enter calculation point: ')\n",
    "#xn = float(input('xn = '))\n",
    "\n",
    "#print('Enter number of steps:')\n",
    "#step = int(input('Number of steps = '))\n",
    "\n",
    "# RK4 method call\n"
   ]
  },
  {
   "cell_type": "code",
   "execution_count": 25,
   "id": "7b811e78",
   "metadata": {
    "scrolled": true
   },
   "outputs": [
    {
     "name": "stderr",
     "output_type": "stream",
     "text": [
      "/home/ppopov/anaconda3/lib/python3.8/site-packages/scipy/sparse/_index.py:82: SparseEfficiencyWarning: Changing the sparsity structure of a csc_matrix is expensive. lil_matrix is more efficient.\n",
      "  self._set_intXint(row, col, x.flat[0])\n"
     ]
    },
    {
     "name": "stdout",
     "output_type": "stream",
     "text": [
      "0\n",
      "0.005\n",
      "0.005\n",
      "0.01\n",
      "0.01\n",
      "0.015\n",
      "0.015\n",
      "0.02\n",
      "0.02\n",
      "0.025\n",
      "0.025\n",
      "0.03\n",
      "0.03\n",
      "0.034999999999999996\n",
      "0.034999999999999996\n",
      "0.04\n",
      "0.04\n",
      "0.045\n",
      "0.045\n",
      "0.05\n",
      "0.05\n"
     ]
    },
    {
     "ename": "KeyboardInterrupt",
     "evalue": "",
     "output_type": "error",
     "traceback": [
      "\u001b[0;31m---------------------------------------------------------------------------\u001b[0m",
      "\u001b[0;31mKeyboardInterrupt\u001b[0m                         Traceback (most recent call last)",
      "\u001b[0;32m<ipython-input-25-3cf0736252fa>\u001b[0m in \u001b[0;36m<module>\u001b[0;34m\u001b[0m\n\u001b[1;32m      6\u001b[0m     \u001b[0mY\u001b[0m \u001b[0;34m=\u001b[0m \u001b[0;34m[\u001b[0m\u001b[0;34m]\u001b[0m\u001b[0;34m\u001b[0m\u001b[0;34m\u001b[0m\u001b[0m\n\u001b[1;32m      7\u001b[0m     \u001b[0mstart_point\u001b[0m \u001b[0;34m=\u001b[0m \u001b[0mnp\u001b[0m\u001b[0;34m.\u001b[0m\u001b[0mrandom\u001b[0m\u001b[0;34m.\u001b[0m\u001b[0mrand\u001b[0m\u001b[0;34m(\u001b[0m\u001b[0mcoeff\u001b[0m\u001b[0;34m*\u001b[0m\u001b[0mN\u001b[0m\u001b[0;34m)\u001b[0m\u001b[0;34m\u001b[0m\u001b[0;34m\u001b[0m\u001b[0m\n\u001b[0;32m----> 8\u001b[0;31m     \u001b[0mrk4\u001b[0m\u001b[0;34m(\u001b[0m\u001b[0;36m0\u001b[0m\u001b[0;34m,\u001b[0m\u001b[0mstart_point\u001b[0m\u001b[0;34m,\u001b[0m\u001b[0mt_final\u001b[0m\u001b[0;34m,\u001b[0m\u001b[0mstepp\u001b[0m\u001b[0;34m)\u001b[0m\u001b[0;34m\u001b[0m\u001b[0;34m\u001b[0m\u001b[0m\n\u001b[0m\u001b[1;32m      9\u001b[0m     \u001b[0;32mdef\u001b[0m \u001b[0mvar_ansatz\u001b[0m\u001b[0;34m(\u001b[0m\u001b[0mtheta\u001b[0m\u001b[0;34m,\u001b[0m\u001b[0mpsi_0\u001b[0m\u001b[0;34m)\u001b[0m\u001b[0;34m:\u001b[0m\u001b[0;34m\u001b[0m\u001b[0;34m\u001b[0m\u001b[0m\n\u001b[1;32m     10\u001b[0m         \u001b[0mpsi\u001b[0m \u001b[0;34m=\u001b[0m \u001b[0mpsi_0\u001b[0m\u001b[0;34m\u001b[0m\u001b[0;34m\u001b[0m\u001b[0m\n",
      "\u001b[0;32m<ipython-input-24-ca31fa8d5f67>\u001b[0m in \u001b[0;36mrk4\u001b[0;34m(x0, y0, xn, n)\u001b[0m\n\u001b[1;32m     12\u001b[0m     \u001b[0;32mfor\u001b[0m \u001b[0mi\u001b[0m \u001b[0;32min\u001b[0m \u001b[0mrange\u001b[0m\u001b[0;34m(\u001b[0m\u001b[0mn\u001b[0m\u001b[0;34m)\u001b[0m\u001b[0;34m:\u001b[0m\u001b[0;34m\u001b[0m\u001b[0;34m\u001b[0m\u001b[0m\n\u001b[1;32m     13\u001b[0m         \u001b[0mk1\u001b[0m \u001b[0;34m=\u001b[0m \u001b[0mh\u001b[0m \u001b[0;34m*\u001b[0m \u001b[0;34m(\u001b[0m\u001b[0mrhs\u001b[0m\u001b[0;34m(\u001b[0m\u001b[0mx0\u001b[0m\u001b[0;34m,\u001b[0m \u001b[0my0\u001b[0m\u001b[0;34m)\u001b[0m\u001b[0;34m)\u001b[0m\u001b[0;34m\u001b[0m\u001b[0;34m\u001b[0m\u001b[0m\n\u001b[0;32m---> 14\u001b[0;31m         \u001b[0mk2\u001b[0m \u001b[0;34m=\u001b[0m \u001b[0mh\u001b[0m \u001b[0;34m*\u001b[0m \u001b[0;34m(\u001b[0m\u001b[0mrhs\u001b[0m\u001b[0;34m(\u001b[0m\u001b[0;34m(\u001b[0m\u001b[0mx0\u001b[0m\u001b[0;34m+\u001b[0m\u001b[0mh\u001b[0m\u001b[0;34m/\u001b[0m\u001b[0;36m2\u001b[0m\u001b[0;34m)\u001b[0m\u001b[0;34m,\u001b[0m \u001b[0;34m(\u001b[0m\u001b[0my0\u001b[0m\u001b[0;34m+\u001b[0m\u001b[0mk1\u001b[0m\u001b[0;34m/\u001b[0m\u001b[0;36m2\u001b[0m\u001b[0;34m)\u001b[0m\u001b[0;34m)\u001b[0m\u001b[0;34m)\u001b[0m\u001b[0;34m\u001b[0m\u001b[0;34m\u001b[0m\u001b[0m\n\u001b[0m\u001b[1;32m     15\u001b[0m         \u001b[0mk3\u001b[0m \u001b[0;34m=\u001b[0m \u001b[0mh\u001b[0m \u001b[0;34m*\u001b[0m \u001b[0;34m(\u001b[0m\u001b[0mrhs\u001b[0m\u001b[0;34m(\u001b[0m\u001b[0;34m(\u001b[0m\u001b[0mx0\u001b[0m\u001b[0;34m+\u001b[0m\u001b[0mh\u001b[0m\u001b[0;34m/\u001b[0m\u001b[0;36m2\u001b[0m\u001b[0;34m)\u001b[0m\u001b[0;34m,\u001b[0m \u001b[0;34m(\u001b[0m\u001b[0my0\u001b[0m\u001b[0;34m+\u001b[0m\u001b[0mk2\u001b[0m\u001b[0;34m/\u001b[0m\u001b[0;36m2\u001b[0m\u001b[0;34m)\u001b[0m\u001b[0;34m)\u001b[0m\u001b[0;34m)\u001b[0m\u001b[0;34m\u001b[0m\u001b[0;34m\u001b[0m\u001b[0m\n\u001b[1;32m     16\u001b[0m         \u001b[0mk4\u001b[0m \u001b[0;34m=\u001b[0m \u001b[0mh\u001b[0m \u001b[0;34m*\u001b[0m \u001b[0;34m(\u001b[0m\u001b[0mrhs\u001b[0m\u001b[0;34m(\u001b[0m\u001b[0;34m(\u001b[0m\u001b[0mx0\u001b[0m\u001b[0;34m+\u001b[0m\u001b[0mh\u001b[0m\u001b[0;34m)\u001b[0m\u001b[0;34m,\u001b[0m \u001b[0;34m(\u001b[0m\u001b[0my0\u001b[0m\u001b[0;34m+\u001b[0m\u001b[0mk3\u001b[0m\u001b[0;34m)\u001b[0m\u001b[0;34m)\u001b[0m\u001b[0;34m)\u001b[0m\u001b[0;34m\u001b[0m\u001b[0;34m\u001b[0m\u001b[0m\n",
      "\u001b[0;32m<ipython-input-22-9ee0d8161922>\u001b[0m in \u001b[0;36mrhs\u001b[0;34m(t, theta)\u001b[0m\n\u001b[1;32m      6\u001b[0m     \u001b[0mB\u001b[0m \u001b[0;34m=\u001b[0m \u001b[0;34m[\u001b[0m\u001b[0;34m]\u001b[0m\u001b[0;34m\u001b[0m\u001b[0;34m\u001b[0m\u001b[0m\n\u001b[1;32m      7\u001b[0m     \u001b[0;32mfor\u001b[0m \u001b[0mk\u001b[0m \u001b[0;32min\u001b[0m \u001b[0mrange\u001b[0m\u001b[0;34m(\u001b[0m\u001b[0mcoeff\u001b[0m\u001b[0;34m*\u001b[0m\u001b[0mN\u001b[0m\u001b[0;34m)\u001b[0m\u001b[0;34m:\u001b[0m\u001b[0;34m\u001b[0m\u001b[0;34m\u001b[0m\u001b[0m\n\u001b[0;32m----> 8\u001b[0;31m         \u001b[0mA\u001b[0m\u001b[0;34m.\u001b[0m\u001b[0mappend\u001b[0m\u001b[0;34m(\u001b[0m\u001b[0mS\u001b[0m\u001b[0;34m(\u001b[0m\u001b[0mk\u001b[0m\u001b[0;34m,\u001b[0m\u001b[0mtheta\u001b[0m\u001b[0;34m[\u001b[0m\u001b[0mk\u001b[0m\u001b[0;34m]\u001b[0m\u001b[0;34m)\u001b[0m\u001b[0;34m@\u001b[0m\u001b[0mR\u001b[0m\u001b[0;34m(\u001b[0m\u001b[0mk\u001b[0m\u001b[0;34m,\u001b[0m\u001b[0mtheta\u001b[0m\u001b[0;34m[\u001b[0m\u001b[0mk\u001b[0m\u001b[0;34m]\u001b[0m\u001b[0;34m)\u001b[0m\u001b[0;34m)\u001b[0m\u001b[0;34m\u001b[0m\u001b[0;34m\u001b[0m\u001b[0m\n\u001b[0m\u001b[1;32m      9\u001b[0m         \u001b[0mB\u001b[0m\u001b[0;34m.\u001b[0m\u001b[0mappend\u001b[0m\u001b[0;34m(\u001b[0m\u001b[0mR\u001b[0m\u001b[0;34m(\u001b[0m\u001b[0mk\u001b[0m\u001b[0;34m,\u001b[0m\u001b[0mtheta\u001b[0m\u001b[0;34m[\u001b[0m\u001b[0mk\u001b[0m\u001b[0;34m]\u001b[0m\u001b[0;34m)\u001b[0m\u001b[0;34m)\u001b[0m\u001b[0;34m\u001b[0m\u001b[0;34m\u001b[0m\u001b[0m\n\u001b[1;32m     10\u001b[0m \u001b[0;34m\u001b[0m\u001b[0m\n",
      "\u001b[0;31mKeyboardInterrupt\u001b[0m: "
     ]
    }
   ],
   "source": [
    "#start_point = 0.001*np.ones(coeff*N)\n",
    "expt_value = []\n",
    "energyy = []\n",
    "\n",
    "for kkk in range(1):\n",
    "    Y = []\n",
    "    start_point = np.random.rand(coeff*N)\n",
    "    rk4(0,start_point,t_final,stepp)\n",
    "    def var_ansatz(theta,psi_0):\n",
    "        psi = psi_0\n",
    "        for i in range(coeff*N):\n",
    "            psi = R(coeff*N-1-i,theta[coeff*N-1-i])@psi\n",
    "\n",
    "        return psi\n",
    "    psi = var_ansatz(start_point,psi_0)\n",
    "    psi_ground = eigenvec[:,0]\n",
    "    expt_value_u = np.zeros(len(time_domain))\n",
    "    energy = np.zeros(len(time_domain))\n",
    "\n",
    "    psi = var_ansatz(start_point,psi_0)\n",
    "    for tt in range(len(time_domain)):\n",
    "        theta = []\n",
    "        for i in range(coeff*N):\n",
    "            theta.append(Y[tt][i])\n",
    "\n",
    "        psi_var = var_ansatz(theta,psi_0)\n",
    "        for i in range(L+1):\n",
    "            psi_var = (Proj[i]+Proj_0[i])@psi_var\n",
    "        norm = np.sqrt(np.real(np.conj(psi_var)@psi_var))\n",
    "\n",
    "        expt_value_u[tt] = np.abs(np.conj(psi_var)@psi_ground/norm)**2\n",
    "        energy[tt] = np.real(np.conj(psi_var)@full_ham_matrix@psi_var/norm**2)\n",
    "        \n",
    "    expt_value.append(expt_value_u)\n",
    "    energyy.append(energy)\n",
    "\n",
    "\n",
    "    "
   ]
  },
  {
   "cell_type": "code",
   "execution_count": 32,
   "id": "8ad27229",
   "metadata": {},
   "outputs": [
    {
     "data": {
      "text/plain": [
       "(0.0, 10.0)"
      ]
     },
     "execution_count": 32,
     "metadata": {},
     "output_type": "execute_result"
    },
    {
     "data": {
      "image/png": "[encoded data removed]",
      "text/plain": [
       "<Figure size 432x288 with 1 Axes>"
      ]
     },
     "metadata": {
      "needs_background": "light"
     },
     "output_type": "display_data"
    }
   ],
   "source": [
    "n = 1\n",
    "colors = plt.cm.jet(np.linspace(0,1,n))\n",
    "\n",
    "for kkk in range(1):\n",
    "    plt.plot(time_domain,expt_value[kkk], color = colors[kkk])\n",
    "plt.plot(time_domain,1.*np.ones(len(time_domain)), ls = \"--\", color =\"c\")\n",
    "\n",
    "plt.ylabel(r\"$|\\langle \\psi(\\theta)|\\psi_g\\rangle|^2$\",size = 18)\n",
    "plt.xlabel('Time',size = 15)\n",
    "plt.grid()\n",
    "#plt.legend()\n",
    "plt.xlim(0,10)\n",
    "#plt.ylim(0.99,1)\n",
    "\n",
    "#plt.savefig(\"Imaginary_time_evolution_fidelity_3qutrits_exp_gate.pdf\")"
   ]
  },
  {
   "cell_type": "code",
   "execution_count": 33,
   "id": "fa50bcfb",
   "metadata": {
    "scrolled": true
   },
   "outputs": [
    {
     "name": "stderr",
     "output_type": "stream",
     "text": [
      "No handles with labels found to put in legend.\n"
     ]
    },
    {
     "data": {
      "text/plain": [
       "(0.0, 10.0)"
      ]
     },
     "execution_count": 33,
     "metadata": {},
     "output_type": "execute_result"
    },
    {
     "data": {
      "image/png": "[encoded data removed]",
      "text/plain": [
       "<Figure size 432x288 with 1 Axes>"
      ]
     },
     "metadata": {
      "needs_background": "light"
     },
     "output_type": "display_data"
    }
   ],
   "source": [
    "for kkk in range(1):\n",
    "    plt.plot(time_domain,energyy[kkk], color = colors[kkk])\n",
    "plt.plot(time_domain,eigenval[0]*np.ones(len(time_domain)), ls = \"--\", color =\"c\")\n",
    "\n",
    "plt.ylabel(r\"$\\langle \\psi(\\theta)|H|\\psi(\\theta)\\rangle$\",size = 18)\n",
    "plt.xlabel('Time',size = 15)\n",
    "plt.grid()\n",
    "plt.legend()\n",
    "plt.xlim(0,10)\n",
    "#plt.ylim(-0.65,-0.63)\n",
    "\n",
    "#plt.savefig(\"Imaginary_time_evolution_energy_3qutrits_exp_gate.pdf\")"
   ]
  },
  {
   "cell_type": "code",
   "execution_count": 40,
   "id": "3989fe4b",
   "metadata": {},
   "outputs": [
    {
     "data": {
      "image/png": "[encoded data removed]",
      "text/plain": [
       "<Figure size 432x288 with 1 Axes>"
      ]
     },
     "metadata": {
      "needs_background": "light"
     },
     "output_type": "display_data"
    }
   ],
   "source": [
    "import matplotlib.pyplot as plt\n",
    "for i in range(coeff*N):\n",
    "    plt.plot(time_domain, [row[i] for row in Y])\n",
    "#plt.legend(loc='best')\n",
    "plt.xlabel('t')\n",
    "plt.grid()\n",
    "#plt.xlim(5.9,6.1)\n",
    "plt.show()"
   ]
  },
  {
   "cell_type": "code",
   "execution_count": 43,
   "id": "217b2a6f",
   "metadata": {},
   "outputs": [
    {
     "name": "stdout",
     "output_type": "stream",
     "text": [
      "4.838222842295315e-06\n",
      "-0.00822376007702962\n",
      "0.22224045415837237\n",
      "-0.07402449858619298\n",
      "0.3864191038973874\n",
      "0.6980257068843853\n",
      "1.0326600859094566\n"
     ]
    }
   ],
   "source": [
    "for i in range(coeff*N):\n",
    "    print(Y[-1][i])"
   ]
  },
  {
   "cell_type": "code",
   "execution_count": 212,
   "id": "76045ba0",
   "metadata": {},
   "outputs": [],
   "source": [
    "obs = [[1.,2]]\n",
    "obs_1 = [[-1.,1]]\n",
    "\n",
    "\n",
    "obs_map = [\n",
    "            [\"z\", obs], \n",
    "            [\"z\", obs_1], \n",
    "\n",
    "\n",
    "]\n",
    "\n",
    "observable = hamiltonian(obs_map,dynamic_list=[],basis=basis,**no_checks)\n",
    "observable_matrix = observable.toarray()\n",
    "observable_matrix_p = observable_matrix\n",
    "for i in range(L+1):\n",
    "    observable_matrix_p = (Proj[i]+Proj_0[i])@observable_matrix_p@(Proj[i]+Proj_0[i])\n",
    "    \n",
    "observable_matrix = observable_matrix_p\n",
    "\n"
   ]
  },
  {
   "cell_type": "code",
   "execution_count": 213,
   "id": "6afdc300",
   "metadata": {},
   "outputs": [],
   "source": []
  },
  {
   "cell_type": "code",
   "execution_count": 214,
   "id": "3bdaa56a",
   "metadata": {},
   "outputs": [],
   "source": [
    "def hamiltonian_evolution(theta):\n",
    "    return expm(-1j*full_ham_matrix.toarray()*theta)\n",
    "\n",
    "def hamiltonian_evolution_1(theta):\n",
    "    return expm(-1j*constrained_full_ham_matrix.toarray()*theta)"
   ]
  },
  {
   "cell_type": "code",
   "execution_count": 215,
   "id": "33f5c472",
   "metadata": {},
   "outputs": [],
   "source": []
  },
  {
   "cell_type": "code",
   "execution_count": 216,
   "id": "f026879e",
   "metadata": {},
   "outputs": [],
   "source": []
  },
  {
   "cell_type": "code",
   "execution_count": 217,
   "id": "8eb93722",
   "metadata": {},
   "outputs": [],
   "source": []
  },
  {
   "cell_type": "code",
   "execution_count": 218,
   "id": "14b5999d",
   "metadata": {},
   "outputs": [
    {
     "name": "stdout",
     "output_type": "stream",
     "text": [
      "0.37141536888406607\n",
      "0.6602899660443315\n",
      "0.11637371823579168\n",
      "0.39901353290549235\n",
      "0.9247979940631299\n",
      "0.026453178512319396\n",
      "0.4382807802429473\n",
      "0.07025615093206115\n",
      "0.3606296388374573\n",
      "0.8138966259351307\n",
      "0.9031720383192907\n",
      "0.523454217057356\n",
      "0.9272695715059814\n",
      "0.9827474226150743\n",
      "0.2639324508516817\n",
      "0.41284186279042756\n",
      "0.8757225556853009\n",
      "0.523982524132141\n",
      "0.9490899608210723\n",
      "0.6202612047452045\n",
      "0.19801202641088236\n",
      "0.6716191124543176\n"
     ]
    }
   ],
   "source": [
    "for i in range(coeff*N):\n",
    "    print(Y[0][i])"
   ]
  },
  {
   "cell_type": "code",
   "execution_count": 219,
   "id": "6662d37c",
   "metadata": {},
   "outputs": [
    {
     "data": {
      "text/plain": [
       "(0.0, 10.0)"
      ]
     },
     "execution_count": 219,
     "metadata": {},
     "output_type": "execute_result"
    },
    {
     "data": {
      "image/png": "[encoded data removed]",
      "text/plain": [
       "<Figure size 432x288 with 1 Axes>"
      ]
     },
     "metadata": {
      "needs_background": "light"
     },
     "output_type": "display_data"
    }
   ],
   "source": []
  },
  {
   "cell_type": "code",
   "execution_count": 220,
   "id": "916518b5",
   "metadata": {},
   "outputs": [
    {
     "data": {
      "text/plain": [
       "(0.0, 10.0)"
      ]
     },
     "execution_count": 220,
     "metadata": {},
     "output_type": "execute_result"
    },
    {
     "data": {
      "image/png": "[encoded data removed]",
      "text/plain": [
       "<Figure size 432x288 with 1 Axes>"
      ]
     },
     "metadata": {
      "needs_background": "light"
     },
     "output_type": "display_data"
    }
   ],
   "source": [
    "plt.plot(time_domain,energy, color = \"red\",label = \"Variational\")\n",
    "plt.plot(time_domain,eigenval[0]*np.ones(len(time_domain)), ls = \"--\", color =\"g\", label = \"Exact diag.\")\n",
    "\n",
    "plt.ylabel(r\"$|\\langle \\psi(\\theta)|H|\\psi(\\theta)\\rangle|^2$\",size = 18)\n",
    "plt.xlabel('Time',size = 15)\n",
    "plt.grid()\n",
    "plt.legend()\n",
    "plt.xlim(0,10)\n",
    "#plt.ylim(-0.65,-0.63)\n",
    "\n",
    "#plt.savefig(\"Imaginary_time_evolution_energy_3qutrits_M=0.1_N=2_1.pdf\")"
   ]
  },
  {
   "cell_type": "code",
   "execution_count": 221,
   "id": "9928937b",
   "metadata": {},
   "outputs": [
    {
     "name": "stdout",
     "output_type": "stream",
     "text": [
      "0.999481430342308\n"
     ]
    }
   ],
   "source": [
    "print(expt_value_u[-1])"
   ]
  },
  {
   "cell_type": "code",
   "execution_count": 124,
   "id": "9cd75627",
   "metadata": {},
   "outputs": [
    {
     "name": "stdout",
     "output_type": "stream",
     "text": [
      "[1 1 2 4]\n",
      "[1 1 2 3 4]\n",
      "[1 1 2 3 4 5]\n"
     ]
    }
   ],
   "source": [
    "a = np.array([1,2,4])\n",
    "ind = [1,3,5]\n",
    "for i in ind:\n",
    "    a = np.insert(a,i,i)\n",
    "    print(a)"
   ]
  },
  {
   "cell_type": "code",
   "execution_count": 33,
   "id": "06ce149a",
   "metadata": {},
   "outputs": [
    {
     "name": "stdout",
     "output_type": "stream",
     "text": [
      "4\n"
     ]
    }
   ],
   "source": [
    "vec = np.array([1,2,3,4,5])\n",
    "print(vec[-1]-vec[0])"
   ]
  },
  {
   "cell_type": "code",
   "execution_count": null,
   "id": "192f212a",
   "metadata": {},
   "outputs": [],
   "source": []
  }
 ],
 "metadata": {
  "kernelspec": {
   "display_name": "Python 3",
   "language": "python",
   "name": "python3"
  },
  "language_info": {
   "codemirror_mode": {
    "name": "ipython",
    "version": 3
   },
   "file_extension": ".py",
   "mimetype": "text/x-python",
   "name": "python",
   "nbconvert_exporter": "python",
   "pygments_lexer": "ipython3",
   "version": "3.8.8"
  }
 },
 "nbformat": 4,
 "nbformat_minor": 5
}
