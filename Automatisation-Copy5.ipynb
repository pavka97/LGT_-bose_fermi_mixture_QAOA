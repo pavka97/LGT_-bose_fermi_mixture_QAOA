{
 "cells": [
  {
   "cell_type": "code",
   "execution_count": 23,
   "id": "55c84acf",
   "metadata": {},
   "outputs": [],
   "source": [
    "import scipy\n",
    "from scipy.linalg import expm\n",
    "import scipy.sparse as sparse\n",
    "from quspin.operators import hamiltonian, commutator, exp_op # Hamiltonians and operators\n",
    "from quspin.basis import tensor_basis, spin_basis_1d # bases\n",
    "import numpy as np # general math functions\n",
    "import matplotlib.pyplot as plt # plotting library"
   ]
  },
  {
   "cell_type": "code",
   "execution_count": 27,
   "id": "45093bff",
   "metadata": {},
   "outputs": [],
   "source": [
    "L = 5 #system size\n",
    "M = 0.1 #fermion mass\n",
    "N=1 #number of layers\n",
    "l=1 #spin length\n",
    "no_checks = dict(check_pcon=False,check_symm=False,check_herm=False)"
   ]
  },
  {
   "cell_type": "code",
   "execution_count": 28,
   "id": "20ed39f4",
   "metadata": {},
   "outputs": [
    {
     "name": "stdout",
     "output_type": "stream",
     "text": [
      "[[0.  0.5 0.  ... 0.  0.  0. ]\n",
      " [0.5 0.  0.  ... 0.  0.  0. ]\n",
      " [0.  0.  0.  ... 0.  0.  0. ]\n",
      " ...\n",
      " [0.  0.  0.  ... 0.  0.5 0. ]\n",
      " [0.  0.  0.  ... 0.5 0.  0. ]\n",
      " [0.  0.  0.  ... 0.  0.  0. ]]\n"
     ]
    }
   ],
   "source": [
    "sigma = np.zeros((3,3))\n",
    "sigma[0][1] = 0.5\n",
    "sigma[1][0] = 0.5\n",
    "\n",
    "tensprod = sigma\n",
    "for i in range(L-1):\n",
    "    tensprod = np.kron(np.identity(3),tensprod)\n",
    "print(tensprod)"
   ]
  },
  {
   "cell_type": "code",
   "execution_count": 1,
   "id": "be4221f9",
   "metadata": {},
   "outputs": [],
   "source": [
    "def rot_sigma(k,i,j,phi,theta):\n",
    "    sigma = np.zeros((3,3),dtype = complex)\n",
    "    sigma[2-i][2-j] = 0.5*(np.cos(phi)+1j*np.sin(phi))\n",
    "    sigma[2-j][2-i] = 0.5*(np.cos(phi)-1j*np.sin(phi))\n",
    "    sigma = sparse.csr_matrix(sigma)\n",
    "    rot_matrix = expm(-1j*theta*sigma/2)\n",
    "    if k==0:\n",
    "        tensprod = rot_matrix\n",
    "        for i in range(L-1):\n",
    "            tensprod = scipy.sparse.kron(tensprod,np.identity(3))\n",
    "    else:\n",
    "        tensprod = np.identity(3)\n",
    "        for i in range(1,k):\n",
    "            tensprod = scipy.sparse.kron(tensprod,np.identity(3))\n",
    "        tensprod = scipy.sparse.kron(tensprod,rot_matrix)\n",
    "        for i in range(k+1,L):\n",
    "            tensprod = scipy.sparse.kron(tensprod,np.identity(3))\n",
    "    return tensprod\n",
    "\n",
    "def rot_ms(k,i,j,phi,theta):\n",
    "    sigma = np.zeros((3,3),dtype = complex)\n",
    "    sigma[2-i][2-j] = 0.5*(np.cos(phi)+1j*np.sin(phi))\n",
    "    sigma[2-i][2-j] = 0.5*(np.cos(phi)-1j*np.sin(phi))\n",
    "    sigma = sparse.csr_matrix(sigma)\n",
    "    power_matrix = scipy.sparse.kron(sigma,np.identity(3))+scipy.sparse.kron(np.identity(3),sigma)\n",
    "    rot_matrix = expm(-1j*power_matrix@power_matrix*theta/4)\n",
    "    if k == 0:\n",
    "        tensprod = rot_matrix\n",
    "        for i in range(L-2):\n",
    "            tensprod = scipy.sparse.kron(tensprod,np.identity(3))\n",
    "    else:\n",
    "        tensprod = np.identity(3)\n",
    "        for i in range(1,k):\n",
    "            tensprod = scipy.sparse.kron(tensprod,np.identity(3))\n",
    "        tensprod = scipy.sparse.kron(tensprod,rot_matrix)\n",
    "        for i in range(k+2,L):\n",
    "            tensprod = scipy.sparse.kron(tensprod,np.identity(3))\n",
    "    return tensprod\n",
    "\n"
   ]
  },
  {
   "cell_type": "code",
   "execution_count": 9,
   "id": "728f33d9",
   "metadata": {},
   "outputs": [],
   "source": [
    "def clause(a,b,k,m,n):\n",
    "    zero = 0\n",
    "    m = int(m)\n",
    "    n = int(n)\n",
    "    for l in range(L):\n",
    "        if l == k:\n",
    "            if (int(a[l])!=m) | (int(b[l])!=n):\n",
    "                zero +=1\n",
    "        else:\n",
    "            if a[l]!=b[l]:\n",
    "                zero +=1\n",
    "    return zero"
   ]
  },
  {
   "cell_type": "code",
   "execution_count": null,
   "id": "5ad78937",
   "metadata": {},
   "outputs": [],
   "source": [
    "sigma_01_temp = np.zeros((basis.Ns,basis.Ns),dtype = complex)\n",
    "\n",
    "for i in range(basis.Ns):\n",
    "    string_i = basis.int_to_state(basis.Ns-i-1,bracket_notation=False)\n",
    "    for j in range(basis.Ns):\n",
    "        string_j = basis.int_to_state(basis.Ns-j-1,bracket_notation=False)\n",
    "\n",
    "        if (clause(string_i,string_j,0,0,1)==0):\n",
    "            sigma_01_temp[i][j] = 0.5\n",
    "        if (clause(string_i,string_j,0,1,0)==0):\n",
    "            sigma_01_temp[i][j] = 0.5"
   ]
  },
  {
   "cell_type": "code",
   "execution_count": null,
   "id": "3631626e",
   "metadata": {},
   "outputs": [],
   "source": []
  }
 ],
 "metadata": {
  "kernelspec": {
   "display_name": "Python 3",
   "language": "python",
   "name": "python3"
  },
  "language_info": {
   "codemirror_mode": {
    "name": "ipython",
    "version": 3
   },
   "file_extension": ".py",
   "mimetype": "text/x-python",
   "name": "python",
   "nbconvert_exporter": "python",
   "pygments_lexer": "ipython3",
   "version": "3.8.8"
  }
 },
 "nbformat": 4,
 "nbformat_minor": 5
}
