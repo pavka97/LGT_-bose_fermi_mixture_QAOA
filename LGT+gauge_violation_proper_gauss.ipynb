{
 "cells": [
  {
   "cell_type": "code",
   "execution_count": 1,
   "id": "e3563e5d",
   "metadata": {},
   "outputs": [],
   "source": [
    "from __future__ import print_function, division\n",
    "import sys,os\n",
    "# line 4 and line 5 below are for development purposes and can be removed\n",
    "qspin_path = os.path.join(os.getcwd(),\"../../\")\n",
    "sys.path.insert(0,qspin_path)\n",
    "\n",
    "from quspin.operators import hamiltonian # Hamiltonians and operators\n",
    "from quspin.operators import commutator # Hamiltonians and operators\n",
    "from quspin.basis import tensor_basis,spinful_fermion_basis_1d,boson_basis_1d # bases\n",
    "from quspin.tools.measurements import obs_vs_time # calculating dynamics\n",
    "from quspin.tools.Floquet import Floquet_t_vec # period-spaced time vector\n",
    "import numpy as np # general math functions\n",
    "import matplotlib.pyplot as plt # plotting library\n",
    "#\n",
    "##### setting up parameters for simulation\n",
    "# physical parameters\n",
    "l = 1\n",
    "L_f = 3 # system size f\n",
    "L_b = L_f-1 # system size b\n",
    "Nf, Nb = 2, l # number of fermions, bosons\n",
    "N = Nf + Nb # total number of particles\n",
    "# define time-dependent perturbation\n",
    "\n",
    "###### create the basis\n",
    "# build the two bases to tensor together to a bose-fermi mixture\n",
    "basis_b1=boson_basis_1d(L_b,Nb=[i for i in range(2*l*L_b+1)],sps=2*l+1) # boson basis\n",
    "basis_b2=boson_basis_1d(L_b,Nb=[i for i in range(2*l*L_b+1)],sps=2*l+1) # boson basis\n",
    "basis_f=spinful_fermion_basis_1d(L_f,Nf = [(0,0),(0,1),(1,0),(1,1),(2,0),(0,2),(1,2),(2,1),(2,2),(0,3),(3,0),(3,1),(1,3),(2,3),(3,2),(3,3)],double_occupancy=True)\n",
    "basis=tensor_basis(basis_b1,basis_b2,basis_f) # BFM\n",
    "\n",
    "############################################## target  hamiltonian\n",
    "a = 0.1\n",
    "e = 1.\n",
    "m = 0.5\n",
    "lam = 2.\n",
    "\n",
    "bosonic_part_LGT = [[a*e**2/4.,i,i,i,i] for i in range(L_b)] # b^dagger*b^dagger*b*b\n",
    "\n",
    "mass_f = [[m+1.0/a,i,i] for i in range(L_f)] # f mass term\n",
    "m_mass_f = [[-m-1.0/a,i,i] for i in range(L_f)] # f mass term\n",
    "\n",
    "interaction_part_LGT = [[1.0/(a*np.sqrt(l*(l+1))),i,i,i,i+1] for i in range(L_b)] #boson-fermion interaction\n",
    "m_interaction_part_LGT = [[-1.0/(a*np.sqrt(l*(l+1))),i,i,i,i+1] for i in range(L_b)] #boson-fermion interaction\n",
    "\n",
    "gauge_violation = [[lam,i,(i+1)] for i in range(L_f-1)] #gauge violating term\n",
    "m_gauge_violation = [[-lam,i,(i+1)] for i in range(L_f-1)] #gauge violating term\n",
    "\n",
    "penalty_quad = [[1000.,i,i] for i in range(L_b)] #penalty in order to stay in the sector n_b + n_d = 2l\n",
    "penalty_lin = [[-4000.*l,i] for i in range(L_b)]\n",
    "penalty_const = [[1000.*4*l**2,i] for i in range(L_b)]\n",
    "penalty_quad_2 = [[2000.,i,i] for i in range(L_b)]\n",
    "\n",
    "#measurement operators\n",
    "mes_0 = [[1.,0]]\n",
    "mes_1 = [[1.,1]]\n",
    "mes_2 = [[1.,2]]\n",
    "\n",
    "\n",
    "\n",
    "#Schwinger bosons at 0th link\n",
    "b_0 = [[+0.5*e,0]]\n",
    "d_0 = [[+0.5*e,0]]\n",
    "\n",
    "b_0_m = [[-0.5*e,0]]\n",
    "d_0_m = [[-0.5*e,0]]\n",
    "\n",
    "#Schwinger bosons at 1st link\n",
    "b_1 = [[+0.5*e,1]]\n",
    "d_1 = [[+0.5*e,1]]\n",
    "\n",
    "b_1_m = [[-0.5*e,1]]\n",
    "d_1_m = [[-0.5*e,1]]\n",
    "\n",
    "#Fermions at 0th site\n",
    "rho_0 = [[-e,0]]\n",
    "\n",
    "#Fermions at 1st site\n",
    "rho_1 = [[-e,1]]\n",
    "\n",
    "#Fermions at 2nd site\n",
    "rho_2 = [[-e,2]]\n",
    "\n",
    "#Identity at 0th site\n",
    "eee_0 = [[e,0]]\n",
    "\n",
    "#Identity at 1st site\n",
    "eee_1 = [[e,1]]\n",
    "\n",
    "#Identity at 2nd site\n",
    "eee_2 = [[e,2]]\n",
    "\n",
    "\n",
    "static_gauss_law_0 = [\n",
    "    \n",
    "    [\"n|||\", b_0],\n",
    "    [\"|n||\", d_0_m],\n",
    "    [\"||n|\", rho_0],\n",
    "    [\"|||n\", rho_0],\n",
    "    [\"||I|\", eee_0]\n",
    "\n",
    "    \n",
    "]\n",
    "\n",
    "\n",
    "\n",
    "static_gauss_law_1 = [\n",
    "    \n",
    "    [\"n|||\", b_0_m],\n",
    "    [\"|n||\", d_0],\n",
    "    [\"n|||\", b_1],\n",
    "    [\"|n||\", d_1_m],\n",
    "    [\"||n|\", rho_1],\n",
    "    [\"|||n\", rho_1],\n",
    "    [\"||I|\", eee_1]\n",
    "\n",
    "]    \n",
    "    \n",
    "\n",
    "static_gauss_law_2 = [\n",
    "    \n",
    "    [\"n|||\", b_1_m],\n",
    "    [\"|n||\", d_1],\n",
    "    [\"||n|\", rho_2],\n",
    "    [\"|||n\", rho_2],\n",
    "    [\"||I|\", eee_2]\n",
    "\n",
    "    \n",
    "]\n",
    "\n",
    "#\n",
    "static_target = [\n",
    "            [\"++--|||\", bosonic_part_LGT], # b^dagger*b^dagger*b*b\n",
    "            [\"|++--||\", bosonic_part_LGT], # b^dagger*b^dagger*b*b\n",
    "\n",
    "            [\"||+|-\", mass_f], # f mass term\n",
    "            [\"||-|+\", m_mass_f], # f mass term\n",
    "\n",
    "\n",
    "            [\"+|-|+|-\", interaction_part_LGT], #boson-fermion interaction\n",
    "            [\"-|+|-|+\", m_interaction_part_LGT], #boson-fermion interaction\n",
    "#introducing the penalty to the Hamiltonian\n",
    "            [\"nn|||\",penalty_quad],\n",
    "            [\"|nn||\",penalty_quad],\n",
    "            [\"n|n||\",penalty_quad_2],\n",
    "            [\"n|||\",penalty_lin],\n",
    "            [\"|n||\",penalty_lin],\n",
    "            [\"I|||\",penalty_const]\n",
    "]\n",
    "\n",
    "\n",
    "\n",
    "\n",
    "\n",
    "static_violation = [\n",
    "[\"||+|-\", gauge_violation],\n",
    "[\"||-|+\", m_gauge_violation]\n",
    "\n",
    "]\n",
    "\n",
    "mes_b_0 = [\n",
    "    \n",
    "    [\"n|||\",mes_0]\n",
    "]\n",
    "\n",
    "mes_d_0 = [\n",
    "    \n",
    "    [\"|n||\",mes_0]\n",
    "]\n",
    "\n",
    "mes_b_1 = [\n",
    "    \n",
    "    [\"n|||\",mes_1]\n",
    "]\n",
    "\n",
    "mes_d_1 = [\n",
    "    \n",
    "    [\"|n||\",mes_1]\n",
    "]\n",
    "\n",
    "mes_f1_0 = [\n",
    "    \n",
    "    [\"||n|\",mes_0]\n",
    "]\n",
    "\n",
    "mes_f2_0 = [\n",
    "    \n",
    "    [\"|||n\",mes_0]\n",
    "]\n",
    "\n",
    "mes_f1_1 = [\n",
    "    \n",
    "    [\"||n|\",mes_1]\n",
    "]\n",
    "\n",
    "mes_f2_1 = [\n",
    "    \n",
    "    [\"|||n\",mes_1]\n",
    "]\n",
    "\n",
    "mes_f1_2 = [\n",
    "    \n",
    "    [\"||n|\",mes_2]\n",
    "]\n",
    "\n",
    "mes_f2_2 = [\n",
    "    \n",
    "    [\"|||n\",mes_2]\n",
    "]\n",
    "################################################\n",
    "###### set up Hamiltonian and initial states\n",
    "no_checks = dict(check_pcon=False,check_symm=False,check_herm=False)\n",
    "\n",
    "H_violation = hamiltonian(static_violation,dynamic_list = [],basis=basis,**no_checks)\n",
    "H_target = hamiltonian(static_target,dynamic_list = [],basis=basis,**no_checks)\n",
    "\n",
    "Gauss_law_0 = hamiltonian(static_gauss_law_0, dynamic_list = [], basis=basis, **no_checks)\n",
    "Gauss_law_1 = hamiltonian(static_gauss_law_1, dynamic_list = [], basis=basis, **no_checks)\n",
    "Gauss_law_2 = hamiltonian(static_gauss_law_2, dynamic_list = [], basis=basis, **no_checks)\n",
    "\n",
    "Mes_b_0 = hamiltonian(mes_b_0,dynamic_list = [],basis=basis,**no_checks)\n",
    "Mes_d_0 = hamiltonian(mes_d_0,dynamic_list = [],basis=basis,**no_checks)\n",
    "Mes_b_1 = hamiltonian(mes_b_1,dynamic_list = [],basis=basis,**no_checks)\n",
    "Mes_d_1 = hamiltonian(mes_d_1,dynamic_list = [],basis=basis,**no_checks)\n",
    "\n",
    "Mes_f1_0 = hamiltonian(mes_f1_0,dynamic_list = [],basis=basis,**no_checks)\n",
    "Mes_f2_0 = hamiltonian(mes_f2_0,dynamic_list = [],basis=basis,**no_checks)\n",
    "Mes_f1_1 = hamiltonian(mes_f1_1,dynamic_list = [],basis=basis,**no_checks)\n",
    "Mes_f2_1 = hamiltonian(mes_f2_1,dynamic_list = [],basis=basis,**no_checks)\n",
    "Mes_f1_2 = hamiltonian(mes_f1_2,dynamic_list = [],basis=basis,**no_checks)\n",
    "Mes_f2_2 = hamiltonian(mes_f2_2,dynamic_list = [],basis=basis,**no_checks)\n",
    "\n"
   ]
  },
  {
   "cell_type": "code",
   "execution_count": 2,
   "id": "51fd7247",
   "metadata": {},
   "outputs": [
    {
     "name": "stdout",
     "output_type": "stream",
     "text": [
      "static mat: \n",
      "\n",
      "\n",
      "\n",
      "dynamic:\n",
      "\n"
     ]
    }
   ],
   "source": [
    "com_1 = commutator(H_target, Gauss_law_2)\n",
    "\"\"\"\"\"\"\"\"\"\n",
    "for i in range(len(eigenvalues)):\n",
    "    if (com_1.expt_value(eigenvectors[:,0])>=1e-5):\n",
    "        print(i)\n",
    "print(com_1.expt_value(eigenvectors[:,11]))\n",
    "\"\"\"\"\"\"\"\"\"\n",
    "print(com_1)"
   ]
  },
  {
   "cell_type": "code",
   "execution_count": 2,
   "id": "9d0d8c95",
   "metadata": {},
   "outputs": [],
   "source": [
    "# define initial Fock state through strings\n",
    "s_f = [\"111\",\"110\",\"101\",\"011\",\"100\",\"010\",\"001\",\"000\"]\n",
    "s_b = [\"20\",\"11\",\"10\",\"02\",\"01\",\"00\"]\n",
    "# basis.index accepts strings and returns the index which corresponds to that state in the basis list\n",
    "i = np.zeros(8)\n",
    "i[0] = basis.index(s_b[1],s_b[1],s_f[0],s_f[7]) # find index of product state in basis\n",
    "i[1] = basis.index(s_b[1],s_b[1],s_f[1],s_f[6])\n",
    "i[2] = basis.index(s_b[1],s_b[1],s_f[2],s_f[5])\n",
    "i[3] = basis.index(s_b[1],s_b[1],s_f[3],s_f[4])\n",
    "i[4] = basis.index(s_b[1],s_b[1],s_f[4],s_f[3])\n",
    "i[5] = basis.index(s_b[1],s_b[1],s_f[5],s_f[2])\n",
    "i[6] = basis.index(s_b[1],s_b[1],s_f[6],s_f[1])\n",
    "i[7] = basis.index(s_b[1],s_b[1],s_f[7],s_f[0])\n",
    "\n",
    "\n",
    "psi_0 = np.zeros(basis.Ns) # allocate space for state\n",
    "psi_0[int(i[0])] = 1/(np.sqrt(2)**3) # set MB state to be the given product state\n",
    "psi_0[int(i[1])] = -1/(np.sqrt(2)**3)\n",
    "psi_0[int(i[2])] = -1/(np.sqrt(2)**3)\n",
    "psi_0[int(i[3])] = -1/(np.sqrt(2)**3)\n",
    "psi_0[int(i[4])] = 1/(np.sqrt(2)**3)\n",
    "psi_0[int(i[5])] = 1/(np.sqrt(2)**3)\n",
    "psi_0[int(i[6])] = 1/(np.sqrt(2)**3)\n",
    "psi_0[int(i[7])] = -1/(np.sqrt(2)**3)\n",
    "\n",
    "\n",
    "#\n"
   ]
  },
  {
   "cell_type": "code",
   "execution_count": null,
   "id": "beb39d90",
   "metadata": {},
   "outputs": [],
   "source": [
    "eigenvalues, eigenvectors = H_target.eigh() "
   ]
  },
  {
   "cell_type": "code",
   "execution_count": null,
   "id": "d10d630c",
   "metadata": {},
   "outputs": [],
   "source": [
    "print(eigenvalues[0]) #ground state energy"
   ]
  },
  {
   "cell_type": "code",
   "execution_count": null,
   "id": "42a97ba7",
   "metadata": {},
   "outputs": [],
   "source": [
    "print(Gauss_law_0.expt_value(eigenvectors[:,0]))\n",
    "print(Gauss_law_1.expt_value(eigenvectors[:,0]))\n",
    "print(Gauss_law_2.expt_value(eigenvectors[:,0]))\n",
    "\n",
    "print(Gauss_law_0.expt_value(psi_0))\n",
    "print(Gauss_law_1.expt_value(psi_0))\n",
    "print(Gauss_law_2.expt_value(psi_0))"
   ]
  },
  {
   "cell_type": "code",
   "execution_count": null,
   "id": "33d57659",
   "metadata": {},
   "outputs": [],
   "source": [
    "print(Mes_b_1.expt_value(eigenvectors[:,0])+Mes_d_1.expt_value(eigenvectors[:,0]))"
   ]
  },
  {
   "cell_type": "code",
   "execution_count": null,
   "id": "34f00dbf",
   "metadata": {},
   "outputs": [],
   "source": [
    "Gauss_quadrat_0 = Gauss_law_0*Gauss_law_0\n",
    "Gauss_quadrat_1 = Gauss_law_1*Gauss_law_1\n",
    "Gauss_quadrat_2 = Gauss_law_2*Gauss_law_2"
   ]
  },
  {
   "cell_type": "code",
   "execution_count": 13,
   "id": "a9a1b893",
   "metadata": {},
   "outputs": [],
   "source": [
    "#define the cost function\n",
    "def extract_energy(theta,psi,a):\n",
    "    psi_t0 = H_violation.evolve(psi,0.0,theta[0])\n",
    "    psi_t1 = H_target.evolve(psi_t0,0.0,theta[1])\n",
    "    psi_t2 = H_violation.evolve(psi_t1,0.0,theta[2])\n",
    "\n",
    "\n",
    "    cost_function = np.real(H_target.expt_value(psi_t2)) + 1000.*np.real(Gauss_quadrat_0.expt_value(psi_t2)) + 1000.*np.real(Gauss_quadrat_1.expt_value(psi_t2)) + 1000.*np.real(Gauss_quadrat_2.expt_value(psi_t2))\n",
    "    return cost_function\n",
    "\n",
    "#time evolution of the initial state\n",
    "def extract_state(theta,psi):\n",
    "    psi_t0 = H_violation.evolve(psi,0.0,theta[0])\n",
    "    psi_t1 = H_target.evolve(psi_t0,0.0,theta[1])\n",
    "    psi_t2 = H_violation.evolve(psi_t1,0.0,theta[2])\n",
    "\n",
    "    return psi_t2"
   ]
  },
  {
   "cell_type": "code",
   "execution_count": 14,
   "id": "44e26e27",
   "metadata": {
    "scrolled": true
   },
   "outputs": [
    {
     "name": "stdout",
     "output_type": "stream",
     "text": [
      "-36.20241526366656\n",
      "[ 7.73426583e-07  3.80396220e-01 -2.70246601e-07]\n"
     ]
    }
   ],
   "source": [
    "from scipy.optimize import minimize\n",
    "initial_guess = np.array([0.2,0.2,0.3])\n",
    "resopt = minimize(extract_energy,initial_guess,args = (eigenvectors[:,0],1),method='Nelder-Mead',options ={\"fatol\":1e-8,\"adaptive\":True})\n",
    "print(resopt.fun)\n",
    "print(resopt.x)"
   ]
  },
  {
   "cell_type": "code",
   "execution_count": 15,
   "id": "b550dc3c",
   "metadata": {},
   "outputs": [
    {
     "name": "stdout",
     "output_type": "stream",
     "text": [
      "(0.9999999999993847+2.191877939104188e-20j)\n"
     ]
    }
   ],
   "source": [
    "psi_opt = extract_state(np.array([resopt.x[0],0.,resopt.x[2]]), eigenvectors[:,0])\n",
    "print(np.dot(psi_opt,eigenvectors[:,0]))"
   ]
  },
  {
   "cell_type": "code",
   "execution_count": 45,
   "id": "7edaa58e",
   "metadata": {},
   "outputs": [
    {
     "name": "stdout",
     "output_type": "stream",
     "text": [
      "Hermiticity check passed!\n"
     ]
    },
    {
     "name": "stderr",
     "output_type": "stream",
     "text": [
      "<ipython-input-45-6cb33ed634b5>:1: UserWarning: Test for symmetries not implemented for <class 'quspin.basis.tensor.tensor_basis'>, to turn off this warning set check_symm=False in hamiltonian\n",
      "  H_target.__init__(static_target, dynamic_list = [],basis=basis, check_herm = True)\n",
      "<ipython-input-45-6cb33ed634b5>:1: UserWarning: Test for particle conservation not implemented for <class 'quspin.basis.tensor.tensor_basis'>, to turn off this warning set check_pcon=False in hamiltonian\n",
      "  H_target.__init__(static_target, dynamic_list = [],basis=basis, check_herm = True)\n"
     ]
    }
   ],
   "source": [
    "H_target.__init__(static_target, dynamic_list = [],basis=basis, check_herm = True)\n",
    "#for checking the Hermiticity of the operators"
   ]
  },
  {
   "cell_type": "code",
   "execution_count": 86,
   "id": "e8f55248",
   "metadata": {},
   "outputs": [
    {
     "name": "stdout",
     "output_type": "stream",
     "text": [
      "[0.+0.j 0.+0.j 0.+0.j ... 0.+0.j 0.+0.j 0.+0.j]\n",
      "(0.9999999999999996+0j)\n"
     ]
    }
   ],
   "source": [
    "NN = 9 #number of iterations\n",
    "res_theta_0 = np.zeros(NN+1)\n",
    "res_theta_1 = np.zeros(NN+1)\n",
    "res_theta_2 = np.zeros(NN+1)\n",
    "\n",
    "res_theta_0[0] = 0.\n",
    "res_theta_1[0] = 0.\n",
    "res_theta_2[0] = 0.\n",
    "\n",
    "res_energy = np.zeros(NN+1)\n",
    "res_energy[0] = np.real(H_target.expt_value(psi_0))\n",
    "\n",
    "psi_ini = np.array([[complex(0.) for i in range(basis.Ns)]for j in range(NN+1)])\n",
    "psi_ini[0] = psi_0\n",
    "#psi_ini[0] = eigenvectors[:,0]\n",
    "\n",
    "res_gauss_law = np.array([complex(0.) for i in range(NN+1)])\n",
    "res_gauss_law[0] = Gauss_law_0.expt_value(psi_0)**2 + Gauss_law_1.expt_value(psi_0)**2  + Gauss_law_2.expt_value(psi_0)**2 \n",
    "\n",
    "\n",
    "print(extract_state(np.array([res_theta_0[0],res_theta_1[0],res_theta_2[0]]),psi_ini[0]))\n",
    "#print(res_gauss_law)\n",
    "print(np.dot(extract_state(np.array([res_theta_0[0],res_theta_1[0],res_theta_2[0]]),psi_ini[0]),psi_0))\n"
   ]
  },
  {
   "cell_type": "code",
   "execution_count": 87,
   "id": "fa0cc87d",
   "metadata": {},
   "outputs": [
    {
     "name": "stdout",
     "output_type": "stream",
     "text": [
      "2021-11-09 14:24:51.907934\n"
     ]
    },
    {
     "ename": "KeyboardInterrupt",
     "evalue": "",
     "output_type": "error",
     "traceback": [
      "\u001b[0;31m---------------------------------------------------------------------------\u001b[0m",
      "\u001b[0;31mKeyboardInterrupt\u001b[0m                         Traceback (most recent call last)",
      "\u001b[0;32m<ipython-input-87-f66edced18f7>\u001b[0m in \u001b[0;36m<module>\u001b[0;34m\u001b[0m\n\u001b[1;32m      7\u001b[0m     \u001b[0mresopt\u001b[0m \u001b[0;34m=\u001b[0m \u001b[0;36m0\u001b[0m\u001b[0;34m\u001b[0m\u001b[0;34m\u001b[0m\u001b[0m\n\u001b[1;32m      8\u001b[0m     \u001b[0mprint\u001b[0m\u001b[0;34m(\u001b[0m\u001b[0mdatetime\u001b[0m\u001b[0;34m.\u001b[0m\u001b[0mdatetime\u001b[0m\u001b[0;34m.\u001b[0m\u001b[0mnow\u001b[0m\u001b[0;34m(\u001b[0m\u001b[0;34m)\u001b[0m\u001b[0;34m)\u001b[0m\u001b[0;34m\u001b[0m\u001b[0;34m\u001b[0m\u001b[0m\n\u001b[0;32m----> 9\u001b[0;31m     \u001b[0mresbrute\u001b[0m \u001b[0;34m=\u001b[0m \u001b[0mbrute\u001b[0m\u001b[0;34m(\u001b[0m\u001b[0mextract_energy\u001b[0m\u001b[0;34m,\u001b[0m \u001b[0mbrute_ranges\u001b[0m\u001b[0;34m,\u001b[0m \u001b[0margs\u001b[0m \u001b[0;34m=\u001b[0m \u001b[0;34m(\u001b[0m\u001b[0mpsi_ini\u001b[0m\u001b[0;34m[\u001b[0m\u001b[0mi\u001b[0m\u001b[0;34m]\u001b[0m\u001b[0;34m,\u001b[0m\u001b[0;36m1\u001b[0m\u001b[0;34m)\u001b[0m \u001b[0;34m,\u001b[0m\u001b[0mfull_output\u001b[0m \u001b[0;34m=\u001b[0m \u001b[0;32mTrue\u001b[0m\u001b[0;34m)\u001b[0m\u001b[0;34m\u001b[0m\u001b[0;34m\u001b[0m\u001b[0m\n\u001b[0m\u001b[1;32m     10\u001b[0m     \u001b[0mprint\u001b[0m\u001b[0;34m(\u001b[0m\u001b[0mdatetime\u001b[0m\u001b[0;34m.\u001b[0m\u001b[0mdatetime\u001b[0m\u001b[0;34m.\u001b[0m\u001b[0mnow\u001b[0m\u001b[0;34m(\u001b[0m\u001b[0;34m)\u001b[0m\u001b[0;34m)\u001b[0m\u001b[0;34m\u001b[0m\u001b[0;34m\u001b[0m\u001b[0m\n\u001b[1;32m     11\u001b[0m     \u001b[0mresopt\u001b[0m \u001b[0;34m=\u001b[0m \u001b[0mminimize\u001b[0m\u001b[0;34m(\u001b[0m\u001b[0mfun\u001b[0m \u001b[0;34m=\u001b[0m \u001b[0mextract_energy\u001b[0m\u001b[0;34m,\u001b[0m\u001b[0mx0\u001b[0m \u001b[0;34m=\u001b[0m \u001b[0mresbrute\u001b[0m\u001b[0;34m[\u001b[0m\u001b[0;36m0\u001b[0m\u001b[0;34m]\u001b[0m\u001b[0;34m,\u001b[0m\u001b[0margs\u001b[0m \u001b[0;34m=\u001b[0m \u001b[0;34m(\u001b[0m\u001b[0mpsi_ini\u001b[0m\u001b[0;34m[\u001b[0m\u001b[0mi\u001b[0m\u001b[0;34m]\u001b[0m\u001b[0;34m,\u001b[0m\u001b[0;36m1\u001b[0m\u001b[0;34m)\u001b[0m\u001b[0;34m,\u001b[0m\u001b[0mmethod\u001b[0m \u001b[0;34m=\u001b[0m \u001b[0;34m\"Nelder-Mead\"\u001b[0m \u001b[0;34m,\u001b[0m\u001b[0mtol\u001b[0m \u001b[0;34m=\u001b[0m \u001b[0;36m1e-8\u001b[0m\u001b[0;34m)\u001b[0m\u001b[0;34m\u001b[0m\u001b[0;34m\u001b[0m\u001b[0m\n",
      "\u001b[0;32m~/anaconda3/lib/python3.8/site-packages/scipy/optimize/optimize.py\u001b[0m in \u001b[0;36mbrute\u001b[0;34m(func, ranges, args, Ns, full_output, finish, disp, workers)\u001b[0m\n\u001b[1;32m   3260\u001b[0m     \u001b[0;31m# iterate over input arrays, possibly in parallel\u001b[0m\u001b[0;34m\u001b[0m\u001b[0;34m\u001b[0m\u001b[0;34m\u001b[0m\u001b[0m\n\u001b[1;32m   3261\u001b[0m     \u001b[0;32mwith\u001b[0m \u001b[0mMapWrapper\u001b[0m\u001b[0;34m(\u001b[0m\u001b[0mpool\u001b[0m\u001b[0;34m=\u001b[0m\u001b[0mworkers\u001b[0m\u001b[0;34m)\u001b[0m \u001b[0;32mas\u001b[0m \u001b[0mmapper\u001b[0m\u001b[0;34m:\u001b[0m\u001b[0;34m\u001b[0m\u001b[0;34m\u001b[0m\u001b[0m\n\u001b[0;32m-> 3262\u001b[0;31m         \u001b[0mJout\u001b[0m \u001b[0;34m=\u001b[0m \u001b[0mnp\u001b[0m\u001b[0;34m.\u001b[0m\u001b[0marray\u001b[0m\u001b[0;34m(\u001b[0m\u001b[0mlist\u001b[0m\u001b[0;34m(\u001b[0m\u001b[0mmapper\u001b[0m\u001b[0;34m(\u001b[0m\u001b[0mwrapped_func\u001b[0m\u001b[0;34m,\u001b[0m \u001b[0mgrid\u001b[0m\u001b[0;34m)\u001b[0m\u001b[0;34m)\u001b[0m\u001b[0;34m)\u001b[0m\u001b[0;34m\u001b[0m\u001b[0;34m\u001b[0m\u001b[0m\n\u001b[0m\u001b[1;32m   3263\u001b[0m         \u001b[0;32mif\u001b[0m \u001b[0;34m(\u001b[0m\u001b[0mN\u001b[0m \u001b[0;34m==\u001b[0m \u001b[0;36m1\u001b[0m\u001b[0;34m)\u001b[0m\u001b[0;34m:\u001b[0m\u001b[0;34m\u001b[0m\u001b[0;34m\u001b[0m\u001b[0m\n\u001b[1;32m   3264\u001b[0m             \u001b[0mgrid\u001b[0m \u001b[0;34m=\u001b[0m \u001b[0;34m(\u001b[0m\u001b[0mgrid\u001b[0m\u001b[0;34m,\u001b[0m\u001b[0;34m)\u001b[0m\u001b[0;34m\u001b[0m\u001b[0;34m\u001b[0m\u001b[0m\n",
      "\u001b[0;32m~/anaconda3/lib/python3.8/site-packages/scipy/optimize/optimize.py\u001b[0m in \u001b[0;36m__call__\u001b[0;34m(self, x)\u001b[0m\n\u001b[1;32m   3332\u001b[0m     \u001b[0;32mdef\u001b[0m \u001b[0m__call__\u001b[0m\u001b[0;34m(\u001b[0m\u001b[0mself\u001b[0m\u001b[0;34m,\u001b[0m \u001b[0mx\u001b[0m\u001b[0;34m)\u001b[0m\u001b[0;34m:\u001b[0m\u001b[0;34m\u001b[0m\u001b[0;34m\u001b[0m\u001b[0m\n\u001b[1;32m   3333\u001b[0m         \u001b[0;31m# flatten needed for one dimensional case.\u001b[0m\u001b[0;34m\u001b[0m\u001b[0;34m\u001b[0m\u001b[0;34m\u001b[0m\u001b[0m\n\u001b[0;32m-> 3334\u001b[0;31m         \u001b[0;32mreturn\u001b[0m \u001b[0mself\u001b[0m\u001b[0;34m.\u001b[0m\u001b[0mf\u001b[0m\u001b[0;34m(\u001b[0m\u001b[0mnp\u001b[0m\u001b[0;34m.\u001b[0m\u001b[0masarray\u001b[0m\u001b[0;34m(\u001b[0m\u001b[0mx\u001b[0m\u001b[0;34m)\u001b[0m\u001b[0;34m.\u001b[0m\u001b[0mflatten\u001b[0m\u001b[0;34m(\u001b[0m\u001b[0;34m)\u001b[0m\u001b[0;34m,\u001b[0m \u001b[0;34m*\u001b[0m\u001b[0mself\u001b[0m\u001b[0;34m.\u001b[0m\u001b[0margs\u001b[0m\u001b[0;34m)\u001b[0m\u001b[0;34m\u001b[0m\u001b[0;34m\u001b[0m\u001b[0m\n\u001b[0m\u001b[1;32m   3335\u001b[0m \u001b[0;34m\u001b[0m\u001b[0m\n\u001b[1;32m   3336\u001b[0m \u001b[0;34m\u001b[0m\u001b[0m\n",
      "\u001b[0;32m<ipython-input-85-34fef7d67279>\u001b[0m in \u001b[0;36mextract_energy\u001b[0;34m(theta, psi, a)\u001b[0m\n\u001b[1;32m      2\u001b[0m \u001b[0;32mdef\u001b[0m \u001b[0mextract_energy\u001b[0m\u001b[0;34m(\u001b[0m\u001b[0mtheta\u001b[0m\u001b[0;34m,\u001b[0m\u001b[0mpsi\u001b[0m\u001b[0;34m,\u001b[0m\u001b[0ma\u001b[0m\u001b[0;34m)\u001b[0m\u001b[0;34m:\u001b[0m\u001b[0;34m\u001b[0m\u001b[0;34m\u001b[0m\u001b[0m\n\u001b[1;32m      3\u001b[0m     \u001b[0mpsi_t0\u001b[0m \u001b[0;34m=\u001b[0m \u001b[0mH_violation\u001b[0m\u001b[0;34m.\u001b[0m\u001b[0mevolve\u001b[0m\u001b[0;34m(\u001b[0m\u001b[0mpsi\u001b[0m\u001b[0;34m,\u001b[0m\u001b[0;36m0.0\u001b[0m\u001b[0;34m,\u001b[0m\u001b[0mtheta\u001b[0m\u001b[0;34m[\u001b[0m\u001b[0;36m0\u001b[0m\u001b[0;34m]\u001b[0m\u001b[0;34m)\u001b[0m\u001b[0;34m\u001b[0m\u001b[0;34m\u001b[0m\u001b[0m\n\u001b[0;32m----> 4\u001b[0;31m     \u001b[0mpsi_t1\u001b[0m \u001b[0;34m=\u001b[0m \u001b[0mH_target\u001b[0m\u001b[0;34m.\u001b[0m\u001b[0mevolve\u001b[0m\u001b[0;34m(\u001b[0m\u001b[0mpsi_t0\u001b[0m\u001b[0;34m,\u001b[0m\u001b[0;36m0.0\u001b[0m\u001b[0;34m,\u001b[0m\u001b[0mtheta\u001b[0m\u001b[0;34m[\u001b[0m\u001b[0;36m1\u001b[0m\u001b[0;34m]\u001b[0m\u001b[0;34m)\u001b[0m\u001b[0;34m\u001b[0m\u001b[0;34m\u001b[0m\u001b[0m\n\u001b[0m\u001b[1;32m      5\u001b[0m     \u001b[0mpsi_t2\u001b[0m \u001b[0;34m=\u001b[0m \u001b[0mH_violation\u001b[0m\u001b[0;34m.\u001b[0m\u001b[0mevolve\u001b[0m\u001b[0;34m(\u001b[0m\u001b[0mpsi_t1\u001b[0m\u001b[0;34m,\u001b[0m\u001b[0;36m0.0\u001b[0m\u001b[0;34m,\u001b[0m\u001b[0mtheta\u001b[0m\u001b[0;34m[\u001b[0m\u001b[0;36m2\u001b[0m\u001b[0;34m]\u001b[0m\u001b[0;34m)\u001b[0m\u001b[0;34m\u001b[0m\u001b[0;34m\u001b[0m\u001b[0m\n\u001b[1;32m      6\u001b[0m \u001b[0;34m\u001b[0m\u001b[0m\n",
      "\u001b[0;32m~/anaconda3/lib/python3.8/site-packages/quspin/operators/hamiltonian_core.py\u001b[0m in \u001b[0;36mevolve\u001b[0;34m(self, v0, t0, times, eom, solver_name, stack_state, verbose, iterate, imag_time, **solver_args)\u001b[0m\n\u001b[1;32m   1487\u001b[0m                         \u001b[0;32mraise\u001b[0m \u001b[0mValueError\u001b[0m\u001b[0;34m(\u001b[0m\u001b[0;34m\"'{} equation' not recognized, must be 'SE' or 'LvNE'\"\u001b[0m\u001b[0;34m.\u001b[0m\u001b[0mformat\u001b[0m\u001b[0;34m(\u001b[0m\u001b[0meom\u001b[0m\u001b[0;34m)\u001b[0m\u001b[0;34m)\u001b[0m\u001b[0;34m\u001b[0m\u001b[0;34m\u001b[0m\u001b[0m\n\u001b[1;32m   1488\u001b[0m \u001b[0;34m\u001b[0m\u001b[0m\n\u001b[0;32m-> 1489\u001b[0;31m                 \u001b[0;32mreturn\u001b[0m \u001b[0mevolve\u001b[0m\u001b[0;34m(\u001b[0m\u001b[0;34m*\u001b[0m\u001b[0mevolve_args\u001b[0m\u001b[0;34m,\u001b[0m\u001b[0;34m**\u001b[0m\u001b[0mevolve_kwargs\u001b[0m\u001b[0;34m)\u001b[0m\u001b[0;34m\u001b[0m\u001b[0;34m\u001b[0m\u001b[0m\n\u001b[0m\u001b[1;32m   1490\u001b[0m \u001b[0;34m\u001b[0m\u001b[0m\n\u001b[1;32m   1491\u001b[0m         \u001b[0;31m### routines to change object type\u001b[0m\u001b[0;34m\u001b[0m\u001b[0;34m\u001b[0m\u001b[0;34m\u001b[0m\u001b[0m\n",
      "\u001b[0;32m~/anaconda3/lib/python3.8/site-packages/quspin/tools/evolution.py\u001b[0m in \u001b[0;36mevolve\u001b[0;34m(v0, t0, times, f, solver_name, real, stack_state, verbose, imag_time, iterate, f_params, **solver_args)\u001b[0m\n\u001b[1;32m    330\u001b[0m \u001b[0;34m\u001b[0m\u001b[0m\n\u001b[1;32m    331\u001b[0m         \u001b[0;32mif\u001b[0m \u001b[0m_np\u001b[0m\u001b[0;34m.\u001b[0m\u001b[0misscalar\u001b[0m\u001b[0;34m(\u001b[0m\u001b[0mtimes\u001b[0m\u001b[0;34m)\u001b[0m\u001b[0;34m:\u001b[0m\u001b[0;34m\u001b[0m\u001b[0;34m\u001b[0m\u001b[0m\n\u001b[0;32m--> 332\u001b[0;31m                 \u001b[0;32mreturn\u001b[0m \u001b[0m_evolve_scalar\u001b[0m\u001b[0;34m(\u001b[0m\u001b[0msolver\u001b[0m\u001b[0;34m,\u001b[0m\u001b[0mv0\u001b[0m\u001b[0;34m,\u001b[0m\u001b[0mt0\u001b[0m\u001b[0;34m,\u001b[0m\u001b[0mtimes\u001b[0m\u001b[0;34m,\u001b[0m\u001b[0;34m*\u001b[0m\u001b[0moutput_args\u001b[0m\u001b[0;34m)\u001b[0m\u001b[0;34m\u001b[0m\u001b[0;34m\u001b[0m\u001b[0m\n\u001b[0m\u001b[1;32m    333\u001b[0m         \u001b[0;32melse\u001b[0m\u001b[0;34m:\u001b[0m\u001b[0;34m\u001b[0m\u001b[0;34m\u001b[0m\u001b[0m\n\u001b[1;32m    334\u001b[0m                 \u001b[0;32mif\u001b[0m \u001b[0miterate\u001b[0m\u001b[0;34m:\u001b[0m\u001b[0;34m\u001b[0m\u001b[0;34m\u001b[0m\u001b[0m\n",
      "\u001b[0;32m~/anaconda3/lib/python3.8/site-packages/quspin/tools/evolution.py\u001b[0m in \u001b[0;36m_evolve_scalar\u001b[0;34m(solver, v0, t0, time, *output_args)\u001b[0m\n\u001b[1;32m    364\u001b[0m                 \u001b[0;32mreturn\u001b[0m \u001b[0m_format_output\u001b[0m\u001b[0;34m(\u001b[0m\u001b[0mv0\u001b[0m\u001b[0;34m,\u001b[0m\u001b[0;34m*\u001b[0m\u001b[0moutput_args\u001b[0m\u001b[0;34m)\u001b[0m\u001b[0;34m\u001b[0m\u001b[0;34m\u001b[0m\u001b[0m\n\u001b[1;32m    365\u001b[0m \u001b[0;34m\u001b[0m\u001b[0m\n\u001b[0;32m--> 366\u001b[0;31m         \u001b[0msolver\u001b[0m\u001b[0;34m.\u001b[0m\u001b[0mintegrate\u001b[0m\u001b[0;34m(\u001b[0m\u001b[0mtime\u001b[0m\u001b[0;34m)\u001b[0m\u001b[0;34m\u001b[0m\u001b[0;34m\u001b[0m\u001b[0m\n\u001b[0m\u001b[1;32m    367\u001b[0m         \u001b[0;32mif\u001b[0m \u001b[0msolver\u001b[0m\u001b[0;34m.\u001b[0m\u001b[0msuccessful\u001b[0m\u001b[0;34m(\u001b[0m\u001b[0;34m)\u001b[0m\u001b[0;34m:\u001b[0m\u001b[0;34m\u001b[0m\u001b[0;34m\u001b[0m\u001b[0m\n\u001b[1;32m    368\u001b[0m                 \u001b[0;32mreturn\u001b[0m \u001b[0m_format_output\u001b[0m\u001b[0;34m(\u001b[0m\u001b[0msolver\u001b[0m\u001b[0;34m.\u001b[0m\u001b[0m_y\u001b[0m\u001b[0;34m,\u001b[0m\u001b[0;34m*\u001b[0m\u001b[0moutput_args\u001b[0m\u001b[0;34m)\u001b[0m\u001b[0;34m\u001b[0m\u001b[0;34m\u001b[0m\u001b[0m\n",
      "\u001b[0;32m~/anaconda3/lib/python3.8/site-packages/scipy/integrate/_ode.py\u001b[0m in \u001b[0;36mintegrate\u001b[0;34m(self, t, step, relax)\u001b[0m\n\u001b[1;32m    431\u001b[0m \u001b[0;34m\u001b[0m\u001b[0m\n\u001b[1;32m    432\u001b[0m         \u001b[0;32mtry\u001b[0m\u001b[0;34m:\u001b[0m\u001b[0;34m\u001b[0m\u001b[0;34m\u001b[0m\u001b[0m\n\u001b[0;32m--> 433\u001b[0;31m             self._y, self.t = mth(self.f, self.jac or (lambda: None),\n\u001b[0m\u001b[1;32m    434\u001b[0m                                   \u001b[0mself\u001b[0m\u001b[0;34m.\u001b[0m\u001b[0m_y\u001b[0m\u001b[0;34m,\u001b[0m \u001b[0mself\u001b[0m\u001b[0;34m.\u001b[0m\u001b[0mt\u001b[0m\u001b[0;34m,\u001b[0m \u001b[0mt\u001b[0m\u001b[0;34m,\u001b[0m\u001b[0;34m\u001b[0m\u001b[0;34m\u001b[0m\u001b[0m\n\u001b[1;32m    435\u001b[0m                                   self.f_params, self.jac_params)\n",
      "\u001b[0;32m~/anaconda3/lib/python3.8/site-packages/scipy/integrate/_ode.py\u001b[0m in \u001b[0;36mrun\u001b[0;34m(self, f, jac, y0, t0, t1, f_params, jac_params)\u001b[0m\n\u001b[1;32m   1174\u001b[0m \u001b[0;34m\u001b[0m\u001b[0m\n\u001b[1;32m   1175\u001b[0m     \u001b[0;32mdef\u001b[0m \u001b[0mrun\u001b[0m\u001b[0;34m(\u001b[0m\u001b[0mself\u001b[0m\u001b[0;34m,\u001b[0m \u001b[0mf\u001b[0m\u001b[0;34m,\u001b[0m \u001b[0mjac\u001b[0m\u001b[0;34m,\u001b[0m \u001b[0my0\u001b[0m\u001b[0;34m,\u001b[0m \u001b[0mt0\u001b[0m\u001b[0;34m,\u001b[0m \u001b[0mt1\u001b[0m\u001b[0;34m,\u001b[0m \u001b[0mf_params\u001b[0m\u001b[0;34m,\u001b[0m \u001b[0mjac_params\u001b[0m\u001b[0;34m)\u001b[0m\u001b[0;34m:\u001b[0m\u001b[0;34m\u001b[0m\u001b[0;34m\u001b[0m\u001b[0m\n\u001b[0;32m-> 1176\u001b[0;31m         x, y, iwork, istate = self.runner(*((f, t0, y0, t1) +\n\u001b[0m\u001b[1;32m   1177\u001b[0m                                           tuple(self.call_args) + (f_params,)))\n\u001b[1;32m   1178\u001b[0m         \u001b[0mself\u001b[0m\u001b[0;34m.\u001b[0m\u001b[0mistate\u001b[0m \u001b[0;34m=\u001b[0m \u001b[0mistate\u001b[0m\u001b[0;34m\u001b[0m\u001b[0;34m\u001b[0m\u001b[0m\n",
      "\u001b[0;32m~/anaconda3/lib/python3.8/site-packages/quspin/tools/evolution.py\u001b[0m in \u001b[0;36m_cmplx_f\u001b[0;34m(t, y, f, f_params)\u001b[0m\n\u001b[1;32m    338\u001b[0m \u001b[0;34m\u001b[0m\u001b[0m\n\u001b[1;32m    339\u001b[0m \u001b[0;34m\u001b[0m\u001b[0m\n\u001b[0;32m--> 340\u001b[0;31m \u001b[0;32mdef\u001b[0m \u001b[0m_cmplx_f\u001b[0m\u001b[0;34m(\u001b[0m\u001b[0mt\u001b[0m\u001b[0;34m,\u001b[0m\u001b[0my\u001b[0m\u001b[0;34m,\u001b[0m\u001b[0mf\u001b[0m\u001b[0;34m,\u001b[0m\u001b[0mf_params\u001b[0m\u001b[0;34m)\u001b[0m\u001b[0;34m:\u001b[0m\u001b[0;34m\u001b[0m\u001b[0;34m\u001b[0m\u001b[0m\n\u001b[0m\u001b[1;32m    341\u001b[0m         \u001b[0myc\u001b[0m \u001b[0;34m=\u001b[0m \u001b[0my\u001b[0m\u001b[0;34m.\u001b[0m\u001b[0mview\u001b[0m\u001b[0;34m(\u001b[0m\u001b[0m_np\u001b[0m\u001b[0;34m.\u001b[0m\u001b[0mcomplex128\u001b[0m\u001b[0;34m)\u001b[0m\u001b[0;34m\u001b[0m\u001b[0;34m\u001b[0m\u001b[0m\n\u001b[1;32m    342\u001b[0m         \u001b[0;32mreturn\u001b[0m \u001b[0mf\u001b[0m\u001b[0;34m(\u001b[0m\u001b[0mt\u001b[0m\u001b[0;34m,\u001b[0m\u001b[0myc\u001b[0m\u001b[0;34m,\u001b[0m\u001b[0;34m*\u001b[0m\u001b[0mf_params\u001b[0m\u001b[0;34m)\u001b[0m\u001b[0;34m.\u001b[0m\u001b[0mview\u001b[0m\u001b[0;34m(\u001b[0m\u001b[0m_np\u001b[0m\u001b[0;34m.\u001b[0m\u001b[0mfloat64\u001b[0m\u001b[0;34m)\u001b[0m\u001b[0;34m\u001b[0m\u001b[0;34m\u001b[0m\u001b[0m\n",
      "\u001b[0;31mKeyboardInterrupt\u001b[0m: "
     ]
    }
   ],
   "source": [
    "from scipy.optimize import brute\n",
    "from scipy.optimize import minimize\n",
    "import datetime\n",
    "brute_ranges = (slice(-1.,22.,2.),slice(-1.,22.,2.),slice(-1.,22.,2.))\n",
    "for i in range(NN):\n",
    "    resbrute = 0\n",
    "    resopt = 0\n",
    "    print(datetime.datetime.now())\n",
    "    resbrute = brute(extract_energy, brute_ranges, args = (psi_ini[i],1) ,full_output = True)\n",
    "    print(datetime.datetime.now())\n",
    "    resopt = minimize(fun = extract_energy,x0 = resbrute[0],args = (psi_ini[i],1),method = \"Nelder-Mead\" ,tol = 1e-8)\n",
    "    res_theta_0[i+1] = resopt.x[0]\n",
    "    res_theta_1[i+1] = resopt.x[1]\n",
    "    res_theta_2[i+1] = resopt.x[2]\n",
    "    \n",
    "    res_energy[i+1] = resopt.fun\n",
    "    \n",
    "    psi_ini[i+1] = extract_state(np.array([resopt.x[0],resopt.x[1],resopt.x[2]]),psi_ini[i])\n",
    "    res_gauss_law[i+1] = Gauss_law.expt_value(extract_state(np.array([resopt.x[0],resopt.x[1],resopt.x[2]]),psi_ini[i]))"
   ]
  },
  {
   "cell_type": "code",
   "execution_count": 14,
   "id": "ed2e6d83",
   "metadata": {},
   "outputs": [
    {
     "ename": "KeyboardInterrupt",
     "evalue": "",
     "output_type": "error",
     "traceback": [
      "\u001b[0;31m---------------------------------------------------------------------------\u001b[0m",
      "\u001b[0;31mKeyboardInterrupt\u001b[0m                         Traceback (most recent call last)",
      "\u001b[0;32m<ipython-input-14-ddd27cf23086>\u001b[0m in \u001b[0;36m<module>\u001b[0;34m\u001b[0m\n\u001b[1;32m      3\u001b[0m \u001b[0mbrute_ranges\u001b[0m \u001b[0;34m=\u001b[0m \u001b[0;34m(\u001b[0m\u001b[0mslice\u001b[0m\u001b[0;34m(\u001b[0m\u001b[0;34m-\u001b[0m\u001b[0;36m10.\u001b[0m\u001b[0;34m,\u001b[0m\u001b[0;36m100.\u001b[0m\u001b[0;34m,\u001b[0m\u001b[0;36m2.\u001b[0m\u001b[0;34m)\u001b[0m\u001b[0;34m,\u001b[0m\u001b[0mslice\u001b[0m\u001b[0;34m(\u001b[0m\u001b[0;34m-\u001b[0m\u001b[0;36m10.\u001b[0m\u001b[0;34m,\u001b[0m\u001b[0;36m100.\u001b[0m\u001b[0;34m,\u001b[0m\u001b[0;36m2.\u001b[0m\u001b[0;34m)\u001b[0m\u001b[0;34m,\u001b[0m\u001b[0mslice\u001b[0m\u001b[0;34m(\u001b[0m\u001b[0;34m-\u001b[0m\u001b[0;36m10.\u001b[0m\u001b[0;34m,\u001b[0m\u001b[0;36m100.\u001b[0m\u001b[0;34m,\u001b[0m\u001b[0;36m2.\u001b[0m\u001b[0;34m)\u001b[0m\u001b[0;34m)\u001b[0m\u001b[0;34m\u001b[0m\u001b[0;34m\u001b[0m\u001b[0m\n\u001b[1;32m      4\u001b[0m \u001b[0;34m\u001b[0m\u001b[0m\n\u001b[0;32m----> 5\u001b[0;31m \u001b[0mresbrute\u001b[0m \u001b[0;34m=\u001b[0m \u001b[0mbrute\u001b[0m\u001b[0;34m(\u001b[0m\u001b[0mextract_energy\u001b[0m\u001b[0;34m,\u001b[0m \u001b[0mbrute_ranges\u001b[0m\u001b[0;34m,\u001b[0m \u001b[0margs\u001b[0m \u001b[0;34m=\u001b[0m \u001b[0;34m(\u001b[0m\u001b[0mpsi_0\u001b[0m\u001b[0;34m,\u001b[0m\u001b[0;36m1\u001b[0m\u001b[0;34m)\u001b[0m \u001b[0;34m,\u001b[0m\u001b[0mfull_output\u001b[0m \u001b[0;34m=\u001b[0m \u001b[0;32mTrue\u001b[0m\u001b[0;34m)\u001b[0m\u001b[0;34m\u001b[0m\u001b[0;34m\u001b[0m\u001b[0m\n\u001b[0m\u001b[1;32m      6\u001b[0m \u001b[0mresopt\u001b[0m \u001b[0;34m=\u001b[0m \u001b[0mminimize\u001b[0m\u001b[0;34m(\u001b[0m\u001b[0mfun\u001b[0m \u001b[0;34m=\u001b[0m \u001b[0mextract_energy\u001b[0m\u001b[0;34m,\u001b[0m\u001b[0mx0\u001b[0m \u001b[0;34m=\u001b[0m \u001b[0mresbrute\u001b[0m\u001b[0;34m[\u001b[0m\u001b[0;36m0\u001b[0m\u001b[0;34m]\u001b[0m\u001b[0;34m,\u001b[0m\u001b[0margs\u001b[0m \u001b[0;34m=\u001b[0m \u001b[0;34m(\u001b[0m\u001b[0mpsi_0\u001b[0m\u001b[0;34m,\u001b[0m\u001b[0;36m1\u001b[0m\u001b[0;34m)\u001b[0m\u001b[0;34m,\u001b[0m\u001b[0mmethod\u001b[0m \u001b[0;34m=\u001b[0m \u001b[0;34m\"Nelder-Mead\"\u001b[0m \u001b[0;34m,\u001b[0m\u001b[0mtol\u001b[0m \u001b[0;34m=\u001b[0m \u001b[0;36m1e-8\u001b[0m\u001b[0;34m)\u001b[0m\u001b[0;34m\u001b[0m\u001b[0;34m\u001b[0m\u001b[0m\n\u001b[1;32m      7\u001b[0m \u001b[0mpsi_opt\u001b[0m \u001b[0;34m=\u001b[0m \u001b[0mextract_state\u001b[0m\u001b[0;34m(\u001b[0m\u001b[0mnp\u001b[0m\u001b[0;34m.\u001b[0m\u001b[0marray\u001b[0m\u001b[0;34m(\u001b[0m\u001b[0;34m[\u001b[0m\u001b[0mresopt\u001b[0m\u001b[0;34m.\u001b[0m\u001b[0mx\u001b[0m\u001b[0;34m[\u001b[0m\u001b[0;36m0\u001b[0m\u001b[0;34m]\u001b[0m\u001b[0;34m,\u001b[0m\u001b[0mresopt\u001b[0m\u001b[0;34m.\u001b[0m\u001b[0mx\u001b[0m\u001b[0;34m[\u001b[0m\u001b[0;36m1\u001b[0m\u001b[0;34m]\u001b[0m\u001b[0;34m,\u001b[0m\u001b[0mresopt\u001b[0m\u001b[0;34m.\u001b[0m\u001b[0mx\u001b[0m\u001b[0;34m[\u001b[0m\u001b[0;36m2\u001b[0m\u001b[0;34m]\u001b[0m\u001b[0;34m]\u001b[0m\u001b[0;34m)\u001b[0m\u001b[0;34m,\u001b[0m\u001b[0mpsi_0\u001b[0m\u001b[0;34m)\u001b[0m\u001b[0;34m\u001b[0m\u001b[0;34m\u001b[0m\u001b[0m\n",
      "\u001b[0;32m~/anaconda3/lib/python3.8/site-packages/scipy/optimize/optimize.py\u001b[0m in \u001b[0;36mbrute\u001b[0;34m(func, ranges, args, Ns, full_output, finish, disp, workers)\u001b[0m\n\u001b[1;32m   3260\u001b[0m     \u001b[0;31m# iterate over input arrays, possibly in parallel\u001b[0m\u001b[0;34m\u001b[0m\u001b[0;34m\u001b[0m\u001b[0;34m\u001b[0m\u001b[0m\n\u001b[1;32m   3261\u001b[0m     \u001b[0;32mwith\u001b[0m \u001b[0mMapWrapper\u001b[0m\u001b[0;34m(\u001b[0m\u001b[0mpool\u001b[0m\u001b[0;34m=\u001b[0m\u001b[0mworkers\u001b[0m\u001b[0;34m)\u001b[0m \u001b[0;32mas\u001b[0m \u001b[0mmapper\u001b[0m\u001b[0;34m:\u001b[0m\u001b[0;34m\u001b[0m\u001b[0;34m\u001b[0m\u001b[0m\n\u001b[0;32m-> 3262\u001b[0;31m         \u001b[0mJout\u001b[0m \u001b[0;34m=\u001b[0m \u001b[0mnp\u001b[0m\u001b[0;34m.\u001b[0m\u001b[0marray\u001b[0m\u001b[0;34m(\u001b[0m\u001b[0mlist\u001b[0m\u001b[0;34m(\u001b[0m\u001b[0mmapper\u001b[0m\u001b[0;34m(\u001b[0m\u001b[0mwrapped_func\u001b[0m\u001b[0;34m,\u001b[0m \u001b[0mgrid\u001b[0m\u001b[0;34m)\u001b[0m\u001b[0;34m)\u001b[0m\u001b[0;34m)\u001b[0m\u001b[0;34m\u001b[0m\u001b[0;34m\u001b[0m\u001b[0m\n\u001b[0m\u001b[1;32m   3263\u001b[0m         \u001b[0;32mif\u001b[0m \u001b[0;34m(\u001b[0m\u001b[0mN\u001b[0m \u001b[0;34m==\u001b[0m \u001b[0;36m1\u001b[0m\u001b[0;34m)\u001b[0m\u001b[0;34m:\u001b[0m\u001b[0;34m\u001b[0m\u001b[0;34m\u001b[0m\u001b[0m\n\u001b[1;32m   3264\u001b[0m             \u001b[0mgrid\u001b[0m \u001b[0;34m=\u001b[0m \u001b[0;34m(\u001b[0m\u001b[0mgrid\u001b[0m\u001b[0;34m,\u001b[0m\u001b[0;34m)\u001b[0m\u001b[0;34m\u001b[0m\u001b[0;34m\u001b[0m\u001b[0m\n",
      "\u001b[0;32m~/anaconda3/lib/python3.8/site-packages/scipy/optimize/optimize.py\u001b[0m in \u001b[0;36m__call__\u001b[0;34m(self, x)\u001b[0m\n\u001b[1;32m   3332\u001b[0m     \u001b[0;32mdef\u001b[0m \u001b[0m__call__\u001b[0m\u001b[0;34m(\u001b[0m\u001b[0mself\u001b[0m\u001b[0;34m,\u001b[0m \u001b[0mx\u001b[0m\u001b[0;34m)\u001b[0m\u001b[0;34m:\u001b[0m\u001b[0;34m\u001b[0m\u001b[0;34m\u001b[0m\u001b[0m\n\u001b[1;32m   3333\u001b[0m         \u001b[0;31m# flatten needed for one dimensional case.\u001b[0m\u001b[0;34m\u001b[0m\u001b[0;34m\u001b[0m\u001b[0;34m\u001b[0m\u001b[0m\n\u001b[0;32m-> 3334\u001b[0;31m         \u001b[0;32mreturn\u001b[0m \u001b[0mself\u001b[0m\u001b[0;34m.\u001b[0m\u001b[0mf\u001b[0m\u001b[0;34m(\u001b[0m\u001b[0mnp\u001b[0m\u001b[0;34m.\u001b[0m\u001b[0masarray\u001b[0m\u001b[0;34m(\u001b[0m\u001b[0mx\u001b[0m\u001b[0;34m)\u001b[0m\u001b[0;34m.\u001b[0m\u001b[0mflatten\u001b[0m\u001b[0;34m(\u001b[0m\u001b[0;34m)\u001b[0m\u001b[0;34m,\u001b[0m \u001b[0;34m*\u001b[0m\u001b[0mself\u001b[0m\u001b[0;34m.\u001b[0m\u001b[0margs\u001b[0m\u001b[0;34m)\u001b[0m\u001b[0;34m\u001b[0m\u001b[0;34m\u001b[0m\u001b[0m\n\u001b[0m\u001b[1;32m   3335\u001b[0m \u001b[0;34m\u001b[0m\u001b[0m\n\u001b[1;32m   3336\u001b[0m \u001b[0;34m\u001b[0m\u001b[0m\n",
      "\u001b[0;32m<ipython-input-13-aaf1515bae3e>\u001b[0m in \u001b[0;36mextract_energy\u001b[0;34m(theta, psi, a)\u001b[0m\n\u001b[1;32m      1\u001b[0m \u001b[0;32mdef\u001b[0m \u001b[0mextract_energy\u001b[0m\u001b[0;34m(\u001b[0m\u001b[0mtheta\u001b[0m\u001b[0;34m,\u001b[0m\u001b[0mpsi\u001b[0m\u001b[0;34m,\u001b[0m\u001b[0ma\u001b[0m\u001b[0;34m)\u001b[0m\u001b[0;34m:\u001b[0m\u001b[0;34m\u001b[0m\u001b[0;34m\u001b[0m\u001b[0m\n\u001b[1;32m      2\u001b[0m     \u001b[0mpsi_t0\u001b[0m \u001b[0;34m=\u001b[0m \u001b[0mH_violation\u001b[0m\u001b[0;34m.\u001b[0m\u001b[0mevolve\u001b[0m\u001b[0;34m(\u001b[0m\u001b[0mpsi\u001b[0m\u001b[0;34m,\u001b[0m\u001b[0;36m0.0\u001b[0m\u001b[0;34m,\u001b[0m\u001b[0mtheta\u001b[0m\u001b[0;34m[\u001b[0m\u001b[0;36m0\u001b[0m\u001b[0;34m]\u001b[0m\u001b[0;34m)\u001b[0m\u001b[0;34m\u001b[0m\u001b[0;34m\u001b[0m\u001b[0m\n\u001b[0;32m----> 3\u001b[0;31m     \u001b[0mpsi_t1\u001b[0m \u001b[0;34m=\u001b[0m \u001b[0mH_target\u001b[0m\u001b[0;34m.\u001b[0m\u001b[0mevolve\u001b[0m\u001b[0;34m(\u001b[0m\u001b[0mpsi_t0\u001b[0m\u001b[0;34m,\u001b[0m\u001b[0;36m0.0\u001b[0m\u001b[0;34m,\u001b[0m\u001b[0mtheta\u001b[0m\u001b[0;34m[\u001b[0m\u001b[0;36m1\u001b[0m\u001b[0;34m]\u001b[0m\u001b[0;34m)\u001b[0m\u001b[0;34m\u001b[0m\u001b[0;34m\u001b[0m\u001b[0m\n\u001b[0m\u001b[1;32m      4\u001b[0m     \u001b[0mpsi_t2\u001b[0m \u001b[0;34m=\u001b[0m \u001b[0mH_violation\u001b[0m\u001b[0;34m.\u001b[0m\u001b[0mevolve\u001b[0m\u001b[0;34m(\u001b[0m\u001b[0mpsi_t1\u001b[0m\u001b[0;34m,\u001b[0m\u001b[0;36m0.0\u001b[0m\u001b[0;34m,\u001b[0m\u001b[0mtheta\u001b[0m\u001b[0;34m[\u001b[0m\u001b[0;36m2\u001b[0m\u001b[0;34m]\u001b[0m\u001b[0;34m)\u001b[0m\u001b[0;34m\u001b[0m\u001b[0;34m\u001b[0m\u001b[0m\n\u001b[1;32m      5\u001b[0m \u001b[0;34m\u001b[0m\u001b[0m\n",
      "\u001b[0;32m~/anaconda3/lib/python3.8/site-packages/quspin/operators/hamiltonian_core.py\u001b[0m in \u001b[0;36mevolve\u001b[0;34m(self, v0, t0, times, eom, solver_name, stack_state, verbose, iterate, imag_time, **solver_args)\u001b[0m\n\u001b[1;32m   1487\u001b[0m                         \u001b[0;32mraise\u001b[0m \u001b[0mValueError\u001b[0m\u001b[0;34m(\u001b[0m\u001b[0;34m\"'{} equation' not recognized, must be 'SE' or 'LvNE'\"\u001b[0m\u001b[0;34m.\u001b[0m\u001b[0mformat\u001b[0m\u001b[0;34m(\u001b[0m\u001b[0meom\u001b[0m\u001b[0;34m)\u001b[0m\u001b[0;34m)\u001b[0m\u001b[0;34m\u001b[0m\u001b[0;34m\u001b[0m\u001b[0m\n\u001b[1;32m   1488\u001b[0m \u001b[0;34m\u001b[0m\u001b[0m\n\u001b[0;32m-> 1489\u001b[0;31m                 \u001b[0;32mreturn\u001b[0m \u001b[0mevolve\u001b[0m\u001b[0;34m(\u001b[0m\u001b[0;34m*\u001b[0m\u001b[0mevolve_args\u001b[0m\u001b[0;34m,\u001b[0m\u001b[0;34m**\u001b[0m\u001b[0mevolve_kwargs\u001b[0m\u001b[0;34m)\u001b[0m\u001b[0;34m\u001b[0m\u001b[0;34m\u001b[0m\u001b[0m\n\u001b[0m\u001b[1;32m   1490\u001b[0m \u001b[0;34m\u001b[0m\u001b[0m\n\u001b[1;32m   1491\u001b[0m         \u001b[0;31m### routines to change object type\u001b[0m\u001b[0;34m\u001b[0m\u001b[0;34m\u001b[0m\u001b[0;34m\u001b[0m\u001b[0m\n",
      "\u001b[0;32m~/anaconda3/lib/python3.8/site-packages/quspin/tools/evolution.py\u001b[0m in \u001b[0;36mevolve\u001b[0;34m(v0, t0, times, f, solver_name, real, stack_state, verbose, imag_time, iterate, f_params, **solver_args)\u001b[0m\n\u001b[1;32m    330\u001b[0m \u001b[0;34m\u001b[0m\u001b[0m\n\u001b[1;32m    331\u001b[0m         \u001b[0;32mif\u001b[0m \u001b[0m_np\u001b[0m\u001b[0;34m.\u001b[0m\u001b[0misscalar\u001b[0m\u001b[0;34m(\u001b[0m\u001b[0mtimes\u001b[0m\u001b[0;34m)\u001b[0m\u001b[0;34m:\u001b[0m\u001b[0;34m\u001b[0m\u001b[0;34m\u001b[0m\u001b[0m\n\u001b[0;32m--> 332\u001b[0;31m                 \u001b[0;32mreturn\u001b[0m \u001b[0m_evolve_scalar\u001b[0m\u001b[0;34m(\u001b[0m\u001b[0msolver\u001b[0m\u001b[0;34m,\u001b[0m\u001b[0mv0\u001b[0m\u001b[0;34m,\u001b[0m\u001b[0mt0\u001b[0m\u001b[0;34m,\u001b[0m\u001b[0mtimes\u001b[0m\u001b[0;34m,\u001b[0m\u001b[0;34m*\u001b[0m\u001b[0moutput_args\u001b[0m\u001b[0;34m)\u001b[0m\u001b[0;34m\u001b[0m\u001b[0;34m\u001b[0m\u001b[0m\n\u001b[0m\u001b[1;32m    333\u001b[0m         \u001b[0;32melse\u001b[0m\u001b[0;34m:\u001b[0m\u001b[0;34m\u001b[0m\u001b[0;34m\u001b[0m\u001b[0m\n\u001b[1;32m    334\u001b[0m                 \u001b[0;32mif\u001b[0m \u001b[0miterate\u001b[0m\u001b[0;34m:\u001b[0m\u001b[0;34m\u001b[0m\u001b[0;34m\u001b[0m\u001b[0m\n",
      "\u001b[0;32m~/anaconda3/lib/python3.8/site-packages/quspin/tools/evolution.py\u001b[0m in \u001b[0;36m_evolve_scalar\u001b[0;34m(solver, v0, t0, time, *output_args)\u001b[0m\n\u001b[1;32m    364\u001b[0m                 \u001b[0;32mreturn\u001b[0m \u001b[0m_format_output\u001b[0m\u001b[0;34m(\u001b[0m\u001b[0mv0\u001b[0m\u001b[0;34m,\u001b[0m\u001b[0;34m*\u001b[0m\u001b[0moutput_args\u001b[0m\u001b[0;34m)\u001b[0m\u001b[0;34m\u001b[0m\u001b[0;34m\u001b[0m\u001b[0m\n\u001b[1;32m    365\u001b[0m \u001b[0;34m\u001b[0m\u001b[0m\n\u001b[0;32m--> 366\u001b[0;31m         \u001b[0msolver\u001b[0m\u001b[0;34m.\u001b[0m\u001b[0mintegrate\u001b[0m\u001b[0;34m(\u001b[0m\u001b[0mtime\u001b[0m\u001b[0;34m)\u001b[0m\u001b[0;34m\u001b[0m\u001b[0;34m\u001b[0m\u001b[0m\n\u001b[0m\u001b[1;32m    367\u001b[0m         \u001b[0;32mif\u001b[0m \u001b[0msolver\u001b[0m\u001b[0;34m.\u001b[0m\u001b[0msuccessful\u001b[0m\u001b[0;34m(\u001b[0m\u001b[0;34m)\u001b[0m\u001b[0;34m:\u001b[0m\u001b[0;34m\u001b[0m\u001b[0;34m\u001b[0m\u001b[0m\n\u001b[1;32m    368\u001b[0m                 \u001b[0;32mreturn\u001b[0m \u001b[0m_format_output\u001b[0m\u001b[0;34m(\u001b[0m\u001b[0msolver\u001b[0m\u001b[0;34m.\u001b[0m\u001b[0m_y\u001b[0m\u001b[0;34m,\u001b[0m\u001b[0;34m*\u001b[0m\u001b[0moutput_args\u001b[0m\u001b[0;34m)\u001b[0m\u001b[0;34m\u001b[0m\u001b[0;34m\u001b[0m\u001b[0m\n",
      "\u001b[0;32m~/anaconda3/lib/python3.8/site-packages/scipy/integrate/_ode.py\u001b[0m in \u001b[0;36mintegrate\u001b[0;34m(self, t, step, relax)\u001b[0m\n\u001b[1;32m    431\u001b[0m \u001b[0;34m\u001b[0m\u001b[0m\n\u001b[1;32m    432\u001b[0m         \u001b[0;32mtry\u001b[0m\u001b[0;34m:\u001b[0m\u001b[0;34m\u001b[0m\u001b[0;34m\u001b[0m\u001b[0m\n\u001b[0;32m--> 433\u001b[0;31m             self._y, self.t = mth(self.f, self.jac or (lambda: None),\n\u001b[0m\u001b[1;32m    434\u001b[0m                                   \u001b[0mself\u001b[0m\u001b[0;34m.\u001b[0m\u001b[0m_y\u001b[0m\u001b[0;34m,\u001b[0m \u001b[0mself\u001b[0m\u001b[0;34m.\u001b[0m\u001b[0mt\u001b[0m\u001b[0;34m,\u001b[0m \u001b[0mt\u001b[0m\u001b[0;34m,\u001b[0m\u001b[0;34m\u001b[0m\u001b[0;34m\u001b[0m\u001b[0m\n\u001b[1;32m    435\u001b[0m                                   self.f_params, self.jac_params)\n",
      "\u001b[0;32m~/anaconda3/lib/python3.8/site-packages/scipy/integrate/_ode.py\u001b[0m in \u001b[0;36mrun\u001b[0;34m(self, f, jac, y0, t0, t1, f_params, jac_params)\u001b[0m\n\u001b[1;32m   1174\u001b[0m \u001b[0;34m\u001b[0m\u001b[0m\n\u001b[1;32m   1175\u001b[0m     \u001b[0;32mdef\u001b[0m \u001b[0mrun\u001b[0m\u001b[0;34m(\u001b[0m\u001b[0mself\u001b[0m\u001b[0;34m,\u001b[0m \u001b[0mf\u001b[0m\u001b[0;34m,\u001b[0m \u001b[0mjac\u001b[0m\u001b[0;34m,\u001b[0m \u001b[0my0\u001b[0m\u001b[0;34m,\u001b[0m \u001b[0mt0\u001b[0m\u001b[0;34m,\u001b[0m \u001b[0mt1\u001b[0m\u001b[0;34m,\u001b[0m \u001b[0mf_params\u001b[0m\u001b[0;34m,\u001b[0m \u001b[0mjac_params\u001b[0m\u001b[0;34m)\u001b[0m\u001b[0;34m:\u001b[0m\u001b[0;34m\u001b[0m\u001b[0;34m\u001b[0m\u001b[0m\n\u001b[0;32m-> 1176\u001b[0;31m         x, y, iwork, istate = self.runner(*((f, t0, y0, t1) +\n\u001b[0m\u001b[1;32m   1177\u001b[0m                                           tuple(self.call_args) + (f_params,)))\n\u001b[1;32m   1178\u001b[0m         \u001b[0mself\u001b[0m\u001b[0;34m.\u001b[0m\u001b[0mistate\u001b[0m \u001b[0;34m=\u001b[0m \u001b[0mistate\u001b[0m\u001b[0;34m\u001b[0m\u001b[0;34m\u001b[0m\u001b[0m\n",
      "\u001b[0;32m~/anaconda3/lib/python3.8/site-packages/quspin/tools/evolution.py\u001b[0m in \u001b[0;36m_cmplx_f\u001b[0;34m(t, y, f, f_params)\u001b[0m\n\u001b[1;32m    338\u001b[0m \u001b[0;34m\u001b[0m\u001b[0m\n\u001b[1;32m    339\u001b[0m \u001b[0;34m\u001b[0m\u001b[0m\n\u001b[0;32m--> 340\u001b[0;31m \u001b[0;32mdef\u001b[0m \u001b[0m_cmplx_f\u001b[0m\u001b[0;34m(\u001b[0m\u001b[0mt\u001b[0m\u001b[0;34m,\u001b[0m\u001b[0my\u001b[0m\u001b[0;34m,\u001b[0m\u001b[0mf\u001b[0m\u001b[0;34m,\u001b[0m\u001b[0mf_params\u001b[0m\u001b[0;34m)\u001b[0m\u001b[0;34m:\u001b[0m\u001b[0;34m\u001b[0m\u001b[0;34m\u001b[0m\u001b[0m\n\u001b[0m\u001b[1;32m    341\u001b[0m         \u001b[0myc\u001b[0m \u001b[0;34m=\u001b[0m \u001b[0my\u001b[0m\u001b[0;34m.\u001b[0m\u001b[0mview\u001b[0m\u001b[0;34m(\u001b[0m\u001b[0m_np\u001b[0m\u001b[0;34m.\u001b[0m\u001b[0mcomplex128\u001b[0m\u001b[0;34m)\u001b[0m\u001b[0;34m\u001b[0m\u001b[0;34m\u001b[0m\u001b[0m\n\u001b[1;32m    342\u001b[0m         \u001b[0;32mreturn\u001b[0m \u001b[0mf\u001b[0m\u001b[0;34m(\u001b[0m\u001b[0mt\u001b[0m\u001b[0;34m,\u001b[0m\u001b[0myc\u001b[0m\u001b[0;34m,\u001b[0m\u001b[0;34m*\u001b[0m\u001b[0mf_params\u001b[0m\u001b[0;34m)\u001b[0m\u001b[0;34m.\u001b[0m\u001b[0mview\u001b[0m\u001b[0;34m(\u001b[0m\u001b[0m_np\u001b[0m\u001b[0;34m.\u001b[0m\u001b[0mfloat64\u001b[0m\u001b[0;34m)\u001b[0m\u001b[0;34m\u001b[0m\u001b[0;34m\u001b[0m\u001b[0m\n",
      "\u001b[0;31mKeyboardInterrupt\u001b[0m: "
     ]
    }
   ],
   "source": [
    "from scipy.optimize import brute\n",
    "from scipy.optimize import minimize\n",
    "brute_ranges = (slice(-10.,100.,2.),slice(-10.,100.,2.),slice(-10.,100.,2.))\n",
    "\n",
    "resbrute = brute(extract_energy, brute_ranges, args = (psi_0,1) ,full_output = True)\n",
    "resopt = minimize(fun = extract_energy,x0 = resbrute[0],args = (psi_0,1),method = \"Nelder-Mead\" ,tol = 1e-8)\n",
    "psi_opt = extract_state(np.array([resopt.x[0],resopt.x[1],resopt.x[2]]),psi_0)\n",
    "res_gauss_law = Gauss_law.expt_value(extract_state(np.array([resopt.x[0],resopt.x[1],resopt.x[2]]),psi_0))"
   ]
  },
  {
   "cell_type": "code",
   "execution_count": 96,
   "id": "023a20c4",
   "metadata": {},
   "outputs": [
    {
     "name": "stdout",
     "output_type": "stream",
     "text": [
      "[-3.46246680e-06  4.41018276e-01 -4.81470350e-06]\n",
      "-36.202415264445904\n"
     ]
    }
   ],
   "source": [
    "print(resopt.x)\n",
    "print(resopt.fun)"
   ]
  },
  {
   "cell_type": "code",
   "execution_count": 6,
   "id": "8faa211d",
   "metadata": {},
   "outputs": [],
   "source": [
    "from scipy.optimize import minimize\n",
    "initial_guess = np.array([20.,3.,20.])\n",
    "for i in range(NN):\n",
    "    resopt = 0\n",
    "    resopt = minimize(extract_energy,initial_guess,args = (psi_ini[i],1),method='Nelder-Mead',options ={\"fatol\":1e-8,\"adaptive\":True})\n",
    "    res_theta_0[i+1] = resopt.x[0]\n",
    "    res_theta_1[i+1] = resopt.x[1]\n",
    "    res_theta_2[i+1] = resopt.x[2]\n",
    "    \n",
    "    res_energy[i+1] = resopt.fun\n",
    "    \n",
    "    psi_ini[i+1] = extract_state(np.array([resopt.x[0],resopt.x[1],resopt.x[2]]),psi_ini[i])\n",
    "    res_gauss_law[i+1] = Gauss_law.expt_value(extract_state(np.array([resopt.x[0],resopt.x[1],resopt.x[2]]),psi_ini[i]))"
   ]
  },
  {
   "cell_type": "code",
   "execution_count": 5,
   "id": "20283522",
   "metadata": {},
   "outputs": [
    {
     "name": "stdout",
     "output_type": "stream",
     "text": [
      "2021-11-04 10:12:47.958675\n",
      "2021-11-04 11:45:28.407394\n",
      "2021-11-04 11:45:28.407484\n",
      "2021-11-04 12:49:29.041585\n"
     ]
    }
   ],
   "source": [
    "from scipy.optimize import basinhopping\n",
    "import datetime\n",
    "initial_guess = np.array([10.,10.,10.])\n",
    "for i in range(NN):\n",
    "    print(datetime.datetime.now())\n",
    "    resopt = 0\n",
    "    resopt = basinhopping(extract_energy,initial_guess, minimizer_kwargs = {\"args\":(psi_ini[i],1),\"method\": \"L-BFGS-B\", \"tol\":1e-8})\n",
    "    res_theta_0[i+1] = resopt.x[0]\n",
    "    res_theta_1[i+1] = resopt.x[1]\n",
    "    res_theta_2[i+1] = resopt.x[2]\n",
    "    \n",
    "    res_energy[i+1] = resopt.fun\n",
    "    \n",
    "    psi_ini[i+1] = extract_state(np.array([resopt.x[0],resopt.x[1],resopt.x[2]]),psi_ini[i])\n",
    "    res_gauss_law[i+1] = Gauss_law.expt_value(extract_state(np.array([resopt.x[0],resopt.x[1],resopt.x[2]]),psi_ini[i]))\n",
    "    print(datetime.datetime.now())"
   ]
  },
  {
   "cell_type": "code",
   "execution_count": 5,
   "id": "13579814",
   "metadata": {
    "scrolled": true
   },
   "outputs": [
    {
     "name": "stdout",
     "output_type": "stream",
     "text": [
      "[ 8.88178420e-16 -2.07713491e+01 -2.30371331e+01 -2.36392569e+01\n",
      " -2.50103943e+01 -2.56580156e+01 -2.59740282e+01 -2.62916902e+01\n",
      " -2.64370644e+01 -2.60269131e+01]\n",
      "[0.+0.j 0.+0.j 0.+0.j 0.+0.j 0.+0.j 0.+0.j 0.+0.j 0.+0.j 0.+0.j 0.+0.j]\n"
     ]
    }
   ],
   "source": [
    "print(res_energy)\n",
    "print(res_gauss_law)\n",
    "#print(res_theta_0)\n",
    "#print(res_theta_1)\n",
    "#print(res_theta_2)"
   ]
  },
  {
   "cell_type": "code",
   "execution_count": 9,
   "id": "6da8376a",
   "metadata": {},
   "outputs": [
    {
     "data": {
      "text/plain": [
       "-27.72421848870876"
      ]
     },
     "execution_count": 9,
     "metadata": {},
     "output_type": "execute_result"
    }
   ],
   "source": [
    "extract_energy(np.array([0.,0.,0.]),psi_ini[9],1)"
   ]
  },
  {
   "cell_type": "code",
   "execution_count": 10,
   "id": "f42f3950",
   "metadata": {},
   "outputs": [
    {
     "name": "stdout",
     "output_type": "stream",
     "text": [
      "0.7998052653076199\n"
     ]
    }
   ],
   "source": [
    "psi_test = H_target.evolve(psi_ini[9],0.0,np.linspace(0.,3,1000))\n",
    "print(np.abs(np.dot([row[-1] for row in psi_test],psi_ini[9])))"
   ]
  },
  {
   "cell_type": "code",
   "execution_count": 13,
   "id": "6c162377",
   "metadata": {},
   "outputs": [
    {
     "name": "stdout",
     "output_type": "stream",
     "text": [
      "2021-11-03 13:45:32.304880\n",
      "2021-11-03 13:46:26.393171\n"
     ]
    }
   ],
   "source": [
    "from scipy.optimize import minimize\n",
    "import datetime\n",
    "print(datetime.datetime.now())\n",
    "initial_guess = np.array([0.,0.,0.])\n",
    "nelder_mead = minimize(extract_energy,initial_guess,args = (psi_ini[9],1),method='Nelder-Mead',options ={\"fatol\":1e-8,\"adaptive\":True})\n",
    "print(datetime.datetime.now())"
   ]
  },
  {
   "cell_type": "code",
   "execution_count": 14,
   "id": "c9c664ae",
   "metadata": {},
   "outputs": [
    {
     "name": "stdout",
     "output_type": "stream",
     "text": [
      "-27.73482870139751\n"
     ]
    }
   ],
   "source": [
    "print(nelder_mead.fun)"
   ]
  },
  {
   "cell_type": "code",
   "execution_count": 5,
   "id": "fdd325c2",
   "metadata": {},
   "outputs": [
    {
     "name": "stdout",
     "output_type": "stream",
     "text": [
      "[-38.04689509100519, -38.04689509100519, -36.7010017032428, -36.70100170324279, -36.30459484755759, -35.82152732752103, -35.82152732752103, -35.6900815556723, -35.33802904945073, -34.736802395739836, -34.736802395739836, -34.73680239573982, -34.73680239573982, -34.62528503950184, -34.62528503950184, -34.37228400249132, -34.37228400249132, -34.00430690172555, -34.00430690172555, -33.913878543326994, -33.91387854332698, -33.89913117287524, -33.89913117287524, -33.826159315347915, -33.73574209390234, -33.735742093902324, -33.63256135328904, -33.63256135328903, -33.53256135328903, -33.53256135328903, -33.194149460566855, -33.194149460566855, -33.1546047939628, -33.09414946056686, -33.09414946056686, -33.03773426965108, -33.03773426965108, -32.65924769373749, -32.65924769373748, -32.28221811499515, -32.28221811499514, -32.16602653048586, -32.16602653048586, -32.09477196178835, -32.066026530485864, -31.9887825044398, -31.988782504439794, -31.988782504439794, -31.988782504439794, -31.532704248070758, -31.532704248070747, -31.432704248070753, -31.432704248070753, -30.967012349162086, -30.899999999999995, -30.873092741086058, -30.87309274108605, -30.87309274108605, -30.87309274108605, -30.8, -30.799999999999994, -30.771720328499782, -30.699999999999996, -30.232690281694598, -30.23269028169459, -29.970154336137977, -29.97015433613797, -29.91105531933462, -29.91105531933462, -29.81466617262608, -29.81466617262607, -29.714666172626085, -29.71466617262607, -29.09495259187936, -29.09495259187936, -29.001601123186283, -29.001601123186283, -27.40896754354087, -27.408967543540864, -27.39835724266466, -27.39835724266466, -27.183759232378993, -27.183759232378975, -26.9853407199999, -26.9853407199999, -26.98075512291619, -26.98075512291618, -26.867662712417726, -26.86766271241772, -26.865544561870955, -26.865544561870948, -26.724508338905803, -26.724508338905803, -26.724508338905796, -26.724508338905785, -26.624508338905805, -26.624508338905798, -26.624508338905798, -26.624508338905798, -26.624508338905798, -26.255814330487457, -25.692675751089805, -25.692675751089805, -25.443723642935648, -25.443723642935648, -25.20610837604232, -25.206108376042312, -25.091330411344348, -25.091330411344337, -24.913275713961582, -24.913275713961582, -24.72543748677311, -24.72543748677311, -24.625437486773112, -24.625437486773112, -23.686834680381534, -23.686834680381534, -23.58859588735659, -23.58859588735659, -23.33256135328904, -23.33256135328904, -23.33256135328904, -23.33256135328904, -23.332561353289034, -23.332561353289034, -23.332561353289034, -23.332561353289034, -23.332561353289034, -23.319803839706072, -23.28256135328904, -23.28256135328904, -23.28256135328904, -23.28256135328904, -23.282561353289033, -23.282561353289033, -23.282561353289033, -23.282561353289033, -23.282561353289033, -23.282561353289033, -23.27549072795383, -23.275490727953823, -23.232561353289036, -23.232561353289036, -23.232561353289036, -23.232561353289036, -23.23256135328903, -22.959931757238717, -22.959931757238717, -22.95993175723871, -22.95993175723871, -22.950754518027654, -22.89414946056686, -22.894149460566855, -22.894149460566855, -22.894149460566855, -22.894149460566855, -22.89414946056684, -22.87780855065812, -22.87780855065812, -22.84414946056686, -22.84414946056686, -22.84414946056686, -22.844149460566854, -22.844149460566854, -22.79414946056686, -22.79414946056686, -22.79414946056685, -22.79414946056685, -22.47244343288935, -22.47244343288935, -22.47244343288935, -22.472443432889342, -22.461861125413083, -22.461861125413073, -22.461861125413073, -22.461861125413073, -22.412960438312957, -22.252241124083426, -22.252241124083426, -21.86881648452456, -21.866026530485875, -21.86602653048587, -21.866026530485858, -21.866026530485858, -21.866026530485858, -21.86602653048585, -21.859625837807926, -21.816026530485864, -21.816026530485864, -21.816026530485864, -21.816026530485864, -21.816026530485864, -21.816026530485864, -21.816026530485864, -21.816026530485853, -21.816026530485846, -21.766026530485863, -21.766026530485863, -21.766026530485863, -21.766026530485863, -21.740815961133965, -21.740815961133965, -21.658873041492207, -21.658873041492207, -21.354209381209696, -21.354209381209696, -21.232704248070764, -21.232704248070757, -21.232704248070757, -21.232704248070757, -21.232704248070757, -21.232704248070757, -21.232704248070757, -21.232704248070757, -21.23270424807075, -21.23270424807075, -21.18270424807076, -21.18270424807076, -21.18270424807076, -21.182704248070753, -21.182704248070753, -21.182704248070753, -21.182704248070753, -21.182704248070745, -21.182704248070745, -21.13270424807076, -21.13270424807075, -21.13270424807075, -21.13270424807075, -20.600000000000016, -20.600000000000016, -20.600000000000005, -20.600000000000005, -20.600000000000005, -20.600000000000005, -20.599999999999998, -20.599999999999998, -20.55000000000001, -20.55000000000001, -20.55000000000001, -20.550000000000004, -20.550000000000004, -20.550000000000004, -20.550000000000004, -20.550000000000004, -20.550000000000004, -20.550000000000004, -20.50000000000001, -20.500000000000004, -20.500000000000004, -20.500000000000004, -20.500000000000004, -20.500000000000004, -20.499999999999993, -20.499999999999993, -20.499999999999993, -20.499999999999993, -20.499999999999993, -20.499999999999993, -20.499999999999993, -20.499999999999993, -20.499999999999993, -20.499999999999993, -20.499999999999975, -20.494336147457176, -20.494336147457176, -20.45420394398592, -20.454203943985913, -20.450000000000006, -20.450000000000006, -20.45, -20.45, -20.45, -20.45, -20.45, -20.449999999999992, -20.400000000000002, -20.400000000000002, -20.400000000000002, -20.400000000000002, -20.275031249951173, -20.275031249951173, -20.25832328574844, -20.25832328574844, -20.22262000751697, -20.22262000751697, -20.17503124995118, -20.17503124995117, -19.95056083122178, -19.95056083122178, -19.6128982037962, -19.6128982037962, -19.514666172626086, -19.514666172626086, -19.514666172626075, -19.514666172626075, -19.514666172626075, -19.514666172626068, -19.514666172626068, -19.51466617262606, -19.464666172626078, -19.464666172626078, -19.464666172626078, -19.464666172626078, -19.464666172626078, -19.464666172626078, -19.46466617262607, -19.46466617262607, -19.46466617262607, -19.41466617262608, -19.41466617262608, -19.414666172626074, -19.414666172626074, -19.390378096120013, -19.182682211267963, -19.182682211267956, -19.182670449579703, -19.182670449579703, -19.05998436773154, -19.05998436773154, -18.95998436773154, -18.95998436773154, -18.75139474043556, -18.751394740435554, -18.620723575268553, -18.620723575268542, -18.603609326000505, -18.603609326000505, -18.403289502109217, -18.403289502109217, -18.34986372925231, -18.34986372925231, -18.27622707155925, -18.27622707155925, -18.27622707155925, -18.24923334112411, -18.24923334112411, -18.23551294120354, -18.235512941203535, -18.233420409562772, -18.221954995722772, -18.162287032887008, -18.162287032887008, -18.140698671546048, -18.140698671546048, -18.140698671546048, -17.947768880839714, -17.947768880839707, -17.947768880839707, -17.947768880839707, -17.86953379711846, -17.869533797118454, -17.86882152255843, -17.86882152255843, -17.654369674907638, -17.654369674907638, -17.554369674907633, -17.554369674907633, -17.37383849542915, -17.293232546606227, -17.293232546606227, -17.29282138231992, -17.29282138231992, -17.25911409974512, -17.244412338781846, -17.24441233878184, -17.217512129370473, -17.217512129370473, -17.123511606552704, -17.123511606552693, -17.123511606552693, -17.097637722904206, -17.097637722904206, -17.075481255903696, -17.075481255903696, -16.940851707717602, -16.940851707717602, -16.940851707717602, -16.940851707717602, -16.919266325728664, -16.919266325728664, -16.919266325728664, -16.89209685378557, -16.89209685378557, -16.89209685378557, -16.840834905636218, -16.840834905636218, -16.829563514845862, -16.829563514845862, -16.819266325728666, -16.819266325728666, -16.724412795617027, -16.724412795617027, -16.724412795617027, -16.724412795617027, -16.72441279561702, -16.707420962620457, -16.67207399616929, -16.669747199184407, -16.669747199184407, -16.624412795617033, -16.624412795617033, -16.624412795617022, -16.624412795617022, -16.424508338905802, -16.424508338905802, -16.424508338905802, -16.424508338905802, -16.424508338905802, -16.424508338905802, -16.424508338905802, -16.424508338905802, -16.424508338905802, -16.424508338905802, -16.424508338905802, -16.424508338905802, -16.42450833890579, -16.42450833890579, -16.42450833890579, -16.42450833890579, -16.42450833890579, -16.374508338905805, -16.374508338905805, -16.374508338905805, -16.374508338905805, -16.374508338905798, -16.374508338905798, -16.374508338905798, -16.374508338905798, -16.374508338905798, -16.374508338905798, -16.374508338905798, -16.374508338905798, -16.374508338905798, -16.374508338905798, -16.374508338905798, -16.374508338905798, -16.374508338905798, -16.374508338905798, -16.374508338905798, -16.374508338905787, -16.350179498171755, -16.3374306497148, -16.324508338905797, -16.324508338905797, -16.324508338905797, -16.324508338905797, -16.324508338905797, -16.324508338905797, -16.324508338905797, -16.194215579449782, -16.194215579449782, -16.194215579449782, -16.194215579449782, -15.879880566021257, -15.879880566021257, -15.879880566021242, -15.801776259361446, -15.672530548895129, -15.672530548895118, -15.653728902544781, -15.65372890254477, -15.572530548895138, -15.572530548895124, -15.534050760819184, -15.534050760819184, -15.151007144290578, -15.151007144290578, -15.05100714429058, -15.051007144290566, -14.887562430697162, -14.810979411804915, -14.810979411804915, -14.778415279357642, -14.425437486773117, -14.425437486773117, -14.425437486773117, -14.425437486773117, -14.425437486773106, -14.425437486773106, -14.425437486773106, -14.425437486773092, -14.37543748677312, -14.37543748677312, -14.37543748677312, -14.375437486773105, -14.375437486773105, -14.375437486773105, -14.375437486773105, -14.375437486773105, -14.375437486773105, -14.332480432588195, -14.332480432588195, -14.325437486773115, -14.325437486773115, -14.325437486773115, -14.325437486773104, -14.109664983806638, -14.109664983806638, -13.652333083843509, -13.64380855359531, -13.64380855359531, -13.537875173214886, -13.358681432525753, -13.358681432525753, -13.347766630228783, -13.347766630228772, -13.205622147185878, -13.205622147185878, -13.03256135328904, -13.03256135328903, -12.932561353289035, -12.932561353289035, -12.92821508992358, -12.67532050147559, -12.655869091710642, -12.655869091710642, -12.655869091710642, -12.650711903045657, -12.650711903045657, -12.645633336880028, -12.594149460566861, -12.59414946056685, -12.545778159625115, -12.545778159625115, -12.545778159625115, -12.545778159625115, -12.494149460566852, -12.494149460566852, -12.310028284010503, -12.310028284010503, -12.202387549707964, -12.17761943163029, -12.119278291385033, -12.119278291385019, -11.963580600452303, -11.963580600452293, -11.88180672180577, -11.88180672180576, -11.860451897828565, -11.860451897828565, -11.738109809159091, -11.738109809159091, -11.667714080149207, -11.667714080149207, -11.654593414031392, -11.654593414031392, -11.636442528655017, -11.636442528655017, -11.636442528655017, -11.636442528655017, -11.609622696784246, -11.609622696784246, -11.566026530485868, -11.566026530485853, -11.509857705065837, -11.466026530485866, -11.466026530485852, -11.457566676013368, -11.457566676013368, -11.388024193025359, -11.388024193025359, -11.388024193025359, -11.388024193025348, -11.343550104528514, -11.343550104528514, -11.343550104528514, -11.343550104528504, -11.314435791652407, -11.314435791652407, -11.302069344406949, -11.302069344406949, -11.238956416610343, -11.238956416610332, -11.10970845604897, -11.047552031692263, -11.047552031692263, -10.93270424807076, -10.92190338221194, -10.92190338221194, -10.832704248070755, -10.832704248070744, -10.778239637253673, -10.742564468539193, -10.742564468539193, -10.729017643566124, -10.603066404972289, -10.603066404972274, -10.52422672347802, -10.52422672347802, -10.300000000000004, -10.300000000000004, -10.300000000000004, -10.300000000000004, -10.300000000000004, -10.300000000000004, -10.300000000000004, -10.300000000000004, -10.300000000000004, -10.300000000000004, -10.300000000000004, -10.300000000000004, -10.300000000000004, -10.300000000000004, -10.300000000000004, -10.300000000000004, -10.300000000000002, -10.3, -10.3, -10.3, -10.299999999999994, -10.299999999999994, -10.299999999999994, -10.299999999999994, -10.299999999999994, -10.299999999999994, -10.299999999999994, -10.299999999999994, -10.299999999999994, -10.299999999999994, -10.299999999999994, -10.25953546344719, -10.259535463447179, -10.250000000000014, -10.250000000000004, -10.250000000000004, -10.250000000000004, -10.250000000000004, -10.250000000000004, -10.250000000000004, -10.250000000000004, -10.250000000000004, -10.250000000000004, -10.250000000000004, -10.250000000000004, -10.250000000000004, -10.250000000000004, -10.250000000000004, -10.250000000000004, -10.250000000000004, -10.250000000000004, -10.250000000000004, -10.250000000000004, -10.250000000000004, -10.250000000000004, -10.250000000000004, -10.250000000000004, -10.250000000000004, -10.250000000000004, -10.250000000000004, -10.250000000000004, -10.250000000000004, -10.250000000000004, -10.250000000000004, -10.250000000000004, -10.250000000000004, -10.250000000000004, -10.250000000000004, -10.250000000000004, -10.250000000000004, -10.250000000000004, -10.250000000000004, -10.250000000000004, -10.250000000000004, -10.250000000000004, -10.24999999999999, -10.24999999999999, -10.24999999999999, -10.24999999999999, -10.24999999999999, -10.24999999999999, -10.24999999999999, -10.24999999999999, -10.24999999999999, -10.24999999999999, -10.24999999999999, -10.24999999999999, -10.24999999999999, -10.24999999999999, -10.24999999999999, -10.24999999999999, -10.24999999999999, -10.24999999999999, -10.249999999999979, -10.249610442168418, -10.232935985425438, -10.232935985425438, -10.200000000000017, -10.200000000000017, -10.200000000000017, -10.200000000000017, -10.200000000000017, -10.200000000000017, -10.200000000000006, -10.200000000000006, -10.200000000000006, -10.200000000000006, -10.200000000000006, -10.200000000000006, -10.200000000000006, -10.200000000000006, -10.200000000000006, -10.200000000000006, -10.200000000000006, -10.200000000000006, -10.200000000000006, -10.200000000000006, -10.200000000000006, -10.200000000000006, -10.200000000000006, -10.2, -10.2, -10.2, -10.2, -10.2, -10.2, -10.2, -10.2, -10.2, -10.2, -10.2, -10.2, -10.2, -10.2, -10.2, -10.2, -10.2, -10.2, -10.2, -10.2, -10.199999999999989, -10.199999999999989, -10.199999999999989, -10.199999999999989, -10.199999999999989, -10.199999999999989, -10.199999999999989, -10.199999999999989, -10.199999999999989, -10.199999999999989, -10.199999999999989, -10.199999999999989, -10.199999999999989, -10.199999999999989, -10.199999999999989, -10.159535463447185, -10.159535463447185, -10.15000000000003, -10.150000000000016, -10.150000000000016, -10.150000000000006, -10.150000000000006, -10.150000000000006, -10.150000000000006, -10.150000000000006, -10.150000000000006, -10.150000000000006, -10.150000000000006, -10.150000000000006, -10.150000000000006, -10.150000000000006, -10.150000000000006, -10.150000000000006, -10.150000000000006, -10.150000000000006, -10.149999999999991, -10.149999999999991, -10.149999999999991, -10.149999999999991, -10.149999999999991, -10.149999999999991, -10.149999999999991, -10.149999999999991, -10.149999999999991, -10.149999999999991, -10.149999999999991, -10.100000000000005, -10.100000000000005, -10.100000000000001, -10.100000000000001, -10.100000000000001, -10.099999999999996, -9.975031249951176, -9.975031249951176, -9.975031249951176, -9.975031249951176, -9.975031249951176, -9.925031249951168, -9.925031249951168, -9.925031249951168, -9.925031249951168, -9.925031249951168, -9.904008819158427, -9.875031249951167, -9.875031249951167, -9.875031249951167, -9.875031249951167, -9.633794481493748, -9.633794481493748, -9.633794481493748, -9.582314052313379, -9.582314052313379, -9.582314052313379, -9.55962883797799, -9.55962883797799, -9.554081573537214, -9.554081573537214, -9.551965321453448, -9.551965321453448, -9.214666172626075, -9.214666172626075, -9.191672859503033, -9.191672859503033, -9.11466617262607, -9.11466617262607, -8.759984367731548, -8.759984367731537, -8.759984367731537, -8.759984367731537, -8.759984367731537, -8.759984367731537, -8.759984367731537, -8.759984367731537, -8.759984367731537, -8.71810018560458, -8.709984367731536, -8.709984367731536, -8.709984367731536, -8.709984367731536, -8.709984367731536, -8.709984367731536, -8.709984367731536, -8.709984367731536, -8.709984367731536, -8.65998436773154, -8.65998436773154, -8.65998436773154, -8.65998436773154, -8.297953625369392, -8.297953625369377, -8.211821861948344, -8.21182186194833, -8.096279660483653, -8.096279660483653, -8.07371681574661, -8.073716815746597, -7.949288478808364, -7.868060367135272, -7.868060367135272, -7.665855509197686, -7.665855509197674, -7.562714019577044, -7.562714019577044, -7.545063441942829, -7.545063441942829, -7.545063441942829, -7.545063441942829, -7.50701775370604, -7.507017753706028, -7.382796549010947, -7.382796549010947, -7.354369674907646, -7.354369674907637, -7.354369674907637, -7.354369674907637, -7.354369674907637, -7.354369674907637, -7.354369674907637, -7.304369674907638, -7.304369674907638, -7.304369674907638, -7.304369674907638, -7.304369674907638, -7.304369674907638, -7.304369674907638, -7.304369674907625, -7.25436967490764, -7.25436967490764, -7.2543696749076325, -7.141714186905601, -7.098016991187252, -7.05415109115886, -7.05415109115886, -7.038100006920915, -7.038100006920906, -7.028206287763882, -7.028206287763882, -6.956807505725819, -6.956807505725819, -6.890638044605523, -6.890638044605523, -6.809100739632631, -6.809100739632618, -6.809100739632618, -6.809100739632618, -6.673301588745992, -6.673301588745992, -6.673301588745992, -6.619266325728665, -6.619266325728665, -6.619266325728665, -6.619266325728665, -6.619266325728665, -6.619266325728658, -6.619266325728658, -6.619266325728658, -6.619266325728658, -6.575667018406606, -6.569266325728662, -6.569266325728662, -6.569266325728662, -6.569266325728662, -6.569266325728662, -6.569266325728662, -6.569266325728662, -6.569266325728662, -6.569266325728662, -6.519266325728672, -6.519266325728672, -6.519266325728659, -6.519266325728659, -6.477596922606962, -6.424412795617033, -6.424412795617033, -6.424412795617033, -6.424412795617033, -6.424412795617033, -6.424412795617033, -6.424412795617033, -6.424412795617033, -6.4244127956170205, -6.4244127956170205, -6.4244127956170205, -6.4244127956170205, -6.4244127956170205, -6.4244127956170205, -6.4244127956170205, -6.4244127956170205, -6.37441279561704, -6.3744127956170304, -6.3744127956170304, -6.3744127956170304, -6.3744127956170304, -6.3744127956170304, -6.3744127956170304, -6.3744127956170304, -6.3744127956170304, -6.3744127956170304, -6.3744127956170304, -6.374412795617018, -6.374412795617018, -6.374412795617018, -6.324412795617028, -6.324412795617028, -6.324412795617028, -6.324412795617028, -6.324412795617028, -6.324412795617028, -6.324412795617028, -6.324412795617028, -6.3244127956170155, -6.262756427137051, -6.262756427137051, -6.124508338905801, -6.124508338905801, -6.124508338905788, -6.024508338905798, -6.024508338905798, -6.024508338905798, -6.024508338905798, -6.024508338905798, -6.008081445704381, -5.957277915489844, -5.9572779154898345, -5.871388659232118, -5.871388659232118, -5.836387969725558, -5.705512070151976, -5.705512070151976, -5.705512070151976, -5.705512070151976, -5.674719646519075, -5.674719646519075, -5.674719646519075, -5.548140354995954, -5.531115674572271, -5.531115674572271, -5.467716037176661, -5.467716037176661, -5.44899285570943, -5.44899285570943, -5.380834319160786, -5.380834319160786, -5.3765747756799955, -5.3765747756799955, -5.372530548895133, -5.372530548895133, -5.372530548895128, -5.372530548895128, -5.372530548895128, -5.372530548895128, -5.372530548895121, -5.3489928557094375, -5.348992855709425, -5.322530548895137, -5.322530548895137, -5.3225305488951244, -5.3225305488951244, -5.3225305488951244, -5.3225305488951244, -5.3225305488951244, -5.3225305488951244, -5.298664143841736, -5.298664143841724, -5.28472072878222, -5.284720728782213, -5.272530548895133, -5.272530548895133, -5.27253054889512, -5.27253054889512, -5.254626401778041, -5.254626401778041, -5.252207544869585, -5.252207544869585, -5.252207544869585, -5.199611987803425, -5.199611987803425, -5.04036079713913, -5.040360797139118, -5.038709096760063, -5.038709096760063, -4.852380626350873, -4.851007144290574, -4.851007144290574, -4.851007144290574, -4.851007144290574, -4.851007144290574, -4.851007144290574, -4.851007144290574, -4.851007144290562, -4.827469451104876, -4.827469451104876, -4.8010071442905735, -4.8010071442905735, -4.8010071442905735, -4.8010071442905735, -4.8010071442905735, -4.8010071442905735, -4.8010071442905735, -4.8010071442905735, -4.8010071442905735, -4.8010071442905735, -4.751007144290569, -4.751007144290569, -4.751007144290569, -4.751007144290569, -4.727469451104871, -4.727469451104871, -4.669406265320792, -4.669406265320792, -4.66940626532078, -4.654256006574724, -4.654256006574724, -4.651592951641633, -4.651592951641633, -4.635116318418095, -4.633914095987868, -4.439569278162724, -4.439569278162724, -4.222304867494038, -4.222304867494038, -4.125437486773113, -4.125437486773113, -4.025437486773106, -4.025437486773106, -3.9311799721758827, -3.9311799721758827, -3.9311799721758733, -3.9311799721758733, -3.8953956605700024, -3.8953956605700024, -3.8746130617442835, -3.8746130617442835, -3.8255872043829795, -3.8255872043829795, -3.7907720892303316, -3.790772089230325, -3.790772089230325, -3.790772089230325, -3.725587204382977, -3.725587204382977, -3.725587204382977, -3.725587204382977, -3.725587204382977, -3.6911979577838467, -3.6911979577838467, -3.6770528909085396, -3.6770528909085396, -3.670774406840687, -3.670774406840687, -3.669168365424726, -3.6691683654247136, -3.6243329815934047, -3.6243329815934047, -3.5243329815934055, -3.524332981593399, -3.486924320424749, -3.486924320424749, -3.3100365225747255, -3.2187459461725965, -2.945630325092363, -2.945630325092363, -2.845630325092359, -2.845630325092359, -2.845630325092359, -2.6512853009387376, -2.3641647148306966, -2.3641647148306966, -2.353002662607218, -2.3530026626072087, -2.2904928045875854, -2.2904928045875854, -2.000302968612047, -2.000302968612047, -1.679253381023467, -1.679253381023467, -1.679253381023467, -1.4400156322684605, -1.4400156322684605, -1.374179565588403, -1.374179565588403, -1.3400156322684702, -1.3400156322684702, -0.8585040415939384, -0.6823892778457759, -0.6823892778457759, -0.6823892778457759, -0.6823892778457632, -0.5750504071266302, -0.5750504071266302, -0.27496875004883, -0.27496875004883, -0.2329512628945989, -0.2329512628945989, -0.17496875004882645, -0.17496875004882645, -0.14400370990733424, -0.14400370990733424, -0.09390585841120626, -0.09390585841120626, -0.03750810236720853, -0.03750810236720853, -0.03750810236720853, -9.550735794101952e-15, -9.550735794101952e-15, -9.550735794101952e-15, -9.550735794101952e-15, -9.550735794101952e-15, 0.0, 9.288337265459558e-16, 9.288337265459558e-16, 9.288337265459558e-16, 9.288337265459558e-16, 9.288337265459558e-16, 9.288337265459558e-16, 9.288337265459558e-16, 9.288337265459558e-16, 9.288337265459558e-16, 9.288337265459558e-16, 9.288337265459558e-16, 2.9631264616053323e-15, 2.9631264616053323e-15, 2.9631264616053323e-15, 2.9631264616053323e-15, 2.9631264616053323e-15, 2.9631264616053323e-15, 2.9631264616053323e-15, 2.9631264616053323e-15, 2.9631264616053323e-15, 2.9631264616053323e-15, 2.9631264616053323e-15, 2.9631264616053323e-15, 2.9631264616053323e-15, 2.9631264616053323e-15, 2.9631264616053323e-15, 2.9631264616053323e-15, 2.9631264616053323e-15, 2.9631264616053323e-15, 2.9631264616053323e-15, 2.9631264616053323e-15, 2.9631264616053323e-15, 2.9631264616053323e-15, 2.9631264616053323e-15, 2.9631264616053323e-15, 2.9631264616053323e-15, 2.9631264616053323e-15, 2.9631264616053323e-15, 2.9631264616053323e-15, 2.9631264616053323e-15, 2.9631264616053323e-15, 2.9631264616053323e-15, 2.9631264616053323e-15, 2.9631264616053323e-15, 2.9631264616053323e-15, 2.9631264616053323e-15, 2.9631264616053323e-15, 2.9631264616053323e-15, 2.9631264616053323e-15, 2.9631264616053323e-15, 2.9631264616053323e-15, 2.9631264616053323e-15, 2.9631264616053323e-15, 2.9631264616053323e-15, 2.9631264616053323e-15, 2.9631264616053323e-15, 2.9631264616053323e-15, 2.9631264616053323e-15, 2.9631264616053323e-15, 0.014403694341560138, 0.014403694341560138, 0.020232099450104367, 0.020232099450104367, 0.02514455171479605, 0.02514455171480856, 0.025747134367686164, 0.029767900549903296, 0.029767900549903296, 0.0355963056583474, 0.0355963056583474, 0.04046453655281611, 0.04046453655281611, 0.04046453655281611, 0.04046453655281611, 0.04046453655281611, 0.04046453655281611, 0.04158621857995405, 0.04158621857995405, 0.04711519977107301, 0.04999999999997967, 0.04999999999999219, 0.04999999999999219, 0.04999999999999219, 0.04999999999999219, 0.04999999999999219, 0.04999999999999219, 0.04999999999999219, 0.04999999999999219, 0.04999999999999219, 0.04999999999999219, 0.04999999999999219, 0.04999999999999219, 0.04999999999999219, 0.04999999999999219, 0.04999999999999219, 0.04999999999999219, 0.04999999999999219, 0.04999999999999219, 0.04999999999999219, 0.04999999999999219, 0.04999999999999219, 0.04999999999999219, 0.04999999999999219, 0.04999999999999219, 0.04999999999999219, 0.04999999999999219, 0.04999999999999219, 0.04999999999999219, 0.04999999999999219, 0.04999999999999219, 0.04999999999999219, 0.04999999999999219, 0.04999999999999219, 0.04999999999999219, 0.04999999999999219, 0.04999999999999219, 0.04999999999999219, 0.04999999999999219, 0.04999999999999219, 0.04999999999999219, 0.04999999999999219, 0.04999999999999219, 0.04999999999999219, 0.04999999999999219, 0.04999999999999219, 0.04999999999999219, 0.04999999999999219, 0.04999999999999219, 0.04999999999999219, 0.04999999999999219, 0.04999999999999219, 0.05000000000000471, 0.05000000000000471, 0.05000000000000471, 0.05000000000000471, 0.05000000000000471, 0.05000000000000471, 0.05000000000000471, 0.05000000000000471, 0.05000000000000471, 0.05000000000000471, 0.05000000000000471, 0.05000000000000471, 0.05000000000000471, 0.05000000000000471, 0.05000000000000471, 0.05000000000000471, 0.05000000000000471, 0.05000000000000471, 0.05000000000000471, 0.05000000000000471, 0.05000000000000471, 0.05000000000000471, 0.05000000000000471, 0.05000000000000471, 0.05000000000000471, 0.05000000000000471, 0.05000000000000471, 0.05000000000000471, 0.05000000000000471, 0.05000000000000471, 0.05000000000000471, 0.05000000000000471, 0.05000000000000471, 0.05000000000000471, 0.05000000000000471, 0.05000000000000471, 0.05000000000000471, 0.05000000000000471, 0.05000000000000471, 0.05000000000000471, 0.05000000000000471, 0.05000000000000471, 0.05000000000000471, 0.05000000000000471, 0.05000000000000471, 0.05000000000000471, 0.05000000000000471, 0.05000000000000471, 0.05000000000000471, 0.05000000000000471, 0.05000000000000471, 0.05000000000000471, 0.05000000000000471, 0.05000000000000471, 0.05000000000000471, 0.05000000000000471, 0.05000000000000471, 0.05000000000000471, 0.05000000000000471, 0.05000000000000471, 0.05000000000000471, 0.05000000000000471, 0.05000000000000471, 0.05000000000000471, 0.05000000000000471, 0.05000000000000471, 0.05000000000000471, 0.05000000000000471, 0.05000000000000471, 0.05000000000000471, 0.05000000000000471, 0.05000000000000471, 0.05000000000000471, 0.05000000000000471, 0.05000000000001721, 0.05000000000001721, 0.05000000000001721, 0.05000000000001721, 0.05000000000001721, 0.06195400912703697, 0.06195400912704947, 0.0625148651998128, 0.0625148651998128, 0.0626817626024037, 0.07095226658095963, 0.07095226658095963, 0.07119221989505624, 0.07463626667084579, 0.07463626667084579, 0.07904773341905151, 0.07904773341905151, 0.0830083192702377, 0.0830083192702377, 0.0830083192702377, 0.08454551841202014, 0.08454551841202014, 0.08522538150363186, 0.09046453655281785, 0.09046453655281785, 0.09046453655281785, 0.09046453655281785, 0.09999999999998142, 0.09999999999998142, 0.09999999999998142, 0.09999999999998142, 0.09999999999998142, 0.09999999999998142, 0.09999999999999393, 0.09999999999999393, 0.09999999999999393, 0.09999999999999393, 0.09999999999999393, 0.09999999999999393, 0.09999999999999393, 0.09999999999999393, 0.09999999999999393, 0.09999999999999393, 0.09999999999999393, 0.09999999999999393, 0.09999999999999393, 0.09999999999999393, 0.09999999999999393, 0.09999999999999393, 0.09999999999999393, 0.09999999999999393, 0.09999999999999393, 0.09999999999999393, 0.09999999999999393, 0.09999999999999393, 0.09999999999999393, 0.09999999999999393, 0.09999999999999393, 0.09999999999999393, 0.09999999999999393, 0.09999999999999393, 0.09999999999999393, 0.09999999999999393, 0.09999999999999393, 0.09999999999999393, 0.09999999999999393, 0.09999999999999393, 0.09999999999999393, 0.09999999999999393, 0.09999999999999393, 0.09999999999999393, 0.09999999999999393, 0.09999999999999393, 0.09999999999999393, 0.09999999999999393, 0.09999999999999393, 0.09999999999999393, 0.09999999999999393, 0.09999999999999393, 0.09999999999999393, 0.09999999999999393, 0.09999999999999393, 0.09999999999999393, 0.09999999999999393, 0.09999999999999393, 0.09999999999999393, 0.10000000000000644, 0.10000000000000644, 0.10000000000000644, 0.10000000000000644, 0.10000000000000644, 0.10000000000000644, 0.10000000000000644, 0.10000000000000644, 0.10000000000000644, 0.10000000000000644, 0.10000000000000644, 0.10000000000000644, 0.10000000000000644, 0.10000000000000644, 0.10000000000000644, 0.10000000000000644, 0.10000000000000644, 0.10000000000000644, 0.10000000000000644, 0.10000000000000644, 0.10000000000000644, 0.10000000000000644, 0.10000000000000644, 0.10000000000000644, 0.10000000000000644, 0.10000000000000644, 0.10000000000000644, 0.10000000000000644, 0.10000000000000644, 0.10000000000000644, 0.10000000000000644, 0.10000000000000644, 0.10000000000000644, 0.10000000000000644, 0.10000000000000644, 0.10000000000000644, 0.10000000000000644, 0.10000000000000644, 0.10000000000000644, 0.10000000000000644, 0.10000000000000644, 0.10000000000000644, 0.10000000000000644, 0.10000000000000644, 0.10000000000000644, 0.10000000000000644, 0.10000000000000644, 0.10000000000000644, 0.10000000000000644, 0.10000000000000644, 0.10000000000000644, 0.10000000000000644, 0.10000000000000644, 0.10000000000000644, 0.10000000000000644, 0.10000000000000644, 0.10000000000000644, 0.10000000000000644, 0.10000000000000644, 0.10000000000001895, 0.10000000000001895, 0.10000000000001895, 0.14046453655281965, 0.14046453655281965, 0.14046453655281965, 0.14046453655281965, 0.1499999999999832, 0.1499999999999832, 0.14999999999999572, 0.14999999999999572, 0.14999999999999572, 0.14999999999999572, 0.14999999999999572, 0.14999999999999572, 0.14999999999999572, 0.14999999999999572, 0.14999999999999572, 0.14999999999999572, 0.14999999999999572, 0.14999999999999572, 0.14999999999999572, 0.14999999999999572, 0.14999999999999572, 0.14999999999999572, 0.14999999999999572, 0.14999999999999572, 0.14999999999999572, 0.14999999999999572, 0.14999999999999572, 0.14999999999999572, 0.14999999999999572, 0.14999999999999572, 0.14999999999999572, 0.15000000000000002, 0.15000000000000824, 0.15000000000000824, 0.15000000000000824, 0.15000000000000824, 0.15000000000000824, 0.15000000000000824, 0.15000000000000824, 0.15000000000000824, 0.15000000000000824, 0.15000000000000824, 0.15000000000000824, 0.15000000000000824, 0.15000000000000824, 0.15000000000000824, 0.15000000000000824, 0.15000000000000824, 0.15000000000000824, 0.15000000000000824, 0.15000000000000824, 0.15000000000000824, 0.17911254145014233, 0.17911254145015482, 0.19999999999999335, 0.19999999999999335, 0.19999999999999335, 0.2, 0.20000000000000187, 0.20000000000000187, 0.20000000000000187, 0.20000000000000187, 0.20000000000000187, 0.20000000000000187, 0.2606162820610486, 0.2606162820610486, 0.26743650762964755, 0.26743650762964755, 0.281675318293459, 0.281675318293459, 0.3249687500488252, 0.3249687500488252, 0.42496875004882856, 0.42496875004882856, 0.7750504071266304, 0.7750504071266304, 0.78238927784576, 0.7823892778457724, 0.7823892778457724, 0.7823892778457724, 0.9347518315494363, 1.491267962600059, 1.4912679626000651, 1.5400156322684575, 1.5400156322684575, 1.6400156322684611, 1.6400156322684611, 1.7356542869486589, 1.7356542869486589, 2.1003029686120467, 2.100302968612053, 2.3449327171737693, 2.3449327171737693, 2.5076311576256813, 2.5076311576256813, 2.5495956046190438, 2.5495956046190438, 2.8512853009387387, 2.945630325092357, 2.9456303250923694, 3.0456303250923584, 3.0456303250923584, 3.4187459461725966, 3.466724174522036, 3.486924320424743, 3.486924320424743, 3.670774406840681, 3.670774406840681, 3.680733674271334, 3.680733674271334, 3.742947341955336, 3.7679240784571064, 3.7679240784571064, 3.780733674271337, 3.780733674271337, 3.791197957783843, 3.7911979577838553, 3.875587204382974, 3.875587204382974, 3.875587204382974, 3.875587204382974, 3.8907720892303255, 3.8907720892303255, 3.8907720892303255, 3.8907720892303255, 3.975587204382979, 3.975587204382979, 3.975587204382979, 4.024613061744283, 4.024613061744283, 4.03859026851675, 4.03859026851675, 4.03859026851675, 4.03859026851675, 4.045395660570006, 4.045395660570006, 4.125437486773104, 4.125437486773104, 4.125437486773104, 4.225437486773109, 4.225437486773109, 4.286515842200909, 4.286515842200921, 4.539569278162719, 4.539569278162719, 4.7339140959878785, 4.7339140959878785, 4.7339140959878785, 4.751592951641631, 4.751592951641631, 4.768292700700246, 4.769406265320787, 4.8201513316555475, 4.8201513316555475, 4.851007144290569, 4.851007144290569, 4.851007144290569, 4.851007144290569, 4.851007144290569, 4.851007144290569, 4.851007144290569, 4.851007144290569, 4.851007144290569, 4.851007144290569, 4.852380626350878, 4.90100714429057, 4.90100714429057, 4.90100714429057, 4.90100714429057, 4.90100714429057, 4.90100714429057, 4.90100714429057, 4.927469451104872, 4.927469451104884, 4.951007144290568, 4.951007144290575, 4.951007144290575, 4.951007144290575, 5.027469451104873, 5.027469451104873, 5.088709096760058, 5.088709096760058, 5.090360797139124, 5.090360797139124, 5.294134715914644, 5.294134715914644, 5.334720728782213, 5.334720728782213, 5.348664143841732, 5.348664143841732, 5.397245902948692, 5.397245902948692, 5.399635296414723, 5.399635296414723, 5.448992855709434, 5.448992855709434, 5.4725305488951195, 5.4725305488951195, 5.472530548895132, 5.472530548895132, 5.472530548895132, 5.472530548895132, 5.510807727213565, 5.510807727213577, 5.510807727213577, 5.52253054889512, 5.52253054889512, 5.52253054889512, 5.522530548895133, 5.522530548895133, 5.522530548895133, 5.522530548895133, 5.52657477568, 5.52657477568, 5.5308343191607845, 5.530834319160797, 5.548992855709424, 5.548992855709437, 5.572530548895123, 5.572530548895123, 5.572530548895123, 5.572530548895135, 5.648140354995948, 5.670889581914413, 5.670889581914413, 5.805512070151976, 5.805512070151976, 5.805512070151976, 5.805512070151976, 5.837319602095618, 5.837319602095618, 5.900512894517466, 5.900512894517466, 5.907985619308856, 5.907985619308868, 5.957277915489837, 5.957277915489837, 6.008081445704376, 6.174508338905796, 6.174508338905796, 6.174508338905796, 6.174508338905796, 6.274508338905789, 6.274508338905789, 6.274508338905789, 6.274508338905801, 6.274508338905801, 6.362756427137046, 6.362756427137046, 6.474412795617022, 6.474412795617022, 6.474412795617022, 6.474412795617022, 6.474412795617022, 6.474412795617022, 6.474412795617029, 6.474412795617029, 6.474412795617029, 6.474412795617029, 6.474412795617029, 6.474412795617029, 6.474412795617029, 6.474412795617029, 6.474412795617029, 6.474412795617029, 6.474412795617029, 6.474412795617029, 6.524412795617017, 6.524412795617017, 6.524412795617017, 6.524412795617017, 6.524412795617029, 6.524412795617029, 6.524412795617029, 6.524412795617029, 6.524412795617029, 6.524412795617029, 6.524412795617029, 6.524412795617029, 6.5244127956170415, 6.574412795617017, 6.57441279561703, 6.57441279561703, 6.57441279561703, 6.57441279561703, 6.57441279561703, 6.57441279561703, 6.57441279561703, 6.620213367887195, 6.6756670184066005, 6.6756670184066005, 6.6756670184066005, 6.6756670184066005, 6.6756670184066005, 6.6756670184066005, 6.719266325728669, 6.725667018406592, 6.725667018406592, 6.725667018406592, 6.725667018406592, 6.725667018406592, 6.725667018406592, 6.725667018406605, 6.748015717612215, 6.748015717612215, 6.748015717612227, 6.775667018406591, 6.775667018406591, 6.775667018406591, 6.775667018406591, 6.775667018406604, 6.913546787067179, 6.913546787067179, 6.913546787067179, 6.9135467870671885, 7.052294674023993, 7.088100006920899, 7.088100006920912, 7.104151091158866, 7.104151091158866, 7.1141049424976215, 7.1141049424976215, 7.1141049424976215, 7.141714186905603, 7.141938958188338, 7.141938958188338, 7.298016991187251, 7.3543696749076295, 7.3543696749076295, 7.3543696749076295, 7.3543696749076295, 7.3543696749076295, 7.354369674907642, 7.354369674907642, 7.354369674907642, 7.354369674907642, 7.354369674907642, 7.354369674907642, 7.4043696749076355, 7.4043696749076355, 7.4043696749076355, 7.4043696749076355, 7.4043696749076355, 7.4499683502615754, 7.4499683502615754, 7.454369674907632, 7.454369674907639, 7.454369674907639, 7.454369674907639, 7.607017753706027, 7.60701775370604, 7.645063441942836, 7.645063441942836, 7.645063441942836, 7.645063441942836, 7.762714019577049, 7.762714019577049, 7.831442418616429, 7.831442418616429, 8.046358933985164, 8.046358933985164, 8.049288478808368, 8.199935160798745, 8.19993516079876, 8.211821861948337, 8.211821861948337, 8.22235563416568, 8.22235563416568, 8.424258201452027, 8.424258201452027, 8.852792942740354, 8.852792942740354, 8.859984367731535, 8.859984367731535, 8.859984367731535, 8.859984367731535, 8.859984367731535, 8.859984367731535, 8.859984367731546, 8.859984367731546, 8.859984367731546, 8.909984367731536, 8.909984367731536, 8.909984367731536, 8.909984367731536, 8.909984367731536, 8.909984367731536, 8.909984367731536, 8.90998436773155, 8.959984367731536, 8.959984367731536, 8.959984367731536, 8.959984367731536, 8.959984367731547, 8.959984367731547, 9.291672859503041, 9.291672859503041, 9.314666172626072, 9.314666172626072, 9.414666172626077, 9.414666172626077, 9.414666172626077, 9.604743983290202, 9.604743983290202, 9.654081573537212, 9.654081573537212, 9.682693666267859, 9.682693666267859, 9.709628837978002, 9.709628837978002, 9.732314052313374, 9.732314052313374, 10.025031249951173, 10.025031249951173, 10.025031249951173, 10.025031249951173, 10.025031249951173, 10.025031249951173, 10.075031249951163, 10.075031249951163, 10.075031249951174, 10.075031249951174, 10.075031249951174, 10.096026009001815, 10.096026009001815, 10.125031249951167, 10.125031249951167, 10.125031249951167, 10.125031249951167, 10.299999999999994, 10.299999999999994, 10.299999999999994, 10.299999999999994, 10.299999999999994, 10.299999999999994, 10.299999999999994, 10.299999999999994, 10.299999999999994, 10.299999999999994, 10.299999999999994, 10.299999999999994, 10.299999999999994, 10.299999999999994, 10.299999999999994, 10.299999999999994, 10.299999999999994, 10.299999999999994, 10.299999999999997, 10.299999999999997, 10.299999999999997, 10.299999999999999, 10.300000000000004, 10.300000000000004, 10.300000000000004, 10.300000000000004, 10.300000000000008, 10.300000000000008, 10.300000000000008, 10.300000000000008, 10.300000000000008, 10.300000000000008, 10.300000000000008, 10.300000000000008, 10.300000000000008, 10.300000000000008, 10.300000000000008, 10.300000000000008, 10.300000000000008, 10.300000000000008, 10.300000000000008, 10.340464536552812, 10.340464536552812, 10.349602336459164, 10.349999999999987, 10.349999999999987, 10.349999999999987, 10.349999999999987, 10.349999999999987, 10.349999999999987, 10.349999999999987, 10.349999999999987, 10.349999999999987, 10.349999999999987, 10.349999999999987, 10.349999999999987, 10.350000000000001, 10.350000000000001, 10.350000000000001, 10.350000000000001, 10.350000000000001, 10.350000000000001, 10.350000000000001, 10.350000000000001, 10.350000000000001, 10.350000000000001, 10.350000000000001, 10.350000000000001, 10.350000000000001, 10.350000000000001, 10.350000000000001, 10.350000000000001, 10.350000000000001, 10.350000000000001, 10.350000000000001, 10.350000000000001, 10.350000000000001, 10.350000000000001, 10.350000000000001, 10.350000000000001, 10.350000000000001, 10.350000000000001, 10.350000000000001, 10.350000000000001, 10.350000000000001, 10.350000000000001, 10.350000000000001, 10.350000000000001, 10.350000000000001, 10.350000000000001, 10.350000000000001, 10.350000000000001, 10.350000000000001, 10.350000000000001, 10.350000000000001, 10.350000000000001, 10.350000000000001, 10.350000000000001, 10.350000000000001, 10.350000000000001, 10.350000000000001, 10.350000000000001, 10.350000000000001, 10.350000000000001, 10.350000000000001, 10.350000000000012, 10.350000000000012, 10.350000000000012, 10.350000000000012, 10.366274959521807, 10.366274959521807, 10.399999999999991, 10.399999999999991, 10.399999999999991, 10.399999999999991, 10.399999999999991, 10.399999999999991, 10.399999999999991, 10.399999999999991, 10.399999999999991, 10.399999999999991, 10.399999999999991, 10.399999999999991, 10.399999999999991, 10.399999999999991, 10.399999999999991, 10.399999999999991, 10.399999999999991, 10.399999999999991, 10.399999999999991, 10.399999999999991, 10.399999999999991, 10.399999999999991, 10.399999999999991, 10.400000000000002, 10.400000000000002, 10.400000000000002, 10.400000000000002, 10.400000000000002, 10.400000000000002, 10.400000000000002, 10.400000000000002, 10.400000000000002, 10.400000000000002, 10.400000000000002, 10.400000000000002, 10.400000000000002, 10.400000000000002, 10.400000000000002, 10.400000000000002, 10.400000000000002, 10.400000000000002, 10.400000000000002, 10.400000000000002, 10.400000000000002, 10.400000000000002, 10.400000000000002, 10.400000000000002, 10.400000000000002, 10.400000000000002, 10.400000000000002, 10.400000000000002, 10.400000000000002, 10.400000000000002, 10.400000000000002, 10.400000000000002, 10.400000000000002, 10.400000000000016, 10.400000000000016, 10.400000000000016, 10.400000000000016, 10.400000000000016, 10.400000000000016, 10.400000000000016, 10.400000000000016, 10.400000000000016, 10.400000000000016, 10.400000000000016, 10.400000000000016, 10.440464536552817, 10.440464536552817, 10.449999999999985, 10.45, 10.45, 10.45, 10.45, 10.45, 10.45, 10.45, 10.45, 10.45, 10.45, 10.45, 10.45, 10.45, 10.45, 10.45, 10.45, 10.45, 10.45, 10.45, 10.45, 10.45, 10.45000000000001, 10.45000000000001, 10.45000000000001, 10.45000000000001, 10.45000000000001, 10.45000000000001, 10.45000000000001, 10.45000000000001, 10.45000000000001, 10.45000000000001, 10.45000000000001, 10.45000000000001, 10.45000000000001, 10.450000000000024, 10.499999999999998, 10.499999999999998, 10.499999999999998, 10.500000000000004, 10.500000000000004, 10.500000000000004, 10.596622017931104, 10.596622017931104, 10.729017643566134, 10.803066404972284, 10.803066404972284, 10.87195655059562, 10.913185966751449, 10.913185966751449, 10.932704248070753, 10.932704248070753, 11.019497437504839, 11.019497437504839, 11.03270424807074, 11.032704248070754, 11.047552031692256, 11.047552031692266, 11.304585471713047, 11.31882174295675, 11.31882174295675, 11.31882174295676, 11.320200634607556, 11.320200634607556, 11.405343582332126, 11.405343582332126, 11.443550104528502, 11.443550104528512, 11.443550104528512, 11.443550104528512, 11.48802419302535, 11.48802419302535, 11.48802419302536, 11.48802419302536, 11.509857705065844, 11.557566676013359, 11.55756667601337, 11.659625837807923, 11.659625837807923, 11.66126754285365, 11.66126754285365, 11.736442528655015, 11.736442528655015, 11.736442528655015, 11.73644252865503, 11.759625837807917, 11.759625837807928, 11.765472288978305, 11.765472288978305, 11.862474788193719, 11.862474788193719, 11.891697501640458, 11.891697501640458, 11.910451897828562, 11.910451897828572, 11.931806721805764, 11.931806721805764, 12.111997676912804, 12.111997676912818, 12.21927829138503, 12.21927829138503, 12.354271430377718, 12.354271430377718, 12.402387549707967, 12.510028284010502, 12.510028284010502, 12.60368492401403, 12.603684924014043, 12.635801959669237, 12.635801959669237, 12.635801959669237, 12.635801959669248, 12.70368492401403, 12.703684924014045, 12.726987679894005, 12.745633336880037, 12.745633336880037, 12.745633336880037, 12.750711903045651, 12.750711903045651, 12.750711903045651, 12.755869091710633, 12.985597579886665, 12.985597579886665, 13.132561353289038, 13.132561353289038, 13.232561353289029, 13.23256135328904, 13.405622147185873, 13.405622147185873, 13.497766630228782, 13.497766630228782, 13.508681432525748, 13.508681432525758, 13.652333083843512, 13.656927134432934, 13.800064002665884, 13.800064002665895, 14.199026144896074, 14.199026144896074, 14.42543748677311, 14.42543748677311, 14.42543748677311, 14.42543748677311, 14.42543748677311, 14.42543748677311, 14.42543748677311, 14.42543748677311, 14.458924329705138, 14.458924329705138, 14.475437486773103, 14.475437486773103, 14.475437486773117, 14.475437486773117, 14.475437486773117, 14.475437486773117, 14.475437486773117, 14.525437486773104, 14.525437486773114, 14.525437486773114, 14.525437486773114, 14.91097941180491, 14.91097941180491, 14.945189673115344, 15.087562430697162, 15.151007144290574, 15.151007144290574, 15.251007144290572, 15.251007144290572, 15.71571752372278, 15.71571752372278, 15.723916622937896, 15.772530548895116, 15.772530548895126, 15.801776259361453, 15.872530548895128, 15.872530548895128, 16.042771793691482, 16.042771793691482, 16.29421557944977, 16.29421557944978, 16.29421557944978, 16.29421557944978, 16.450179498171753, 16.474508338905782, 16.474508338905796, 16.474508338905796, 16.474508338905796, 16.474508338905796, 16.474508338905796, 16.474508338905796, 16.474508338905796, 16.474508338905796, 16.474508338905796, 16.474508338905796, 16.474508338905807, 16.474508338905807, 16.474508338905807, 16.474508338905807, 16.474508338905807, 16.474508338905807, 16.474508338905807, 16.524508338905783, 16.524508338905793, 16.524508338905793, 16.524508338905793, 16.524508338905793, 16.5245083389058, 16.5245083389058, 16.5245083389058, 16.5245083389058, 16.5245083389058, 16.5245083389058, 16.5245083389058, 16.5245083389058, 16.5245083389058, 16.5245083389058, 16.524508338905807, 16.537430649714803, 16.574508338905787, 16.574508338905794, 16.574508338905794, 16.574508338905794, 16.574508338905794, 16.574508338905794, 16.574508338905794, 16.707420962620457, 16.73494538812697, 16.73494538812697, 16.73494538812698, 16.774412795617025, 16.774412795617025, 16.774412795617025, 16.77441279561703, 16.77441279561703, 16.82091795835875, 16.86330391662804, 16.86330391662804, 16.874412795617022, 16.874412795617022, 16.87441279561703, 16.87441279561703, 16.879740296010556, 16.879740296010564, 16.9756670184066, 16.97566701840661, 17.048587127247476, 17.048587127247476, 17.048587127247476, 17.048587127247476, 17.071444534080083, 17.071444534080083, 17.075667018406598, 17.075667018406598, 17.097637722904206, 17.097637722904206, 17.221934624874198, 17.22193462487421, 17.266092723199552, 17.266092723199552, 17.29441233878184, 17.29441233878184, 17.309114099745123, 17.309114099745123, 17.338674639301754, 17.338674639301754, 17.342821382319915, 17.342821382319926, 17.34323254660623, 17.431033466518794, 17.654369674907638, 17.654369674907645, 17.754369674907636, 17.754369674907643, 18.01166732566799, 18.01166732566799, 18.01235826200338, 18.01235826200338, 18.047768880839712, 18.047768880839712, 18.047768880839712, 18.047768880839712, 18.14069867154604, 18.14069867154605, 18.229204041069547, 18.229204041069554, 18.321954995722763, 18.321954995722763, 18.321954995722773, 18.34923334112411, 18.349233341124116, 18.364759214478553, 18.37622707155925, 18.41443843682063, 18.41443843682063, 18.52407625744939, 18.5240762574494, 18.549863729252312, 18.549863729252312, 18.620723575268546, 18.620723575268546, 18.698078510154367, 18.698078510154378, 18.951394740435557, 18.951394740435557, 19.15998436773154, 19.15998436773154, 19.259984367731537, 19.259984367731548, 19.332670449579698, 19.332670449579698, 19.332682211267954, 19.33268221126796, 19.539307349692308, 19.614666172626066, 19.614666172626077, 19.614666172626077, 19.614666172626077, 19.614666172626077, 19.664666172626074, 19.664666172626074, 19.664666172626074, 19.664666172626074, 19.664666172626085, 19.664666172626085, 19.664666172626085, 19.712898203796197, 19.712898203796197, 19.71466617262607, 19.71466617262607, 19.714666172626078, 19.71466617262609, 20.050560831221777, 20.050560831221777, 20.31494950417007, 20.314949504170077, 20.322620007516974, 20.322620007516974, 20.32503124995117, 20.32503124995117, 20.425031249951175, 20.425031249951175, 20.599999999999998, 20.599999999999998, 20.599999999999998, 20.599999999999998, 20.600000000000005, 20.600000000000005, 20.600000000000005, 20.600000000000005, 20.600000000000016, 20.60420394398592, 20.60420394398592, 20.644336147457178, 20.644336147457178, 20.649999999999995, 20.649999999999995, 20.649999999999995, 20.649999999999995, 20.649999999999995, 20.650000000000002, 20.650000000000002, 20.650000000000002, 20.65000000000001, 20.65000000000001, 20.65000000000002, 20.69999999999999, 20.69999999999999, 20.699999999999996, 20.699999999999996, 20.699999999999996, 20.699999999999996, 20.699999999999996, 20.699999999999996, 20.700000000000006, 20.700000000000006, 20.700000000000006, 20.700000000000006, 20.700000000000006, 20.749999999999996, 20.749999999999996, 20.749999999999996, 20.750000000000007, 20.750000000000007, 20.750000000000007, 20.750000000000007, 20.800000000000004, 20.800000000000004, 20.800000000000008, 21.23270424807075, 21.23270424807075, 21.232704248070757, 21.232704248070757, 21.232704248070757, 21.232704248070757, 21.232704248070757, 21.232704248070757, 21.232704248070757, 21.232704248070775, 21.282704248070743, 21.28270424807075, 21.28270424807075, 21.28270424807075, 21.28270424807076, 21.28270424807076, 21.28270424807076, 21.282704248070768, 21.33270424807075, 21.33270424807075, 21.332704248070762, 21.534323164538964, 21.534323164538964, 21.725058282947966, 21.725058282947973, 21.856887213894463, 21.85688721389447, 21.959625837807923, 21.959625837807923, 21.959625837807923, 21.959625837807923, 21.959625837807923, 21.95962583780793, 21.95962583780793, 21.96602653048586, 22.009625837807917, 22.009625837807924, 22.009625837807924, 22.009625837807924, 22.009625837807924, 22.009625837807924, 22.009625837807924, 22.009625837807942, 22.059625837807918, 22.05962583780793, 22.05962583780793, 22.05962583780793, 22.068816484524564, 22.300507028212845, 22.300507028212845, 22.44665764833133, 22.44665764833133, 22.44665764833133, 22.554710659212837, 22.554710659212837, 22.554710659212837, 22.554710659212837, 22.572443432889344, 22.572443432889344, 22.57244343288935, 22.57244343288935, 22.903684924014033, 22.903684924014044, 22.903684924014044, 22.903684924014044, 22.903684924014044, 22.95368492401403, 22.95368492401403, 22.953684924014038, 22.953684924014045, 23.00368492401403, 23.00368492401403, 23.00368492401403, 23.003684924014042, 23.020709579091417, 23.020709579091424, 23.050754518027652, 23.05993175723871, 23.05993175723871, 23.059931757238722, 23.059931757238722, 23.43101423630466, 23.43101423630466, 23.43256135328903, 23.43256135328903, 23.43256135328903, 23.43256135328903, 23.43256135328903, 23.432561353289042, 23.432561353289042, 23.43256135328905, 23.482561353289025, 23.482561353289032, 23.482561353289032, 23.482561353289032, 23.482561353289032, 23.482561353289032, 23.482561353289032, 23.482561353289043, 23.482561353289043, 23.519803839706075, 23.53256135328903, 23.53256135328903, 23.532561353289037, 23.532561353289044, 23.70484975663174, 23.70484975663175, 23.844553910091935, 23.844553910091935, 24.72543748677312, 24.72543748677312, 24.825437486773115, 24.825437486773115, 24.913275713961582, 24.913275713961582, 25.1893474943275, 25.1893474943275, 25.406108376042315, 25.406108376042315, 25.5888396610321, 25.5888396610321, 25.792675751089803, 25.792675751089803, 26.340532308893938, 26.774508338905797, 26.774508338905797, 26.774508338905797, 26.87450833890579, 26.874508338905798, 26.874508338905798, 26.874508338905798, 26.91554456187094, 26.91554456187095, 26.917662712417723, 26.917662712417723, 27.12944217698771, 27.12944217698772, 27.13400605475446, 27.13400605475447, 27.183759232378982, 27.183759232379, 27.548357242664668, 27.548357242664668, 27.558967543540867, 27.558967543540867, 29.065196371638383, 29.065196371638383, 29.130348964577248, 29.130348964577255, 29.130348964577255, 29.914666172626074, 30.01105531933462, 30.01105531933463, 30.014666172626075, 30.014666172626075, 30.16938590726597, 30.16938590726598, 30.432690281694594, 30.4326902816946, 30.899999999999995, 30.907967233073325, 30.97062764393686, 30.97062764393686, 30.97062764393686, 30.97062764393687, 30.999999999999996, 31.000000000000004, 31.03267770121199, 31.1, 31.532704248070747, 31.532704248070758, 31.63270424807075, 31.632704248070763, 32.0887825044398, 32.0887825044398, 32.0887825044398, 32.0887825044398, 32.09477196178835, 32.259625837807924, 32.25962583780794, 32.28221811499514, 32.28221811499515, 32.35962583780792, 32.35962583780794, 32.75358236339208, 32.75358236339208, 33.12950566858441, 33.129505668584414, 33.203684924014034, 33.20368492401405, 33.303684924014036, 33.30368492401405, 33.34472003374115, 33.732561353289036, 33.732561353289036, 33.83256135328903, 33.83256135328903, 33.832561353289044, 33.90751298017479, 33.90751298017479, 33.909383126772894, 33.9093831267729, 33.95395756321992, 33.95395756321992, 34.093792226977094, 34.0937922269771, 34.10430690172554, 34.10430690172556, 34.56865522900713, 34.56865522900713, 34.72824173389376, 34.72824173389376, 34.83680239573983, 34.83680239573983, 34.83680239573983, 34.836802395739845, 35.53802904945072, 35.712941527403224, 36.00829872600746, 36.008298726007474, 36.41795671565996, 36.417956715659976, 36.90100170324279, 36.901001703242805, 38.24689509100519, 38.24689509100519]\n"
     ]
    }
   ],
   "source": [
    "eigenvalues, eigenvectors = H_target.eigh()\n",
    "energy_ground_0gauss = []\n",
    "psi_ground_0gauss = []\n",
    "for i in range(len(eigenvalues)):\n",
    "    if Gauss_law.expt_value(eigenvectors[:,i]) <= 1e-8:\n",
    "        energy_ground_0gauss.append(eigenvalues[i])\n",
    "        psi_ground_0gauss.append(eigenvectors[:,i])\n",
    "print(energy_ground_0gauss)"
   ]
  },
  {
   "cell_type": "code",
   "execution_count": 14,
   "id": "4ac96743",
   "metadata": {},
   "outputs": [
    {
     "name": "stdout",
     "output_type": "stream",
     "text": [
      "[-38.04689509 -38.04689509 -36.7010017  ...  36.9010017   38.24689509\n",
      "  38.24689509]\n",
      "(5.016878695460739e-32+0j)\n"
     ]
    }
   ],
   "source": [
    "print(eigenvalues)\n",
    "print(Gauss_law.expt_value(eigenvectors[:,0]))"
   ]
  },
  {
   "cell_type": "code",
   "execution_count": 19,
   "id": "00861310",
   "metadata": {},
   "outputs": [
    {
     "name": "stdout",
     "output_type": "stream",
     "text": [
      "0.9999912457284997\n"
     ]
    }
   ],
   "source": [
    "psi_test = H_target.evolve(eigenvectors[:,0],0.0,np.linspace(0.,110,1000))\n",
    "print(np.abs(np.dot([row[-1] for row in psi_test],eigenvectors[:,0])))"
   ]
  },
  {
   "cell_type": "code",
   "execution_count": 6,
   "id": "e3956580",
   "metadata": {},
   "outputs": [],
   "source": [
    "#eigenvalues,eigenvectors = H_target.eigh()\n",
    "#psi_ground = eigenvectors[:,0]\n",
    "###### time evolve initial state and measure energy\n",
    "import datetime\n",
    "\n",
    "def extract_energy(theta,psi,a):\n",
    "    times0=np.linspace(0.0,theta[0],100)\n",
    "    times1=np.linspace(0.0,theta[1],100)\n",
    "    times2=np.linspace(0.0,theta[2],100)\n",
    "    \n",
    "    psi_t0 = H_violation.evolve(psi,0.0,times0)\n",
    "    psi_t1 = H_target.evolve([row[-1] for row in psi_t0],0.0,times1)\n",
    "    psi_t2 = H_violation.evolve([row[-1] for row in psi_t1],0.0,times2)\n",
    "\n",
    "\n",
    "    cost_function = np.real(H_target.expt_value([row[-1] for row in psi_t2])) + 100.*np.real(Gauss_law.expt_value([row[-1] for row in psi_t2]))**2\n",
    "    return cost_function\n",
    "\n"
   ]
  },
  {
   "cell_type": "code",
   "execution_count": null,
   "id": "4fec248b",
   "metadata": {},
   "outputs": [
    {
     "name": "stdout",
     "output_type": "stream",
     "text": [
      "2021-10-28 12:39:40.567195\n"
     ]
    }
   ],
   "source": [
    "from scipy.optimize import brute\n",
    "from scipy.optimize import minimize\n",
    "print(datetime.datetime.now())\n",
    "brute_ranges = (slice(-20.,20.,1.),slice(-20.,20.,1.),slice(-20.,20.,1.))\n",
    "resbrute = brute(extract_energy, brute_ranges, args = (psi_0,1) ,full_output = True ,finish = minimize)\n",
    "print(datetime.datetime.now())\n",
    "               "
   ]
  },
  {
   "cell_type": "code",
   "execution_count": null,
   "id": "98abfaca",
   "metadata": {},
   "outputs": [],
   "source": [
    "print(resbrute[0]) #theta1, theta2"
   ]
  },
  {
   "cell_type": "code",
   "execution_count": null,
   "id": "14fb6d6f",
   "metadata": {},
   "outputs": [],
   "source": [
    "print(resbrute[1]) #minimized energy"
   ]
  },
  {
   "cell_type": "code",
   "execution_count": 88,
   "id": "3fb80a43",
   "metadata": {},
   "outputs": [
    {
     "name": "stdout",
     "output_type": "stream",
     "text": [
      "(-25.27041656041346-2.1163626406917047e-16j)\n"
     ]
    }
   ],
   "source": [
    "times0=np.linspace(0.0,resbrute[0][0],100)\n",
    "times1=np.linspace(0.0,resbrute[0][1],100)\n",
    "times2=np.linspace(0.0,resbrute[0][2],100)\n",
    "\n",
    "psi_t0 = H_violation.evolve(psi_0,0.0,times0)\n",
    "psi_t1 = H_target.evolve([row[-1] for row in psi_t0],0.0,times1)\n",
    "psi_t2 = H_violation.evolve([row[-1] for row in psi_t1],0.0,times2)\n",
    "\n",
    "psi_ini_1 = [row[-1] for row in psi_t2]\n",
    "\n",
    "print(H_target.expt_value(psi_ini_1))"
   ]
  },
  {
   "cell_type": "code",
   "execution_count": 89,
   "id": "df0f9e35",
   "metadata": {},
   "outputs": [],
   "source": [
    "def extract_energy_1(theta,psi,a):\n",
    "    times0=np.linspace(0.0,theta[0],100)\n",
    "    times1=np.linspace(0.0,theta[1],100)\n",
    "    times2=np.linspace(0.0,theta[2],100)\n",
    "    \n",
    "    psi_t0 = H_violation.evolve(psi_ini_1,0.0,times0)\n",
    "    psi_t1 = H_target.evolve([row[-1] for row in psi_t0],0.0,times1)\n",
    "    psi_t2 = H_violation.evolve([row[-1] for row in psi_t1],0.0,times2)\n",
    "\n",
    "\n",
    "    cost_function = np.real(H_target.expt_value([row[-1] for row in psi_t2])) + 100.*np.real(Gauss_law.expt_value([row[-1] for row in psi_t2]))**2\n",
    "    return cost_function"
   ]
  },
  {
   "cell_type": "code",
   "execution_count": 90,
   "id": "f1484d48",
   "metadata": {},
   "outputs": [
    {
     "name": "stdout",
     "output_type": "stream",
     "text": [
      "2021-10-27 14:32:59.362877\n",
      "2021-10-27 14:45:15.135597\n"
     ]
    }
   ],
   "source": [
    "from scipy.optimize import brute\n",
    "from scipy.optimize import minimize\n",
    "print(datetime.datetime.now())\n",
    "brute_ranges = (slice(-0.5,11.,1.),slice(-0.5,11.,1.),slice(-0.5,11.,1.))\n",
    "resbrute = brute(extract_energy, brute_ranges, args = (psi_ini_1,1) ,full_output = True ,finish = minimize)\n",
    "print(datetime.datetime.now())\n",
    "               "
   ]
  },
  {
   "cell_type": "code",
   "execution_count": 91,
   "id": "6e755fb2",
   "metadata": {},
   "outputs": [
    {
     "name": "stdout",
     "output_type": "stream",
     "text": [
      "[-0.18249443  9.48343837 -0.28308836]\n"
     ]
    }
   ],
   "source": [
    "print(resbrute[0]) #theta1, theta2"
   ]
  },
  {
   "cell_type": "code",
   "execution_count": 92,
   "id": "aed4ffe9",
   "metadata": {},
   "outputs": [
    {
     "name": "stdout",
     "output_type": "stream",
     "text": [
      "-25.528113198669775\n"
     ]
    }
   ],
   "source": [
    "print(resbrute[1]) #minimized energy"
   ]
  },
  {
   "cell_type": "code",
   "execution_count": 94,
   "id": "95840905",
   "metadata": {},
   "outputs": [
    {
     "name": "stdout",
     "output_type": "stream",
     "text": [
      "(-25.528113198669775+1.1102230246251565e-16j)\n"
     ]
    }
   ],
   "source": [
    "times0=np.linspace(0.0,resbrute[0][0],100)\n",
    "times1=np.linspace(0.0,resbrute[0][1],100)\n",
    "times2=np.linspace(0.0,resbrute[0][2],100)\n",
    "\n",
    "psi_t0 = H_violation.evolve(psi_ini_1,0.0,times0)\n",
    "psi_t1 = H_target.evolve([row[-1] for row in psi_t0],0.0,times1)\n",
    "psi_t2 = H_violation.evolve([row[-1] for row in psi_t1],0.0,times2)\n",
    "\n",
    "psi_ini_2 = [row[-1] for row in psi_t2]\n",
    "\n",
    "print(H_target.expt_value(psi_ini_2))"
   ]
  },
  {
   "cell_type": "code",
   "execution_count": 95,
   "id": "012aa7e2",
   "metadata": {},
   "outputs": [],
   "source": [
    "def extract_energy_2(theta,psi,a):\n",
    "    times0=np.linspace(0.0,theta[0],100)\n",
    "    times1=np.linspace(0.0,theta[1],100)\n",
    "    times2=np.linspace(0.0,theta[2],100)\n",
    "    \n",
    "    psi_t0 = H_violation.evolve(psi_ini_2,0.0,times0)\n",
    "    psi_t1 = H_target.evolve([row[-1] for row in psi_t0],0.0,times1)\n",
    "    psi_t2 = H_violation.evolve([row[-1] for row in psi_t1],0.0,times2)\n",
    "\n",
    "\n",
    "    cost_function = np.real(H_target.expt_value([row[-1] for row in psi_t2])) + 100.*np.real(Gauss_law.expt_value([row[-1] for row in psi_t2]))**2\n",
    "    return cost_function"
   ]
  },
  {
   "cell_type": "code",
   "execution_count": 96,
   "id": "2bf1783a",
   "metadata": {},
   "outputs": [
    {
     "name": "stdout",
     "output_type": "stream",
     "text": [
      "2021-10-27 14:49:14.277021\n",
      "2021-10-27 14:58:13.948927\n"
     ]
    }
   ],
   "source": [
    "from scipy.optimize import brute\n",
    "from scipy.optimize import minimize\n",
    "print(datetime.datetime.now())\n",
    "brute_ranges = (slice(-0.5,11.,1.),slice(-0.5,11.,1.),slice(-0.5,11.,1.))\n",
    "resbrute = brute(extract_energy, brute_ranges, args = (psi_ini_2,1) ,full_output = True ,finish = minimize)\n",
    "print(datetime.datetime.now())\n",
    "               "
   ]
  },
  {
   "cell_type": "code",
   "execution_count": 97,
   "id": "cd596f8e",
   "metadata": {},
   "outputs": [
    {
     "name": "stdout",
     "output_type": "stream",
     "text": [
      "[6.29557685 9.48128187 6.35751863]\n"
     ]
    }
   ],
   "source": [
    "print(resbrute[0]) #theta1, theta2"
   ]
  },
  {
   "cell_type": "code",
   "execution_count": 98,
   "id": "1443eb6a",
   "metadata": {},
   "outputs": [
    {
     "name": "stdout",
     "output_type": "stream",
     "text": [
      "-26.71951911112678\n"
     ]
    }
   ],
   "source": [
    "print(resbrute[1]) #minimized energy"
   ]
  },
  {
   "cell_type": "code",
   "execution_count": 99,
   "id": "8eb4a479",
   "metadata": {},
   "outputs": [
    {
     "name": "stdout",
     "output_type": "stream",
     "text": [
      "(-26.71951911112678+1.7763568394002505e-15j)\n"
     ]
    }
   ],
   "source": [
    "times0=np.linspace(0.0,resbrute[0][0],100)\n",
    "times1=np.linspace(0.0,resbrute[0][1],100)\n",
    "times2=np.linspace(0.0,resbrute[0][2],100)\n",
    "\n",
    "psi_t0 = H_violation.evolve(psi_ini_2,0.0,times0)\n",
    "psi_t1 = H_target.evolve([row[-1] for row in psi_t0],0.0,times1)\n",
    "psi_t2 = H_violation.evolve([row[-1] for row in psi_t1],0.0,times2)\n",
    "\n",
    "psi_ini_3 = [row[-1] for row in psi_t2]\n",
    "\n",
    "print(H_target.expt_value(psi_ini_3))"
   ]
  },
  {
   "cell_type": "code",
   "execution_count": 100,
   "id": "1b3b9adf",
   "metadata": {},
   "outputs": [],
   "source": [
    "def extract_energy_3(theta,psi,a):\n",
    "    times0=np.linspace(0.0,theta[0],100)\n",
    "    times1=np.linspace(0.0,theta[1],100)\n",
    "    times2=np.linspace(0.0,theta[2],100)\n",
    "    \n",
    "    psi_t0 = H_violation.evolve(psi_ini_3,0.0,times0)\n",
    "    psi_t1 = H_target.evolve([row[-1] for row in psi_t0],0.0,times1)\n",
    "    psi_t2 = H_violation.evolve([row[-1] for row in psi_t1],0.0,times2)\n",
    "\n",
    "\n",
    "    cost_function = np.real(H_target.expt_value([row[-1] for row in psi_t2])) + 100.*np.real(Gauss_law.expt_value([row[-1] for row in psi_t2]))**2\n",
    "    return cost_function"
   ]
  },
  {
   "cell_type": "code",
   "execution_count": 101,
   "id": "f09c68c1",
   "metadata": {},
   "outputs": [
    {
     "name": "stdout",
     "output_type": "stream",
     "text": [
      "2021-10-27 15:02:21.141683\n",
      "2021-10-27 15:10:40.986207\n"
     ]
    }
   ],
   "source": [
    "from scipy.optimize import brute\n",
    "from scipy.optimize import minimize\n",
    "print(datetime.datetime.now())\n",
    "brute_ranges = (slice(-0.5,11.,1.),slice(-0.5,11.,1.),slice(-0.5,11.,1.))\n",
    "resbrute = brute(extract_energy, brute_ranges, args = (psi_ini_3,1) ,full_output = True ,finish = minimize)\n",
    "print(datetime.datetime.now())\n",
    "               "
   ]
  },
  {
   "cell_type": "code",
   "execution_count": 102,
   "id": "ddde4196",
   "metadata": {},
   "outputs": [
    {
     "name": "stdout",
     "output_type": "stream",
     "text": [
      "[6.29689095 2.51669598 6.28671287]\n"
     ]
    }
   ],
   "source": [
    "print(resbrute[0]) #theta1, theta2"
   ]
  },
  {
   "cell_type": "code",
   "execution_count": 103,
   "id": "47864896",
   "metadata": {},
   "outputs": [
    {
     "name": "stdout",
     "output_type": "stream",
     "text": [
      "-26.781996618215718\n"
     ]
    }
   ],
   "source": [
    "print(resbrute[1]) #minimized energy"
   ]
  },
  {
   "cell_type": "code",
   "execution_count": 111,
   "id": "c996fe9c",
   "metadata": {},
   "outputs": [
    {
     "name": "stdout",
     "output_type": "stream",
     "text": [
      "(-5.695801056250805-8.326672684688674e-17j)\n",
      "(-1.582067810090848e-15+0j)\n"
     ]
    }
   ],
   "source": [
    "times = np.linspace(0.0,10,100)\n",
    "times1=np.linspace(0.0,resbrute[0][0],100)\n",
    "times2=np.linspace(0.0,resbrute[0][1],100)\n",
    "\n",
    "psi_t1 = H_violation.evolve(psi_ini_3,0.0,times1)\n",
    "psi_t2 = H_target.evolve([row[-1] for row in psi_t1],0.0,times)\n",
    "psi_t3 = H_violation.evolve([row[-1] for row in psi_t2],0.0,times2)\n",
    "\n",
    "psi_ini_4 = [row[-1] for row in psi_t3]\n",
    "\n",
    "print(H_target.expt_value(psi_ini_4))\n",
    "print(Gauss_law.expt_value(psi_ini_4))"
   ]
  },
  {
   "cell_type": "code",
   "execution_count": 112,
   "id": "b951d6ca",
   "metadata": {},
   "outputs": [],
   "source": [
    "def extract_energy_4(theta):\n",
    "    times1=np.linspace(0.0,theta[0],100)\n",
    "    times2=np.linspace(0.0,theta[1],100)\n",
    "    #times3=np.linspace(0.0,theta[2],100)\n",
    "    #times4=np.linspace(0.0,theta[3],100)\n",
    "    #times5=np.linspace(0.0,theta[4],100)\n",
    "\n",
    "    psi_t1 = H_violation.evolve(psi_ini_4,0.0,times1)\n",
    "    psi_t2 = H_target.evolve([row[-1] for row in psi_t1],0.0,times)\n",
    "    psi_t3 = H_violation.evolve([row[-1] for row in psi_t2],0.0,times2)\n",
    "    #psi_t4 = H_target.evolve([row[-1] for row in psi_t3],0.0,times)\n",
    "    #psi_t5 = H_violation.evolve([row[-1] for row in psi_t4],0.0,times3)\n",
    "    #psi_t6 = H_target.evolve([row[-1] for row in psi_t5],0.0,times)\n",
    "    #psi_t7 = H_violation.evolve([row[-1] for row in psi_t6],0.0,times4)\n",
    "    #psi_t8 = H_target.evolve([row[-1] for row in psi_t7],0.0,times)\n",
    "    #psi_t9 = H_violation.evolve([row[-1] for row in psi_t8],0.0,times5)\n",
    "\n",
    "\n",
    "    cost_function = H_target.expt_value([row[-1] for row in psi_t3]) + 100*Gauss_law.expt_value([row[-1] for row in psi_t3])**2\n",
    "    return np.real(cost_function)"
   ]
  },
  {
   "cell_type": "code",
   "execution_count": 113,
   "id": "8cc5e3c1",
   "metadata": {},
   "outputs": [
    {
     "name": "stdout",
     "output_type": "stream",
     "text": [
      "2021-10-26 14:04:32.345071\n",
      "2021-10-26 14:05:21.263494\n"
     ]
    }
   ],
   "source": [
    "from scipy.optimize import brute\n",
    "from scipy.optimize import minimize\n",
    "print(datetime.datetime.now())\n",
    "brute_ranges = (slice(0,10,1.),slice(0,10,1.))\n",
    "resbrute = brute(extract_energy_4, brute_ranges,full_output = True ,finish = minimize)\n",
    "print(datetime.datetime.now())\n",
    "               "
   ]
  },
  {
   "cell_type": "code",
   "execution_count": 114,
   "id": "5f385a99",
   "metadata": {},
   "outputs": [
    {
     "name": "stdout",
     "output_type": "stream",
     "text": [
      "[-0.10002423 -1.18810346]\n"
     ]
    }
   ],
   "source": [
    "print(resbrute[0]) #theta1, theta2"
   ]
  },
  {
   "cell_type": "code",
   "execution_count": 115,
   "id": "700f1154",
   "metadata": {},
   "outputs": [
    {
     "name": "stdout",
     "output_type": "stream",
     "text": [
      "-6.026920088071035\n"
     ]
    }
   ],
   "source": [
    "print(resbrute[1]) #minimized energy"
   ]
  },
  {
   "cell_type": "code",
   "execution_count": 116,
   "id": "1073a8f2",
   "metadata": {},
   "outputs": [
    {
     "name": "stdout",
     "output_type": "stream",
     "text": [
      "(-6.026920088071035-2.7755575615628914e-16j)\n",
      "(-3.552713678800501e-15+0j)\n"
     ]
    }
   ],
   "source": [
    "times = np.linspace(0.0,10,100)\n",
    "times1=np.linspace(0.0,resbrute[0][0],100)\n",
    "times2=np.linspace(0.0,resbrute[0][1],100)\n",
    "\n",
    "psi_t1 = H_violation.evolve(psi_ini_4,0.0,times1)\n",
    "psi_t2 = H_target.evolve([row[-1] for row in psi_t1],0.0,times)\n",
    "psi_t3 = H_violation.evolve([row[-1] for row in psi_t2],0.0,times2)\n",
    "\n",
    "psi_ini_5 = [row[-1] for row in psi_t3]\n",
    "\n",
    "print(H_target.expt_value(psi_ini_5))\n",
    "print(Gauss_law.expt_value(psi_ini_5))"
   ]
  },
  {
   "cell_type": "code",
   "execution_count": 117,
   "id": "8958ec57",
   "metadata": {},
   "outputs": [],
   "source": [
    "def extract_energy_5(theta):\n",
    "    times1=np.linspace(0.0,theta[0],100)\n",
    "    times2=np.linspace(0.0,theta[1],100)\n",
    "    #times3=np.linspace(0.0,theta[2],100)\n",
    "    #times4=np.linspace(0.0,theta[3],100)\n",
    "    #times5=np.linspace(0.0,theta[4],100)\n",
    "\n",
    "    psi_t1 = H_violation.evolve(psi_ini_5,0.0,times1)\n",
    "    psi_t2 = H_target.evolve([row[-1] for row in psi_t1],0.0,times)\n",
    "    psi_t3 = H_violation.evolve([row[-1] for row in psi_t2],0.0,times2)\n",
    "    #psi_t4 = H_target.evolve([row[-1] for row in psi_t3],0.0,times)\n",
    "    #psi_t5 = H_violation.evolve([row[-1] for row in psi_t4],0.0,times3)\n",
    "    #psi_t6 = H_target.evolve([row[-1] for row in psi_t5],0.0,times)\n",
    "    #psi_t7 = H_violation.evolve([row[-1] for row in psi_t6],0.0,times4)\n",
    "    #psi_t8 = H_target.evolve([row[-1] for row in psi_t7],0.0,times)\n",
    "    #psi_t9 = H_violation.evolve([row[-1] for row in psi_t8],0.0,times5)\n",
    "\n",
    "\n",
    "    cost_function = H_target.expt_value([row[-1] for row in psi_t3]) + 100*Gauss_law.expt_value([row[-1] for row in psi_t3])**2\n",
    "    return np.real(cost_function)"
   ]
  },
  {
   "cell_type": "code",
   "execution_count": 118,
   "id": "263c1b4c",
   "metadata": {},
   "outputs": [
    {
     "name": "stdout",
     "output_type": "stream",
     "text": [
      "2021-10-26 14:05:21.656452\n",
      "2021-10-26 14:06:06.259785\n"
     ]
    }
   ],
   "source": [
    "from scipy.optimize import brute\n",
    "from scipy.optimize import minimize\n",
    "print(datetime.datetime.now())\n",
    "brute_ranges = (slice(0,10,1.),slice(0,10,1.))\n",
    "resbrute = brute(extract_energy_5, brute_ranges,full_output = True ,finish = minimize)\n",
    "print(datetime.datetime.now())\n",
    "               "
   ]
  },
  {
   "cell_type": "code",
   "execution_count": 119,
   "id": "e3195020",
   "metadata": {},
   "outputs": [
    {
     "name": "stdout",
     "output_type": "stream",
     "text": [
      "[ 0.14525717 -1.21860723]\n"
     ]
    }
   ],
   "source": [
    "print(resbrute[0]) #theta1, theta2"
   ]
  },
  {
   "cell_type": "code",
   "execution_count": 120,
   "id": "5dce7081",
   "metadata": {},
   "outputs": [
    {
     "name": "stdout",
     "output_type": "stream",
     "text": [
      "-7.605261587719853\n"
     ]
    }
   ],
   "source": [
    "print(resbrute[1]) #minimized energy"
   ]
  },
  {
   "cell_type": "code",
   "execution_count": 121,
   "id": "9f0f9902",
   "metadata": {},
   "outputs": [
    {
     "name": "stdout",
     "output_type": "stream",
     "text": [
      "(-7.605261587719853-2.7755575615628914e-17j)\n",
      "(-1.7208456881689926e-15+0j)\n"
     ]
    }
   ],
   "source": [
    "times = np.linspace(0.0,10,100)\n",
    "times1=np.linspace(0.0,resbrute[0][0],100)\n",
    "times2=np.linspace(0.0,resbrute[0][1],100)\n",
    "\n",
    "psi_t1 = H_violation.evolve(psi_ini_5,0.0,times1)\n",
    "psi_t2 = H_target.evolve([row[-1] for row in psi_t1],0.0,times)\n",
    "psi_t3 = H_violation.evolve([row[-1] for row in psi_t2],0.0,times2)\n",
    "\n",
    "psi_ini_6 = [row[-1] for row in psi_t3]\n",
    "\n",
    "print(H_target.expt_value(psi_ini_6))\n",
    "print(Gauss_law.expt_value(psi_ini_6))"
   ]
  },
  {
   "cell_type": "code",
   "execution_count": 122,
   "id": "0bd6b87c",
   "metadata": {},
   "outputs": [],
   "source": [
    "def extract_energy_6(theta):\n",
    "    times1=np.linspace(0.0,theta[0],100)\n",
    "    times2=np.linspace(0.0,theta[1],100)\n",
    "    #times3=np.linspace(0.0,theta[2],100)\n",
    "    #times4=np.linspace(0.0,theta[3],100)\n",
    "    #times5=np.linspace(0.0,theta[4],100)\n",
    "\n",
    "    psi_t1 = H_violation.evolve(psi_ini_6,0.0,times1)\n",
    "    psi_t2 = H_target.evolve([row[-1] for row in psi_t1],0.0,times)\n",
    "    psi_t3 = H_violation.evolve([row[-1] for row in psi_t2],0.0,times2)\n",
    "    #psi_t4 = H_target.evolve([row[-1] for row in psi_t3],0.0,times)\n",
    "    #psi_t5 = H_violation.evolve([row[-1] for row in psi_t4],0.0,times3)\n",
    "    #psi_t6 = H_target.evolve([row[-1] for row in psi_t5],0.0,times)\n",
    "    #psi_t7 = H_violation.evolve([row[-1] for row in psi_t6],0.0,times4)\n",
    "    #psi_t8 = H_target.evolve([row[-1] for row in psi_t7],0.0,times)\n",
    "    #psi_t9 = H_violation.evolve([row[-1] for row in psi_t8],0.0,times5)\n",
    "\n",
    "\n",
    "    cost_function = H_target.expt_value([row[-1] for row in psi_t3]) + 100*Gauss_law.expt_value([row[-1] for row in psi_t3])**2\n",
    "    return np.real(cost_function)"
   ]
  },
  {
   "cell_type": "code",
   "execution_count": 123,
   "id": "66df5406",
   "metadata": {},
   "outputs": [
    {
     "name": "stdout",
     "output_type": "stream",
     "text": [
      "2021-10-26 14:07:41.650860\n",
      "2021-10-26 14:08:24.393818\n"
     ]
    }
   ],
   "source": [
    "from scipy.optimize import brute\n",
    "from scipy.optimize import minimize\n",
    "print(datetime.datetime.now())\n",
    "brute_ranges = (slice(0,10,1.),slice(0,10,1.))\n",
    "resbrute = brute(extract_energy_6, brute_ranges,full_output = True ,finish = minimize)\n",
    "print(datetime.datetime.now())\n",
    "               "
   ]
  },
  {
   "cell_type": "code",
   "execution_count": 124,
   "id": "be17f5e9",
   "metadata": {},
   "outputs": [
    {
     "name": "stdout",
     "output_type": "stream",
     "text": [
      "[-0.00539434  0.07064312]\n"
     ]
    }
   ],
   "source": [
    "print(resbrute[0]) #theta1, theta2"
   ]
  },
  {
   "cell_type": "code",
   "execution_count": 125,
   "id": "74a168d4",
   "metadata": {},
   "outputs": [
    {
     "name": "stdout",
     "output_type": "stream",
     "text": [
      "-7.614896406210371\n"
     ]
    }
   ],
   "source": [
    "print(resbrute[1]) #minimized energy"
   ]
  },
  {
   "cell_type": "code",
   "execution_count": 127,
   "id": "ca91afa4",
   "metadata": {},
   "outputs": [
    {
     "name": "stdout",
     "output_type": "stream",
     "text": [
      "(-7.614896406210371+0j)\n",
      "(-1.6653345369377348e-15+0j)\n"
     ]
    }
   ],
   "source": [
    "times = np.linspace(0.0,10,100)\n",
    "times1=np.linspace(0.0,resbrute[0][0],100)\n",
    "times2=np.linspace(0.0,resbrute[0][1],100)\n",
    "\n",
    "psi_t1 = H_violation.evolve(psi_ini_6,0.0,times1)\n",
    "psi_t2 = H_target.evolve([row[-1] for row in psi_t1],0.0,times)\n",
    "psi_t3 = H_violation.evolve([row[-1] for row in psi_t2],0.0,times2)\n",
    "\n",
    "psi_ini_7 = [row[-1] for row in psi_t3]\n",
    "\n",
    "print(H_target.expt_value(psi_ini_7))\n",
    "print(Gauss_law.expt_value(psi_ini_7))"
   ]
  },
  {
   "cell_type": "code",
   "execution_count": 128,
   "id": "f915a553",
   "metadata": {},
   "outputs": [],
   "source": [
    "def extract_energy_7(theta):\n",
    "    times1=np.linspace(0.0,theta[0],100)\n",
    "    times2=np.linspace(0.0,theta[1],100)\n",
    "    #times3=np.linspace(0.0,theta[2],100)\n",
    "    #times4=np.linspace(0.0,theta[3],100)\n",
    "    #times5=np.linspace(0.0,theta[4],100)\n",
    "\n",
    "    psi_t1 = H_violation.evolve(psi_ini_7,0.0,times1)\n",
    "    psi_t2 = H_target.evolve([row[-1] for row in psi_t1],0.0,times)\n",
    "    psi_t3 = H_violation.evolve([row[-1] for row in psi_t2],0.0,times2)\n",
    "    #psi_t4 = H_target.evolve([row[-1] for row in psi_t3],0.0,times)\n",
    "    #psi_t5 = H_violation.evolve([row[-1] for row in psi_t4],0.0,times3)\n",
    "    #psi_t6 = H_target.evolve([row[-1] for row in psi_t5],0.0,times)\n",
    "    #psi_t7 = H_violation.evolve([row[-1] for row in psi_t6],0.0,times4)\n",
    "    #psi_t8 = H_target.evolve([row[-1] for row in psi_t7],0.0,times)\n",
    "    #psi_t9 = H_violation.evolve([row[-1] for row in psi_t8],0.0,times5)\n",
    "\n",
    "\n",
    "    cost_function = H_target.expt_value([row[-1] for row in psi_t3]) + 100*Gauss_law.expt_value([row[-1] for row in psi_t3])**2\n",
    "    return np.real(cost_function)"
   ]
  },
  {
   "cell_type": "code",
   "execution_count": 129,
   "id": "1e20d58c",
   "metadata": {},
   "outputs": [
    {
     "name": "stdout",
     "output_type": "stream",
     "text": [
      "2021-10-26 14:23:33.096754\n",
      "2021-10-26 14:24:20.054394\n"
     ]
    }
   ],
   "source": [
    "from scipy.optimize import brute\n",
    "from scipy.optimize import minimize\n",
    "print(datetime.datetime.now())\n",
    "brute_ranges = (slice(0,10,1.),slice(0,10,1.))\n",
    "resbrute = brute(extract_energy_7, brute_ranges,full_output = True ,finish = minimize)\n",
    "print(datetime.datetime.now())\n",
    "               "
   ]
  },
  {
   "cell_type": "code",
   "execution_count": 130,
   "id": "140bb7d1",
   "metadata": {},
   "outputs": [
    {
     "name": "stdout",
     "output_type": "stream",
     "text": [
      "[0.79753307 5.15726189]\n"
     ]
    }
   ],
   "source": [
    "print(resbrute[0]) #theta1, theta2"
   ]
  },
  {
   "cell_type": "code",
   "execution_count": 131,
   "id": "4be29e1b",
   "metadata": {},
   "outputs": [
    {
     "name": "stdout",
     "output_type": "stream",
     "text": [
      "-9.259893078770984\n"
     ]
    }
   ],
   "source": [
    "print(resbrute[1]) #minimized energy"
   ]
  },
  {
   "cell_type": "code",
   "execution_count": 132,
   "id": "c8b0410a",
   "metadata": {},
   "outputs": [
    {
     "name": "stdout",
     "output_type": "stream",
     "text": [
      "(-9.259893078770984+1.6653345369377348e-16j)\n",
      "(-4.440892098500626e-16+0j)\n"
     ]
    }
   ],
   "source": [
    "times = np.linspace(0.0,10,100)\n",
    "times1=np.linspace(0.0,resbrute[0][0],100)\n",
    "times2=np.linspace(0.0,resbrute[0][1],100)\n",
    "\n",
    "psi_t1 = H_violation.evolve(psi_ini_7,0.0,times1)\n",
    "psi_t2 = H_target.evolve([row[-1] for row in psi_t1],0.0,times)\n",
    "psi_t3 = H_violation.evolve([row[-1] for row in psi_t2],0.0,times2)\n",
    "\n",
    "psi_ini_8 = [row[-1] for row in psi_t3]\n",
    "\n",
    "print(H_target.expt_value(psi_ini_8))\n",
    "print(Gauss_law.expt_value(psi_ini_8))"
   ]
  },
  {
   "cell_type": "code",
   "execution_count": 133,
   "id": "8b824626",
   "metadata": {},
   "outputs": [],
   "source": [
    "def extract_energy_8(theta):\n",
    "    times1=np.linspace(0.0,theta[0],100)\n",
    "    times2=np.linspace(0.0,theta[1],100)\n",
    "    #times3=np.linspace(0.0,theta[2],100)\n",
    "    #times4=np.linspace(0.0,theta[3],100)\n",
    "    #times5=np.linspace(0.0,theta[4],100)\n",
    "\n",
    "    psi_t1 = H_violation.evolve(psi_ini_8,0.0,times1)\n",
    "    psi_t2 = H_target.evolve([row[-1] for row in psi_t1],0.0,times)\n",
    "    psi_t3 = H_violation.evolve([row[-1] for row in psi_t2],0.0,times2)\n",
    "    #psi_t4 = H_target.evolve([row[-1] for row in psi_t3],0.0,times)\n",
    "    #psi_t5 = H_violation.evolve([row[-1] for row in psi_t4],0.0,times3)\n",
    "    #psi_t6 = H_target.evolve([row[-1] for row in psi_t5],0.0,times)\n",
    "    #psi_t7 = H_violation.evolve([row[-1] for row in psi_t6],0.0,times4)\n",
    "    #psi_t8 = H_target.evolve([row[-1] for row in psi_t7],0.0,times)\n",
    "    #psi_t9 = H_violation.evolve([row[-1] for row in psi_t8],0.0,times5)\n",
    "\n",
    "\n",
    "    cost_function = H_target.expt_value([row[-1] for row in psi_t3]) + 100*Gauss_law.expt_value([row[-1] for row in psi_t3])**2\n",
    "    return np.real(cost_function)"
   ]
  },
  {
   "cell_type": "code",
   "execution_count": 134,
   "id": "617d649a",
   "metadata": {},
   "outputs": [
    {
     "name": "stdout",
     "output_type": "stream",
     "text": [
      "2021-10-26 14:25:39.211427\n",
      "2021-10-26 14:26:21.434821\n"
     ]
    }
   ],
   "source": [
    "from scipy.optimize import brute\n",
    "from scipy.optimize import minimize\n",
    "print(datetime.datetime.now())\n",
    "brute_ranges = (slice(0,10,1.),slice(0,10,1.))\n",
    "resbrute = brute(extract_energy_8, brute_ranges,full_output = True ,finish = minimize)\n",
    "print(datetime.datetime.now())\n",
    "               "
   ]
  },
  {
   "cell_type": "code",
   "execution_count": 135,
   "id": "e8db5f72",
   "metadata": {},
   "outputs": [
    {
     "name": "stdout",
     "output_type": "stream",
     "text": [
      "[-0.01296797 -0.36437937]\n"
     ]
    }
   ],
   "source": [
    "print(resbrute[0]) #theta1, theta2"
   ]
  },
  {
   "cell_type": "code",
   "execution_count": 136,
   "id": "19d9512d",
   "metadata": {},
   "outputs": [
    {
     "name": "stdout",
     "output_type": "stream",
     "text": [
      "-9.605648945865187\n"
     ]
    }
   ],
   "source": [
    "print(resbrute[1]) #mnimized energy"
   ]
  },
  {
   "cell_type": "code",
   "execution_count": 137,
   "id": "5cbde0eb",
   "metadata": {},
   "outputs": [
    {
     "name": "stdout",
     "output_type": "stream",
     "text": [
      "(-9.605648945865187+0j)\n",
      "(-1.6653345369377348e-15+0j)\n"
     ]
    }
   ],
   "source": [
    "times = np.linspace(0.0,10,100)\n",
    "times1=np.linspace(0.0,resbrute[0][0],100)\n",
    "times2=np.linspace(0.0,resbrute[0][1],100)\n",
    "\n",
    "psi_t1 = H_violation.evolve(psi_ini_8,0.0,times1)\n",
    "psi_t2 = H_target.evolve([row[-1] for row in psi_t1],0.0,times)\n",
    "psi_t3 = H_violation.evolve([row[-1] for row in psi_t2],0.0,times2)\n",
    "\n",
    "psi_ini_9 = [row[-1] for row in psi_t3]\n",
    "\n",
    "print(H_target.expt_value(psi_ini_9))\n",
    "print(Gauss_law.expt_value(psi_ini_9))"
   ]
  },
  {
   "cell_type": "code",
   "execution_count": 138,
   "id": "fc50257b",
   "metadata": {},
   "outputs": [],
   "source": [
    "def extract_energy_9(theta):\n",
    "    times1=np.linspace(0.0,theta[0],100)\n",
    "    times2=np.linspace(0.0,theta[1],100)\n",
    "    #times3=np.linspace(0.0,theta[2],100)\n",
    "    #times4=np.linspace(0.0,theta[3],100)\n",
    "    #times5=np.linspace(0.0,theta[4],100)\n",
    "\n",
    "    psi_t1 = H_violation.evolve(psi_ini_9,0.0,times1)\n",
    "    psi_t2 = H_target.evolve([row[-1] for row in psi_t1],0.0,times)\n",
    "    psi_t3 = H_violation.evolve([row[-1] for row in psi_t2],0.0,times2)\n",
    "    #psi_t4 = H_target.evolve([row[-1] for row in psi_t3],0.0,times)\n",
    "    #psi_t5 = H_violation.evolve([row[-1] for row in psi_t4],0.0,times3)\n",
    "    #psi_t6 = H_target.evolve([row[-1] for row in psi_t5],0.0,times)\n",
    "    #psi_t7 = H_violation.evolve([row[-1] for row in psi_t6],0.0,times4)\n",
    "    #psi_t8 = H_target.evolve([row[-1] for row in psi_t7],0.0,times)\n",
    "    #psi_t9 = H_violation.evolve([row[-1] for row in psi_t8],0.0,times5)\n",
    "\n",
    "\n",
    "    cost_function = H_target.expt_value([row[-1] for row in psi_t3]) + 100*Gauss_law.expt_value([row[-1] for row in psi_t3])**2\n",
    "    return np.real(cost_function)"
   ]
  },
  {
   "cell_type": "code",
   "execution_count": 139,
   "id": "9b6cad17",
   "metadata": {},
   "outputs": [
    {
     "name": "stdout",
     "output_type": "stream",
     "text": [
      "2021-10-26 14:27:22.737206\n",
      "2021-10-26 14:28:05.560595\n"
     ]
    }
   ],
   "source": [
    "from scipy.optimize import brute\n",
    "from scipy.optimize import minimize\n",
    "print(datetime.datetime.now())\n",
    "brute_ranges = (slice(0,10,1.),slice(0,10,1.))\n",
    "resbrute = brute(extract_energy_9, brute_ranges,full_output = True ,finish = minimize)\n",
    "print(datetime.datetime.now())\n",
    "               "
   ]
  },
  {
   "cell_type": "code",
   "execution_count": 140,
   "id": "553fb852",
   "metadata": {},
   "outputs": [
    {
     "name": "stdout",
     "output_type": "stream",
     "text": [
      "[0.12833032 0.31664947]\n"
     ]
    }
   ],
   "source": [
    "print(resbrute[0]) #theta1, theta2"
   ]
  },
  {
   "cell_type": "code",
   "execution_count": 141,
   "id": "d2ba6cd4",
   "metadata": {},
   "outputs": [
    {
     "name": "stdout",
     "output_type": "stream",
     "text": [
      "-9.812094205978507\n"
     ]
    }
   ],
   "source": [
    "print(resbrute[1]) #minimized energy"
   ]
  },
  {
   "cell_type": "code",
   "execution_count": null,
   "id": "7e5fcb66",
   "metadata": {},
   "outputs": [],
   "source": []
  },
  {
   "cell_type": "code",
   "execution_count": null,
   "id": "e5e4b51f",
   "metadata": {},
   "outputs": [],
   "source": []
  },
  {
   "cell_type": "code",
   "execution_count": null,
   "id": "3bb5d6ff",
   "metadata": {},
   "outputs": [],
   "source": []
  },
  {
   "cell_type": "code",
   "execution_count": 55,
   "id": "60f7c425",
   "metadata": {},
   "outputs": [
    {
     "data": {
      "text/plain": [
       "(1.6653345369377348e-15+0j)"
      ]
     },
     "execution_count": 55,
     "metadata": {},
     "output_type": "execute_result"
    }
   ],
   "source": [
    "times = np.linspace(0.0,10,100)\n",
    "times1=np.linspace(0.0,resbrute[0][0],100)\n",
    "times2=np.linspace(0.0,resbrute[0][1],100)\n",
    "\n",
    "psi_t1 = H_violation.evolve(psi_ini,0.0,times1)\n",
    "psi_t2 = H_target.evolve([row[-1] for row in psi_t1],0.0,times)\n",
    "psi_t3 = H_violation.evolve([row[-1] for row in psi_t2],0.0,times2)\n",
    "\n",
    "#psi_ini = [row[-1] for row in psi_t3]\n",
    "\n",
    "Gauss_law.expt_value([row[-1] for row in psi_t3])"
   ]
  },
  {
   "cell_type": "code",
   "execution_count": 9,
   "id": "4da5c146",
   "metadata": {},
   "outputs": [
    {
     "name": "stdout",
     "output_type": "stream",
     "text": [
      "Hermiticity check passed!\n"
     ]
    },
    {
     "name": "stderr",
     "output_type": "stream",
     "text": [
      "<ipython-input-9-741e28dd489c>:1: UserWarning: Test for symmetries not implemented for <class 'quspin.basis.tensor.tensor_basis'>, to turn off this warning set check_symm=False in hamiltonian\n",
      "  Gauss_law.__init__(static_gauss_law, dynamic_list = [],basis=basis, check_herm = True)\n",
      "<ipython-input-9-741e28dd489c>:1: UserWarning: Test for particle conservation not implemented for <class 'quspin.basis.tensor.tensor_basis'>, to turn off this warning set check_pcon=False in hamiltonian\n",
      "  Gauss_law.__init__(static_gauss_law, dynamic_list = [],basis=basis, check_herm = True)\n"
     ]
    }
   ],
   "source": [
    "Gauss_law.__init__(static_gauss_law, dynamic_list = [],basis=basis, check_herm = True)\n",
    "#for checking the Hermiticity of the operators"
   ]
  },
  {
   "cell_type": "code",
   "execution_count": 10,
   "id": "5060cb12",
   "metadata": {},
   "outputs": [
    {
     "data": {
      "text/plain": [
       "0j"
      ]
     },
     "execution_count": 10,
     "metadata": {},
     "output_type": "execute_result"
    }
   ],
   "source": [
    "Gauss_law.expt_value(psi_0)"
   ]
  },
  {
   "cell_type": "code",
   "execution_count": null,
   "id": "8275afee",
   "metadata": {},
   "outputs": [],
   "source": [
    "psi_ini = "
   ]
  },
  {
   "cell_type": "code",
   "execution_count": 35,
   "id": "2097914c",
   "metadata": {},
   "outputs": [
    {
     "name": "stdout",
     "output_type": "stream",
     "text": [
      "2021-10-25 12:27:32.364856\n",
      "2021-10-25 12:27:32.719826\n"
     ]
    }
   ],
   "source": [
    "#eigenvalues,eigenvectors = H_target.eigh()\n",
    "#psi_ground = eigenvectors[:,0]\n",
    "###### time evolve initial state and measure energy\n",
    "import datetime\n",
    "\n",
    "times = np.linspace(0.0,10,100)\n",
    "def extract_energy(theta):\n",
    "    times1=np.linspace(0.0,theta[0],100)\n",
    "    times2=np.linspace(0.0,theta[1],100)\n",
    "    #times3=np.linspace(0.0,theta[2],100)\n",
    "    #times4=np.linspace(0.0,theta[3],100)\n",
    "    #times5=np.linspace(0.0,theta[4],100)\n",
    "\n",
    "    psi_t1 = H_violation.evolve(psi_0,0.0,times1)\n",
    "    psi_t2 = H_target.evolve([row[-1] for row in psi_t1],0.0,times)\n",
    "    psi_t3 = H_violation.evolve([row[-1] for row in psi_t2],0.0,times2)\n",
    "    #psi_t4 = H_target.evolve([row[-1] for row in psi_t3],0.0,times)\n",
    "    #psi_t5 = H_violation.evolve([row[-1] for row in psi_t4],0.0,times3)\n",
    "    #psi_t6 = H_target.evolve([row[-1] for row in psi_t5],0.0,times)\n",
    "    #psi_t7 = H_violation.evolve([row[-1] for row in psi_t6],0.0,times4)\n",
    "    #psi_t8 = H_target.evolve([row[-1] for row in psi_t7],0.0,times)\n",
    "    #psi_t9 = H_violation.evolve([row[-1] for row in psi_t8],0.0,times5)\n",
    "\n",
    "\n",
    "    cost_function = H_target.expt_value([row[-1] for row in psi_t3]) + 100*Gauss_law.expt_value([row[-1] for row in psi_t3])**2\n",
    "    return np.real(cost_function)\n",
    "\n",
    "print(datetime.datetime.now())\n",
    "extract_energy(np.array([10.,10.]))\n",
    "print(datetime.datetime.now())\n"
   ]
  },
  {
   "cell_type": "code",
   "execution_count": null,
   "id": "99043a76",
   "metadata": {},
   "outputs": [],
   "source": [
    "from scipy.optimize import brute\n",
    "from scipy.optimize import minimize\n",
    "print(datetime.datetime.now())\n",
    "brute_ranges = (slice(0,10,1.),slice(0,10,1.))\n",
    "resbrute = brute(extract_energy, brute_ranges,full_output = True ,finish = minimize)\n",
    "print(datetime.datetime.now())\n",
    "              "
   ]
  },
  {
   "cell_type": "code",
   "execution_count": 15,
   "id": "b722a153",
   "metadata": {},
   "outputs": [
    {
     "name": "stdout",
     "output_type": "stream",
     "text": [
      "2021-10-25 12:02:52.938388\n",
      "2021-10-25 12:03:55.670169\n"
     ]
    }
   ],
   "source": [
    "from scipy.optimize import minimize\n",
    "import datetime\n",
    "print(datetime.datetime.now())\n",
    "initial_guess = np.array([0.,0.])\n",
    "nelder_mead = minimize(extract_energy, initial_guess,method='Nelder-Mead')\n",
    "print(datetime.datetime.now())\n"
   ]
  },
  {
   "cell_type": "code",
   "execution_count": 16,
   "id": "2d8cea15",
   "metadata": {},
   "outputs": [
    {
     "data": {
      "text/plain": [
       "array([-3.12792599,  4.38588058])"
      ]
     },
     "execution_count": 16,
     "metadata": {},
     "output_type": "execute_result"
    }
   ],
   "source": [
    "nelder_mead.x"
   ]
  },
  {
   "cell_type": "code",
   "execution_count": 20,
   "id": "1b041a74",
   "metadata": {},
   "outputs": [
    {
     "data": {
      "text/plain": [
       "-4.506222272167034"
      ]
     },
     "execution_count": 20,
     "metadata": {},
     "output_type": "execute_result"
    }
   ],
   "source": [
    "nelder_mead.fun"
   ]
  },
  {
   "cell_type": "code",
   "execution_count": 161,
   "id": "040f7d1b",
   "metadata": {},
   "outputs": [
    {
     "name": "stdout",
     "output_type": "stream",
     "text": [
      "5184\n"
     ]
    }
   ],
   "source": [
    "print(basis.Ns)"
   ]
  },
  {
   "cell_type": "code",
   "execution_count": 183,
   "id": "56bcb95b",
   "metadata": {},
   "outputs": [
    {
     "data": {
      "text/plain": [
       "(1+0j)"
      ]
     },
     "execution_count": 183,
     "metadata": {},
     "output_type": "execute_result"
    }
   ],
   "source": []
  },
  {
   "cell_type": "code",
   "execution_count": 46,
   "id": "fae38ff0",
   "metadata": {},
   "outputs": [],
   "source": [
    "theta = np.array([1.,1.,1.])\n",
    "psi = psi_0"
   ]
  },
  {
   "cell_type": "code",
   "execution_count": 50,
   "id": "a334ce11",
   "metadata": {},
   "outputs": [
    {
     "name": "stdout",
     "output_type": "stream",
     "text": [
      "(-0.09332855054364825+0.5504184972904382j)\n"
     ]
    }
   ],
   "source": [
    "times0=np.linspace(0.0,theta[0],100)\n",
    "times1=np.linspace(0.0,theta[1],100)\n",
    "times2=np.linspace(0.0,theta[2],100)\n",
    "\n",
    "psi_t0 = H_violation.evolve(psi,0.0,times0)\n",
    "psi_t1 = H_target.evolve([row[-1] for row in psi_t0],0.0,times1)\n",
    "psi_t2 = H_violation.evolve([row[-1] for row in psi_t1],0.0,times2)\n",
    "print(np.dot(psi,[row[-1] for row in psi_t2]))"
   ]
  },
  {
   "cell_type": "code",
   "execution_count": null,
   "id": "48716147",
   "metadata": {},
   "outputs": [],
   "source": []
  }
 ],
 "metadata": {
  "kernelspec": {
   "display_name": "Python 3",
   "language": "python",
   "name": "python3"
  },
  "language_info": {
   "codemirror_mode": {
    "name": "ipython",
    "version": 3
   },
   "file_extension": ".py",
   "mimetype": "text/x-python",
   "name": "python",
   "nbconvert_exporter": "python",
   "pygments_lexer": "ipython3",
   "version": "3.8.8"
  }
 },
 "nbformat": 4,
 "nbformat_minor": 5
}
