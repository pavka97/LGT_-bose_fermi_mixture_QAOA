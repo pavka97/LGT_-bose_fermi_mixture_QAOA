{
 "cells": [
  {
   "cell_type": "code",
   "execution_count": 2,
   "id": "e3563e5d",
   "metadata": {},
   "outputs": [],
   "source": [
    "from __future__ import print_function, division\n",
    "import sys,os\n",
    "# line 4 and line 5 below are for development purposes and can be removed\n",
    "qspin_path = os.path.join(os.getcwd(),\"../../\")\n",
    "sys.path.insert(0,qspin_path)\n",
    "\n",
    "from quspin.operators import hamiltonian # Hamiltonians and operators\n",
    "from quspin.basis import tensor_basis,spinful_fermion_basis_1d,boson_basis_1d # bases\n",
    "from quspin.tools.measurements import obs_vs_time # calculating dynamics\n",
    "from quspin.tools.Floquet import Floquet_t_vec # period-spaced time vector\n",
    "import numpy as np # general math functions\n",
    "import matplotlib.pyplot as plt # plotting library\n",
    "#\n",
    "##### setting up parameters for simulation\n",
    "# physical parameters\n",
    "l = 1\n",
    "L_f = 3 # system size f\n",
    "L_b = L_f-1 # system size b\n",
    "Nf, Nb = 2, l # number of fermions, bosons\n",
    "N = Nf + Nb # total number of particles\n",
    "# define time-dependent perturbation\n",
    "\n",
    "###### create the basis\n",
    "# build the two bases to tensor together to a bose-fermi mixture\n",
    "basis_b1=boson_basis_1d(L_b,Nb=[i for i in range(2*l*L_b+1)],sps=2*l+1) # boson basis\n",
    "basis_b2=boson_basis_1d(L_b,Nb=[i for i in range(2*l*L_b+1)],sps=2*l+1) # boson basis\n",
    "basis_f=spinful_fermion_basis_1d(L_f,Nf = [(0,0),(0,1),(1,0),(1,1),(2,0),(0,2),(1,2),(2,1),(2,2),(0,3),(3,0),(3,1),(1,3),(2,3),(3,2),(3,3)],double_occupancy=True)\n",
    "basis=tensor_basis(basis_b1,basis_b2,basis_f) # BFM\n",
    "\n",
    "############################################## target  hamiltonian\n",
    "a = 0.1\n",
    "e = 1.0\n",
    "m = 0.3\n",
    "lam = 0.5\n",
    "\n",
    "bosonic_part_LGT = [[a*e**2/4.,i,i,i,i] for i in range(L_b)] # b^dagger*b^dagger*b*b\n",
    "mass_f = [[m+1.0/a,i,i] for i in range(L_f)] # f mass term\n",
    "m_mass_f = [[-m-1.0/a,i,i] for i in range(L_f)] # f mass term\n",
    "\n",
    "interaction_part_LGT = [[1.0/(a*np.sqrt(l*(l+1))),i,i,i,i+1] for i in range(L_b)] #boson-fermion interaction\n",
    "m_interaction_part_LGT = [[-1.0/(a*np.sqrt(l*(l+1))),i,i,i,i+1] for i in range(L_b)] #boson-fermion interaction\n",
    "\n",
    "gauge_violation = [[lam,i,(i+1)] for i in range(L_f-1)] #gauge violating term\n",
    "m_gauge_violation = [[-lam,i,(i+1)] for i in range(L_f-1)] #gauge violating term\n",
    "\n",
    "\n",
    "b_0 = [[-0.5*e,0]]\n",
    "d_0 = [[+0.5*e,0]]\n",
    "b_1 = [[+0.5*e,1]]\n",
    "d_1 = [[-0.5*e,1]]\n",
    "rho_1 = [[-e,1]]\n",
    "eee = [[e,1]]\n",
    "\n",
    "static_gauss_law = [\n",
    "    \n",
    "    [\"n|||\", b_0],\n",
    "    [\"|n||\", d_0],\n",
    "    [\"n|||\", b_1],\n",
    "    [\"|n||\", d_1],\n",
    "    [\"||n|\", rho_1],\n",
    "    [\"|||n\", rho_1],\n",
    "    [\"|I||\", eee]\n",
    "\n",
    "]    \n",
    "\n",
    "\n",
    "    \n",
    "    \n",
    "\n",
    "#\n",
    "static_target = [\n",
    "            [\"++--|||\", bosonic_part_LGT], # b^dagger*b^dagger*b*b\n",
    "            [\"|++--||\", bosonic_part_LGT], # b^dagger*b^dagger*b*b\n",
    "\n",
    "            [\"||+|-\", mass_f], # f mass term\n",
    "            [\"||-|+\", m_mass_f], # f mass term\n",
    "\n",
    "\n",
    "            [\"+|-|+|-\", interaction_part_LGT], #boson-fermion interaction\n",
    "            [\"-|+|-|+\", m_interaction_part_LGT], #boson-fermion interaction\n",
    "\n",
    "\n",
    "]\n",
    "static_violation = [\n",
    "[\"||+|-\", gauge_violation],\n",
    "[\"||-|+\", m_gauge_violation]\n",
    "\n",
    "]\n",
    "\n",
    "################################################\n",
    "###### set up Hamiltonian and initial states\n",
    "no_checks = dict(check_pcon=False,check_symm=False,check_herm=False)\n",
    "\n",
    "H_violation = hamiltonian(static_violation,dynamic_list = [],basis=basis,**no_checks)\n",
    "H_target = hamiltonian(static_target,dynamic_list = [],basis=basis,**no_checks)\n",
    "Gauss_law = hamiltonian(static_gauss_law, dynamic_list = [], basis=basis, **no_checks)\n",
    "\n"
   ]
  },
  {
   "cell_type": "code",
   "execution_count": 3,
   "id": "9d0d8c95",
   "metadata": {},
   "outputs": [],
   "source": [
    "# define initial Fock state through strings\n",
    "s_f = [\"111\",\"110\",\"101\",\"011\",\"100\",\"010\",\"001\",\"000\"]\n",
    "s_b = [\"20\",\"11\",\"10\",\"02\",\"01\",\"00\"]\n",
    "# basis.index accepts strings and returns the index which corresponds to that state in the basis list\n",
    "i = np.zeros(8)\n",
    "i[0] = basis.index(s_b[2],s_b[2],s_f[0],s_f[7]) # find index of product state in basis\n",
    "i[1] = basis.index(s_b[2],s_b[2],s_f[1],s_f[6])\n",
    "i[2] = basis.index(s_b[2],s_b[2],s_f[2],s_f[5])\n",
    "i[3] = basis.index(s_b[2],s_b[2],s_f[3],s_f[4])\n",
    "i[4] = basis.index(s_b[2],s_b[2],s_f[4],s_f[3])\n",
    "i[5] = basis.index(s_b[2],s_b[2],s_f[5],s_f[2])\n",
    "i[6] = basis.index(s_b[2],s_b[2],s_f[6],s_f[1])\n",
    "i[7] = basis.index(s_b[2],s_b[2],s_f[7],s_f[0])\n",
    "\n",
    "\n",
    "psi_0 = np.zeros(basis.Ns) # allocate space for state\n",
    "psi_0[int(i[0])] = 1/(np.sqrt(2)**3) # set MB state to be the given product state\n",
    "psi_0[int(i[1])] = -1/(np.sqrt(2)**3)\n",
    "psi_0[int(i[2])] = -1/(np.sqrt(2)**3)\n",
    "psi_0[int(i[3])] = -1/(np.sqrt(2)**3)\n",
    "psi_0[int(i[4])] = 1/(np.sqrt(2)**3)\n",
    "psi_0[int(i[5])] = 1/(np.sqrt(2)**3)\n",
    "psi_0[int(i[6])] = 1/(np.sqrt(2)**3)\n",
    "psi_0[int(i[7])] = -1/(np.sqrt(2)**3)\n",
    "\n",
    "\n",
    "#\n"
   ]
  },
  {
   "cell_type": "code",
   "execution_count": 4,
   "id": "64530f2c",
   "metadata": {},
   "outputs": [
    {
     "name": "stdout",
     "output_type": "stream",
     "text": [
      "[0.+0.j 0.+0.j 0.+0.j ... 0.+0.j 0.+0.j 0.+0.j]\n",
      "(0.9999999999999996+0j)\n"
     ]
    }
   ],
   "source": [
    "def extract_energy(theta,psi,a):\n",
    "    times0=np.linspace(0.0,theta[0],100)\n",
    "    times1=np.linspace(0.0,theta[1],100)\n",
    "    times2=np.linspace(0.0,theta[2],100)\n",
    "    \n",
    "    psi_t0 = H_violation.evolve(psi,0.0,times0)\n",
    "    psi_t1 = H_target.evolve([row[-1] for row in psi_t0],0.0,times1)\n",
    "    psi_t2 = H_violation.evolve([row[-1] for row in psi_t1],0.0,times2)\n",
    "\n",
    "\n",
    "    cost_function = np.real(H_target.expt_value([row[-1] for row in psi_t2])) + 100.*np.real(Gauss_law.expt_value([row[-1] for row in psi_t2]))**2\n",
    "    return cost_function\n",
    "\n",
    "def extract_state(theta,psi):\n",
    "    times0=np.linspace(0.0,theta[0],100)\n",
    "    times1=np.linspace(0.0,theta[1],100)\n",
    "    times2=np.linspace(0.0,theta[2],100)\n",
    "    \n",
    "    psi_t0 = H_violation.evolve(psi,0.0,times0)\n",
    "    psi_t1 = H_target.evolve([row[-1] for row in psi_t0],0.0,times1)\n",
    "    psi_t2 = H_violation.evolve([row[-1] for row in psi_t1],0.0,times2)\n",
    "    \n",
    "    psi_final = np.array([row[-1] for row in psi_t2])\n",
    "    return psi_final\n",
    "\n",
    "\n",
    "NN = 9 #number of iterations\n",
    "res_theta_0 = np.zeros(NN+1)\n",
    "res_theta_1 = np.zeros(NN+1)\n",
    "res_theta_2 = np.zeros(NN+1)\n",
    "\n",
    "res_theta_0[0] = 0.\n",
    "res_theta_1[0] = 0.\n",
    "res_theta_2[0] = 0.\n",
    "\n",
    "res_energy = np.zeros(NN+1)\n",
    "res_energy[0] = np.real(H_target.expt_value(psi_0))\n",
    "\n",
    "psi_ini = np.array([[complex(0.) for i in range(basis.Ns)]for j in range(NN+1)])\n",
    "psi_ini[0] = psi_0\n",
    "\n",
    "res_gauss_law = np.array([complex(0.) for i in range(NN+1)])\n",
    "res_gauss_law[0] = Gauss_law.expt_value(psi_0)\n",
    "\n",
    "print(extract_state(np.array([res_theta_0[0],res_theta_1[0],res_theta_2[0]]),psi_ini[0]))\n",
    "#print(res_gauss_law)\n",
    "print(np.dot(extract_state(np.array([res_theta_0[0],res_theta_1[0],res_theta_2[0]]),psi_ini[0]),psi_0))"
   ]
  },
  {
   "cell_type": "code",
   "execution_count": 5,
   "id": "fa0cc87d",
   "metadata": {},
   "outputs": [],
   "source": [
    "from scipy.optimize import brute\n",
    "from scipy.optimize import minimize\n",
    "brute_ranges = (slice(-0.5,11.,1.),slice(-0.5,11.,1.),slice(-0.5,11.,1.))\n",
    "for i in range(NN):\n",
    "    resbrute = 0\n",
    "    resbrute = brute(extract_energy, brute_ranges, args = (psi_ini[i],1) ,full_output = True ,finish = minimize)\n",
    "    res_theta_0[i+1] = resbrute[0][0]\n",
    "    res_theta_1[i+1] = resbrute[0][1]\n",
    "    res_theta_2[i+1] = resbrute[0][2]\n",
    "    \n",
    "    res_energy[i+1] = resbrute[1]\n",
    "    \n",
    "    psi_ini[i+1] = extract_state(np.array([resbrute[0][0],resbrute[0][1],resbrute[0][2]]),psi_ini[i])\n",
    "    res_gauss_law[i+1] = Gauss_law.expt_value(extract_state(np.array([resbrute[0][0],resbrute[0][1],resbrute[0][2]]),psi_ini[i]))"
   ]
  },
  {
   "cell_type": "code",
   "execution_count": 6,
   "id": "13579814",
   "metadata": {},
   "outputs": [
    {
     "name": "stdout",
     "output_type": "stream",
     "text": [
      "[ 8.88178420e-16 -2.52704166e+01 -2.55281132e+01 -2.67195191e+01\n",
      " -2.67819966e+01 -2.67422951e+01 -2.67704968e+01 -2.69861060e+01\n",
      " -2.77204508e+01 -2.77242185e+01]\n",
      "[0.00000000e+00+0.j 5.55111512e-16+0.j 6.93889390e-16+0.j\n",
      " 2.77555756e-17+0.j 1.52655666e-16+0.j 5.27355937e-16+0.j\n",
      " 7.35522754e-16+0.j 4.16333634e-16+0.j 4.44089210e-16+0.j\n",
      " 4.30211422e-16+0.j]\n"
     ]
    }
   ],
   "source": [
    "print(res_energy)\n",
    "print(res_gauss_law)\n",
    "#print(res_theta_0)\n",
    "#print(res_theta_1)\n",
    "#print(res_theta_2)"
   ]
  },
  {
   "cell_type": "code",
   "execution_count": 28,
   "id": "f42f3950",
   "metadata": {},
   "outputs": [
    {
     "name": "stdout",
     "output_type": "stream",
     "text": [
      "0.7714702544378131\n"
     ]
    }
   ],
   "source": [
    "psi_test = H_target.evolve(psi_ini[9],0.0,np.linspace(0.,0.1,100))\n",
    "print(np.abs(np.dot([row[-1] for row in psi_test],psi_ini[9])))"
   ]
  },
  {
   "cell_type": "code",
   "execution_count": 32,
   "id": "e3956580",
   "metadata": {},
   "outputs": [],
   "source": [
    "#eigenvalues,eigenvectors = H_target.eigh()\n",
    "#psi_ground = eigenvectors[:,0]\n",
    "###### time evolve initial state and measure energy\n",
    "import datetime\n",
    "\n",
    "def extract_energy(theta,psi,a):\n",
    "    times0=np.linspace(0.0,theta[0],100)\n",
    "    times1=np.linspace(0.0,theta[1],100)\n",
    "    times2=np.linspace(0.0,theta[2],100)\n",
    "    \n",
    "    psi_t0 = H_violation.evolve(psi,0.0,times0)\n",
    "    psi_t1 = H_target.evolve([row[-1] for row in psi_t0],0.0,times1)\n",
    "    psi_t2 = H_violation.evolve([row[-1] for row in psi_t1],0.0,times2)\n",
    "\n",
    "\n",
    "    cost_function = np.real(H_target.expt_value([row[-1] for row in psi_t2])) + 100.*np.real(Gauss_law.expt_value([row[-1] for row in psi_t2]))**2\n",
    "    return cost_function\n",
    "\n"
   ]
  },
  {
   "cell_type": "code",
   "execution_count": 33,
   "id": "4fec248b",
   "metadata": {},
   "outputs": [
    {
     "name": "stdout",
     "output_type": "stream",
     "text": [
      "2021-10-27 20:48:05.416016\n",
      "2021-10-27 20:55:38.574668\n"
     ]
    }
   ],
   "source": [
    "from scipy.optimize import brute\n",
    "from scipy.optimize import minimize\n",
    "print(datetime.datetime.now())\n",
    "brute_ranges = (slice(-0.5,11.,1.),slice(-0.5,11.,1.),slice(-0.5,11.,1.))\n",
    "resbrute = brute(extract_energy, brute_ranges, args = (psi_ini[9],1) ,full_output = True ,finish = minimize)\n",
    "print(datetime.datetime.now())\n",
    "               "
   ]
  },
  {
   "cell_type": "code",
   "execution_count": 34,
   "id": "98abfaca",
   "metadata": {},
   "outputs": [
    {
     "name": "stdout",
     "output_type": "stream",
     "text": [
      "[6.29471492 2.51237643 6.29610475]\n"
     ]
    }
   ],
   "source": [
    "print(resbrute[0]) #theta1, theta2"
   ]
  },
  {
   "cell_type": "code",
   "execution_count": 35,
   "id": "14fb6d6f",
   "metadata": {},
   "outputs": [
    {
     "name": "stdout",
     "output_type": "stream",
     "text": [
      "-27.534189201333692\n"
     ]
    }
   ],
   "source": [
    "print(resbrute[1]) #minimized energy"
   ]
  },
  {
   "cell_type": "code",
   "execution_count": 88,
   "id": "3fb80a43",
   "metadata": {},
   "outputs": [
    {
     "name": "stdout",
     "output_type": "stream",
     "text": [
      "(-25.27041656041346-2.1163626406917047e-16j)\n"
     ]
    }
   ],
   "source": [
    "times0=np.linspace(0.0,resbrute[0][0],100)\n",
    "times1=np.linspace(0.0,resbrute[0][1],100)\n",
    "times2=np.linspace(0.0,resbrute[0][2],100)\n",
    "\n",
    "psi_t0 = H_violation.evolve(psi_0,0.0,times0)\n",
    "psi_t1 = H_target.evolve([row[-1] for row in psi_t0],0.0,times1)\n",
    "psi_t2 = H_violation.evolve([row[-1] for row in psi_t1],0.0,times2)\n",
    "\n",
    "psi_ini_1 = [row[-1] for row in psi_t2]\n",
    "\n",
    "print(H_target.expt_value(psi_ini_1))"
   ]
  },
  {
   "cell_type": "code",
   "execution_count": 89,
   "id": "df0f9e35",
   "metadata": {},
   "outputs": [],
   "source": [
    "def extract_energy_1(theta,psi,a):\n",
    "    times0=np.linspace(0.0,theta[0],100)\n",
    "    times1=np.linspace(0.0,theta[1],100)\n",
    "    times2=np.linspace(0.0,theta[2],100)\n",
    "    \n",
    "    psi_t0 = H_violation.evolve(psi_ini_1,0.0,times0)\n",
    "    psi_t1 = H_target.evolve([row[-1] for row in psi_t0],0.0,times1)\n",
    "    psi_t2 = H_violation.evolve([row[-1] for row in psi_t1],0.0,times2)\n",
    "\n",
    "\n",
    "    cost_function = np.real(H_target.expt_value([row[-1] for row in psi_t2])) + 100.*np.real(Gauss_law.expt_value([row[-1] for row in psi_t2]))**2\n",
    "    return cost_function"
   ]
  },
  {
   "cell_type": "code",
   "execution_count": 90,
   "id": "f1484d48",
   "metadata": {},
   "outputs": [
    {
     "name": "stdout",
     "output_type": "stream",
     "text": [
      "2021-10-27 14:32:59.362877\n",
      "2021-10-27 14:45:15.135597\n"
     ]
    }
   ],
   "source": [
    "from scipy.optimize import brute\n",
    "from scipy.optimize import minimize\n",
    "print(datetime.datetime.now())\n",
    "brute_ranges = (slice(-0.5,11.,1.),slice(-0.5,11.,1.),slice(-0.5,11.,1.))\n",
    "resbrute = brute(extract_energy, brute_ranges, args = (psi_ini_1,1) ,full_output = True ,finish = minimize)\n",
    "print(datetime.datetime.now())\n",
    "               "
   ]
  },
  {
   "cell_type": "code",
   "execution_count": 91,
   "id": "6e755fb2",
   "metadata": {},
   "outputs": [
    {
     "name": "stdout",
     "output_type": "stream",
     "text": [
      "[-0.18249443  9.48343837 -0.28308836]\n"
     ]
    }
   ],
   "source": [
    "print(resbrute[0]) #theta1, theta2"
   ]
  },
  {
   "cell_type": "code",
   "execution_count": 92,
   "id": "aed4ffe9",
   "metadata": {},
   "outputs": [
    {
     "name": "stdout",
     "output_type": "stream",
     "text": [
      "-25.528113198669775\n"
     ]
    }
   ],
   "source": [
    "print(resbrute[1]) #minimized energy"
   ]
  },
  {
   "cell_type": "code",
   "execution_count": 94,
   "id": "95840905",
   "metadata": {},
   "outputs": [
    {
     "name": "stdout",
     "output_type": "stream",
     "text": [
      "(-25.528113198669775+1.1102230246251565e-16j)\n"
     ]
    }
   ],
   "source": [
    "times0=np.linspace(0.0,resbrute[0][0],100)\n",
    "times1=np.linspace(0.0,resbrute[0][1],100)\n",
    "times2=np.linspace(0.0,resbrute[0][2],100)\n",
    "\n",
    "psi_t0 = H_violation.evolve(psi_ini_1,0.0,times0)\n",
    "psi_t1 = H_target.evolve([row[-1] for row in psi_t0],0.0,times1)\n",
    "psi_t2 = H_violation.evolve([row[-1] for row in psi_t1],0.0,times2)\n",
    "\n",
    "psi_ini_2 = [row[-1] for row in psi_t2]\n",
    "\n",
    "print(H_target.expt_value(psi_ini_2))"
   ]
  },
  {
   "cell_type": "code",
   "execution_count": 95,
   "id": "012aa7e2",
   "metadata": {},
   "outputs": [],
   "source": [
    "def extract_energy_2(theta,psi,a):\n",
    "    times0=np.linspace(0.0,theta[0],100)\n",
    "    times1=np.linspace(0.0,theta[1],100)\n",
    "    times2=np.linspace(0.0,theta[2],100)\n",
    "    \n",
    "    psi_t0 = H_violation.evolve(psi_ini_2,0.0,times0)\n",
    "    psi_t1 = H_target.evolve([row[-1] for row in psi_t0],0.0,times1)\n",
    "    psi_t2 = H_violation.evolve([row[-1] for row in psi_t1],0.0,times2)\n",
    "\n",
    "\n",
    "    cost_function = np.real(H_target.expt_value([row[-1] for row in psi_t2])) + 100.*np.real(Gauss_law.expt_value([row[-1] for row in psi_t2]))**2\n",
    "    return cost_function"
   ]
  },
  {
   "cell_type": "code",
   "execution_count": 96,
   "id": "2bf1783a",
   "metadata": {},
   "outputs": [
    {
     "name": "stdout",
     "output_type": "stream",
     "text": [
      "2021-10-27 14:49:14.277021\n",
      "2021-10-27 14:58:13.948927\n"
     ]
    }
   ],
   "source": [
    "from scipy.optimize import brute\n",
    "from scipy.optimize import minimize\n",
    "print(datetime.datetime.now())\n",
    "brute_ranges = (slice(-0.5,11.,1.),slice(-0.5,11.,1.),slice(-0.5,11.,1.))\n",
    "resbrute = brute(extract_energy, brute_ranges, args = (psi_ini_2,1) ,full_output = True ,finish = minimize)\n",
    "print(datetime.datetime.now())\n",
    "               "
   ]
  },
  {
   "cell_type": "code",
   "execution_count": 97,
   "id": "cd596f8e",
   "metadata": {},
   "outputs": [
    {
     "name": "stdout",
     "output_type": "stream",
     "text": [
      "[6.29557685 9.48128187 6.35751863]\n"
     ]
    }
   ],
   "source": [
    "print(resbrute[0]) #theta1, theta2"
   ]
  },
  {
   "cell_type": "code",
   "execution_count": 98,
   "id": "1443eb6a",
   "metadata": {},
   "outputs": [
    {
     "name": "stdout",
     "output_type": "stream",
     "text": [
      "-26.71951911112678\n"
     ]
    }
   ],
   "source": [
    "print(resbrute[1]) #minimized energy"
   ]
  },
  {
   "cell_type": "code",
   "execution_count": 99,
   "id": "8eb4a479",
   "metadata": {},
   "outputs": [
    {
     "name": "stdout",
     "output_type": "stream",
     "text": [
      "(-26.71951911112678+1.7763568394002505e-15j)\n"
     ]
    }
   ],
   "source": [
    "times0=np.linspace(0.0,resbrute[0][0],100)\n",
    "times1=np.linspace(0.0,resbrute[0][1],100)\n",
    "times2=np.linspace(0.0,resbrute[0][2],100)\n",
    "\n",
    "psi_t0 = H_violation.evolve(psi_ini_2,0.0,times0)\n",
    "psi_t1 = H_target.evolve([row[-1] for row in psi_t0],0.0,times1)\n",
    "psi_t2 = H_violation.evolve([row[-1] for row in psi_t1],0.0,times2)\n",
    "\n",
    "psi_ini_3 = [row[-1] for row in psi_t2]\n",
    "\n",
    "print(H_target.expt_value(psi_ini_3))"
   ]
  },
  {
   "cell_type": "code",
   "execution_count": 100,
   "id": "1b3b9adf",
   "metadata": {},
   "outputs": [],
   "source": [
    "def extract_energy_3(theta,psi,a):\n",
    "    times0=np.linspace(0.0,theta[0],100)\n",
    "    times1=np.linspace(0.0,theta[1],100)\n",
    "    times2=np.linspace(0.0,theta[2],100)\n",
    "    \n",
    "    psi_t0 = H_violation.evolve(psi_ini_3,0.0,times0)\n",
    "    psi_t1 = H_target.evolve([row[-1] for row in psi_t0],0.0,times1)\n",
    "    psi_t2 = H_violation.evolve([row[-1] for row in psi_t1],0.0,times2)\n",
    "\n",
    "\n",
    "    cost_function = np.real(H_target.expt_value([row[-1] for row in psi_t2])) + 100.*np.real(Gauss_law.expt_value([row[-1] for row in psi_t2]))**2\n",
    "    return cost_function"
   ]
  },
  {
   "cell_type": "code",
   "execution_count": 101,
   "id": "f09c68c1",
   "metadata": {},
   "outputs": [
    {
     "name": "stdout",
     "output_type": "stream",
     "text": [
      "2021-10-27 15:02:21.141683\n",
      "2021-10-27 15:10:40.986207\n"
     ]
    }
   ],
   "source": [
    "from scipy.optimize import brute\n",
    "from scipy.optimize import minimize\n",
    "print(datetime.datetime.now())\n",
    "brute_ranges = (slice(-0.5,11.,1.),slice(-0.5,11.,1.),slice(-0.5,11.,1.))\n",
    "resbrute = brute(extract_energy, brute_ranges, args = (psi_ini_3,1) ,full_output = True ,finish = minimize)\n",
    "print(datetime.datetime.now())\n",
    "               "
   ]
  },
  {
   "cell_type": "code",
   "execution_count": 102,
   "id": "ddde4196",
   "metadata": {},
   "outputs": [
    {
     "name": "stdout",
     "output_type": "stream",
     "text": [
      "[6.29689095 2.51669598 6.28671287]\n"
     ]
    }
   ],
   "source": [
    "print(resbrute[0]) #theta1, theta2"
   ]
  },
  {
   "cell_type": "code",
   "execution_count": 103,
   "id": "47864896",
   "metadata": {},
   "outputs": [
    {
     "name": "stdout",
     "output_type": "stream",
     "text": [
      "-26.781996618215718\n"
     ]
    }
   ],
   "source": [
    "print(resbrute[1]) #minimized energy"
   ]
  },
  {
   "cell_type": "code",
   "execution_count": 111,
   "id": "c996fe9c",
   "metadata": {},
   "outputs": [
    {
     "name": "stdout",
     "output_type": "stream",
     "text": [
      "(-5.695801056250805-8.326672684688674e-17j)\n",
      "(-1.582067810090848e-15+0j)\n"
     ]
    }
   ],
   "source": [
    "times = np.linspace(0.0,10,100)\n",
    "times1=np.linspace(0.0,resbrute[0][0],100)\n",
    "times2=np.linspace(0.0,resbrute[0][1],100)\n",
    "\n",
    "psi_t1 = H_violation.evolve(psi_ini_3,0.0,times1)\n",
    "psi_t2 = H_target.evolve([row[-1] for row in psi_t1],0.0,times)\n",
    "psi_t3 = H_violation.evolve([row[-1] for row in psi_t2],0.0,times2)\n",
    "\n",
    "psi_ini_4 = [row[-1] for row in psi_t3]\n",
    "\n",
    "print(H_target.expt_value(psi_ini_4))\n",
    "print(Gauss_law.expt_value(psi_ini_4))"
   ]
  },
  {
   "cell_type": "code",
   "execution_count": 112,
   "id": "b951d6ca",
   "metadata": {},
   "outputs": [],
   "source": [
    "def extract_energy_4(theta):\n",
    "    times1=np.linspace(0.0,theta[0],100)\n",
    "    times2=np.linspace(0.0,theta[1],100)\n",
    "    #times3=np.linspace(0.0,theta[2],100)\n",
    "    #times4=np.linspace(0.0,theta[3],100)\n",
    "    #times5=np.linspace(0.0,theta[4],100)\n",
    "\n",
    "    psi_t1 = H_violation.evolve(psi_ini_4,0.0,times1)\n",
    "    psi_t2 = H_target.evolve([row[-1] for row in psi_t1],0.0,times)\n",
    "    psi_t3 = H_violation.evolve([row[-1] for row in psi_t2],0.0,times2)\n",
    "    #psi_t4 = H_target.evolve([row[-1] for row in psi_t3],0.0,times)\n",
    "    #psi_t5 = H_violation.evolve([row[-1] for row in psi_t4],0.0,times3)\n",
    "    #psi_t6 = H_target.evolve([row[-1] for row in psi_t5],0.0,times)\n",
    "    #psi_t7 = H_violation.evolve([row[-1] for row in psi_t6],0.0,times4)\n",
    "    #psi_t8 = H_target.evolve([row[-1] for row in psi_t7],0.0,times)\n",
    "    #psi_t9 = H_violation.evolve([row[-1] for row in psi_t8],0.0,times5)\n",
    "\n",
    "\n",
    "    cost_function = H_target.expt_value([row[-1] for row in psi_t3]) + 100*Gauss_law.expt_value([row[-1] for row in psi_t3])**2\n",
    "    return np.real(cost_function)"
   ]
  },
  {
   "cell_type": "code",
   "execution_count": 113,
   "id": "8cc5e3c1",
   "metadata": {},
   "outputs": [
    {
     "name": "stdout",
     "output_type": "stream",
     "text": [
      "2021-10-26 14:04:32.345071\n",
      "2021-10-26 14:05:21.263494\n"
     ]
    }
   ],
   "source": [
    "from scipy.optimize import brute\n",
    "from scipy.optimize import minimize\n",
    "print(datetime.datetime.now())\n",
    "brute_ranges = (slice(0,10,1.),slice(0,10,1.))\n",
    "resbrute = brute(extract_energy_4, brute_ranges,full_output = True ,finish = minimize)\n",
    "print(datetime.datetime.now())\n",
    "               "
   ]
  },
  {
   "cell_type": "code",
   "execution_count": 114,
   "id": "5f385a99",
   "metadata": {},
   "outputs": [
    {
     "name": "stdout",
     "output_type": "stream",
     "text": [
      "[-0.10002423 -1.18810346]\n"
     ]
    }
   ],
   "source": [
    "print(resbrute[0]) #theta1, theta2"
   ]
  },
  {
   "cell_type": "code",
   "execution_count": 115,
   "id": "700f1154",
   "metadata": {},
   "outputs": [
    {
     "name": "stdout",
     "output_type": "stream",
     "text": [
      "-6.026920088071035\n"
     ]
    }
   ],
   "source": [
    "print(resbrute[1]) #minimized energy"
   ]
  },
  {
   "cell_type": "code",
   "execution_count": 116,
   "id": "1073a8f2",
   "metadata": {},
   "outputs": [
    {
     "name": "stdout",
     "output_type": "stream",
     "text": [
      "(-6.026920088071035-2.7755575615628914e-16j)\n",
      "(-3.552713678800501e-15+0j)\n"
     ]
    }
   ],
   "source": [
    "times = np.linspace(0.0,10,100)\n",
    "times1=np.linspace(0.0,resbrute[0][0],100)\n",
    "times2=np.linspace(0.0,resbrute[0][1],100)\n",
    "\n",
    "psi_t1 = H_violation.evolve(psi_ini_4,0.0,times1)\n",
    "psi_t2 = H_target.evolve([row[-1] for row in psi_t1],0.0,times)\n",
    "psi_t3 = H_violation.evolve([row[-1] for row in psi_t2],0.0,times2)\n",
    "\n",
    "psi_ini_5 = [row[-1] for row in psi_t3]\n",
    "\n",
    "print(H_target.expt_value(psi_ini_5))\n",
    "print(Gauss_law.expt_value(psi_ini_5))"
   ]
  },
  {
   "cell_type": "code",
   "execution_count": 117,
   "id": "8958ec57",
   "metadata": {},
   "outputs": [],
   "source": [
    "def extract_energy_5(theta):\n",
    "    times1=np.linspace(0.0,theta[0],100)\n",
    "    times2=np.linspace(0.0,theta[1],100)\n",
    "    #times3=np.linspace(0.0,theta[2],100)\n",
    "    #times4=np.linspace(0.0,theta[3],100)\n",
    "    #times5=np.linspace(0.0,theta[4],100)\n",
    "\n",
    "    psi_t1 = H_violation.evolve(psi_ini_5,0.0,times1)\n",
    "    psi_t2 = H_target.evolve([row[-1] for row in psi_t1],0.0,times)\n",
    "    psi_t3 = H_violation.evolve([row[-1] for row in psi_t2],0.0,times2)\n",
    "    #psi_t4 = H_target.evolve([row[-1] for row in psi_t3],0.0,times)\n",
    "    #psi_t5 = H_violation.evolve([row[-1] for row in psi_t4],0.0,times3)\n",
    "    #psi_t6 = H_target.evolve([row[-1] for row in psi_t5],0.0,times)\n",
    "    #psi_t7 = H_violation.evolve([row[-1] for row in psi_t6],0.0,times4)\n",
    "    #psi_t8 = H_target.evolve([row[-1] for row in psi_t7],0.0,times)\n",
    "    #psi_t9 = H_violation.evolve([row[-1] for row in psi_t8],0.0,times5)\n",
    "\n",
    "\n",
    "    cost_function = H_target.expt_value([row[-1] for row in psi_t3]) + 100*Gauss_law.expt_value([row[-1] for row in psi_t3])**2\n",
    "    return np.real(cost_function)"
   ]
  },
  {
   "cell_type": "code",
   "execution_count": 118,
   "id": "263c1b4c",
   "metadata": {},
   "outputs": [
    {
     "name": "stdout",
     "output_type": "stream",
     "text": [
      "2021-10-26 14:05:21.656452\n",
      "2021-10-26 14:06:06.259785\n"
     ]
    }
   ],
   "source": [
    "from scipy.optimize import brute\n",
    "from scipy.optimize import minimize\n",
    "print(datetime.datetime.now())\n",
    "brute_ranges = (slice(0,10,1.),slice(0,10,1.))\n",
    "resbrute = brute(extract_energy_5, brute_ranges,full_output = True ,finish = minimize)\n",
    "print(datetime.datetime.now())\n",
    "               "
   ]
  },
  {
   "cell_type": "code",
   "execution_count": 119,
   "id": "e3195020",
   "metadata": {},
   "outputs": [
    {
     "name": "stdout",
     "output_type": "stream",
     "text": [
      "[ 0.14525717 -1.21860723]\n"
     ]
    }
   ],
   "source": [
    "print(resbrute[0]) #theta1, theta2"
   ]
  },
  {
   "cell_type": "code",
   "execution_count": 120,
   "id": "5dce7081",
   "metadata": {},
   "outputs": [
    {
     "name": "stdout",
     "output_type": "stream",
     "text": [
      "-7.605261587719853\n"
     ]
    }
   ],
   "source": [
    "print(resbrute[1]) #minimized energy"
   ]
  },
  {
   "cell_type": "code",
   "execution_count": 121,
   "id": "9f0f9902",
   "metadata": {},
   "outputs": [
    {
     "name": "stdout",
     "output_type": "stream",
     "text": [
      "(-7.605261587719853-2.7755575615628914e-17j)\n",
      "(-1.7208456881689926e-15+0j)\n"
     ]
    }
   ],
   "source": [
    "times = np.linspace(0.0,10,100)\n",
    "times1=np.linspace(0.0,resbrute[0][0],100)\n",
    "times2=np.linspace(0.0,resbrute[0][1],100)\n",
    "\n",
    "psi_t1 = H_violation.evolve(psi_ini_5,0.0,times1)\n",
    "psi_t2 = H_target.evolve([row[-1] for row in psi_t1],0.0,times)\n",
    "psi_t3 = H_violation.evolve([row[-1] for row in psi_t2],0.0,times2)\n",
    "\n",
    "psi_ini_6 = [row[-1] for row in psi_t3]\n",
    "\n",
    "print(H_target.expt_value(psi_ini_6))\n",
    "print(Gauss_law.expt_value(psi_ini_6))"
   ]
  },
  {
   "cell_type": "code",
   "execution_count": 122,
   "id": "0bd6b87c",
   "metadata": {},
   "outputs": [],
   "source": [
    "def extract_energy_6(theta):\n",
    "    times1=np.linspace(0.0,theta[0],100)\n",
    "    times2=np.linspace(0.0,theta[1],100)\n",
    "    #times3=np.linspace(0.0,theta[2],100)\n",
    "    #times4=np.linspace(0.0,theta[3],100)\n",
    "    #times5=np.linspace(0.0,theta[4],100)\n",
    "\n",
    "    psi_t1 = H_violation.evolve(psi_ini_6,0.0,times1)\n",
    "    psi_t2 = H_target.evolve([row[-1] for row in psi_t1],0.0,times)\n",
    "    psi_t3 = H_violation.evolve([row[-1] for row in psi_t2],0.0,times2)\n",
    "    #psi_t4 = H_target.evolve([row[-1] for row in psi_t3],0.0,times)\n",
    "    #psi_t5 = H_violation.evolve([row[-1] for row in psi_t4],0.0,times3)\n",
    "    #psi_t6 = H_target.evolve([row[-1] for row in psi_t5],0.0,times)\n",
    "    #psi_t7 = H_violation.evolve([row[-1] for row in psi_t6],0.0,times4)\n",
    "    #psi_t8 = H_target.evolve([row[-1] for row in psi_t7],0.0,times)\n",
    "    #psi_t9 = H_violation.evolve([row[-1] for row in psi_t8],0.0,times5)\n",
    "\n",
    "\n",
    "    cost_function = H_target.expt_value([row[-1] for row in psi_t3]) + 100*Gauss_law.expt_value([row[-1] for row in psi_t3])**2\n",
    "    return np.real(cost_function)"
   ]
  },
  {
   "cell_type": "code",
   "execution_count": 123,
   "id": "66df5406",
   "metadata": {},
   "outputs": [
    {
     "name": "stdout",
     "output_type": "stream",
     "text": [
      "2021-10-26 14:07:41.650860\n",
      "2021-10-26 14:08:24.393818\n"
     ]
    }
   ],
   "source": [
    "from scipy.optimize import brute\n",
    "from scipy.optimize import minimize\n",
    "print(datetime.datetime.now())\n",
    "brute_ranges = (slice(0,10,1.),slice(0,10,1.))\n",
    "resbrute = brute(extract_energy_6, brute_ranges,full_output = True ,finish = minimize)\n",
    "print(datetime.datetime.now())\n",
    "               "
   ]
  },
  {
   "cell_type": "code",
   "execution_count": 124,
   "id": "be17f5e9",
   "metadata": {},
   "outputs": [
    {
     "name": "stdout",
     "output_type": "stream",
     "text": [
      "[-0.00539434  0.07064312]\n"
     ]
    }
   ],
   "source": [
    "print(resbrute[0]) #theta1, theta2"
   ]
  },
  {
   "cell_type": "code",
   "execution_count": 125,
   "id": "74a168d4",
   "metadata": {},
   "outputs": [
    {
     "name": "stdout",
     "output_type": "stream",
     "text": [
      "-7.614896406210371\n"
     ]
    }
   ],
   "source": [
    "print(resbrute[1]) #minimized energy"
   ]
  },
  {
   "cell_type": "code",
   "execution_count": 127,
   "id": "ca91afa4",
   "metadata": {},
   "outputs": [
    {
     "name": "stdout",
     "output_type": "stream",
     "text": [
      "(-7.614896406210371+0j)\n",
      "(-1.6653345369377348e-15+0j)\n"
     ]
    }
   ],
   "source": [
    "times = np.linspace(0.0,10,100)\n",
    "times1=np.linspace(0.0,resbrute[0][0],100)\n",
    "times2=np.linspace(0.0,resbrute[0][1],100)\n",
    "\n",
    "psi_t1 = H_violation.evolve(psi_ini_6,0.0,times1)\n",
    "psi_t2 = H_target.evolve([row[-1] for row in psi_t1],0.0,times)\n",
    "psi_t3 = H_violation.evolve([row[-1] for row in psi_t2],0.0,times2)\n",
    "\n",
    "psi_ini_7 = [row[-1] for row in psi_t3]\n",
    "\n",
    "print(H_target.expt_value(psi_ini_7))\n",
    "print(Gauss_law.expt_value(psi_ini_7))"
   ]
  },
  {
   "cell_type": "code",
   "execution_count": 128,
   "id": "f915a553",
   "metadata": {},
   "outputs": [],
   "source": [
    "def extract_energy_7(theta):\n",
    "    times1=np.linspace(0.0,theta[0],100)\n",
    "    times2=np.linspace(0.0,theta[1],100)\n",
    "    #times3=np.linspace(0.0,theta[2],100)\n",
    "    #times4=np.linspace(0.0,theta[3],100)\n",
    "    #times5=np.linspace(0.0,theta[4],100)\n",
    "\n",
    "    psi_t1 = H_violation.evolve(psi_ini_7,0.0,times1)\n",
    "    psi_t2 = H_target.evolve([row[-1] for row in psi_t1],0.0,times)\n",
    "    psi_t3 = H_violation.evolve([row[-1] for row in psi_t2],0.0,times2)\n",
    "    #psi_t4 = H_target.evolve([row[-1] for row in psi_t3],0.0,times)\n",
    "    #psi_t5 = H_violation.evolve([row[-1] for row in psi_t4],0.0,times3)\n",
    "    #psi_t6 = H_target.evolve([row[-1] for row in psi_t5],0.0,times)\n",
    "    #psi_t7 = H_violation.evolve([row[-1] for row in psi_t6],0.0,times4)\n",
    "    #psi_t8 = H_target.evolve([row[-1] for row in psi_t7],0.0,times)\n",
    "    #psi_t9 = H_violation.evolve([row[-1] for row in psi_t8],0.0,times5)\n",
    "\n",
    "\n",
    "    cost_function = H_target.expt_value([row[-1] for row in psi_t3]) + 100*Gauss_law.expt_value([row[-1] for row in psi_t3])**2\n",
    "    return np.real(cost_function)"
   ]
  },
  {
   "cell_type": "code",
   "execution_count": 129,
   "id": "1e20d58c",
   "metadata": {},
   "outputs": [
    {
     "name": "stdout",
     "output_type": "stream",
     "text": [
      "2021-10-26 14:23:33.096754\n",
      "2021-10-26 14:24:20.054394\n"
     ]
    }
   ],
   "source": [
    "from scipy.optimize import brute\n",
    "from scipy.optimize import minimize\n",
    "print(datetime.datetime.now())\n",
    "brute_ranges = (slice(0,10,1.),slice(0,10,1.))\n",
    "resbrute = brute(extract_energy_7, brute_ranges,full_output = True ,finish = minimize)\n",
    "print(datetime.datetime.now())\n",
    "               "
   ]
  },
  {
   "cell_type": "code",
   "execution_count": 130,
   "id": "140bb7d1",
   "metadata": {},
   "outputs": [
    {
     "name": "stdout",
     "output_type": "stream",
     "text": [
      "[0.79753307 5.15726189]\n"
     ]
    }
   ],
   "source": [
    "print(resbrute[0]) #theta1, theta2"
   ]
  },
  {
   "cell_type": "code",
   "execution_count": 131,
   "id": "4be29e1b",
   "metadata": {},
   "outputs": [
    {
     "name": "stdout",
     "output_type": "stream",
     "text": [
      "-9.259893078770984\n"
     ]
    }
   ],
   "source": [
    "print(resbrute[1]) #minimized energy"
   ]
  },
  {
   "cell_type": "code",
   "execution_count": 132,
   "id": "c8b0410a",
   "metadata": {},
   "outputs": [
    {
     "name": "stdout",
     "output_type": "stream",
     "text": [
      "(-9.259893078770984+1.6653345369377348e-16j)\n",
      "(-4.440892098500626e-16+0j)\n"
     ]
    }
   ],
   "source": [
    "times = np.linspace(0.0,10,100)\n",
    "times1=np.linspace(0.0,resbrute[0][0],100)\n",
    "times2=np.linspace(0.0,resbrute[0][1],100)\n",
    "\n",
    "psi_t1 = H_violation.evolve(psi_ini_7,0.0,times1)\n",
    "psi_t2 = H_target.evolve([row[-1] for row in psi_t1],0.0,times)\n",
    "psi_t3 = H_violation.evolve([row[-1] for row in psi_t2],0.0,times2)\n",
    "\n",
    "psi_ini_8 = [row[-1] for row in psi_t3]\n",
    "\n",
    "print(H_target.expt_value(psi_ini_8))\n",
    "print(Gauss_law.expt_value(psi_ini_8))"
   ]
  },
  {
   "cell_type": "code",
   "execution_count": 133,
   "id": "8b824626",
   "metadata": {},
   "outputs": [],
   "source": [
    "def extract_energy_8(theta):\n",
    "    times1=np.linspace(0.0,theta[0],100)\n",
    "    times2=np.linspace(0.0,theta[1],100)\n",
    "    #times3=np.linspace(0.0,theta[2],100)\n",
    "    #times4=np.linspace(0.0,theta[3],100)\n",
    "    #times5=np.linspace(0.0,theta[4],100)\n",
    "\n",
    "    psi_t1 = H_violation.evolve(psi_ini_8,0.0,times1)\n",
    "    psi_t2 = H_target.evolve([row[-1] for row in psi_t1],0.0,times)\n",
    "    psi_t3 = H_violation.evolve([row[-1] for row in psi_t2],0.0,times2)\n",
    "    #psi_t4 = H_target.evolve([row[-1] for row in psi_t3],0.0,times)\n",
    "    #psi_t5 = H_violation.evolve([row[-1] for row in psi_t4],0.0,times3)\n",
    "    #psi_t6 = H_target.evolve([row[-1] for row in psi_t5],0.0,times)\n",
    "    #psi_t7 = H_violation.evolve([row[-1] for row in psi_t6],0.0,times4)\n",
    "    #psi_t8 = H_target.evolve([row[-1] for row in psi_t7],0.0,times)\n",
    "    #psi_t9 = H_violation.evolve([row[-1] for row in psi_t8],0.0,times5)\n",
    "\n",
    "\n",
    "    cost_function = H_target.expt_value([row[-1] for row in psi_t3]) + 100*Gauss_law.expt_value([row[-1] for row in psi_t3])**2\n",
    "    return np.real(cost_function)"
   ]
  },
  {
   "cell_type": "code",
   "execution_count": 134,
   "id": "617d649a",
   "metadata": {},
   "outputs": [
    {
     "name": "stdout",
     "output_type": "stream",
     "text": [
      "2021-10-26 14:25:39.211427\n",
      "2021-10-26 14:26:21.434821\n"
     ]
    }
   ],
   "source": [
    "from scipy.optimize import brute\n",
    "from scipy.optimize import minimize\n",
    "print(datetime.datetime.now())\n",
    "brute_ranges = (slice(0,10,1.),slice(0,10,1.))\n",
    "resbrute = brute(extract_energy_8, brute_ranges,full_output = True ,finish = minimize)\n",
    "print(datetime.datetime.now())\n",
    "               "
   ]
  },
  {
   "cell_type": "code",
   "execution_count": 135,
   "id": "e8db5f72",
   "metadata": {},
   "outputs": [
    {
     "name": "stdout",
     "output_type": "stream",
     "text": [
      "[-0.01296797 -0.36437937]\n"
     ]
    }
   ],
   "source": [
    "print(resbrute[0]) #theta1, theta2"
   ]
  },
  {
   "cell_type": "code",
   "execution_count": 136,
   "id": "19d9512d",
   "metadata": {},
   "outputs": [
    {
     "name": "stdout",
     "output_type": "stream",
     "text": [
      "-9.605648945865187\n"
     ]
    }
   ],
   "source": [
    "print(resbrute[1]) #mnimized energy"
   ]
  },
  {
   "cell_type": "code",
   "execution_count": 137,
   "id": "5cbde0eb",
   "metadata": {},
   "outputs": [
    {
     "name": "stdout",
     "output_type": "stream",
     "text": [
      "(-9.605648945865187+0j)\n",
      "(-1.6653345369377348e-15+0j)\n"
     ]
    }
   ],
   "source": [
    "times = np.linspace(0.0,10,100)\n",
    "times1=np.linspace(0.0,resbrute[0][0],100)\n",
    "times2=np.linspace(0.0,resbrute[0][1],100)\n",
    "\n",
    "psi_t1 = H_violation.evolve(psi_ini_8,0.0,times1)\n",
    "psi_t2 = H_target.evolve([row[-1] for row in psi_t1],0.0,times)\n",
    "psi_t3 = H_violation.evolve([row[-1] for row in psi_t2],0.0,times2)\n",
    "\n",
    "psi_ini_9 = [row[-1] for row in psi_t3]\n",
    "\n",
    "print(H_target.expt_value(psi_ini_9))\n",
    "print(Gauss_law.expt_value(psi_ini_9))"
   ]
  },
  {
   "cell_type": "code",
   "execution_count": 138,
   "id": "fc50257b",
   "metadata": {},
   "outputs": [],
   "source": [
    "def extract_energy_9(theta):\n",
    "    times1=np.linspace(0.0,theta[0],100)\n",
    "    times2=np.linspace(0.0,theta[1],100)\n",
    "    #times3=np.linspace(0.0,theta[2],100)\n",
    "    #times4=np.linspace(0.0,theta[3],100)\n",
    "    #times5=np.linspace(0.0,theta[4],100)\n",
    "\n",
    "    psi_t1 = H_violation.evolve(psi_ini_9,0.0,times1)\n",
    "    psi_t2 = H_target.evolve([row[-1] for row in psi_t1],0.0,times)\n",
    "    psi_t3 = H_violation.evolve([row[-1] for row in psi_t2],0.0,times2)\n",
    "    #psi_t4 = H_target.evolve([row[-1] for row in psi_t3],0.0,times)\n",
    "    #psi_t5 = H_violation.evolve([row[-1] for row in psi_t4],0.0,times3)\n",
    "    #psi_t6 = H_target.evolve([row[-1] for row in psi_t5],0.0,times)\n",
    "    #psi_t7 = H_violation.evolve([row[-1] for row in psi_t6],0.0,times4)\n",
    "    #psi_t8 = H_target.evolve([row[-1] for row in psi_t7],0.0,times)\n",
    "    #psi_t9 = H_violation.evolve([row[-1] for row in psi_t8],0.0,times5)\n",
    "\n",
    "\n",
    "    cost_function = H_target.expt_value([row[-1] for row in psi_t3]) + 100*Gauss_law.expt_value([row[-1] for row in psi_t3])**2\n",
    "    return np.real(cost_function)"
   ]
  },
  {
   "cell_type": "code",
   "execution_count": 139,
   "id": "9b6cad17",
   "metadata": {},
   "outputs": [
    {
     "name": "stdout",
     "output_type": "stream",
     "text": [
      "2021-10-26 14:27:22.737206\n",
      "2021-10-26 14:28:05.560595\n"
     ]
    }
   ],
   "source": [
    "from scipy.optimize import brute\n",
    "from scipy.optimize import minimize\n",
    "print(datetime.datetime.now())\n",
    "brute_ranges = (slice(0,10,1.),slice(0,10,1.))\n",
    "resbrute = brute(extract_energy_9, brute_ranges,full_output = True ,finish = minimize)\n",
    "print(datetime.datetime.now())\n",
    "               "
   ]
  },
  {
   "cell_type": "code",
   "execution_count": 140,
   "id": "553fb852",
   "metadata": {},
   "outputs": [
    {
     "name": "stdout",
     "output_type": "stream",
     "text": [
      "[0.12833032 0.31664947]\n"
     ]
    }
   ],
   "source": [
    "print(resbrute[0]) #theta1, theta2"
   ]
  },
  {
   "cell_type": "code",
   "execution_count": 141,
   "id": "d2ba6cd4",
   "metadata": {},
   "outputs": [
    {
     "name": "stdout",
     "output_type": "stream",
     "text": [
      "-9.812094205978507\n"
     ]
    }
   ],
   "source": [
    "print(resbrute[1]) #minimized energy"
   ]
  },
  {
   "cell_type": "code",
   "execution_count": null,
   "id": "7e5fcb66",
   "metadata": {},
   "outputs": [],
   "source": []
  },
  {
   "cell_type": "code",
   "execution_count": null,
   "id": "e5e4b51f",
   "metadata": {},
   "outputs": [],
   "source": []
  },
  {
   "cell_type": "code",
   "execution_count": null,
   "id": "3bb5d6ff",
   "metadata": {},
   "outputs": [],
   "source": []
  },
  {
   "cell_type": "code",
   "execution_count": 55,
   "id": "60f7c425",
   "metadata": {},
   "outputs": [
    {
     "data": {
      "text/plain": [
       "(1.6653345369377348e-15+0j)"
      ]
     },
     "execution_count": 55,
     "metadata": {},
     "output_type": "execute_result"
    }
   ],
   "source": [
    "times = np.linspace(0.0,10,100)\n",
    "times1=np.linspace(0.0,resbrute[0][0],100)\n",
    "times2=np.linspace(0.0,resbrute[0][1],100)\n",
    "\n",
    "psi_t1 = H_violation.evolve(psi_ini,0.0,times1)\n",
    "psi_t2 = H_target.evolve([row[-1] for row in psi_t1],0.0,times)\n",
    "psi_t3 = H_violation.evolve([row[-1] for row in psi_t2],0.0,times2)\n",
    "\n",
    "#psi_ini = [row[-1] for row in psi_t3]\n",
    "\n",
    "Gauss_law.expt_value([row[-1] for row in psi_t3])"
   ]
  },
  {
   "cell_type": "code",
   "execution_count": 9,
   "id": "4da5c146",
   "metadata": {},
   "outputs": [
    {
     "name": "stdout",
     "output_type": "stream",
     "text": [
      "Hermiticity check passed!\n"
     ]
    },
    {
     "name": "stderr",
     "output_type": "stream",
     "text": [
      "<ipython-input-9-741e28dd489c>:1: UserWarning: Test for symmetries not implemented for <class 'quspin.basis.tensor.tensor_basis'>, to turn off this warning set check_symm=False in hamiltonian\n",
      "  Gauss_law.__init__(static_gauss_law, dynamic_list = [],basis=basis, check_herm = True)\n",
      "<ipython-input-9-741e28dd489c>:1: UserWarning: Test for particle conservation not implemented for <class 'quspin.basis.tensor.tensor_basis'>, to turn off this warning set check_pcon=False in hamiltonian\n",
      "  Gauss_law.__init__(static_gauss_law, dynamic_list = [],basis=basis, check_herm = True)\n"
     ]
    }
   ],
   "source": [
    "Gauss_law.__init__(static_gauss_law, dynamic_list = [],basis=basis, check_herm = True)\n",
    "#for checking the Hermiticity of the operators"
   ]
  },
  {
   "cell_type": "code",
   "execution_count": 10,
   "id": "5060cb12",
   "metadata": {},
   "outputs": [
    {
     "data": {
      "text/plain": [
       "0j"
      ]
     },
     "execution_count": 10,
     "metadata": {},
     "output_type": "execute_result"
    }
   ],
   "source": [
    "Gauss_law.expt_value(psi_0)"
   ]
  },
  {
   "cell_type": "code",
   "execution_count": null,
   "id": "8275afee",
   "metadata": {},
   "outputs": [],
   "source": [
    "psi_ini = "
   ]
  },
  {
   "cell_type": "code",
   "execution_count": 35,
   "id": "2097914c",
   "metadata": {},
   "outputs": [
    {
     "name": "stdout",
     "output_type": "stream",
     "text": [
      "2021-10-25 12:27:32.364856\n",
      "2021-10-25 12:27:32.719826\n"
     ]
    }
   ],
   "source": [
    "#eigenvalues,eigenvectors = H_target.eigh()\n",
    "#psi_ground = eigenvectors[:,0]\n",
    "###### time evolve initial state and measure energy\n",
    "import datetime\n",
    "\n",
    "times = np.linspace(0.0,10,100)\n",
    "def extract_energy(theta):\n",
    "    times1=np.linspace(0.0,theta[0],100)\n",
    "    times2=np.linspace(0.0,theta[1],100)\n",
    "    #times3=np.linspace(0.0,theta[2],100)\n",
    "    #times4=np.linspace(0.0,theta[3],100)\n",
    "    #times5=np.linspace(0.0,theta[4],100)\n",
    "\n",
    "    psi_t1 = H_violation.evolve(psi_0,0.0,times1)\n",
    "    psi_t2 = H_target.evolve([row[-1] for row in psi_t1],0.0,times)\n",
    "    psi_t3 = H_violation.evolve([row[-1] for row in psi_t2],0.0,times2)\n",
    "    #psi_t4 = H_target.evolve([row[-1] for row in psi_t3],0.0,times)\n",
    "    #psi_t5 = H_violation.evolve([row[-1] for row in psi_t4],0.0,times3)\n",
    "    #psi_t6 = H_target.evolve([row[-1] for row in psi_t5],0.0,times)\n",
    "    #psi_t7 = H_violation.evolve([row[-1] for row in psi_t6],0.0,times4)\n",
    "    #psi_t8 = H_target.evolve([row[-1] for row in psi_t7],0.0,times)\n",
    "    #psi_t9 = H_violation.evolve([row[-1] for row in psi_t8],0.0,times5)\n",
    "\n",
    "\n",
    "    cost_function = H_target.expt_value([row[-1] for row in psi_t3]) + 100*Gauss_law.expt_value([row[-1] for row in psi_t3])**2\n",
    "    return np.real(cost_function)\n",
    "\n",
    "print(datetime.datetime.now())\n",
    "extract_energy(np.array([10.,10.]))\n",
    "print(datetime.datetime.now())\n"
   ]
  },
  {
   "cell_type": "code",
   "execution_count": null,
   "id": "99043a76",
   "metadata": {},
   "outputs": [],
   "source": [
    "from scipy.optimize import brute\n",
    "from scipy.optimize import minimize\n",
    "print(datetime.datetime.now())\n",
    "brute_ranges = (slice(0,10,1.),slice(0,10,1.))\n",
    "resbrute = brute(extract_energy, brute_ranges,full_output = True ,finish = minimize)\n",
    "print(datetime.datetime.now())\n",
    "              "
   ]
  },
  {
   "cell_type": "code",
   "execution_count": 15,
   "id": "b722a153",
   "metadata": {},
   "outputs": [
    {
     "name": "stdout",
     "output_type": "stream",
     "text": [
      "2021-10-25 12:02:52.938388\n",
      "2021-10-25 12:03:55.670169\n"
     ]
    }
   ],
   "source": [
    "from scipy.optimize import minimize\n",
    "import datetime\n",
    "print(datetime.datetime.now())\n",
    "initial_guess = np.array([0.,0.])\n",
    "nelder_mead = minimize(extract_energy, initial_guess,method='Nelder-Mead')\n",
    "print(datetime.datetime.now())\n"
   ]
  },
  {
   "cell_type": "code",
   "execution_count": 16,
   "id": "2d8cea15",
   "metadata": {},
   "outputs": [
    {
     "data": {
      "text/plain": [
       "array([-3.12792599,  4.38588058])"
      ]
     },
     "execution_count": 16,
     "metadata": {},
     "output_type": "execute_result"
    }
   ],
   "source": [
    "nelder_mead.x"
   ]
  },
  {
   "cell_type": "code",
   "execution_count": 20,
   "id": "1b041a74",
   "metadata": {},
   "outputs": [
    {
     "data": {
      "text/plain": [
       "-4.506222272167034"
      ]
     },
     "execution_count": 20,
     "metadata": {},
     "output_type": "execute_result"
    }
   ],
   "source": [
    "nelder_mead.fun"
   ]
  },
  {
   "cell_type": "code",
   "execution_count": 161,
   "id": "040f7d1b",
   "metadata": {},
   "outputs": [
    {
     "name": "stdout",
     "output_type": "stream",
     "text": [
      "5184\n"
     ]
    }
   ],
   "source": [
    "print(basis.Ns)"
   ]
  },
  {
   "cell_type": "code",
   "execution_count": 183,
   "id": "56bcb95b",
   "metadata": {},
   "outputs": [
    {
     "data": {
      "text/plain": [
       "(1+0j)"
      ]
     },
     "execution_count": 183,
     "metadata": {},
     "output_type": "execute_result"
    }
   ],
   "source": []
  },
  {
   "cell_type": "code",
   "execution_count": 46,
   "id": "fae38ff0",
   "metadata": {},
   "outputs": [],
   "source": [
    "theta = np.array([1.,1.,1.])\n",
    "psi = psi_0"
   ]
  },
  {
   "cell_type": "code",
   "execution_count": 50,
   "id": "a334ce11",
   "metadata": {},
   "outputs": [
    {
     "name": "stdout",
     "output_type": "stream",
     "text": [
      "(-0.09332855054364825+0.5504184972904382j)\n"
     ]
    }
   ],
   "source": [
    "times0=np.linspace(0.0,theta[0],100)\n",
    "times1=np.linspace(0.0,theta[1],100)\n",
    "times2=np.linspace(0.0,theta[2],100)\n",
    "\n",
    "psi_t0 = H_violation.evolve(psi,0.0,times0)\n",
    "psi_t1 = H_target.evolve([row[-1] for row in psi_t0],0.0,times1)\n",
    "psi_t2 = H_violation.evolve([row[-1] for row in psi_t1],0.0,times2)\n",
    "print(np.dot(psi,[row[-1] for row in psi_t2]))"
   ]
  },
  {
   "cell_type": "code",
   "execution_count": null,
   "id": "48716147",
   "metadata": {},
   "outputs": [],
   "source": []
  }
 ],
 "metadata": {
  "kernelspec": {
   "display_name": "Python 3",
   "language": "python",
   "name": "python3"
  },
  "language_info": {
   "codemirror_mode": {
    "name": "ipython",
    "version": 3
   },
   "file_extension": ".py",
   "mimetype": "text/x-python",
   "name": "python",
   "nbconvert_exporter": "python",
   "pygments_lexer": "ipython3",
   "version": "3.8.8"
  }
 },
 "nbformat": 4,
 "nbformat_minor": 5
}
