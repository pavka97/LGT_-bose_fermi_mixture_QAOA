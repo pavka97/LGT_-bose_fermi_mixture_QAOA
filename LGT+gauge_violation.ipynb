{
 "cells": [
  {
   "cell_type": "code",
   "execution_count": 51,
   "id": "e3563e5d",
   "metadata": {},
   "outputs": [],
   "source": [
    "from __future__ import print_function, division\n",
    "import sys,os\n",
    "# line 4 and line 5 below are for development purposes and can be removed\n",
    "qspin_path = os.path.join(os.getcwd(),\"../../\")\n",
    "sys.path.insert(0,qspin_path)\n",
    "\n",
    "from quspin.operators import hamiltonian # Hamiltonians and operators\n",
    "from quspin.basis import tensor_basis,spinful_fermion_basis_1d,boson_basis_1d # bases\n",
    "from quspin.tools.measurements import obs_vs_time # calculating dynamics\n",
    "from quspin.tools.Floquet import Floquet_t_vec # period-spaced time vector\n",
    "import numpy as np # general math functions\n",
    "import matplotlib.pyplot as plt # plotting library\n",
    "#\n",
    "##### setting up parameters for simulation\n",
    "# physical parameters\n",
    "l = 1\n",
    "L_f = 3 # system size f\n",
    "L_b = L_f-1 # system size b\n",
    "Nf, Nb = 2, l # number of fermions, bosons\n",
    "N = Nf + Nb # total number of particles\n",
    "# define time-dependent perturbation\n",
    "\n",
    "###### create the basis\n",
    "# build the two bases to tensor together to a bose-fermi mixture\n",
    "basis_b1=boson_basis_1d(L_b,Nb=[i for i in range(2*l*L_b+1)],sps=2*l+1) # boson basis\n",
    "basis_b2=boson_basis_1d(L_b,Nb=[i for i in range(2*l*L_b+1)],sps=2*l+1) # boson basis\n",
    "basis_f=spinful_fermion_basis_1d(L_f,Nf = [(0,0),(0,1),(1,0),(1,1),(2,0),(0,2),(1,2),(2,1),(2,2),(0,3),(3,0),(3,1),(1,3),(2,3),(3,2),(3,3)],double_occupancy=True)\n",
    "basis=tensor_basis(basis_b1,basis_b2,basis_f) # BFM\n",
    "\n",
    "############################################## target  hamiltonian\n",
    "a = 0.1\n",
    "e = 1.0\n",
    "m = 0.3\n",
    "lam = 0.5\n",
    "\n",
    "bosonic_part_LGT = [[a*e**2/4.,i,i,i,i] for i in range(L_b)] # b^dagger*b^dagger*b*b\n",
    "mass_f = [[m+1.0/a,i,i] for i in range(L_f)] # f mass term\n",
    "m_mass_f = [[-m-1.0/a,i,i] for i in range(L_f)] # f mass term\n",
    "\n",
    "interaction_part_LGT = [[1.0/(a*np.sqrt(l*(l+1))),i,i,i,i+1] for i in range(L_b)] #boson-fermion interaction\n",
    "m_interaction_part_LGT = [[-1.0/(a*np.sqrt(l*(l+1))),i,i,i,i+1] for i in range(L_b)] #boson-fermion interaction\n",
    "\n",
    "gauge_violation = [[lam,i,(i+1)] for i in range(L_f-1)] #gauge violating term\n",
    "m_gauge_violation = [[-lam,i,(i+1)] for i in range(L_f-1)] #gauge violating term\n",
    "\n",
    "\n",
    "b_0 = [[-0.5*e,0]]\n",
    "d_0 = [[+0.5*e,0]]\n",
    "b_1 = [[+0.5*e,1]]\n",
    "d_1 = [[-0.5*e,1]]\n",
    "rho_1 = [[-e,1]]\n",
    "eee = [[e,1]]\n",
    "\n",
    "static_gauss_law = [\n",
    "    \n",
    "    [\"n|||\", b_0],\n",
    "    [\"|n||\", d_0],\n",
    "    [\"n|||\", b_1],\n",
    "    [\"|n||\", d_1],\n",
    "    [\"||n|\", rho_1],\n",
    "    [\"|||n\", rho_1],\n",
    "    [\"|I||\", eee]\n",
    "\n",
    "]    \n",
    "\n",
    "\n",
    "    \n",
    "    \n",
    "\n",
    "#\n",
    "static_target = [\n",
    "            [\"++--|||\", bosonic_part_LGT], # b^dagger*b^dagger*b*b\n",
    "            [\"|++--||\", bosonic_part_LGT], # b^dagger*b^dagger*b*b\n",
    "\n",
    "            [\"||+|-\", mass_f], # f mass term\n",
    "            [\"||-|+\", m_mass_f], # f mass term\n",
    "\n",
    "\n",
    "            [\"+|-|+|-\", interaction_part_LGT], #boson-fermion interaction\n",
    "            [\"-|+|-|+\", m_interaction_part_LGT], #boson-fermion interaction\n",
    "\n",
    "\n",
    "]\n",
    "static_violation = [\n",
    "[\"||+|-\", gauge_violation],\n",
    "[\"||-|+\", m_gauge_violation]\n",
    "\n",
    "]\n",
    "\n",
    "################################################\n",
    "###### set up Hamiltonian and initial states\n",
    "no_checks = dict(check_pcon=False,check_symm=False,check_herm=False)\n",
    "\n",
    "H_violation = hamiltonian(static_violation,dynamic_list = [],basis=basis,**no_checks)\n",
    "H_target = hamiltonian(static_target,dynamic_list = [],basis=basis,**no_checks)\n",
    "Gauss_law = hamiltonian(static_gauss_law, dynamic_list = [], basis=basis, **no_checks)\n",
    "\n"
   ]
  },
  {
   "cell_type": "code",
   "execution_count": 52,
   "id": "9d0d8c95",
   "metadata": {},
   "outputs": [],
   "source": [
    "# define initial Fock state through strings\n",
    "s_f = [\"111\",\"110\",\"101\",\"011\",\"100\",\"010\",\"001\",\"000\"]\n",
    "s_b = [\"20\",\"11\",\"10\",\"02\",\"01\",\"00\"]\n",
    "# basis.index accepts strings and returns the index which corresponds to that state in the basis list\n",
    "i = np.zeros(8)\n",
    "i[0] = basis.index(s_b[2],s_b[2],s_f[0],s_f[7]) # find index of product state in basis\n",
    "i[1] = basis.index(s_b[2],s_b[2],s_f[1],s_f[6])\n",
    "i[2] = basis.index(s_b[2],s_b[2],s_f[2],s_f[5])\n",
    "i[3] = basis.index(s_b[2],s_b[2],s_f[3],s_f[4])\n",
    "i[4] = basis.index(s_b[2],s_b[2],s_f[4],s_f[3])\n",
    "i[5] = basis.index(s_b[2],s_b[2],s_f[5],s_f[2])\n",
    "i[6] = basis.index(s_b[2],s_b[2],s_f[6],s_f[1])\n",
    "i[7] = basis.index(s_b[2],s_b[2],s_f[7],s_f[0])\n",
    "\n",
    "\n",
    "psi_0 = np.zeros(basis.Ns) # allocate space for state\n",
    "psi_0[int(i[0])] = 1/(np.sqrt(2)**3) # set MB state to be the given product state\n",
    "psi_0[int(i[1])] = -1/(np.sqrt(2)**3)\n",
    "psi_0[int(i[2])] = -1/(np.sqrt(2)**3)\n",
    "psi_0[int(i[3])] = -1/(np.sqrt(2)**3)\n",
    "psi_0[int(i[4])] = 1/(np.sqrt(2)**3)\n",
    "psi_0[int(i[5])] = 1/(np.sqrt(2)**3)\n",
    "psi_0[int(i[6])] = 1/(np.sqrt(2)**3)\n",
    "psi_0[int(i[7])] = -1/(np.sqrt(2)**3)\n",
    "\n",
    "\n",
    "#\n"
   ]
  },
  {
   "cell_type": "code",
   "execution_count": 53,
   "id": "e3956580",
   "metadata": {},
   "outputs": [
    {
     "name": "stdout",
     "output_type": "stream",
     "text": [
      "2021-10-22 15:11:19.338961\n",
      "2021-10-22 15:11:20.429113\n"
     ]
    }
   ],
   "source": [
    "#eigenvalues,eigenvectors = H_target.eigh()\n",
    "#psi_ground = eigenvectors[:,0]\n",
    "###### time evolve initial state and measure energy\n",
    "import datetime\n",
    "\n",
    "times = np.linspace(0.0,10,100)\n",
    "def extract_energy(theta):\n",
    "    times1=np.linspace(0.0,theta[0],100)\n",
    "    times2=np.linspace(0.0,theta[1],100)\n",
    "    #times3=np.linspace(0.0,theta[2],100)\n",
    "    #times4=np.linspace(0.0,theta[3],100)\n",
    "    #times5=np.linspace(0.0,theta[4],100)\n",
    "\n",
    "    psi_t1 = H_violation.evolve(psi_0,0.0,times1)\n",
    "    psi_t2 = H_target.evolve([row[-1] for row in psi_t1],0.0,times)\n",
    "    psi_t3 = H_violation.evolve([row[-1] for row in psi_t2],0.0,times2)\n",
    "    #psi_t4 = H_target.evolve([row[-1] for row in psi_t3],0.0,times)\n",
    "    #psi_t5 = H_violation.evolve([row[-1] for row in psi_t4],0.0,times3)\n",
    "    #psi_t6 = H_target.evolve([row[-1] for row in psi_t5],0.0,times)\n",
    "    #psi_t7 = H_violation.evolve([row[-1] for row in psi_t6],0.0,times4)\n",
    "    #psi_t8 = H_target.evolve([row[-1] for row in psi_t7],0.0,times)\n",
    "    #psi_t9 = H_violation.evolve([row[-1] for row in psi_t8],0.0,times5)\n",
    "\n",
    "\n",
    "    cost_function = H_target.expt_value([row[-1] for row in psi_t3]) + Gauss_law.expt_value([row[-1] for row in psi_t3])**2\n",
    "    return np.real(cost_function)\n",
    "\n",
    "print(datetime.datetime.now())\n",
    "extract_energy(np.array([10.,10.]))\n",
    "print(datetime.datetime.now())\n"
   ]
  },
  {
   "cell_type": "code",
   "execution_count": 54,
   "id": "4fec248b",
   "metadata": {},
   "outputs": [
    {
     "name": "stdout",
     "output_type": "stream",
     "text": [
      "2021-10-22 15:11:28.954852\n",
      "2021-10-22 15:14:09.495269\n"
     ]
    }
   ],
   "source": [
    "from scipy.optimize import brute\n",
    "from scipy.optimize import minimize\n",
    "print(datetime.datetime.now())\n",
    "brute_ranges = (slice(0,10,1.),slice(0,10,1.))\n",
    "resbrute = brute(extract_energy, brute_ranges,full_output = True ,finish = minimize)\n",
    "print(datetime.datetime.now())\n"
   ]
  },
  {
   "cell_type": "code",
   "execution_count": 55,
   "id": "98abfaca",
   "metadata": {},
   "outputs": [
    {
     "name": "stdout",
     "output_type": "stream",
     "text": [
      "[3.12793052 8.18047511]\n"
     ]
    }
   ],
   "source": [
    "print(resbrute[0]) #theta1, theta2"
   ]
  },
  {
   "cell_type": "code",
   "execution_count": 56,
   "id": "14fb6d6f",
   "metadata": {},
   "outputs": [
    {
     "name": "stdout",
     "output_type": "stream",
     "text": [
      "-4.506222272442281\n"
     ]
    }
   ],
   "source": [
    "print(resbrute[1]) #minimized energy"
   ]
  },
  {
   "cell_type": "code",
   "execution_count": 49,
   "id": "4da5c146",
   "metadata": {},
   "outputs": [
    {
     "name": "stdout",
     "output_type": "stream",
     "text": [
      "Hermiticity check passed!\n"
     ]
    },
    {
     "name": "stderr",
     "output_type": "stream",
     "text": [
      "C:\\Users\\pavka\\AppData\\Local\\Continuum\\anaconda3\\lib\\site-packages\\ipykernel_launcher.py:1: UserWarning: Test for symmetries not implemented for <class 'quspin.basis.tensor.tensor_basis'>, to turn off this warning set check_symm=False in hamiltonian\n",
      "  \"\"\"Entry point for launching an IPython kernel.\n",
      "C:\\Users\\pavka\\AppData\\Local\\Continuum\\anaconda3\\lib\\site-packages\\ipykernel_launcher.py:1: UserWarning: Test for particle conservation not implemented for <class 'quspin.basis.tensor.tensor_basis'>, to turn off this warning set check_pcon=False in hamiltonian\n",
      "  \"\"\"Entry point for launching an IPython kernel.\n"
     ]
    }
   ],
   "source": [
    "Gauss_law.__init__(static_gauss_law, dynamic_list = [],basis=basis, check_herm = True)\n",
    "#for checking the Hermiticity of the operators"
   ]
  },
  {
   "cell_type": "code",
   "execution_count": 63,
   "id": "5060cb12",
   "metadata": {},
   "outputs": [
    {
     "data": {
      "text/plain": [
       "0j"
      ]
     },
     "execution_count": 63,
     "metadata": {},
     "output_type": "execute_result"
    }
   ],
   "source": [
    "Gauss_law.expt_value(psi_0)"
   ]
  },
  {
   "cell_type": "code",
   "execution_count": 62,
   "id": "4a709912",
   "metadata": {},
   "outputs": [
    {
     "data": {
      "text/plain": [
       "(1.6197070832296654e-29+0j)"
      ]
     },
     "execution_count": 62,
     "metadata": {},
     "output_type": "execute_result"
    }
   ],
   "source": [
    "times1=np.linspace(0.0,resbrute[0][0],100)\n",
    "times = np.linspace(0.0,10.,100)\n",
    "times2=np.linspace(0.0,resbrute[0][1],100)\n",
    "\n",
    "psi_t1 = H_violation.evolve(psi_0,0.0,times1)\n",
    "psi_t2 = H_target.evolve([row[-1] for row in psi_t1],0.0,times)\n",
    "psi_t3 = H_violation.evolve([row[-1] for row in psi_t2],0.0,times2)\n",
    "#print(np.abs(np.dot(psi_ground,np.array([row[-1] for row in psi_t1]))))\n",
    "#print(np.abs(np.dot(np.array([row[-1] for row in psi_t1]),np.array([row[-1] for row in psi_t2]))))\n",
    "#print(np.abs(np.dot(np.array([row[-1] for row in psi_t2]),np.array([row[-1] for row in psi_t3]))))\n",
    "Gauss_law.expt_value([row[-1] for row in psi_t3])**2"
   ]
  },
  {
   "cell_type": "code",
   "execution_count": null,
   "id": "b722a153",
   "metadata": {},
   "outputs": [],
   "source": []
  }
 ],
 "metadata": {
  "kernelspec": {
   "display_name": "Python 3",
   "language": "python",
   "name": "python3"
  },
  "language_info": {
   "codemirror_mode": {
    "name": "ipython",
    "version": 3
   },
   "file_extension": ".py",
   "mimetype": "text/x-python",
   "name": "python",
   "nbconvert_exporter": "python",
   "pygments_lexer": "ipython3",
   "version": "3.6.5"
  }
 },
 "nbformat": 4,
 "nbformat_minor": 5
}
