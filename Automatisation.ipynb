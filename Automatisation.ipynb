{
 "cells": [
  {
   "cell_type": "code",
   "execution_count": 1,
   "id": "55c84acf",
   "metadata": {},
   "outputs": [],
   "source": [
    "from scipy.linalg import expm\n",
    "from quspin.operators import hamiltonian, commutator, exp_op # Hamiltonians and operators\n",
    "from quspin.basis import tensor_basis, spin_basis_1d # bases\n",
    "import numpy as np # general math functions\n",
    "import matplotlib.pyplot as plt # plotting library"
   ]
  },
  {
   "cell_type": "code",
   "execution_count": 2,
   "id": "45093bff",
   "metadata": {},
   "outputs": [],
   "source": [
    "L = 4 #system size\n",
    "M = 0.1 #fermion mass\n",
    "N=1 #number of layers\n",
    "l=1 #spin length\n",
    "no_checks = dict(check_pcon=False,check_symm=False,check_herm=False)"
   ]
  },
  {
   "cell_type": "code",
   "execution_count": 3,
   "id": "61937c84",
   "metadata": {},
   "outputs": [
    {
     "name": "stdout",
     "output_type": "stream",
     "text": [
      "reference states: \n",
      "array index   /   Fock state   /   integer repr. \n",
      "      0.         |2 2 2 2>           80  \n",
      "      1.         |2 2 2 1>           79  \n",
      "      2.         |2 2 2 0>           78  \n",
      "      3.         |2 2 1 2>           77  \n",
      "      4.         |2 2 1 1>           76  \n",
      "      5.         |2 2 1 0>           75  \n",
      "      6.         |2 2 0 2>           74  \n",
      "      7.         |2 2 0 1>           73  \n",
      "      8.         |2 2 0 0>           72  \n",
      "      9.         |2 1 2 2>           71  \n",
      "     10.         |2 1 2 1>           70  \n",
      "     11.         |2 1 2 0>           69  \n",
      "     12.         |2 1 1 2>           68  \n",
      "     13.         |2 1 1 1>           67  \n",
      "     14.         |2 1 1 0>           66  \n",
      "     15.         |2 1 0 2>           65  \n",
      "     16.         |2 1 0 1>           64  \n",
      "     17.         |2 1 0 0>           63  \n",
      "     18.         |2 0 2 2>           62  \n",
      "     19.         |2 0 2 1>           61  \n",
      "     20.         |2 0 2 0>           60  \n",
      "     21.         |2 0 1 2>           59  \n",
      "     22.         |2 0 1 1>           58  \n",
      "     23.         |2 0 1 0>           57  \n",
      "     24.         |2 0 0 2>           56  \n",
      "                   :\n",
      "     56.         |0 2 2 0>           24  \n",
      "     57.         |0 2 1 2>           23  \n",
      "     58.         |0 2 1 1>           22  \n",
      "     59.         |0 2 1 0>           21  \n",
      "     60.         |0 2 0 2>           20  \n",
      "     61.         |0 2 0 1>           19  \n",
      "     62.         |0 2 0 0>           18  \n",
      "     63.         |0 1 2 2>           17  \n",
      "     64.         |0 1 2 1>           16  \n",
      "     65.         |0 1 2 0>           15  \n",
      "     66.         |0 1 1 2>           14  \n",
      "     67.         |0 1 1 1>           13  \n",
      "     68.         |0 1 1 0>           12  \n",
      "     69.         |0 1 0 2>           11  \n",
      "     70.         |0 1 0 1>           10  \n",
      "     71.         |0 1 0 0>            9  \n",
      "     72.         |0 0 2 2>            8  \n",
      "     73.         |0 0 2 1>            7  \n",
      "     74.         |0 0 2 0>            6  \n",
      "     75.         |0 0 1 2>            5  \n",
      "     76.         |0 0 1 1>            4  \n",
      "     77.         |0 0 1 0>            3  \n",
      "     78.         |0 0 0 2>            2  \n",
      "     79.         |0 0 0 1>            1  \n",
      "     80.         |0 0 0 0>            0  \n"
     ]
    }
   ],
   "source": [
    "#construct basis\n",
    "basis=spin_basis_1d(L=L,S = str(l))\n",
    "print(basis)"
   ]
  },
  {
   "cell_type": "code",
   "execution_count": 4,
   "id": "f20d1ef8",
   "metadata": {},
   "outputs": [],
   "source": [
    "#initialisation of the Gauss laws\n",
    "\n",
    "liste = []\n",
    "liste_m = []\n",
    "gauss_law_map = []\n",
    "Gauss_law = []\n",
    "\n",
    "for i in range(L+1):\n",
    "    liste.append([[1.,i]])\n",
    "    liste_m.append([[-1.,i]])\n",
    "    if i == 0:\n",
    "        gauss_law_map.append([\n",
    "            [\"z\",liste[0]]\n",
    "        ])\n",
    "    \n",
    "    elif (i == L) & (i%2 == 0):\n",
    "        gauss_law_map.append([\n",
    "            [\"z\",liste_m[i-1]]\n",
    "        ])\n",
    "    \n",
    "    elif (i == L) & (i%2 == 1):\n",
    "        gauss_law_map.append([\n",
    "            [\"z\",liste_m[i-1]],\n",
    "            [\"I\",liste[i-1]]\n",
    "        ])        \n",
    "        \n",
    "    elif i%2 == 0:\n",
    "        gauss_law_map.append([\n",
    "            [\"z\",liste[i]],\n",
    "            [\"z\",liste_m[i-1]],\n",
    "        ])\n",
    "    elif i%2 == 1:\n",
    "        gauss_law_map.append([\n",
    "            [\"z\",liste[i]],\n",
    "            [\"z\",liste_m[i-1]],  \n",
    "            [\"I\",liste[i]]\n",
    "        ])\n",
    "    Gauss_law.append(hamiltonian(gauss_law_map[i],dynamic_list=[],basis=basis,**no_checks))\n"
   ]
  },
  {
   "cell_type": "code",
   "execution_count": 5,
   "id": "7a368c26",
   "metadata": {},
   "outputs": [],
   "source": [
    "#basis vectors as arrays\n",
    "basis_vectors = []\n",
    "for index in range(basis.Ns):\n",
    "    state = np.zeros(basis.Ns)\n",
    "    state[basis.Ns-index-1] = 1.\n",
    "    state = state.tolist()\n",
    "    basis_vectors.append(state)"
   ]
  },
  {
   "cell_type": "code",
   "execution_count": 6,
   "id": "b4aa3728",
   "metadata": {},
   "outputs": [],
   "source": [
    "#projectors on g=1 for every site\n",
    "Proj = [np.zeros((basis.Ns,basis.Ns)) for i in range(L+1)]\n",
    "for i in range(L+1):\n",
    "    for state in basis_vectors:\n",
    "        state = np.array(state)\n",
    "        if (Gauss_law[i].expt_value(state)>=1.-1e-8) & (Gauss_law[i].expt_value(state)<=1.+1e-8):\n",
    "            Proj[i] += np.outer(state,state)"
   ]
  },
  {
   "cell_type": "code",
   "execution_count": 7,
   "id": "28e68017",
   "metadata": {},
   "outputs": [],
   "source": [
    "#initialisation of the unitarily transformed Hamiltonian\n",
    "\n",
    "linear_term = []\n",
    "quadratic_term = []\n",
    "interaction_p = []\n",
    "interaction_m = []\n",
    "\n",
    "\n",
    "for i in range(L-1):\n",
    "    linear_term.append([[0.5/np.sqrt(2),i]])\n",
    "    quadratic_term.append([[(-1)**i/np.sqrt(2),i,i+1]])\n",
    "    interaction_p.append([\n",
    "        [\"+z\", quadratic_term[i]],\n",
    "        [\"+\", linear_term[i]]\n",
    "    ])\n",
    "    interaction_m.append([\n",
    "        [\"-z\", quadratic_term[i]],\n",
    "        [\"-\", linear_term[i]]\n",
    "    ])\n",
    "\n",
    "linear_term.append([[0.5/np.sqrt(2),L-1]])\n",
    "interaction_p.append([\n",
    "    [\"+\", linear_term[L-1]]\n",
    "])\n",
    "interaction_m.append([\n",
    "    [\"-\", linear_term[L-1]]\n",
    "])\n",
    "\n",
    "kin_energy = [[0.5,i,i] for i in range(L)]\n",
    "mass_term = [[2*(-1)**i*M,i] for i in range(L)]\n",
    "\n",
    "kin_mass_map = [\n",
    "            [\"zz\", kin_energy], \n",
    "            [\"z\", mass_term], \n",
    "]\n",
    "\n",
    "H_int_p = []\n",
    "H_int_m = []\n",
    "interaction = [np.zeros((basis.Ns,basis.Ns)) for i in range(L)]\n",
    "h_int = np.zeros((basis.Ns,basis.Ns))\n",
    "for i in range(L):\n",
    "    H_int_p.append(hamiltonian(interaction_p[i],dynamic_list=[],basis=basis,**no_checks))\n",
    "    H_int_m.append(hamiltonian(interaction_m[i],dynamic_list=[],basis=basis,**no_checks))\n",
    "    interaction[i] = (Proj[i]@H_int_p[i].toarray()@Proj[i+1]+Proj[i+1]@H_int_m[i].toarray()@Proj[i])\n",
    "\n",
    "H_kin_mass = hamiltonian(kin_mass_map,dynamic_list=[],basis=basis,**no_checks)\n",
    "h_kin_mass = H_kin_mass.toarray()\n",
    "\n",
    "h_int = np.zeros((basis.Ns,basis.Ns),dtype = complex)\n",
    "\n",
    "for i in range(L):\n",
    "    h_int += interaction[i]\n",
    "\n",
    "\n",
    "full_ham_matrix = h_kin_mass + h_int #Spin-1 Hamiltonian without the local contstaints\n",
    "\n",
    "\n",
    "G=0\n",
    "for i in range(L+1):\n",
    "    G += 1e3*(Gauss_law[i]**2-Gauss_law[i])**2\n",
    "constraint_full_matrix = G.toarray()\n",
    "\n",
    "constrained_full_ham_matrix= full_ham_matrix + constraint_full_matrix #Spin-1 Hamiltonian with the local contstaints as a penalty term"
   ]
  },
  {
   "cell_type": "code",
   "execution_count": 8,
   "id": "3e7a9445",
   "metadata": {},
   "outputs": [
    {
     "name": "stdout",
     "output_type": "stream",
     "text": [
      "[-0.84165027 -0.13898669 -0.13898669  0.03967222  0.03967222  0.210565\n",
      "  0.33967222  0.33967222  0.41201398  0.6         0.6         0.6\n",
      "  0.6         0.69336559  0.69336559  0.7         0.73967222  0.73967222\n",
      "  0.7431159   0.9         0.9         0.9         0.9         1.\n",
      "  1.          1.          1.          1.09336559  1.09336559  1.2\n",
      "  1.26032778  1.26032778  1.3         1.3         1.3         1.3\n",
      "  1.3         1.3         1.3         1.3         1.3         1.3\n",
      "  1.37421746  1.38799188  1.4         1.43898669  1.43898669  1.56032778\n",
      "  1.56032778  1.56589034  1.56589034  1.6         1.6         1.6\n",
      "  1.6         1.7         1.7         1.7         1.7         1.7\n",
      "  1.7         1.85502489  1.96032778  1.96032778  1.96589034  1.96589034\n",
      "  2.          2.          2.          2.          2.1         2.1\n",
      "  2.21521754  2.34350363  2.4         2.4         2.44074406  2.44074406\n",
      "  2.8         2.84074406  2.84074406]\n"
     ]
    }
   ],
   "source": [
    "#eigenvalues and eigenvectors of the Spin-1 Hamiltonian without the local contstaints\n",
    "eigenval, eigenvec = np.linalg.eigh(full_ham_matrix)\n",
    "print(eigenval[eigenval<=1e2])"
   ]
  },
  {
   "cell_type": "code",
   "execution_count": 9,
   "id": "048542d6",
   "metadata": {},
   "outputs": [],
   "source": [
    "#eigenvalues and eigenvectors of the Spin-1 Hamiltonian with the local contstaints\n",
    "eigenvalues, eigenvectors = np.linalg.eigh(constrained_full_ham_matrix)"
   ]
  },
  {
   "cell_type": "code",
   "execution_count": 10,
   "id": "78f509b0",
   "metadata": {},
   "outputs": [
    {
     "name": "stdout",
     "output_type": "stream",
     "text": [
      "[-0.84165027  0.210565    0.41201398  0.7         0.7431159   1.37421746\n",
      "  1.38799188  1.85502489  2.21521754  2.34350363]\n",
      "[-3.38577675e-21+0.j  2.85238554e-02+0.j  1.02629276e-18+0.j\n",
      " -1.42247325e-16+0.j  1.11022302e-16+0.j  1.94289029e-16+0.j\n",
      "  5.55111512e-17+0.j -1.11022302e-16+0.j  0.00000000e+00+0.j\n",
      " -1.11022302e-16+0.j  1.44995330e-01+0.j  3.88578059e-16+0.j\n",
      " -2.19659360e-16+0.j -3.35001323e-01+0.j  1.49444062e-01+0.j\n",
      "  0.00000000e+00+0.j -2.71050543e-19+0.j  0.00000000e+00+0.j\n",
      "  5.09575021e-17+0.j  0.00000000e+00+0.j -5.42101086e-20+0.j\n",
      "  0.00000000e+00+0.j  0.00000000e+00+0.j -1.65436123e-24+0.j\n",
      "  5.04870979e-29+0.j  0.00000000e+00+0.j -1.15079808e-29+0.j\n",
      "  0.00000000e+00+0.j  0.00000000e+00+0.j  0.00000000e+00+0.j\n",
      "  0.00000000e+00+0.j  0.00000000e+00+0.j  0.00000000e+00+0.j\n",
      "  0.00000000e+00+0.j  0.00000000e+00+0.j  0.00000000e+00+0.j\n",
      "  4.78254770e-18+0.j -2.86532463e-01+0.j -2.38474992e-16+0.j\n",
      "  3.78521696e-20+0.j  7.38470368e-01+0.j -3.35001323e-01+0.j\n",
      " -1.02075703e-17+0.j  1.62069195e-23+0.j -2.07012272e-21+0.j\n",
      "  0.00000000e+00+0.j  0.00000000e+00+0.j  0.00000000e+00+0.j\n",
      " -5.13087551e-17+0.j -2.86532463e-01+0.j  1.44995330e-01+0.j\n",
      "  0.00000000e+00+0.j  0.00000000e+00+0.j  2.85238554e-02+0.j\n",
      "  0.00000000e+00+0.j  0.00000000e+00+0.j  0.00000000e+00+0.j\n",
      "  0.00000000e+00+0.j  0.00000000e+00+0.j  0.00000000e+00+0.j\n",
      "  0.00000000e+00+0.j  0.00000000e+00+0.j  0.00000000e+00+0.j\n",
      "  0.00000000e+00+0.j  0.00000000e+00+0.j  0.00000000e+00+0.j\n",
      "  0.00000000e+00+0.j  0.00000000e+00+0.j  0.00000000e+00+0.j\n",
      "  0.00000000e+00+0.j  0.00000000e+00+0.j  0.00000000e+00+0.j\n",
      "  0.00000000e+00+0.j  0.00000000e+00+0.j  0.00000000e+00+0.j\n",
      "  0.00000000e+00+0.j  0.00000000e+00+0.j  0.00000000e+00+0.j\n",
      "  0.00000000e+00+0.j  0.00000000e+00+0.j  0.00000000e+00+0.j]\n"
     ]
    }
   ],
   "source": [
    "#Gauge invariant part of the spectrum\n",
    "print(eigenvalues[eigenvalues<=1e2])\n",
    "print(eigenvectors[:,0])"
   ]
  },
  {
   "cell_type": "code",
   "execution_count": 11,
   "id": "b9a080c3",
   "metadata": {},
   "outputs": [],
   "source": [
    "#initial state\n",
    "string = \"\"\n",
    "for i in range(L):\n",
    "    string +=\"0\"\n",
    "psi_0 = np.zeros(basis.Ns)\n",
    "i_0 = basis.index(string)\n",
    "psi_0[i_0] = 1.\n"
   ]
  },
  {
   "cell_type": "code",
   "execution_count": 12,
   "id": "15933bc7",
   "metadata": {},
   "outputs": [
    {
     "name": "stdout",
     "output_type": "stream",
     "text": [
      "4002.0\n"
     ]
    }
   ],
   "source": [
    "#cost function of the initial state\n",
    "expt_value = 0\n",
    "matvec_h = full_ham_matrix@psi_0\n",
    "matvec_c = constraint_full_matrix@psi_0\n",
    "for i in range(basis.Ns):\n",
    "    expt_value += np.conj(psi_0[i])*(matvec_h[i]+matvec_c[i])\n",
    "print(np.real(expt_value))"
   ]
  },
  {
   "cell_type": "code",
   "execution_count": 13,
   "id": "18c10437",
   "metadata": {},
   "outputs": [
    {
     "name": "stdout",
     "output_type": "stream",
     "text": [
      "(2+0j)\n"
     ]
    }
   ],
   "source": [
    "expt_value = 0\n",
    "matvec = full_ham_matrix@psi_0\n",
    "for i in range(basis.Ns):\n",
    "    expt_value += np.conj(psi_0[i])*matvec[i]\n",
    "print(expt_value)"
   ]
  },
  {
   "cell_type": "code",
   "execution_count": 14,
   "id": "18e9ce83",
   "metadata": {},
   "outputs": [],
   "source": [
    "def clause(a,b,k,m,n):\n",
    "    zero = 0\n",
    "    m = int(m)\n",
    "    n = int(n)\n",
    "    for l in range(L):\n",
    "        if l == k:\n",
    "            if (int(a[l])!=m) | (int(b[l])!=n):\n",
    "                zero +=1\n",
    "        else:\n",
    "            if a[l]!=b[l]:\n",
    "                zero +=1\n",
    "    return zero\n"
   ]
  },
  {
   "cell_type": "code",
   "execution_count": 15,
   "id": "5f027415",
   "metadata": {},
   "outputs": [],
   "source": [
    "#initialisation of the equatorial rotation sigma matrices \n",
    "sigma_01_temp = [np.zeros((basis.Ns,basis.Ns),dtype = complex) for i in range(L)]\n",
    "sigma_12_temp = [np.zeros((basis.Ns,basis.Ns),dtype = complex) for i in range(L)]\n",
    "sigma_02_temp = [np.zeros((basis.Ns,basis.Ns),dtype = complex) for i in range(L)]\n",
    "\n",
    "sigma_z_01_temp = [np.zeros((basis.Ns,basis.Ns),dtype = complex) for i in range(L)]\n",
    "sigma_z_12_temp = [np.zeros((basis.Ns,basis.Ns),dtype = complex) for i in range(L)]\n",
    "sigma_z_02_temp = [np.zeros((basis.Ns,basis.Ns),dtype = complex) for i in range(L)]\n",
    "\n",
    "\n",
    "for k in range(L):\n",
    "    for i in range(basis.Ns):\n",
    "        for j in range(basis.Ns):\n",
    "\n",
    "            string_i = basis.int_to_state(basis.Ns-i-1,bracket_notation=False)\n",
    "            string_j = basis.int_to_state(basis.Ns-j-1,bracket_notation=False)\n",
    "            \n",
    "            if (clause(string_i,string_j,k,0,1)==0):\n",
    "                sigma_01_temp[k][i][j] = 0.5\n",
    "            if (clause(string_i,string_j,k,1,0)==0):\n",
    "                sigma_01_temp[k][i][j] = 0.5\n",
    "                \n",
    "            if (clause(string_i,string_j,k,1,2)==0):\n",
    "                sigma_12_temp[k][i][j] = 0.5\n",
    "            if (clause(string_i,string_j,k,2,1)==0):\n",
    "                sigma_12_temp[k][i][j] = 0.5\n",
    "                \n",
    "            if (clause(string_i,string_j,k,0,2)==0):\n",
    "                sigma_02_temp[k][i][j] = 0.5\n",
    "            if (clause(string_i,string_j,k,2,0)==0):\n",
    "                sigma_02_temp[k][i][j] = 0.5\n",
    "                \n",
    "            if (clause(string_i,string_j,k,0,0)==0):\n",
    "                sigma_z_01_temp[k][i][j] = -1.\n",
    "                sigma_z_02_temp[k][i][j] = -1.\n",
    "                \n",
    "            if (clause(string_i,string_j,k,1,1)==0):\n",
    "                sigma_z_01_temp[k][i][j] = 1.\n",
    "                sigma_z_12_temp[k][i][j] = -1.\n",
    "\n",
    "            if (clause(string_i,string_j,k,2,2)==0):\n",
    "                sigma_z_02_temp[k][i][j] = 1.\n",
    "                sigma_z_12_temp[k][i][j] = 1.\n",
    "\n",
    "\n",
    "sigma_01 = np.zeros((basis.Ns,basis.Ns),dtype = complex)\n",
    "sigma_12 = np.zeros((basis.Ns,basis.Ns),dtype = complex)\n",
    "sigma_02 = np.zeros((basis.Ns,basis.Ns),dtype = complex)\n",
    "\n",
    "sigma_z_01 = np.zeros((basis.Ns,basis.Ns),dtype = complex)\n",
    "sigma_z_12 = np.zeros((basis.Ns,basis.Ns),dtype = complex)\n",
    "sigma_z_02 = np.zeros((basis.Ns,basis.Ns),dtype = complex)\n",
    "\n",
    "for i in range(L):\n",
    "    sigma_01 +=sigma_01_temp[i]\n",
    "    sigma_12 +=sigma_12_temp[i]\n",
    "    sigma_02 +=sigma_02_temp[i]\n",
    "    sigma_z_01 +=sigma_z_01_temp[i]\n",
    "    sigma_z_12 +=sigma_z_12_temp[i]\n",
    "    sigma_z_02 +=sigma_z_02_temp[i]    \n"
   ]
  },
  {
   "cell_type": "code",
   "execution_count": 16,
   "id": "636ef716",
   "metadata": {},
   "outputs": [],
   "source": [
    "#initialisation of the Molmer-Sorensen gates\n",
    "ms_01_temp = [np.zeros((basis.Ns,basis.Ns),dtype = complex) for i in range(L-1)]\n",
    "ms_12_temp = [np.zeros((basis.Ns,basis.Ns),dtype = complex) for i in range(L-1)]\n",
    "ms_02_temp = [np.zeros((basis.Ns,basis.Ns),dtype = complex) for i in range(L-1)]\n",
    "\n",
    "for i in range(L-1):\n",
    "    ms_01_temp[i] = ((sigma_01_temp[i]+sigma_01_temp[i+1])**2)/2  \n",
    "    ms_12_temp[i] = ((sigma_12_temp[i]+sigma_12_temp[i+1])**2)/2  \n",
    "    ms_02_temp[i] = ((sigma_02_temp[i]+sigma_02_temp[i+1])**2)/2  \n",
    "    \n",
    "ms_01 = np.zeros((basis.Ns,basis.Ns),dtype = complex)\n",
    "ms_12 = np.zeros((basis.Ns,basis.Ns),dtype = complex)\n",
    "ms_02 = np.zeros((basis.Ns,basis.Ns),dtype = complex)\n",
    "\n",
    "for i in range(L-1):\n",
    "    ms_01 +=ms_01_temp[i]\n",
    "    ms_12 +=ms_12_temp[i]\n",
    "    ms_02 +=ms_02_temp[i]"
   ]
  },
  {
   "cell_type": "code",
   "execution_count": 17,
   "id": "35beec24",
   "metadata": {},
   "outputs": [
    {
     "name": "stdout",
     "output_type": "stream",
     "text": [
      "False\n"
     ]
    }
   ],
   "source": [
    "print(np.allclose(sigma_z_12_temp[0]@sigma_01_temp[0],sigma_01_temp[0]@sigma_z_12_temp[0],atol = 1e-8,rtol=1e-8))"
   ]
  },
  {
   "cell_type": "code",
   "execution_count": 18,
   "id": "93e9e2e5",
   "metadata": {},
   "outputs": [],
   "source": [
    "def rot(sigma,theta):\n",
    "    return expm(-1j*theta*sigma/2)"
   ]
  },
  {
   "cell_type": "code",
   "execution_count": 40,
   "id": "e8f30912",
   "metadata": {},
   "outputs": [],
   "source": [
    "opt_params = []\n",
    "function_values = []\n",
    "def callback_function(x,fun,context):\n",
    "    opt_params.append(x)\n",
    "    function_values.append(fun)\n"
   ]
  },
  {
   "cell_type": "code",
   "execution_count": 45,
   "id": "c4c9af24",
   "metadata": {},
   "outputs": [],
   "source": [
    "#cost function definition\n",
    "def cost_function_sigma(theta,psi,N):\n",
    "    if len(theta)!=6*N+3:\n",
    "        print(\"Warning: The number of variational parameters does not match the number of layers!\")\n",
    "    psi_var = psi\n",
    "    for i in range(N):\n",
    "        psi_var = rot(ms_02,theta[6*i+5])@rot(ms_12,theta[6*i+4])@rot(ms_01,theta[6*i+3])@rot(sigma_02,theta[6*i+2])@rot(sigma_12,theta[6*i+1])@rot(sigma_01,theta[6*i])@psi_var\n",
    "    psi_var = rot(sigma_02,theta[6*N+2])@rot(sigma_12,theta[6*N+1])@rot(sigma_01,theta[6*N])@psi_var\n",
    "    expt_value = 0\n",
    "    matvec = full_ham_matrix@psi_var\n",
    "    for i in range(basis.Ns):\n",
    "        expt_value += np.conj(psi_var[i])*matvec[i]\n",
    "    cost = expt_value\n",
    "    return np.real(cost)"
   ]
  },
  {
   "cell_type": "code",
   "execution_count": 46,
   "id": "9f2e45ec",
   "metadata": {},
   "outputs": [
    {
     "name": "stdout",
     "output_type": "stream",
     "text": [
      "2022-02-27 20:31:28.371295\n",
      "2022-02-27 20:37:12.105359\n"
     ]
    }
   ],
   "source": [
    "#optimisation algorithm\n",
    "from scipy.optimize import minimize,dual_annealing\n",
    "import datetime\n",
    "duan_ranges = []\n",
    "for i in range(6*N+3):\n",
    "    duan_ranges.append((-10,10)) \n",
    "resduan = 0\n",
    "print(datetime.datetime.now())\n",
    "resduan = dual_annealing(cost_function_sigma, duan_ranges, args = (psi_0,N),maxiter = 1000,callback = callback_function )\n",
    "print(datetime.datetime.now())\n"
   ]
  },
  {
   "cell_type": "code",
   "execution_count": 47,
   "id": "1591ca5c",
   "metadata": {},
   "outputs": [
    {
     "name": "stdout",
     "output_type": "stream",
     "text": [
      "-0.5337821284361343\n",
      "[-3.09428005  3.53001137 -4.3820812   0.0373266   4.14544425 10.\n",
      " -3.62545496 -2.17638647 10.        ]\n",
      "1000\n"
     ]
    }
   ],
   "source": [
    "#results\n",
    "print(resduan.fun)\n",
    "print(resduan.x)\n",
    "print(resduan.nit)"
   ]
  },
  {
   "cell_type": "code",
   "execution_count": 48,
   "id": "e423f15e",
   "metadata": {},
   "outputs": [
    {
     "name": "stdout",
     "output_type": "stream",
     "text": [
      "0.7286763804334213\n",
      "0.9999999999999988\n"
     ]
    }
   ],
   "source": [
    "#fidelity of the result\n",
    "theta = resduan.x\n",
    "psi = psi_0\n",
    "\n",
    "psi_var = psi_0\n",
    "for i in range(N):\n",
    "    psi_var = rot(ms_02,theta[6*i+5])@rot(ms_12,theta[6*i+4])@rot(ms_01,theta[6*i+3])@rot(sigma_02,theta[6*i+2])@rot(sigma_12,theta[6*i+1])@rot(sigma_01,theta[6*i])@psi_var\n",
    "psi_var = rot(sigma_02,theta[6*N+2])@rot(sigma_12,theta[6*N+1])@rot(sigma_01,theta[6*N])@psi_var\n",
    "\n",
    "print(np.abs(np.dot(np.conj(psi_var),eigenvectors[:,0]))**2)\n",
    "#print(psi_var)\n",
    "print(np.abs(np.dot(np.conj(psi_var),psi_var)))\n"
   ]
  },
  {
   "cell_type": "code",
   "execution_count": 177,
   "id": "6a6114f6",
   "metadata": {},
   "outputs": [],
   "source": [
    "Energy[3] = resduan.fun\n",
    "Fidelity[3] = np.abs(np.dot(np.conj(psi_var),eigenvec[:,0]))**2"
   ]
  },
  {
   "cell_type": "code",
   "execution_count": 178,
   "id": "efefd284",
   "metadata": {},
   "outputs": [
    {
     "name": "stdout",
     "output_type": "stream",
     "text": [
      "[-0.66104042 -0.80008306 -0.80079807  0.          0.        ] [0.69923925 0.8206883  0.82184009 0.         0.        ]\n"
     ]
    }
   ],
   "source": [
    "print(Energy,Fidelity)"
   ]
  },
  {
   "cell_type": "code",
   "execution_count": null,
   "id": "3451cbf7",
   "metadata": {},
   "outputs": [],
   "source": []
  },
  {
   "cell_type": "code",
   "execution_count": 131,
   "id": "b1082293",
   "metadata": {},
   "outputs": [],
   "source": [
    "Energy = np.zeros(5)\n",
    "Fidelity = np.zeros(5)"
   ]
  }
 ],
 "metadata": {
  "kernelspec": {
   "display_name": "Python 3",
   "language": "python",
   "name": "python3"
  },
  "language_info": {
   "codemirror_mode": {
    "name": "ipython",
    "version": 3
   },
   "file_extension": ".py",
   "mimetype": "text/x-python",
   "name": "python",
   "nbconvert_exporter": "python",
   "pygments_lexer": "ipython3",
   "version": "3.8.8"
  }
 },
 "nbformat": 4,
 "nbformat_minor": 5
}
